{
  "nbformat": 4,
  "nbformat_minor": 0,
  "metadata": {
    "colab": {
      "provenance": [],
      "authorship_tag": "ABX9TyPeheI/VAydQnbG3xKOu+S+",
      "include_colab_link": true
    },
    "kernelspec": {
      "name": "python3",
      "display_name": "Python 3"
    },
    "language_info": {
      "name": "python"
    }
  },
  "cells": [
    {
      "cell_type": "markdown",
      "metadata": {
        "id": "view-in-github",
        "colab_type": "text"
      },
      "source": [
        "<a href=\"https://colab.research.google.com/github/Alexandre77777/data_mining/blob/main/6.%20%D0%9B%D0%B8%D0%BD%D0%B5%D0%B9%D0%BD%D0%B0%D1%8F%20%D0%B8%20%D0%BB%D0%BE%D0%B3%D0%B8%D1%81%D1%82%D0%B8%D1%87%D0%B5%D1%81%D0%BA%D0%B0%D1%8F%20%D1%80%D0%B5%D0%B3%D1%80%D0%B5%D1%81%D1%81%D0%B8%D1%8F/%D0%9F%D1%80%D0%B0%D0%BA%D1%82%D0%B8%D0%BA%D0%B0/%D0%9F%D1%80%D0%B0%D0%BA%D1%82%D0%B8%D1%87%D0%B5%D1%81%D0%BA%D0%B0%D1%8F_%D1%80%D0%B0%D0%B1%D0%BE%D1%82%D0%B0_%E2%84%968_%D0%9B%D0%B8%D0%BD%D0%B5%D0%B9%D0%BD%D0%B0%D1%8F_%D0%B8_%D0%BB%D0%BE%D0%B3%D0%B8%D1%81%D1%82%D0%B8%D1%87%D0%B5%D1%81%D0%BA%D0%B0%D1%8F_%D1%80%D0%B5%D0%B3%D1%80%D0%B5%D1%81%D1%81%D0%B8%D1%8F.ipynb\" target=\"_parent\"><img src=\"https://colab.research.google.com/assets/colab-badge.svg\" alt=\"Open In Colab\"/></a>"
      ]
    },
    {
      "cell_type": "markdown",
      "source": [
        "# **Практическая работа №8. Линейная и логистическая регрессия**"
      ],
      "metadata": {
        "id": "5TI9uvSY4dzN"
      }
    },
    {
      "cell_type": "markdown",
      "source": [
        "## **Линейная регрессия**\n"
      ],
      "metadata": {
        "id": "9OEqXBMr4nN_"
      }
    },
    {
      "cell_type": "markdown",
      "source": [
        "###  **Задание №1. Прогнозирование продаж автомобилей**:\n"
      ],
      "metadata": {
        "id": "vrQuM6124sFZ"
      }
    },
    {
      "cell_type": "markdown",
      "source": [
        "   - **Шаг 1**: Загрузите набор данных о продажах автомобилей, содержащий информацию о цене, возрасте, пробеге и других характеристиках.\n",
        "     - **Совет**: Проверьте данные на наличие пропущенных значений и выбросов. Используйте `pandas` для обнаружения пропусков (`df.isnull().sum()`) и выбросов (например, с помощью метода межквартильного размаха - `df.boxplot()`).\n",
        "     - **Совет**: Для пропущенных значений используйте стратегию заполнения средними значениями или медианой, чтобы минимизировать влияние на распределение данных (`df.fillna()`)."
      ],
      "metadata": {
        "id": "H3KQjcKT4tlH"
      }
    },
    {
      "cell_type": "markdown",
      "source": [
        "- Ссылка на набор данных: https://www.kaggle.com/datasets/gagandeep16/car-sales"
      ],
      "metadata": {
        "id": "bOKg5_qT5Xz-"
      }
    },
    {
      "cell_type": "code",
      "source": [
        "# Ваш код"
      ],
      "metadata": {
        "id": "R5Tltfza4vG0"
      },
      "execution_count": null,
      "outputs": []
    },
    {
      "cell_type": "markdown",
      "source": [
        "   - **Шаг 2**: Проведите предварительный анализ данных:\n",
        "     - Постройте гистограммы для каждого числового признака, чтобы понять их распределение.\n",
        "     - Постройте диаграммы рассеяния для выявления зависимостей между признаками и целевой переменной (ценой).\n",
        "     - **Совет**: Используйте корреляционную матрицу для выявления сильных линейных зависимостей между признаками."
      ],
      "metadata": {
        "id": "RJE5H1vZ4wib"
      }
    },
    {
      "cell_type": "code",
      "source": [
        "# Ваш код"
      ],
      "metadata": {
        "id": "ODYTpTp44wo2"
      },
      "execution_count": null,
      "outputs": []
    },
    {
      "cell_type": "markdown",
      "source": [
        "   - **Шаг 3**: Разделите данные на обучающую и тестовую выборки (например, 70% на обучение и 30% на тестирование) с помощью `train_test_split` из `sklearn.model_selection`."
      ],
      "metadata": {
        "id": "2GQ0hZRm4wtg"
      }
    },
    {
      "cell_type": "code",
      "source": [
        "# Ваш код"
      ],
      "metadata": {
        "id": "mwspw1e94wx_"
      },
      "execution_count": null,
      "outputs": []
    },
    {
      "cell_type": "markdown",
      "source": [
        "   - **Шаг 4**: Постройте модель линейной регрессии для предсказания цены автомобиля.\n",
        "     - Используйте библиотеку `scikit-learn` для создания и обучения модели с помощью `LinearRegression`."
      ],
      "metadata": {
        "id": "URvne-cR4w3D"
      }
    },
    {
      "cell_type": "code",
      "source": [
        "# Ваш код"
      ],
      "metadata": {
        "id": "hy508O6r4w_e"
      },
      "execution_count": null,
      "outputs": []
    },
    {
      "cell_type": "markdown",
      "source": [
        "   - **Шаг 5**: Оцените качество модели с использованием метрик MSE и R².\n",
        "     - Выведите значения метрик и интерпретируйте их. Обратите внимание на то, насколько хорошо ваша модель предсказывает цены."
      ],
      "metadata": {
        "id": "Wsk3sTcA4xFA"
      }
    },
    {
      "cell_type": "code",
      "source": [
        "# Ваш код"
      ],
      "metadata": {
        "id": "3WsyOtgG4xKQ"
      },
      "execution_count": null,
      "outputs": []
    },
    {
      "cell_type": "markdown",
      "source": [
        "   - **Шаг 6**: Визуализируйте результаты:\n",
        "     - Постройте график зависимости предсказанных цен от фактических."
      ],
      "metadata": {
        "id": "7TACOjIs4qLf"
      }
    },
    {
      "cell_type": "code",
      "source": [
        "# Ваш код"
      ],
      "metadata": {
        "id": "I3XagXit48pC"
      },
      "execution_count": null,
      "outputs": []
    },
    {
      "cell_type": "markdown",
      "source": [
        "\n",
        "### **Задание №2. Влияние погодных условий на урожайность**:\n"
      ],
      "metadata": {
        "id": "xrRz2dCx7mLZ"
      }
    },
    {
      "cell_type": "markdown",
      "source": [
        "   - **Шаг 1**: Загрузите набор данных о погодных условиях и урожайности сельскохозяйственных культур.\n",
        "     - **Совет**: Проверьте данные на наличие пропущенных значений и выбросов. Используйте стратегию заполнения пропусков средними значениями или медианой."
      ],
      "metadata": {
        "id": "cUZrr7_47muS"
      }
    },
    {
      "cell_type": "markdown",
      "source": [
        "- Ссылка на набор данных: https://www.kaggle.com/datasets/waqi786/climate-change-impact-on-agriculture"
      ],
      "metadata": {
        "id": "WeayrpiH9tQq"
      }
    },
    {
      "cell_type": "code",
      "source": [
        "# Ваш код"
      ],
      "metadata": {
        "id": "hv2I2mPM7pKW"
      },
      "execution_count": null,
      "outputs": []
    },
    {
      "cell_type": "markdown",
      "source": [
        "   - **Шаг 2**: Выполните анализ данных:\n",
        "     - Постройте корреляционную матрицу для выявления зависимостей между признаками.\n",
        "     - Постройте диаграммы рассеяния для ключевых признаков.\n",
        "     - **Совет**: Удалите или преобразуйте признаки с низкой корреляцией с целевой переменной, чтобы улучшить модель."
      ],
      "metadata": {
        "id": "rgmhjYbW7pQY"
      }
    },
    {
      "cell_type": "code",
      "source": [
        "# Ваш код"
      ],
      "metadata": {
        "id": "f9MlkB697pVt"
      },
      "execution_count": null,
      "outputs": []
    },
    {
      "cell_type": "markdown",
      "source": [
        "   - **Шаг 3**: Разделите данные на обучающую и тестовую выборки."
      ],
      "metadata": {
        "id": "xmywC4iw7pbU"
      }
    },
    {
      "cell_type": "code",
      "source": [
        "# Ваш код"
      ],
      "metadata": {
        "id": "o_ClvP697pg-"
      },
      "execution_count": null,
      "outputs": []
    },
    {
      "cell_type": "markdown",
      "source": [
        "   - **Шаг 4**: Постройте модель линейной регрессии для оценки влияния температуры и уровня осадков на урожайность.\n",
        "     - Используйте библиотеку `scikit-learn` для создания и обучения модели."
      ],
      "metadata": {
        "id": "h8IGHDnh7pmD"
      }
    },
    {
      "cell_type": "code",
      "source": [
        "# Ваш код"
      ],
      "metadata": {
        "id": "tmFuCgW87pqt"
      },
      "execution_count": null,
      "outputs": []
    },
    {
      "cell_type": "markdown",
      "source": [
        "   - **Шаг 5**: Проведите оценку точности модели.\n",
        "     - Выведите значения метрик MSE и R² и интерпретируйте их."
      ],
      "metadata": {
        "id": "dzYnK07X7yM-"
      }
    },
    {
      "cell_type": "code",
      "source": [
        "# Ваш код"
      ],
      "metadata": {
        "id": "vBEBjbok7yS-"
      },
      "execution_count": null,
      "outputs": []
    },
    {
      "cell_type": "markdown",
      "source": [
        "   - **Шаг 6**: Визуализируйте данные и результаты модели:\n",
        "     - Постройте график зависимости предсказанных значений от фактических."
      ],
      "metadata": {
        "id": "ezA-KH1R7yXG"
      }
    },
    {
      "cell_type": "code",
      "source": [
        "# Ваш код"
      ],
      "metadata": {
        "id": "4qsfUVNx7yd0"
      },
      "execution_count": null,
      "outputs": []
    },
    {
      "cell_type": "markdown",
      "source": [
        "## **Логистическая регрессия**\n"
      ],
      "metadata": {
        "id": "sbCKBEcL7yjZ"
      }
    },
    {
      "cell_type": "markdown",
      "source": [
        "### **Задание №3. Классификация клиентов банка**:\n"
      ],
      "metadata": {
        "id": "2EWeI81r835M"
      }
    },
    {
      "cell_type": "markdown",
      "source": [
        "   - **Шаг 1**: Загрузите набор данных о клиентах банка, включающий данные о возрасте, доходе, кредитной истории и других характеристиках.\n",
        "     - **Совет**: Проверьте данные на наличие пропущенных значений и выбросов. Используйте стратегию заполнения пропусков средними значениями или медианой."
      ],
      "metadata": {
        "id": "S7OAU7079LL5"
      }
    },
    {
      "cell_type": "markdown",
      "source": [
        "- Ссылка на набор данных: https://www.kaggle.com/datasets/henriqueyamahata/bank-marketing/data"
      ],
      "metadata": {
        "id": "obFh1UfrDSbH"
      }
    },
    {
      "cell_type": "code",
      "source": [
        "# Ваш код"
      ],
      "metadata": {
        "id": "A2DHMZ7n9LqR"
      },
      "execution_count": null,
      "outputs": []
    },
    {
      "cell_type": "markdown",
      "source": [
        "   - **Шаг 2**: Проведите анализ данных и предобработку:\n",
        "     - Закодируйте категориальные переменные с помощью `OneHotEncoder` или `pd.get_dummies`.\n",
        "     - Нормализуйте числовые признаки с помощью `StandardScaler` для улучшения обучения модели.\n",
        "     - **Совет**: Убедитесь, что все признаки имеют одинаковый масштаб, чтобы избежать доминирования одного признака над другими."
      ],
      "metadata": {
        "id": "VyvV7BRg9L0I"
      }
    },
    {
      "cell_type": "code",
      "source": [
        "# Ваш код"
      ],
      "metadata": {
        "id": "3H3E_pKn9L5l"
      },
      "execution_count": null,
      "outputs": []
    },
    {
      "cell_type": "markdown",
      "source": [
        "   - **Шаг 3**: Разделите данные на обучающую и тестовую выборки.\n"
      ],
      "metadata": {
        "id": "h6IvIbN49L-q"
      }
    },
    {
      "cell_type": "code",
      "source": [
        "# Ваш код"
      ],
      "metadata": {
        "id": "aSVAAeFl9MDX"
      },
      "execution_count": null,
      "outputs": []
    },
    {
      "cell_type": "markdown",
      "source": [
        "   - **Шаг 4**: Постройте модель логистической регрессии для предсказания вероятности открытия депозитного счета клиентом.\n",
        "     - Используйте библиотеку `scikit-learn` для создания и обучения модели с помощью `LogisticRegression`."
      ],
      "metadata": {
        "id": "HIpy0GAN9MHy"
      }
    },
    {
      "cell_type": "code",
      "source": [
        "# Ваш код"
      ],
      "metadata": {
        "id": "RwXj5IO59MMH"
      },
      "execution_count": null,
      "outputs": []
    },
    {
      "cell_type": "markdown",
      "source": [
        "   - **Шаг 5**: Оцените качество модели с использованием метрик точности, полноты и F1-меры.\n",
        "     - Выведите значения метрик и интерпретируйте их. Обратите внимание на баланс между точностью и полнотой.\n",
        "    - Постройте матрицу ошибок с помощью `confusion_matrix` и визуализируйте ее с помощью `seaborn.heatmap`."
      ],
      "metadata": {
        "id": "o8tqeg_29Wj6"
      }
    },
    {
      "cell_type": "code",
      "source": [
        "# Ваш код"
      ],
      "metadata": {
        "id": "4cVCB_FA9Xr1"
      },
      "execution_count": null,
      "outputs": []
    },
    {
      "cell_type": "markdown",
      "source": [
        "\n",
        "\n",
        "   \n",
        "\n",
        "   \n",
        "   \n",
        "\n",
        "   \n",
        "\n",
        "   \n",
        "   - **Шаг 6**: Визуализируйте ROC-кривую и вычислите AUC для оценки модели.\n",
        "     - Используйте `roc_curve` и `auc` из `sklearn.metrics` для построения и расчета."
      ],
      "metadata": {
        "id": "q4h0DiNT8pCp"
      }
    },
    {
      "cell_type": "code",
      "source": [
        "# Ваш код"
      ],
      "metadata": {
        "id": "4iXFwodu7ypZ"
      },
      "execution_count": null,
      "outputs": []
    },
    {
      "cell_type": "markdown",
      "source": [
        "### **Задание №4. Распознавание спама**:\n"
      ],
      "metadata": {
        "id": "K1og0TgO9BzN"
      }
    },
    {
      "cell_type": "markdown",
      "source": [
        "   - **Шаг 1**: Загрузите набор данных с текстами электронных писем, маркированных как \"спам\" или \"не спам\".\n",
        "     - **Совет**: Проверьте данные на наличие пропущенных значений и оцените, какие признаки могут быть важными для классификации."
      ],
      "metadata": {
        "id": "vYzK3KDd9ZbQ"
      }
    },
    {
      "cell_type": "markdown",
      "source": [
        "- Ссылка на набор данных: https://www.kaggle.com/datasets/uciml/sms-spam-collection-dataset"
      ],
      "metadata": {
        "id": "Na3lbnVHFF5N"
      }
    },
    {
      "cell_type": "code",
      "source": [
        "# Ваш код"
      ],
      "metadata": {
        "id": "OBjX9aNm9Z6q"
      },
      "execution_count": null,
      "outputs": []
    },
    {
      "cell_type": "markdown",
      "source": [
        "   - **Шаг 2**: Выполните предварительную обработку текстов:\n",
        "     - Выполните токенизацию и векторизацию с помощью `Word2Vec` или `Doc2Vec`."
      ],
      "metadata": {
        "id": "Rn2CRfns9aPL"
      }
    },
    {
      "cell_type": "code",
      "source": [
        "# Ваш код"
      ],
      "metadata": {
        "id": "GV0ZJrUS9aXc"
      },
      "execution_count": null,
      "outputs": []
    },
    {
      "cell_type": "markdown",
      "source": [
        "   - **Шаг 3**: Разделите данные на обучающую и тестовую выборки."
      ],
      "metadata": {
        "id": "1pdn-82W9aco"
      }
    },
    {
      "cell_type": "code",
      "source": [
        "# Ваш код"
      ],
      "metadata": {
        "id": "Un1pC9da9ag-"
      },
      "execution_count": null,
      "outputs": []
    },
    {
      "cell_type": "markdown",
      "source": [
        "   - **Шаг 4**: Постройте модель логистической регрессии для классификации писем на спам и не спам.\n",
        "     - Используйте библиотеку `scikit-learn` для создания и обучения модели с помощью `LogisticRegression`.\n",
        "     - Сравните результаты с моделью `MultinomialNB` *(Наивного Байеса)*"
      ],
      "metadata": {
        "id": "FEqXm5iD9ak0"
      }
    },
    {
      "cell_type": "code",
      "source": [
        "# Ваш код"
      ],
      "metadata": {
        "id": "0eSTeKY19fG8"
      },
      "execution_count": null,
      "outputs": []
    },
    {
      "cell_type": "markdown",
      "source": [
        "   - **Шаг 5**: Оцените качество моделей с помощью матрицы ошибок и ROC-кривой.\n",
        "     - Постройте матрицу ошибок с помощью `confusion_matrix` и визуализируйте ее с помощью `seaborn.heatmap`.\n",
        "     - Постройте ROC-кривую и вычислите AUC."
      ],
      "metadata": {
        "id": "uZc3jMEj9fUt"
      }
    },
    {
      "cell_type": "code",
      "source": [
        "# Ваш код"
      ],
      "metadata": {
        "id": "tpA9AwP59fcb"
      },
      "execution_count": null,
      "outputs": []
    },
    {
      "cell_type": "markdown",
      "source": [
        "   - **Шаг 6**: Визуализируйте результаты классификации и сравните их с исходными метками.\n",
        "     - Приведите примеры писем, которые были неправильно классифицированы, и напишите возможные причины ошибок."
      ],
      "metadata": {
        "id": "6kwsfKhMJgBk"
      }
    },
    {
      "cell_type": "code",
      "source": [
        "# Ваш код"
      ],
      "metadata": {
        "id": "006mNxWG9apA"
      },
      "execution_count": null,
      "outputs": []
    }
  ]
}