{
  "nbformat": 4,
  "nbformat_minor": 0,
  "metadata": {
    "colab": {
      "provenance": [],
      "toc_visible": true,
      "include_colab_link": true
    },
    "kernelspec": {
      "name": "python3",
      "display_name": "Python 3"
    },
    "language_info": {
      "name": "python"
    }
  },
  "cells": [
    {
      "cell_type": "markdown",
      "metadata": {
        "id": "view-in-github",
        "colab_type": "text"
      },
      "source": [
        "<a href=\"https://colab.research.google.com/github/Alexandre77777/data_mining/blob/main/3.%20%D0%9C%D0%B5%D1%82%D0%BE%D0%B4%20k-%D0%B1%D0%BB%D0%B8%D0%B6%D0%B0%D0%B9%D1%88%D0%B8%D1%85%20%D1%81%D0%BE%D1%81%D0%B5%D0%B4%D0%B5%D0%B9/%D0%9F%D1%80%D0%B0%D0%BA%D1%82%D0%B8%D1%87%D0%B5%D1%81%D0%BA%D0%B0%D1%8F%20%D1%80%D0%B0%D0%B1%D0%BE%D1%82%D0%B0%206.%20%D0%9C%D0%B5%D1%82%D0%BE%D0%B4_K_%D0%B1%D0%BB%D0%B8%D0%B6%D0%B0%D0%B9%D1%88%D0%B8%D1%85_%D1%81%D0%BE%D1%81%D0%B5%D0%B4%D0%B5%D0%B9.ipynb\" target=\"_parent\"><img src=\"https://colab.research.google.com/assets/colab-badge.svg\" alt=\"Open In Colab\"/></a>"
      ]
    },
    {
      "cell_type": "markdown",
      "source": [
        "# *K* ближайших соседей"
      ],
      "metadata": {
        "id": "YENBrjbPiQwC"
      }
    },
    {
      "cell_type": "markdown",
      "source": [
        "## [Ссылка на код с пары](https://colab.research.google.com/drive/1VCRO7GkMyCvmQIy1rzWpK1Wtueya1IFo?usp=sharing)"
      ],
      "metadata": {
        "id": "a-Yv7TEn3mnK"
      }
    },
    {
      "cell_type": "markdown",
      "source": [
        "## KNN для классификации"
      ],
      "metadata": {
        "id": "j-QTJXkcZTeA"
      }
    },
    {
      "cell_type": "markdown",
      "metadata": {
        "id": "RmcjY5KeviKG"
      },
      "source": [
        "### Получение данных\n",
        "\n",
        "Будем работать с набором данным `iris` из `sklearn`."
      ]
    },
    {
      "cell_type": "code",
      "source": [
        "from sklearn.datasets import load_iris\n",
        "import pandas as pd\n",
        "\n",
        "\n",
        "data = load_iris()\n",
        "\n",
        "X = pd.DataFrame(data['data'], columns=data['feature_names'])\n",
        "y = data['target']\n",
        "\n",
        "X.head()"
      ],
      "metadata": {
        "colab": {
          "base_uri": "https://localhost:8080/",
          "height": 206
        },
        "id": "zAT1q9GrZjK_",
        "outputId": "15184626-34b1-48ef-cd54-803728d6a3e8"
      },
      "execution_count": null,
      "outputs": [
        {
          "output_type": "execute_result",
          "data": {
            "text/plain": [
              "   sepal length (cm)  sepal width (cm)  petal length (cm)  petal width (cm)\n",
              "0                5.1               3.5                1.4               0.2\n",
              "1                4.9               3.0                1.4               0.2\n",
              "2                4.7               3.2                1.3               0.2\n",
              "3                4.6               3.1                1.5               0.2\n",
              "4                5.0               3.6                1.4               0.2"
            ],
            "text/html": [
              "\n",
              "  <div id=\"df-c450b998-de70-46e3-b6a0-c461eac9f422\">\n",
              "    <div class=\"colab-df-container\">\n",
              "      <div>\n",
              "<style scoped>\n",
              "    .dataframe tbody tr th:only-of-type {\n",
              "        vertical-align: middle;\n",
              "    }\n",
              "\n",
              "    .dataframe tbody tr th {\n",
              "        vertical-align: top;\n",
              "    }\n",
              "\n",
              "    .dataframe thead th {\n",
              "        text-align: right;\n",
              "    }\n",
              "</style>\n",
              "<table border=\"1\" class=\"dataframe\">\n",
              "  <thead>\n",
              "    <tr style=\"text-align: right;\">\n",
              "      <th></th>\n",
              "      <th>sepal length (cm)</th>\n",
              "      <th>sepal width (cm)</th>\n",
              "      <th>petal length (cm)</th>\n",
              "      <th>petal width (cm)</th>\n",
              "    </tr>\n",
              "  </thead>\n",
              "  <tbody>\n",
              "    <tr>\n",
              "      <th>0</th>\n",
              "      <td>5.1</td>\n",
              "      <td>3.5</td>\n",
              "      <td>1.4</td>\n",
              "      <td>0.2</td>\n",
              "    </tr>\n",
              "    <tr>\n",
              "      <th>1</th>\n",
              "      <td>4.9</td>\n",
              "      <td>3.0</td>\n",
              "      <td>1.4</td>\n",
              "      <td>0.2</td>\n",
              "    </tr>\n",
              "    <tr>\n",
              "      <th>2</th>\n",
              "      <td>4.7</td>\n",
              "      <td>3.2</td>\n",
              "      <td>1.3</td>\n",
              "      <td>0.2</td>\n",
              "    </tr>\n",
              "    <tr>\n",
              "      <th>3</th>\n",
              "      <td>4.6</td>\n",
              "      <td>3.1</td>\n",
              "      <td>1.5</td>\n",
              "      <td>0.2</td>\n",
              "    </tr>\n",
              "    <tr>\n",
              "      <th>4</th>\n",
              "      <td>5.0</td>\n",
              "      <td>3.6</td>\n",
              "      <td>1.4</td>\n",
              "      <td>0.2</td>\n",
              "    </tr>\n",
              "  </tbody>\n",
              "</table>\n",
              "</div>\n",
              "      <button class=\"colab-df-convert\" onclick=\"convertToInteractive('df-c450b998-de70-46e3-b6a0-c461eac9f422')\"\n",
              "              title=\"Convert this dataframe to an interactive table.\"\n",
              "              style=\"display:none;\">\n",
              "        \n",
              "  <svg xmlns=\"http://www.w3.org/2000/svg\" height=\"24px\"viewBox=\"0 0 24 24\"\n",
              "       width=\"24px\">\n",
              "    <path d=\"M0 0h24v24H0V0z\" fill=\"none\"/>\n",
              "    <path d=\"M18.56 5.44l.94 2.06.94-2.06 2.06-.94-2.06-.94-.94-2.06-.94 2.06-2.06.94zm-11 1L8.5 8.5l.94-2.06 2.06-.94-2.06-.94L8.5 2.5l-.94 2.06-2.06.94zm10 10l.94 2.06.94-2.06 2.06-.94-2.06-.94-.94-2.06-.94 2.06-2.06.94z\"/><path d=\"M17.41 7.96l-1.37-1.37c-.4-.4-.92-.59-1.43-.59-.52 0-1.04.2-1.43.59L10.3 9.45l-7.72 7.72c-.78.78-.78 2.05 0 2.83L4 21.41c.39.39.9.59 1.41.59.51 0 1.02-.2 1.41-.59l7.78-7.78 2.81-2.81c.8-.78.8-2.07 0-2.86zM5.41 20L4 18.59l7.72-7.72 1.47 1.35L5.41 20z\"/>\n",
              "  </svg>\n",
              "      </button>\n",
              "      \n",
              "  <style>\n",
              "    .colab-df-container {\n",
              "      display:flex;\n",
              "      flex-wrap:wrap;\n",
              "      gap: 12px;\n",
              "    }\n",
              "\n",
              "    .colab-df-convert {\n",
              "      background-color: #E8F0FE;\n",
              "      border: none;\n",
              "      border-radius: 50%;\n",
              "      cursor: pointer;\n",
              "      display: none;\n",
              "      fill: #1967D2;\n",
              "      height: 32px;\n",
              "      padding: 0 0 0 0;\n",
              "      width: 32px;\n",
              "    }\n",
              "\n",
              "    .colab-df-convert:hover {\n",
              "      background-color: #E2EBFA;\n",
              "      box-shadow: 0px 1px 2px rgba(60, 64, 67, 0.3), 0px 1px 3px 1px rgba(60, 64, 67, 0.15);\n",
              "      fill: #174EA6;\n",
              "    }\n",
              "\n",
              "    [theme=dark] .colab-df-convert {\n",
              "      background-color: #3B4455;\n",
              "      fill: #D2E3FC;\n",
              "    }\n",
              "\n",
              "    [theme=dark] .colab-df-convert:hover {\n",
              "      background-color: #434B5C;\n",
              "      box-shadow: 0px 1px 3px 1px rgba(0, 0, 0, 0.15);\n",
              "      filter: drop-shadow(0px 1px 2px rgba(0, 0, 0, 0.3));\n",
              "      fill: #FFFFFF;\n",
              "    }\n",
              "  </style>\n",
              "\n",
              "      <script>\n",
              "        const buttonEl =\n",
              "          document.querySelector('#df-c450b998-de70-46e3-b6a0-c461eac9f422 button.colab-df-convert');\n",
              "        buttonEl.style.display =\n",
              "          google.colab.kernel.accessAllowed ? 'block' : 'none';\n",
              "\n",
              "        async function convertToInteractive(key) {\n",
              "          const element = document.querySelector('#df-c450b998-de70-46e3-b6a0-c461eac9f422');\n",
              "          const dataTable =\n",
              "            await google.colab.kernel.invokeFunction('convertToInteractive',\n",
              "                                                     [key], {});\n",
              "          if (!dataTable) return;\n",
              "\n",
              "          const docLinkHtml = 'Like what you see? Visit the ' +\n",
              "            '<a target=\"_blank\" href=https://colab.research.google.com/notebooks/data_table.ipynb>data table notebook</a>'\n",
              "            + ' to learn more about interactive tables.';\n",
              "          element.innerHTML = '';\n",
              "          dataTable['output_type'] = 'display_data';\n",
              "          await google.colab.output.renderOutput(dataTable, element);\n",
              "          const docLink = document.createElement('div');\n",
              "          docLink.innerHTML = docLinkHtml;\n",
              "          element.appendChild(docLink);\n",
              "        }\n",
              "      </script>\n",
              "    </div>\n",
              "  </div>\n",
              "  "
            ]
          },
          "metadata": {},
          "execution_count": 1
        }
      ]
    },
    {
      "cell_type": "markdown",
      "source": [
        "### 1. KNN из sklearn"
      ],
      "metadata": {
        "id": "xOH9vcIRjQCD"
      }
    },
    {
      "cell_type": "markdown",
      "source": [
        "#### 1.1. Разбейте данные на обучение и тест"
      ],
      "metadata": {
        "id": "QemJi8jZaCBK"
      }
    },
    {
      "cell_type": "code",
      "source": [
        "# Ваш код здесь\n"
      ],
      "metadata": {
        "id": "om8oxSnUa6RI"
      },
      "execution_count": null,
      "outputs": []
    },
    {
      "cell_type": "markdown",
      "source": [
        "#### 1.2. Обучите модель KNN"
      ],
      "metadata": {
        "id": "ydb1Ob1YaHrg"
      }
    },
    {
      "cell_type": "code",
      "source": [
        "# Ваш код здесь\n"
      ],
      "metadata": {
        "id": "QJTeNUY-bJLr"
      },
      "execution_count": null,
      "outputs": []
    },
    {
      "cell_type": "markdown",
      "source": [
        "#### 1.3. Проверьте качество работы модели"
      ],
      "metadata": {
        "id": "PYE6TJB9aLc1"
      }
    },
    {
      "cell_type": "code",
      "source": [
        "# Ваш код здесь\n"
      ],
      "metadata": {
        "id": "vl-hj0XlbZCa"
      },
      "execution_count": null,
      "outputs": []
    },
    {
      "cell_type": "markdown",
      "source": [
        "#### 1.4. Поэкспериментируйте с количеством соседей\n",
        "\n",
        "1. Обучите модели с разным кол-вом соседей\n",
        "2. Посчитайте метрику на тестовой выборке\n",
        "3. Соберите данные в таблицу/график для наглядности\n",
        "4. Выберите самое оптимальное значение $k$"
      ],
      "metadata": {
        "id": "fCF__dT-absO"
      }
    },
    {
      "cell_type": "code",
      "source": [
        "# Ваш код здесь\n"
      ],
      "metadata": {
        "id": "UcKGXomMbs20"
      },
      "execution_count": null,
      "outputs": []
    },
    {
      "cell_type": "markdown",
      "source": [
        "### 2. KNN рукописный"
      ],
      "metadata": {
        "id": "qH3q0I8NjYMm"
      }
    },
    {
      "cell_type": "markdown",
      "source": [
        "#### 2.1. Возьмите два случайных тестовых объектов"
      ],
      "metadata": {
        "id": "Olg8V-N-fvOK"
      }
    },
    {
      "cell_type": "code",
      "source": [
        "# Ваш код здесь\n"
      ],
      "metadata": {
        "id": "ERnHFdEqf6zD"
      },
      "execution_count": null,
      "outputs": []
    },
    {
      "cell_type": "markdown",
      "source": [
        "#### 2.2. Посчитайте для каждого расстояния до всех объектов из обучения"
      ],
      "metadata": {
        "id": "dAnt1-TXgDMH"
      }
    },
    {
      "cell_type": "code",
      "source": [
        "# Ваш код здесь\n"
      ],
      "metadata": {
        "id": "2NCFr_LQf8U2"
      },
      "execution_count": null,
      "outputs": []
    },
    {
      "cell_type": "markdown",
      "source": [
        "#### 2.3. Выберите топ $k$ соседей для каждого объекта"
      ],
      "metadata": {
        "id": "SOUxgMKJhet8"
      }
    },
    {
      "cell_type": "code",
      "source": [
        "# Ваш код здесь\n"
      ],
      "metadata": {
        "id": "blONtQ5hf8qk"
      },
      "execution_count": null,
      "outputs": []
    },
    {
      "cell_type": "markdown",
      "source": [
        "#### 2.4. Выведите финальное предсказание для двух объектов основываясь на соседях"
      ],
      "metadata": {
        "id": "ZWEAPcdLh9u0"
      }
    },
    {
      "cell_type": "code",
      "source": [
        "# Ваш код здесь\n"
      ],
      "metadata": {
        "id": "pqLrhMoAiDB2"
      },
      "execution_count": null,
      "outputs": []
    },
    {
      "cell_type": "markdown",
      "source": [
        "#### 2.5. Сравните с настоящими целевыми значениями этих двух объектов"
      ],
      "metadata": {
        "id": "CUDu3i0aigbm"
      }
    },
    {
      "cell_type": "code",
      "source": [
        "# Ваш код здесь\n"
      ],
      "metadata": {
        "id": "CDjiYUWEifvj"
      },
      "execution_count": null,
      "outputs": []
    },
    {
      "cell_type": "markdown",
      "source": [
        "## KNN для регрессии"
      ],
      "metadata": {
        "id": "LA_DojJMZVG3"
      }
    },
    {
      "cell_type": "markdown",
      "source": [
        "### Получение данных\n"
      ],
      "metadata": {
        "id": "jNJDBamtj_sy"
      }
    },
    {
      "cell_type": "markdown",
      "metadata": {
        "id": "K9XUjue5M0Q8"
      },
      "source": [
        "Будем работать с набором данных для задачи регрессии - данные по предсказанию стоимости недвижимости."
      ]
    },
    {
      "cell_type": "code",
      "source": [
        "from sklearn.datasets import fetch_california_housing\n",
        "import pandas as pd\n",
        "import numpy as np\n",
        "\n",
        "\n",
        "data = fetch_california_housing()\n",
        "X = pd.DataFrame(data['data'], columns=data['feature_names'])\n",
        "y = data['target']\n",
        "\n",
        "X"
      ],
      "metadata": {
        "colab": {
          "base_uri": "https://localhost:8080/",
          "height": 424
        },
        "id": "J6JNfZQfe87Z",
        "outputId": "74ebccff-a983-42c1-b86b-b80c5a4fe991"
      },
      "execution_count": null,
      "outputs": [
        {
          "output_type": "execute_result",
          "data": {
            "text/plain": [
              "       MedInc  HouseAge  AveRooms  AveBedrms  Population  AveOccup  Latitude  \\\n",
              "0      8.3252      41.0  6.984127   1.023810       322.0  2.555556     37.88   \n",
              "1      8.3014      21.0  6.238137   0.971880      2401.0  2.109842     37.86   \n",
              "2      7.2574      52.0  8.288136   1.073446       496.0  2.802260     37.85   \n",
              "3      5.6431      52.0  5.817352   1.073059       558.0  2.547945     37.85   \n",
              "4      3.8462      52.0  6.281853   1.081081       565.0  2.181467     37.85   \n",
              "...       ...       ...       ...        ...         ...       ...       ...   \n",
              "20635  1.5603      25.0  5.045455   1.133333       845.0  2.560606     39.48   \n",
              "20636  2.5568      18.0  6.114035   1.315789       356.0  3.122807     39.49   \n",
              "20637  1.7000      17.0  5.205543   1.120092      1007.0  2.325635     39.43   \n",
              "20638  1.8672      18.0  5.329513   1.171920       741.0  2.123209     39.43   \n",
              "20639  2.3886      16.0  5.254717   1.162264      1387.0  2.616981     39.37   \n",
              "\n",
              "       Longitude  \n",
              "0        -122.23  \n",
              "1        -122.22  \n",
              "2        -122.24  \n",
              "3        -122.25  \n",
              "4        -122.25  \n",
              "...          ...  \n",
              "20635    -121.09  \n",
              "20636    -121.21  \n",
              "20637    -121.22  \n",
              "20638    -121.32  \n",
              "20639    -121.24  \n",
              "\n",
              "[20640 rows x 8 columns]"
            ],
            "text/html": [
              "\n",
              "  <div id=\"df-70d52ee7-087a-4a84-8044-9fd8a87de819\">\n",
              "    <div class=\"colab-df-container\">\n",
              "      <div>\n",
              "<style scoped>\n",
              "    .dataframe tbody tr th:only-of-type {\n",
              "        vertical-align: middle;\n",
              "    }\n",
              "\n",
              "    .dataframe tbody tr th {\n",
              "        vertical-align: top;\n",
              "    }\n",
              "\n",
              "    .dataframe thead th {\n",
              "        text-align: right;\n",
              "    }\n",
              "</style>\n",
              "<table border=\"1\" class=\"dataframe\">\n",
              "  <thead>\n",
              "    <tr style=\"text-align: right;\">\n",
              "      <th></th>\n",
              "      <th>MedInc</th>\n",
              "      <th>HouseAge</th>\n",
              "      <th>AveRooms</th>\n",
              "      <th>AveBedrms</th>\n",
              "      <th>Population</th>\n",
              "      <th>AveOccup</th>\n",
              "      <th>Latitude</th>\n",
              "      <th>Longitude</th>\n",
              "    </tr>\n",
              "  </thead>\n",
              "  <tbody>\n",
              "    <tr>\n",
              "      <th>0</th>\n",
              "      <td>8.3252</td>\n",
              "      <td>41.0</td>\n",
              "      <td>6.984127</td>\n",
              "      <td>1.023810</td>\n",
              "      <td>322.0</td>\n",
              "      <td>2.555556</td>\n",
              "      <td>37.88</td>\n",
              "      <td>-122.23</td>\n",
              "    </tr>\n",
              "    <tr>\n",
              "      <th>1</th>\n",
              "      <td>8.3014</td>\n",
              "      <td>21.0</td>\n",
              "      <td>6.238137</td>\n",
              "      <td>0.971880</td>\n",
              "      <td>2401.0</td>\n",
              "      <td>2.109842</td>\n",
              "      <td>37.86</td>\n",
              "      <td>-122.22</td>\n",
              "    </tr>\n",
              "    <tr>\n",
              "      <th>2</th>\n",
              "      <td>7.2574</td>\n",
              "      <td>52.0</td>\n",
              "      <td>8.288136</td>\n",
              "      <td>1.073446</td>\n",
              "      <td>496.0</td>\n",
              "      <td>2.802260</td>\n",
              "      <td>37.85</td>\n",
              "      <td>-122.24</td>\n",
              "    </tr>\n",
              "    <tr>\n",
              "      <th>3</th>\n",
              "      <td>5.6431</td>\n",
              "      <td>52.0</td>\n",
              "      <td>5.817352</td>\n",
              "      <td>1.073059</td>\n",
              "      <td>558.0</td>\n",
              "      <td>2.547945</td>\n",
              "      <td>37.85</td>\n",
              "      <td>-122.25</td>\n",
              "    </tr>\n",
              "    <tr>\n",
              "      <th>4</th>\n",
              "      <td>3.8462</td>\n",
              "      <td>52.0</td>\n",
              "      <td>6.281853</td>\n",
              "      <td>1.081081</td>\n",
              "      <td>565.0</td>\n",
              "      <td>2.181467</td>\n",
              "      <td>37.85</td>\n",
              "      <td>-122.25</td>\n",
              "    </tr>\n",
              "    <tr>\n",
              "      <th>...</th>\n",
              "      <td>...</td>\n",
              "      <td>...</td>\n",
              "      <td>...</td>\n",
              "      <td>...</td>\n",
              "      <td>...</td>\n",
              "      <td>...</td>\n",
              "      <td>...</td>\n",
              "      <td>...</td>\n",
              "    </tr>\n",
              "    <tr>\n",
              "      <th>20635</th>\n",
              "      <td>1.5603</td>\n",
              "      <td>25.0</td>\n",
              "      <td>5.045455</td>\n",
              "      <td>1.133333</td>\n",
              "      <td>845.0</td>\n",
              "      <td>2.560606</td>\n",
              "      <td>39.48</td>\n",
              "      <td>-121.09</td>\n",
              "    </tr>\n",
              "    <tr>\n",
              "      <th>20636</th>\n",
              "      <td>2.5568</td>\n",
              "      <td>18.0</td>\n",
              "      <td>6.114035</td>\n",
              "      <td>1.315789</td>\n",
              "      <td>356.0</td>\n",
              "      <td>3.122807</td>\n",
              "      <td>39.49</td>\n",
              "      <td>-121.21</td>\n",
              "    </tr>\n",
              "    <tr>\n",
              "      <th>20637</th>\n",
              "      <td>1.7000</td>\n",
              "      <td>17.0</td>\n",
              "      <td>5.205543</td>\n",
              "      <td>1.120092</td>\n",
              "      <td>1007.0</td>\n",
              "      <td>2.325635</td>\n",
              "      <td>39.43</td>\n",
              "      <td>-121.22</td>\n",
              "    </tr>\n",
              "    <tr>\n",
              "      <th>20638</th>\n",
              "      <td>1.8672</td>\n",
              "      <td>18.0</td>\n",
              "      <td>5.329513</td>\n",
              "      <td>1.171920</td>\n",
              "      <td>741.0</td>\n",
              "      <td>2.123209</td>\n",
              "      <td>39.43</td>\n",
              "      <td>-121.32</td>\n",
              "    </tr>\n",
              "    <tr>\n",
              "      <th>20639</th>\n",
              "      <td>2.3886</td>\n",
              "      <td>16.0</td>\n",
              "      <td>5.254717</td>\n",
              "      <td>1.162264</td>\n",
              "      <td>1387.0</td>\n",
              "      <td>2.616981</td>\n",
              "      <td>39.37</td>\n",
              "      <td>-121.24</td>\n",
              "    </tr>\n",
              "  </tbody>\n",
              "</table>\n",
              "<p>20640 rows × 8 columns</p>\n",
              "</div>\n",
              "      <button class=\"colab-df-convert\" onclick=\"convertToInteractive('df-70d52ee7-087a-4a84-8044-9fd8a87de819')\"\n",
              "              title=\"Convert this dataframe to an interactive table.\"\n",
              "              style=\"display:none;\">\n",
              "        \n",
              "  <svg xmlns=\"http://www.w3.org/2000/svg\" height=\"24px\"viewBox=\"0 0 24 24\"\n",
              "       width=\"24px\">\n",
              "    <path d=\"M0 0h24v24H0V0z\" fill=\"none\"/>\n",
              "    <path d=\"M18.56 5.44l.94 2.06.94-2.06 2.06-.94-2.06-.94-.94-2.06-.94 2.06-2.06.94zm-11 1L8.5 8.5l.94-2.06 2.06-.94-2.06-.94L8.5 2.5l-.94 2.06-2.06.94zm10 10l.94 2.06.94-2.06 2.06-.94-2.06-.94-.94-2.06-.94 2.06-2.06.94z\"/><path d=\"M17.41 7.96l-1.37-1.37c-.4-.4-.92-.59-1.43-.59-.52 0-1.04.2-1.43.59L10.3 9.45l-7.72 7.72c-.78.78-.78 2.05 0 2.83L4 21.41c.39.39.9.59 1.41.59.51 0 1.02-.2 1.41-.59l7.78-7.78 2.81-2.81c.8-.78.8-2.07 0-2.86zM5.41 20L4 18.59l7.72-7.72 1.47 1.35L5.41 20z\"/>\n",
              "  </svg>\n",
              "      </button>\n",
              "      \n",
              "  <style>\n",
              "    .colab-df-container {\n",
              "      display:flex;\n",
              "      flex-wrap:wrap;\n",
              "      gap: 12px;\n",
              "    }\n",
              "\n",
              "    .colab-df-convert {\n",
              "      background-color: #E8F0FE;\n",
              "      border: none;\n",
              "      border-radius: 50%;\n",
              "      cursor: pointer;\n",
              "      display: none;\n",
              "      fill: #1967D2;\n",
              "      height: 32px;\n",
              "      padding: 0 0 0 0;\n",
              "      width: 32px;\n",
              "    }\n",
              "\n",
              "    .colab-df-convert:hover {\n",
              "      background-color: #E2EBFA;\n",
              "      box-shadow: 0px 1px 2px rgba(60, 64, 67, 0.3), 0px 1px 3px 1px rgba(60, 64, 67, 0.15);\n",
              "      fill: #174EA6;\n",
              "    }\n",
              "\n",
              "    [theme=dark] .colab-df-convert {\n",
              "      background-color: #3B4455;\n",
              "      fill: #D2E3FC;\n",
              "    }\n",
              "\n",
              "    [theme=dark] .colab-df-convert:hover {\n",
              "      background-color: #434B5C;\n",
              "      box-shadow: 0px 1px 3px 1px rgba(0, 0, 0, 0.15);\n",
              "      filter: drop-shadow(0px 1px 2px rgba(0, 0, 0, 0.3));\n",
              "      fill: #FFFFFF;\n",
              "    }\n",
              "  </style>\n",
              "\n",
              "      <script>\n",
              "        const buttonEl =\n",
              "          document.querySelector('#df-70d52ee7-087a-4a84-8044-9fd8a87de819 button.colab-df-convert');\n",
              "        buttonEl.style.display =\n",
              "          google.colab.kernel.accessAllowed ? 'block' : 'none';\n",
              "\n",
              "        async function convertToInteractive(key) {\n",
              "          const element = document.querySelector('#df-70d52ee7-087a-4a84-8044-9fd8a87de819');\n",
              "          const dataTable =\n",
              "            await google.colab.kernel.invokeFunction('convertToInteractive',\n",
              "                                                     [key], {});\n",
              "          if (!dataTable) return;\n",
              "\n",
              "          const docLinkHtml = 'Like what you see? Visit the ' +\n",
              "            '<a target=\"_blank\" href=https://colab.research.google.com/notebooks/data_table.ipynb>data table notebook</a>'\n",
              "            + ' to learn more about interactive tables.';\n",
              "          element.innerHTML = '';\n",
              "          dataTable['output_type'] = 'display_data';\n",
              "          await google.colab.output.renderOutput(dataTable, element);\n",
              "          const docLink = document.createElement('div');\n",
              "          docLink.innerHTML = docLinkHtml;\n",
              "          element.appendChild(docLink);\n",
              "        }\n",
              "      </script>\n",
              "    </div>\n",
              "  </div>\n",
              "  "
            ]
          },
          "metadata": {},
          "execution_count": 12
        }
      ]
    },
    {
      "cell_type": "markdown",
      "source": [
        "### KNN из sklearn"
      ],
      "metadata": {
        "id": "6mFZp4bBkHkV"
      }
    },
    {
      "cell_type": "markdown",
      "source": [
        "#### 3.1. Разбейте данные на обучение и тест"
      ],
      "metadata": {
        "id": "4eGkDJBHjr9T"
      }
    },
    {
      "cell_type": "code",
      "source": [
        "# Ваш код здесь\n"
      ],
      "metadata": {
        "id": "0ccx6lMFjr9U"
      },
      "execution_count": null,
      "outputs": []
    },
    {
      "cell_type": "markdown",
      "source": [
        "Затем нормализуйте данные:"
      ],
      "metadata": {
        "id": "8w9kTLEShikZ"
      }
    },
    {
      "cell_type": "code",
      "source": [
        "from sklearn.preprocessing import MinMaxScaler\n",
        "\n",
        "mms = MinMaxScaler()\n",
        "mms.fit(X_train)\n",
        "\n",
        "X_train = pd.DataFrame(mms.transform(X_train[X_train.columns]), columns=X_train.columns)\n",
        "X_test = pd.DataFrame(mms.transform(X_test[X_train.columns]), columns=X_train.columns)"
      ],
      "metadata": {
        "id": "JcvWKRiAhiyI"
      },
      "execution_count": null,
      "outputs": []
    },
    {
      "cell_type": "markdown",
      "source": [
        "#### 3.2. Обучите модель KNN\n"
      ],
      "metadata": {
        "id": "65db5Xsnjr9V"
      }
    },
    {
      "cell_type": "code",
      "source": [
        "# Ваш код здесь"
      ],
      "metadata": {
        "id": "OpYmpcKDjr9V"
      },
      "execution_count": null,
      "outputs": []
    },
    {
      "cell_type": "markdown",
      "source": [
        "#### 3.3. Проверьте качество работы модели"
      ],
      "metadata": {
        "id": "YVuSPxoXjr9W"
      }
    },
    {
      "cell_type": "code",
      "source": [
        "# Ваш код здесь\n"
      ],
      "metadata": {
        "id": "rewJRYerjr9W"
      },
      "execution_count": null,
      "outputs": []
    },
    {
      "cell_type": "markdown",
      "source": [
        "#### 3.4. Поэкспериментируйте с количеством соседей\n",
        "\n",
        "1. Обучите модели с разным кол-вом соседей\n",
        "2. Посчитайте метрику на тестовой выборке\n",
        "3. Соберите данные в таблицу/график для наглядности\n",
        "4. Выберите самое оптимальное значение $k$"
      ],
      "metadata": {
        "id": "mVh6SMdljr9W"
      }
    },
    {
      "cell_type": "code",
      "source": [
        "# Ваш код здесь\n"
      ],
      "metadata": {
        "id": "NCXSEy3mjr9W"
      },
      "execution_count": null,
      "outputs": []
    },
    {
      "cell_type": "markdown",
      "source": [
        "### 4. KNN рукописный"
      ],
      "metadata": {
        "id": "Ue_XDtwIjr9Y"
      }
    },
    {
      "cell_type": "markdown",
      "source": [
        "#### 4.1. Возьмите два случайных тестовых объектов"
      ],
      "metadata": {
        "id": "dDRUfJYJjr9Y"
      }
    },
    {
      "cell_type": "code",
      "source": [
        "# Ваш код здесь\n"
      ],
      "metadata": {
        "id": "zFODuk3wjr9Y"
      },
      "execution_count": null,
      "outputs": []
    },
    {
      "cell_type": "markdown",
      "source": [
        "#### 4.2. Посчитайте для каждого расстояния до всех объектов из обучения"
      ],
      "metadata": {
        "id": "Hj-Iv0xHjr9Y"
      }
    },
    {
      "cell_type": "code",
      "source": [
        "# Ваш код здесь\n"
      ],
      "metadata": {
        "id": "NEYGWDl7jr9Y"
      },
      "execution_count": null,
      "outputs": []
    },
    {
      "cell_type": "markdown",
      "source": [
        "#### 4.3. Выберите топ $k$ соседей для каждого объекта"
      ],
      "metadata": {
        "id": "BROz3QgNjr9Y"
      }
    },
    {
      "cell_type": "code",
      "source": [
        "# Ваш код здесь\n"
      ],
      "metadata": {
        "id": "fEA62NsQjr9Z"
      },
      "execution_count": null,
      "outputs": []
    },
    {
      "cell_type": "markdown",
      "source": [
        "#### 4.4. Выведите финальное предсказание для двух объектов основываясь на соседях"
      ],
      "metadata": {
        "id": "DSzqjIACjr9Z"
      }
    },
    {
      "cell_type": "code",
      "source": [
        "# Ваш код здесь\n"
      ],
      "metadata": {
        "id": "lOXAr6Vhjr9Z"
      },
      "execution_count": null,
      "outputs": []
    },
    {
      "cell_type": "markdown",
      "source": [
        "#### 4.5. Сравните с настоящими целевыми значениями этих двух объектов"
      ],
      "metadata": {
        "id": "UaG14cI1jr9a"
      }
    },
    {
      "cell_type": "code",
      "source": [
        "# Ваш код здесь\n"
      ],
      "metadata": {
        "id": "iNKnVK1ojr9b"
      },
      "execution_count": null,
      "outputs": []
    },
    {
      "cell_type": "markdown",
      "source": [
        "Предсказания отклоняются от истины, но не так сильно, они довольно близки."
      ],
      "metadata": {
        "id": "krKG5ruPjr9b"
      }
    },
    {
      "cell_type": "markdown",
      "source": [
        "# Weighted KNN"
      ],
      "metadata": {
        "id": "A0b-BfZEf1JQ"
      }
    },
    {
      "cell_type": "markdown",
      "source": [
        "## KNN для классификации"
      ],
      "metadata": {
        "id": "759rXeRFf1Ja"
      }
    },
    {
      "cell_type": "markdown",
      "metadata": {
        "id": "3LkrhFC8QvOq"
      },
      "source": [
        "### Получение данных\n",
        "\n",
        "Будем работать с набором данным `iris` из `sklearn`."
      ]
    },
    {
      "cell_type": "code",
      "source": [
        "from sklearn.datasets import load_iris\n",
        "import pandas as pd\n",
        "\n",
        "\n",
        "data = load_iris()\n",
        "\n",
        "X = pd.DataFrame(data['data'], columns=data['feature_names'])\n",
        "y = data['target']\n",
        "\n",
        "X.head()"
      ],
      "metadata": {
        "colab": {
          "base_uri": "https://localhost:8080/",
          "height": 204
        },
        "outputId": "32e9f6b2-d9b6-4082-f251-6e20e7d88235",
        "id": "pDEf_L-lQvPA"
      },
      "execution_count": null,
      "outputs": [
        {
          "output_type": "execute_result",
          "data": {
            "text/plain": [
              "   sepal length (cm)  sepal width (cm)  petal length (cm)  petal width (cm)\n",
              "0                5.1               3.5                1.4               0.2\n",
              "1                4.9               3.0                1.4               0.2\n",
              "2                4.7               3.2                1.3               0.2\n",
              "3                4.6               3.1                1.5               0.2\n",
              "4                5.0               3.6                1.4               0.2"
            ],
            "text/html": [
              "\n",
              "  <div id=\"df-10ecc10a-0186-4474-9d1e-2a15a5cf6050\">\n",
              "    <div class=\"colab-df-container\">\n",
              "      <div>\n",
              "<style scoped>\n",
              "    .dataframe tbody tr th:only-of-type {\n",
              "        vertical-align: middle;\n",
              "    }\n",
              "\n",
              "    .dataframe tbody tr th {\n",
              "        vertical-align: top;\n",
              "    }\n",
              "\n",
              "    .dataframe thead th {\n",
              "        text-align: right;\n",
              "    }\n",
              "</style>\n",
              "<table border=\"1\" class=\"dataframe\">\n",
              "  <thead>\n",
              "    <tr style=\"text-align: right;\">\n",
              "      <th></th>\n",
              "      <th>sepal length (cm)</th>\n",
              "      <th>sepal width (cm)</th>\n",
              "      <th>petal length (cm)</th>\n",
              "      <th>petal width (cm)</th>\n",
              "    </tr>\n",
              "  </thead>\n",
              "  <tbody>\n",
              "    <tr>\n",
              "      <th>0</th>\n",
              "      <td>5.1</td>\n",
              "      <td>3.5</td>\n",
              "      <td>1.4</td>\n",
              "      <td>0.2</td>\n",
              "    </tr>\n",
              "    <tr>\n",
              "      <th>1</th>\n",
              "      <td>4.9</td>\n",
              "      <td>3.0</td>\n",
              "      <td>1.4</td>\n",
              "      <td>0.2</td>\n",
              "    </tr>\n",
              "    <tr>\n",
              "      <th>2</th>\n",
              "      <td>4.7</td>\n",
              "      <td>3.2</td>\n",
              "      <td>1.3</td>\n",
              "      <td>0.2</td>\n",
              "    </tr>\n",
              "    <tr>\n",
              "      <th>3</th>\n",
              "      <td>4.6</td>\n",
              "      <td>3.1</td>\n",
              "      <td>1.5</td>\n",
              "      <td>0.2</td>\n",
              "    </tr>\n",
              "    <tr>\n",
              "      <th>4</th>\n",
              "      <td>5.0</td>\n",
              "      <td>3.6</td>\n",
              "      <td>1.4</td>\n",
              "      <td>0.2</td>\n",
              "    </tr>\n",
              "  </tbody>\n",
              "</table>\n",
              "</div>\n",
              "      <button class=\"colab-df-convert\" onclick=\"convertToInteractive('df-10ecc10a-0186-4474-9d1e-2a15a5cf6050')\"\n",
              "              title=\"Convert this dataframe to an interactive table.\"\n",
              "              style=\"display:none;\">\n",
              "        \n",
              "  <svg xmlns=\"http://www.w3.org/2000/svg\" height=\"24px\"viewBox=\"0 0 24 24\"\n",
              "       width=\"24px\">\n",
              "    <path d=\"M0 0h24v24H0V0z\" fill=\"none\"/>\n",
              "    <path d=\"M18.56 5.44l.94 2.06.94-2.06 2.06-.94-2.06-.94-.94-2.06-.94 2.06-2.06.94zm-11 1L8.5 8.5l.94-2.06 2.06-.94-2.06-.94L8.5 2.5l-.94 2.06-2.06.94zm10 10l.94 2.06.94-2.06 2.06-.94-2.06-.94-.94-2.06-.94 2.06-2.06.94z\"/><path d=\"M17.41 7.96l-1.37-1.37c-.4-.4-.92-.59-1.43-.59-.52 0-1.04.2-1.43.59L10.3 9.45l-7.72 7.72c-.78.78-.78 2.05 0 2.83L4 21.41c.39.39.9.59 1.41.59.51 0 1.02-.2 1.41-.59l7.78-7.78 2.81-2.81c.8-.78.8-2.07 0-2.86zM5.41 20L4 18.59l7.72-7.72 1.47 1.35L5.41 20z\"/>\n",
              "  </svg>\n",
              "      </button>\n",
              "      \n",
              "  <style>\n",
              "    .colab-df-container {\n",
              "      display:flex;\n",
              "      flex-wrap:wrap;\n",
              "      gap: 12px;\n",
              "    }\n",
              "\n",
              "    .colab-df-convert {\n",
              "      background-color: #E8F0FE;\n",
              "      border: none;\n",
              "      border-radius: 50%;\n",
              "      cursor: pointer;\n",
              "      display: none;\n",
              "      fill: #1967D2;\n",
              "      height: 32px;\n",
              "      padding: 0 0 0 0;\n",
              "      width: 32px;\n",
              "    }\n",
              "\n",
              "    .colab-df-convert:hover {\n",
              "      background-color: #E2EBFA;\n",
              "      box-shadow: 0px 1px 2px rgba(60, 64, 67, 0.3), 0px 1px 3px 1px rgba(60, 64, 67, 0.15);\n",
              "      fill: #174EA6;\n",
              "    }\n",
              "\n",
              "    [theme=dark] .colab-df-convert {\n",
              "      background-color: #3B4455;\n",
              "      fill: #D2E3FC;\n",
              "    }\n",
              "\n",
              "    [theme=dark] .colab-df-convert:hover {\n",
              "      background-color: #434B5C;\n",
              "      box-shadow: 0px 1px 3px 1px rgba(0, 0, 0, 0.15);\n",
              "      filter: drop-shadow(0px 1px 2px rgba(0, 0, 0, 0.3));\n",
              "      fill: #FFFFFF;\n",
              "    }\n",
              "  </style>\n",
              "\n",
              "      <script>\n",
              "        const buttonEl =\n",
              "          document.querySelector('#df-10ecc10a-0186-4474-9d1e-2a15a5cf6050 button.colab-df-convert');\n",
              "        buttonEl.style.display =\n",
              "          google.colab.kernel.accessAllowed ? 'block' : 'none';\n",
              "\n",
              "        async function convertToInteractive(key) {\n",
              "          const element = document.querySelector('#df-10ecc10a-0186-4474-9d1e-2a15a5cf6050');\n",
              "          const dataTable =\n",
              "            await google.colab.kernel.invokeFunction('convertToInteractive',\n",
              "                                                     [key], {});\n",
              "          if (!dataTable) return;\n",
              "\n",
              "          const docLinkHtml = 'Like what you see? Visit the ' +\n",
              "            '<a target=\"_blank\" href=https://colab.research.google.com/notebooks/data_table.ipynb>data table notebook</a>'\n",
              "            + ' to learn more about interactive tables.';\n",
              "          element.innerHTML = '';\n",
              "          dataTable['output_type'] = 'display_data';\n",
              "          await google.colab.output.renderOutput(dataTable, element);\n",
              "          const docLink = document.createElement('div');\n",
              "          docLink.innerHTML = docLinkHtml;\n",
              "          element.appendChild(docLink);\n",
              "        }\n",
              "      </script>\n",
              "    </div>\n",
              "  </div>\n",
              "  "
            ]
          },
          "metadata": {},
          "execution_count": 2
        }
      ]
    },
    {
      "cell_type": "code",
      "source": [
        "y"
      ],
      "metadata": {
        "colab": {
          "base_uri": "https://localhost:8080/"
        },
        "outputId": "036c62d5-ccfc-4652-dd5e-dfa0ca7dc878",
        "id": "qGlJz8tWQvPC"
      },
      "execution_count": null,
      "outputs": [
        {
          "output_type": "execute_result",
          "data": {
            "text/plain": [
              "array([0, 0, 0, 0, 0, 0, 0, 0, 0, 0, 0, 0, 0, 0, 0, 0, 0, 0, 0, 0, 0, 0,\n",
              "       0, 0, 0, 0, 0, 0, 0, 0, 0, 0, 0, 0, 0, 0, 0, 0, 0, 0, 0, 0, 0, 0,\n",
              "       0, 0, 0, 0, 0, 0, 1, 1, 1, 1, 1, 1, 1, 1, 1, 1, 1, 1, 1, 1, 1, 1,\n",
              "       1, 1, 1, 1, 1, 1, 1, 1, 1, 1, 1, 1, 1, 1, 1, 1, 1, 1, 1, 1, 1, 1,\n",
              "       1, 1, 1, 1, 1, 1, 1, 1, 1, 1, 1, 1, 2, 2, 2, 2, 2, 2, 2, 2, 2, 2,\n",
              "       2, 2, 2, 2, 2, 2, 2, 2, 2, 2, 2, 2, 2, 2, 2, 2, 2, 2, 2, 2, 2, 2,\n",
              "       2, 2, 2, 2, 2, 2, 2, 2, 2, 2, 2, 2, 2, 2, 2, 2, 2, 2])"
            ]
          },
          "metadata": {},
          "execution_count": 3
        }
      ]
    },
    {
      "cell_type": "markdown",
      "source": [
        "### Выберите только 0 и 3 признак (sepal length (cm) и petal width (cm))"
      ],
      "metadata": {
        "id": "tWc_C7HtTRMy"
      }
    },
    {
      "cell_type": "code",
      "source": [
        "# Ваш код здесь\n"
      ],
      "metadata": {
        "id": "CDaEKuTFTekk"
      },
      "execution_count": null,
      "outputs": []
    },
    {
      "cell_type": "markdown",
      "source": [
        "### Визуализируйте ваши данные на графике"
      ],
      "metadata": {
        "id": "o-LBaj49Tl39"
      }
    },
    {
      "cell_type": "code",
      "source": [
        "# Ваш код здесь\n"
      ],
      "metadata": {
        "id": "FS8UCeHQQvPB"
      },
      "execution_count": null,
      "outputs": []
    },
    {
      "cell_type": "markdown",
      "source": [
        "### 1. KNN из sklearn"
      ],
      "metadata": {
        "id": "WDDwfNgEQvPD"
      }
    },
    {
      "cell_type": "markdown",
      "source": [
        "#### 1.1. Разбейте данные на обучение и тест"
      ],
      "metadata": {
        "id": "X7uMluDjQvPD"
      }
    },
    {
      "cell_type": "code",
      "source": [
        "# Ваш код здесь\n"
      ],
      "metadata": {
        "id": "odYPDYX4QvPE"
      },
      "execution_count": null,
      "outputs": []
    },
    {
      "cell_type": "markdown",
      "source": [
        "#### 1.2. Обучите модель KNN на 50 соседях"
      ],
      "metadata": {
        "id": "oOamu9drQvPF"
      }
    },
    {
      "cell_type": "code",
      "source": [
        "# Ваш код здесь\n"
      ],
      "metadata": {
        "id": "H0tZK5BZQvPF"
      },
      "execution_count": null,
      "outputs": []
    },
    {
      "cell_type": "markdown",
      "source": [
        "#### 1.3. Проверьте качество работы модели"
      ],
      "metadata": {
        "id": "G3854c2pQvPG"
      }
    },
    {
      "cell_type": "code",
      "source": [
        "# Ваш код здесь\n"
      ],
      "metadata": {
        "id": "bIK3ynUoQvPH"
      },
      "execution_count": null,
      "outputs": []
    },
    {
      "cell_type": "markdown",
      "source": [
        "#### 1.4. Возьмите один случайный тестовый объект и посчитайте для него расстояния до всех объектов с обучения"
      ],
      "metadata": {
        "id": "Li5z1LmDVDCh"
      }
    },
    {
      "cell_type": "code",
      "source": [
        "# Ваш код здесь\n"
      ],
      "metadata": {
        "id": "ckSy3H_RT4Cn"
      },
      "execution_count": null,
      "outputs": []
    },
    {
      "cell_type": "markdown",
      "source": [
        "#### 1.5. Выберите топ  k  соседей\n"
      ],
      "metadata": {
        "id": "-2XPtP0vejac"
      }
    },
    {
      "cell_type": "code",
      "source": [
        "# Ваш код здесь\n"
      ],
      "metadata": {
        "id": "R6FNlJGbcnaj"
      },
      "execution_count": null,
      "outputs": []
    },
    {
      "cell_type": "markdown",
      "source": [
        "#### 1.6. Выведите финальное предсказание для этого объекта"
      ],
      "metadata": {
        "id": "plx5d0SLVgKU"
      }
    },
    {
      "cell_type": "code",
      "source": [
        "# Ваш код здесь\n"
      ],
      "metadata": {
        "id": "elsAn-yCVpEg"
      },
      "execution_count": null,
      "outputs": []
    },
    {
      "cell_type": "markdown",
      "source": [
        "#### 1.7. Сравните с настоящим целевым значением и предсказанием модели из `sklearn`"
      ],
      "metadata": {
        "id": "5bXTswpqV5Oc"
      }
    },
    {
      "cell_type": "code",
      "source": [
        "# Ваш код здесь\n"
      ],
      "metadata": {
        "id": "McAZQDbdV17r"
      },
      "execution_count": null,
      "outputs": []
    },
    {
      "cell_type": "code",
      "source": [
        "# Ваш код здесь\n"
      ],
      "metadata": {
        "id": "h3t7bD_qXC-U"
      },
      "execution_count": null,
      "outputs": []
    },
    {
      "cell_type": "markdown",
      "source": [
        "#### 1.8 Визуализируйте точки с обучения и тестовую с отрисовкой ближайших соседей"
      ],
      "metadata": {
        "id": "XkFgwz_aqjXR"
      }
    },
    {
      "cell_type": "code",
      "source": [
        "# Ваш код здесь\n"
      ],
      "metadata": {
        "id": "wMKHAoClqotH"
      },
      "execution_count": null,
      "outputs": []
    },
    {
      "cell_type": "markdown",
      "source": [
        "### 2. Weighted KNN"
      ],
      "metadata": {
        "id": "z7KzT0RQkEfK"
      }
    },
    {
      "cell_type": "markdown",
      "source": [
        "#### 2.1. Обучите модель \"взвешенный KNN\" по дистанции"
      ],
      "metadata": {
        "id": "gWkLGEzgkNLn"
      }
    },
    {
      "cell_type": "code",
      "source": [
        "# Ваш код здесь\n"
      ],
      "metadata": {
        "id": "SybxgUCikNLo"
      },
      "execution_count": null,
      "outputs": []
    },
    {
      "cell_type": "markdown",
      "source": [
        "#### 2.2. Проверьте качество работы модели\n"
      ],
      "metadata": {
        "id": "OIlY-7q6kNLq"
      }
    },
    {
      "cell_type": "code",
      "source": [
        "# Ваш код здесь\n"
      ],
      "metadata": {
        "id": "bXpnbMnbkNLq"
      },
      "execution_count": null,
      "outputs": []
    },
    {
      "cell_type": "markdown",
      "source": [
        "#### 2.3. Возьмите тот же случайный тестовый объект и посчитайте для него расстояния до всех объектов с обучения"
      ],
      "metadata": {
        "id": "Qxrc8QbOkNLr"
      }
    },
    {
      "cell_type": "code",
      "source": [
        "# Ваш код здесь\n"
      ],
      "metadata": {
        "id": "MnebRI_hkNLr"
      },
      "execution_count": null,
      "outputs": []
    },
    {
      "cell_type": "markdown",
      "source": [
        "#### 2.4. Выберите топ  k  соседей\n"
      ],
      "metadata": {
        "id": "1VMqLecfkNLs"
      }
    },
    {
      "cell_type": "code",
      "source": [
        "# Ваш код здесь\n"
      ],
      "metadata": {
        "id": "fikLuvbEkNLt"
      },
      "execution_count": null,
      "outputs": []
    },
    {
      "cell_type": "markdown",
      "source": [
        "#### 2.5. Рассчитайте вес для каждого соседа"
      ],
      "metadata": {
        "id": "E9hY32_HktGD"
      }
    },
    {
      "cell_type": "code",
      "source": [
        "# Ваш код здесь\n"
      ],
      "metadata": {
        "id": "tc3PBhGMkwuT"
      },
      "execution_count": null,
      "outputs": []
    },
    {
      "cell_type": "markdown",
      "source": [
        "#### 2.6. Выведите финальное предсказание для этого объекта"
      ],
      "metadata": {
        "id": "bpF1vbA4kNLt"
      }
    },
    {
      "cell_type": "code",
      "source": [
        "# Ваш код здесь\n"
      ],
      "metadata": {
        "id": "18KOfvsgkNLu"
      },
      "execution_count": null,
      "outputs": []
    },
    {
      "cell_type": "markdown",
      "source": [
        "#### 2.7. Сравните с настоящим целевым значением и предсказанием модели из `sklearn`"
      ],
      "metadata": {
        "id": "HKHot43okNLu"
      }
    },
    {
      "cell_type": "code",
      "source": [
        "# Ваш код здесь\n"
      ],
      "metadata": {
        "id": "5OOqYNMfkNLu"
      },
      "execution_count": null,
      "outputs": []
    },
    {
      "cell_type": "code",
      "source": [
        "# Ваш код здесь\n"
      ],
      "metadata": {
        "id": "GpLL5y7mkNLv"
      },
      "execution_count": null,
      "outputs": []
    },
    {
      "cell_type": "markdown",
      "source": [
        "#### 2.8. Визуализируйте точки с обучения и тестовую с отрисовкой ближайших соседей по удаленности"
      ],
      "metadata": {
        "id": "Nfp62hl-rXb-"
      }
    },
    {
      "cell_type": "code",
      "source": [
        "# Ваш код здесь\n"
      ],
      "metadata": {
        "id": "wvzoLImbraHp"
      },
      "execution_count": null,
      "outputs": []
    },
    {
      "cell_type": "markdown",
      "source": [
        "## 3. Еще одна задача классификации"
      ],
      "metadata": {
        "id": "2KH6NOGT-Wry"
      }
    },
    {
      "cell_type": "markdown",
      "metadata": {
        "id": "Hp6OV_eEf1Jf"
      },
      "source": [
        "### Получение данных\n",
        "\n",
        "Будем работать с набором данным `fetch_olivetti_faces` из `sklearn`."
      ]
    },
    {
      "cell_type": "code",
      "source": [
        "from sklearn.datasets import fetch_olivetti_faces\n",
        "import pandas as pd\n",
        "\n",
        "\n",
        "data = fetch_olivetti_faces(shuffle=True, random_state=9)\n",
        "\n",
        "X = pd.DataFrame(data['data'])\n",
        "y = data['target']\n",
        "\n",
        "X.head()"
      ],
      "metadata": {
        "colab": {
          "base_uri": "https://localhost:8080/",
          "height": 315
        },
        "outputId": "4dbd37c8-aa01-4d8e-8c50-8fe4fa61fa8a",
        "id": "H49ibz-cf1Jf"
      },
      "execution_count": null,
      "outputs": [
        {
          "output_type": "stream",
          "name": "stdout",
          "text": [
            "downloading Olivetti faces from https://ndownloader.figshare.com/files/5976027 to /root/scikit_learn_data\n"
          ]
        },
        {
          "output_type": "execute_result",
          "data": {
            "text/plain": [
              "       0         1         2         3         4         5         6     \\\n",
              "0  0.723140  0.710744  0.714876  0.731405  0.735537  0.752066  0.772727   \n",
              "1  0.289256  0.157025  0.148760  0.190083  0.169421  0.194215  0.404959   \n",
              "2  0.586777  0.595041  0.681818  0.694215  0.714876  0.698347  0.714876   \n",
              "3  0.235537  0.351240  0.479339  0.545455  0.566116  0.566116  0.595041   \n",
              "4  0.318182  0.400826  0.491736  0.528926  0.586777  0.657025  0.681818   \n",
              "\n",
              "       7         8         9     ...      4086      4087      4088      4089  \\\n",
              "0  0.793388  0.814050  0.834711  ...  0.793388  0.904959  0.549587  0.409091   \n",
              "1  0.607438  0.669421  0.677686  ...  0.438017  0.400826  0.421488  0.429752   \n",
              "2  0.727273  0.743802  0.739669  ...  0.495868  0.380165  0.400826  0.330579   \n",
              "3  0.607438  0.619835  0.623967  ...  0.169421  0.198347  0.202479  0.214876   \n",
              "4  0.685950  0.702479  0.698347  ...  0.074380  0.132231  0.181818  0.136364   \n",
              "\n",
              "       4090      4091      4092      4093      4094      4095  \n",
              "0  0.491736  0.487603  0.471074  0.483471  0.475207  0.475207  \n",
              "1  0.433884  0.425620  0.438017  0.438017  0.210744  0.206612  \n",
              "2  0.148760  0.119835  0.123967  0.115702  0.119835  0.107438  \n",
              "3  0.202479  0.214876  0.214876  0.214876  0.210744  0.206612  \n",
              "4  0.128099  0.148760  0.144628  0.140496  0.148760  0.152893  \n",
              "\n",
              "[5 rows x 4096 columns]"
            ],
            "text/html": [
              "\n",
              "  <div id=\"df-aa3de9f0-3753-4da5-9301-eeb7c2c9e673\">\n",
              "    <div class=\"colab-df-container\">\n",
              "      <div>\n",
              "<style scoped>\n",
              "    .dataframe tbody tr th:only-of-type {\n",
              "        vertical-align: middle;\n",
              "    }\n",
              "\n",
              "    .dataframe tbody tr th {\n",
              "        vertical-align: top;\n",
              "    }\n",
              "\n",
              "    .dataframe thead th {\n",
              "        text-align: right;\n",
              "    }\n",
              "</style>\n",
              "<table border=\"1\" class=\"dataframe\">\n",
              "  <thead>\n",
              "    <tr style=\"text-align: right;\">\n",
              "      <th></th>\n",
              "      <th>0</th>\n",
              "      <th>1</th>\n",
              "      <th>2</th>\n",
              "      <th>3</th>\n",
              "      <th>4</th>\n",
              "      <th>5</th>\n",
              "      <th>6</th>\n",
              "      <th>7</th>\n",
              "      <th>8</th>\n",
              "      <th>9</th>\n",
              "      <th>...</th>\n",
              "      <th>4086</th>\n",
              "      <th>4087</th>\n",
              "      <th>4088</th>\n",
              "      <th>4089</th>\n",
              "      <th>4090</th>\n",
              "      <th>4091</th>\n",
              "      <th>4092</th>\n",
              "      <th>4093</th>\n",
              "      <th>4094</th>\n",
              "      <th>4095</th>\n",
              "    </tr>\n",
              "  </thead>\n",
              "  <tbody>\n",
              "    <tr>\n",
              "      <th>0</th>\n",
              "      <td>0.723140</td>\n",
              "      <td>0.710744</td>\n",
              "      <td>0.714876</td>\n",
              "      <td>0.731405</td>\n",
              "      <td>0.735537</td>\n",
              "      <td>0.752066</td>\n",
              "      <td>0.772727</td>\n",
              "      <td>0.793388</td>\n",
              "      <td>0.814050</td>\n",
              "      <td>0.834711</td>\n",
              "      <td>...</td>\n",
              "      <td>0.793388</td>\n",
              "      <td>0.904959</td>\n",
              "      <td>0.549587</td>\n",
              "      <td>0.409091</td>\n",
              "      <td>0.491736</td>\n",
              "      <td>0.487603</td>\n",
              "      <td>0.471074</td>\n",
              "      <td>0.483471</td>\n",
              "      <td>0.475207</td>\n",
              "      <td>0.475207</td>\n",
              "    </tr>\n",
              "    <tr>\n",
              "      <th>1</th>\n",
              "      <td>0.289256</td>\n",
              "      <td>0.157025</td>\n",
              "      <td>0.148760</td>\n",
              "      <td>0.190083</td>\n",
              "      <td>0.169421</td>\n",
              "      <td>0.194215</td>\n",
              "      <td>0.404959</td>\n",
              "      <td>0.607438</td>\n",
              "      <td>0.669421</td>\n",
              "      <td>0.677686</td>\n",
              "      <td>...</td>\n",
              "      <td>0.438017</td>\n",
              "      <td>0.400826</td>\n",
              "      <td>0.421488</td>\n",
              "      <td>0.429752</td>\n",
              "      <td>0.433884</td>\n",
              "      <td>0.425620</td>\n",
              "      <td>0.438017</td>\n",
              "      <td>0.438017</td>\n",
              "      <td>0.210744</td>\n",
              "      <td>0.206612</td>\n",
              "    </tr>\n",
              "    <tr>\n",
              "      <th>2</th>\n",
              "      <td>0.586777</td>\n",
              "      <td>0.595041</td>\n",
              "      <td>0.681818</td>\n",
              "      <td>0.694215</td>\n",
              "      <td>0.714876</td>\n",
              "      <td>0.698347</td>\n",
              "      <td>0.714876</td>\n",
              "      <td>0.727273</td>\n",
              "      <td>0.743802</td>\n",
              "      <td>0.739669</td>\n",
              "      <td>...</td>\n",
              "      <td>0.495868</td>\n",
              "      <td>0.380165</td>\n",
              "      <td>0.400826</td>\n",
              "      <td>0.330579</td>\n",
              "      <td>0.148760</td>\n",
              "      <td>0.119835</td>\n",
              "      <td>0.123967</td>\n",
              "      <td>0.115702</td>\n",
              "      <td>0.119835</td>\n",
              "      <td>0.107438</td>\n",
              "    </tr>\n",
              "    <tr>\n",
              "      <th>3</th>\n",
              "      <td>0.235537</td>\n",
              "      <td>0.351240</td>\n",
              "      <td>0.479339</td>\n",
              "      <td>0.545455</td>\n",
              "      <td>0.566116</td>\n",
              "      <td>0.566116</td>\n",
              "      <td>0.595041</td>\n",
              "      <td>0.607438</td>\n",
              "      <td>0.619835</td>\n",
              "      <td>0.623967</td>\n",
              "      <td>...</td>\n",
              "      <td>0.169421</td>\n",
              "      <td>0.198347</td>\n",
              "      <td>0.202479</td>\n",
              "      <td>0.214876</td>\n",
              "      <td>0.202479</td>\n",
              "      <td>0.214876</td>\n",
              "      <td>0.214876</td>\n",
              "      <td>0.214876</td>\n",
              "      <td>0.210744</td>\n",
              "      <td>0.206612</td>\n",
              "    </tr>\n",
              "    <tr>\n",
              "      <th>4</th>\n",
              "      <td>0.318182</td>\n",
              "      <td>0.400826</td>\n",
              "      <td>0.491736</td>\n",
              "      <td>0.528926</td>\n",
              "      <td>0.586777</td>\n",
              "      <td>0.657025</td>\n",
              "      <td>0.681818</td>\n",
              "      <td>0.685950</td>\n",
              "      <td>0.702479</td>\n",
              "      <td>0.698347</td>\n",
              "      <td>...</td>\n",
              "      <td>0.074380</td>\n",
              "      <td>0.132231</td>\n",
              "      <td>0.181818</td>\n",
              "      <td>0.136364</td>\n",
              "      <td>0.128099</td>\n",
              "      <td>0.148760</td>\n",
              "      <td>0.144628</td>\n",
              "      <td>0.140496</td>\n",
              "      <td>0.148760</td>\n",
              "      <td>0.152893</td>\n",
              "    </tr>\n",
              "  </tbody>\n",
              "</table>\n",
              "<p>5 rows × 4096 columns</p>\n",
              "</div>\n",
              "      <button class=\"colab-df-convert\" onclick=\"convertToInteractive('df-aa3de9f0-3753-4da5-9301-eeb7c2c9e673')\"\n",
              "              title=\"Convert this dataframe to an interactive table.\"\n",
              "              style=\"display:none;\">\n",
              "        \n",
              "  <svg xmlns=\"http://www.w3.org/2000/svg\" height=\"24px\"viewBox=\"0 0 24 24\"\n",
              "       width=\"24px\">\n",
              "    <path d=\"M0 0h24v24H0V0z\" fill=\"none\"/>\n",
              "    <path d=\"M18.56 5.44l.94 2.06.94-2.06 2.06-.94-2.06-.94-.94-2.06-.94 2.06-2.06.94zm-11 1L8.5 8.5l.94-2.06 2.06-.94-2.06-.94L8.5 2.5l-.94 2.06-2.06.94zm10 10l.94 2.06.94-2.06 2.06-.94-2.06-.94-.94-2.06-.94 2.06-2.06.94z\"/><path d=\"M17.41 7.96l-1.37-1.37c-.4-.4-.92-.59-1.43-.59-.52 0-1.04.2-1.43.59L10.3 9.45l-7.72 7.72c-.78.78-.78 2.05 0 2.83L4 21.41c.39.39.9.59 1.41.59.51 0 1.02-.2 1.41-.59l7.78-7.78 2.81-2.81c.8-.78.8-2.07 0-2.86zM5.41 20L4 18.59l7.72-7.72 1.47 1.35L5.41 20z\"/>\n",
              "  </svg>\n",
              "      </button>\n",
              "      \n",
              "  <style>\n",
              "    .colab-df-container {\n",
              "      display:flex;\n",
              "      flex-wrap:wrap;\n",
              "      gap: 12px;\n",
              "    }\n",
              "\n",
              "    .colab-df-convert {\n",
              "      background-color: #E8F0FE;\n",
              "      border: none;\n",
              "      border-radius: 50%;\n",
              "      cursor: pointer;\n",
              "      display: none;\n",
              "      fill: #1967D2;\n",
              "      height: 32px;\n",
              "      padding: 0 0 0 0;\n",
              "      width: 32px;\n",
              "    }\n",
              "\n",
              "    .colab-df-convert:hover {\n",
              "      background-color: #E2EBFA;\n",
              "      box-shadow: 0px 1px 2px rgba(60, 64, 67, 0.3), 0px 1px 3px 1px rgba(60, 64, 67, 0.15);\n",
              "      fill: #174EA6;\n",
              "    }\n",
              "\n",
              "    [theme=dark] .colab-df-convert {\n",
              "      background-color: #3B4455;\n",
              "      fill: #D2E3FC;\n",
              "    }\n",
              "\n",
              "    [theme=dark] .colab-df-convert:hover {\n",
              "      background-color: #434B5C;\n",
              "      box-shadow: 0px 1px 3px 1px rgba(0, 0, 0, 0.15);\n",
              "      filter: drop-shadow(0px 1px 2px rgba(0, 0, 0, 0.3));\n",
              "      fill: #FFFFFF;\n",
              "    }\n",
              "  </style>\n",
              "\n",
              "      <script>\n",
              "        const buttonEl =\n",
              "          document.querySelector('#df-aa3de9f0-3753-4da5-9301-eeb7c2c9e673 button.colab-df-convert');\n",
              "        buttonEl.style.display =\n",
              "          google.colab.kernel.accessAllowed ? 'block' : 'none';\n",
              "\n",
              "        async function convertToInteractive(key) {\n",
              "          const element = document.querySelector('#df-aa3de9f0-3753-4da5-9301-eeb7c2c9e673');\n",
              "          const dataTable =\n",
              "            await google.colab.kernel.invokeFunction('convertToInteractive',\n",
              "                                                     [key], {});\n",
              "          if (!dataTable) return;\n",
              "\n",
              "          const docLinkHtml = 'Like what you see? Visit the ' +\n",
              "            '<a target=\"_blank\" href=https://colab.research.google.com/notebooks/data_table.ipynb>data table notebook</a>'\n",
              "            + ' to learn more about interactive tables.';\n",
              "          element.innerHTML = '';\n",
              "          dataTable['output_type'] = 'display_data';\n",
              "          await google.colab.output.renderOutput(dataTable, element);\n",
              "          const docLink = document.createElement('div');\n",
              "          docLink.innerHTML = docLinkHtml;\n",
              "          element.appendChild(docLink);\n",
              "        }\n",
              "      </script>\n",
              "    </div>\n",
              "  </div>\n",
              "  "
            ]
          },
          "metadata": {},
          "execution_count": 25
        }
      ]
    },
    {
      "cell_type": "code",
      "source": [
        "import matplotlib.pyplot as plt\n",
        "\n",
        "fig, ax = plt.subplots(1, 5, figsize=(15, 8))\n",
        "\n",
        "for i in range(0, 5):\n",
        "    ax[i].imshow(X.iloc[i].values.reshape((64, 64)), cmap='gray')\n",
        "    ax[i].axis('off')\n",
        "    ax[i].set_title(f'class {y[i]}')\n",
        "\n",
        "plt.show()"
      ],
      "metadata": {
        "colab": {
          "base_uri": "https://localhost:8080/",
          "height": 191
        },
        "id": "TmLkcspiOLyN",
        "outputId": "f16a0069-86f8-4857-abf1-f2ead334aea5"
      },
      "execution_count": null,
      "outputs": [
        {
          "output_type": "display_data",
          "data": {
            "text/plain": [
              "<Figure size 1080x576 with 5 Axes>"
            ],
            "image/png": "[encoded data removed]"
          },
          "metadata": {
            "needs_background": "light"
          }
        }
      ]
    },
    {
      "cell_type": "code",
      "source": [
        "y"
      ],
      "metadata": {
        "colab": {
          "base_uri": "https://localhost:8080/"
        },
        "id": "eh4rlOXLNx9J",
        "outputId": "82c6f3ce-612a-4a06-fb92-30d96b826b9d"
      },
      "execution_count": null,
      "outputs": [
        {
          "output_type": "execute_result",
          "data": {
            "text/plain": [
              "array([ 5,  3,  1, 16,  0,  1, 12,  9, 26, 37, 20,  5, 10, 27, 10, 34, 13,\n",
              "       26, 17, 31,  9,  7, 31, 37, 31, 35, 18, 29, 29,  4, 21, 20, 23,  7,\n",
              "        9, 18, 22,  2,  1, 39, 36,  8, 34, 32,  3, 20,  3,  9, 37, 32, 34,\n",
              "       15,  9, 16, 36, 16, 13,  7, 29,  6, 13,  4, 16,  0,  8,  1, 25,  3,\n",
              "       18, 29,  8, 35,  2, 25, 21, 31, 35, 23, 30, 28,  4, 10, 11, 27, 29,\n",
              "       39,  5, 12, 29, 26, 15,  2, 39,  6, 30, 37, 25, 32, 35, 24, 15, 24,\n",
              "        2, 19, 22,  0, 38,  5, 22, 28,  6, 38,  6,  3, 33, 12, 36,  8, 27,\n",
              "       19, 25, 36, 10, 37,  9, 33, 10, 28, 32, 34, 17, 23, 19, 24, 27,  3,\n",
              "       39, 30,  3,  7,  3, 30, 12, 21, 17, 14, 35, 21, 19,  5, 32, 16, 19,\n",
              "        8, 33, 14, 17, 15, 22, 38, 15, 18,  7, 14, 28, 39, 23, 36, 28, 10,\n",
              "       39, 36, 37, 10, 34, 25, 18, 13, 19, 33, 33, 13, 26,  9, 13, 34, 24,\n",
              "        0, 30, 23,  2, 22,  9, 11,  7, 35, 19, 26, 32, 11,  7,  7,  0,  4,\n",
              "        0,  2,  0, 26, 21, 14,  4, 32,  1, 23, 16,  0,  7, 14, 16, 15, 39,\n",
              "       17, 33, 30, 37, 17, 27,  7, 18, 31, 17, 25,  5,  9, 16, 20,  8,  9,\n",
              "       15,  8, 19, 15, 15, 13, 14, 36, 11, 27, 25,  1,  8,  3, 31, 21, 35,\n",
              "        2, 38, 38, 10, 19, 39, 28,  2,  1, 14, 28, 29,  6, 30, 38, 26,  1,\n",
              "       27, 12, 32, 13, 28, 20,  8, 30, 11, 37,  4, 28, 33, 31, 31, 22, 35,\n",
              "       11,  3, 17,  0, 13, 38, 22, 34, 19, 37, 28, 30, 24, 26, 37,  4, 20,\n",
              "       10,  6, 29, 39, 33, 25, 21, 32, 38, 16,  8,  6, 21, 15, 20,  1, 11,\n",
              "       36, 33, 35, 34, 22, 20, 17, 30, 17, 16, 14,  6, 23,  4, 24, 11, 24,\n",
              "       36, 10, 21, 29,  0, 32,  4,  2, 26, 23, 14, 33, 12, 18,  5, 35, 24,\n",
              "       26, 39, 27,  6, 18, 38, 20,  5, 14, 36,  4, 31, 20, 13, 11, 27, 22,\n",
              "       12, 18, 21, 27,  1, 12, 23, 31, 18, 23, 22, 34, 11, 24, 24, 25, 29,\n",
              "        5,  2,  6, 12, 25,  5, 12, 34, 38])"
            ]
          },
          "metadata": {},
          "execution_count": 27
        }
      ]
    },
    {
      "cell_type": "markdown",
      "source": [
        "### 3.1. KNN из sklearn"
      ],
      "metadata": {
        "id": "jMZfRYGlf1Jg"
      }
    },
    {
      "cell_type": "markdown",
      "source": [
        "#### 3.1.1. Разбейте данные на обучение и тест"
      ],
      "metadata": {
        "id": "8ngsbtVkf1Jg"
      }
    },
    {
      "cell_type": "code",
      "source": [
        "# Ваш код здесь\n"
      ],
      "metadata": {
        "id": "diZ6KLRgf1Jg"
      },
      "execution_count": null,
      "outputs": []
    },
    {
      "cell_type": "markdown",
      "source": [
        "#### 3.1.2. Обучите модель KNN на 50 соседях"
      ],
      "metadata": {
        "id": "e0T67UVCf1Jg"
      }
    },
    {
      "cell_type": "code",
      "source": [
        "# Ваш код здесь\n"
      ],
      "metadata": {
        "id": "oxu8ZAdsf1Jg"
      },
      "execution_count": null,
      "outputs": []
    },
    {
      "cell_type": "markdown",
      "source": [
        "#### 3.1.3. Проверьте качество работы модели\n"
      ],
      "metadata": {
        "id": "Lm44kJe3f1Jg"
      }
    },
    {
      "cell_type": "code",
      "source": [
        "# Ваш код здесь\n"
      ],
      "metadata": {
        "id": "rUlCrVcnf1Jg"
      },
      "execution_count": null,
      "outputs": []
    },
    {
      "cell_type": "markdown",
      "source": [
        "### 3.2. Weighted KNN"
      ],
      "metadata": {
        "id": "ytr-TzhG3aXt"
      }
    },
    {
      "cell_type": "markdown",
      "source": [
        "#### 3.2.1. Обучите модель взвешенный KNN по дистанции"
      ],
      "metadata": {
        "id": "eAZmvdey3aYC"
      }
    },
    {
      "cell_type": "code",
      "source": [
        "# Ваш код здесь\n"
      ],
      "metadata": {
        "id": "fBbA7XvF3aYD"
      },
      "execution_count": null,
      "outputs": []
    },
    {
      "cell_type": "markdown",
      "source": [
        "#### 3.2.2. Проверьте качество работы модели\n"
      ],
      "metadata": {
        "id": "ffnmmv8f3aYE"
      }
    },
    {
      "cell_type": "code",
      "source": [
        "# Ваш код здесь\n"
      ],
      "metadata": {
        "id": "KHKjMiWH3aYE"
      },
      "execution_count": null,
      "outputs": []
    },
    {
      "cell_type": "markdown",
      "source": [
        "### 3.3. Custom Weighted KNN"
      ],
      "metadata": {
        "id": "SK5cF8Y33exW"
      }
    },
    {
      "cell_type": "markdown",
      "source": [
        "#### 3.3.1. Напишите свою функцию подсчета весов по дистанции\n",
        "\n",
        "(Можете выбрать любой подход)"
      ],
      "metadata": {
        "id": "w1gnZTn69N4p"
      }
    },
    {
      "cell_type": "code",
      "source": [
        "# Ваш код здесь\n"
      ],
      "metadata": {
        "id": "68X-M_A79XPZ"
      },
      "execution_count": null,
      "outputs": []
    },
    {
      "cell_type": "markdown",
      "source": [
        "#### 3.3.2. Обучите модель взвешенный KNN по написанной функции выше"
      ],
      "metadata": {
        "id": "nl1m8HE09jTV"
      }
    },
    {
      "cell_type": "code",
      "source": [
        "# Ваш код здесь\n"
      ],
      "metadata": {
        "id": "3eNH9DIW9jTX"
      },
      "execution_count": null,
      "outputs": []
    },
    {
      "cell_type": "markdown",
      "source": [
        "#### 3.3.3. Проверьте качество работы модели\n"
      ],
      "metadata": {
        "id": "Zg8Scc3G9jTZ"
      }
    },
    {
      "cell_type": "code",
      "source": [
        "# Ваш код здесь\n"
      ],
      "metadata": {
        "id": "5cnumHqT9jTa"
      },
      "execution_count": null,
      "outputs": []
    },
    {
      "cell_type": "markdown",
      "source": [
        "## KNN для регрессии"
      ],
      "metadata": {
        "id": "_v8dStwIf1Jh"
      }
    },
    {
      "cell_type": "markdown",
      "source": [
        "### Получение данных\n"
      ],
      "metadata": {
        "id": "2pVOS69of1Jh"
      }
    },
    {
      "cell_type": "markdown",
      "metadata": {
        "id": "Qa8aBN0qf1Jh"
      },
      "source": [
        "Будем работать с набором данных для задачи регрессии - данные по предсказанию стоимости недвижимости."
      ]
    },
    {
      "cell_type": "code",
      "source": [
        "from sklearn.datasets import fetch_california_housing\n",
        "import pandas as pd\n",
        "import numpy as np\n",
        "\n",
        "\n",
        "data = fetch_california_housing()\n",
        "X = pd.DataFrame(data['data'], columns=data['feature_names'])\n",
        "y = data['target']\n",
        "\n",
        "X"
      ],
      "metadata": {
        "colab": {
          "base_uri": "https://localhost:8080/",
          "height": 419
        },
        "outputId": "ee3a9cad-31e0-4dd8-be44-e6f3a6ae2325",
        "id": "17m84klGf1Jh"
      },
      "execution_count": null,
      "outputs": [
        {
          "output_type": "execute_result",
          "data": {
            "text/plain": [
              "       MedInc  HouseAge  AveRooms  AveBedrms  Population  AveOccup  Latitude  \\\n",
              "0      8.3252      41.0  6.984127   1.023810       322.0  2.555556     37.88   \n",
              "1      8.3014      21.0  6.238137   0.971880      2401.0  2.109842     37.86   \n",
              "2      7.2574      52.0  8.288136   1.073446       496.0  2.802260     37.85   \n",
              "3      5.6431      52.0  5.817352   1.073059       558.0  2.547945     37.85   \n",
              "4      3.8462      52.0  6.281853   1.081081       565.0  2.181467     37.85   \n",
              "...       ...       ...       ...        ...         ...       ...       ...   \n",
              "20635  1.5603      25.0  5.045455   1.133333       845.0  2.560606     39.48   \n",
              "20636  2.5568      18.0  6.114035   1.315789       356.0  3.122807     39.49   \n",
              "20637  1.7000      17.0  5.205543   1.120092      1007.0  2.325635     39.43   \n",
              "20638  1.8672      18.0  5.329513   1.171920       741.0  2.123209     39.43   \n",
              "20639  2.3886      16.0  5.254717   1.162264      1387.0  2.616981     39.37   \n",
              "\n",
              "       Longitude  \n",
              "0        -122.23  \n",
              "1        -122.22  \n",
              "2        -122.24  \n",
              "3        -122.25  \n",
              "4        -122.25  \n",
              "...          ...  \n",
              "20635    -121.09  \n",
              "20636    -121.21  \n",
              "20637    -121.22  \n",
              "20638    -121.32  \n",
              "20639    -121.24  \n",
              "\n",
              "[20640 rows x 8 columns]"
            ],
            "text/html": [
              "\n",
              "  <div id=\"df-6f24d93a-a530-4e41-988d-1e38c0361f0a\">\n",
              "    <div class=\"colab-df-container\">\n",
              "      <div>\n",
              "<style scoped>\n",
              "    .dataframe tbody tr th:only-of-type {\n",
              "        vertical-align: middle;\n",
              "    }\n",
              "\n",
              "    .dataframe tbody tr th {\n",
              "        vertical-align: top;\n",
              "    }\n",
              "\n",
              "    .dataframe thead th {\n",
              "        text-align: right;\n",
              "    }\n",
              "</style>\n",
              "<table border=\"1\" class=\"dataframe\">\n",
              "  <thead>\n",
              "    <tr style=\"text-align: right;\">\n",
              "      <th></th>\n",
              "      <th>MedInc</th>\n",
              "      <th>HouseAge</th>\n",
              "      <th>AveRooms</th>\n",
              "      <th>AveBedrms</th>\n",
              "      <th>Population</th>\n",
              "      <th>AveOccup</th>\n",
              "      <th>Latitude</th>\n",
              "      <th>Longitude</th>\n",
              "    </tr>\n",
              "  </thead>\n",
              "  <tbody>\n",
              "    <tr>\n",
              "      <th>0</th>\n",
              "      <td>8.3252</td>\n",
              "      <td>41.0</td>\n",
              "      <td>6.984127</td>\n",
              "      <td>1.023810</td>\n",
              "      <td>322.0</td>\n",
              "      <td>2.555556</td>\n",
              "      <td>37.88</td>\n",
              "      <td>-122.23</td>\n",
              "    </tr>\n",
              "    <tr>\n",
              "      <th>1</th>\n",
              "      <td>8.3014</td>\n",
              "      <td>21.0</td>\n",
              "      <td>6.238137</td>\n",
              "      <td>0.971880</td>\n",
              "      <td>2401.0</td>\n",
              "      <td>2.109842</td>\n",
              "      <td>37.86</td>\n",
              "      <td>-122.22</td>\n",
              "    </tr>\n",
              "    <tr>\n",
              "      <th>2</th>\n",
              "      <td>7.2574</td>\n",
              "      <td>52.0</td>\n",
              "      <td>8.288136</td>\n",
              "      <td>1.073446</td>\n",
              "      <td>496.0</td>\n",
              "      <td>2.802260</td>\n",
              "      <td>37.85</td>\n",
              "      <td>-122.24</td>\n",
              "    </tr>\n",
              "    <tr>\n",
              "      <th>3</th>\n",
              "      <td>5.6431</td>\n",
              "      <td>52.0</td>\n",
              "      <td>5.817352</td>\n",
              "      <td>1.073059</td>\n",
              "      <td>558.0</td>\n",
              "      <td>2.547945</td>\n",
              "      <td>37.85</td>\n",
              "      <td>-122.25</td>\n",
              "    </tr>\n",
              "    <tr>\n",
              "      <th>4</th>\n",
              "      <td>3.8462</td>\n",
              "      <td>52.0</td>\n",
              "      <td>6.281853</td>\n",
              "      <td>1.081081</td>\n",
              "      <td>565.0</td>\n",
              "      <td>2.181467</td>\n",
              "      <td>37.85</td>\n",
              "      <td>-122.25</td>\n",
              "    </tr>\n",
              "    <tr>\n",
              "      <th>...</th>\n",
              "      <td>...</td>\n",
              "      <td>...</td>\n",
              "      <td>...</td>\n",
              "      <td>...</td>\n",
              "      <td>...</td>\n",
              "      <td>...</td>\n",
              "      <td>...</td>\n",
              "      <td>...</td>\n",
              "    </tr>\n",
              "    <tr>\n",
              "      <th>20635</th>\n",
              "      <td>1.5603</td>\n",
              "      <td>25.0</td>\n",
              "      <td>5.045455</td>\n",
              "      <td>1.133333</td>\n",
              "      <td>845.0</td>\n",
              "      <td>2.560606</td>\n",
              "      <td>39.48</td>\n",
              "      <td>-121.09</td>\n",
              "    </tr>\n",
              "    <tr>\n",
              "      <th>20636</th>\n",
              "      <td>2.5568</td>\n",
              "      <td>18.0</td>\n",
              "      <td>6.114035</td>\n",
              "      <td>1.315789</td>\n",
              "      <td>356.0</td>\n",
              "      <td>3.122807</td>\n",
              "      <td>39.49</td>\n",
              "      <td>-121.21</td>\n",
              "    </tr>\n",
              "    <tr>\n",
              "      <th>20637</th>\n",
              "      <td>1.7000</td>\n",
              "      <td>17.0</td>\n",
              "      <td>5.205543</td>\n",
              "      <td>1.120092</td>\n",
              "      <td>1007.0</td>\n",
              "      <td>2.325635</td>\n",
              "      <td>39.43</td>\n",
              "      <td>-121.22</td>\n",
              "    </tr>\n",
              "    <tr>\n",
              "      <th>20638</th>\n",
              "      <td>1.8672</td>\n",
              "      <td>18.0</td>\n",
              "      <td>5.329513</td>\n",
              "      <td>1.171920</td>\n",
              "      <td>741.0</td>\n",
              "      <td>2.123209</td>\n",
              "      <td>39.43</td>\n",
              "      <td>-121.32</td>\n",
              "    </tr>\n",
              "    <tr>\n",
              "      <th>20639</th>\n",
              "      <td>2.3886</td>\n",
              "      <td>16.0</td>\n",
              "      <td>5.254717</td>\n",
              "      <td>1.162264</td>\n",
              "      <td>1387.0</td>\n",
              "      <td>2.616981</td>\n",
              "      <td>39.37</td>\n",
              "      <td>-121.24</td>\n",
              "    </tr>\n",
              "  </tbody>\n",
              "</table>\n",
              "<p>20640 rows × 8 columns</p>\n",
              "</div>\n",
              "      <button class=\"colab-df-convert\" onclick=\"convertToInteractive('df-6f24d93a-a530-4e41-988d-1e38c0361f0a')\"\n",
              "              title=\"Convert this dataframe to an interactive table.\"\n",
              "              style=\"display:none;\">\n",
              "        \n",
              "  <svg xmlns=\"http://www.w3.org/2000/svg\" height=\"24px\"viewBox=\"0 0 24 24\"\n",
              "       width=\"24px\">\n",
              "    <path d=\"M0 0h24v24H0V0z\" fill=\"none\"/>\n",
              "    <path d=\"M18.56 5.44l.94 2.06.94-2.06 2.06-.94-2.06-.94-.94-2.06-.94 2.06-2.06.94zm-11 1L8.5 8.5l.94-2.06 2.06-.94-2.06-.94L8.5 2.5l-.94 2.06-2.06.94zm10 10l.94 2.06.94-2.06 2.06-.94-2.06-.94-.94-2.06-.94 2.06-2.06.94z\"/><path d=\"M17.41 7.96l-1.37-1.37c-.4-.4-.92-.59-1.43-.59-.52 0-1.04.2-1.43.59L10.3 9.45l-7.72 7.72c-.78.78-.78 2.05 0 2.83L4 21.41c.39.39.9.59 1.41.59.51 0 1.02-.2 1.41-.59l7.78-7.78 2.81-2.81c.8-.78.8-2.07 0-2.86zM5.41 20L4 18.59l7.72-7.72 1.47 1.35L5.41 20z\"/>\n",
              "  </svg>\n",
              "      </button>\n",
              "      \n",
              "  <style>\n",
              "    .colab-df-container {\n",
              "      display:flex;\n",
              "      flex-wrap:wrap;\n",
              "      gap: 12px;\n",
              "    }\n",
              "\n",
              "    .colab-df-convert {\n",
              "      background-color: #E8F0FE;\n",
              "      border: none;\n",
              "      border-radius: 50%;\n",
              "      cursor: pointer;\n",
              "      display: none;\n",
              "      fill: #1967D2;\n",
              "      height: 32px;\n",
              "      padding: 0 0 0 0;\n",
              "      width: 32px;\n",
              "    }\n",
              "\n",
              "    .colab-df-convert:hover {\n",
              "      background-color: #E2EBFA;\n",
              "      box-shadow: 0px 1px 2px rgba(60, 64, 67, 0.3), 0px 1px 3px 1px rgba(60, 64, 67, 0.15);\n",
              "      fill: #174EA6;\n",
              "    }\n",
              "\n",
              "    [theme=dark] .colab-df-convert {\n",
              "      background-color: #3B4455;\n",
              "      fill: #D2E3FC;\n",
              "    }\n",
              "\n",
              "    [theme=dark] .colab-df-convert:hover {\n",
              "      background-color: #434B5C;\n",
              "      box-shadow: 0px 1px 3px 1px rgba(0, 0, 0, 0.15);\n",
              "      filter: drop-shadow(0px 1px 2px rgba(0, 0, 0, 0.3));\n",
              "      fill: #FFFFFF;\n",
              "    }\n",
              "  </style>\n",
              "\n",
              "      <script>\n",
              "        const buttonEl =\n",
              "          document.querySelector('#df-6f24d93a-a530-4e41-988d-1e38c0361f0a button.colab-df-convert');\n",
              "        buttonEl.style.display =\n",
              "          google.colab.kernel.accessAllowed ? 'block' : 'none';\n",
              "\n",
              "        async function convertToInteractive(key) {\n",
              "          const element = document.querySelector('#df-6f24d93a-a530-4e41-988d-1e38c0361f0a');\n",
              "          const dataTable =\n",
              "            await google.colab.kernel.invokeFunction('convertToInteractive',\n",
              "                                                     [key], {});\n",
              "          if (!dataTable) return;\n",
              "\n",
              "          const docLinkHtml = 'Like what you see? Visit the ' +\n",
              "            '<a target=\"_blank\" href=https://colab.research.google.com/notebooks/data_table.ipynb>data table notebook</a>'\n",
              "            + ' to learn more about interactive tables.';\n",
              "          element.innerHTML = '';\n",
              "          dataTable['output_type'] = 'display_data';\n",
              "          await google.colab.output.renderOutput(dataTable, element);\n",
              "          const docLink = document.createElement('div');\n",
              "          docLink.innerHTML = docLinkHtml;\n",
              "          element.appendChild(docLink);\n",
              "        }\n",
              "      </script>\n",
              "    </div>\n",
              "  </div>\n",
              "  "
            ]
          },
          "metadata": {},
          "execution_count": 82
        }
      ]
    },
    {
      "cell_type": "code",
      "source": [
        "y"
      ],
      "metadata": {
        "colab": {
          "base_uri": "https://localhost:8080/"
        },
        "id": "VT8CqiIJsZ7J",
        "outputId": "86be930f-0bda-4e5b-d25c-a080fc03facb"
      },
      "execution_count": null,
      "outputs": [
        {
          "output_type": "execute_result",
          "data": {
            "text/plain": [
              "array([4.526, 3.585, 3.521, ..., 0.923, 0.847, 0.894])"
            ]
          },
          "metadata": {},
          "execution_count": 83
        }
      ]
    },
    {
      "cell_type": "markdown",
      "source": [
        "### Возьмите только признак MedInc и 1000 первых строк"
      ],
      "metadata": {
        "id": "waeKH9hx_JDI"
      }
    },
    {
      "cell_type": "code",
      "source": [
        "# Ваш код здесь\n"
      ],
      "metadata": {
        "id": "KBv5r3MxrvDu"
      },
      "execution_count": null,
      "outputs": []
    },
    {
      "cell_type": "markdown",
      "source": [
        "### Отрисуйте данные на графике"
      ],
      "metadata": {
        "id": "9py8RTfh3mx8"
      }
    },
    {
      "cell_type": "code",
      "source": [
        "# Ваш код здесь\n"
      ],
      "metadata": {
        "id": "CASFDGg7r-Z7"
      },
      "execution_count": null,
      "outputs": []
    },
    {
      "cell_type": "markdown",
      "source": [
        "### 4. KNN из sklearn"
      ],
      "metadata": {
        "id": "dPFKeBsSf1Jj"
      }
    },
    {
      "cell_type": "markdown",
      "source": [
        "#### 4.1. Разбейте данные на обучение и тест"
      ],
      "metadata": {
        "id": "1Ape70qff1Jj"
      }
    },
    {
      "cell_type": "code",
      "source": [
        "# Ваш код здесь\n"
      ],
      "metadata": {
        "id": "EAMp2Lq2f1Jj"
      },
      "execution_count": null,
      "outputs": []
    },
    {
      "cell_type": "markdown",
      "source": [
        "#### 4.2. Обучите модель KNN на 100 соседях\n"
      ],
      "metadata": {
        "id": "gvGPsS5yf1Jj"
      }
    },
    {
      "cell_type": "code",
      "source": [
        "# Ваш код здесь\n"
      ],
      "metadata": {
        "id": "NqNBn2lef1Jj"
      },
      "execution_count": null,
      "outputs": []
    },
    {
      "cell_type": "markdown",
      "source": [
        "#### 4.3. Проверьте качество работы модели\n"
      ],
      "metadata": {
        "id": "HJsrR5UAf1Jj"
      }
    },
    {
      "cell_type": "code",
      "source": [
        "# Ваш код здесь\n"
      ],
      "metadata": {
        "id": "L1Bfa1SAf1Jj"
      },
      "execution_count": null,
      "outputs": []
    },
    {
      "cell_type": "markdown",
      "source": [
        "#### 4.4. Возьмите один случайный тестовый объект и посчитайте для него расстояния до всех объектов с обучения"
      ],
      "metadata": {
        "id": "eI0GxKu0s7gd"
      }
    },
    {
      "cell_type": "code",
      "source": [
        "# Ваш код здесь\n"
      ],
      "metadata": {
        "id": "TX_itQcNs7ge"
      },
      "execution_count": null,
      "outputs": []
    },
    {
      "cell_type": "markdown",
      "source": [
        "#### 4.5. Выберите топ  k  соседей\n"
      ],
      "metadata": {
        "id": "CEgprPJds7gg"
      }
    },
    {
      "cell_type": "code",
      "source": [
        "# Ваш код здесь\n"
      ],
      "metadata": {
        "id": "CnqVuAxJs7gh"
      },
      "execution_count": null,
      "outputs": []
    },
    {
      "cell_type": "markdown",
      "source": [
        "#### 4.6. Выведите финальное предсказание для этого объекта"
      ],
      "metadata": {
        "id": "7n6uL56us7gh"
      }
    },
    {
      "cell_type": "code",
      "source": [
        "# Ваш код здесь\n"
      ],
      "metadata": {
        "id": "2672HFoYs7gi"
      },
      "execution_count": null,
      "outputs": []
    },
    {
      "cell_type": "markdown",
      "source": [
        "#### 4.7. Сравните с настоящим целевым значением и предсказанием модели из `sklearn`"
      ],
      "metadata": {
        "id": "x1uzHGwMs7gj"
      }
    },
    {
      "cell_type": "code",
      "source": [
        "# Ваш код здесь\n"
      ],
      "metadata": {
        "id": "Vd5Zx3PSs7gk"
      },
      "execution_count": null,
      "outputs": []
    },
    {
      "cell_type": "code",
      "source": [
        "# Ваш код здесь\n"
      ],
      "metadata": {
        "id": "2poQCFmAs7gl"
      },
      "execution_count": null,
      "outputs": []
    },
    {
      "cell_type": "markdown",
      "source": [
        "#### 4.8 Визуализируйте точки с обучения и тестовую с отрисовкой ближайших соседей"
      ],
      "metadata": {
        "id": "A4Q9vJVes7gm"
      }
    },
    {
      "cell_type": "code",
      "source": [
        "# Ваш код здесь\n"
      ],
      "metadata": {
        "id": "8bYTJ6lOs7gn"
      },
      "execution_count": null,
      "outputs": []
    },
    {
      "cell_type": "markdown",
      "source": [
        "### 5. Weighted KNN"
      ],
      "metadata": {
        "id": "auGvyGLkyk2a"
      }
    },
    {
      "cell_type": "markdown",
      "source": [
        "#### 5.1. Обучите модель взвешенный KNN по дистанции"
      ],
      "metadata": {
        "id": "uvu7IJGVyk2k"
      }
    },
    {
      "cell_type": "code",
      "source": [
        "# Ваш код здесь\n"
      ],
      "metadata": {
        "id": "kEtPMR73yk2m"
      },
      "execution_count": null,
      "outputs": []
    },
    {
      "cell_type": "markdown",
      "source": [
        "#### 5.2. Проверьте качество работы модели\n"
      ],
      "metadata": {
        "id": "eFtadjyzyk2o"
      }
    },
    {
      "cell_type": "code",
      "source": [
        "# Ваш код здесь\n"
      ],
      "metadata": {
        "id": "hVi8H-ykyk2p"
      },
      "execution_count": null,
      "outputs": []
    },
    {
      "cell_type": "markdown",
      "source": [
        "#### 5.3. Возьмите тот же случайный тестовый объект и посчитайте для него расстояния до всех объектов с обучения"
      ],
      "metadata": {
        "id": "e2g_kpxjyk2q"
      }
    },
    {
      "cell_type": "code",
      "source": [
        "# Ваш код здесь\n"
      ],
      "metadata": {
        "id": "aqQXuXl3yk2r"
      },
      "execution_count": null,
      "outputs": []
    },
    {
      "cell_type": "markdown",
      "source": [
        "#### 5.4. Выберите топ  k  соседей\n"
      ],
      "metadata": {
        "id": "bcCepejsyk2r"
      }
    },
    {
      "cell_type": "code",
      "source": [
        "# Ваш код здесь\n"
      ],
      "metadata": {
        "id": "3dFRpO-Yyk2t"
      },
      "execution_count": null,
      "outputs": []
    },
    {
      "cell_type": "markdown",
      "source": [
        "#### 5.5. Рассчитайте вес для каждого соседа"
      ],
      "metadata": {
        "id": "Hg9Ga9xjyk2u"
      }
    },
    {
      "cell_type": "code",
      "source": [
        "# Ваш код здесь\n"
      ],
      "metadata": {
        "id": "5omsJ6EMyk2u"
      },
      "execution_count": null,
      "outputs": []
    },
    {
      "cell_type": "markdown",
      "source": [
        "#### 5.6. Выведите финальное предсказание для этого объекта"
      ],
      "metadata": {
        "id": "nPloBYeCyk2v"
      }
    },
    {
      "cell_type": "code",
      "source": [
        "# Ваш код здесь\n"
      ],
      "metadata": {
        "id": "mDVrHzyxyk2v"
      },
      "execution_count": null,
      "outputs": []
    },
    {
      "cell_type": "markdown",
      "source": [
        "#### 5.7. Сравните с настоящим целевым значением и предсказанием модели из `sklearn`"
      ],
      "metadata": {
        "id": "NP3fXDhzyk2w"
      }
    },
    {
      "cell_type": "code",
      "source": [
        "# Ваш код здесь\n"
      ],
      "metadata": {
        "id": "FfR8FNr8yk2w"
      },
      "execution_count": null,
      "outputs": []
    },
    {
      "cell_type": "code",
      "source": [
        "# Ваш код здесь\n"
      ],
      "metadata": {
        "id": "aVHZLv-ryk2x"
      },
      "execution_count": null,
      "outputs": []
    },
    {
      "cell_type": "markdown",
      "source": [
        "#### 5.8. Визуализируйте точки с обучения и тестовую с отрисовкой ближайших соседей по удаленности"
      ],
      "metadata": {
        "id": "GWhdUoSvyk2y"
      }
    },
    {
      "cell_type": "code",
      "source": [
        "# Ваш код здесь\n"
      ],
      "metadata": {
        "id": "xD70rvmYyk2y"
      },
      "execution_count": null,
      "outputs": []
    },
    {
      "cell_type": "markdown",
      "source": [
        "## 6. Еще одна задача регрессии"
      ],
      "metadata": {
        "id": "T6mFtupL_xwP"
      }
    },
    {
      "cell_type": "markdown",
      "metadata": {
        "id": "PJVARGYG_xwQ"
      },
      "source": [
        "### Получение данных\n",
        "\n",
        "Будем работать с тем же самым набором данным `fetch_olivetti_faces` из `sklearn`, но уже для задачи регрессии - будем восстанавливать изображение."
      ]
    },
    {
      "cell_type": "code",
      "source": [
        "from sklearn.model_selection import train_test_split\n",
        "\n",
        "data, _ = fetch_olivetti_faces(return_X_y=True)\n",
        "train, test = train_test_split(data, test_size=0.2, random_state=4)"
      ],
      "metadata": {
        "id": "uWD9ztJr_xwQ"
      },
      "execution_count": null,
      "outputs": []
    },
    {
      "cell_type": "markdown",
      "source": [
        "Поделим данные на X и y, где X - это верхняя часть лица человека, на этом модель будет обучаться, а y - это нижняя часть лица человека - её будем предсказывать."
      ],
      "metadata": {
        "id": "MDbWz6kIDIdq"
      }
    },
    {
      "cell_type": "code",
      "source": [
        "n_pixels = data.shape[1]\n",
        "\n",
        "# Upper half of the faces\n",
        "X_train = train[:, :(n_pixels + 1) // 2]\n",
        "# Lower half of the faces\n",
        "y_train = train[:, n_pixels // 2:]\n",
        "\n",
        "\n",
        "X_test = test[:, :(n_pixels + 1) // 2]\n",
        "y_test = test[:, n_pixels // 2:]"
      ],
      "metadata": {
        "id": "0Y31rNs8AkHw"
      },
      "execution_count": null,
      "outputs": []
    },
    {
      "cell_type": "markdown",
      "source": [
        "Вот один пример обучающей пары."
      ],
      "metadata": {
        "id": "7q4nmYnMDTzY"
      }
    },
    {
      "cell_type": "code",
      "source": [
        "import matplotlib.pyplot as plt\n",
        "\n",
        "idx = 0\n",
        "\n",
        "fig, ax = plt.subplots(1, 2, figsize=(15, 8))\n",
        "ax[0].imshow(X_train[idx].reshape((32, 64)), cmap='gray')\n",
        "ax[0].set_title('X')\n",
        "ax[1].imshow(y_train[idx].reshape((32, 64)), cmap='gray')\n",
        "ax[1].set_title('y')\n",
        "ax[0].axis('off')\n",
        "ax[1].axis('off')\n",
        "\n",
        "plt.show()"
      ],
      "metadata": {
        "colab": {
          "base_uri": "https://localhost:8080/",
          "height": 237
        },
        "outputId": "a2e34103-4f60-41e9-a414-b801b932fa97",
        "id": "GYpecml0_xwS"
      },
      "execution_count": null,
      "outputs": [
        {
          "output_type": "display_data",
          "data": {
            "text/plain": [
              "<Figure size 1080x576 with 2 Axes>"
            ],
            "image/png": "[encoded data removed]"
          },
          "metadata": {
            "needs_background": "light"
          }
        }
      ]
    },
    {
      "cell_type": "markdown",
      "source": [
        "#### 6.1. Обучите модель KNN и назовите переменную с моделью knn на 100 соседях"
      ],
      "metadata": {
        "id": "16rigEur_xwV"
      }
    },
    {
      "cell_type": "code",
      "source": [
        "# Ваш код здесь\n"
      ],
      "metadata": {
        "id": "K4z0355H_xwV"
      },
      "execution_count": null,
      "outputs": []
    },
    {
      "cell_type": "markdown",
      "source": [
        "#### 6.2. Проверьте качество работы модели\n",
        "\n",
        "При этом предсказания модели запишите в словарь pred_test с ключом knn.\n"
      ],
      "metadata": {
        "id": "xdj3qzoK_xwW"
      }
    },
    {
      "cell_type": "code",
      "source": [
        "pred_test = {'knn': None,\n",
        "             'weighted_knn': None,\n",
        "             'weighted_knn_custom': None}"
      ],
      "metadata": {
        "id": "TkAjlcTHD1RS"
      },
      "execution_count": null,
      "outputs": []
    },
    {
      "cell_type": "code",
      "source": [
        "# Ваш код здесь\n"
      ],
      "metadata": {
        "id": "0pHkSeQQ_xwW"
      },
      "execution_count": null,
      "outputs": []
    },
    {
      "cell_type": "markdown",
      "source": [
        "#### 6.3. Обучите модель KNN с весами по дистанции и назовите переменную с моделью weighted_knn на 100 соседях"
      ],
      "metadata": {
        "id": "5UGfsu8GEQ5O"
      }
    },
    {
      "cell_type": "code",
      "source": [
        "# Ваш код здесь\n"
      ],
      "metadata": {
        "id": "DhzuI-quEQ5P"
      },
      "execution_count": null,
      "outputs": []
    },
    {
      "cell_type": "markdown",
      "source": [
        "#### 6.4. Проверьте качество работы модели\n",
        "\n",
        "При этом предсказания модели запишите в словарь pred_test с ключом weighted_knn.\n"
      ],
      "metadata": {
        "id": "CL4XC6diEQ5U"
      }
    },
    {
      "cell_type": "code",
      "source": [
        "# Ваш код здесь\n"
      ],
      "metadata": {
        "id": "rkO30FFZEQ5X"
      },
      "execution_count": null,
      "outputs": []
    },
    {
      "cell_type": "markdown",
      "source": [
        "#### 6.5. Напишите свою функцию подсчета весов по дистанции\n",
        "\n",
        "(Можете выбрать любой подход)\n"
      ],
      "metadata": {
        "id": "JpP2X6ZKFcU3"
      }
    },
    {
      "cell_type": "code",
      "source": [
        "# Ваш код здесь\n"
      ],
      "metadata": {
        "id": "HqLNzZ4LFMTA"
      },
      "execution_count": null,
      "outputs": []
    },
    {
      "cell_type": "markdown",
      "source": [
        "#### 6.6. Обучите модель KNN с кастомными весами по дистанции и назовите переменную с моделью weighted_knn_custom на 100 соседях"
      ],
      "metadata": {
        "id": "ZNp9hwkdFMSH"
      }
    },
    {
      "cell_type": "code",
      "source": [
        "# Ваш код здесь\n"
      ],
      "metadata": {
        "id": "65dPHduGFMTE"
      },
      "execution_count": null,
      "outputs": []
    },
    {
      "cell_type": "markdown",
      "source": [
        "#### 6.7. Проверьте качество работы модели\n",
        "\n",
        "При этом предсказания модели запишите в словарь pred_test с ключом weighted_knn_custom.\n"
      ],
      "metadata": {
        "id": "F_atST3_F4FS"
      }
    },
    {
      "cell_type": "code",
      "source": [
        "# Ваш код здесь\n"
      ],
      "metadata": {
        "id": "HvPoVnl8F4FT"
      },
      "execution_count": null,
      "outputs": []
    },
    {
      "cell_type": "markdown",
      "source": [
        "А сейчас отрисуем все предсказания."
      ],
      "metadata": {
        "id": "LzmfZBw1GAQ9"
      }
    },
    {
      "cell_type": "code",
      "source": [
        "ESTIMATORS = {'knn': knn,\n",
        "              'weighted_knn': weighted_knn,\n",
        "              'weighted_knn_custom': weighted_knn_custom}"
      ],
      "metadata": {
        "id": "cA7n35dnDmvK"
      },
      "execution_count": null,
      "outputs": []
    },
    {
      "cell_type": "code",
      "source": [
        "n_faces = 5\n",
        "n_cols = 1 + len(ESTIMATORS)\n",
        "image_shape = (64, 64)\n",
        "plt.figure(figsize=(3 * n_cols, 3 * n_faces))\n",
        "\n",
        "\n",
        "for i in range(5):\n",
        "    true_face = np.hstack((X_test[i], y_test[i]))\n",
        "\n",
        "    if i:\n",
        "        sub = plt.subplot(n_faces, n_cols, i * n_cols + 1)\n",
        "    else:\n",
        "        sub = plt.subplot(n_faces, n_cols, i * n_cols + 1, title=\"true faces\")\n",
        "\n",
        "    sub.axis(\"off\")\n",
        "    sub.imshow(\n",
        "        true_face.reshape(image_shape), cmap=plt.cm.gray, interpolation=\"nearest\"\n",
        "    )\n",
        "\n",
        "    for j, est in enumerate(sorted(ESTIMATORS)):\n",
        "        completed_face = np.hstack((X_test[i], pred_test[est][i]))\n",
        "\n",
        "        if i:\n",
        "            sub = plt.subplot(n_faces, n_cols, i * n_cols + 2 + j)\n",
        "\n",
        "        else:\n",
        "            sub = plt.subplot(n_faces, n_cols, i * n_cols + 2 + j, title=est)\n",
        "\n",
        "        sub.axis(\"off\")\n",
        "        sub.imshow(\n",
        "            completed_face.reshape(image_shape),\n",
        "            cmap=plt.cm.gray,\n",
        "            interpolation=\"nearest\",\n",
        "        )"
      ],
      "metadata": {
        "id": "aIna_q3gCWo-"
      },
      "execution_count": null,
      "outputs": []
    },
    {
      "cell_type": "markdown",
      "source": [
        "#### 7*. Подберите лучшие гиперпараметры для модели, используя метод [GridSearchCV](https://scikit-learn.org/stable/modules/grid_search.html)\n",
        "\n",
        "Примеры использования можно найти в технической документации, а также в следующих источниках:\n",
        "\n",
        "[Пример 1](https://machinelearningknowledge.ai/knn-classifier-in-sklearn-using-gridsearchcv-with-example/#vii_Model_fitting_with_K-cross_Validation_and_GridSearchCV)\n",
        "\n",
        "\n",
        "[Пример 2](https://vc.ru/ml/147132-kak-avtomaticheski-podobrat-parametry-dlya-modeli-mashinnogo-obucheniya-ispolzuem-gridsearchcv)"
      ],
      "metadata": {
        "id": "Sk3IYAOpQBkk"
      }
    },
    {
      "cell_type": "code",
      "source": [
        "# Ваш код здесь\n"
      ],
      "metadata": {
        "id": "mEZyVU1xgR69"
      },
      "execution_count": null,
      "outputs": []
    }
  ]
}