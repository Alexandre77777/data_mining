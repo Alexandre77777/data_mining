{
  "cells": [
    {
      "cell_type": "markdown",
      "metadata": {
        "id": "view-in-github",
        "colab_type": "text"
      },
      "source": [
        "<a href=\"https://colab.research.google.com/github/Alexandre77777/data_mining/blob/main/1.%20%D0%92%D0%B2%D0%B5%D0%B4%D0%B5%D0%BD%D0%B8%D0%B5/%D0%9F%D1%80%D0%B0%D0%BA%D1%82%D0%B8%D0%BA%D0%B0/4.%20%D0%9F%D1%80%D0%B0%D0%BA%D1%82%D0%B8%D0%BA%D0%B0_%D0%92%D0%B8%D0%B7%D1%83%D0%B0%D0%BB%D1%8C%D0%BD%D1%8B%D0%B9_%D0%B0%D0%BD%D0%B0%D0%BB%D0%B8%D0%B7_%D0%B4%D0%B0%D0%BD%D0%BD%D1%8B%D1%85_(Matplotlib_Seaborn_Pandas)_%D0%A7%D0%B0%D1%81%D1%82%D1%8C_2.ipynb\" target=\"_parent\"><img src=\"https://colab.research.google.com/assets/colab-badge.svg\" alt=\"Open In Colab\"/></a>"
      ]
    },
    {
      "cell_type": "markdown",
      "metadata": {
        "id": "I2rTGDBJWkgW"
      },
      "source": [
        "# Практика. Визуальный анализ данных (Matplotlib/Seaborn/Pandas). Часть 2\n",
        "\n",
        "\n",
        "1. Скачайте этот блокнот к себе.\n",
        "2. Заполните пропущенные ячейки, отвечая на заданные вопросы. Там должен быть код! (если не сказано обратное)\n",
        "3. Сохраните результат в своём репозитории.\n",
        "\n",
        "#### Полезная литература\n",
        "- [**Блокнот с теорией**](https://colab.research.google.com/github/Alexandre77777/data_mining/blob/main/1.%20%D0%92%D0%B2%D0%B5%D0%B4%D0%B5%D0%BD%D0%B8%D0%B5/%D0%A2%D0%B5%D0%BE%D1%80%D0%B8%D1%8F/3.%20%D0%A2%D0%B5%D0%BE%D1%80%D0%B8%D1%8F_Matplotlib_Seaborn_Plotly.ipynb)\n",
        "- [Галерея графиков Matplotlib](https://matplotlib.org/gallery/index.html)\n",
        "- [Галерея графиков Seaborn](http://seaborn.pydata.org/examples/index.html)\n",
        "- [Открытый курс машинного обучения. Тема 2: Визуализация данных c Python](https://habr.com/company/ods/blog/323210/)"
      ]
    },
    {
      "cell_type": "code",
      "execution_count": null,
      "metadata": {
        "id": "xXXNyGgor8cS"
      },
      "outputs": [],
      "source": [
        " !pip install seaborn==0.11.0\n",
        "import pandas as pd\n",
        "import matplotlib.pyplot as plt\n",
        "import seaborn as sns"
      ]
    },
    {
      "cell_type": "code",
      "execution_count": null,
      "metadata": {
        "id": "SD11kC4FsOId"
      },
      "outputs": [],
      "source": [
        "colab = True # если работаете на своём компьютере, поставьте False\n",
        "if colab:\n",
        "    from google.colab import drive\n",
        "    drive.mount('/content/drive')"
      ]
    },
    {
      "cell_type": "markdown",
      "metadata": {
        "id": "vLudpr72YzsA"
      },
      "source": [
        "## Визуальный анализ данных\n",
        "\n",
        "В этом задании вам предлагается провести визуальный анализ датасета результатов экзаменов студентов  https://www.kaggle.com/spscientist/students-performance-in-exams."
      ]
    },
    {
      "cell_type": "code",
      "execution_count": null,
      "metadata": {
        "id": "NASz2d9Qsn2y"
      },
      "outputs": [],
      "source": [
        "if colab:\n",
        "    df = pd.read_csv('/content/drive/My Drive/Data/StudentsPerformance.csv')\n",
        "else:\n",
        "    df = pd.read_csv(\"../../data/StudentsPerformance.csv\")\n",
        "\n",
        "df"
      ]
    },
    {
      "cell_type": "markdown",
      "metadata": {
        "id": "bXQbQ_rSGvSm"
      },
      "source": [
        "## Задания\n",
        "#### 1. Постройте 3 графика, показывающих распределение результатов экзаменов (каждый график на предмет).\n",
        "\n",
        "\n",
        "Графики должны быть в одном ряду и у них должен быть общий заголовок \"Результаты экзаменов\".\n",
        "\n",
        "Для результатов каждого экзамена посчитайте медианные значения.\n"
      ]
    },
    {
      "cell_type": "code",
      "execution_count": null,
      "metadata": {
        "id": "0_N-Vhj52AZe"
      },
      "outputs": [],
      "source": []
    },
    {
      "cell_type": "code",
      "execution_count": null,
      "metadata": {
        "id": "uyODj6A99nR2"
      },
      "outputs": [],
      "source": []
    },
    {
      "cell_type": "markdown",
      "metadata": {
        "id": "Iu0c3MQzIBBC"
      },
      "source": [
        "#### 2. Образование родителей\n",
        "Какие уровни образование есть в столбце *'parental level of education'* и сколько строк в датафрейме соответствует каждому уровню?\n",
        "\n",
        "Постройте график и ответьте на вопрос ниже\n",
        "\n",
        "Отличаются ли баллы по математике у детей с разным образованием родителей?\n",
        "Постройте график, где по оси Х находятся уровни образования родителей, а по У - баллы по математике.\n"
      ]
    },
    {
      "cell_type": "code",
      "execution_count": null,
      "metadata": {
        "id": "-k2XGvhDxwFm"
      },
      "outputs": [],
      "source": []
    },
    {
      "cell_type": "markdown",
      "metadata": {
        "id": "Sw9FPFiSIYfv"
      },
      "source": [
        "#### 3. Выведите число студенток, набравших больше 90 баллов по всем предметам.\n"
      ]
    },
    {
      "cell_type": "code",
      "execution_count": null,
      "metadata": {
        "id": "GLxqaInREE6c"
      },
      "outputs": [],
      "source": []
    },
    {
      "cell_type": "markdown",
      "metadata": {
        "id": "p1djXs5-EmEE"
      },
      "source": [
        "#### 4. Сравните баллы у студентов разных полов. Используя agg() выведите минимальное, максимальное и медианное значение\n",
        ""
      ]
    },
    {
      "cell_type": "code",
      "execution_count": null,
      "metadata": {
        "id": "TNHyt2UOFH4i"
      },
      "outputs": [],
      "source": []
    },
    {
      "cell_type": "markdown",
      "metadata": {
        "id": "GLRV8yYSFWxc"
      },
      "source": [
        "#### 5. Выясните, влияет ли обед и подготовка к тесту на средний балл студентов разного пола\n",
        "###### (подсказка: используете agg())"
      ]
    },
    {
      "cell_type": "code",
      "execution_count": null,
      "metadata": {
        "id": "NZqvqVFBFSAX"
      },
      "outputs": [],
      "source": []
    },
    {
      "cell_type": "markdown",
      "metadata": {
        "id": "4iWfT1LAIsD6"
      },
      "source": [
        "#### 6. Постройте график, показывающий зависимость уровня образования родителей от их расы"
      ]
    },
    {
      "cell_type": "code",
      "execution_count": null,
      "metadata": {
        "id": "Yq59hOngIrZU"
      },
      "outputs": [],
      "source": []
    },
    {
      "cell_type": "markdown",
      "metadata": {
        "id": "WEuMRUTXJhGR"
      },
      "source": [
        "#### 7. Постройте график, показывающий зависимость прохождения подготовительного теста от уровня образования родителей.\n",
        "\n",
        "\n",
        "Кто чаще ходит на курсы: дети, родители которых закончили только старшую школу, или дети, чьи родители получили степень бакалавра\\магистра?"
      ]
    },
    {
      "cell_type": "code",
      "execution_count": null,
      "metadata": {
        "id": "6IVov0O_Jgq4"
      },
      "outputs": [],
      "source": []
    },
    {
      "cell_type": "markdown",
      "metadata": {
        "id": "8lXO-vmvKqQQ"
      },
      "source": [
        "#### 8. Постройте plot.pie, показывающий, сколько людей сдали\\не сдали экзамен по математике.\n",
        "\n",
        "Сдавшим считается человек, набравший 40 баллов.\n",
        "\n",
        "###### Подсказка: создайте столбец в датафрейме, который содержит результат сдачи (сдал или не сдал)"
      ]
    },
    {
      "cell_type": "code",
      "execution_count": null,
      "metadata": {
        "id": "avMZyzRrKgzj"
      },
      "outputs": [],
      "source": []
    },
    {
      "cell_type": "markdown",
      "metadata": {
        "id": "CDq0YqVLL6Ce"
      },
      "source": [
        "#### 9. Постройте plot.pie, показывающий распределение студентов по оценкам\n",
        "\n",
        "Оценки студентов выставляются по шкале:<br>\n",
        "0  - 40 marks : grade E<br>\n",
        "41 - 60 marks : grade D<br>\n",
        "60 - 70 marks : grade C<br>\n",
        "70 - 80 marks : grade B<br>\n",
        "80 - 90 marks : grade A<br>\n",
        "90 - 100 marks : grade O<br>\n",
        "\n",
        "Для этого посчитайте сумму результатов за 3 экзамена и найдите среднее. Оценка выставляется по среднему значению. Если студент не сдал математику(даже если средний балл выше 40), он получает Е"
      ]
    },
    {
      "cell_type": "code",
      "execution_count": null,
      "metadata": {
        "id": "o_7WndmiP4jM"
      },
      "outputs": [],
      "source": []
    },
    {
      "cell_type": "markdown",
      "metadata": {
        "id": "p9hannzMQQT7"
      },
      "source": [
        "#### 10. Постройте countplot, показывающий зависимость между итоговой оценкой студентов и его полом. Студенты какого пола получили больше оценок О, А, В"
      ]
    },
    {
      "cell_type": "code",
      "execution_count": null,
      "metadata": {
        "id": "b31g7OlGQK-6"
      },
      "outputs": [],
      "source": []
    }
  ],
  "metadata": {
    "colab": {
      "provenance": [],
      "include_colab_link": true
    },
    "kernelspec": {
      "display_name": "Python 3",
      "language": "python",
      "name": "python3"
    },
    "language_info": {
      "codemirror_mode": {
        "name": "ipython",
        "version": 3
      },
      "file_extension": ".py",
      "mimetype": "text/x-python",
      "name": "python",
      "nbconvert_exporter": "python",
      "pygments_lexer": "ipython3",
      "version": "3.8.2"
    }
  },
  "nbformat": 4,
  "nbformat_minor": 0
}