{
  "nbformat": 4,
  "nbformat_minor": 0,
  "metadata": {
    "colab": {
      "provenance": [],
      "collapsed_sections": [
        "LTWfwtvnkYlX",
        "msvwZmQVkWX8"
      ],
      "authorship_tag": "ABX9TyOPYBsw+urL/K77sIpPPjKS",
      "include_colab_link": true
    },
    "kernelspec": {
      "name": "python3",
      "display_name": "Python 3"
    },
    "language_info": {
      "name": "python"
    }
  },
  "cells": [
    {
      "cell_type": "markdown",
      "metadata": {
        "id": "view-in-github",
        "colab_type": "text"
      },
      "source": [
        "<a href=\"https://colab.research.google.com/github/Alexandre77777/computer_math/blob/main/6.%20%D0%A0%D0%B0%D0%B1%D0%BE%D1%82%D0%B0%20%D1%81%20%D1%8D%D0%BB%D0%B5%D0%BA%D1%82%D1%80%D0%BE%D0%BD%D0%BD%D1%8B%D0%BC%D0%B8%20%D1%82%D0%B0%D0%B1%D0%BB%D0%B8%D1%86%D0%B0%D0%BC%D0%B8.%20%D0%9C%D0%BD%D0%BE%D0%B3%D0%BE%D0%BF%D0%BE%D1%82%D0%BE%D1%87%D0%BD%D0%B0%D1%8F%20%D0%B8%20%D0%BC%D0%BD%D0%BE%D0%B3%D0%BE%D0%BF%D1%80%D0%BE%D1%86%D0%B5%D1%81%D1%81%D0%BE%D1%80%D0%BD%D0%B0%D1%8F%20%D0%BE%D0%BF%D1%82%D0%B8%D0%BC%D0%B8%D0%B7%D0%B0%D1%86%D0%B8%D1%8F.%20%D0%93%D0%B5%D0%BD%D0%B5%D1%80%D0%B0%D1%82%D0%BE%D1%80%D1%8B/%D0%9F%D1%80%D0%B0%D0%BA%D1%82%D0%B8%D1%87%D0%B5%D1%81%D0%BA%D0%B0%D1%8F_%D1%80%D0%B0%D0%B1%D0%BE%D1%82%D0%B0_%E2%84%966_%D0%A4%D0%BE%D1%80%D0%BC%D0%B8%D1%80%D0%BE%D0%B2%D0%B0%D0%BD%D0%B8%D0%B5_%D1%8D%D0%BB%D0%B5%D0%BA%D1%82%D1%80%D0%BE%D0%BD%D0%BD%D1%8B%D1%85_%D1%82%D0%B0%D0%B1%D0%BB%D0%B8%D1%86.ipynb\" target=\"_parent\"><img src=\"https://colab.research.google.com/assets/colab-badge.svg\" alt=\"Open In Colab\"/></a>"
      ]
    },
    {
      "cell_type": "markdown",
      "source": [
        "# Практическая работа №6. Формирование электронных таблиц. Многопоточная и многопроцессорная оптимизация. Работа с генераторами"
      ],
      "metadata": {
        "id": "LVpVIiF79eP9"
      }
    },
    {
      "cell_type": "markdown",
      "source": [
        "# Теоретическая часть"
      ],
      "metadata": {
        "id": "yerKtPK1-6Rf"
      }
    },
    {
      "cell_type": "markdown",
      "source": [
        "## 1. Генераторы в Python"
      ],
      "metadata": {
        "id": "LTWfwtvnkYlX"
      }
    },
    {
      "cell_type": "markdown",
      "source": [
        "**Генератор данных** - это специальный вид функции в Python, который позволяет создавать последовательность значений по мере необходимости. Вместо того чтобы сразу генерировать и хранить все значения, генератор создает их по одному по требованию.\n",
        "\n",
        "\n",
        "1. **Создание генератора:**\n",
        "    - Генератор создается с использованием ключевого слова `yield` внутри функции.\n",
        "    - Вместо `return`, генератор использует `yield` для возврата значения и приостановки выполнения функции.\n",
        "    - Пример:\n",
        "        ```python\n",
        "        def my_generator():\n",
        "            yield 1\n",
        "            yield 2\n",
        "            yield 3\n",
        "\n",
        "        gen = my_generator()\n",
        "        ```\n",
        "\n",
        "2. **Ленивая загрузка:**\n",
        "    - Генераторы работают с ленивой загрузкой (lazy evaluation).\n",
        "    - Они не создают все значения сразу, а только по мере запроса.\n",
        "    - Это полезно для обработки больших объемов данных, когда нельзя или не нужно хранить все значения в памяти.\n",
        "\n",
        "3. **Итерация по генератору:**\n",
        "    - Генераторы можно использовать в циклах `for`.\n",
        "    - Каждый вызов `yield` возвращает следующее значение из генератора.\n",
        "    - Пример:\n",
        "        ```python\n",
        "        for value in gen:\n",
        "            print(value)\n",
        "        ```\n",
        "\n",
        "4. **Состояние генератора:**\n",
        "    - Генераторы сохраняют свое состояние между вызовами.\n",
        "    - После каждого `yield` выполнение функции приостанавливается, а состояние сохраняется.\n",
        "    - При следующем вызове генератор продолжает выполнение с того места, где остановился.\n",
        "\n",
        "5. **Применение генераторов:**\n",
        "    - Генераторы полезны для обработки больших файлов, потоковых данных, бесконечных последовательностей и других сценариев, где требуется эффективная загрузка данных."
      ],
      "metadata": {
        "id": "ff1ybZB4s0nU"
      }
    },
    {
      "cell_type": "markdown",
      "source": [
        "### 1.1. **Функция `next()`**"
      ],
      "metadata": {
        "id": "mx5aI3h1_KfN"
      }
    },
    {
      "cell_type": "markdown",
      "source": [
        "1. **Функция `next()`**:\n",
        "    - `next()` - это встроенная функция Python, которая используется для получения следующего значения из итератора (включая генераторы).\n",
        "    - Когда вызывается `next()`, итератор продвигается к следующему элементу и возвращает его.\n",
        "    - Если больше элементов нет, вызывается исключение `StopIteration`.\n",
        "\n",
        "2. **Использование в генераторах**:\n",
        "    - В примерах, которые я предоставил ранее, мы использовали `next()` для получения следующей порции данных из генератора.\n",
        "    - В генераторах `next()` используется для получения следующего значения, которое было создано с помощью `yield`.\n",
        "    - Пример:\n",
        "        ```python\n",
        "        def my_generator():\n",
        "            yield 1\n",
        "            yield 2\n",
        "            yield 3\n",
        "\n",
        "        gen = my_generator()\n",
        "\n",
        "        print(next(gen))  # Выведет 1\n",
        "        print(next(gen))  # Выведет 2\n",
        "        print(next(gen))  # Выведет 3\n",
        "        ```\n",
        "\n",
        "3. **Обработка исключения `StopIteration`**:\n",
        "    - Если больше элементов нет, вызывается исключение `StopIteration`.\n",
        "    - Поэтому важно использовать `next()` внутри блока `try`/`except` для обработки этого исключения.\n",
        "\n",
        "В общем, `next()` -  позволяет нам получать значения по мере необходимости, что особенно полезно при обработке больших объемов данных."
      ],
      "metadata": {
        "id": "iFg9T1bE3czI"
      }
    },
    {
      "cell_type": "markdown",
      "source": [
        "### 1.2. Примеры генераторов:\n",
        "\n"
      ],
      "metadata": {
        "id": "6aqqzH5Ds6-i"
      }
    },
    {
      "cell_type": "markdown",
      "source": [
        "1. **Генератор случайных чисел:**\n",
        "    - Этот генератор возвращает случайные числа в заданном диапазоне."
      ],
      "metadata": {
        "id": "qU_jpYdijcFf"
      }
    },
    {
      "cell_type": "code",
      "source": [
        "import random\n",
        "\n",
        "def random_numbers(n, min_val, max_val):\n",
        "    for _ in range(n):\n",
        "        yield random.randint(min_val, max_val)"
      ],
      "metadata": {
        "id": "NXNXvJjai4kU"
      },
      "execution_count": null,
      "outputs": []
    },
    {
      "cell_type": "code",
      "source": [
        "# Пример использования\n",
        "\n",
        "gen = random_numbers(5, 1, 10)\n",
        "\n",
        "for num in gen:\n",
        "    print(num)"
      ],
      "metadata": {
        "id": "q6xlJVOSkPo5",
        "colab": {
          "base_uri": "https://localhost:8080/"
        },
        "outputId": "baba0f78-6465-4d7d-e8e7-722426c09650"
      },
      "execution_count": null,
      "outputs": [
        {
          "output_type": "stream",
          "name": "stdout",
          "text": [
            "6\n",
            "8\n",
            "4\n",
            "4\n",
            "3\n"
          ]
        }
      ]
    },
    {
      "cell_type": "code",
      "source": [
        "gen = random_numbers(5, 1, 10)"
      ],
      "metadata": {
        "id": "whGut88NDHgA"
      },
      "execution_count": null,
      "outputs": []
    },
    {
      "cell_type": "code",
      "source": [
        "next(gen)"
      ],
      "metadata": {
        "colab": {
          "base_uri": "https://localhost:8080/"
        },
        "id": "v9fiPTKVDQJq",
        "outputId": "87559f18-4a65-415d-c980-5923ef87e967"
      },
      "execution_count": null,
      "outputs": [
        {
          "output_type": "execute_result",
          "data": {
            "text/plain": [
              "9"
            ]
          },
          "metadata": {},
          "execution_count": 90
        }
      ]
    },
    {
      "cell_type": "markdown",
      "source": [
        "2. **Генератор бесконечной последовательности чисел:**\n",
        "    - Этот формирует создает бесконечную последовательность чисел, начиная с заданного значения.\n"
      ],
      "metadata": {
        "id": "OjTmZML0i84i"
      }
    },
    {
      "cell_type": "code",
      "source": [
        "def infinite_sequence(start=0):\n",
        "    while True:\n",
        "        yield start\n",
        "        start += 1"
      ],
      "metadata": {
        "id": "d0XKZ3_OjAE0"
      },
      "execution_count": null,
      "outputs": []
    },
    {
      "cell_type": "code",
      "source": [
        "# Пример использования\n",
        "numbers = infinite_sequence(10)\n",
        "for _ in range(5):\n",
        "    print(next(numbers))"
      ],
      "metadata": {
        "id": "D8QHpZSwkNLz",
        "colab": {
          "base_uri": "https://localhost:8080/"
        },
        "outputId": "c0366709-5ed3-4b25-8bcf-13b3e8813eaf"
      },
      "execution_count": null,
      "outputs": [
        {
          "output_type": "stream",
          "name": "stdout",
          "text": [
            "10\n",
            "11\n",
            "12\n",
            "13\n",
            "14\n"
          ]
        }
      ]
    },
    {
      "cell_type": "code",
      "source": [
        "next(numbers)"
      ],
      "metadata": {
        "colab": {
          "base_uri": "https://localhost:8080/"
        },
        "id": "TrspMvbeEQZO",
        "outputId": "5753d58a-151d-4891-eca9-27e81146446a"
      },
      "execution_count": null,
      "outputs": [
        {
          "output_type": "execute_result",
          "data": {
            "text/plain": [
              "18"
            ]
          },
          "metadata": {},
          "execution_count": 97
        }
      ]
    },
    {
      "cell_type": "markdown",
      "source": [
        "\n",
        "3. **Генератор факториалов:**\n",
        "    - Этот генератор создает последовательность факториалов чисел.\n"
      ],
      "metadata": {
        "id": "wBm97SJMjD_c"
      }
    },
    {
      "cell_type": "code",
      "source": [
        "def factorial():\n",
        "    result = 1\n",
        "    n = 1\n",
        "    while True:\n",
        "        yield result\n",
        "        n += 1\n",
        "        result *= n"
      ],
      "metadata": {
        "id": "3O_NUyRnjMmT"
      },
      "execution_count": null,
      "outputs": []
    },
    {
      "cell_type": "code",
      "source": [
        "# Пример использования\n",
        "fact_gen = factorial()\n",
        "for _ in range(6):\n",
        "    print(next(fact_gen))"
      ],
      "metadata": {
        "id": "1VqsFX91kKHh",
        "colab": {
          "base_uri": "https://localhost:8080/"
        },
        "outputId": "921038bf-1595-472f-9e8e-6d57bf023f68"
      },
      "execution_count": null,
      "outputs": [
        {
          "output_type": "stream",
          "name": "stdout",
          "text": [
            "1\n",
            "2\n",
            "6\n",
            "24\n",
            "120\n",
            "720\n"
          ]
        }
      ]
    },
    {
      "cell_type": "markdown",
      "source": [
        "4. **Генератор строк из файла:**\n",
        "    - Этот генератор читает строки из текстового файла по одной.\n"
      ],
      "metadata": {
        "id": "9gxz6rTXjRji"
      }
    },
    {
      "cell_type": "code",
      "source": [
        "def generate_text_file(file_path=\"my_text_file.txt\", num_lines=15):\n",
        "    with open(file_path, 'w') as file:\n",
        "        for i in range(1, num_lines + 1):\n",
        "            file.write(f\"This is line {i}\\n\")\n",
        "generate_text_file()\n",
        "\n",
        "def read_lines(file_path):\n",
        "    with open(file_path, 'r') as file:\n",
        "        for line in file:\n",
        "            yield line.strip()"
      ],
      "metadata": {
        "id": "aTPGC6H0jT3X"
      },
      "execution_count": null,
      "outputs": []
    },
    {
      "cell_type": "code",
      "source": [
        "# Пример использования\n",
        "file_path = \"my_text_file.txt\"\n",
        "\n",
        "gen = read_lines(file_path)\n",
        "\n",
        "for line in gen:\n",
        "    print(line)"
      ],
      "metadata": {
        "id": "Kh08hqF3jIpk",
        "colab": {
          "base_uri": "https://localhost:8080/"
        },
        "outputId": "4a610489-45b8-487a-9f1e-ec68dd979e51"
      },
      "execution_count": null,
      "outputs": [
        {
          "output_type": "stream",
          "name": "stdout",
          "text": [
            "This is line 1\n",
            "This is line 2\n",
            "This is line 3\n",
            "This is line 4\n",
            "This is line 5\n",
            "This is line 6\n",
            "This is line 7\n",
            "This is line 8\n",
            "This is line 9\n",
            "This is line 10\n",
            "This is line 11\n",
            "This is line 12\n",
            "This is line 13\n",
            "This is line 14\n",
            "This is line 15\n"
          ]
        }
      ]
    },
    {
      "cell_type": "code",
      "source": [
        "gen = read_lines(file_path)"
      ],
      "metadata": {
        "id": "Vu2M2vBpsh9f"
      },
      "execution_count": null,
      "outputs": []
    },
    {
      "cell_type": "code",
      "source": [
        "next(gen)"
      ],
      "metadata": {
        "colab": {
          "base_uri": "https://localhost:8080/",
          "height": 35
        },
        "id": "wNOanSEZsQZM",
        "outputId": "9aca5de0-d68f-4a3f-9182-f32c10b80afb"
      },
      "execution_count": null,
      "outputs": [
        {
          "output_type": "execute_result",
          "data": {
            "text/plain": [
              "'This is line 1'"
            ],
            "application/vnd.google.colaboratory.intrinsic+json": {
              "type": "string"
            }
          },
          "metadata": {},
          "execution_count": 113
        }
      ]
    },
    {
      "cell_type": "markdown",
      "source": [
        "## 2. Оптимизация вычислений"
      ],
      "metadata": {
        "id": "msvwZmQVkWX8"
      }
    },
    {
      "cell_type": "markdown",
      "source": [
        "Оптимизация программного обеспечения является важной частью разработки программного обеспечения. Она включает в себя ряд техник и подходов, направленных на улучшение производительности и эффективности программы. Одним из способов достижения этого является использование параллелизма, который может быть реализован с помощью процессов или потоков.\n"
      ],
      "metadata": {
        "id": "OONWVwtDooeQ"
      }
    },
    {
      "cell_type": "markdown",
      "source": [
        "- **Процесс** - это программа, которая выполняется на вашем компьютере. Каждый процесс имеет свое собственное виртуальное пространство памяти и работает независимо от других процессов. Процессы могут взаимодействовать друг с другом через системные вызовы.\n",
        "\n",
        "- **Поток**, с другой стороны, является частью процесса. Потоки в одном процессе могут делиться некоторыми ресурсами, такими как память, что делает их более легкими и быстрее в создании и переключении, чем процессы. Потоки в одном процессе могут работать параллельно, что позволяет более эффективно использовать многоядерные процессоры.\n",
        "\n"
      ],
      "metadata": {
        "id": "YlzrA7drnoDW"
      }
    },
    {
      "cell_type": "markdown",
      "source": [
        "Можно сказать, что процесс - это как программа, выполняющаяся на вашем компьютере, а поток - это задача, которую выполняет этот процесс. Если у вас есть несколько потоков в одном процессе, они могут выполнять задачи параллельно.\n",
        "\n",
        "В зависимости от конкретных требований и ограничений вашего приложения, вы можете выбрать использовать либо процессы, либо потоки для оптимизации вашей программы. Оба подхода имеют свои преимущества и недостатки, и выбор между ними будет зависеть от специфики вашей задачи."
      ],
      "metadata": {
        "id": "NKjEex9bpJtd"
      }
    },
    {
      "cell_type": "markdown",
      "source": [
        "### 2.1. Модули для управления процессами и потоками в Python"
      ],
      "metadata": {
        "id": "q66GVE0UpLG4"
      }
    },
    {
      "cell_type": "markdown",
      "source": [
        "- **Multiprocessing** в Python - это модуль, который позволяет создавать процессы, используя API. Он обеспечивает как локальную, так и удаленную параллельность, эффективно обходя глобальную блокировку интерпретатора за счет использования подпроцессов вместо потоков. Это позволяет полностью использовать несколько ядер (процессоров) на данной машине. Он работает как на POSIX, так и на Windows.\n",
        "\n",
        "- **ThreadPoolExecutor** в Python - это класс, который предоставляет возможность создания и использования пула потоков для эффективного выполнения задач параллельно. Этот класс является частью стандартной библиотеки Python и предлагает легко используемые пулы рабочих потоков посредством современного шаблона исполнителя. Он идеален для выполнения циклов задач ввода-вывода параллельно и для выдачи задач асинхронно.\n",
        "\n",
        "> В обоих случаях, `multiprocessing` и `ThreadPoolExecutor` предоставляют удобные и эффективные способы для параллельного выполнения задач в Python. Они оба являются мощными инструментами, которые могут значительно улучшить производительность и эффективность ваших программ на Python. Однако выбор между ними зависит от конкретных требований и ограничений вашего приложения. В некоторых случаях может быть предпочтительнее использовать `multiprocessing`, в то время как в других случаях лучше использовать `ThreadPoolExecutor`."
      ],
      "metadata": {
        "id": "wPgd95ZKmEuW"
      }
    },
    {
      "cell_type": "markdown",
      "source": [
        "#### *Таблица №1. Сравнительная таблица Multiprocessing и ThreadPoolExecutor*\n",
        "\n",
        "| Критерий | Multiprocessing | ThreadPoolExecutor |\n",
        "|---|---|---|\n",
        "| **Тип** | **Процессы** | **Потоки** |\n",
        "| **Совместное использование данных** | **Сериализация** | **Объекты Python** |\n",
        "| **Скорость** | **Высокая** | **Средняя** |\n",
        "| **Сложность** | **Высокая** | **Низкая** |\n",
        "| **Ошибки** | **Ошибки сериализации** | **Ограничения потоков** |\n",
        "| **Подходит для** | **Задачи, требующие много ресурсов** | **Задачи, не требующие много ресурсов** |\n",
        "\n",
        "\n",
        "**Рекомендации:**\n",
        "\n",
        "* **Используйте** Multiprocessing для задач, которые **можно** разделить на **независимые** части и **требуют** много ресурсов.\n",
        "* **Используйте** ThreadPoolExecutor для задач, которые **не** требуют большого количества ресурсов и **не могут** быть разделены на независимые части.\n"
      ],
      "metadata": {
        "id": "1wgWrbtZmvSs"
      }
    },
    {
      "cell_type": "markdown",
      "source": [
        "### 2.2. Сериализация"
      ],
      "metadata": {
        "id": "Y6tcIucf_27n"
      }
    },
    {
      "cell_type": "markdown",
      "source": [
        "**Сериализация** - это процесс преобразования объекта Python в байтовый поток, который можно сохранить или передать по сети. Это может быть полезно для сохранения данных, обмена данными между программами или для удаленного выполнения кода.\n",
        "\n",
        "**Пример:**\n",
        "\n",
        "```python\n",
        "import pickle\n",
        "\n",
        "a = [1, 2, 3]\n",
        "\n",
        "with open(\"data.pkl\", \"wb\") as f:\n",
        "    pickle.dump(a, f)\n",
        "\n",
        "with open(\"data.pkl\", \"rb\") as f:\n",
        "    b = pickle.load(f)\n",
        "\n",
        "print(a == b)  # True\n",
        "```\n",
        "\n",
        "В этом примере мы сериализовали список `a` в файл `data.pkl`. Затем мы десериализовали файл обратно в переменную `b`.\n",
        "\n",
        "#### Объекты Python\n",
        "\n",
        "**Объекты Python** - это сущности, которые имеют состояние и поведение. Они могут быть созданы из классов или с помощью встроенных функций Python.\n",
        "\n",
        "**Пример:**\n",
        "\n",
        "```python\n",
        "class Person:\n",
        "    def __init__(self, name, age):\n",
        "        self.name = name\n",
        "        self.age = age\n",
        "\n",
        "p = Person(\"John Doe\", 30)\n",
        "\n",
        "print(p.name)  # John Doe\n",
        "print(p.age)  # 30\n",
        "```\n",
        "\n",
        "В этом примере мы создали класс `Person` и затем создали объект `p` этого класса.\n",
        "\n",
        "#### Сериализация и объекты Python\n",
        "\n",
        "* **Сериализация** может быть использована для совместного использования данных между процессами или машинами.\n",
        "* **Объекты Python** могут быть сериализованы для сохранения их состояния или для передачи их по сети.\n",
        "\n"
      ],
      "metadata": {
        "id": "TMWhrSO3qfAU"
      }
    },
    {
      "cell_type": "markdown",
      "source": [
        "### 2.3. **Простыми словами:**"
      ],
      "metadata": {
        "id": "DXcWlRwHlyy4"
      }
    },
    {
      "cell_type": "markdown",
      "source": [
        "##### **2.3.1. Процессы и потоки:**"
      ],
      "metadata": {
        "id": "GWZ49bnPAU-W"
      }
    },
    {
      "cell_type": "markdown",
      "source": [
        "\n",
        "\n",
        "- **Процесс:**\n",
        "  - Представьте себе **пекарню**. Пекарня – это **процесс**, в котором происходит выпечка хлеба. В пекарне есть разные **инструменты** (миксеры, печи) и **ингредиенты** (мука, вода), которые используются для создания **продукта** (хлеба).\n",
        "\n",
        "- **Поток:**\n",
        "  - Теперь представьте, что **пекари** – это **потоки** в пекарне. Каждый пекарь выполняет **часть** работы (замешивает тесто, ставит хлеб в печь), но все они **вместе**\n",
        "\n",
        "**В чем разница?**\n",
        "* **Процесс** – это **самостоятельная** программа, которая работает в **своей** памяти.\n",
        "* **Поток** – это **часть** процесса, которая выполняется **одновременно** с другими потоками.\n",
        "\n",
        "\n"
      ],
      "metadata": {
        "id": "t5-91u9In9pX"
      }
    },
    {
      "cell_type": "markdown",
      "source": [
        "##### **2.3.2. Многопроцессорность и пул потоков:**"
      ],
      "metadata": {
        "id": "019YgMvLoUBO"
      }
    },
    {
      "cell_type": "markdown",
      "source": [
        "1. **Multiprocessing (Многопроцессорность)**:\n",
        "    - Представьте, что у вас есть несколько \"рабочих\", каждый из которых выполняет свою задачу.\n",
        "    - В многопроцессорном подходе каждый рабочий (процесс) работает в отдельном ядре (процессоре).\n",
        "    - Это позволяет выполнять несколько задач одновременно, так как каждый процесс имеет свои собственные ресурсы (память, вычислительную мощность).\n",
        "    - Пример: Если у вас есть 4 ядра на компьютере, вы можете запустить 4 процесса параллельно для ускорения вычислений.\n",
        "\n",
        "2. **ThreadPoolExecutor (Пул потоков)**:\n",
        "    - Представьте, что у вас есть команда рабочих, работающих в одной комнате.\n",
        "    - В пуле потоков все рабочие (потоки) используют общие ресурсы (память, вычислительную мощность).\n",
        "    - Они могут выполнять разные задачи, но в одном и том же ядре (процессоре).\n",
        "    - Это позволяет эффективно использовать доступные ресурсы, но потоки работают последовательно (не одновременно).\n",
        "    - Пример: Если у вас есть 4 ядра, но много задач, пул потоков поможет распределить работу между потоками.\n",
        "\n"
      ],
      "metadata": {
        "id": "KSnlKz-8lhu5"
      }
    },
    {
      "cell_type": "markdown",
      "source": [
        ">**Вывод**: Многопроцессорность позволяет выполнять задачи одновременно, но требует больше ресурсов. Пул потоков более эффективен в использовании ресурсов, но работает последовательно. Выбор зависит от конкретной задачи и доступных ресурсов."
      ],
      "metadata": {
        "id": "_HrBYEseofxc"
      }
    },
    {
      "cell_type": "markdown",
      "source": [
        "### 2.4. Примеры"
      ],
      "metadata": {
        "id": "J4eZc5V2qEP1"
      }
    },
    {
      "cell_type": "markdown",
      "source": [
        "### 2.4.1. Пример №1"
      ],
      "metadata": {
        "id": "IGdciZGiAlNp"
      }
    },
    {
      "cell_type": "markdown",
      "source": [
        "Ниже приведен пример кода на Python, который демонстрирует использование модулей `multiprocessing` и `ThreadPoolExecutor` для параллельного выполнения задачи. Задача, которую выполняет этот код, - это возведение в квадрат каждого числа в диапазоне от 0 до 100000:\n",
        "\n",
        "1. В начале кода определяется функция `task`, которая принимает число и возвращает его квадрат. Затем определяется функция `measure_time`, которая измеряет время выполнения функции.\n",
        "\n",
        "2. В основной части кода сначала выполняется последовательное выполнение задачи с использованием функции `map`. Затем та же задача выполняется параллельно с использованием модуля `multiprocessing`. Наконец, задача выполняется с использованием `ThreadPoolExecutor`.\n",
        "\n",
        "3. Время выполнения каждого из этих подходов замеряется и выводится на экран. Это позволяет сравнить производительность каждого подхода."
      ],
      "metadata": {
        "id": "yGRIIWS5rDuG"
      }
    },
    {
      "cell_type": "code",
      "source": [
        "import multiprocessing\n",
        "import time\n",
        "import math\n",
        "from concurrent.futures.thread import ThreadPoolExecutor\n",
        "\n",
        "\n",
        "# def task(x):\n",
        "#     return x ** 2\n",
        "\n",
        "# def task(x):\n",
        "#     with open(\"data.txt\", \"w+\") as f:\n",
        "#         data = f.read()\n",
        "#     result = x ** 2 + len(data)\n",
        "#     return result\n",
        "\n",
        "def task(x):\n",
        "    if x % 11 == 0:\n",
        "        time.sleep(0.0001)  # Имитация более длительной задачи\n",
        "    return x ** 2\n",
        "\n",
        "\n",
        "def measure_time(func, args):\n",
        "    start = time.time()\n",
        "    result = func(*args)\n",
        "    end = time.time()\n",
        "    return end - start\n",
        "\n",
        "num_processes = multiprocessing.cpu_count()\n",
        "\n",
        "if __name__ == '__main__':\n",
        "    # Sequential execution (no multiprocessing or ThreadPoolExecutor)\n",
        "    sequential_time = measure_time(list, [map(task, range(100000))])\n",
        "    print(f\"Sequential execution time: {sequential_time:.4f} seconds\")\n",
        "\n",
        "    # multiprocessing\n",
        "    with multiprocessing.Pool(processes=num_processes) as pool:\n",
        "        multiprocessing_time = measure_time(pool.map, [task, range(100000)])\n",
        "    print(f\"Multiprocessing time: {multiprocessing_time:.4f} seconds\")\n",
        "\n",
        "    # ThreadPoolExecutor\n",
        "    with ThreadPoolExecutor() as executor:\n",
        "        threadpoolexecutor_time = measure_time(executor.map, [task, range(100000)])\n",
        "    print(f\"ThreadPoolExecutor time: {threadpoolexecutor_time:.4f} seconds\")"
      ],
      "metadata": {
        "colab": {
          "base_uri": "https://localhost:8080/"
        },
        "id": "jtnJ7TqE84Kl",
        "outputId": "4ffafaa5-1278-4d5d-be27-5f49b5ce798a"
      },
      "execution_count": 14,
      "outputs": [
        {
          "output_type": "stream",
          "name": "stdout",
          "text": [
            "Sequential execution time: 1.4807 seconds\n",
            "Multiprocessing time: 0.8013 seconds\n",
            "ThreadPoolExecutor time: 3.3575 seconds\n"
          ]
        }
      ]
    },
    {
      "cell_type": "markdown",
      "source": [
        "### 2.4.2. Пример №2"
      ],
      "metadata": {
        "id": "mg9vASZWApPc"
      }
    },
    {
      "cell_type": "markdown",
      "source": [
        "Следующий пример кода на Python демонстрирует использование модулей `multiprocessing` и `ThreadPoolExecutor` для параллельного вычисления геодезического расстояния между парами точек, представленных в DataFrame.\n",
        "\n",
        "1. В начале кода определяется функция `generate_random_dataframe`, которая генерирует DataFrame с указанным количеством случайных значений для широты и долготы. Затем создается DataFrame с 100 случайными точками.\n",
        "2. Функция `calculate_distance` вычисляет геодезическое расстояние между двумя точками, используя библиотеку `geopy`.\n",
        "3. Затем определены три функции для вычисления расстояний между всеми парами точек: `parallel_distance_calculation`, `parallel_distance_calculation_multiprocessing` и `parallel_distance_calculation_threadpool`. Первая функция вычисляет расстояния последовательно, вторая использует `multiprocessing` для параллельного вычисления, а третья использует `ThreadPoolExecutor`.\n",
        "4. В конце кода измеряется время выполнения каждого из этих подходов и выводится на экран. Это позволяет сравнить производительность каждого подхода."
      ],
      "metadata": {
        "id": "p0S71beYrYsn"
      }
    },
    {
      "cell_type": "code",
      "source": [
        "import pandas as pd\n",
        "from geopy.distance import geodesic\n",
        "import multiprocessing as mp\n",
        "from concurrent.futures import ThreadPoolExecutor\n",
        "import numpy as np\n",
        "import time\n",
        "\n",
        "\n",
        "# Предположим, у нас есть DataFrame с GPS-координатами\n",
        "def generate_random_dataframe(num_values, lat_range=(30, 60), lon_range=(-130, 130)):\n",
        "    \"\"\"\n",
        "    Генерирует датафрейм с указанным количеством случайных значений для широты и долготы.\n",
        "\n",
        "    :param num_values: Количество значений\n",
        "    :param lat_range: Диапазон для широты (по умолчанию от 30 до 60)\n",
        "    :param lon_range: Диапазон для долготы (по умолчанию от -130 до 130)\n",
        "    :return: Датафрейм с случайными значениями\n",
        "    \"\"\"\n",
        "    latitudes = np.random.uniform(low=lat_range[0], high=lat_range[1], size=num_values)\n",
        "    longitudes = np.random.uniform(low=lon_range[0], high=lon_range[1], size=num_values)\n",
        "\n",
        "    df = pd.DataFrame({\n",
        "        'id': range(1, num_values + 1),\n",
        "        'lat': latitudes,\n",
        "        'lon': longitudes\n",
        "    })\n",
        "\n",
        "    return df\n",
        "\n",
        "# Формируем DataFrame\n",
        "df = generate_random_dataframe(100)\n",
        "\n",
        "\n",
        "# Функция для вычисления расстояния между двумя точками\n",
        "def calculate_distance(pair):\n",
        "    idx1, idx2 = pair\n",
        "    coord1 = (df.at[idx1, 'lat'], df.at[idx1, 'lon'])\n",
        "    coord2 = (df.at[idx2, 'lat'], df.at[idx2, 'lon'])\n",
        "    return geodesic(coord1, coord2).kilometers\n",
        "\n",
        "\n",
        "# Вычисление без оптимизации\n",
        "def parallel_distance_calculation(df):\n",
        "    pairs = [(i, j) for i in df.index for j in df.index if i < j]\n",
        "    distances = []\n",
        "    for pair in pairs:\n",
        "        distances.append(calculate_distance(pair))\n",
        "    return distances, pairs\n",
        "\n",
        "\n",
        "# Функция для параллельного вычисления, используя multiprocessing\n",
        "def parallel_distance_calculation_multiprocessing(df):\n",
        "    pairs = [(i, j) for i in df.index for j in df.index if i < j]\n",
        "    pool = mp.Pool(processes=mp.cpu_count())\n",
        "    distances = pool.map(calculate_distance, pairs)\n",
        "    pool.close()\n",
        "    pool.join()\n",
        "    return distances, pairs\n",
        "\n",
        "\n",
        "# Функция для параллельного вычисления, используя ThreadPoolExecutor\n",
        "def parallel_distance_calculation_threadpool(df):\n",
        "    pairs = [(i, j) for i in df.index for j in df.index if i < j]\n",
        "    with ThreadPoolExecutor() as executor:\n",
        "        distances = list(executor.map(calculate_distance, pairs))\n",
        "    return distances, pairs"
      ],
      "metadata": {
        "id": "8giL9C4tfjJS"
      },
      "execution_count": 16,
      "outputs": []
    },
    {
      "cell_type": "code",
      "source": [
        "if __name__ == \"__main__\":\n",
        "\n",
        "    # Измеряем время без оптимизации\n",
        "    start_time = time.time()\n",
        "    distances_multiprocessing, _ = parallel_distance_calculation(df)\n",
        "    end_time = time.time()\n",
        "    print(f\"Время выполнения без оптимизации: {end_time - start_time:.4f} секунд\")\n",
        "\n",
        "    # Измеряем время c multiprocessing\n",
        "    start_time = time.time()\n",
        "    distances_multiprocessing, _ = parallel_distance_calculation_multiprocessing(df)\n",
        "    end_time = time.time()\n",
        "    print(f\"Время выполнения c multiprocessing: {end_time - start_time:.4f} секунд\")\n",
        "\n",
        "    # Измеряем время выполнения с ThreadPoolExecutor\n",
        "    start_time = time.time()\n",
        "    distances_threadpool, _ = parallel_distance_calculation_threadpool(df)\n",
        "    end_time = time.time()\n",
        "    print(f\"Время выполнения с ThreadPoolExecutor: {end_time - start_time:.4f} секунд\")\n",
        "\n",
        "    # # Вызов функции и получение `pairs`\n",
        "    # distances, pairs = parallel_distance_calculation(df)\n",
        "\n",
        "    # # Вывод результатов\n",
        "    # for pair, distance in zip(pairs, distances):\n",
        "    #     print(f\"Расстояние между точками {pair[0]} и {pair[1]}: {distance:.2f} км\")"
      ],
      "metadata": {
        "colab": {
          "base_uri": "https://localhost:8080/"
        },
        "id": "gi_jwUtWf-_j",
        "outputId": "f3e19e55-9fd3-41ba-ab3c-d6cc0d6f4704"
      },
      "execution_count": 17,
      "outputs": [
        {
          "output_type": "stream",
          "name": "stdout",
          "text": [
            "Время выполнения без оптимизации: 2.6121 секунд\n",
            "Время выполнения c multiprocessing: 1.2052 секунд\n",
            "Время выполнения с ThreadPoolExecutor: 1.6670 секунд\n"
          ]
        }
      ]
    },
    {
      "cell_type": "markdown",
      "source": [
        "**Время выполнения вычислений для 1000 точек на процессоре Intel Xeon e5 2678v3 (12 ядер/24 потока):**"
      ],
      "metadata": {
        "id": "L4aqBb4whmMf"
      }
    },
    {
      "cell_type": "markdown",
      "source": [
        "![image.png](data:image/png;base64,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)"
      ],
      "metadata": {
        "id": "2AqIsC2Ehle2"
      }
    },
    {
      "cell_type": "markdown",
      "source": [
        "### 2.4.1. Пример №3 (Дополнительный)\n",
        "\n",
        "Вспомним оптимизацию вычислений используя cupu:"
      ],
      "metadata": {
        "id": "6kGiadnsssAa"
      }
    },
    {
      "cell_type": "code",
      "execution_count": 18,
      "metadata": {
        "colab": {
          "base_uri": "https://localhost:8080/"
        },
        "id": "Uky8nz-b_nGc",
        "outputId": "7da5c421-a4c1-49fe-a30e-b2efcbd4001c"
      },
      "outputs": [
        {
          "output_type": "stream",
          "name": "stdout",
          "text": [
            "CUDA доступна. Используем GPU для обработки.\n",
            "Время выполнения process_on_gpu: 0.40411829948425293 секунд\n"
          ]
        }
      ],
      "source": [
        "import time\n",
        "import numpy as np\n",
        "\n",
        "# Попытка импортировать cupy\n",
        "try:\n",
        "    import cupy as cp\n",
        "    use_cuda = cp.is_available()\n",
        "except ImportError:\n",
        "    use_cuda = False\n",
        "\n",
        "# use_cuda = False\n",
        "\n",
        "def process_on_cpu(data):\n",
        "    # Умножение матриц на CPU с использованием numpy\n",
        "    return np.dot(data, data)\n",
        "\n",
        "def process_on_gpu(data):\n",
        "    # Умножение матриц на GPU с использованием cupy\n",
        "    data_gpu = cp.asarray(data)\n",
        "    result_gpu = cp.dot(data_gpu, data_gpu)\n",
        "    return cp.asnumpy(result_gpu)\n",
        "\n",
        "# Функция для замера времени выполнения\n",
        "def measure_time(func, data):\n",
        "    start_time = time.time()\n",
        "    result = func(data)\n",
        "    end_time = time.time()\n",
        "    print(f\"Время выполнения {func.__name__}: {end_time - start_time} секунд\")\n",
        "    # return result\n",
        "\n",
        "# Данные для обработки\n",
        "data = np.random.rand(1000, 1000)\n",
        "\n",
        "# Выбор функции обработки в зависимости от доступности CUDA\n",
        "if use_cuda:\n",
        "    print(\"CUDA доступна. Используем GPU для обработки.\")\n",
        "    process_data = process_on_gpu\n",
        "else:\n",
        "    print(\"CUDA не доступна. Используем CPU для обработки.\")\n",
        "    process_data = process_on_cpu\n",
        "\n",
        "# Замер скорости выполнения\n",
        "measure_time(process_data, data)"
      ]
    },
    {
      "cell_type": "markdown",
      "source": [
        "# Практическая часть"
      ],
      "metadata": {
        "id": "cpdECE1VA-l4"
      }
    },
    {
      "cell_type": "markdown",
      "source": [
        "Реализуем эффективное программное решение прямой геодезической задачи\n",
        "\n",
        "- Входные данные:\n",
        "  - csv-файл с параметрами (Xa, Ya, d, alpha)\n",
        "\n",
        "- Выходные данные (опционально):\n",
        "  - csv-файл с вычесленными параметрами (dX, dY, Xb, Yb)\n",
        "  - xlsx-файл с вычесленными параметрами (dX, dY, Xb, Yb)\n",
        "  - DataFrame с вычесленными параметрами (dX, dY, Xb, Yb)\n"
      ],
      "metadata": {
        "id": "3P_hk-csBT66"
      }
    },
    {
      "cell_type": "markdown",
      "source": [
        "## 1. Генератор синтетического набора входных данных"
      ],
      "metadata": {
        "id": "sj44npHlBCMS"
      }
    },
    {
      "cell_type": "code",
      "source": [
        "import random\n",
        "import csv\n",
        "import numpy as np\n",
        "from openpyxl import Workbook\n",
        "\n",
        "def generate_data(filename, num_files=1, num_records_range=(100, 200),\n",
        "                  Xa_range=(1100, 10000), Ya_range=(1100, 10000),\n",
        "                  d_range=(1, 1500), alpha_range=(1, 360), save_xlsx=False):\n",
        "\n",
        "    for i in range(num_files):\n",
        "        num_records = random.randint(*num_records_range)\n",
        "\n",
        "        # Создание массивов NumPy\n",
        "        Xa = np.random.uniform(*Xa_range, size=num_records)\n",
        "        Ya = np.random.uniform(*Ya_range, size=num_records)\n",
        "        d = np.random.uniform(*d_range, size=num_records)\n",
        "        alpha = np.random.uniform(*alpha_range, size=num_records)\n",
        "\n",
        "        data = np.column_stack((Xa, Ya, d, alpha))\n",
        "\n",
        "        file_extension = \".csv\" # По умолчанию сохраняем в формате CSV\n",
        "        if save_xlsx:\n",
        "            file_extension = \".xlsx\" # Если указано сохранение в XLSX\n",
        "\n",
        "        if i > 0:\n",
        "            full_filename = f\"{filename}_{i}{file_extension}\" # Добавляем индекс к имени файла\n",
        "        else:\n",
        "            full_filename = f\"{filename}{file_extension}\"\n",
        "\n",
        "        if save_xlsx:\n",
        "            wb = Workbook()\n",
        "            ws = wb.active\n",
        "            ws.append([\"Xa\", \"Ya\", \"d\", \"alpha\"])\n",
        "            ws.append(data)\n",
        "            wb.save(full_filename)\n",
        "        else:\n",
        "            with open(full_filename, 'w', newline='') as csvfile:\n",
        "                writer = csv.writer(csvfile)\n",
        "                writer.writerow([\"Xa\", \"Ya\", \"d\", \"alpha\"])\n",
        "                writer.writerows(data)\n",
        "\n",
        "        print(f\"Данные сгенерированы и сохранены в {full_filename}\")"
      ],
      "metadata": {
        "id": "HJ1ykFoWy6kV"
      },
      "execution_count": 19,
      "outputs": []
    },
    {
      "cell_type": "code",
      "source": [
        "generate_data(\"big_data\", num_files=1, num_records_range=(10000000, 15000000))\n",
        "generate_data(\"my_data\", num_files=5, num_records_range=(10000, 15000))"
      ],
      "metadata": {
        "colab": {
          "base_uri": "https://localhost:8080/"
        },
        "id": "QK1cnlljTgO3",
        "outputId": "0b10e2d6-b621-4846-aa60-ada5cd7edaad"
      },
      "execution_count": 84,
      "outputs": [
        {
          "output_type": "stream",
          "name": "stdout",
          "text": [
            "Данные сгенерированы и сохранены в big_data.csv\n",
            "Данные сгенерированы и сохранены в my_data.csv\n",
            "Данные сгенерированы и сохранены в my_data_1.csv\n",
            "Данные сгенерированы и сохранены в my_data_2.csv\n",
            "Данные сгенерированы и сохранены в my_data_3.csv\n",
            "Данные сгенерированы и сохранены в my_data_4.csv\n"
          ]
        }
      ]
    },
    {
      "cell_type": "markdown",
      "source": [
        "## 2. Функция-генератор для последовательного считывания входных данных"
      ],
      "metadata": {
        "id": "L40m5iQ-ef-c"
      }
    },
    {
      "cell_type": "code",
      "source": [
        "import os\n",
        "import pandas as pd\n",
        "\n",
        "def process_csv(path, chunk_size=1000):\n",
        "    \"\"\"\n",
        "    Обрабатывает все CSV файлы в папке или один CSV файл и возвращает ограниченный набор данных.\n",
        "\n",
        "    Args:\n",
        "        path (str): Путь к папке с CSV файлами или к одному CSV файлу.\n",
        "        chunk_size (int, optional): Количество возвращаемых строк. По умолчанию 1000.\n",
        "\n",
        "    Yields:\n",
        "        pd.DataFrame: Часть данных из каждого CSV файла.\n",
        "    \"\"\"\n",
        "    if os.path.isdir(path):\n",
        "        # Обрабатываем все CSV файлы в папке\n",
        "        for filename in os.listdir(path):\n",
        "            if filename.lower().endswith(\".csv\"):\n",
        "                file_path = os.path.join(path, filename)\n",
        "                first_row = pd.read_csv(file_path, nrows=1, header=None)\n",
        "                if first_row.applymap(lambda x: isinstance(x, (int, float))).all().all():\n",
        "                    header_value = None\n",
        "                else:\n",
        "                    header_value = 0\n",
        "                for chunk in pd.read_csv(file_path, chunksize=chunk_size, header=header_value):\n",
        "                    yield chunk.reset_index(drop=True)\n",
        "    elif os.path.isfile(path) and path.lower().endswith(\".csv\"):\n",
        "        # Обрабатываем один CSV файл\n",
        "        first_row = pd.read_csv(path, nrows=1, header=None)\n",
        "        if first_row.applymap(lambda x: isinstance(x, (int, float))).all().all():\n",
        "            header_value = None\n",
        "        else:\n",
        "            header_value = 0\n",
        "        for chunk in pd.read_csv(path, chunksize=chunk_size, header=header_value):\n",
        "            yield chunk.reset_index(drop=True)\n",
        "    else:\n",
        "        raise ValueError(\"Недопустимый путь к файлу или папке.\")"
      ],
      "metadata": {
        "id": "M2Hv-7G2fNSL"
      },
      "execution_count": 39,
      "outputs": []
    },
    {
      "cell_type": "code",
      "source": [
        "# Пример использования\n",
        "path = \"/content/my_data_1.csv\"\n",
        "csv_gen = process_csv(path, 100)\n",
        "# for data_chunk in csv_gen:\n",
        "#     print(data_chunk.head())\n",
        "next(csv_gen)"
      ],
      "metadata": {
        "colab": {
          "base_uri": "https://localhost:8080/",
          "height": 423
        },
        "id": "vHWfvLODVPcL",
        "outputId": "4df364f6-085f-471e-df6e-78cef801558c"
      },
      "execution_count": 38,
      "outputs": [
        {
          "output_type": "execute_result",
          "data": {
            "text/plain": [
              "             Xa           Ya            d       alpha\n",
              "0   7331.485458  2138.116904  1121.231564   44.766220\n",
              "1   7560.096759  5896.040922   633.662187  230.907365\n",
              "2   5194.482169  6364.271765   219.634537  309.528495\n",
              "3   1158.446721  5004.358367  1032.525954  279.733258\n",
              "4   8880.181430  3383.471842    38.667579   56.064904\n",
              "..          ...          ...          ...         ...\n",
              "95  3942.436541  7842.371446   735.633291  142.559257\n",
              "96  2451.996830  3091.639663   482.009532   39.373410\n",
              "97  2951.562269  3092.207362  1171.415132  240.886495\n",
              "98  1695.025816  6842.994748  1129.192610  147.258938\n",
              "99  5009.227414  4060.029857   547.952876   96.910218\n",
              "\n",
              "[100 rows x 4 columns]"
            ],
            "text/html": [
              "\n",
              "  <div id=\"df-09338313-48b9-4556-9fd4-9aceefb3e776\" class=\"colab-df-container\">\n",
              "    <div>\n",
              "<style scoped>\n",
              "    .dataframe tbody tr th:only-of-type {\n",
              "        vertical-align: middle;\n",
              "    }\n",
              "\n",
              "    .dataframe tbody tr th {\n",
              "        vertical-align: top;\n",
              "    }\n",
              "\n",
              "    .dataframe thead th {\n",
              "        text-align: right;\n",
              "    }\n",
              "</style>\n",
              "<table border=\"1\" class=\"dataframe\">\n",
              "  <thead>\n",
              "    <tr style=\"text-align: right;\">\n",
              "      <th></th>\n",
              "      <th>Xa</th>\n",
              "      <th>Ya</th>\n",
              "      <th>d</th>\n",
              "      <th>alpha</th>\n",
              "    </tr>\n",
              "  </thead>\n",
              "  <tbody>\n",
              "    <tr>\n",
              "      <th>0</th>\n",
              "      <td>7331.485458</td>\n",
              "      <td>2138.116904</td>\n",
              "      <td>1121.231564</td>\n",
              "      <td>44.766220</td>\n",
              "    </tr>\n",
              "    <tr>\n",
              "      <th>1</th>\n",
              "      <td>7560.096759</td>\n",
              "      <td>5896.040922</td>\n",
              "      <td>633.662187</td>\n",
              "      <td>230.907365</td>\n",
              "    </tr>\n",
              "    <tr>\n",
              "      <th>2</th>\n",
              "      <td>5194.482169</td>\n",
              "      <td>6364.271765</td>\n",
              "      <td>219.634537</td>\n",
              "      <td>309.528495</td>\n",
              "    </tr>\n",
              "    <tr>\n",
              "      <th>3</th>\n",
              "      <td>1158.446721</td>\n",
              "      <td>5004.358367</td>\n",
              "      <td>1032.525954</td>\n",
              "      <td>279.733258</td>\n",
              "    </tr>\n",
              "    <tr>\n",
              "      <th>4</th>\n",
              "      <td>8880.181430</td>\n",
              "      <td>3383.471842</td>\n",
              "      <td>38.667579</td>\n",
              "      <td>56.064904</td>\n",
              "    </tr>\n",
              "    <tr>\n",
              "      <th>...</th>\n",
              "      <td>...</td>\n",
              "      <td>...</td>\n",
              "      <td>...</td>\n",
              "      <td>...</td>\n",
              "    </tr>\n",
              "    <tr>\n",
              "      <th>95</th>\n",
              "      <td>3942.436541</td>\n",
              "      <td>7842.371446</td>\n",
              "      <td>735.633291</td>\n",
              "      <td>142.559257</td>\n",
              "    </tr>\n",
              "    <tr>\n",
              "      <th>96</th>\n",
              "      <td>2451.996830</td>\n",
              "      <td>3091.639663</td>\n",
              "      <td>482.009532</td>\n",
              "      <td>39.373410</td>\n",
              "    </tr>\n",
              "    <tr>\n",
              "      <th>97</th>\n",
              "      <td>2951.562269</td>\n",
              "      <td>3092.207362</td>\n",
              "      <td>1171.415132</td>\n",
              "      <td>240.886495</td>\n",
              "    </tr>\n",
              "    <tr>\n",
              "      <th>98</th>\n",
              "      <td>1695.025816</td>\n",
              "      <td>6842.994748</td>\n",
              "      <td>1129.192610</td>\n",
              "      <td>147.258938</td>\n",
              "    </tr>\n",
              "    <tr>\n",
              "      <th>99</th>\n",
              "      <td>5009.227414</td>\n",
              "      <td>4060.029857</td>\n",
              "      <td>547.952876</td>\n",
              "      <td>96.910218</td>\n",
              "    </tr>\n",
              "  </tbody>\n",
              "</table>\n",
              "<p>100 rows × 4 columns</p>\n",
              "</div>\n",
              "    <div class=\"colab-df-buttons\">\n",
              "\n",
              "  <div class=\"colab-df-container\">\n",
              "    <button class=\"colab-df-convert\" onclick=\"convertToInteractive('df-09338313-48b9-4556-9fd4-9aceefb3e776')\"\n",
              "            title=\"Convert this dataframe to an interactive table.\"\n",
              "            style=\"display:none;\">\n",
              "\n",
              "  <svg xmlns=\"http://www.w3.org/2000/svg\" height=\"24px\" viewBox=\"0 -960 960 960\">\n",
              "    <path d=\"M120-120v-720h720v720H120Zm60-500h600v-160H180v160Zm220 220h160v-160H400v160Zm0 220h160v-160H400v160ZM180-400h160v-160H180v160Zm440 0h160v-160H620v160ZM180-180h160v-160H180v160Zm440 0h160v-160H620v160Z\"/>\n",
              "  </svg>\n",
              "    </button>\n",
              "\n",
              "  <style>\n",
              "    .colab-df-container {\n",
              "      display:flex;\n",
              "      gap: 12px;\n",
              "    }\n",
              "\n",
              "    .colab-df-convert {\n",
              "      background-color: #E8F0FE;\n",
              "      border: none;\n",
              "      border-radius: 50%;\n",
              "      cursor: pointer;\n",
              "      display: none;\n",
              "      fill: #1967D2;\n",
              "      height: 32px;\n",
              "      padding: 0 0 0 0;\n",
              "      width: 32px;\n",
              "    }\n",
              "\n",
              "    .colab-df-convert:hover {\n",
              "      background-color: #E2EBFA;\n",
              "      box-shadow: 0px 1px 2px rgba(60, 64, 67, 0.3), 0px 1px 3px 1px rgba(60, 64, 67, 0.15);\n",
              "      fill: #174EA6;\n",
              "    }\n",
              "\n",
              "    .colab-df-buttons div {\n",
              "      margin-bottom: 4px;\n",
              "    }\n",
              "\n",
              "    [theme=dark] .colab-df-convert {\n",
              "      background-color: #3B4455;\n",
              "      fill: #D2E3FC;\n",
              "    }\n",
              "\n",
              "    [theme=dark] .colab-df-convert:hover {\n",
              "      background-color: #434B5C;\n",
              "      box-shadow: 0px 1px 3px 1px rgba(0, 0, 0, 0.15);\n",
              "      filter: drop-shadow(0px 1px 2px rgba(0, 0, 0, 0.3));\n",
              "      fill: #FFFFFF;\n",
              "    }\n",
              "  </style>\n",
              "\n",
              "    <script>\n",
              "      const buttonEl =\n",
              "        document.querySelector('#df-09338313-48b9-4556-9fd4-9aceefb3e776 button.colab-df-convert');\n",
              "      buttonEl.style.display =\n",
              "        google.colab.kernel.accessAllowed ? 'block' : 'none';\n",
              "\n",
              "      async function convertToInteractive(key) {\n",
              "        const element = document.querySelector('#df-09338313-48b9-4556-9fd4-9aceefb3e776');\n",
              "        const dataTable =\n",
              "          await google.colab.kernel.invokeFunction('convertToInteractive',\n",
              "                                                    [key], {});\n",
              "        if (!dataTable) return;\n",
              "\n",
              "        const docLinkHtml = 'Like what you see? Visit the ' +\n",
              "          '<a target=\"_blank\" href=https://colab.research.google.com/notebooks/data_table.ipynb>data table notebook</a>'\n",
              "          + ' to learn more about interactive tables.';\n",
              "        element.innerHTML = '';\n",
              "        dataTable['output_type'] = 'display_data';\n",
              "        await google.colab.output.renderOutput(dataTable, element);\n",
              "        const docLink = document.createElement('div');\n",
              "        docLink.innerHTML = docLinkHtml;\n",
              "        element.appendChild(docLink);\n",
              "      }\n",
              "    </script>\n",
              "  </div>\n",
              "\n",
              "\n",
              "<div id=\"df-c24b4edb-498d-4709-aace-08c8e9fbe561\">\n",
              "  <button class=\"colab-df-quickchart\" onclick=\"quickchart('df-c24b4edb-498d-4709-aace-08c8e9fbe561')\"\n",
              "            title=\"Suggest charts\"\n",
              "            style=\"display:none;\">\n",
              "\n",
              "<svg xmlns=\"http://www.w3.org/2000/svg\" height=\"24px\"viewBox=\"0 0 24 24\"\n",
              "     width=\"24px\">\n",
              "    <g>\n",
              "        <path d=\"M19 3H5c-1.1 0-2 .9-2 2v14c0 1.1.9 2 2 2h14c1.1 0 2-.9 2-2V5c0-1.1-.9-2-2-2zM9 17H7v-7h2v7zm4 0h-2V7h2v10zm4 0h-2v-4h2v4z\"/>\n",
              "    </g>\n",
              "</svg>\n",
              "  </button>\n",
              "\n",
              "<style>\n",
              "  .colab-df-quickchart {\n",
              "      --bg-color: #E8F0FE;\n",
              "      --fill-color: #1967D2;\n",
              "      --hover-bg-color: #E2EBFA;\n",
              "      --hover-fill-color: #174EA6;\n",
              "      --disabled-fill-color: #AAA;\n",
              "      --disabled-bg-color: #DDD;\n",
              "  }\n",
              "\n",
              "  [theme=dark] .colab-df-quickchart {\n",
              "      --bg-color: #3B4455;\n",
              "      --fill-color: #D2E3FC;\n",
              "      --hover-bg-color: #434B5C;\n",
              "      --hover-fill-color: #FFFFFF;\n",
              "      --disabled-bg-color: #3B4455;\n",
              "      --disabled-fill-color: #666;\n",
              "  }\n",
              "\n",
              "  .colab-df-quickchart {\n",
              "    background-color: var(--bg-color);\n",
              "    border: none;\n",
              "    border-radius: 50%;\n",
              "    cursor: pointer;\n",
              "    display: none;\n",
              "    fill: var(--fill-color);\n",
              "    height: 32px;\n",
              "    padding: 0;\n",
              "    width: 32px;\n",
              "  }\n",
              "\n",
              "  .colab-df-quickchart:hover {\n",
              "    background-color: var(--hover-bg-color);\n",
              "    box-shadow: 0 1px 2px rgba(60, 64, 67, 0.3), 0 1px 3px 1px rgba(60, 64, 67, 0.15);\n",
              "    fill: var(--button-hover-fill-color);\n",
              "  }\n",
              "\n",
              "  .colab-df-quickchart-complete:disabled,\n",
              "  .colab-df-quickchart-complete:disabled:hover {\n",
              "    background-color: var(--disabled-bg-color);\n",
              "    fill: var(--disabled-fill-color);\n",
              "    box-shadow: none;\n",
              "  }\n",
              "\n",
              "  .colab-df-spinner {\n",
              "    border: 2px solid var(--fill-color);\n",
              "    border-color: transparent;\n",
              "    border-bottom-color: var(--fill-color);\n",
              "    animation:\n",
              "      spin 1s steps(1) infinite;\n",
              "  }\n",
              "\n",
              "  @keyframes spin {\n",
              "    0% {\n",
              "      border-color: transparent;\n",
              "      border-bottom-color: var(--fill-color);\n",
              "      border-left-color: var(--fill-color);\n",
              "    }\n",
              "    20% {\n",
              "      border-color: transparent;\n",
              "      border-left-color: var(--fill-color);\n",
              "      border-top-color: var(--fill-color);\n",
              "    }\n",
              "    30% {\n",
              "      border-color: transparent;\n",
              "      border-left-color: var(--fill-color);\n",
              "      border-top-color: var(--fill-color);\n",
              "      border-right-color: var(--fill-color);\n",
              "    }\n",
              "    40% {\n",
              "      border-color: transparent;\n",
              "      border-right-color: var(--fill-color);\n",
              "      border-top-color: var(--fill-color);\n",
              "    }\n",
              "    60% {\n",
              "      border-color: transparent;\n",
              "      border-right-color: var(--fill-color);\n",
              "    }\n",
              "    80% {\n",
              "      border-color: transparent;\n",
              "      border-right-color: var(--fill-color);\n",
              "      border-bottom-color: var(--fill-color);\n",
              "    }\n",
              "    90% {\n",
              "      border-color: transparent;\n",
              "      border-bottom-color: var(--fill-color);\n",
              "    }\n",
              "  }\n",
              "</style>\n",
              "\n",
              "  <script>\n",
              "    async function quickchart(key) {\n",
              "      const quickchartButtonEl =\n",
              "        document.querySelector('#' + key + ' button');\n",
              "      quickchartButtonEl.disabled = true;  // To prevent multiple clicks.\n",
              "      quickchartButtonEl.classList.add('colab-df-spinner');\n",
              "      try {\n",
              "        const charts = await google.colab.kernel.invokeFunction(\n",
              "            'suggestCharts', [key], {});\n",
              "      } catch (error) {\n",
              "        console.error('Error during call to suggestCharts:', error);\n",
              "      }\n",
              "      quickchartButtonEl.classList.remove('colab-df-spinner');\n",
              "      quickchartButtonEl.classList.add('colab-df-quickchart-complete');\n",
              "    }\n",
              "    (() => {\n",
              "      let quickchartButtonEl =\n",
              "        document.querySelector('#df-c24b4edb-498d-4709-aace-08c8e9fbe561 button');\n",
              "      quickchartButtonEl.style.display =\n",
              "        google.colab.kernel.accessAllowed ? 'block' : 'none';\n",
              "    })();\n",
              "  </script>\n",
              "</div>\n",
              "\n",
              "    </div>\n",
              "  </div>\n"
            ],
            "application/vnd.google.colaboratory.intrinsic+json": {
              "type": "dataframe",
              "summary": "{\n  \"name\": \"next(csv_gen)\",\n  \"rows\": 100,\n  \"fields\": [\n    {\n      \"column\": \"Xa\",\n      \"properties\": {\n        \"dtype\": \"number\",\n        \"std\": 2679.2114792207103,\n        \"min\": 1158.4467205064032,\n        \"max\": 9851.655526789991,\n        \"num_unique_values\": 100,\n        \"samples\": [\n          5103.916869943465,\n          7345.31931374805,\n          4826.179734662683\n        ],\n        \"semantic_type\": \"\",\n        \"description\": \"\"\n      }\n    },\n    {\n      \"column\": \"Ya\",\n      \"properties\": {\n        \"dtype\": \"number\",\n        \"std\": 2537.669636243217,\n        \"min\": 1203.555749713588,\n        \"max\": 9995.554527863578,\n        \"num_unique_values\": 100,\n        \"samples\": [\n          9364.83441766308,\n          8223.682277725962,\n          4208.138167127208\n        ],\n        \"semantic_type\": \"\",\n        \"description\": \"\"\n      }\n    },\n    {\n      \"column\": \"d\",\n      \"properties\": {\n        \"dtype\": \"number\",\n        \"std\": 433.14186853371905,\n        \"min\": 19.683468436858327,\n        \"max\": 1461.1068312233194,\n        \"num_unique_values\": 100,\n        \"samples\": [\n          423.14025366871454,\n          1404.2287017244028,\n          489.41113748553096\n        ],\n        \"semantic_type\": \"\",\n        \"description\": \"\"\n      }\n    },\n    {\n      \"column\": \"alpha\",\n      \"properties\": {\n        \"dtype\": \"number\",\n        \"std\": 107.90990461377969,\n        \"min\": 4.80793218639665,\n        \"max\": 357.641169984952,\n        \"num_unique_values\": 100,\n        \"samples\": [\n          27.30820089016532,\n          136.11961287732544,\n          31.759275937722556\n        ],\n        \"semantic_type\": \"\",\n        \"description\": \"\"\n      }\n    }\n  ]\n}"
            }
          },
          "metadata": {},
          "execution_count": 38
        }
      ]
    },
    {
      "cell_type": "markdown",
      "source": [
        "## 3. Реализация функции для решения прямой геодезической задачи"
      ],
      "metadata": {
        "id": "bRtSONsQCxJd"
      }
    },
    {
      "cell_type": "markdown",
      "source": [
        "### 2.1. Базовая реализация"
      ],
      "metadata": {
        "id": "T-fEtz0neMIs"
      }
    },
    {
      "cell_type": "code",
      "source": [
        "import math\n",
        "import pandas as pd\n",
        "\n",
        "def direct_task(df):\n",
        "    # Инициализируем списки для хранения результатов\n",
        "    dX = []\n",
        "    dY = []\n",
        "    Xb = []\n",
        "    Yb = []\n",
        "\n",
        "    # Итерируем по каждой строке в датафрейме\n",
        "    for index, row in df.iterrows():\n",
        "        # Извлекаем значения из строки\n",
        "        Xa = float(row['Xa'])\n",
        "        Ya = float(row['Ya'])\n",
        "        d = float(row['d'])\n",
        "        alpha = float(row['alpha'])\n",
        "\n",
        "        # Вычисляем dX и dY с помощью math\n",
        "        dX.append(d * math.cos(math.radians(alpha)))\n",
        "        dY.append(d * math.sin(math.radians(alpha)))\n",
        "\n",
        "        # Вычисляем Xb и Yb\n",
        "        Xb.append(Xa + dX[-1])\n",
        "        Yb.append(Ya + dY[-1])\n",
        "\n",
        "    # Создаем новый датафрейм с результатами\n",
        "    result_df = pd.DataFrame({\n",
        "        'dX': dX,\n",
        "        'dY': dY,\n",
        "        'Xb': Xb,\n",
        "        'Yb': Yb\n",
        "    })\n",
        "\n",
        "    return result_df"
      ],
      "metadata": {
        "id": "CNQ7Sa4Qvy41"
      },
      "execution_count": 43,
      "outputs": []
    },
    {
      "cell_type": "code",
      "source": [
        "sample_df = pd.DataFrame({\n",
        "    'Xa': [25.0, 2.0, 3.0],\n",
        "    'Ya': [140.0, 5.0, 6.0],\n",
        "    'd': [124.0, 8.0, 9.0],\n",
        "    'alpha': [46.97, 60.0, 30.0]\n",
        "})\n",
        "\n",
        "result = direct_task(sample_df)\n",
        "print(result)"
      ],
      "metadata": {
        "colab": {
          "base_uri": "https://localhost:8080/"
        },
        "id": "xNT_tZrVx-UC",
        "outputId": "b2c773bd-5df4-4ad9-c837-ec86df222a1a"
      },
      "execution_count": 24,
      "outputs": [
        {
          "output_type": "stream",
          "name": "stdout",
          "text": [
            "          dX         dY          Xb          Yb\n",
            "0  84.615269  90.643567  109.615269  230.643567\n",
            "1   4.000000   6.928203    6.000000   11.928203\n",
            "2   7.794229   4.500000   10.794229   10.500000\n"
          ]
        }
      ]
    },
    {
      "cell_type": "markdown",
      "source": [
        "### 2.2. Оптимальная реализация с векторизацией вычислений"
      ],
      "metadata": {
        "id": "nHaD7bfBC_x7"
      }
    },
    {
      "cell_type": "code",
      "source": [
        "import numpy as np\n",
        "import pandas as pd\n",
        "\n",
        "def direct_task(df):\n",
        "    try:\n",
        "        # Извлекаем значения из колонок датафрейма\n",
        "        Xa = df['Xa'].astype(float)\n",
        "        Ya = df['Ya'].astype(float)\n",
        "        d = df['d'].astype(float)\n",
        "        alpha = df['alpha'].astype(float)\n",
        "\n",
        "        # Вычисляем dX и dY с помощью NumPy\n",
        "        dX = d * np.cos(np.radians(alpha))\n",
        "        dY = d * np.sin(np.radians(alpha))\n",
        "\n",
        "        # Вычисляем Xb и Yb\n",
        "        Xb = Xa + dX\n",
        "        Yb = Ya + dY\n",
        "\n",
        "        # Создаем новый датафрейм с результатами\n",
        "        result_df = pd.DataFrame({\n",
        "            'dX': dX,\n",
        "            'dY': dY,\n",
        "            'Xb': Xb,\n",
        "            'Yb': Yb\n",
        "        })\n",
        "\n",
        "        return result_df\n",
        "\n",
        "    except:\n",
        "        return None\n"
      ],
      "metadata": {
        "id": "kKEYsPDNbuSY"
      },
      "execution_count": 74,
      "outputs": []
    },
    {
      "cell_type": "code",
      "source": [
        "sample_df = pd.DataFrame({\n",
        "    'Xa': [25.0, 2.0, 3.0],\n",
        "    'Ya': [140.0, 5.0, 6.0],\n",
        "    'd': [124.0, 8.0, 9.0],\n",
        "    'alpha': [46.97, 60.0, 30.0]\n",
        "})\n",
        "\n",
        "result = direct_task(sample_df)\n",
        "print(result)"
      ],
      "metadata": {
        "colab": {
          "base_uri": "https://localhost:8080/"
        },
        "id": "Xik2U6_TbvYQ",
        "outputId": "03740fa5-2565-4dda-f888-eee49a4c51bd"
      },
      "execution_count": 75,
      "outputs": [
        {
          "output_type": "stream",
          "name": "stdout",
          "text": [
            "          dX         dY          Xb          Yb\n",
            "0  84.615269  90.643567  109.615269  230.643567\n",
            "1   4.000000   6.928203    6.000000   11.928203\n",
            "2   7.794229   4.500000   10.794229   10.500000\n"
          ]
        }
      ]
    },
    {
      "cell_type": "markdown",
      "source": [
        "### 2.3. Оптимальная реализация с векторизацией вычислений и их выполнением на GPU"
      ],
      "metadata": {
        "id": "lX5qpJP6uDJ0"
      }
    },
    {
      "cell_type": "code",
      "source": [
        "import pandas as pd\n",
        "import cupy as cp\n",
        "\n",
        "def direct_task(df):\n",
        "    try:\n",
        "        # Извлекаем значения из колонок датафрейма\n",
        "        Xa = cp.asarray(df['Xa'].astype(float))\n",
        "        Ya = cp.asarray(df['Ya'].astype(float))\n",
        "        d = cp.asarray(df['d'].astype(float))\n",
        "        alpha = cp.asarray(df['alpha'].astype(float))\n",
        "\n",
        "        # Вычисляем dX и dY с помощью CuPy\n",
        "        dX = d * cp.cos(cp.radians(alpha))\n",
        "        dY = d * cp.sin(cp.radians(alpha))\n",
        "\n",
        "        # Вычисляем Xb и Yb\n",
        "        Xb = Xa + dX\n",
        "        Yb = Ya + dY\n",
        "\n",
        "        # Создаем новый датафрейм с результатами\n",
        "        result_df = pd.DataFrame({\n",
        "            'dX': cp.asnumpy(dX),\n",
        "            'dY': cp.asnumpy(dY),\n",
        "            'Xb': cp.asnumpy(Xb),\n",
        "            'Yb': cp.asnumpy(Yb)\n",
        "        })\n",
        "\n",
        "        return result_df\n",
        "\n",
        "    except:\n",
        "        return None"
      ],
      "metadata": {
        "id": "wHWFaMzS1Eev"
      },
      "execution_count": 71,
      "outputs": []
    },
    {
      "cell_type": "code",
      "source": [
        "sample_df = pd.DataFrame({\n",
        "    'Xa': [25.0, 2.0, 3.0],\n",
        "    'Ya': [140.0, 5.0, 6.0],\n",
        "    'd': [124.0, 8.0, 9.0],\n",
        "    'alpha': [46.97, 60.0, 30.0]\n",
        "})\n",
        "\n",
        "result = direct_task(sample_df)\n",
        "print(result)"
      ],
      "metadata": {
        "id": "f5eMraeqyF3V",
        "colab": {
          "base_uri": "https://localhost:8080/"
        },
        "outputId": "fba64902-97d6-4631-be1b-54d7bf880940"
      },
      "execution_count": 72,
      "outputs": [
        {
          "output_type": "stream",
          "name": "stdout",
          "text": [
            "          dX         dY          Xb          Yb\n",
            "0  84.615269  90.643567  109.615269  230.643567\n",
            "1   4.000000   6.928203    6.000000   11.928203\n",
            "2   7.794229   4.500000   10.794229   10.500000\n"
          ]
        }
      ]
    },
    {
      "cell_type": "markdown",
      "source": [
        "## 4. Многопоточная и многопроцессорная оптимизация. Сравнение и выбор оптимального варианта"
      ],
      "metadata": {
        "id": "WeqCekA2yHDS"
      }
    },
    {
      "cell_type": "code",
      "source": [
        "import multiprocessing\n",
        "from concurrent.futures import ThreadPoolExecutor\n",
        "import pandas as pd\n",
        "import numpy as np\n",
        "import time\n",
        "\n",
        "def parallel_processing(df, num_processes=multiprocessing.cpu_count(), use_multiprocessing=False, proc_fun = direct_task):\n",
        "    \"\"\"\n",
        "    Разделяет датафрейм на фрагменты и обрабатывает их параллельно с помощью ThreadPoolExecutor или multiprocessing.\n",
        "\n",
        "    Args:\n",
        "        df (pandas.DataFrame): Исходный датафрейм.\n",
        "        num_processes (int, optional): Количество процессов/потоков для использования. По умолчанию используется количество ядер CPU.\n",
        "        use_multiprocessing (bool, optional): True - использовать multiprocessing, False - ThreadPoolExecutor.\n",
        "\n",
        "    Returns:\n",
        "        pandas.DataFrame: Объединенный результат обработки фрагментов.\n",
        "    \"\"\"\n",
        "\n",
        "    # Разделяем датафрейм на фрагменты\n",
        "    df_split = np.array_split(df, num_processes)\n",
        "\n",
        "    if use_multiprocessing:\n",
        "        # Multiprocessing\n",
        "        with multiprocessing.Pool(processes=num_processes) as pool:\n",
        "            result_list = pool.map(proc_fun, df_split)\n",
        "    else:\n",
        "        # ThreadPoolExecutor\n",
        "        with ThreadPoolExecutor(max_workers=num_processes) as pool:\n",
        "            result_list = pool.map(proc_fun, df_split)\n",
        "\n",
        "    # Объединяем результаты\n",
        "    final_df = pd.concat([result for result in result_list if result is not None])\n",
        "\n",
        "    return final_df\n",
        "\n",
        "\n",
        "# Пример использования\n",
        "if __name__ == \"__main__\":\n",
        "    # Ваш датафрейм (замените на свой)\n",
        "    df = pd.read_csv(\"/content/big_data.csv\")\n",
        "\n",
        "    # Выполнение без multiprocessing\n",
        "    start_time = time.time()\n",
        "    result_df_direct = direct_task(df)\n",
        "    end_time = time.time()\n",
        "    direct_time = end_time - start_time\n",
        "    print(f\"Время выполнения без multiprocessing: {direct_time:.4f} секунд\")\n",
        "\n",
        "    # Выполнение с multiprocessing\n",
        "    start_time = time.time()\n",
        "    result_df_multiprocessing = parallel_processing(df.copy(), use_multiprocessing=True)\n",
        "    end_time = time.time()\n",
        "    parallel_time = end_time - start_time\n",
        "    print(f\"Время выполнения с multiprocessing: {parallel_time:.4f} секунд\")\n",
        "\n",
        "    # Выполнение с ThreadPoolExecutor\n",
        "    start_time = time.time()\n",
        "    result_df_threadpoolexecutor = parallel_processing(df.copy(), use_multiprocessing=False)\n",
        "    end_time = time.time()\n",
        "    threadpoolexecutor_time = end_time - start_time\n",
        "    print(f\"Время выполнения с ThreadPoolExecutor: {threadpoolexecutor_time:.4f} секунд\")"
      ],
      "metadata": {
        "colab": {
          "base_uri": "https://localhost:8080/"
        },
        "id": "XxREIQ-wDyw-",
        "outputId": "f097a389-0ec1-445e-d05f-f90e8bc3e013"
      },
      "execution_count": 95,
      "outputs": [
        {
          "output_type": "stream",
          "name": "stdout",
          "text": [
            "Время выполнения без multiprocessing: 1.4373 секунд\n",
            "Время выполнения с multiprocessing: 5.3835 секунд\n",
            "Время выполнения с ThreadPoolExecutor: 1.4291 секунд\n"
          ]
        }
      ]
    },
    {
      "cell_type": "markdown",
      "source": [
        "## 5. Функция для последовательного экспорта выходных данных"
      ],
      "metadata": {
        "id": "jpjuXaLAhTEz"
      }
    },
    {
      "cell_type": "code",
      "source": [
        "import pandas as pd\n",
        "\n",
        "def process_and_save_with_function(generator, processing_function=None, output_file='output.csv', save_xlsx=False):\n",
        "    \"\"\"\n",
        "    Обрабатывает данные из генератора с помощью указанной функции и сохраняет результаты в CSV или XLSX файл.\n",
        "\n",
        "    Args:\n",
        "        generator: Генератор, возвращающий pd.DataFrame.\n",
        "        output_file (str): Имя файла для сохранения результатов.\n",
        "        save_xlsx (bool, optional): Сохранять в формате XLSX (True) или CSV (False). По умолчанию False.\n",
        "        processing_function (function, optional): Функция для обработки данных из генератора. Должна принимать pd.DataFrame и возвращать pd.DataFrame.\n",
        "    \"\"\"\n",
        "    header_value = None\n",
        "    first_chunk = next(generator, None)\n",
        "    if first_chunk is not None:\n",
        "        if processing_function:\n",
        "            first_chunk = processing_function(first_chunk)\n",
        "        if save_xlsx:\n",
        "            header_value = 0\n",
        "            wb = pd.ExcelWriter(output_file, engine='openpyxl')\n",
        "            first_chunk.to_excel(wb, sheet_name='Sheet1', index=False, header=header_value)\n",
        "        else:\n",
        "            # Если нет заголовков, заполняем первую строку цифрами\n",
        "            if first_chunk.columns.empty:\n",
        "                first_chunk.columns = range(1, len(first_chunk.columns) + 1)\n",
        "            first_chunk.to_csv(output_file, index=False, header=True)\n",
        "        for chunk in generator:\n",
        "            if processing_function:\n",
        "                chunk = processing_function(chunk)\n",
        "            if save_xlsx:\n",
        "                chunk.to_excel(wb, sheet_name='Sheet1', index=False, header=header_value)\n",
        "            else:\n",
        "                chunk.to_csv(output_file, mode='a', index=False, header=False)  # Добавляем данные без заголовков\n",
        "        if save_xlsx:\n",
        "            wb.save()\n",
        "        # print(f\"Результаты сохранены в файл {output_file}\")\n",
        "    else:\n",
        "        print(\"Нет данных для обработки.\")"
      ],
      "metadata": {
        "id": "Hfvub-vumrSX"
      },
      "execution_count": 88,
      "outputs": []
    },
    {
      "cell_type": "code",
      "source": [
        "def measure_time(func, args):\n",
        "    start = time.time()\n",
        "    func(*args)\n",
        "    end = time.time()\n",
        "    return end - start\n",
        "\n",
        "# Запуск функции с разными методами и измерение времени\n",
        "\n",
        "path = \"/content/big_data.csv\"\n",
        "\n",
        "generator = process_csv(path, 1000000)\n",
        "processing_function = direct_task\n",
        "sequential_time = measure_time(process_and_save_with_function, args=(generator, processing_function))\n",
        "\n",
        "print(f\"Время  выполнения: {sequential_time:.10f} секунд\")"
      ],
      "metadata": {
        "colab": {
          "base_uri": "https://localhost:8080/"
        },
        "id": "BeOzz_vJqeyG",
        "outputId": "fce21e0c-5711-4b2d-a9ad-7aa45db1d5c7"
      },
      "execution_count": 91,
      "outputs": [
        {
          "output_type": "stream",
          "name": "stdout",
          "text": [
            "Время  выполнения: 93.1332972050 секунд\n"
          ]
        }
      ]
    },
    {
      "cell_type": "markdown",
      "source": [
        "## Выполним те же действия без использования генераторов:"
      ],
      "metadata": {
        "id": "nkP484aeEv2v"
      }
    },
    {
      "cell_type": "code",
      "source": [
        "start_time = time.time()\n",
        "sample_df = pd.read_csv(\"/content/big_data.csv\")\n",
        "\n",
        "result = direct_task(sample_df)\n",
        "result.to_csv(\"output_file.csv\", index=False, header=True)\n",
        "end_time = time.time()\n",
        "print(f\"Время выполнения: {end_time - start_time} секунд\")\n",
        "\n",
        "# result.head(15)"
      ],
      "metadata": {
        "colab": {
          "base_uri": "https://localhost:8080/"
        },
        "id": "dzq36O1tq1YH",
        "outputId": "04d09121-338f-4669-9f98-469e718521eb"
      },
      "execution_count": 92,
      "outputs": [
        {
          "output_type": "stream",
          "name": "stdout",
          "text": [
            "Время выполнения: 96.58828115463257 секунд\n"
          ]
        }
      ]
    },
    {
      "cell_type": "code",
      "source": [
        "del sample_df\n",
        "del result"
      ],
      "metadata": {
        "id": "rW56G4wgrdgp"
      },
      "execution_count": null,
      "outputs": []
    },
    {
      "cell_type": "markdown",
      "source": [
        "# Комплексное задание №1.\n",
        "\n",
        "### Ссылка на алгоритм вычисления и пример : https://clck.ru/39aKXC"
      ],
      "metadata": {
        "id": "Nou_xr7nc9Xt"
      }
    },
    {
      "cell_type": "markdown",
      "source": [
        "## **Ход выполнения работы:**"
      ],
      "metadata": {
        "id": "Uqp0l6fUdYqV"
      }
    },
    {
      "cell_type": "markdown",
      "source": [
        "### 1. Напишите функцию для формирования синтетического набора входных данных"
      ],
      "metadata": {
        "id": "8fmM5HNPNszN"
      }
    },
    {
      "cell_type": "markdown",
      "source": [
        "Требования к входным данным:\n",
        "\n",
        "- excel-таблицы или csv-файлы (опционально)\n",
        "- первая строка содержит заголовки столбцов\n",
        "- данные в столбцах - значения B (широты) и L (долготы)\n",
        "\n",
        "Пример:\n",
        "\n",
        "| B | L |\n",
        "|---|---|\n",
        "| 56.4532 | 37.5432 |\n",
        "| 45.6789 | 12.3456 |\n",
        "| -34.5678 | 98.7654 |\n",
        "| 78.9012 | -56.7890 |\n",
        "| 23.4567 | 89.0123 |\n",
        "| -12.3456 | 45.6789 |\n",
        "| 67.8901 | -23.4567 |\n",
        "| 34.5678 | 78.9012 |\n",
        "| -98.7654 | 34.5678 |\n",
        "| 12.3456 | -98.7654 |"
      ],
      "metadata": {
        "id": "bLNbwc3nOL8C"
      }
    },
    {
      "cell_type": "markdown",
      "source": [
        "**Примечание:**\n",
        "\n",
        "* Эта таблица содержит 10 случайных значений широты и долготы\n",
        "* Широта может быть от -90° до 90°\n",
        "* Долгота может быть от -180° до 180°"
      ],
      "metadata": {
        "id": "Nsb3sg_Wnl9z"
      }
    },
    {
      "cell_type": "code",
      "source": [
        "# Ваш код"
      ],
      "metadata": {
        "id": "t4GqPkf2OGDJ"
      },
      "execution_count": null,
      "outputs": []
    },
    {
      "cell_type": "markdown",
      "source": [
        "### 2. Напишите функцию-генератор для последовательного считывания данных из входного файла (csv-файл, excel-таблица)\n",
        "\n",
        "- Функция принимает на вход путь к файлу и количество строк, которые необходимо возвращать каждую итерацию. Сама функция последовательно возвращает указанное Вами количество строк, до тех пор, пока они не закончатся в этом файле\n",
        "\n",
        "- Возвращает DataFrame, с указанным количеством строк"
      ],
      "metadata": {
        "id": "lX0mGvteOFes"
      }
    },
    {
      "cell_type": "code",
      "source": [
        "# Ваш код"
      ],
      "metadata": {
        "id": "iHB-m5gwPD-4"
      },
      "execution_count": null,
      "outputs": []
    },
    {
      "cell_type": "markdown",
      "source": [
        "### 3. Напишите оптимальную функцию для реализации алгоритма"
      ],
      "metadata": {
        "id": "-OQ807BzPFZt"
      }
    },
    {
      "cell_type": "markdown",
      "source": [
        "- Принимает на вход DataFrame с входными данными\n",
        "- Возвращает DataFrame с выходными данными (вычесленными параметрами)\n",
        "- Вычисления должны быть реализованы средствами numpy\n",
        "- Добавить опционально возможность вычисления на CUDA GPU"
      ],
      "metadata": {
        "id": "xYRlVK88Pv2I"
      }
    },
    {
      "cell_type": "code",
      "source": [
        "# Ваш код"
      ],
      "metadata": {
        "id": "U_OCekUVPFpO"
      },
      "execution_count": null,
      "outputs": []
    },
    {
      "cell_type": "markdown",
      "source": [
        "### 4. Оптимизируйте вычисления, используя Multiprocessing, ThreadPoolExecutor и CuPy"
      ],
      "metadata": {
        "id": "CxiEAxnhROCO"
      }
    },
    {
      "cell_type": "markdown",
      "source": [
        "- Сравните их по скорости. Выведите время выполнения с их использованием и без их использования\n",
        "- Выберите оптимальный вариант оптимизации на CPU"
      ],
      "metadata": {
        "id": "xoncWz4xSKAm"
      }
    },
    {
      "cell_type": "code",
      "source": [
        "# Ваш код"
      ],
      "metadata": {
        "id": "XAhfr_7Hls8S"
      },
      "execution_count": null,
      "outputs": []
    },
    {
      "cell_type": "markdown",
      "source": [
        "### 5. Напишите функцию для для последовательного экспорта выходных данных в книгу Excel\n",
        "\n",
        "- На каждую пару входных данных (строку таблицы входных данных) в книге должен формироваться отдельный лист с расчетами по [образцу](https://clck.ru/39aKXC)"
      ],
      "metadata": {
        "id": "DihbgluRmU5F"
      }
    },
    {
      "cell_type": "code",
      "source": [
        "# Ваш код"
      ],
      "metadata": {
        "id": "I0reiLLpn4Qr"
      },
      "execution_count": null,
      "outputs": []
    },
    {
      "cell_type": "markdown",
      "source": [
        "### Выполните вычисления, сравните скорости на большом массиве входных данных"
      ],
      "metadata": {
        "id": "VYsM-DuXn68q"
      }
    },
    {
      "cell_type": "code",
      "source": [
        "# Ваш код"
      ],
      "metadata": {
        "id": "QadYYLADoYmK"
      },
      "execution_count": null,
      "outputs": []
    },
    {
      "cell_type": "markdown",
      "source": [
        "\n",
        "- Выведите первую строку таблицы **входных** данных\n"
      ],
      "metadata": {
        "id": "3qWNy-DgoYxB"
      }
    },
    {
      "cell_type": "code",
      "source": [
        "# Ваш код"
      ],
      "metadata": {
        "id": "FFk2yQR_ob4W"
      },
      "execution_count": null,
      "outputs": []
    },
    {
      "cell_type": "markdown",
      "source": [
        "- Выведите содержимое первой страницы таблицы **выходных** данных"
      ],
      "metadata": {
        "id": "G_7Z3kdNoZ-v"
      }
    },
    {
      "cell_type": "code",
      "source": [
        "# Ваш код"
      ],
      "metadata": {
        "id": "z3uh4YxxocmL"
      },
      "execution_count": null,
      "outputs": []
    }
  ]
}