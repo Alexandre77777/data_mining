{
  "cells": [
    {
      "cell_type": "markdown",
      "metadata": {
        "id": "view-in-github",
        "colab_type": "text"
      },
      "source": [
        "<a href=\"https://colab.research.google.com/github/Alexandre77777/data_mining/blob/main/1.%20%D0%92%D0%B2%D0%B5%D0%B4%D0%B5%D0%BD%D0%B8%D0%B5/%D0%A2%D0%B5%D0%BE%D1%80%D0%B8%D1%8F/1.%20%D0%A2%D0%B5%D0%BE%D1%80%D0%B8%D1%8F_Numpy.ipynb\" target=\"_parent\"><img src=\"https://colab.research.google.com/assets/colab-badge.svg\" alt=\"Open In Colab\"/></a>"
      ]
    },
    {
      "cell_type": "markdown",
      "metadata": {
        "id": "rGKf6xKkeXYy"
      },
      "source": [
        "# Numpy\n",
        "\n",
        "*Numeric Python*\n",
        "\n",
        "Библиотека для быстрых вычислений над многомерными матрицами.\n",
        "\n",
        "В поставку включены батарейки: алгебраические операции над матрицами, статистические вычисления, преобразования матриц и даже визуализация данных есть!\n",
        "\n",
        "http://www.numpy.org/\n",
        "\n",
        "![image.png](https://upload.wikimedia.org/wikipedia/commons/thumb/1/1a/NumPy_logo.svg/1200px-NumPy_logo.svg.png)\n",
        "\n",
        "## Литература\n",
        "\n",
        "- [Шпаргалка по numpy](https://s3.amazonaws.com/assets.datacamp.com/blog_assets/Numpy_Python_Cheat_Sheet.pdf)\n",
        "- [Numpy quick start](https://docs.scipy.org/doc/numpy/user/quickstart.html)\n",
        "- [Datacamp numpy tutorial](https://www.datacamp.com/community/tutorials/python-numpy-tutorial)"
      ]
    },
    {
      "cell_type": "markdown",
      "metadata": {
        "id": "9b-FwaE0eXY0"
      },
      "source": [
        "## Матрицы\n",
        "\n",
        "Всё есть матрицы. Даже если вы видите перед собой число, то это матрица ранга 0.\n",
        "\n",
        "В Numpy матрицы - это многомерные массивы **фиксированного размера** состоящие из элементов **одного типа**, что отличает их от обычных Python листов. Благодаря оптимизациям матричные преобразования в numpy работают во много раз быстрее, чем в питоне и требуют меньше памяти."
      ]
    },
    {
      "cell_type": "code",
      "execution_count": null,
      "metadata": {
        "id": "KmGVMauqeXY1",
        "outputId": "04846b68-2a1b-44d8-80d3-e866b23a5989"
      },
      "outputs": [
        {
          "name": "stdout",
          "output_type": "stream",
          "text": [
            "<class 'numpy.ndarray'>\n",
            "int64\n"
          ]
        },
        {
          "data": {
            "text/plain": [
              "array([1, 2, 3, 4, 5])"
            ]
          },
          "execution_count": 2,
          "metadata": {},
          "output_type": "execute_result"
        }
      ],
      "source": [
        "import numpy as np  # принято импортировать весь модуль и переименовывать его в np\n",
        "\n",
        "# чтобы создать numpy массив можно сконвертировать обычный лист в него\n",
        "\n",
        "arr = np.array([1,2,3,4,5])\n",
        "print(type(arr)) # тип матриц в numpay - это ndarray\n",
        "print(arr.dtype) # узнаем какой тип хранится в матрице\n",
        "arr # jupyter умеет сериализовывать в строки np матрицы"
      ]
    },
    {
      "cell_type": "markdown",
      "metadata": {
        "id": "anAndrHBeXY3"
      },
      "source": [
        "### Создание массивов\n",
        "\n",
        "Чтобы посмотреть все возможные способы создания массивов можно попросить питон найти в документации `np.lookfor('create array')`."
      ]
    },
    {
      "cell_type": "code",
      "execution_count": null,
      "metadata": {
        "id": "82cxiANBeXY3",
        "outputId": "7ebd23d5-18ed-493c-b419-9229512b2785"
      },
      "outputs": [
        {
          "name": "stdout",
          "output_type": "stream",
          "text": [
            "Search results for 'create array'\n",
            "---------------------------------\n",
            "numpy.array\n",
            "    Create an array.\n",
            "numpy.memmap\n",
            "    Create a memory-map to an array stored in a *binary* file on disk.\n",
            "numpy.diagflat\n",
            "    Create a two-dimensional array with the flattened input as a diagonal.\n",
            "numpy.fromiter\n",
            "    Create a new 1-dimensional array from an iterable object.\n",
            "numpy.partition\n",
            "    Return a partitioned copy of an array.\n",
            "numpy.ctypeslib.as_array\n",
            "    Create a numpy array from a ctypes array or POINTER.\n",
            "numpy.ma.diagflat\n",
            "    Create a two-dimensional array with the flattened input as a diagonal.\n",
            "numpy.ma.make_mask\n",
            "    Create a boolean mask from an array.\n",
            "numpy.ctypeslib.as_ctypes\n",
            "    Create and return a ctypes object from a numpy array.  Actually\n",
            "numpy.ma.mrecords.fromarrays\n",
            "    Creates a mrecarray from a (flat) list of masked arrays.\n",
            "numpy.ma.mvoid.__new__\n",
            "    Create a new masked array from scratch.\n",
            "numpy.lib.format.open_memmap\n",
            "    Open a .npy file as a memory-mapped array.\n",
            "numpy.ma.MaskedArray.__new__\n",
            "    Create a new masked array from scratch.\n",
            "numpy.lib.arrayterator.Arrayterator\n",
            "    Buffered iterator for big arrays.\n",
            "numpy.ma.mrecords.fromtextfile\n",
            "    Creates a mrecarray from data stored in the file `filename`.\n",
            "numpy.asarray\n",
            "    Convert the input to an array.\n",
            "numpy.ndarray\n",
            "    ndarray(shape, dtype=float, buffer=None, offset=0,\n",
            "numpy.recarray\n",
            "    Construct an ndarray that allows field access using attributes.\n",
            "numpy.chararray\n",
            "    chararray(shape, itemsize=1, unicode=False, buffer=None, offset=0,\n",
            "numpy.pad\n",
            "    Pads an array.\n",
            "numpy.asanyarray\n",
            "    Convert the input to an ndarray, but pass ndarray subclasses through.\n",
            "numpy.copy\n",
            "    Return an array copy of the given object.\n",
            "numpy.diag\n",
            "    Extract a diagonal or construct a diagonal array.\n",
            "numpy.load\n",
            "    Load arrays or pickled objects from ``.npy``, ``.npz`` or pickled files.\n",
            "numpy.sort\n",
            "    Return a sorted copy of an array.\n",
            "numpy.array_equiv\n",
            "    Returns True if input arrays are shape consistent and all elements equal.\n",
            "numpy.dtype\n",
            "    Create a data type object.\n",
            "numpy.ufunc\n",
            "    Functions that operate element by element on whole arrays.\n",
            "numpy.choose\n",
            "    Construct an array from an index array and a set of arrays to choose from.\n",
            "numpy.nditer\n",
            "    Efficient multi-dimensional iterator object to iterate over arrays.\n",
            "numpy.swapaxes\n",
            "    Interchange two axes of an array.\n",
            "numpy.full_like\n",
            "    Return a full array with the same shape and type as a given array.\n",
            "numpy.ones_like\n",
            "    Return an array of ones with the same shape and type as a given array.\n",
            "numpy.empty_like\n",
            "    Return a new array with the same shape and type as a given array.\n",
            "numpy.zeros_like\n",
            "    Return an array of zeros with the same shape and type as a given array.\n",
            "numpy.asarray_chkfinite\n",
            "    Convert the input to an array, checking for NaNs or Infs.\n",
            "numpy.diag_indices\n",
            "    Return the indices to access the main diagonal of an array.\n",
            "numpy.ma.mrecords.MaskedRecords.__new__\n",
            "    Create a new masked array from scratch.\n",
            "numpy.nested_iters\n",
            "    Create nditers for use in nested loops\n",
            "numpy.chararray.tolist\n",
            "    a.tolist()\n",
            "numpy.put_along_axis\n",
            "    Put values into the destination array by matching 1d index and data slices.\n",
            "numpy.ma.choose\n",
            "    Use an index array to construct a new array from a set of choices.\n",
            "numpy.savez_compressed\n",
            "    Save several arrays into a single file in compressed ``.npz`` format.\n",
            "numpy.matlib.rand\n",
            "    Return a matrix of random values with given shape.\n",
            "numpy.datetime_as_string\n",
            "    Convert an array of datetimes into an array of strings.\n",
            "numpy.ma.empty_like\n",
            "    Return a new array with the same shape and type as a given array.\n",
            "numpy.ma.make_mask_none\n",
            "    Return a boolean mask of the given shape, filled with False.\n",
            "numpy.ma.tests.test_subclassing.MSubArray.__new__\n",
            "    Create a new masked array from scratch.\n",
            "numpy.ma.tests.test_subclassing.SubMaskedArray.__new__\n",
            "    Create a new masked array from scratch.\n",
            "numpy.ma.mrecords.fromrecords\n",
            "    Creates a MaskedRecords from a list of records.\n",
            "numpy.around\n",
            "    Evenly round to the given number of decimals.\n",
            "numpy.source\n",
            "    Print or write to a file the source code for a NumPy object.\n",
            "numpy.diagonal\n",
            "    Return specified diagonals.\n",
            "numpy.nan_to_num\n",
            "    Replace NaN with zero and infinity with large finite numbers.\n",
            "numpy.einsum_path\n",
            "    Evaluates the lowest cost contraction order for an einsum expression by\n",
            "numpy.histogram2d\n",
            "    Compute the bi-dimensional histogram of two data samples.\n",
            "numpy.fft.ifft\n",
            "    Compute the one-dimensional inverse discrete Fourier Transform.\n",
            "numpy.ma.tests.test_subclassing.SubArray\n",
            "    ndarray(shape, dtype=float, buffer=None, offset=0,\n",
            "numpy.fft.ifftn\n",
            "    Compute the N-dimensional inverse discrete Fourier Transform.\n",
            "numpy.busdaycalendar\n",
            "    A business day calendar object that efficiently stores information\n",
            "numpy.lib.tests.test_stride_tricks.SimpleSubClass\n",
            "    ndarray(shape, dtype=float, buffer=None, offset=0,\n",
            "numpy.core.tests.test_function_base.PhysicalQuantity2\n",
            "    ndarray(shape, dtype=float, buffer=None, offset=0,\n",
            "numpy.ma.tests.test_subclassing.ComplicatedSubArray\n",
            "    ndarray(shape, dtype=float, buffer=None, offset=0,\n",
            "numpy.lib.tests.test_stride_tricks.VerySimpleSubClass\n",
            "    ndarray(shape, dtype=float, buffer=None, offset=0,\n",
            "numpy.testing._gen_alignment_data\n",
            "    generator producing data with different alignment and offsets"
          ]
        }
      ],
      "source": [
        "np.lookfor('create array')"
      ]
    },
    {
      "cell_type": "markdown",
      "metadata": {
        "id": "TAonduK0eXY3"
      },
      "source": [
        "Обычно мы будем пользоваться следующимим методами:\n",
        "\n",
        "- `np.array(some_list)`\n",
        "- `np.arange(count)` генерирует последовательность чисел, как range\n",
        "- `np.zeros(shape)` генерирует матрицу с нулями\n",
        "- `np.ones(shape)` создает матрицу с единицами\n",
        "- `np.linspace(strat, end, count)` - равномерно распределяет числа по пространству от start до end\n",
        "- `np.random.random_sample(shape)` - матрица случайных чисел в диапазоне [0,1), равномерное распределение\n",
        "- `np.random.randn(shape)` - случайные числа из нормального распределения\n",
        "\n",
        "Shape - это размерность матрицы. Например (3,3,3) - это трёхмерная матрица размера 3x3x3"
      ]
    },
    {
      "cell_type": "code",
      "execution_count": null,
      "metadata": {
        "id": "FQsalQ0IeXY4",
        "outputId": "db7f6558-810f-4fe2-c4ca-7d2745df71fe"
      },
      "outputs": [
        {
          "data": {
            "text/plain": [
              "array([1, 2, 3, 4])"
            ]
          },
          "execution_count": 4,
          "metadata": {},
          "output_type": "execute_result"
        }
      ],
      "source": [
        "np.array([1, 2, 3, 4]) # конвертирует python-list в ndarray"
      ]
    },
    {
      "cell_type": "code",
      "execution_count": null,
      "metadata": {
        "id": "uHKaF6SWeXY4",
        "outputId": "0f24f7e8-1f20-4fc0-a2d3-65812e019a97"
      },
      "outputs": [
        {
          "data": {
            "text/plain": [
              "array([   0,    1,    2, ..., 9997, 9998, 9999])"
            ]
          },
          "execution_count": 3,
          "metadata": {},
          "output_type": "execute_result"
        }
      ],
      "source": [
        "np.arange(10000)  # jupyter умеет сокращенно выводить содержимое массива"
      ]
    },
    {
      "cell_type": "code",
      "execution_count": null,
      "metadata": {
        "id": "kbc0rdepeXY4",
        "outputId": "e186ef26-31e3-4b3c-ed27-916aba4efaae"
      },
      "outputs": [
        {
          "data": {
            "text/plain": [
              "array([ 1.        ,  1.47368421,  1.94736842,  2.42105263,  2.89473684,\n",
              "        3.36842105,  3.84210526,  4.31578947,  4.78947368,  5.26315789,\n",
              "        5.73684211,  6.21052632,  6.68421053,  7.15789474,  7.63157895,\n",
              "        8.10526316,  8.57894737,  9.05263158,  9.52631579, 10.        ])"
            ]
          },
          "execution_count": 4,
          "metadata": {},
          "output_type": "execute_result"
        }
      ],
      "source": [
        "np.linspace(1, 10, 20)  # можно генерировать данные разными способами"
      ]
    },
    {
      "cell_type": "code",
      "execution_count": null,
      "metadata": {
        "id": "SJmaoLH8eXY5",
        "outputId": "c2eb2428-ab11-4c01-c72b-9bac20e0e19e"
      },
      "outputs": [
        {
          "data": {
            "text/plain": [
              "array([[0., 0.],\n",
              "       [0., 0.]])"
            ]
          },
          "execution_count": 5,
          "metadata": {},
          "output_type": "execute_result"
        }
      ],
      "source": [
        "# матрица нулей 2x2\n",
        "np.zeros((2,2)) # обратите внимание на внутренние скобки. Эта функция принимает на вход tuple"
      ]
    },
    {
      "cell_type": "code",
      "execution_count": null,
      "metadata": {
        "id": "XJr0ot50eXY5",
        "outputId": "3e0814cb-ebce-428d-95f6-01ec29cc4322"
      },
      "outputs": [
        {
          "data": {
            "text/plain": [
              "array([[0.51824101, 0.69802233, 0.5810828 , 0.9067611 , 0.12805176,\n",
              "        0.15781673, 0.2149033 , 0.19662173, 0.87152457, 0.34750729],\n",
              "       [0.45033112, 0.08248532, 0.90361231, 0.08867372, 0.90284958,\n",
              "        0.7817995 , 0.80915149, 0.35583971, 0.18616551, 0.9580176 ],\n",
              "       [0.30034273, 0.86682753, 0.64629281, 0.75367698, 0.42277774,\n",
              "        0.50044047, 0.10685378, 0.54838882, 0.78577039, 0.26519519],\n",
              "       [0.19821314, 0.78614462, 0.5464988 , 0.95630353, 0.87816238,\n",
              "        0.85759499, 0.20658592, 0.18287057, 0.58079405, 0.66814868],\n",
              "       [0.02457987, 0.69761675, 0.74261408, 0.62110228, 0.44200687,\n",
              "        0.79979937, 0.35665415, 0.35723733, 0.42976729, 0.13593187],\n",
              "       [0.85041023, 0.41576894, 0.02545788, 0.34946276, 0.35103443,\n",
              "        0.40385275, 0.38121399, 0.228929  , 0.41952327, 0.12041499],\n",
              "       [0.50220891, 0.50481864, 0.71251309, 0.03490503, 0.11945338,\n",
              "        0.83247127, 0.36115694, 0.18455245, 0.83627476, 0.01657174],\n",
              "       [0.28806487, 0.84836489, 0.61988393, 0.17328564, 0.76029452,\n",
              "        0.21785156, 0.98496911, 0.63649057, 0.81711627, 0.28264239],\n",
              "       [0.60920361, 0.97482892, 0.75292644, 0.06913393, 0.05654901,\n",
              "        0.99414334, 0.24909244, 0.94722594, 0.09396734, 0.42633627],\n",
              "       [0.65610317, 0.2151088 , 0.11506966, 0.98898662, 0.76752738,\n",
              "        0.17742285, 0.73323435, 0.5320926 , 0.96436275, 0.69644867]])"
            ]
          },
          "execution_count": 6,
          "metadata": {},
          "output_type": "execute_result"
        }
      ],
      "source": [
        "# Можно создать двумерную матрицу размера 10 на 10 из случайных чисел нормального распределения\n",
        "r = np.random.random_sample((10, 10)) # обратите внимание - аргумент это tuple\n",
        "r # обратите внимание, тут нет вызова print, а просто заканчиваем ячейку переменной"
      ]
    },
    {
      "cell_type": "code",
      "execution_count": null,
      "metadata": {
        "id": "wCnoM4ymeXY5",
        "outputId": "ddaaf037-33ee-4b7f-a713-68fce5a17f58"
      },
      "outputs": [
        {
          "data": {
            "text/plain": [
              "<matplotlib.colorbar.Colorbar at 0x7f33adfe7e48>"
            ]
          },
          "execution_count": 7,
          "metadata": {},
          "output_type": "execute_result"
        },
        {
          "data": {
            "image/png": "[encoded data removed]",
            "text/plain": [
              "<Figure size 432x288 with 2 Axes>"
            ]
          },
          "metadata": {},
          "output_type": "display_data"
        }
      ],
      "source": [
        "from matplotlib import pyplot as plt\n",
        "%matplotlib inline\n",
        "\n",
        "# просто можно визуализировать эти случайные числа для красоты\n",
        "plt.imshow(r, cmap=plt.cm.hot)\n",
        "plt.colorbar()"
      ]
    },
    {
      "cell_type": "code",
      "execution_count": null,
      "metadata": {
        "id": "QKpH69nweXY6",
        "outputId": "c3c8ee96-01dd-4761-be2f-12e9044ab6f3"
      },
      "outputs": [
        {
          "data": {
            "text/plain": [
              "array([[7, 7, 7],\n",
              "       [7, 7, 7],\n",
              "       [7, 7, 7]])"
            ]
          },
          "execution_count": 6,
          "metadata": {},
          "output_type": "execute_result"
        }
      ],
      "source": [
        "# Можно создать матрицу заданного размера заполненую определенными числами (данными)\n",
        "np.full((3, 3), 7)"
      ]
    },
    {
      "cell_type": "code",
      "execution_count": null,
      "metadata": {
        "id": "0RdxFiIfeXY6",
        "outputId": "5b8f7406-dbf2-4c20-a20b-d347bf19c420"
      },
      "outputs": [
        {
          "data": {
            "text/plain": [
              "array([[1., 0., 0., 0.],\n",
              "       [0., 1., 0., 0.],\n",
              "       [0., 0., 1., 0.],\n",
              "       [0., 0., 0., 1.]])"
            ]
          },
          "execution_count": 7,
          "metadata": {},
          "output_type": "execute_result"
        }
      ],
      "source": [
        "# можно создать квадратную матрицу с единицами на диагонали\n",
        "np.eye(4)"
      ]
    },
    {
      "cell_type": "code",
      "execution_count": null,
      "metadata": {
        "id": "YMjXLtV0eXY6",
        "outputId": "369155a8-759e-4c5d-e98c-b06ca37d7b18"
      },
      "outputs": [
        {
          "data": {
            "text/plain": [
              "array([[1., 0.],\n",
              "       [0., 1.],\n",
              "       [0., 0.],\n",
              "       [0., 0.]])"
            ]
          },
          "execution_count": 10,
          "metadata": {},
          "output_type": "execute_result"
        }
      ],
      "source": [
        "np.eye(4, M=2) # или так - урезать количество колонок"
      ]
    },
    {
      "cell_type": "code",
      "execution_count": null,
      "metadata": {
        "id": "Tkz0i9L1eXY7",
        "outputId": "4dad9f97-6eb7-4e52-bfc1-8c97195105f9"
      },
      "outputs": [
        {
          "data": {
            "text/plain": [
              "array([[0., 1., 0., 0.],\n",
              "       [0., 0., 1., 0.],\n",
              "       [0., 0., 0., 1.],\n",
              "       [0., 0., 0., 0.]])"
            ]
          },
          "execution_count": 13,
          "metadata": {},
          "output_type": "execute_result"
        }
      ],
      "source": [
        "np.eye(4, k=1) # можно выбрать номер диагонали, то есть вывести не на основной"
      ]
    },
    {
      "cell_type": "code",
      "execution_count": null,
      "metadata": {
        "id": "56zPhQuqeXY7",
        "outputId": "52e56df4-be57-4ba7-a3bf-ec48fe1a2d34"
      },
      "outputs": [
        {
          "data": {
            "text/plain": [
              "array([[1, 0, 0, 0, 0],\n",
              "       [0, 2, 0, 0, 0],\n",
              "       [0, 0, 3, 0, 0],\n",
              "       [0, 0, 0, 4, 0],\n",
              "       [0, 0, 0, 0, 5]])"
            ]
          },
          "execution_count": 10,
          "metadata": {},
          "output_type": "execute_result"
        }
      ],
      "source": [
        "# или можно создать диагональную матрицу. Размер вычисляется из размера диагонали\n",
        "np.diag([1,2,3,4, 5])"
      ]
    },
    {
      "cell_type": "code",
      "execution_count": null,
      "metadata": {
        "id": "u0JQS6EmeXY7",
        "outputId": "73220b93-3c91-47db-b4c0-f5d694a659d2"
      },
      "outputs": [
        {
          "name": "stdout",
          "output_type": "stream",
          "text": [
            "[0.   0.25 0.5  0.75 1.  ]\n",
            "[1.   0.75 0.25 0.   0.5 ]\n"
          ]
        }
      ],
      "source": [
        "# Можно перемешать даные\n",
        "\n",
        "arr = np.linspace(0,1,5) # сгенерируем 5 равноудаленных чисел в диапазоне [0, 1]\n",
        "print(arr)\n",
        "\n",
        "np.random.shuffle(arr) # перемешаем случайным образом массив\n",
        "print(arr)"
      ]
    },
    {
      "cell_type": "markdown",
      "metadata": {
        "id": "175N5Rk4eXY8"
      },
      "source": [
        "### Информация о массиве\n",
        "\n",
        "- `arr.shape` размерность массива\n",
        "- `arr.dtype` тип данных, которая эта матрица хранит\n",
        "- `arr.ndim` количество размерностей\n",
        "- `arr.size` количество элементов в матрице"
      ]
    },
    {
      "cell_type": "code",
      "execution_count": null,
      "metadata": {
        "id": "5x6IvyeXeXY8",
        "outputId": "f34c91aa-0c9a-4e25-e163-bac75826830e"
      },
      "outputs": [
        {
          "name": "stdout",
          "output_type": "stream",
          "text": [
            "Shape: (10, 10)\n",
            "Dtype: float64\n",
            "Ndim: 2\n",
            "Size 100\n"
          ]
        }
      ],
      "source": [
        "arr = np.random.random_sample((10, 10))\n",
        "print(\"Shape: {}\".format(arr.shape))\n",
        "print(\"Dtype: {}\".format(arr.dtype))\n",
        "print(\"Ndim: {}\".format(arr.ndim))\n",
        "print(\"Size {}\".format(arr.size))"
      ]
    },
    {
      "cell_type": "markdown",
      "metadata": {
        "id": "YzuVmeWxeXY8"
      },
      "source": [
        "### Работа с массивами\n",
        "\n",
        "Так как предполагается, что матрицы придется всяко разно трансформаировать, в Numpy есть очень много способов по преобразованию, выборке, трансформациям массивов\n",
        "\n",
        "#### Индексация\n",
        "\n",
        "https://docs.scipy.org/doc/numpy-1.13.0/reference/arrays.indexing.html\n",
        "\n",
        "- взятие по индексу\n",
        "- слайсы\n",
        "- слайсы по отдельным осям\n",
        "- логические индексы для выборок"
      ]
    },
    {
      "cell_type": "code",
      "execution_count": null,
      "metadata": {
        "id": "Dr9AqMQ7eXY8",
        "outputId": "c2efa8ac-0a09-4873-f683-6b19157856af"
      },
      "outputs": [
        {
          "data": {
            "text/plain": [
              "array([0, 1, 2, 3, 4, 5, 6, 7, 8])"
            ]
          },
          "execution_count": 34,
          "metadata": {},
          "output_type": "execute_result"
        }
      ],
      "source": [
        "arr = np.arange(9) # создадим массив из чисел от 0 до 9, не включительно\n",
        "arr"
      ]
    },
    {
      "cell_type": "code",
      "execution_count": null,
      "metadata": {
        "id": "Hd0rXEkNeXY9",
        "outputId": "575843e7-829f-453f-8fff-b5dd81fbb5f7"
      },
      "outputs": [
        {
          "name": "stdout",
          "output_type": "stream",
          "text": [
            "0\n",
            "7\n"
          ]
        }
      ],
      "source": [
        "print(arr[0]) # обычная индексация [0, 1, 2 .....]\n",
        "print(arr[-2]) # индексация с конца [..... -3 -2 -1]"
      ]
    },
    {
      "cell_type": "markdown",
      "metadata": {
        "id": "KmIooQF6eXY9"
      },
      "source": [
        "Слайсинг в Python: `array[from:to:step]`, по умолчанию `step=1`"
      ]
    },
    {
      "cell_type": "code",
      "execution_count": null,
      "metadata": {
        "id": "YaNfhyu1eXY9",
        "outputId": "e3fb7559-bc75-439d-c0fa-241ffe8aa73c"
      },
      "outputs": [
        {
          "data": {
            "text/plain": [
              "array([2, 3, 4])"
            ]
          },
          "execution_count": 18,
          "metadata": {},
          "output_type": "execute_result"
        }
      ],
      "source": [
        "arr[2:5]  # слайс массива"
      ]
    },
    {
      "cell_type": "code",
      "execution_count": null,
      "metadata": {
        "id": "5wZDWXPUeXY9",
        "outputId": "ba842177-db50-4346-d41a-cf97183b6e48"
      },
      "outputs": [
        {
          "data": {
            "text/plain": [
              "array([0, 2, 4, 6, 8])"
            ]
          },
          "execution_count": 19,
          "metadata": {},
          "output_type": "execute_result"
        }
      ],
      "source": [
        "arr[::2]  # каждый второй элемент массива"
      ]
    },
    {
      "cell_type": "code",
      "execution_count": null,
      "metadata": {
        "id": "aoGltfHteXY9",
        "outputId": "67c56fcd-e598-45bd-8c84-e0ee0c9e6aff"
      },
      "outputs": [
        {
          "data": {
            "text/plain": [
              "array([8, 7, 6, 5, 4, 3, 2, 1, 0])"
            ]
          },
          "execution_count": 21,
          "metadata": {},
          "output_type": "execute_result"
        }
      ],
      "source": [
        "arr[::-1] # массив задом напереде"
      ]
    },
    {
      "cell_type": "code",
      "execution_count": null,
      "metadata": {
        "id": "Y95ltDJCeXY-",
        "outputId": "5316c357-b415-40bc-ef43-8dbf85d61439"
      },
      "outputs": [
        {
          "data": {
            "text/plain": [
              "array([3, 2, 1])"
            ]
          },
          "execution_count": 32,
          "metadata": {},
          "output_type": "execute_result"
        }
      ],
      "source": [
        "arr[3:0:-1]"
      ]
    },
    {
      "cell_type": "code",
      "execution_count": null,
      "metadata": {
        "id": "EDU4T8IaeXY-",
        "outputId": "a684f14a-efd3-4817-8f7a-301f24ecdc4a"
      },
      "outputs": [
        {
          "data": {
            "text/plain": [
              "array([[0, 1, 2],\n",
              "       [3, 4, 5],\n",
              "       [6, 7, 8]])"
            ]
          },
          "execution_count": 35,
          "metadata": {},
          "output_type": "execute_result"
        }
      ],
      "source": [
        "# Можно менять размерность, без изменения количества элементов массива\n",
        "\n",
        "arr = arr.reshape(3,3)\n",
        "arr"
      ]
    },
    {
      "cell_type": "code",
      "execution_count": null,
      "metadata": {
        "id": "umsOQjIneXY-",
        "outputId": "aec3d890-e629-43ec-fafd-dbd8570daf5c"
      },
      "outputs": [
        {
          "name": "stdout",
          "output_type": "stream",
          "text": [
            "4\n",
            "3\n"
          ]
        }
      ],
      "source": [
        "# arr[Y, X]\n",
        "print(arr[1,1])\n",
        "print(arr[1,0])"
      ]
    },
    {
      "cell_type": "code",
      "execution_count": null,
      "metadata": {
        "id": "5ENafK8GeXY-",
        "outputId": "28539c1a-c9a7-4ef5-eb85-96bb6e493753"
      },
      "outputs": [
        {
          "data": {
            "text/plain": [
              "array([[0, 1, 2],\n",
              "       [3, 4, 5]])"
            ]
          },
          "execution_count": 38,
          "metadata": {},
          "output_type": "execute_result"
        }
      ],
      "source": [
        "arr[0:2, :] # слайсинг многомерных массивов"
      ]
    },
    {
      "cell_type": "code",
      "execution_count": null,
      "metadata": {
        "id": "pkacvk9oeXY_",
        "outputId": "31d47fbd-ee4e-4b3b-d9c8-bf27cfd4660b"
      },
      "outputs": [
        {
          "data": {
            "text/plain": [
              "array([[4, 5],\n",
              "       [7, 8]])"
            ]
          },
          "execution_count": 42,
          "metadata": {},
          "output_type": "execute_result"
        }
      ],
      "source": [
        "arr[1:3, 1:3] # слайсинг многомерных массивов"
      ]
    },
    {
      "cell_type": "code",
      "execution_count": null,
      "metadata": {
        "id": "dOxYwPlReXY_",
        "outputId": "bd6505da-c1c3-4c7b-81ce-02eda6725aa3"
      },
      "outputs": [
        {
          "data": {
            "text/plain": [
              "array([[0, 2],\n",
              "       [6, 8]])"
            ]
          },
          "execution_count": 40,
          "metadata": {},
          "output_type": "execute_result"
        }
      ],
      "source": [
        "arr[::2,::2] # слайсинг многомерных массивов"
      ]
    },
    {
      "cell_type": "code",
      "execution_count": null,
      "metadata": {
        "id": "1Tg5PXOVeXY_",
        "outputId": "b6f2f08c-b0ac-4fa5-c6e9-eb3d8d86b805"
      },
      "outputs": [
        {
          "data": {
            "text/plain": [
              "array([[8, 7, 6],\n",
              "       [5, 4, 3],\n",
              "       [2, 1, 0]])"
            ]
          },
          "execution_count": 39,
          "metadata": {},
          "output_type": "execute_result"
        }
      ],
      "source": [
        "arr[::-1,::-1] # слайсинг многомерных массивов"
      ]
    },
    {
      "cell_type": "code",
      "execution_count": null,
      "metadata": {
        "id": "x3Z21tnoeXY_",
        "outputId": "01a05043-ee6e-42e4-9d58-c3eb7b5c55ac"
      },
      "outputs": [
        {
          "data": {
            "text/plain": [
              "array([[ 0,  1,  2,  3,  4],\n",
              "       [ 5,  6,  7,  8,  9],\n",
              "       [10, 11, 12, 13, 14],\n",
              "       [15, 16, 17, 18, 19],\n",
              "       [20, 21, 22, 23, 24]])"
            ]
          },
          "execution_count": 43,
          "metadata": {},
          "output_type": "execute_result"
        }
      ],
      "source": [
        "arr = np.arange(25).reshape((5,5))\n",
        "arr"
      ]
    },
    {
      "cell_type": "code",
      "execution_count": null,
      "metadata": {
        "id": "e2huv1CWeXZA",
        "outputId": "760e274e-28bb-49b5-f31a-36db6fd128e4"
      },
      "outputs": [
        {
          "data": {
            "text/plain": [
              "array([[ 0,  1,  2,  3,  4],\n",
              "       [15, 16, 17, 18, 19]])"
            ]
          },
          "execution_count": 44,
          "metadata": {},
          "output_type": "execute_result"
        }
      ],
      "source": [
        "arr[[0,3]] # подвыборка строк по их индексам. Обратите внимание на синтаксис"
      ]
    },
    {
      "cell_type": "markdown",
      "metadata": {
        "id": "RwNJ2MGYeXZA"
      },
      "source": [
        "## Фильтрация, выборка данных.\n",
        "\n",
        "Иногда нужно делать сложные выборки над данными в матрицах"
      ]
    },
    {
      "cell_type": "code",
      "execution_count": null,
      "metadata": {
        "id": "NtX_U2ymeXZA",
        "outputId": "c1cf89dd-f304-444c-992d-a2cf4f8f4804"
      },
      "outputs": [
        {
          "data": {
            "text/plain": [
              "array([ 0,  1,  2,  3,  4,  5,  6,  7,  8,  9, 10, 11, 12, 13, 14, 15])"
            ]
          },
          "execution_count": 47,
          "metadata": {},
          "output_type": "execute_result"
        }
      ],
      "source": [
        "arr = np.arange(16)\n",
        "arr"
      ]
    },
    {
      "cell_type": "code",
      "execution_count": null,
      "metadata": {
        "id": "hKCCILvReXZA",
        "outputId": "bf3b1576-6664-4191-fda2-5add5f314915"
      },
      "outputs": [
        {
          "data": {
            "text/plain": [
              "array([False,  True, False,  True, False,  True, False,  True, False,\n",
              "        True, False,  True, False,  True, False,  True])"
            ]
          },
          "execution_count": 48,
          "metadata": {},
          "output_type": "execute_result"
        }
      ],
      "source": [
        "'''\n",
        "Обратите внимание, мы нашли остаток от деления на 2 и\n",
        "сравнили его с 0 для КАЖДОГО ЭЛЕМЕНТА и получили новый массив\n",
        "'''\n",
        "arr % 2 != 0"
      ]
    },
    {
      "cell_type": "code",
      "execution_count": null,
      "metadata": {
        "id": "ozdk4EIOeXZB",
        "outputId": "9be7fdf9-7a99-45e4-f201-fb00ec63fa17"
      },
      "outputs": [
        {
          "data": {
            "text/plain": [
              "array([ 1,  3,  5,  7,  9, 11, 13, 15])"
            ]
          },
          "execution_count": 49,
          "metadata": {},
          "output_type": "execute_result"
        }
      ],
      "source": [
        "arr[arr % 2 != 0] # в качестве индексов массива можно использовать boolean массив - маску"
      ]
    },
    {
      "cell_type": "code",
      "execution_count": null,
      "metadata": {
        "id": "PbK16ciLeXZC",
        "outputId": "30cb08e9-fb1d-44c0-f539-e26861a1d9bb"
      },
      "outputs": [
        {
          "data": {
            "text/plain": [
              "array([False,  True, False, False, False,  True, False,  True, False,\n",
              "       False, False,  True, False,  True, False, False])"
            ]
          },
          "execution_count": 52,
          "metadata": {},
          "output_type": "execute_result"
        }
      ],
      "source": [
        "# если нужно сделать логические операции над масками,\n",
        "# то применять надо БИТОВЫЕ операции,\n",
        "# так как только их можно переопределить как операции в классах питона,\n",
        "# что используют в numpy\n",
        "(arr % 2 != 0) & (arr % 3 != 0)"
      ]
    },
    {
      "cell_type": "code",
      "execution_count": null,
      "metadata": {
        "id": "SX3rnpkieXZC",
        "outputId": "f7cc153b-ce61-40af-dc19-e6a3b8da28b0"
      },
      "outputs": [
        {
          "data": {
            "text/plain": [
              "array([ True, False, False,  True, False, False,  True, False, False,\n",
              "        True, False, False,  True, False, False,  True])"
            ]
          },
          "execution_count": 62,
          "metadata": {},
          "output_type": "execute_result"
        }
      ],
      "source": [
        "~(arr % 3 != 0) # отрицание логической операции"
      ]
    },
    {
      "cell_type": "code",
      "execution_count": null,
      "metadata": {
        "id": "AHSX3b_ZeXZC",
        "outputId": "09100062-0354-49c5-9b91-ef16ab64923d"
      },
      "outputs": [
        {
          "name": "stdout",
          "output_type": "stream",
          "text": [
            "[ True False  True  True  True False  True False  True  True  True False\n",
            "  True False  True  True]\n"
          ]
        },
        {
          "data": {
            "text/plain": [
              "array([ 0,  2,  3,  4,  6,  8,  9, 10, 12, 14, 15])"
            ]
          },
          "execution_count": 60,
          "metadata": {},
          "output_type": "execute_result"
        }
      ],
      "source": [
        "print((arr % 2 == 0) | (arr % 3 == 0))\n",
        "arr[(arr % 2 == 0) | (arr % 3 == 0)]"
      ]
    },
    {
      "cell_type": "code",
      "execution_count": null,
      "metadata": {
        "id": "7O5NV6FoeXZC",
        "outputId": "153c265b-d0f5-4463-8d8a-40b1b5d169bf"
      },
      "outputs": [
        {
          "data": {
            "text/plain": [
              "array([ 1,  5,  7, 11, 13])"
            ]
          },
          "execution_count": 57,
          "metadata": {},
          "output_type": "execute_result"
        }
      ],
      "source": [
        "arr[(arr % 2 != 0) & (arr % 3 != 0)]"
      ]
    },
    {
      "cell_type": "markdown",
      "metadata": {
        "id": "IvD5-AQ6eXZD"
      },
      "source": [
        "# Другие операции поиска"
      ]
    },
    {
      "cell_type": "code",
      "execution_count": null,
      "metadata": {
        "id": "WnjCINTYeXZD",
        "outputId": "e50f26d6-ab57-4646-ee73-4f23e97c7088"
      },
      "outputs": [
        {
          "data": {
            "text/plain": [
              "array([-0.89883457, -0.86884126, -0.57287086,  1.27731139, -0.95452477,\n",
              "        0.56761683,  1.19941646,  0.86727464,  0.45692095,  1.09954872,\n",
              "       -0.28132856,  0.40101872, -0.53444924,  1.73078132, -0.03825445,\n",
              "       -0.28146275,  0.99794057, -0.52535297,  0.18467903, -0.08490937])"
            ]
          },
          "execution_count": 63,
          "metadata": {},
          "output_type": "execute_result"
        }
      ],
      "source": [
        "arr = np.random.randn(20)\n",
        "arr"
      ]
    },
    {
      "cell_type": "code",
      "execution_count": null,
      "metadata": {
        "id": "3H9Tt36CeXZD",
        "outputId": "b30c4440-0d3f-412d-8430-56dc666daff8"
      },
      "outputs": [
        {
          "name": "stdout",
          "output_type": "stream",
          "text": [
            "13\n",
            "1.7307813208178993\n"
          ]
        }
      ],
      "source": [
        "# найдем ИНДЕКС максимального элемента\n",
        "print(arr.argmax())\n",
        "print(arr[arr.argmax()])"
      ]
    },
    {
      "cell_type": "code",
      "execution_count": null,
      "metadata": {
        "id": "lwdhnkzReXZE",
        "outputId": "026c382f-4ff4-4f66-aaaf-25a6e6aca4a7"
      },
      "outputs": [
        {
          "data": {
            "text/plain": [
              "array([ 4,  0,  1,  2, 12, 17, 15, 10, 19, 14, 18, 11,  8,  5,  7, 16,  9,\n",
              "        6,  3, 13])"
            ]
          },
          "execution_count": 67,
          "metadata": {},
          "output_type": "execute_result"
        }
      ],
      "source": [
        "arr.argsort() # можно даже отсортировать массив, но получить индексы"
      ]
    },
    {
      "cell_type": "markdown",
      "metadata": {
        "id": "lPPgyW24eXZE"
      },
      "source": [
        "### Преобразования размерностей\n",
        "\n",
        "- транспонирование\n",
        "- конкатенация массивов по разным осям\n",
        "- reshape\n",
        "    - произвольное\n",
        "    - уплощение матриц"
      ]
    },
    {
      "cell_type": "code",
      "execution_count": null,
      "metadata": {
        "id": "CU4j2zTxeXZE",
        "outputId": "49fec19f-71fa-4a76-e1c0-4a2721c4662d"
      },
      "outputs": [
        {
          "name": "stdout",
          "output_type": "stream",
          "text": [
            "(1, 3)\n",
            "2\n",
            "(3, 1)\n",
            "2\n"
          ]
        },
        {
          "data": {
            "text/plain": [
              "array([[1],\n",
              "       [2],\n",
              "       [3]])"
            ]
          },
          "execution_count": 71,
          "metadata": {},
          "output_type": "execute_result"
        }
      ],
      "source": [
        "a = np.array([[1,2,3]])\n",
        "print(a.shape)\n",
        "print(a.ndim)\n",
        "at = a.T\n",
        "print(at.shape)\n",
        "print(at.ndim)\n",
        "at"
      ]
    },
    {
      "cell_type": "markdown",
      "metadata": {
        "id": "hRbdbHMmeXZF"
      },
      "source": [
        "#### Reshape"
      ]
    },
    {
      "cell_type": "code",
      "execution_count": null,
      "metadata": {
        "id": "D7EMwl8leXZF",
        "outputId": "c11c3562-a2c7-4fcd-fc61-167e060c5ba3"
      },
      "outputs": [
        {
          "name": "stdout",
          "output_type": "stream",
          "text": [
            "(16,)\n",
            "1\n"
          ]
        },
        {
          "data": {
            "text/plain": [
              "array([ 0,  1,  2,  3,  4,  5,  6,  7,  8,  9, 10, 11, 12, 13, 14, 15])"
            ]
          },
          "execution_count": 69,
          "metadata": {},
          "output_type": "execute_result"
        }
      ],
      "source": [
        "arr = np.arange(16)\n",
        "print(arr.shape)\n",
        "print(arr.ndim)\n",
        "arr"
      ]
    },
    {
      "cell_type": "code",
      "execution_count": null,
      "metadata": {
        "id": "9gDdErU7eXZF",
        "outputId": "3a518335-06e1-4ad6-ca0b-845e3218e3aa"
      },
      "outputs": [
        {
          "name": "stdout",
          "output_type": "stream",
          "text": [
            "(4, 4)\n",
            "2\n"
          ]
        },
        {
          "data": {
            "text/plain": [
              "array([[ 0,  1,  2,  3],\n",
              "       [ 4,  5,  6,  7],\n",
              "       [ 8,  9, 10, 11],\n",
              "       [12, 13, 14, 15]])"
            ]
          },
          "execution_count": 33,
          "metadata": {},
          "output_type": "execute_result"
        }
      ],
      "source": [
        "arr2 = arr.reshape((4,4))\n",
        "print(arr2.shape)\n",
        "print(arr2.ndim)\n",
        "arr2"
      ]
    },
    {
      "cell_type": "code",
      "execution_count": null,
      "metadata": {
        "id": "vrVgwNqLeXZF",
        "outputId": "2d0e3315-9abd-4c16-c074-80b102dcf320"
      },
      "outputs": [
        {
          "name": "stdout",
          "output_type": "stream",
          "text": [
            "(2, 2, 2, 2)\n",
            "4\n"
          ]
        },
        {
          "data": {
            "text/plain": [
              "array([[[[ 0,  1],\n",
              "         [ 2,  3]],\n",
              "\n",
              "        [[ 4,  5],\n",
              "         [ 6,  7]]],\n",
              "\n",
              "\n",
              "       [[[ 8,  9],\n",
              "         [10, 11]],\n",
              "\n",
              "        [[12, 13],\n",
              "         [14, 15]]]])"
            ]
          },
          "execution_count": 72,
          "metadata": {},
          "output_type": "execute_result"
        }
      ],
      "source": [
        "arr4 = arr.reshape((2,2,2,2))\n",
        "print(arr4.shape)\n",
        "print(arr4.ndim)\n",
        "arr4"
      ]
    },
    {
      "cell_type": "markdown",
      "metadata": {
        "id": "W8IFvobveXZG"
      },
      "source": [
        "#### Concatenate"
      ]
    },
    {
      "cell_type": "code",
      "execution_count": null,
      "metadata": {
        "id": "ceTMY3JaeXZG",
        "outputId": "17ed06d2-5bfb-489c-e81f-e7fe743ce303"
      },
      "outputs": [
        {
          "data": {
            "text/plain": [
              "array([1, 2, 3, 7, 8, 9])"
            ]
          },
          "execution_count": 73,
          "metadata": {},
          "output_type": "execute_result"
        }
      ],
      "source": [
        "# соединение массивов\n",
        "\n",
        "a = np.array([1,2,3])\n",
        "b = np.array([7,8,9])\n",
        "np.concatenate((a,b))"
      ]
    },
    {
      "cell_type": "code",
      "execution_count": null,
      "metadata": {
        "id": "VWvuwUq8eXZG",
        "outputId": "70065128-0a0d-413b-8d01-0cd6c4f75af4"
      },
      "outputs": [
        {
          "name": "stdout",
          "output_type": "stream",
          "text": [
            "(2, 2)\n",
            "(1, 2)\n"
          ]
        }
      ],
      "source": [
        "a = np.array([[1,2], [3,4]])\n",
        "b = np.array([[8,9]])\n",
        "print(a.shape)\n",
        "print(b.shape)"
      ]
    },
    {
      "cell_type": "code",
      "execution_count": null,
      "metadata": {
        "id": "bSpf5wsmeXZH",
        "outputId": "48b3a641-b235-465f-d3b6-47b583ee9006"
      },
      "outputs": [
        {
          "data": {
            "text/plain": [
              "array([[1, 2],\n",
              "       [3, 4],\n",
              "       [8, 9]])"
            ]
          },
          "execution_count": 75,
          "metadata": {},
          "output_type": "execute_result"
        }
      ],
      "source": [
        "np.concatenate((a,b), axis=0) # можно выбирать по какой оси будет сделано присоединение массива"
      ]
    },
    {
      "cell_type": "code",
      "execution_count": null,
      "metadata": {
        "id": "w2mvmzkjeXZH",
        "outputId": "576d9b7b-3390-489f-cf8b-91a84db44573"
      },
      "outputs": [
        {
          "data": {
            "text/plain": [
              "array([[1, 2, 8],\n",
              "       [3, 4, 9]])"
            ]
          },
          "execution_count": 76,
          "metadata": {},
          "output_type": "execute_result"
        }
      ],
      "source": [
        "np.concatenate((a,b.T), axis=1)"
      ]
    },
    {
      "cell_type": "code",
      "execution_count": null,
      "metadata": {
        "id": "gYEpVES2eXZH",
        "outputId": "68f32ed6-0563-4c8b-b11d-17953d58a67f"
      },
      "outputs": [
        {
          "data": {
            "text/plain": [
              "array([[1, 2],\n",
              "       [3, 4],\n",
              "       [8, 9]])"
            ]
          },
          "execution_count": 39,
          "metadata": {},
          "output_type": "execute_result"
        }
      ],
      "source": [
        "np.vstack((a,b)) # есть сокращенные и понятные вызовы для конкатенации матрц по определенным осям"
      ]
    },
    {
      "cell_type": "code",
      "execution_count": null,
      "metadata": {
        "id": "MU_HA1p3eXZH",
        "outputId": "8b6ae3b4-b052-4bf5-f4a4-09c945808840"
      },
      "outputs": [
        {
          "data": {
            "text/plain": [
              "array([[1, 2, 8],\n",
              "       [3, 4, 9]])"
            ]
          },
          "execution_count": 40,
          "metadata": {},
          "output_type": "execute_result"
        }
      ],
      "source": [
        "np.hstack((a,b.T)) # есть сокращенные и понятные вызовы для конкатенации матрц по определенным осям"
      ]
    },
    {
      "cell_type": "code",
      "execution_count": null,
      "metadata": {
        "id": "CmPwOM1heXZI",
        "outputId": "b7f5e7f5-78d1-4695-bce4-cbf4fc15418b"
      },
      "outputs": [
        {
          "data": {
            "text/plain": [
              "array([1, 2, 8, 3, 4, 9])"
            ]
          },
          "execution_count": 77,
          "metadata": {},
          "output_type": "execute_result"
        }
      ],
      "source": [
        "np.hstack((a,b.T)).flatten(order='C') # выпрямление матрицы в разном порядке"
      ]
    },
    {
      "cell_type": "code",
      "execution_count": null,
      "metadata": {
        "id": "WJh5_vAueXZI",
        "outputId": "262b915e-3dbd-45be-8993-c84f9fe5816c"
      },
      "outputs": [
        {
          "data": {
            "text/plain": [
              "array([1, 3, 2, 4, 8, 9])"
            ]
          },
          "execution_count": 78,
          "metadata": {},
          "output_type": "execute_result"
        }
      ],
      "source": [
        "np.hstack((a,b.T)).flatten(order='F') # выпрямление матрицы в разном порядке"
      ]
    },
    {
      "cell_type": "markdown",
      "metadata": {
        "id": "s_AVZ1oaeXZI"
      },
      "source": [
        "### Линейная алгебра\n",
        "\n",
        "Так как всё матрица, тогда вся математика - это линейная алгебра. (шутка)"
      ]
    },
    {
      "cell_type": "code",
      "execution_count": null,
      "metadata": {
        "id": "ofc948Z0eXZI",
        "outputId": "24687866-f1ce-41df-ebbe-5634ca0f4cd2"
      },
      "outputs": [
        {
          "name": "stdout",
          "output_type": "stream",
          "text": [
            "[1 2 3] [1 2 3]\n"
          ]
        }
      ],
      "source": [
        "a = np.arange(1,4)\n",
        "b = np.arange(1,4)\n",
        "print(a,b)"
      ]
    },
    {
      "cell_type": "markdown",
      "metadata": {
        "id": "K1WvmxLHeXZJ"
      },
      "source": [
        "#### Поэлементные операции"
      ]
    },
    {
      "cell_type": "code",
      "execution_count": null,
      "metadata": {
        "id": "ieGmTECCeXZJ",
        "outputId": "a0f4a419-dd49-4e1f-c74b-94e8b3be942e"
      },
      "outputs": [
        {
          "data": {
            "text/plain": [
              "array([2, 4, 6])"
            ]
          },
          "execution_count": 44,
          "metadata": {},
          "output_type": "execute_result"
        }
      ],
      "source": [
        "a + b"
      ]
    },
    {
      "cell_type": "code",
      "execution_count": null,
      "metadata": {
        "id": "ndLUMs4veXZJ",
        "outputId": "3aeff0fa-c74d-4ddc-dc57-3f59619e550a"
      },
      "outputs": [
        {
          "data": {
            "text/plain": [
              "array([2, 3, 4])"
            ]
          },
          "execution_count": 45,
          "metadata": {},
          "output_type": "execute_result"
        }
      ],
      "source": [
        "a + 1"
      ]
    },
    {
      "cell_type": "code",
      "execution_count": null,
      "metadata": {
        "id": "Rk0CbDv_eXZJ",
        "outputId": "78393dd4-77a4-42f1-a054-1cae955e8d14"
      },
      "outputs": [
        {
          "data": {
            "text/plain": [
              "array([3, 6, 9])"
            ]
          },
          "execution_count": 46,
          "metadata": {},
          "output_type": "execute_result"
        }
      ],
      "source": [
        "a * 3"
      ]
    },
    {
      "cell_type": "code",
      "execution_count": null,
      "metadata": {
        "id": "tY3VLUkVeXZK",
        "outputId": "d428b925-543d-4fdd-be87-890ff798ff3c"
      },
      "outputs": [
        {
          "data": {
            "text/plain": [
              "array([0.5, 1. , 1.5])"
            ]
          },
          "execution_count": 47,
          "metadata": {},
          "output_type": "execute_result"
        }
      ],
      "source": [
        "a / 2"
      ]
    },
    {
      "cell_type": "code",
      "execution_count": null,
      "metadata": {
        "id": "-hWeLlyweXZK",
        "outputId": "0b8ed317-9779-467b-f30b-bd6e79bbba8a"
      },
      "outputs": [
        {
          "data": {
            "text/plain": [
              "array([3. , 1.5, 1. ])"
            ]
          },
          "execution_count": 48,
          "metadata": {},
          "output_type": "execute_result"
        }
      ],
      "source": [
        "3 / a"
      ]
    },
    {
      "cell_type": "code",
      "execution_count": null,
      "metadata": {
        "id": "4BBzW6abeXZK",
        "outputId": "24afc19b-7207-474d-91aa-888b025d16bd"
      },
      "outputs": [
        {
          "data": {
            "text/plain": [
              "array([1, 4, 9])"
            ]
          },
          "execution_count": 49,
          "metadata": {},
          "output_type": "execute_result"
        }
      ],
      "source": [
        "a * b"
      ]
    },
    {
      "cell_type": "code",
      "execution_count": null,
      "metadata": {
        "id": "LiXOochzeXZL",
        "outputId": "5ef48fa3-32d6-46b6-ddaf-113413950b40"
      },
      "outputs": [
        {
          "data": {
            "text/plain": [
              "array([[0, 1],\n",
              "       [2, 3]])"
            ]
          },
          "execution_count": 81,
          "metadata": {},
          "output_type": "execute_result"
        }
      ],
      "source": [
        "c = np.arange(4).reshape(2,2)\n",
        "c"
      ]
    },
    {
      "cell_type": "code",
      "execution_count": null,
      "metadata": {
        "id": "NHJtgPXweXZL",
        "outputId": "7929d64e-9b41-48eb-c4de-e5f2b3a549b6"
      },
      "outputs": [
        {
          "data": {
            "text/plain": [
              "array([[      -inf, 0.        ],\n",
              "       [0.69314718, 1.09861229]])"
            ]
          },
          "execution_count": 82,
          "metadata": {},
          "output_type": "execute_result"
        }
      ],
      "source": [
        "np.log(c)"
      ]
    },
    {
      "cell_type": "code",
      "execution_count": null,
      "metadata": {
        "id": "Wq48lYYIeXZL",
        "outputId": "0670cf04-92dd-422d-8bd0-09d870028ad0"
      },
      "outputs": [
        {
          "data": {
            "text/plain": [
              "array([[ 1.        ,  2.71828183],\n",
              "       [ 7.3890561 , 20.08553692]])"
            ]
          },
          "execution_count": 52,
          "metadata": {},
          "output_type": "execute_result"
        }
      ],
      "source": [
        "np.exp(c)"
      ]
    },
    {
      "cell_type": "code",
      "execution_count": null,
      "metadata": {
        "id": "qrm01H0xeXZM",
        "outputId": "f8ffc72f-eff6-4886-af01-d0fe90e8f407"
      },
      "outputs": [
        {
          "data": {
            "text/plain": [
              "array([[0.        , 0.84147098],\n",
              "       [0.90929743, 0.14112001]])"
            ]
          },
          "execution_count": 53,
          "metadata": {},
          "output_type": "execute_result"
        }
      ],
      "source": [
        "np.sin(c)"
      ]
    },
    {
      "cell_type": "markdown",
      "metadata": {
        "id": "RCmfk0w9eXZM"
      },
      "source": [
        "#### Матричные операции"
      ]
    },
    {
      "cell_type": "code",
      "execution_count": null,
      "metadata": {
        "id": "k5R1lIF5eXZM",
        "outputId": "d830bbc1-4c0c-4b28-e6a5-101a74db6921"
      },
      "outputs": [
        {
          "data": {
            "text/plain": [
              "(array([[1, 2, 3]]), array([[1, 2, 3]]))"
            ]
          },
          "execution_count": 85,
          "metadata": {},
          "output_type": "execute_result"
        }
      ],
      "source": [
        "# Сделаем из массиво, вектор-строки матрицы\n",
        "a = a.reshape(1,3)\n",
        "b = b.reshape(1,3)\n",
        "a, b"
      ]
    },
    {
      "cell_type": "code",
      "execution_count": null,
      "metadata": {
        "id": "xGZdLcbAeXZN",
        "outputId": "8b5d4639-539e-4397-b572-2480d282c940"
      },
      "outputs": [
        {
          "data": {
            "text/plain": [
              "array([[1, 2, 3],\n",
              "       [2, 4, 6],\n",
              "       [3, 6, 9]])"
            ]
          },
          "execution_count": 86,
          "metadata": {},
          "output_type": "execute_result"
        }
      ],
      "source": [
        "a * b.T"
      ]
    },
    {
      "cell_type": "code",
      "execution_count": null,
      "metadata": {
        "id": "W2WapS2HeXZN",
        "outputId": "52474146-41c9-4eea-8c44-44b942d48417"
      },
      "outputs": [
        {
          "name": "stdout",
          "output_type": "stream",
          "text": [
            "shapes (1,3) and (1,3) not aligned: 3 (dim 1) != 1 (dim 0)\n"
          ]
        }
      ],
      "source": [
        "try:\n",
        "    np.dot(a,b)\n",
        "except Exception as e:\n",
        "    print(e) # если"
      ]
    },
    {
      "cell_type": "code",
      "execution_count": null,
      "metadata": {
        "id": "q9863LBAeXZN",
        "outputId": "2598d394-dd65-4840-910c-3787243bef80"
      },
      "outputs": [
        {
          "data": {
            "text/plain": [
              "array([[14]])"
            ]
          },
          "execution_count": 88,
          "metadata": {},
          "output_type": "execute_result"
        }
      ],
      "source": [
        "np.dot(a,b.T)"
      ]
    },
    {
      "cell_type": "code",
      "execution_count": null,
      "metadata": {
        "id": "zYZ7rVBleXZN",
        "outputId": "0098e272-64a3-47a2-b2e6-720e2c4fbf4d"
      },
      "outputs": [
        {
          "data": {
            "text/plain": [
              "array([[14]])"
            ]
          },
          "execution_count": 89,
          "metadata": {},
          "output_type": "execute_result"
        }
      ],
      "source": [
        "a.dot(b.T) # можно вызывать функцию как метод над экземпляром класса"
      ]
    },
    {
      "cell_type": "code",
      "execution_count": null,
      "metadata": {
        "id": "P3vm3MBveXZO",
        "outputId": "51253c38-227c-41fb-c6e9-8e338e3122b3"
      },
      "outputs": [
        {
          "name": "stdout",
          "output_type": "stream",
          "text": [
            "[[1. 2.]\n",
            " [3. 4.]]\n",
            "[[-2.   1. ]\n",
            " [ 1.5 -0.5]]\n"
          ]
        },
        {
          "data": {
            "text/plain": [
              "array([[1.00000000e+00, 0.00000000e+00],\n",
              "       [2.22044605e-16, 1.00000000e+00]])"
            ]
          },
          "execution_count": 90,
          "metadata": {},
          "output_type": "execute_result"
        }
      ],
      "source": [
        "arr = np.array([[1., 2.], [3., 4.]])\n",
        "print(arr)\n",
        "arr_inv = np.linalg.inv(arr)  # взятие обратной матрицы\n",
        "print(arr_inv)\n",
        "\n",
        "np.dot(arr_inv, arr)"
      ]
    },
    {
      "cell_type": "markdown",
      "metadata": {
        "id": "hSl44uH0eXZO"
      },
      "source": [
        "#### Статистические функции\n",
        "\n",
        "- суммы\n",
        "- среднее\n",
        "- медианы\n",
        "- стандартное отклонение\n",
        "- корреляция"
      ]
    },
    {
      "cell_type": "code",
      "execution_count": null,
      "metadata": {
        "id": "SY3l6_w8eXZO",
        "outputId": "6cfd20dd-fbd3-45f0-b37c-dd8e7b61ffba"
      },
      "outputs": [
        {
          "data": {
            "text/plain": [
              "array([[1, 2],\n",
              "       [3, 4]])"
            ]
          },
          "execution_count": 60,
          "metadata": {},
          "output_type": "execute_result"
        }
      ],
      "source": [
        "arr = np.array([[1,2], [3,4]])\n",
        "arr"
      ]
    },
    {
      "cell_type": "code",
      "execution_count": null,
      "metadata": {
        "id": "CHaROBRieXZP",
        "outputId": "3a9a14b8-cd29-4702-be03-c0f1339c0033"
      },
      "outputs": [
        {
          "data": {
            "text/plain": [
              "10.0"
            ]
          },
          "execution_count": 91,
          "metadata": {},
          "output_type": "execute_result"
        }
      ],
      "source": [
        "arr.sum() # сумма всех элементов маттрицы"
      ]
    },
    {
      "cell_type": "code",
      "execution_count": null,
      "metadata": {
        "id": "dWQr4vjseXZP",
        "outputId": "ca9283b9-99a7-4751-8b87-a6933404f405"
      },
      "outputs": [
        {
          "data": {
            "text/plain": [
              "array([3, 7])"
            ]
          },
          "execution_count": 62,
          "metadata": {},
          "output_type": "execute_result"
        }
      ],
      "source": [
        "arr.sum(axis=1) # сумма элементов матрицы вдоль"
      ]
    },
    {
      "cell_type": "code",
      "execution_count": null,
      "metadata": {
        "id": "4j9zXYSJeXZP",
        "outputId": "87e614c9-7166-44be-f519-a3341155fb47"
      },
      "outputs": [
        {
          "data": {
            "text/plain": [
              "array([4, 6])"
            ]
          },
          "execution_count": 63,
          "metadata": {},
          "output_type": "execute_result"
        }
      ],
      "source": [
        "arr.sum(axis=0)"
      ]
    },
    {
      "cell_type": "code",
      "execution_count": null,
      "metadata": {
        "id": "02_vRoKveXZP",
        "outputId": "32e957a6-64dc-408e-fdfd-0821b76e3e6a"
      },
      "outputs": [
        {
          "data": {
            "text/plain": [
              "(2.5, array([1.5, 3.5]), array([2., 3.]))"
            ]
          },
          "execution_count": 92,
          "metadata": {},
          "output_type": "execute_result"
        }
      ],
      "source": [
        "arr.mean(), arr.mean(axis=1), arr.mean(axis=0) # среднее по осям"
      ]
    },
    {
      "cell_type": "code",
      "execution_count": null,
      "metadata": {
        "id": "3n0DIeS9eXZQ",
        "outputId": "9f50d76b-3c0a-4989-b7af-5cc466549e65"
      },
      "outputs": [
        {
          "data": {
            "text/plain": [
              "1.118033988749895"
            ]
          },
          "execution_count": 65,
          "metadata": {},
          "output_type": "execute_result"
        }
      ],
      "source": [
        "arr.std() # стандартное отклонение"
      ]
    },
    {
      "cell_type": "code",
      "execution_count": null,
      "metadata": {
        "id": "lfUNdIuweXZQ",
        "outputId": "c1b8fa40-95ab-466c-d202-fd4aa37e8e9b"
      },
      "outputs": [
        {
          "data": {
            "text/plain": [
              "2.5"
            ]
          },
          "execution_count": 66,
          "metadata": {},
          "output_type": "execute_result"
        }
      ],
      "source": [
        "np.median(arr) # медиана"
      ]
    },
    {
      "cell_type": "code",
      "execution_count": null,
      "metadata": {
        "id": "K2l0pNHmeXZQ",
        "outputId": "3a158730-c0a3-455f-fde7-ed196c41306c"
      },
      "outputs": [
        {
          "name": "stdout",
          "output_type": "stream",
          "text": [
            "[28]\n",
            "[-28]\n",
            "[4.68213123]\n"
          ]
        }
      ],
      "source": [
        "arr = np.array([1,2,3])\n",
        "# значение корреляции\n",
        "print(np.correlate(arr, arr*2))\n",
        "print(np.correlate(arr, -arr*2))\n",
        "print(np.correlate(arr, np.log(arr)))"
      ]
    },
    {
      "cell_type": "markdown",
      "metadata": {
        "id": "yUDctlY6eXZR"
      },
      "source": [
        "![](http://p11cdn4static.sharpschool.com/UserFiles/Servers/Server_219733/Image/tumblr_lr7i6wdk1Z1qevhd4o1_500.gif)"
      ]
    }
  ],
  "metadata": {
    "kernelspec": {
      "display_name": "Python 3",
      "language": "python",
      "name": "python3"
    },
    "language_info": {
      "codemirror_mode": {
        "name": "ipython",
        "version": 3
      },
      "file_extension": ".py",
      "mimetype": "text/x-python",
      "name": "python",
      "nbconvert_exporter": "python",
      "pygments_lexer": "ipython3",
      "version": "3.7.0"
    },
    "colab": {
      "provenance": [],
      "include_colab_link": true
    }
  },
  "nbformat": 4,
  "nbformat_minor": 0
}