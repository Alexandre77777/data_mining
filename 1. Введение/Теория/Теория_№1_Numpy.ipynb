{
  "nbformat": 4,
  "nbformat_minor": 0,
  "metadata": {
    "colab": {
      "provenance": [],
      "gpuType": "T4",
      "authorship_tag": "ABX9TyOu9iVY0b4j1sc/6QeqCr8p",
      "include_colab_link": true
    },
    "kernelspec": {
      "name": "python3",
      "display_name": "Python 3"
    },
    "language_info": {
      "name": "python"
    },
    "accelerator": "GPU"
  },
  "cells": [
    {
      "cell_type": "markdown",
      "metadata": {
        "id": "view-in-github",
        "colab_type": "text"
      },
      "source": [
        "<a href=\"https://colab.research.google.com/github/Alexandre77777/computer_math/blob/main/2.%20%D0%91%D0%B8%D0%B1%D0%BB%D0%B8%D0%BE%D1%82%D0%B5%D0%BA%D0%B0%20Numpy/%D0%A2%D0%B5%D0%BE%D1%80%D0%B8%D1%8F_%E2%84%962_Numpy.ipynb\" target=\"_parent\"><img src=\"https://colab.research.google.com/assets/colab-badge.svg\" alt=\"Open In Colab\"/></a>"
      ]
    },
    {
      "cell_type": "markdown",
      "source": [
        "# **Numpy**"
      ],
      "metadata": {
        "id": "8atH8tgMNS1k"
      }
    },
    {
      "cell_type": "markdown",
      "source": [
        "![image.png](data:image/png;base64,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)"
      ],
      "metadata": {
        "id": "sjkEUoSeXd3O"
      }
    },
    {
      "cell_type": "markdown",
      "source": [
        "NumPy (Numerical Python) — это основная библиотека для научных вычислений в Python. Она предоставляет высокопроизводительные многомерные массивы и инструменты для работы с этими массивами."
      ],
      "metadata": {
        "id": "TULsM2-ONXkW"
      }
    },
    {
      "cell_type": "markdown",
      "source": [
        "Библиотека NumPy в Python оптимизирована для работы с массивами и матрицами благодаря нескольким ключевым аспектам, обеспечивающим её высокую производительность:\n",
        "\n",
        "1. **Реализация на C и Fortran:** Основные вычислительные операции в NumPy реализованы на языках программирования C и Fortran, которые являются компилируемыми и обеспечивают высокую производительность за счёт прямого обращения к аппаратным ресурсам.\n",
        "\n",
        "2. **Предварительно скомпилированный код:** Большинство функций NumPy предварительно скомпилированы, что уменьшает время, необходимое для их выполнения, в отличие от интерпретируемых операций в чистом Python.\n",
        "\n",
        "3. **Эффективное хранение данных:** В NumPy данные хранятся в плотных блоках памяти, что уменьшает накладные расходы на управление памятью и позволяет процессору эффективнее кэшировать данные и использовать векторные инструкции.\n",
        "\n",
        "4. **Векторизация:** Операции в NumPy могут выполняться над целыми массивами без необходимости явного написания циклов. Это уменьшает количество операций Python-интерпретатора и позволяет выполнять сложные вычисления на C-уровне.\n",
        "\n",
        "5. **Преимущества аппаратной оптимизации:** Современные процессоры имеют векторные инструкции, такие как SSE (Streaming SIMD Extensions) и AVX (Advanced Vector Extensions), которые позволяют выполнять одну и ту же операцию параллельно над несколькими данными. SIMD означает \"одна инструкция, множество данных\" (Single Instruction, Multiple Data). Благодаря тому, что NumPy использует эти векторные инструкции, векторизованные операции могут выполняться еще быстрее, используя возможности аппаратного ускорения.\n",
        "\n",
        "6. **Параллельные вычисления:** Хотя NumPy сам по себе не предоставляет широких возможностей для многопоточных или распределённых вычислений, его можно использовать вместе с другими библиотеками, такими как Dask или Joblib, для параллельной обработки данных.\n",
        "\n",
        "7. **Управление памятью:** NumPy эффективно управляет памятью при выполнении операций, минимизируя необходимость выделения дополнительной памяти для промежуточных результатов. Это снижает общее потребление памяти и ускоряет выполнение операций.\n",
        "\n",
        "Благодаря этим механизмам NumPy позволяет выполнять сложные математические и статистические операции над большими массивами данных с высокой скоростью и эффективностью, значительно превосходя по производительности чистый Python."
      ],
      "metadata": {
        "id": "wnrIb8AU7Qx2"
      }
    },
    {
      "cell_type": "markdown",
      "source": [
        "## Типы данных в NumPy\n",
        "\n"
      ],
      "metadata": {
        "id": "M9YBtJPPEYkl"
      }
    },
    {
      "cell_type": "markdown",
      "source": [
        "NumPy предлагает множество типов данных для обработки чисел, времени, строк и других форматов данных. Вот некоторые из наиболее часто используемых типов данных в NumPy:\n",
        "\n",
        "- `int8`, `int16`, `int32`, `int64` — целые числа различной битности.\n",
        "- `uint8`, `uint16`, `uint32`, `uint64` — беззнаковые целые числа различной битности.\n",
        "- `float16`, `float32`, `float64`, `float128` — числа с плавающей точкой различной точности.\n",
        "- `complex64`, `complex128`, `complex256` — комплексные числа с плавающими точками различной точности для действительной и мнимой части.\n",
        "- `bool` — булев тип, значения True или False.\n",
        "- `object` — объект Python.\n",
        "- `string_` — фиксированная строка.\n",
        "- `unicode_` — фиксированная юникод-строка."
      ],
      "metadata": {
        "id": "HxheeTwpEoi2"
      }
    },
    {
      "cell_type": "markdown",
      "source": [
        "## Функции преобразования типа данных массива"
      ],
      "metadata": {
        "id": "ukXmk1UyE4Iw"
      }
    },
    {
      "cell_type": "markdown",
      "source": [
        "NumPy предлагает разнообразные функции для преобразования типов данных массивов. Эти преобразования позволяют оптимизировать использование памяти и обеспечивают совместимость типов данных при выполнении математических операций и алгоритмов обработки данных.\n",
        "\n"
      ],
      "metadata": {
        "id": "kb_b-9MmE2t4"
      }
    },
    {
      "cell_type": "code",
      "source": [
        "import numpy as np\n",
        "\n",
        "# Создаем исходный массив целых чисел\n",
        "arr_int = np.array([1, 2, 3, 4, 5])\n",
        "\n",
        "# Преобразуем в массив чисел с плавающей точкой\n",
        "arr_float = arr_int.astype(np.float64)\n",
        "\n",
        "print(\"Исходный массив:\", arr_int)\n",
        "print(\"Исходный тип данных:\", arr_int.dtype)\n",
        "print(\"Преобразованный массив:\", arr_float)\n",
        "print(\"Тип данных после преобразования:\", arr_float.dtype)"
      ],
      "metadata": {
        "id": "ofVhnWsrE9M_",
        "colab": {
          "base_uri": "https://localhost:8080/"
        },
        "outputId": "c3c228d9-5959-4430-f94c-e420e10c2568"
      },
      "execution_count": 2,
      "outputs": [
        {
          "output_type": "stream",
          "name": "stdout",
          "text": [
            "Исходный массив: [1 2 3 4 5]\n",
            "Исходный тип данных: int64\n",
            "Преобразованный массив: [1. 2. 3. 4. 5.]\n",
            "Тип данных после преобразования: float64\n"
          ]
        }
      ]
    },
    {
      "cell_type": "markdown",
      "source": [
        "#### Пример использования типа `bool` для преобразования числового массива:\n"
      ],
      "metadata": {
        "id": "K_ufQsskExGG"
      }
    },
    {
      "cell_type": "code",
      "source": [
        "# Создаем исходный массив целых чисел\n",
        "arr_int = np.array([0, 1, 2, 3, 0])\n",
        "\n",
        "# Преобразуем в булевый массив\n",
        "arr_bool = arr_int.astype(np.bool_)\n",
        "\n",
        "print(\"Преобразованный в булевый массив:\", arr_bool)\n",
        "print(\"Тип данных после преобразования:\", arr_bool.dtype)"
      ],
      "metadata": {
        "id": "s_6qbw9mFGh9",
        "colab": {
          "base_uri": "https://localhost:8080/"
        },
        "outputId": "3f55d26b-8893-44ab-93ff-b4beda8b1d81"
      },
      "execution_count": null,
      "outputs": [
        {
          "output_type": "stream",
          "name": "stdout",
          "text": [
            "Преобразованный в булевый массив: [False  True  True  True False]\n",
            "Тип данных после преобразования: bool\n"
          ]
        }
      ]
    },
    {
      "cell_type": "markdown",
      "source": [
        "## Функций NumPy для создания массивов:"
      ],
      "metadata": {
        "id": "vd9DIRSYHy6j"
      }
    },
    {
      "cell_type": "code",
      "source": [
        "import numpy as np"
      ],
      "metadata": {
        "id": "_EOtz9XT7YSy"
      },
      "execution_count": null,
      "outputs": []
    },
    {
      "cell_type": "code",
      "source": [
        "# empty(): создает массив без его инициализации.\n",
        "empty_array = np.empty((3, 2))\n",
        "print(\"empty():\\n\", empty_array)"
      ],
      "metadata": {
        "colab": {
          "base_uri": "https://localhost:8080/"
        },
        "id": "xX8NofFlXESB",
        "outputId": "6b1de29c-6d2b-40a3-f140-4e06ef4d7592"
      },
      "execution_count": null,
      "outputs": [
        {
          "output_type": "stream",
          "name": "stdout",
          "text": [
            "empty():\n",
            " [[0. 0.]\n",
            " [0. 0.]\n",
            " [0. 0.]]\n"
          ]
        }
      ]
    },
    {
      "cell_type": "code",
      "source": [
        "# eye(): создает единичную матрицу (диагональные элементы равны 1).\n",
        "eye_array = np.eye(4)\n",
        "print(\"\\neye():\\n\", eye_array)"
      ],
      "metadata": {
        "colab": {
          "base_uri": "https://localhost:8080/"
        },
        "id": "UEyMVo4QXGnf",
        "outputId": "3ed1782c-4190-41e0-85ba-311eedc24838"
      },
      "execution_count": null,
      "outputs": [
        {
          "output_type": "stream",
          "name": "stdout",
          "text": [
            "\n",
            "eye():\n",
            " [[1. 0. 0. 0.]\n",
            " [0. 1. 0. 0.]\n",
            " [0. 0. 1. 0.]\n",
            " [0. 0. 0. 1.]]\n"
          ]
        }
      ]
    },
    {
      "cell_type": "code",
      "source": [
        "# identity(): создает квадратную единичную матрицу.\n",
        "identity_array = np.identity(6)\n",
        "print(\"\\nidentity():\\n\", identity_array)"
      ],
      "metadata": {
        "colab": {
          "base_uri": "https://localhost:8080/"
        },
        "id": "S7RRwyJGXJDd",
        "outputId": "200848d0-0c10-49ff-cb8a-88a09aceb56d"
      },
      "execution_count": null,
      "outputs": [
        {
          "output_type": "stream",
          "name": "stdout",
          "text": [
            "\n",
            "identity():\n",
            " [[1. 0. 0. 0. 0. 0.]\n",
            " [0. 1. 0. 0. 0. 0.]\n",
            " [0. 0. 1. 0. 0. 0.]\n",
            " [0. 0. 0. 1. 0. 0.]\n",
            " [0. 0. 0. 0. 1. 0.]\n",
            " [0. 0. 0. 0. 0. 1.]]\n"
          ]
        }
      ]
    },
    {
      "cell_type": "code",
      "source": [
        "# ones(): создает массив, заполненный единицами.\n",
        "ones_array = np.ones((2, 3))\n",
        "print(\"\\nones():\\n\", ones_array)"
      ],
      "metadata": {
        "colab": {
          "base_uri": "https://localhost:8080/"
        },
        "id": "itJBlKVhXLEG",
        "outputId": "80dcf932-2985-4915-9d4c-72bc5deb8220"
      },
      "execution_count": null,
      "outputs": [
        {
          "output_type": "stream",
          "name": "stdout",
          "text": [
            "\n",
            "ones():\n",
            " [[1. 1. 1.]\n",
            " [1. 1. 1.]]\n"
          ]
        }
      ]
    },
    {
      "cell_type": "code",
      "source": [
        "# zeros(): создает массив, заполненный нулями.\n",
        "zeros_array = np.zeros((3, 2))\n",
        "print(\"\\nzeros():\\n\", zeros_array)"
      ],
      "metadata": {
        "colab": {
          "base_uri": "https://localhost:8080/"
        },
        "id": "MG9pZHDdXOFl",
        "outputId": "a86098bd-42ea-4d54-9969-40adcebd81a4"
      },
      "execution_count": null,
      "outputs": [
        {
          "output_type": "stream",
          "name": "stdout",
          "text": [
            "\n",
            "zeros():\n",
            " [[0. 0.]\n",
            " [0. 0.]\n",
            " [0. 0.]]\n"
          ]
        }
      ]
    },
    {
      "cell_type": "code",
      "source": [
        "# full(): создает массив, заполненный указанным значением.\n",
        "full_array = np.full((2, 2), 7)\n",
        "print(\"\\nfull():\\n\", full_array)"
      ],
      "metadata": {
        "colab": {
          "base_uri": "https://localhost:8080/"
        },
        "id": "Cbk5H2y8XQOS",
        "outputId": "c06c943c-043f-4b70-8089-2ee36586fded"
      },
      "execution_count": null,
      "outputs": [
        {
          "output_type": "stream",
          "name": "stdout",
          "text": [
            "\n",
            "full():\n",
            " [[7 7]\n",
            " [7 7]]\n"
          ]
        }
      ]
    },
    {
      "cell_type": "code",
      "source": [
        "# array(): создает массив из списка или кортежа.\n",
        "array = np.array([1, 2, 3, 4, 5])\n",
        "print(\"\\narray():\\n\", array)"
      ],
      "metadata": {
        "colab": {
          "base_uri": "https://localhost:8080/"
        },
        "id": "zd7-GNQ2XSyo",
        "outputId": "2d88f75f-94e9-4d49-edc5-c2e4a49d5575"
      },
      "execution_count": null,
      "outputs": [
        {
          "output_type": "stream",
          "name": "stdout",
          "text": [
            "\n",
            "array():\n",
            " [1 2 3 4 5]\n"
          ]
        }
      ]
    },
    {
      "cell_type": "code",
      "source": [
        "# arange(): создает последовательность чисел с заданным шагом.\n",
        "arange_array = np.arange(10, 20, 2)\n",
        "print(\"\\narange():\\n\", arange_array)"
      ],
      "metadata": {
        "colab": {
          "base_uri": "https://localhost:8080/"
        },
        "id": "i2e7yvFJXUOz",
        "outputId": "80d41059-cc2c-4958-fc78-a556143eaf7c"
      },
      "execution_count": null,
      "outputs": [
        {
          "output_type": "stream",
          "name": "stdout",
          "text": [
            "\n",
            "arange():\n",
            " [10 12 14 16 18]\n"
          ]
        }
      ]
    },
    {
      "cell_type": "code",
      "source": [
        "# linspace(): создает массив равномерно распределенных чисел в указанном диапазоне.\n",
        "linspace_array = np.linspace(0, 1, 5)\n",
        "print(\"\\nlinspace():\\n\", linspace_array)"
      ],
      "metadata": {
        "colab": {
          "base_uri": "https://localhost:8080/"
        },
        "id": "Ywq4QANeXVi5",
        "outputId": "ce6f1d41-65a5-4341-a68d-85c5c896ed5f"
      },
      "execution_count": null,
      "outputs": [
        {
          "output_type": "stream",
          "name": "stdout",
          "text": [
            "\n",
            "linspace():\n",
            " [0.   0.25 0.5  0.75 1.  ]\n"
          ]
        }
      ]
    },
    {
      "cell_type": "code",
      "source": [
        "# logspace(): создает массив чисел, равномерно распределенных на логарифмической шкале.\n",
        "logspace_array = np.logspace(1, 10, base=10, num=10)\n",
        "print(\"\\nlogspace():\\n\", logspace_array)"
      ],
      "metadata": {
        "colab": {
          "base_uri": "https://localhost:8080/"
        },
        "id": "R4t-fHyCXW2B",
        "outputId": "29efffc4-84b7-422e-ecda-8aeff5ebec4f"
      },
      "execution_count": null,
      "outputs": [
        {
          "output_type": "stream",
          "name": "stdout",
          "text": [
            "\n",
            "logspace():\n",
            " [1.e+01 1.e+02 1.e+03 1.e+04 1.e+05 1.e+06 1.e+07 1.e+08 1.e+09 1.e+10]\n"
          ]
        }
      ]
    },
    {
      "cell_type": "markdown",
      "source": [
        "## Функций NumPy для создания массивов со случайными значениями:\n",
        "\n"
      ],
      "metadata": {
        "id": "hDxWt7KHMNp0"
      }
    },
    {
      "cell_type": "markdown",
      "source": [
        "### Создание массива со случайными числами от 0 до 1"
      ],
      "metadata": {
        "id": "oj1QeNkPMjwG"
      }
    },
    {
      "cell_type": "code",
      "source": [
        "# Создание массива 3x3 со случайными числами от 0 до 1\n",
        "array_random_0_1 = np.random.rand(3, 3)\n",
        "print(\"Массив случайных чисел от 0 до 1:\\n\", array_random_0_1)"
      ],
      "metadata": {
        "colab": {
          "base_uri": "https://localhost:8080/"
        },
        "id": "5M6b7NirMlri",
        "outputId": "d29e90cc-fb2d-485c-981b-4b4f013cb4ed"
      },
      "execution_count": 3,
      "outputs": [
        {
          "output_type": "stream",
          "name": "stdout",
          "text": [
            "Массив случайных чисел от 0 до 1:\n",
            " [[0.76305013 0.11988571 0.09169605]\n",
            " [0.17602928 0.32883002 0.08408019]\n",
            " [0.05705191 0.94638044 0.07287011]]\n"
          ]
        }
      ]
    },
    {
      "cell_type": "markdown",
      "source": [
        "### Создание массива с целыми случайными числами\n"
      ],
      "metadata": {
        "id": "n82QqY3dMmiC"
      }
    },
    {
      "cell_type": "code",
      "source": [
        "# Создание массива 2x4 со случайными целыми числами от 10 до 20 (20 не включается)\n",
        "array_random_int = np.random.randint(10, 20, size=(2, 4))\n",
        "print(\"Массив случайных целых чисел от 10 до 20:\\n\", array_random_int)"
      ],
      "metadata": {
        "colab": {
          "base_uri": "https://localhost:8080/"
        },
        "id": "mzHE7ZNrMmtD",
        "outputId": "020d3e1e-cb44-488c-e220-a0db86de4105"
      },
      "execution_count": 4,
      "outputs": [
        {
          "output_type": "stream",
          "name": "stdout",
          "text": [
            "Массив случайных целых чисел от 10 до 20:\n",
            " [[15 11 19 15]\n",
            " [15 14 18 13]]\n"
          ]
        }
      ]
    },
    {
      "cell_type": "markdown",
      "source": [
        "### Создание массива с нормально распределенными случайными числами\n"
      ],
      "metadata": {
        "id": "Q8t8W-a0Mm3O"
      }
    },
    {
      "cell_type": "code",
      "source": [
        "# Создание массива 4x4 со случайными числами, следующими нормальному распределению (среднее=0, стандартное отклонение=1)\n",
        "array_random_normal = np.random.randn(4, 4)\n",
        "print(\"Массив нормально распределенных чисел:\\n\", array_random_normal)"
      ],
      "metadata": {
        "colab": {
          "base_uri": "https://localhost:8080/"
        },
        "id": "Roic46tzMnCD",
        "outputId": "308609ce-0697-4304-cdb9-d0a4beecc84c"
      },
      "execution_count": 5,
      "outputs": [
        {
          "output_type": "stream",
          "name": "stdout",
          "text": [
            "Массив нормально распределенных чисел:\n",
            " [[ 0.60649574  0.3253994  -0.03617063 -0.34257151]\n",
            " [-0.53558978  0.96237539 -0.79516078 -0.35711544]\n",
            " [ 0.26307254  0.00642265 -0.90449451 -0.79279036]\n",
            " [ 0.87408282 -0.87535772  1.99752577 -1.02843004]]\n"
          ]
        }
      ]
    },
    {
      "cell_type": "markdown",
      "source": [
        "### Повторное использование случайных последовательностей с использованием seed\n"
      ],
      "metadata": {
        "id": "IQV8nwcfMwVS"
      }
    },
    {
      "cell_type": "code",
      "source": [
        "# Установка seed для воспроизводимости результатов\n",
        "np.random.seed(42)"
      ],
      "metadata": {
        "id": "eqiEXxkhMyW2"
      },
      "execution_count": 6,
      "outputs": []
    },
    {
      "cell_type": "code",
      "source": [
        "# Повторное создание массива 3x3 со случайными числами от 0 до 1\n",
        "array_random_0_1_seed = np.random.rand(3, 3)\n",
        "print(\"Массив случайных чисел от 0 до 1 с заданным seed:\\n\", array_random_0_1_seed)"
      ],
      "metadata": {
        "colab": {
          "base_uri": "https://localhost:8080/"
        },
        "id": "shHYdxBFM3R4",
        "outputId": "e2839189-305a-4c4a-d40f-de037e90db51"
      },
      "execution_count": 7,
      "outputs": [
        {
          "output_type": "stream",
          "name": "stdout",
          "text": [
            "Массив случайных чисел от 0 до 1 с заданным seed:\n",
            " [[0.37454012 0.95071431 0.73199394]\n",
            " [0.59865848 0.15601864 0.15599452]\n",
            " [0.05808361 0.86617615 0.60111501]]\n"
          ]
        }
      ]
    },
    {
      "cell_type": "markdown",
      "source": [
        "### Создание массива с числами из нормального распределения (заданным средним и стандартным отклонением)\n"
      ],
      "metadata": {
        "id": "Xy_yQb23Myi6"
      }
    },
    {
      "cell_type": "code",
      "source": [
        "# Среднее значение (mu) и стандартное отклонение (sigma)\n",
        "mu, sigma = 0, 0.1"
      ],
      "metadata": {
        "id": "aFM3fM2FMyum"
      },
      "execution_count": 8,
      "outputs": []
    },
    {
      "cell_type": "code",
      "source": [
        "# Создание массива 2x5\n",
        "array_random_normal_mu_sigma = np.random.normal(mu, sigma, (2, 5))\n",
        "print(\"Массив случайных чисел с заданным средним и стандартным отклонением:\\n\", array_random_normal_mu_sigma)"
      ],
      "metadata": {
        "colab": {
          "base_uri": "https://localhost:8080/"
        },
        "id": "Pe6CIQtqM8Ew",
        "outputId": "6af858bb-acbd-4624-ecbd-907809a529df"
      },
      "execution_count": 9,
      "outputs": [
        {
          "output_type": "stream",
          "name": "stdout",
          "text": [
            "Массив случайных чисел с заданным средним и стандартным отклонением:\n",
            " [[-0.05808781 -0.05251698 -0.05713802 -0.09240828 -0.2612549 ]\n",
            " [ 0.09503697  0.08164451 -0.1523876  -0.04280461 -0.07424068]]\n"
          ]
        }
      ]
    },
    {
      "cell_type": "markdown",
      "source": [
        "## Функций NumPy для добавления и удаления элементов, а также для индексации и срезов:\n",
        "\n"
      ],
      "metadata": {
        "id": "qOHrIURT8Ism"
      }
    },
    {
      "cell_type": "markdown",
      "source": [
        "### Добавление и удаление элементов"
      ],
      "metadata": {
        "id": "BuQGXVv_ICmr"
      }
    },
    {
      "cell_type": "code",
      "source": [
        "import numpy as np\n",
        "\n",
        "# append(): добавляет значения к концу массива.\n",
        "array = np.array([1, 2, 3])\n",
        "append_array = np.append(array, [4, 5, 6])\n",
        "print(\"append():\\n\", append_array)"
      ],
      "metadata": {
        "colab": {
          "base_uri": "https://localhost:8080/"
        },
        "id": "UnxAkR6h8alE",
        "outputId": "48fe41a4-4046-46f4-d6c4-e2f404d645be"
      },
      "execution_count": null,
      "outputs": [
        {
          "output_type": "stream",
          "name": "stdout",
          "text": [
            "append():\n",
            " [1 2 3 4 5 6]\n"
          ]
        }
      ]
    },
    {
      "cell_type": "code",
      "source": [
        "# insert(): вставляет значения в массив по указанным индексам.\n",
        "insert_array = np.insert(array, 1, [7, 8])\n",
        "print(\"\\ninsert() в позицию 1 значения [7, 8]:\\n\", insert_array)"
      ],
      "metadata": {
        "colab": {
          "base_uri": "https://localhost:8080/"
        },
        "id": "GmW5VkBXcMbz",
        "outputId": "e84b5afe-767a-4436-f759-7693f32b7d66"
      },
      "execution_count": null,
      "outputs": [
        {
          "output_type": "stream",
          "name": "stdout",
          "text": [
            "\n",
            "insert() в позицию 1 значения [7, 8]:\n",
            " [1 7 8 2 3]\n"
          ]
        }
      ]
    },
    {
      "cell_type": "code",
      "source": [
        "# delete(): удаляет указанные элементы из массива.\n",
        "delete_array = np.delete(array, 1)\n",
        "print(\"\\ndelete() элемент в позиции 1:\\n\", delete_array)"
      ],
      "metadata": {
        "colab": {
          "base_uri": "https://localhost:8080/"
        },
        "id": "AyGduvr4cT_a",
        "outputId": "26d17151-6ad5-458a-fd60-ed45f912920a"
      },
      "execution_count": null,
      "outputs": [
        {
          "output_type": "stream",
          "name": "stdout",
          "text": [
            "\n",
            "delete() элемент в позиции 1:\n",
            " [1 3]\n"
          ]
        }
      ]
    },
    {
      "cell_type": "code",
      "source": [
        "# take(): возвращает элементы из массива по указанным индексам.\n",
        "array = np.array([4, 3, 5, 7, 6, 8])\n",
        "take_array = np.take(array, [0, 2, 3])\n",
        "print(\"take() элементы с индексами [0, 2, 3]:\\n\", take_array)"
      ],
      "metadata": {
        "colab": {
          "base_uri": "https://localhost:8080/"
        },
        "id": "p8SpPzJW8I9M",
        "outputId": "d3f943c0-7161-4a40-d640-0fe0c657b4bd"
      },
      "execution_count": null,
      "outputs": [
        {
          "output_type": "stream",
          "name": "stdout",
          "text": [
            "take() элементы с индексами [0, 2, 3]:\n",
            " [4 5 7]\n"
          ]
        }
      ]
    },
    {
      "cell_type": "code",
      "source": [
        "# put(): заменяет элементы в массиве на указанные значения по данным индексам.\n",
        "put_array = np.array([1, 2, 3, 4, 5])\n",
        "np.put(put_array, [0, 3], [-1, -4])\n",
        "print(\"\\nput() замена элементов с индексами [0, 3] на [-1, -4]:\\n\", put_array)"
      ],
      "metadata": {
        "colab": {
          "base_uri": "https://localhost:8080/"
        },
        "id": "wEz_iqXXbUUe",
        "outputId": "c1850f6a-c8f2-4535-e91d-171ab0495063"
      },
      "execution_count": null,
      "outputs": [
        {
          "output_type": "stream",
          "name": "stdout",
          "text": [
            "\n",
            "put() замена элементов с индексами [0, 3] на [-1, -4]:\n",
            " [-1  2  3 -4  5]\n"
          ]
        }
      ]
    },
    {
      "cell_type": "code",
      "source": [
        "# select(): возвращает массив из элементов, выбранных из списков в зависимости от условий.\n",
        "# Для select() сначала определим условия и выборы.\n",
        "array = np.array([4, 3, 5, 7, 6, 8])\n",
        "conditions = [array > 5, array % 2 == 0]\n",
        "choices = [array - 1, array + 1]\n",
        "select_array = np.select(conditions, choices, default=array)\n",
        "print(\"\\nselect() с условиями >5 и четностью, альтернативы -1 и +1:\\n\", select_array)"
      ],
      "metadata": {
        "colab": {
          "base_uri": "https://localhost:8080/"
        },
        "id": "fuiRgPQLbWAu",
        "outputId": "2e0c98d7-89cd-4a8a-e897-39a7c4665039"
      },
      "execution_count": null,
      "outputs": [
        {
          "output_type": "stream",
          "name": "stdout",
          "text": [
            "\n",
            "select() с условиями >5 и четностью, альтернативы -1 и +1:\n",
            " [5 3 5 6 5 7]\n"
          ]
        }
      ]
    },
    {
      "cell_type": "markdown",
      "source": [
        "## Базовые математические операции с массивами в NumPy:"
      ],
      "metadata": {
        "id": "vvAYs6ny_xsj"
      }
    },
    {
      "cell_type": "code",
      "source": [
        "import numpy as np\n",
        "\n",
        "# Создаем два массива\n",
        "a = np.array([1, 2, 3])\n",
        "b = np.array([4, 5, 6])"
      ],
      "metadata": {
        "id": "vuIPENp5Ac4Q"
      },
      "execution_count": null,
      "outputs": []
    },
    {
      "cell_type": "markdown",
      "source": [
        "### Сложение массивов\n"
      ],
      "metadata": {
        "id": "XS-GJBwyASRk"
      }
    },
    {
      "cell_type": "code",
      "source": [
        "# Складываем их\n",
        "c = a + b\n",
        "print(\"Сумма:\", c)"
      ],
      "metadata": {
        "id": "XI0cK1GgASwn",
        "colab": {
          "base_uri": "https://localhost:8080/"
        },
        "outputId": "76210062-d4ba-433a-98a7-722ed0d7e85b"
      },
      "execution_count": null,
      "outputs": [
        {
          "output_type": "stream",
          "name": "stdout",
          "text": [
            "Сумма: [5 7 9]\n"
          ]
        }
      ]
    },
    {
      "cell_type": "markdown",
      "source": [
        "### Вычитание массивов"
      ],
      "metadata": {
        "id": "xNwJBm1rAWSf"
      }
    },
    {
      "cell_type": "code",
      "source": [
        "# Вычитаем один массив из другого\n",
        "d = b - a\n",
        "print(\"Разность:\", d)"
      ],
      "metadata": {
        "id": "vI_lARsyAWgs",
        "colab": {
          "base_uri": "https://localhost:8080/"
        },
        "outputId": "c36a2f40-7fdf-48a7-8dfb-903ea837aa2b"
      },
      "execution_count": null,
      "outputs": [
        {
          "output_type": "stream",
          "name": "stdout",
          "text": [
            "Разность: [3 3 3]\n"
          ]
        }
      ]
    },
    {
      "cell_type": "markdown",
      "source": [
        "### Умножение массивов (поэлементное)"
      ],
      "metadata": {
        "id": "nglX6i2xAfkJ"
      }
    },
    {
      "cell_type": "code",
      "source": [
        "# Поэлементное умножение\n",
        "e = a * b\n",
        "print(\"Поэлементное умножение:\", e)"
      ],
      "metadata": {
        "id": "SgHojoD0AfuA",
        "colab": {
          "base_uri": "https://localhost:8080/"
        },
        "outputId": "6cde906b-b32f-40c5-ba48-6f3d9b17629b"
      },
      "execution_count": null,
      "outputs": [
        {
          "output_type": "stream",
          "name": "stdout",
          "text": [
            "Поэлементное умножение: [ 4 10 18]\n"
          ]
        }
      ]
    },
    {
      "cell_type": "markdown",
      "source": [
        "### Деление массивов"
      ],
      "metadata": {
        "id": "Ei76XzutAlvP"
      }
    },
    {
      "cell_type": "code",
      "source": [
        "# Поэлементное деление\n",
        "f = b / a\n",
        "print(\"Поэлементное деление:\", f)"
      ],
      "metadata": {
        "id": "tSfpOMuNAl_W",
        "colab": {
          "base_uri": "https://localhost:8080/"
        },
        "outputId": "4ba1bef1-e2d1-4880-bed1-a788da166141"
      },
      "execution_count": null,
      "outputs": [
        {
          "output_type": "stream",
          "name": "stdout",
          "text": [
            "Поэлементное деление: [4.  2.5 2. ]\n"
          ]
        }
      ]
    },
    {
      "cell_type": "markdown",
      "source": [
        "### Возведение в степень"
      ],
      "metadata": {
        "id": "HVBxueKOAsaD"
      }
    },
    {
      "cell_type": "code",
      "source": [
        "# Возведение в степень (поэлементно)\n",
        "g = a ** 2\n",
        "print(\"Возведение в квадрат:\", g)"
      ],
      "metadata": {
        "id": "9_k1aBn9AsiT",
        "colab": {
          "base_uri": "https://localhost:8080/"
        },
        "outputId": "7d3bbb90-e7cf-452d-f90e-eec8106ca2ca"
      },
      "execution_count": null,
      "outputs": [
        {
          "output_type": "stream",
          "name": "stdout",
          "text": [
            "Возведение в квадрат: [1 4 9]\n"
          ]
        }
      ]
    },
    {
      "cell_type": "markdown",
      "source": [
        "### Матричное умножение"
      ],
      "metadata": {
        "id": "xoD9t7_5A0Kt"
      }
    },
    {
      "cell_type": "code",
      "source": [
        "# Матричное умножение\n",
        "h = np.array([[1, 2], [3, 4]])\n",
        "i = np.array([[5, 6], [7, 8]])\n",
        "\n",
        "# Используем функцию np.dot() для матричного умножения\n",
        "j = np.dot(h, i)\n",
        "print(\"Матричное умножение:\\n\", j)"
      ],
      "metadata": {
        "id": "l6Hf7q2LA0Vx",
        "colab": {
          "base_uri": "https://localhost:8080/"
        },
        "outputId": "33ae4158-fcd5-464c-fa1d-225b2d83a9e9"
      },
      "execution_count": null,
      "outputs": [
        {
          "output_type": "stream",
          "name": "stdout",
          "text": [
            "Матричное умножение:\n",
            " [[19 22]\n",
            " [43 50]]\n"
          ]
        }
      ]
    },
    {
      "cell_type": "code",
      "source": [
        "# Или используем оператор @ для матричного умножения в Python 3\n",
        "k = h @ i\n",
        "print(\"Матричное умножение (с оператором @):\\n\", k)"
      ],
      "metadata": {
        "id": "UTU1Y-EhA5wt",
        "colab": {
          "base_uri": "https://localhost:8080/"
        },
        "outputId": "48504de3-e0cf-4eb0-d82b-b33451d5a603"
      },
      "execution_count": null,
      "outputs": [
        {
          "output_type": "stream",
          "name": "stdout",
          "text": [
            "Матричное умножение (с оператором @):\n",
            " [[19 22]\n",
            " [43 50]]\n"
          ]
        }
      ]
    },
    {
      "cell_type": "markdown",
      "source": [
        "### Тригонометрические функции"
      ],
      "metadata": {
        "id": "ThljnYtbA82M"
      }
    },
    {
      "cell_type": "code",
      "source": [
        "# Создаем массив\n",
        "l = np.array([0, np.pi/2, np.pi])\n",
        "\n",
        "# Применяем синус к каждому элементу\n",
        "m = np.sin(l)\n",
        "print(\"Синусы элементов:\", m)\n",
        "\n",
        "# Применяем косинус к каждому элементу\n",
        "n = np.cos(l)\n",
        "print(\"Косинусы элементов:\", n)"
      ],
      "metadata": {
        "id": "G0UJ90HHA9BP",
        "colab": {
          "base_uri": "https://localhost:8080/"
        },
        "outputId": "c499ec3e-844e-42fd-d2e0-d999ac02922d"
      },
      "execution_count": null,
      "outputs": [
        {
          "output_type": "stream",
          "name": "stdout",
          "text": [
            "Синусы элементов: [0.0000000e+00 1.0000000e+00 1.2246468e-16]\n",
            "Косинусы элементов: [ 1.000000e+00  6.123234e-17 -1.000000e+00]\n"
          ]
        }
      ]
    },
    {
      "cell_type": "markdown",
      "source": [
        "### Логарифмы"
      ],
      "metadata": {
        "id": "x2Eyc7qJBCCH"
      }
    },
    {
      "cell_type": "code",
      "source": [
        "# Создаем массив\n",
        "o = np.array([1, np.e, np.e**2])\n",
        "\n",
        "# Натуральный логарифм\n",
        "p = np.log(o)\n",
        "print(\"Натуральные логарифмы:\", p)\n",
        "\n",
        "# Логарифм по основанию 10\n",
        "q = np.log10(o)\n",
        "print(\"Логарифмы по основанию 10:\", q)"
      ],
      "metadata": {
        "id": "-fvnEGDc_x6w",
        "colab": {
          "base_uri": "https://localhost:8080/"
        },
        "outputId": "2f401d34-e14b-4b74-e5ee-f6505c01c5a1"
      },
      "execution_count": null,
      "outputs": [
        {
          "output_type": "stream",
          "name": "stdout",
          "text": [
            "Натуральные логарифмы: [0. 1. 2.]\n",
            "Логарифмы по основанию 10: [0.         0.43429448 0.86858896]\n"
          ]
        }
      ]
    },
    {
      "cell_type": "markdown",
      "source": [
        "## Функций для получения информации о массивах NumPy\n",
        "\n"
      ],
      "metadata": {
        "id": "PSP9y3QIDuv6"
      }
    },
    {
      "cell_type": "markdown",
      "source": [
        "#### 1. Создание массива для демонстрации"
      ],
      "metadata": {
        "id": "9P-0qc40Dvuz"
      }
    },
    {
      "cell_type": "code",
      "source": [
        "import numpy as np\n",
        "\n",
        "# Создаем массив NumPy\n",
        "arr = np.array([[1, 2, 3], [4, 5, 6]])\n",
        "\n",
        "print(\"Массив:\")\n",
        "print(arr)"
      ],
      "metadata": {
        "id": "b-8ioDdKDyv-",
        "colab": {
          "base_uri": "https://localhost:8080/"
        },
        "outputId": "ee2dae26-2b40-4315-e14e-3b3623d43f74"
      },
      "execution_count": null,
      "outputs": [
        {
          "output_type": "stream",
          "name": "stdout",
          "text": [
            "Массив:\n",
            "[[1 2 3]\n",
            " [4 5 6]]\n"
          ]
        }
      ]
    },
    {
      "cell_type": "markdown",
      "source": [
        "#### 2. Функция `shape`"
      ],
      "metadata": {
        "id": "qXV706rqD0wz"
      }
    },
    {
      "cell_type": "code",
      "source": [
        "# Получаем размерность (форму) массива\n",
        "print(\"Форма массива:\", arr.shape)  # Выводит кортеж, показывающий размерность массива"
      ],
      "metadata": {
        "id": "TrsqC5jZD3jM",
        "colab": {
          "base_uri": "https://localhost:8080/"
        },
        "outputId": "ed3bcb8d-ea6b-4669-d758-7f81e0236c1b"
      },
      "execution_count": null,
      "outputs": [
        {
          "output_type": "stream",
          "name": "stdout",
          "text": [
            "Форма массива: (2, 3)\n"
          ]
        }
      ]
    },
    {
      "cell_type": "markdown",
      "source": [
        "#### 3. Функция `size`"
      ],
      "metadata": {
        "id": "nE3dU19XD5Y4"
      }
    },
    {
      "cell_type": "code",
      "source": [
        "# Получаем общее количество элементов в массиве\n",
        "print(\"Количество элементов:\", arr.size)"
      ],
      "metadata": {
        "id": "mhB1o6loD5-u",
        "colab": {
          "base_uri": "https://localhost:8080/"
        },
        "outputId": "35d22089-9083-4aa5-cd18-831fd03c7a65"
      },
      "execution_count": null,
      "outputs": [
        {
          "output_type": "stream",
          "name": "stdout",
          "text": [
            "Количество элементов: 6\n"
          ]
        }
      ]
    },
    {
      "cell_type": "markdown",
      "source": [
        "#### 4. Функция `dtype`"
      ],
      "metadata": {
        "id": "4Lx73CAAD86U"
      }
    },
    {
      "cell_type": "code",
      "source": [
        "# Получаем тип данных элементов массива\n",
        "print(\"Тип данных элементов массива:\", arr.dtype)"
      ],
      "metadata": {
        "id": "GgyNN8axD9Hp",
        "colab": {
          "base_uri": "https://localhost:8080/"
        },
        "outputId": "d1a84d3d-1263-4ad8-9bb5-b555bb93acb8"
      },
      "execution_count": null,
      "outputs": [
        {
          "output_type": "stream",
          "name": "stdout",
          "text": [
            "Тип данных элементов массива: int64\n"
          ]
        }
      ]
    },
    {
      "cell_type": "markdown",
      "source": [
        "#### 5. Функция `ndim`"
      ],
      "metadata": {
        "id": "m6KGjiRXD9Yt"
      }
    },
    {
      "cell_type": "code",
      "source": [
        "# Получаем количество измерений (осей) массива\n",
        "print(\"Количество измерений:\", arr.ndim)"
      ],
      "metadata": {
        "id": "7rgoYlCGD9kn",
        "colab": {
          "base_uri": "https://localhost:8080/"
        },
        "outputId": "801067ed-105a-47fd-f99b-bf81b2b299de"
      },
      "execution_count": null,
      "outputs": [
        {
          "output_type": "stream",
          "name": "stdout",
          "text": [
            "Количество измерений: 2\n"
          ]
        }
      ]
    },
    {
      "cell_type": "markdown",
      "source": [
        "#### 6. Функция `nbytes`"
      ],
      "metadata": {
        "id": "NpjgEUvDEHou"
      }
    },
    {
      "cell_type": "code",
      "source": [
        "# Получаем общее количество байт, занимаемых элементами массива\n",
        "print(\"Общее количество байт:\", arr.nbytes)"
      ],
      "metadata": {
        "id": "ztZ_lzcjEH15",
        "colab": {
          "base_uri": "https://localhost:8080/"
        },
        "outputId": "482097a6-fe9f-4eb8-9308-5d392c04c8df"
      },
      "execution_count": null,
      "outputs": [
        {
          "output_type": "stream",
          "name": "stdout",
          "text": [
            "Общее количество байт: 48\n"
          ]
        }
      ]
    },
    {
      "cell_type": "markdown",
      "source": [
        "#### 7. Функция `itemsize`"
      ],
      "metadata": {
        "id": "jeEGUykCEICI"
      }
    },
    {
      "cell_type": "code",
      "source": [
        "# Получаем размер одного элемента массива в байтах\n",
        "print(\"Размер одного элемента в байтах:\", arr.itemsize)"
      ],
      "metadata": {
        "id": "vPjgqu8WEITZ",
        "colab": {
          "base_uri": "https://localhost:8080/"
        },
        "outputId": "1d6a2b14-0e42-41a2-de11-ee3d2bd8988e"
      },
      "execution_count": null,
      "outputs": [
        {
          "output_type": "stream",
          "name": "stdout",
          "text": [
            "Размер одного элемента в байтах: 8\n"
          ]
        }
      ]
    },
    {
      "cell_type": "markdown",
      "source": [
        "## Функции ввода-вывода в NumPy для сохранения и загрузки данных:\n"
      ],
      "metadata": {
        "id": "ltmUsiBoIqLd"
      }
    },
    {
      "cell_type": "markdown",
      "source": [
        "\n",
        "### Использование `save()` и `load()`"
      ],
      "metadata": {
        "id": "tJ3wGo59-SG_"
      }
    },
    {
      "cell_type": "markdown",
      "source": [
        "`np.save()` позволяет сохранить массив в двоичный файл в формате `.npy`, а `np.load()` загружает этот массив обратно.\n"
      ],
      "metadata": {
        "id": "3sqPuEG1-Weq"
      }
    },
    {
      "cell_type": "code",
      "source": [
        "import numpy as np\n",
        "\n",
        "# Создадим массив для сохранения\n",
        "array_to_save = np.array([1, 2, 3, 4, 5])\n",
        "\n",
        "# Сохраняем массив\n",
        "np.save('saved_array.npy', array_to_save)\n",
        "\n",
        "# Загружаем массив\n",
        "loaded_array = np.load('saved_array.npy')\n",
        "print(loaded_array)"
      ],
      "metadata": {
        "id": "2xvQreKR-aA-",
        "colab": {
          "base_uri": "https://localhost:8080/"
        },
        "outputId": "97c0ce18-3145-4b24-b88a-310c7fa09992"
      },
      "execution_count": null,
      "outputs": [
        {
          "output_type": "stream",
          "name": "stdout",
          "text": [
            "[1 2 3 4 5]\n"
          ]
        }
      ]
    },
    {
      "cell_type": "markdown",
      "source": [
        "### Использование `savetxt()` и `loadtxt()`\n",
        "\n",
        "`np.savetxt()` сохраняет массив в текстовый файл, а `np.loadtxt()` загружает его."
      ],
      "metadata": {
        "id": "MnZYor40-b4-"
      }
    },
    {
      "cell_type": "code",
      "source": [
        "# Создадим еще один массив для сохранения\n",
        "array_to_save_txt = np.array([[1, 2, 3], [4, 5, 6]])\n",
        "\n",
        "# Сохраняем массив в текстовый файл\n",
        "np.savetxt('saved_array.txt', array_to_save_txt, fmt='%d')\n",
        "\n",
        "# Загружаем массив из текстового файла\n",
        "loaded_array_txt = np.loadtxt('saved_array.txt', dtype=int)\n",
        "print(loaded_array_txt)"
      ],
      "metadata": {
        "id": "BWWX-dSK-eUx",
        "colab": {
          "base_uri": "https://localhost:8080/"
        },
        "outputId": "91e4e70b-1198-4598-e457-3da1c64d19bd"
      },
      "execution_count": null,
      "outputs": [
        {
          "output_type": "stream",
          "name": "stdout",
          "text": [
            "[[1 2 3]\n",
            " [4 5 6]]\n"
          ]
        }
      ]
    },
    {
      "cell_type": "markdown",
      "source": [
        "### Использование `savez()`\n",
        "\n",
        "`np.savez()` позволяет сохранить несколько массивов в один файл в сжатом формате `.npz`. При сохранении можно указать ключи, по которым потом можно будет извлечь эти массивы.\n"
      ],
      "metadata": {
        "id": "JOCsZYGR-mR1"
      }
    },
    {
      "cell_type": "code",
      "source": [
        "# Создадим два массива для сохранения\n",
        "array1 = np.array([10, 20, 30])\n",
        "array2 = np.array([40, 50, 60])\n",
        "\n",
        "# Сохраняем оба массива в один файл\n",
        "np.savez('saved_arrays.npz', array1=array1, array2=array2)\n",
        "\n",
        "# Загружаем данные\n",
        "loaded_data = np.load('saved_arrays.npz')\n",
        "\n",
        "# Извлекаем массивы\n",
        "loaded_array1 = loaded_data['array1']\n",
        "loaded_array2 = loaded_data['array2']\n",
        "print(\"Array 1:\", loaded_array1)\n",
        "print(\"Array 2:\", loaded_array2)"
      ],
      "metadata": {
        "id": "0LGPkA_I-tH8",
        "colab": {
          "base_uri": "https://localhost:8080/"
        },
        "outputId": "0f3b5ac1-771c-4570-d35b-fbacb5a9b1c6"
      },
      "execution_count": null,
      "outputs": [
        {
          "output_type": "stream",
          "name": "stdout",
          "text": [
            "Array 1: [10 20 30]\n",
            "Array 2: [40 50 60]\n"
          ]
        }
      ]
    },
    {
      "cell_type": "markdown",
      "source": [
        "## Функции NumPy для соединения и разделения массивов:\n"
      ],
      "metadata": {
        "id": "YqYP8TK570Kb"
      }
    },
    {
      "cell_type": "code",
      "source": [
        "import numpy as np\n",
        "\n",
        "# Создадим несколько массивов для демонстрации\n",
        "array1 = np.array([[1, 2], [3, 4]])\n",
        "array2 = np.array([[5, 6], [7, 8]])\n",
        "print(array1)\n",
        "print(array2)"
      ],
      "metadata": {
        "colab": {
          "base_uri": "https://localhost:8080/"
        },
        "id": "_IAjCS1O70t6",
        "outputId": "0860ae56-370e-4cd0-902a-5a65cc2daaee"
      },
      "execution_count": null,
      "outputs": [
        {
          "output_type": "stream",
          "name": "stdout",
          "text": [
            "[[1 2]\n",
            " [3 4]]\n",
            "[[5 6]\n",
            " [7 8]]\n"
          ]
        }
      ]
    },
    {
      "cell_type": "code",
      "source": [
        "# concatenate(): соединяет массивы вдоль существующей оси.\n",
        "concatenated_array = np.concatenate((array1, array2), axis=0)\n",
        "print(\"concatenate() по оси 0:\\n\", concatenated_array)"
      ],
      "metadata": {
        "colab": {
          "base_uri": "https://localhost:8080/"
        },
        "id": "RG6CHJ2aYPD7",
        "outputId": "ae1a1406-b80f-42d3-87cc-b6c107103466"
      },
      "execution_count": null,
      "outputs": [
        {
          "output_type": "stream",
          "name": "stdout",
          "text": [
            "concatenate() по оси 0:\n",
            " [[1 2]\n",
            " [3 4]\n",
            " [5 6]\n",
            " [7 8]]\n"
          ]
        }
      ]
    },
    {
      "cell_type": "code",
      "source": [
        "# vstack(): соединяет массивы по вертикали.\n",
        "vstack_array = np.vstack((array1, array2))\n",
        "print(\"\\nvstack():\\n\", vstack_array)"
      ],
      "metadata": {
        "colab": {
          "base_uri": "https://localhost:8080/"
        },
        "id": "gZcRtYw3YQ1u",
        "outputId": "455e19fb-3de1-48cb-a377-350b58059f18"
      },
      "execution_count": null,
      "outputs": [
        {
          "output_type": "stream",
          "name": "stdout",
          "text": [
            "\n",
            "vstack():\n",
            " [[1 2]\n",
            " [3 4]\n",
            " [5 6]\n",
            " [7 8]]\n"
          ]
        }
      ]
    },
    {
      "cell_type": "code",
      "source": [
        "# hstack(): соединяет массивы по горизонтали.\n",
        "hstack_array = np.hstack((array1, array2))\n",
        "print(\"\\nhstack():\\n\", hstack_array)"
      ],
      "metadata": {
        "colab": {
          "base_uri": "https://localhost:8080/"
        },
        "id": "UM0PiCd3YSvE",
        "outputId": "d866d4b2-8f9a-48d6-fe3c-e2a77877f427"
      },
      "execution_count": null,
      "outputs": [
        {
          "output_type": "stream",
          "name": "stdout",
          "text": [
            "\n",
            "hstack():\n",
            " [[1 2 5 6]\n",
            " [3 4 7 8]]\n"
          ]
        }
      ]
    },
    {
      "cell_type": "code",
      "source": [
        "# split(): разделяет массив на несколько подмассивов.\n",
        "split_array = np.split(array1, 2)\n",
        "print(\"\\nsplit() на 2 части:\\n\", split_array)"
      ],
      "metadata": {
        "colab": {
          "base_uri": "https://localhost:8080/"
        },
        "id": "CTv3P63LYUeh",
        "outputId": "e53a30ad-f389-486b-c5d7-ed11738fe431"
      },
      "execution_count": null,
      "outputs": [
        {
          "output_type": "stream",
          "name": "stdout",
          "text": [
            "\n",
            "split() на 2 части:\n",
            " [array([[1, 2]]), array([[3, 4]])]\n"
          ]
        }
      ]
    },
    {
      "cell_type": "code",
      "source": [
        "# hsplit(): разделяет массив по горизонтали на несколько подмассивов.\n",
        "hsplit_array = np.hsplit(array1, 2)\n",
        "print(\"\\nhsplit() на 2 части:\\n\", hsplit_array)"
      ],
      "metadata": {
        "colab": {
          "base_uri": "https://localhost:8080/"
        },
        "id": "qAbno8r0YV9D",
        "outputId": "793bfac8-5b07-4888-eef6-202d8ebb5012"
      },
      "execution_count": null,
      "outputs": [
        {
          "output_type": "stream",
          "name": "stdout",
          "text": [
            "\n",
            "hsplit() на 2 части:\n",
            " [array([[1],\n",
            "       [3]]), array([[2],\n",
            "       [4]])]\n"
          ]
        }
      ]
    },
    {
      "cell_type": "code",
      "source": [
        "# vsplit(): разделяет массив по вертикали на несколько подмассивов.\n",
        "vsplit_array = np.vsplit(array1, 2)\n",
        "print(\"\\nvsplit() на 2 части:\\n\", vsplit_array)"
      ],
      "metadata": {
        "colab": {
          "base_uri": "https://localhost:8080/"
        },
        "id": "d-pPiJdJYXTy",
        "outputId": "c0ee5b0e-c814-44c8-da64-61ea7688bd6f"
      },
      "execution_count": null,
      "outputs": [
        {
          "output_type": "stream",
          "name": "stdout",
          "text": [
            "\n",
            "vsplit() на 2 части:\n",
            " [array([[1, 2]]), array([[3, 4]])]\n"
          ]
        }
      ]
    },
    {
      "cell_type": "code",
      "source": [
        "# dstack(): соединяет массивы по глубине (вдоль третьей оси).\n",
        "dstack_array = np.dstack((array1, array2))\n",
        "print(\"\\ndstack():\\n\", dstack_array)"
      ],
      "metadata": {
        "colab": {
          "base_uri": "https://localhost:8080/"
        },
        "id": "VGVvR_ZOYYlD",
        "outputId": "c057b484-1bcd-4bcb-9b1c-78eb47729a2e"
      },
      "execution_count": null,
      "outputs": [
        {
          "output_type": "stream",
          "name": "stdout",
          "text": [
            "\n",
            "dstack():\n",
            " [[[1 5]\n",
            "  [2 6]]\n",
            "\n",
            " [[3 7]\n",
            "  [4 8]]]\n"
          ]
        }
      ]
    },
    {
      "cell_type": "code",
      "source": [
        "# column_stack(): соединяет одномерные массивы в качестве колонок двумерного массива.\n",
        "array3 = np.array([1, 2, 3])\n",
        "array4 = np.array([4, 5, 6])\n",
        "column_stack_array = np.column_stack((array3, array4))\n",
        "print(\"\\ncolumn_stack():\\n\", column_stack_array)"
      ],
      "metadata": {
        "colab": {
          "base_uri": "https://localhost:8080/"
        },
        "id": "Yutf_Hc0YZ7_",
        "outputId": "054c7062-999e-49a7-8599-a97097ae48ad"
      },
      "execution_count": null,
      "outputs": [
        {
          "output_type": "stream",
          "name": "stdout",
          "text": [
            "\n",
            "column_stack():\n",
            " [[1 4]\n",
            " [2 5]\n",
            " [3 6]]\n"
          ]
        }
      ]
    },
    {
      "cell_type": "markdown",
      "source": [
        "## Функций NumPy для изменения формы и размера массивов:"
      ],
      "metadata": {
        "id": "IMlpr1Ma7jPN"
      }
    },
    {
      "cell_type": "code",
      "source": [
        "import numpy as np\n",
        "\n",
        "# Создадим исходный массив для примеров\n",
        "array = np.arange(1, 13)  # Массив из 12 элементов\n",
        "print(\"Исходный массив:\\n\", array)\n",
        "\n",
        "# ravel(): возвращает сжатый до одной оси массив без копирования данных.\n",
        "ravel_array = resize_array.ravel()\n",
        "print(\"\\nravel():\\n\", ravel_array)\n",
        "\n",
        "# flatten(): возвращает копию массива, сжатого до одной оси.\n",
        "flatten_array = ravel_array.flatten()\n",
        "print(\"\\nflatten():\\n\", flatten_array)\n",
        "\n",
        "# squeeze(): удаляет одномерные оси из массива.\n",
        "squeeze_array = np.array([[[1], [2], [3]]])\n",
        "squeezed_array = np.squeeze(squeeze_array)\n",
        "print(\"\\nsqueeze():\\n\", squeezed_array)\n",
        "\n",
        "# swapaxes(): меняет две оси массива местами.\n",
        "swapaxes_array = squeeze_array.swapaxes(0, 1)\n",
        "print(\"\\nswapaxes():\\n\", swapaxes_array)"
      ],
      "metadata": {
        "colab": {
          "base_uri": "https://localhost:8080/"
        },
        "id": "dnyk-0Mk7jii",
        "outputId": "328f11d6-43fa-4e32-a539-bf0037ecf6f0"
      },
      "execution_count": null,
      "outputs": [
        {
          "output_type": "stream",
          "name": "stdout",
          "text": [
            "Исходный массив:\n",
            " [ 1  2  3  4  5  6  7  8  9 10 11 12]\n",
            "\n",
            "ravel():\n",
            " [ 1  2  3  4  5  6  7  8  9 10 11 12  1  2  3  4]\n",
            "\n",
            "flatten():\n",
            " [ 1  2  3  4  5  6  7  8  9 10 11 12  1  2  3  4]\n",
            "\n",
            "squeeze():\n",
            " [1 2 3]\n",
            "\n",
            "swapaxes():\n",
            " [[[1]]\n",
            "\n",
            " [[2]]\n",
            "\n",
            " [[3]]]\n"
          ]
        }
      ]
    },
    {
      "cell_type": "markdown",
      "source": [
        "### Изменение порядка осей с помощью `np.transpose`\n",
        "\n",
        "Функция `np.transpose` позволяет изменить порядок осей массива. Если у вас есть двумерный массив (матрица), транспонирование поменяет его строки и столбцы местами."
      ],
      "metadata": {
        "id": "g2GejiAcGVFJ"
      }
    },
    {
      "cell_type": "code",
      "source": [
        "import numpy as np\n",
        "\n",
        "# Создаем двумерный массив (матрицу)\n",
        "arr = np.array([[1, 2], [3, 4], [5, 6]])\n",
        "print(\"Исходный массив:\\n\", arr)\n",
        "\n",
        "# Меняем местами оси\n",
        "transposed = np.transpose(arr)\n",
        "print(\"Транспонированный массив:\\n\", transposed)"
      ],
      "metadata": {
        "id": "pL7VY1AuGSIn",
        "colab": {
          "base_uri": "https://localhost:8080/"
        },
        "outputId": "d1982481-a811-4156-f6b3-dad91956689a"
      },
      "execution_count": null,
      "outputs": [
        {
          "output_type": "stream",
          "name": "stdout",
          "text": [
            "Исходный массив:\n",
            " [[1 2]\n",
            " [3 4]\n",
            " [5 6]]\n",
            "Транспонированный массив:\n",
            " [[1 3 5]\n",
            " [2 4 6]]\n"
          ]
        }
      ]
    },
    {
      "cell_type": "markdown",
      "source": [
        "### Добавление новых осей с помощью `np.newaxis`\n",
        "\n",
        "Использование `np.newaxis` позволяет добавить новую ось в массив, что полезно для увеличения его размерностей. Это может быть необходимо, например, при подготовке данных для машинного обучения."
      ],
      "metadata": {
        "id": "HdFgKKQhGOZE"
      }
    },
    {
      "cell_type": "code",
      "source": [
        "# Создаем одномерный массив\n",
        "arr = np.array([1, 2, 3])\n",
        "print(\"Исходный массив:\", arr)\n",
        "print(\"Форма исходного массива:\", arr.shape)\n",
        "\n",
        "# Добавляем новую ось, превращая массив в двумерный\n",
        "new_axis_arr = arr[:, np.newaxis]\n",
        "print(\"Массив с новой осью:\\n\", new_axis_arr)\n",
        "print(\"Форма массива с новой осью:\", new_axis_arr.shape)"
      ],
      "metadata": {
        "id": "lSs-PAmfGK1r",
        "colab": {
          "base_uri": "https://localhost:8080/"
        },
        "outputId": "29c01cc1-32dc-4db4-c3f2-33eb9e8c5bec"
      },
      "execution_count": null,
      "outputs": [
        {
          "output_type": "stream",
          "name": "stdout",
          "text": [
            "Исходный массив: [1 2 3]\n",
            "Форма исходного массива: (3,)\n",
            "Массив с новой осью:\n",
            " [[1]\n",
            " [2]\n",
            " [3]]\n",
            "Форма массива с новой осью: (3, 1)\n"
          ]
        }
      ]
    },
    {
      "cell_type": "markdown",
      "source": [
        "### Изменение формы массива с помощью `np.reshape`\n",
        "\n",
        "Функция `np.reshape` позволяет изменить форму массива без изменения его данных. Это означает, что количество элементов в исходном и преобразованном массивах должно совпадать."
      ],
      "metadata": {
        "id": "WNv8CLlZGHg6"
      }
    },
    {
      "cell_type": "code",
      "source": [
        "# Создаем одномерный массив из 6 элементов\n",
        "arr = np.array([1, 2, 3, 4, 5, 6])\n",
        "print(\"Исходный массив:\", arr)\n",
        "\n",
        "# Изменяем форму массива на 2x3\n",
        "reshaped_arr = np.reshape(arr, (2, 3))\n",
        "print(\"Массив после преобразования:\\n\", reshaped_arr)"
      ],
      "metadata": {
        "id": "fccjidb-F_1S",
        "colab": {
          "base_uri": "https://localhost:8080/"
        },
        "outputId": "b776a455-ee73-4481-a8bf-e9e6b307c0c3"
      },
      "execution_count": null,
      "outputs": [
        {
          "output_type": "stream",
          "name": "stdout",
          "text": [
            "Исходный массив: [1 2 3 4 5 6]\n",
            "Массив после преобразования:\n",
            " [[1 2 3]\n",
            " [4 5 6]]\n"
          ]
        }
      ]
    },
    {
      "cell_type": "markdown",
      "source": [
        "### Пример более сложного изменения формы с `np.reshape`\n",
        "\n",
        "Допустим, у нас есть массив изображения размером `(3, 32, 32)`, где первая ось - это каналы цвета (RGB), а вторая и третья оси - это высота и ширина соответственно. Мы хотим изменить форму этого массива так, чтобы каналы цвета были последней осью, что обычно необходимо для работы с некоторыми библиотеками обработки изображений."
      ],
      "metadata": {
        "id": "hFdMEyPFGBGi"
      }
    },
    {
      "cell_type": "code",
      "source": [
        "# Создаем массив, имитирующий данные изображения\n",
        "img_data = np.random.rand(3, 32, 32)\n",
        "\n",
        "# Меняем форму массива, перемещая каналы цвета в конец\n",
        "reshaped_img_data = np.transpose(img_data, (1, 2, 0))\n",
        "print(\"Новая форма массива данных изображения:\", reshaped_img_data.shape)"
      ],
      "metadata": {
        "id": "55O7xphXF9iZ",
        "colab": {
          "base_uri": "https://localhost:8080/"
        },
        "outputId": "34014a16-32a9-407f-c435-016f0b26c918"
      },
      "execution_count": null,
      "outputs": [
        {
          "output_type": "stream",
          "name": "stdout",
          "text": [
            "Новая форма массива данных изображения: (32, 32, 3)\n"
          ]
        }
      ]
    },
    {
      "cell_type": "markdown",
      "source": [
        "В этом примере мы использовали `np.transpose` для изменения порядка осей, что является одним из способов изменения формы массива, когда нужно переместить оси, а не только изменить их размеры."
      ],
      "metadata": {
        "id": "-2cHHatVF2s6"
      }
    },
    {
      "cell_type": "markdown",
      "source": [
        "Функция `np.resize` в NumPy используется для изменения размера массива. Она создает новый массив заданной формы и заполняет его данными из исходного массива, повторяя их при необходимости. Важно отметить, что `np.resize` отличается от `np.reshape`, так как `reshape` требует, чтобы количество элементов в исходном и измененном массивах было одинаковым, тогда как `resize` позволяет изменять общее количество элементов."
      ],
      "metadata": {
        "id": "4stIf9GlF6jy"
      }
    },
    {
      "cell_type": "markdown",
      "source": [
        "\n",
        "\n",
        "\n",
        "\n",
        "\n",
        "Рассмотрим подробный пример:"
      ],
      "metadata": {
        "id": "C4MVfMM5F1BN"
      }
    },
    {
      "cell_type": "code",
      "source": [
        "import numpy as np\n",
        "\n",
        "# Создадим исходный массив\n",
        "original_array = np.array([1, 2, 3, 4])\n",
        "print(\"Исходный массив:\", original_array)\n",
        "\n",
        "# Изменим размер массива до 2x3\n",
        "resized_array = np.resize(original_array, (2, 3))\n",
        "print(\"Измененный массив 2x3:\\n\", resized_array)\n",
        "\n",
        "# Для сравнения изменение размера массива до 2x2\n",
        "resized_array_2x2 = np.resize(original_array, (2, 2))\n",
        "print(\"Измененный массив 2x2:\\n\", resized_array_2x2)\n",
        "\n",
        "# Изменение размера массива до 3x3\n",
        "resized_array_3x3 = np.resize(original_array, (3, 3))\n",
        "print(\"Измененный массив 3x3:\\n\", resized_array_3x3)"
      ],
      "metadata": {
        "colab": {
          "base_uri": "https://localhost:8080/"
        },
        "id": "25k3SqHNFyB-",
        "outputId": "7932c4fc-be20-4e21-beea-ff86d372bbcd"
      },
      "execution_count": null,
      "outputs": [
        {
          "output_type": "stream",
          "name": "stdout",
          "text": [
            "Исходный массив: [1 2 3 4]\n",
            "Измененный массив 2x3:\n",
            " [[1 2 3]\n",
            " [4 1 2]]\n",
            "Измененный массив 2x2:\n",
            " [[1 2]\n",
            " [3 4]]\n",
            "Измененный массив 3x3:\n",
            " [[1 2 3]\n",
            " [4 1 2]\n",
            " [3 4 1]]\n"
          ]
        }
      ]
    },
    {
      "cell_type": "markdown",
      "source": [
        "**Анализ примера:**\n",
        "\n",
        "1. **Исходный массив**: `[1, 2, 3, 4]`\n",
        "\n",
        "2. **Измененный массив 2x3**: В этом случае, `np.resize` создает массив формы `(2, 3)`. Поскольку исходный массив содержит 4 элемента, а новый требует 6 элементов, `np.resize` начнет повторять элементы исходного массива с начала, чтобы заполнить новый массив:\n",
        "    ```\n",
        "    [\n",
        "     [1, 2, 3],\n",
        "     [4, 1, 2]\n",
        "    ]\n",
        "    ```\n",
        "\n",
        "3. **Измененный массив 2x2**: Здесь новый массив требует 4 элемента, что соответствует размеру исходного массива. Поэтому элементы просто копируются в новый массив формы `(2, 2)`:\n",
        "    ```\n",
        "    [\n",
        "     [1, 2],\n",
        "     [3, 4]\n",
        "    ]\n",
        "    ```\n",
        "\n",
        "4. **Измененный массив 3x3**: В этом случае новый массив требует 9 элементов, поэтому `np.resize` повторяет исходный массив до тех пор, пока не заполнит новый массив формы `(3, 3)`:\n",
        "    ```\n",
        "    [\n",
        "     [1, 2, 3],\n",
        "     [4, 1, 2],\n",
        "     [3, 4, 1]\n",
        "    ]\n",
        "    ```"
      ],
      "metadata": {
        "id": "R50e-3PzFoIm"
      }
    },
    {
      "cell_type": "markdown",
      "source": [
        "## Функций NumPy для выполнения алгебраических операций:\n"
      ],
      "metadata": {
        "id": "t2Qhfepc8tlv"
      }
    },
    {
      "cell_type": "code",
      "source": [
        "import numpy as np\n",
        "\n",
        "# Определим два массива для демонстрации\n",
        "a = np.array([1, 2, 3])\n",
        "b = np.array([4, 5, 6])"
      ],
      "metadata": {
        "id": "XjGDGv1s8t3t"
      },
      "execution_count": null,
      "outputs": []
    },
    {
      "cell_type": "code",
      "source": [
        "# add(): суммирует элементы массивов.\n",
        "add_result = np.add(a, b)\n",
        "print(\"add():\", add_result)"
      ],
      "metadata": {
        "colab": {
          "base_uri": "https://localhost:8080/"
        },
        "id": "yhRhtly5Yj0U",
        "outputId": "b066f41c-6257-48c2-9dbd-3f039ecde142"
      },
      "execution_count": null,
      "outputs": [
        {
          "output_type": "stream",
          "name": "stdout",
          "text": [
            "add(): [5 7 9]\n"
          ]
        }
      ]
    },
    {
      "cell_type": "code",
      "source": [
        "# subtract(): вычитает элементы второго массива из элементов первого.\n",
        "subtract_result = np.subtract(a, b)\n",
        "print(\"subtract():\", subtract_result)"
      ],
      "metadata": {
        "colab": {
          "base_uri": "https://localhost:8080/"
        },
        "id": "61F_m4XjYlkx",
        "outputId": "3eee4b64-b632-4867-a7af-84af8062940b"
      },
      "execution_count": null,
      "outputs": [
        {
          "output_type": "stream",
          "name": "stdout",
          "text": [
            "subtract(): [-3 -3 -3]\n"
          ]
        }
      ]
    },
    {
      "cell_type": "code",
      "source": [
        "# multiply(): умножает элементы массивов поэлементно.\n",
        "multiply_result = np.multiply(a, b)\n",
        "print(\"multiply():\", multiply_result)"
      ],
      "metadata": {
        "colab": {
          "base_uri": "https://localhost:8080/"
        },
        "id": "QEIRmrt1Yndq",
        "outputId": "26ce9c35-b2e7-44d2-bb0d-e0bd7903f049"
      },
      "execution_count": null,
      "outputs": [
        {
          "output_type": "stream",
          "name": "stdout",
          "text": [
            "multiply(): [ 4 10 18]\n"
          ]
        }
      ]
    },
    {
      "cell_type": "code",
      "source": [
        "# divide(): делит элементы первого массива на элементы второго поэлементно.\n",
        "divide_result = np.divide(a, b)\n",
        "print(\"divide():\", divide_result)"
      ],
      "metadata": {
        "colab": {
          "base_uri": "https://localhost:8080/"
        },
        "id": "Swqb8aEOYpVZ",
        "outputId": "bb58e30c-26d1-4f33-89b8-1f65eae14a4f"
      },
      "execution_count": null,
      "outputs": [
        {
          "output_type": "stream",
          "name": "stdout",
          "text": [
            "divide(): [0.25 0.4  0.5 ]\n"
          ]
        }
      ]
    },
    {
      "cell_type": "code",
      "source": [
        "# dot(): скалярное произведение двух массивов.\n",
        "dot_result = np.dot(a, b)\n",
        "print(\"dot():\", dot_result)"
      ],
      "metadata": {
        "colab": {
          "base_uri": "https://localhost:8080/"
        },
        "id": "n0u7o6IaYq-H",
        "outputId": "40ca9315-38e1-4b37-b0a5-a064f205ae8f"
      },
      "execution_count": null,
      "outputs": [
        {
          "output_type": "stream",
          "name": "stdout",
          "text": [
            "dot(): 32\n"
          ]
        }
      ]
    },
    {
      "cell_type": "code",
      "source": [
        "# matmul(): матричное умножение двух массивов.\n",
        "A = np.array([[1, 2], [3, 4]])\n",
        "B = np.array([[2, 0], [1, 3]])\n",
        "matmul_result = np.matmul(A, B)\n",
        "print(\"matmul():\\n\", matmul_result)"
      ],
      "metadata": {
        "colab": {
          "base_uri": "https://localhost:8080/"
        },
        "id": "0o3Rnh5fYs1p",
        "outputId": "846d2a30-aca4-4e00-b20b-d8f3b92cef2d"
      },
      "execution_count": null,
      "outputs": [
        {
          "output_type": "stream",
          "name": "stdout",
          "text": [
            "matmul():\n",
            " [[ 4  6]\n",
            " [10 12]]\n"
          ]
        }
      ]
    },
    {
      "cell_type": "code",
      "source": [
        "# tensordot(): тензорное произведение двух массивов по указанным осям.\n",
        "tensordot_result = np.tensordot(a, b, axes=0)\n",
        "\n",
        "print(a, b)\n",
        "print(\"tensordot():\\n\", tensordot_result)"
      ],
      "metadata": {
        "colab": {
          "base_uri": "https://localhost:8080/"
        },
        "id": "7_7MKKQ1YuR2",
        "outputId": "ad6b847a-aa30-4f80-b0e6-10a3c40af73c"
      },
      "execution_count": null,
      "outputs": [
        {
          "output_type": "stream",
          "name": "stdout",
          "text": [
            "[1 2 3] [4 5 6]\n",
            "tensordot():\n",
            " [[ 4  5  6]\n",
            " [ 8 10 12]\n",
            " [12 15 18]]\n"
          ]
        }
      ]
    },
    {
      "cell_type": "code",
      "source": [
        "# inner(): внутреннее произведение двух массивов.\n",
        "inner_result = np.inner(a, b)\n",
        "print(\"inner():\", inner_result)"
      ],
      "metadata": {
        "colab": {
          "base_uri": "https://localhost:8080/"
        },
        "id": "QdLmIGyYYvcG",
        "outputId": "ff42b368-c5ac-4320-fb58-ed9e7eac1864"
      },
      "execution_count": null,
      "outputs": [
        {
          "output_type": "stream",
          "name": "stdout",
          "text": [
            "inner(): 32\n"
          ]
        }
      ]
    },
    {
      "cell_type": "code",
      "source": [
        "# outer(): внешнее произведение двух массивов.\n",
        "outer_result = np.outer(a, b)\n",
        "print(\"outer():\\n\", outer_result)"
      ],
      "metadata": {
        "colab": {
          "base_uri": "https://localhost:8080/"
        },
        "id": "Jrr1YGalYwnz",
        "outputId": "1ba8ca7d-6b5a-40d0-c09e-841d57d5ba67"
      },
      "execution_count": null,
      "outputs": [
        {
          "output_type": "stream",
          "name": "stdout",
          "text": [
            "outer():\n",
            " [[ 4  5  6]\n",
            " [ 8 10 12]\n",
            " [12 15 18]]\n"
          ]
        }
      ]
    },
    {
      "cell_type": "code",
      "source": [
        "# cross(): векторное произведение двух векторов.\n",
        "cross_result = np.cross(a, b)\n",
        "print(\"cross():\", cross_result)\n",
        "# получаем вектор перпендикулярный обоим векторам"
      ],
      "metadata": {
        "colab": {
          "base_uri": "https://localhost:8080/"
        },
        "id": "-Cb3KhSvYyI_",
        "outputId": "974cd785-538c-42b6-a631-4c130a6d61da"
      },
      "execution_count": null,
      "outputs": [
        {
          "output_type": "stream",
          "name": "stdout",
          "text": [
            "cross(): [-3  6 -3]\n"
          ]
        }
      ]
    },
    {
      "cell_type": "markdown",
      "source": [
        "## Статистические функций в NumPy:\n"
      ],
      "metadata": {
        "id": "0nnRtFRp8k2o"
      }
    },
    {
      "cell_type": "markdown",
      "source": [
        "NumPy предоставляет ряд функций для вычисления статистических данных массивов."
      ],
      "metadata": {
        "id": "t6yb0wQaBU2x"
      }
    },
    {
      "cell_type": "markdown",
      "source": [
        "#### Среднее значение"
      ],
      "metadata": {
        "id": "oiQDUAroBZoB"
      }
    },
    {
      "cell_type": "markdown",
      "source": [
        "- **Среднее арифметическое** — это сумма всех значений набора данных, делённая на количество этих значений. Отражает общую тенденцию набора данных.\n"
      ],
      "metadata": {
        "id": "Mfi6yRjGP0hw"
      }
    },
    {
      "cell_type": "code",
      "source": [
        "arr = np.array([1, 2, 3, 4, 5, 6])\n",
        "mean_val = np.mean(arr)\n",
        "print(\"Среднее значение:\", mean_val)"
      ],
      "metadata": {
        "id": "j4gmy4HtBaBe",
        "colab": {
          "base_uri": "https://localhost:8080/"
        },
        "outputId": "9c8c01ce-1320-4660-ff33-e0530cbf7664"
      },
      "execution_count": null,
      "outputs": [
        {
          "output_type": "stream",
          "name": "stdout",
          "text": [
            "Среднее значение: 3.5\n"
          ]
        }
      ]
    },
    {
      "cell_type": "markdown",
      "source": [
        "#### Взвешенное среднее\n",
        "\n"
      ],
      "metadata": {
        "id": "MvlCYwfiO6iz"
      }
    },
    {
      "cell_type": "markdown",
      "source": [
        "- **Взвешенное среднее** — это среднее арифметическое, в котором каждое значение умножается на вес (коэффициент значимости), и после сумма произведений делится на сумму всех весов. Используется, когда некоторые значения важнее других."
      ],
      "metadata": {
        "id": "bjG-ZJZkP8K1"
      }
    },
    {
      "cell_type": "code",
      "source": [
        "# В этом примере веса не указаны, поэтому функция работает как np.mean()\n",
        "average_val = np.average(arr)\n",
        "print(\"Взвешенное среднее:\", average_val)"
      ],
      "metadata": {
        "colab": {
          "base_uri": "https://localhost:8080/"
        },
        "id": "CWTeJz48O6tL",
        "outputId": "cd890c35-7713-4acc-a2e7-228879e5a141"
      },
      "execution_count": null,
      "outputs": [
        {
          "output_type": "stream",
          "name": "stdout",
          "text": [
            "Взвешенное среднее: 3.5\n"
          ]
        }
      ]
    },
    {
      "cell_type": "markdown",
      "source": [
        "#### Медиана"
      ],
      "metadata": {
        "id": "3wLr-e9iBfIB"
      }
    },
    {
      "cell_type": "markdown",
      "source": [
        "- **Медиана** — это значение, которое делит упорядоченный набор данных на две равные части. Половина данных находится ниже медианы, а другая половина — выше. Хорошо отражает центральную тенденцию, особенно в искажённых распределениях."
      ],
      "metadata": {
        "id": "2KHv9-JDP0p-"
      }
    },
    {
      "cell_type": "code",
      "source": [
        "median_val = np.median(arr)\n",
        "print(\"Медиана:\", median_val)"
      ],
      "metadata": {
        "id": "nzek-NMlBhBJ",
        "colab": {
          "base_uri": "https://localhost:8080/"
        },
        "outputId": "1e87be97-bac5-458c-96c4-4799255a1c7b"
      },
      "execution_count": null,
      "outputs": [
        {
          "output_type": "stream",
          "name": "stdout",
          "text": [
            "Медиана: 3.5\n"
          ]
        }
      ]
    },
    {
      "cell_type": "markdown",
      "source": [
        "#### Дисперсия элементов массива"
      ],
      "metadata": {
        "id": "7tgM7q9yO63E"
      }
    },
    {
      "cell_type": "markdown",
      "source": [
        "\n",
        "\n",
        "\n",
        "\n",
        "\n",
        "\n",
        "\n",
        "\n",
        "- **Дисперсия** — это средний квадрат отклонений каждого значения в наборе от среднего арифметического. По сути, это квадрат стандартного отклонения, предоставляющий меру разброса значений в наборе данных."
      ],
      "metadata": {
        "id": "XzBq0QY5PxRI"
      }
    },
    {
      "cell_type": "code",
      "source": [
        "var_val = np.var(arr)\n",
        "print(\"Дисперсия:\", var_val)"
      ],
      "metadata": {
        "colab": {
          "base_uri": "https://localhost:8080/"
        },
        "id": "3XnuNphsO6_a",
        "outputId": "8128d046-a24f-43fb-e1ae-22f3ef4b0757"
      },
      "execution_count": null,
      "outputs": [
        {
          "output_type": "stream",
          "name": "stdout",
          "text": [
            "Дисперсия: 2.9166666666666665\n"
          ]
        }
      ]
    },
    {
      "cell_type": "markdown",
      "source": [
        "\n",
        "#### Стандартное отклонение"
      ],
      "metadata": {
        "id": "0HNIudHnBi9p"
      }
    },
    {
      "cell_type": "markdown",
      "source": [
        "- **Стандартное отклонение** — это мера разброса или дисперсии значений в наборе данных относительно их среднего арифметического. Показывает, насколько в среднем значения отклоняются от среднего значения набора."
      ],
      "metadata": {
        "id": "iSFgCVStP-3N"
      }
    },
    {
      "cell_type": "code",
      "source": [
        "std_dev = np.std(arr)\n",
        "print(\"Стандартное отклонение:\", std_dev)"
      ],
      "metadata": {
        "id": "U_r7DhZgBVCd",
        "colab": {
          "base_uri": "https://localhost:8080/"
        },
        "outputId": "a0e55eaf-de41-43b1-ddcd-e705658e10d2"
      },
      "execution_count": null,
      "outputs": [
        {
          "output_type": "stream",
          "name": "stdout",
          "text": [
            "Стандартное отклонение: 1.707825127659933\n"
          ]
        }
      ]
    },
    {
      "cell_type": "markdown",
      "source": [
        "## Функции модуля линейной алгебры в NumPy:"
      ],
      "metadata": {
        "id": "X8GjfIQX9QAz"
      }
    },
    {
      "cell_type": "code",
      "source": [
        "import numpy as np\n",
        "\n",
        "# Определим матрицу для использования в примерах\n",
        "A = np.array([[1, 2], [3, 4]])"
      ],
      "metadata": {
        "id": "9FhGti879QOp"
      },
      "execution_count": null,
      "outputs": []
    },
    {
      "cell_type": "code",
      "source": [
        "# linalg.inv(): вычисляет обратную матрицу\n",
        "inv_A = np.linalg.inv(A)\n",
        "print(\"Inverse of A:\\n\", inv_A)"
      ],
      "metadata": {
        "colab": {
          "base_uri": "https://localhost:8080/"
        },
        "id": "rbGi3VaoaME8",
        "outputId": "7db8d830-5027-4809-c35e-948f8cbed9d9"
      },
      "execution_count": null,
      "outputs": [
        {
          "output_type": "stream",
          "name": "stdout",
          "text": [
            "Inverse of A:\n",
            " [[-2.   1. ]\n",
            " [ 1.5 -0.5]]\n"
          ]
        }
      ]
    },
    {
      "cell_type": "code",
      "source": [
        "# linalg.pinv(): вычисляет псевдообратную матрицу (Мура-Пенроуза)\n",
        "pinv_A = np.linalg.pinv(A)\n",
        "print(\"Pseudo-inverse of A:\\n\", pinv_A)"
      ],
      "metadata": {
        "colab": {
          "base_uri": "https://localhost:8080/"
        },
        "id": "yybU2AxQaOHZ",
        "outputId": "2986142d-0678-47d2-98c7-8bfd2d397b39"
      },
      "execution_count": null,
      "outputs": [
        {
          "output_type": "stream",
          "name": "stdout",
          "text": [
            "Pseudo-inverse of A:\n",
            " [[-2.   1. ]\n",
            " [ 1.5 -0.5]]\n"
          ]
        }
      ]
    },
    {
      "cell_type": "code",
      "source": [
        "# linalg.matrix_rank(): определяет ранг матрицы\n",
        "rank_A = np.linalg.matrix_rank(A)\n",
        "print(\"Rank of A:\", rank_A)"
      ],
      "metadata": {
        "colab": {
          "base_uri": "https://localhost:8080/"
        },
        "id": "nCfl_gWsaP0S",
        "outputId": "5f39f859-8e6b-497a-f390-f72eced29317"
      },
      "execution_count": null,
      "outputs": [
        {
          "output_type": "stream",
          "name": "stdout",
          "text": [
            "Rank of A: 2\n"
          ]
        }
      ]
    },
    {
      "cell_type": "code",
      "source": [
        "# linalg.svd(): выполняет сингулярное разложение матрицы\n",
        "U, S, VT = np.linalg.svd(A)\n",
        "print(\"Singular value decomposition of A:\\nU:\\n\", U, \"\\nS:\\n\", S, \"\\nVT:\\n\", VT)"
      ],
      "metadata": {
        "colab": {
          "base_uri": "https://localhost:8080/"
        },
        "id": "XuYMdlquaRG1",
        "outputId": "d0ca3465-b3f9-4e5d-b413-d87876c6c3d8"
      },
      "execution_count": null,
      "outputs": [
        {
          "output_type": "stream",
          "name": "stdout",
          "text": [
            "Singular value decomposition of A:\n",
            "U:\n",
            " [[-0.40455358 -0.9145143 ]\n",
            " [-0.9145143   0.40455358]] \n",
            "S:\n",
            " [5.4649857  0.36596619] \n",
            "VT:\n",
            " [[-0.57604844 -0.81741556]\n",
            " [ 0.81741556 -0.57604844]]\n"
          ]
        }
      ]
    },
    {
      "cell_type": "code",
      "source": [
        "# linalg.eig(): вычисляет собственные значения и собственные векторы квадратной матрицы\n",
        "eigenvalues, eigenvectors = np.linalg.eig(A)\n",
        "print(\"Eigenvalues of A:\", eigenvalues)\n",
        "print(\"Eigenvectors of A:\\n\", eigenvectors)"
      ],
      "metadata": {
        "colab": {
          "base_uri": "https://localhost:8080/"
        },
        "id": "tCIvR70vaSyG",
        "outputId": "743d9491-461f-492b-999a-99476d02b3c6"
      },
      "execution_count": null,
      "outputs": [
        {
          "output_type": "stream",
          "name": "stdout",
          "text": [
            "Eigenvalues of A: [-0.37228132  5.37228132]\n",
            "Eigenvectors of A:\n",
            " [[-0.82456484 -0.41597356]\n",
            " [ 0.56576746 -0.90937671]]\n"
          ]
        }
      ]
    },
    {
      "cell_type": "code",
      "source": [
        "# linalg.solve(): решает систему линейных уравнений Ax = b\n",
        "b = np.array([1, 2])\n",
        "x = np.linalg.solve(A, b)\n",
        "print(\"Solution of Ax = b:\", x)"
      ],
      "metadata": {
        "colab": {
          "base_uri": "https://localhost:8080/"
        },
        "id": "taIdFmjtaUI0",
        "outputId": "ec05fb00-7ce4-409c-f18d-27fa2c6283e0"
      },
      "execution_count": null,
      "outputs": [
        {
          "output_type": "stream",
          "name": "stdout",
          "text": [
            "Solution of Ax = b: [0.  0.5]\n"
          ]
        }
      ]
    },
    {
      "cell_type": "code",
      "source": [
        "# linalg.det(): вычисляет определитель матрицы\n",
        "det_A = np.linalg.det(A)\n",
        "print(\"Determinant of A:\", det_A)"
      ],
      "metadata": {
        "colab": {
          "base_uri": "https://localhost:8080/"
        },
        "id": "k2vJNcvDaV-C",
        "outputId": "f20a73bb-8389-4039-ab39-d22c3c9eba6f"
      },
      "execution_count": null,
      "outputs": [
        {
          "output_type": "stream",
          "name": "stdout",
          "text": [
            "Determinant of A: -2.0000000000000004\n"
          ]
        }
      ]
    },
    {
      "cell_type": "markdown",
      "source": [
        "## Различные математические функций в NumPy:"
      ],
      "metadata": {
        "id": "amX27T7S9gRM"
      }
    },
    {
      "cell_type": "code",
      "source": [
        "import numpy as np\n",
        "\n",
        "# Задаем массив для демонстрации\n",
        "x = np.array([1, 2, 3, 4, 5])"
      ],
      "metadata": {
        "id": "w4K9r-1V9ge-"
      },
      "execution_count": null,
      "outputs": []
    },
    {
      "cell_type": "code",
      "source": [
        "# exp(): вычисляет экспоненту всех элементов массива\n",
        "print(\"exp(x):\", np.exp(x))"
      ],
      "metadata": {
        "colab": {
          "base_uri": "https://localhost:8080/"
        },
        "id": "nv7d76VHaafX",
        "outputId": "7295a111-587d-48a0-ca74-e6ca2ae783ad"
      },
      "execution_count": null,
      "outputs": [
        {
          "output_type": "stream",
          "name": "stdout",
          "text": [
            "exp(x): [  2.71828183   7.3890561   20.08553692  54.59815003 148.4131591 ]\n"
          ]
        }
      ]
    },
    {
      "cell_type": "code",
      "source": [
        "# log(): вычисляет натуральный логарифм (основание e) всех элементов массива\n",
        "print(\"log(x):\", np.log(x))"
      ],
      "metadata": {
        "colab": {
          "base_uri": "https://localhost:8080/"
        },
        "id": "FtdPca5ZacD4",
        "outputId": "b9663b85-e592-41cf-ad48-37474808394c"
      },
      "execution_count": null,
      "outputs": [
        {
          "output_type": "stream",
          "name": "stdout",
          "text": [
            "log(x): [0.         0.69314718 1.09861229 1.38629436 1.60943791]\n"
          ]
        }
      ]
    },
    {
      "cell_type": "code",
      "source": [
        "# sqrt(): вычисляет квадратный корень каждого элемента массива\n",
        "print(\"sqrt(x):\", np.sqrt(x))"
      ],
      "metadata": {
        "colab": {
          "base_uri": "https://localhost:8080/"
        },
        "id": "wZiU8f0Padke",
        "outputId": "fee98f7c-6782-4ab3-b1cf-b674af3c0a8b"
      },
      "execution_count": null,
      "outputs": [
        {
          "output_type": "stream",
          "name": "stdout",
          "text": [
            "sqrt(x): [1.         1.41421356 1.73205081 2.         2.23606798]\n"
          ]
        }
      ]
    },
    {
      "cell_type": "code",
      "source": [
        "# sin(): вычисляет синус каждого элемента массива (элементы в радианах)\n",
        "print(\"sin(x):\", np.sin(x))"
      ],
      "metadata": {
        "colab": {
          "base_uri": "https://localhost:8080/"
        },
        "id": "SHimLXMxafiA",
        "outputId": "9abc4a7f-2e63-4624-ca49-7b3adc74cfa3"
      },
      "execution_count": null,
      "outputs": [
        {
          "output_type": "stream",
          "name": "stdout",
          "text": [
            "sin(x): [ 0.84147098  0.90929743  0.14112001 -0.7568025  -0.95892427]\n"
          ]
        }
      ]
    },
    {
      "cell_type": "code",
      "source": [
        "# cos(): вычисляет косинус каждого элемента массива (элементы в радианах)\n",
        "print(\"cos(x):\", np.cos(x))"
      ],
      "metadata": {
        "colab": {
          "base_uri": "https://localhost:8080/"
        },
        "id": "uy_fwWetahF_",
        "outputId": "6206299a-7f10-4fea-f856-075d3b35ca67"
      },
      "execution_count": null,
      "outputs": [
        {
          "output_type": "stream",
          "name": "stdout",
          "text": [
            "cos(x): [ 0.54030231 -0.41614684 -0.9899925  -0.65364362  0.28366219]\n"
          ]
        }
      ]
    },
    {
      "cell_type": "code",
      "source": [
        "# tan(): вычисляет тангенс каждого элемента массива (элементы в радианах)\n",
        "print(\"tan(x):\", np.tan(x))"
      ],
      "metadata": {
        "colab": {
          "base_uri": "https://localhost:8080/"
        },
        "id": "rhY1Hh45aiqQ",
        "outputId": "9cdb5c2e-bced-434f-fb7b-4dacf750dea4"
      },
      "execution_count": null,
      "outputs": [
        {
          "output_type": "stream",
          "name": "stdout",
          "text": [
            "tan(x): [ 1.55740772 -2.18503986 -0.14254654  1.15782128 -3.38051501]\n"
          ]
        }
      ]
    },
    {
      "cell_type": "code",
      "source": [
        "# arcsin(): вычисляет арксинус каждого элемента массива (возвращает результаты в радианах)\n",
        "print(\"arcsin(x/6):\", np.arcsin(x/6))"
      ],
      "metadata": {
        "colab": {
          "base_uri": "https://localhost:8080/"
        },
        "id": "LgTaGMrLakA_",
        "outputId": "4ee60aff-f188-46b8-85a6-85e8fce9f8f0"
      },
      "execution_count": null,
      "outputs": [
        {
          "output_type": "stream",
          "name": "stdout",
          "text": [
            "arcsin(x/6): [0.16744808 0.33983691 0.52359878 0.72972766 0.98511078]\n"
          ]
        }
      ]
    },
    {
      "cell_type": "code",
      "source": [
        "# arccos(): вычисляет арккосинус каждого элемента массива (возвращает результаты в радианах)\n",
        "print(\"arccos(x/6):\", np.arccos(x/6))"
      ],
      "metadata": {
        "colab": {
          "base_uri": "https://localhost:8080/"
        },
        "id": "VuJJ9BLyalWL",
        "outputId": "2825daa7-248d-4656-d543-cd26a4f6df49"
      },
      "execution_count": null,
      "outputs": [
        {
          "output_type": "stream",
          "name": "stdout",
          "text": [
            "arccos(x/6): [1.40334825 1.23095942 1.04719755 0.84106867 0.58568554]\n"
          ]
        }
      ]
    },
    {
      "cell_type": "code",
      "source": [
        "# arctan(): вычисляет арктангенс каждого элемента массива (возвращает результаты в радианах)\n",
        "print(\"arctan(x):\", np.arctan(x))"
      ],
      "metadata": {
        "colab": {
          "base_uri": "https://localhost:8080/"
        },
        "id": "_ZVk8vB-amtG",
        "outputId": "00fb39a1-4ddf-430b-c40f-0156ddfd34f0"
      },
      "execution_count": null,
      "outputs": [
        {
          "output_type": "stream",
          "name": "stdout",
          "text": [
            "arctan(x): [0.78539816 1.10714872 1.24904577 1.32581766 1.37340077]\n"
          ]
        }
      ]
    },
    {
      "cell_type": "code",
      "source": [
        "# hypot(): вычисляет гипотенузу прямоугольного треугольника с катетами, равными элементам двух массивов\n",
        "x = np.array([3, 3, 3, 3])\n",
        "y = np.array([4, 4, 4, 4])\n",
        "print(\"hypot(x, y):\", np.hypot(x, y))  # Должно вернуть [5, 5, 5, 5]"
      ],
      "metadata": {
        "colab": {
          "base_uri": "https://localhost:8080/"
        },
        "id": "r2pb1fptan-H",
        "outputId": "64434fef-d01f-493e-9a09-40795ee4ccca"
      },
      "execution_count": null,
      "outputs": [
        {
          "output_type": "stream",
          "name": "stdout",
          "text": [
            "hypot(x, y): [5. 5. 5. 5.]\n"
          ]
        }
      ]
    },
    {
      "cell_type": "code",
      "source": [
        "# degrees(): конвертирует радианы в градусы\n",
        "angles_in_radians = np.array([np.pi, np.pi/2, np.pi/4])\n",
        "print(\"degrees(angles_in_radians):\", np.degrees(angles_in_radians))"
      ],
      "metadata": {
        "colab": {
          "base_uri": "https://localhost:8080/"
        },
        "id": "Jb2qcEnqapRs",
        "outputId": "5bbe9141-6da0-4e0d-f6bc-7754adffd7dd"
      },
      "execution_count": null,
      "outputs": [
        {
          "output_type": "stream",
          "name": "stdout",
          "text": [
            "degrees(angles_in_radians): [180.  90.  45.]\n"
          ]
        }
      ]
    },
    {
      "cell_type": "code",
      "source": [
        "# radians(): конвертирует градусы в радианы\n",
        "angles_in_degrees = np.array([180, 90, 45])\n",
        "print(\"radians(angles_in_degrees):\", np.radians(angles_in_degrees))"
      ],
      "metadata": {
        "colab": {
          "base_uri": "https://localhost:8080/"
        },
        "id": "Fkq7GGZ8aqTW",
        "outputId": "6e24ec1c-bf4c-46a9-abec-00f0e35e4d2c"
      },
      "execution_count": null,
      "outputs": [
        {
          "output_type": "stream",
          "name": "stdout",
          "text": [
            "radians(angles_in_degrees): [3.14159265 1.57079633 0.78539816]\n"
          ]
        }
      ]
    },
    {
      "cell_type": "markdown",
      "source": [
        "### Сравнение"
      ],
      "metadata": {
        "id": "0XMuDfv392oc"
      }
    },
    {
      "cell_type": "code",
      "source": [
        "a = np.array([1.0, 2.0, 3.0])\n",
        "b = np.array([1.0, 2.0, 3.0])\n",
        "c = np.array([1.0, 2.0, 3.001])\n",
        "d = np.array([1.0, 2.0])\n",
        "\n",
        "# allclose() - проверка на приблизительное равенство с заданным допуском\n",
        "print(\"allclose(a, b):\", np.allclose(a, b))\n",
        "print(\"allclose(a, c, atol=0.01):\", np.allclose(a, c, atol=0.01))"
      ],
      "metadata": {
        "colab": {
          "base_uri": "https://localhost:8080/"
        },
        "id": "EUC6vqBR928a",
        "outputId": "e4ec8464-9027-4433-dd44-5fea84effac9"
      },
      "execution_count": null,
      "outputs": [
        {
          "output_type": "stream",
          "name": "stdout",
          "text": [
            "allclose(a, b): True\n",
            "allclose(a, c, atol=0.01): True\n"
          ]
        }
      ]
    },
    {
      "cell_type": "code",
      "source": [
        "# array_equal() - проверка на точное равенство формы и элементов\n",
        "print(\"array_equal(a, b):\", np.array_equal(a, b))\n",
        "print(\"array_equal(a, c):\", np.array_equal(a, c))"
      ],
      "metadata": {
        "colab": {
          "base_uri": "https://localhost:8080/"
        },
        "id": "a2TXk89CavQz",
        "outputId": "feb8b6b7-4723-4bc7-fcc2-72f1bf71f74d"
      },
      "execution_count": null,
      "outputs": [
        {
          "output_type": "stream",
          "name": "stdout",
          "text": [
            "array_equal(a, b): True\n",
            "array_equal(a, c): False\n"
          ]
        }
      ]
    },
    {
      "cell_type": "code",
      "source": [
        "# array_equiv() - проверка на эквивалентность, допускает разницу в размерах при сравнении\n",
        "print(\"array_equiv(a, b):\", np.array_equiv(a, b))\n",
        "print(\"array_equiv(a, d):\", np.array_equiv(a, d)) # False, так как размеры массивов разные"
      ],
      "metadata": {
        "colab": {
          "base_uri": "https://localhost:8080/"
        },
        "id": "QMEF2rYkaxa1",
        "outputId": "16162da9-be60-43c6-c749-bfa41eec5b1c"
      },
      "execution_count": null,
      "outputs": [
        {
          "output_type": "stream",
          "name": "stdout",
          "text": [
            "array_equiv(a, b): True\n",
            "array_equiv(a, d): False\n"
          ]
        }
      ]
    },
    {
      "cell_type": "markdown",
      "source": [
        "Эти примеры демонстрируют, как использовать различные функции NumPy для логических операций, битовых операций и сравнения массивов. Важно понимать разницу между этими функциями, чтобы выбирать наиболее подходящую в зависимости от задачи."
      ],
      "metadata": {
        "id": "WMJ4pmqb9zsK"
      }
    },
    {
      "cell_type": "markdown",
      "source": [
        "## Функции Numpy для сортировки/фильтрации/поиска:"
      ],
      "metadata": {
        "id": "GgmwjS59Iwy2"
      }
    },
    {
      "cell_type": "markdown",
      "source": [
        "Логическая индексация в NumPy позволяет выбирать элементы массива на основе условий. Это мощный инструмент для анализа и обработки данных. Ниже приведен пример, демонстрирующий использование логической индексации для фильтрации элементов массива.\n",
        "\n"
      ],
      "metadata": {
        "id": "KvybGr7UWjCi"
      }
    },
    {
      "cell_type": "markdown",
      "source": [
        "### Фильтрация элементов массива, которые больше заданного значения"
      ],
      "metadata": {
        "id": "r4nIkn7jWusg"
      }
    },
    {
      "cell_type": "markdown",
      "source": [
        "В этом примере сначала создается массив `arr` из случайных целых чисел. Затем формируется логический массив `condition`, где каждый элемент указывает, удовлетворяет ли соответствующий элемент в `arr` заданному условию (в данном случае, является ли число больше 10). В конце, логический массив `condition` используется для индексации исходного массива `arr`, что позволяет выбрать только те элементы, которые удовлетворяют условию."
      ],
      "metadata": {
        "id": "QYKSMs2gWskg"
      }
    },
    {
      "cell_type": "code",
      "source": [
        "import numpy as np\n",
        "\n",
        "# Создаем исходный массив случайных целых чисел от 0 до 20\n",
        "arr = np.random.randint(0, 20, size=(10,))\n",
        "print(\"Исходный массив:\\n\", arr)\n",
        "\n",
        "# Задаем критерий для фильтрации: выбираем элементы, которые больше 10\n",
        "condition = arr > 10\n",
        "\n",
        "# Применяем логическую индексацию для выбора элементов, удовлетворяющих условию\n",
        "filtered_arr = arr[condition]\n",
        "print(\"Отфильтрованный массив (элементы > 10):\\n\", filtered_arr)"
      ],
      "metadata": {
        "colab": {
          "base_uri": "https://localhost:8080/"
        },
        "id": "rQ3fwc2tWeff",
        "outputId": "0fd0dfda-05f9-4a16-a6ce-199889e99ba9"
      },
      "execution_count": 3,
      "outputs": [
        {
          "output_type": "stream",
          "name": "stdout",
          "text": [
            "Исходный массив:\n",
            " [ 2 16  9 18  4  8 11  4 19  0]\n",
            "Отфильтрованный массив (элементы > 10):\n",
            " [16 18 11 19]\n"
          ]
        }
      ]
    },
    {
      "cell_type": "markdown",
      "source": [
        "\n",
        "\n",
        "### Изменение элементов массива на основе условия\n",
        "\n",
        "\n"
      ],
      "metadata": {
        "id": "Qvu42OOPWUFk"
      }
    },
    {
      "cell_type": "markdown",
      "source": [
        "Во втором примере используется логическая индексация для изменения элементов массива `arr`, которые удовлетворяют новому условию (меньше 5). Вместо этих элементов в массиве устанавливаются значения -1.\n",
        "\n",
        "Логическая индексация - очень гибкий инструмент, который позволяет легко и эффективно обрабатывать данные с помощью NumPy."
      ],
      "metadata": {
        "id": "RTglxlTuW6XV"
      }
    },
    {
      "cell_type": "code",
      "source": [
        "# Задаем новое условие: элементы меньше 5 будем заменять на -1\n",
        "arr[arr < 5] = -1\n",
        "print(\"Массив после замены элементов, которые меньше 5, на -1:\\n\", arr)"
      ],
      "metadata": {
        "colab": {
          "base_uri": "https://localhost:8080/"
        },
        "id": "axDeVDXEW131",
        "outputId": "dd5ca3a4-27d0-4390-93ea-6a8325e7e949"
      },
      "execution_count": 4,
      "outputs": [
        {
          "output_type": "stream",
          "name": "stdout",
          "text": [
            "Массив после замены элементов, которые меньше 5, на -1:\n",
            " [-1 16  9 18 -1  8 11 -1 19 -1]\n"
          ]
        }
      ]
    },
    {
      "cell_type": "markdown",
      "source": [
        "### `where()`\n",
        "\n",
        "Функция `np.where()` возвращает индексы элементов, которые удовлетворяют заданному условию."
      ],
      "metadata": {
        "id": "n87Fa27g-x2v"
      }
    },
    {
      "cell_type": "code",
      "source": [
        "import numpy as np\n",
        "\n",
        "a = np.array([1, 2, 3, 4, 5])\n",
        "indices = np.where(a > 3)\n",
        "print(\"Indices where elements are greater than 3:\", indices)"
      ],
      "metadata": {
        "id": "lEGCgKVv_GWN",
        "colab": {
          "base_uri": "https://localhost:8080/"
        },
        "outputId": "b5121abb-4569-4bf5-9620-cdbebc95de46"
      },
      "execution_count": null,
      "outputs": [
        {
          "output_type": "stream",
          "name": "stdout",
          "text": [
            "Indices where elements are greater than 3: (array([3, 4]),)\n"
          ]
        }
      ]
    },
    {
      "cell_type": "markdown",
      "source": [
        "### `unique()`\n",
        "\n",
        "Функция `np.unique()` находит уникальные элементы в массиве."
      ],
      "metadata": {
        "id": "rv1wLeXP_Ibt"
      }
    },
    {
      "cell_type": "code",
      "source": [
        "a = np.array([1, 2, 2, 3, 3, 3, 4])\n",
        "unique_elements = np.unique(a)\n",
        "print(\"Unique elements:\", unique_elements)"
      ],
      "metadata": {
        "id": "9kctNBr4_LAC",
        "colab": {
          "base_uri": "https://localhost:8080/"
        },
        "outputId": "bea0e109-2ec3-4b37-a8ae-7e4d80e4ff08"
      },
      "execution_count": null,
      "outputs": [
        {
          "output_type": "stream",
          "name": "stdout",
          "text": [
            "Unique elements: [1 2 3 4]\n"
          ]
        }
      ]
    },
    {
      "cell_type": "markdown",
      "source": [
        "### `argmax()`\n",
        "\n",
        "Функция `np.argmax()` возвращает индекс максимального элемента в массиве."
      ],
      "metadata": {
        "id": "5uY9LL7F_NWZ"
      }
    },
    {
      "cell_type": "code",
      "source": [
        "a = np.array([1, 5, 3, 4, 2])\n",
        "max_index = np.argmax(a)\n",
        "print(\"Index of the maximum element:\", max_index)"
      ],
      "metadata": {
        "id": "w1tb0Nn9_P1G",
        "colab": {
          "base_uri": "https://localhost:8080/"
        },
        "outputId": "b955a803-3f10-4871-9de2-78511efce9e1"
      },
      "execution_count": null,
      "outputs": [
        {
          "output_type": "stream",
          "name": "stdout",
          "text": [
            "Index of the maximum element: 1\n"
          ]
        }
      ]
    },
    {
      "cell_type": "markdown",
      "source": [
        "### `argmin()`\n",
        "\n",
        "Функция `np.argmin()` возвращает индекс минимального элемента в массиве."
      ],
      "metadata": {
        "id": "VcVFO6U-_Skd"
      }
    },
    {
      "cell_type": "code",
      "source": [
        "a = np.array([1, 5, 3, 4, 2])\n",
        "min_index = np.argmin(a)\n",
        "print(\"Index of the minimum element:\", min_index)"
      ],
      "metadata": {
        "id": "12TTTOnd_TIp",
        "colab": {
          "base_uri": "https://localhost:8080/"
        },
        "outputId": "91e13ffe-7cea-486b-b8a2-19ee9b8f2313"
      },
      "execution_count": null,
      "outputs": [
        {
          "output_type": "stream",
          "name": "stdout",
          "text": [
            "Index of the minimum element: 0\n"
          ]
        }
      ]
    },
    {
      "cell_type": "markdown",
      "source": [
        "### `argsort()`\n",
        "\n",
        "Функция `np.argsort()` возвращает индексы, которые отсортируют массив."
      ],
      "metadata": {
        "id": "cwcikHDS_XKQ"
      }
    },
    {
      "cell_type": "code",
      "source": [
        "a = np.array([2, 1, 4, 3, 5])\n",
        "sorted_indices = np.argsort(a)\n",
        "print(\"Indices that would sort the array:\", sorted_indices)"
      ],
      "metadata": {
        "id": "RsosV46L_ZkG",
        "colab": {
          "base_uri": "https://localhost:8080/"
        },
        "outputId": "bedd428b-78ab-4338-fd7e-b2f204d3371d"
      },
      "execution_count": null,
      "outputs": [
        {
          "output_type": "stream",
          "name": "stdout",
          "text": [
            "Indices that would sort the array: [1 0 3 2 4]\n"
          ]
        }
      ]
    },
    {
      "cell_type": "markdown",
      "source": [
        "### `sort()`\n",
        "\n",
        "Функция `np.sort()` сортирует массив."
      ],
      "metadata": {
        "id": "AP5pi_k__cRX"
      }
    },
    {
      "cell_type": "code",
      "source": [
        "a = np.array([2, 1, 4, 3, 5])\n",
        "sorted_array = np.sort(a)\n",
        "print(\"Sorted array:\", sorted_array)"
      ],
      "metadata": {
        "id": "ByXb1nm9_fDd",
        "colab": {
          "base_uri": "https://localhost:8080/"
        },
        "outputId": "bb72c613-d9d1-4262-82e3-0acac33a1fe5"
      },
      "execution_count": null,
      "outputs": [
        {
          "output_type": "stream",
          "name": "stdout",
          "text": [
            "Sorted array: [1 2 3 4 5]\n"
          ]
        }
      ]
    },
    {
      "cell_type": "markdown",
      "source": [
        "### `meshgrid()`\n",
        "\n",
        "Функция `np.meshgrid()` используется для создания координатной сетки."
      ],
      "metadata": {
        "id": "YOuzNl_J_hIy"
      }
    },
    {
      "cell_type": "code",
      "source": [
        "x = np.array([0, 1, 2])\n",
        "y = np.array([0, 1])\n",
        "X, Y = np.meshgrid(x, y)\n",
        "print(\"X grid:\\n\", X)\n",
        "print(\"Y grid:\\n\", Y)"
      ],
      "metadata": {
        "id": "X96UHR1Y_huO",
        "colab": {
          "base_uri": "https://localhost:8080/"
        },
        "outputId": "3fcee4dc-7549-4e92-ce8c-40c347fe3aa8"
      },
      "execution_count": null,
      "outputs": [
        {
          "output_type": "stream",
          "name": "stdout",
          "text": [
            "X grid:\n",
            " [[0 1 2]\n",
            " [0 1 2]]\n",
            "Y grid:\n",
            " [[0 0 0]\n",
            " [1 1 1]]\n"
          ]
        }
      ]
    },
    {
      "cell_type": "markdown",
      "source": [
        "### `diag()`\n",
        "\n",
        "Функция `np.diag()` возвращает диагональ массива или создает диагональный массив."
      ],
      "metadata": {
        "id": "LrImVuxH_otF"
      }
    },
    {
      "cell_type": "code",
      "source": [
        "a = np.array([[1, 2], [3, 4]])\n",
        "diag_elements = np.diag(a)\n",
        "print(\"Diagonal elements:\", diag_elements)\n",
        "\n",
        "# Создание диагонального массива\n",
        "diag_array = np.diag([1, 2, 3])\n",
        "print(\"Diagonal array:\\n\", diag_array)"
      ],
      "metadata": {
        "id": "2amF6295_pAC",
        "colab": {
          "base_uri": "https://localhost:8080/"
        },
        "outputId": "2ac9dbb2-6456-426e-f91d-8a57b3721b13"
      },
      "execution_count": null,
      "outputs": [
        {
          "output_type": "stream",
          "name": "stdout",
          "text": [
            "Diagonal elements: [1 4]\n",
            "Diagonal array:\n",
            " [[1 0 0]\n",
            " [0 2 0]\n",
            " [0 0 3]]\n"
          ]
        }
      ]
    },
    {
      "cell_type": "markdown",
      "source": [
        "\n",
        "### `trace()`\n",
        "\n",
        "Функция `np.trace()` возвращает сумму элементов по диагонали массива."
      ],
      "metadata": {
        "id": "PsTpIhnp_ua_"
      }
    },
    {
      "cell_type": "code",
      "source": [
        "a = np.array([[1, 2], [3, 4]])\n",
        "trace_value = np.trace(a)\n",
        "print(\"Trace of the array:\", trace_value)"
      ],
      "metadata": {
        "id": "wOIEWbfb-SSL",
        "colab": {
          "base_uri": "https://localhost:8080/"
        },
        "outputId": "73f4e799-1630-427b-96da-f99d03ced4ed"
      },
      "execution_count": null,
      "outputs": [
        {
          "output_type": "stream",
          "name": "stdout",
          "text": [
            "Trace of the array: 5\n"
          ]
        }
      ]
    },
    {
      "cell_type": "markdown",
      "source": [
        "## Сравнение быстродействия массивов Numpy и стандартных списков (List)"
      ],
      "metadata": {
        "id": "hpDeYaUdJMah"
      }
    },
    {
      "cell_type": "markdown",
      "source": [
        "Рассмотрим пример, который иллюстрирует разницу в производительности между массивами NumPy и стандартными списками Python при выполнении математических операций.\n",
        "\n",
        "В этом примере мы будем выполнять сложение элементов двух массивов (или списков) одинакового размера."
      ],
      "metadata": {
        "id": "tofzJM6nC2gb"
      }
    },
    {
      "cell_type": "markdown",
      "source": [
        "Для начала импортируем необходимые библиотеки и настроим параметры для сравнения."
      ],
      "metadata": {
        "id": "jxFe14apDFLc"
      }
    },
    {
      "cell_type": "code",
      "source": [
        "import numpy as np\n",
        "import time\n",
        "\n",
        "# Размер массивов или списков\n",
        "size = 1000000\n",
        "\n",
        "# Создание двух больших массивов в NumPy\n",
        "array1 = np.arange(size)\n",
        "array2 = np.arange(size)\n",
        "\n",
        "# Создание двух соответствующих списков\n",
        "list1 = list(range(size))\n",
        "list2 = list(range(size))"
      ],
      "metadata": {
        "id": "QQILlXlLDJE_"
      },
      "execution_count": null,
      "outputs": []
    },
    {
      "cell_type": "markdown",
      "source": [
        "### Сложение с использованием списков Python"
      ],
      "metadata": {
        "id": "EcHbMfM-DLHp"
      }
    },
    {
      "cell_type": "code",
      "source": [
        "start_time = time.time()  # Записываем время начала операции\n",
        "\n",
        "result_list = [x + y for x, y in zip(list1, list2)]  # Сложение списков\n",
        "\n",
        "end_time = time.time()  # Записываем время окончания операции\n",
        "print(\"Сложение с использованием списков Python заняло:\", end_time - start_time, \"секунд\")"
      ],
      "metadata": {
        "colab": {
          "base_uri": "https://localhost:8080/"
        },
        "id": "mbKyBgxJDOa1",
        "outputId": "53975706-7876-4845-8e31-06afac715103"
      },
      "execution_count": null,
      "outputs": [
        {
          "output_type": "stream",
          "name": "stdout",
          "text": [
            "Сложение с использованием списков Python заняло: 0.11276960372924805 секунд\n"
          ]
        }
      ]
    },
    {
      "cell_type": "markdown",
      "source": [
        "### Сложение с использованием массивов NumPy"
      ],
      "metadata": {
        "id": "GiHLke2cDRML"
      }
    },
    {
      "cell_type": "code",
      "source": [
        "start_time = time.time()  # Записываем время начала операции\n",
        "\n",
        "result_array = array1 + array2  # Сложение массивов NumPy\n",
        "\n",
        "end_time = time.time()  # Записываем время окончания операции\n",
        "print(\"Сложение с использованием массивов NumPy заняло:\", end_time - start_time, \"секунд\")"
      ],
      "metadata": {
        "colab": {
          "base_uri": "https://localhost:8080/"
        },
        "id": "t3J110kwDUMm",
        "outputId": "bd0663f0-b7fc-4ece-ca78-45da59b57238"
      },
      "execution_count": null,
      "outputs": [
        {
          "output_type": "stream",
          "name": "stdout",
          "text": [
            "Сложение с использованием массивов NumPy заняло: 0.016207456588745117 секунд\n"
          ]
        }
      ]
    },
    {
      "cell_type": "markdown",
      "source": [
        "### Вывод\n",
        "\n",
        "Сложение с использованием массивов NumPy выполняется гораздо быстрее, чем сложение с использованием стандартных списков Python. Это происходит из-за того, что NumPy использует оптимизированные под капотом C/C++ библиотеки для выполнения численных вычислений. Эти библиотеки могут эффективно работать с большими объемами данных, используя векторизацию и другие оптимизации."
      ],
      "metadata": {
        "id": "2igx6fw3DAYg"
      }
    },
    {
      "cell_type": "markdown",
      "source": [
        "## Cравнения скорости выполнения операций с массивами в NumPy на CPU и на GPU"
      ],
      "metadata": {
        "id": "ayWToAO_J-EA"
      }
    },
    {
      "cell_type": "markdown",
      "source": [
        "Для сравнения скорости выполнения операций с массивами в NumPy на CPU и на GPU можно использовать библиотеку `cupy`, которая представляет собой GPU-активированный эквивалент NumPy. В этом примере мы сравним скорость выполнения простой операции - умножения двух массивов - сначала с использованием NumPy на CPU, а затем с использованием CuPy на GPU.\n",
        "\n",
        "Чтобы работать с CuPy, убедитесь, что у вас установлена эта библиотека, а также что ваше оборудование и программное обеспечение поддерживают вычисления на GPU.\n",
        "\n"
      ],
      "metadata": {
        "id": "hXTkuUdoGch-"
      }
    },
    {
      "cell_type": "code",
      "source": [
        "import numpy as np\n",
        "import cupy as cp\n",
        "import time\n",
        "\n",
        "# Создаем большие массивы для наглядности разницы в скорости\n",
        "size = 10000\n",
        "np_a = np.random.rand(size, size)\n",
        "np_b = np.random.rand(size, size)\n",
        "\n",
        "# Выполнение операции умножения на CPU с использованием NumPy\n",
        "start_time = time.time()\n",
        "np_result = np.dot(np_a, np_b)\n",
        "np_time = time.time() - start_time\n",
        "print(f\"NumPy (CPU) время выполнения: {np_time:.5f} секунд\")\n",
        "\n",
        "# Преобразуем массивы NumPy в массивы CuPy для выполнения на GPU\n",
        "cp_a = cp.asarray(np_a)\n",
        "cp_b = cp.asarray(np_b)\n",
        "\n",
        "# Выполнение операции умножения на GPU с использованием CuPy\n",
        "start_time = time.time()\n",
        "cp_result = cp.dot(cp_a, cp_b)\n",
        "cp.cuda.Stream.null.synchronize()  # Дождемся завершения операции на GPU\n",
        "cp_time = time.time() - start_time\n",
        "print(f\"CuPy (GPU) время выполнения: {cp_time:.5f} секунд\")\n",
        "\n",
        "# Сравниваем время\n",
        "print(f\"Ускорение: {np_time / cp_time:.2f}x\")"
      ],
      "metadata": {
        "colab": {
          "base_uri": "https://localhost:8080/"
        },
        "id": "CBopsSpFGiHz",
        "outputId": "5bc2f4ce-120f-48e6-9442-31765b72ae9f"
      },
      "execution_count": null,
      "outputs": [
        {
          "output_type": "stream",
          "name": "stdout",
          "text": [
            "NumPy (CPU) время выполнения: 37.19858 секунд\n",
            "CuPy (GPU) время выполнения: 8.23396 секунд\n",
            "Ускорение: 4.52x\n"
          ]
        }
      ]
    },
    {
      "cell_type": "markdown",
      "source": [
        "**Обратите внимание:**\n",
        "- Размер массива (`size`) влияет на видимую разницу в скорости. Для очень маленьких массивов использование GPU может быть не оправдано из-за накладных расходов на передачу данных между CPU и GPU.\n",
        "- `cp.cuda.Stream.null.synchronize()` используется для синхронизации, чтобы убедиться, что GPU завершил вычисления перед замером времени. Это важно, так как операции на GPU выполняются асинхронно.\n",
        "- Реальное ускорение может зависеть от спецификаций вашего оборудования, включая производительность CPU и GPU, а также от размера и типа выполняемых вычислений.\n"
      ],
      "metadata": {
        "id": "11eWyzhjGo1j"
      }
    },
    {
      "cell_type": "markdown",
      "source": [
        "# Декораторы\n",
        "\n"
      ],
      "metadata": {
        "id": "fkyXzFZv5HWW"
      }
    },
    {
      "cell_type": "markdown",
      "source": [
        "**Декоратор в Python** — это функция, которая позволяет добавить новую функциональность к существующей функции или методу без изменения их кода. Декораторы оборачивают другую функцию, позволяя выполнить код до и после обёрнутой функции, тем самым расширяя её поведение.\n",
        "\n",
        "Для измерения времени работы функции в Python можно использовать декоратор.\n",
        "\n",
        "Вот пример такого декоратора:"
      ],
      "metadata": {
        "id": "qwGCIp7U5hJO"
      }
    },
    {
      "cell_type": "code",
      "source": [
        "import time\n",
        "\n",
        "def timeit(func):\n",
        "    def wrapper(*args, **kwargs):\n",
        "        start_time = time.time()\n",
        "        result = func(*args, **kwargs)\n",
        "        end_time = time.time()\n",
        "        print(f\"Функция {func.__name__!r} выполнилась за {end_time - start_time:.4f} сек.\")\n",
        "        return result\n",
        "    return wrapper\n",
        "\n",
        "@timeit\n",
        "def example_function(n):\n",
        "    sum = 0\n",
        "    for i in range(n):\n",
        "        sum += i\n",
        "    return sum\n",
        "\n",
        "# Пример использования\n",
        "print(example_function(1000000))"
      ],
      "metadata": {
        "colab": {
          "base_uri": "https://localhost:8080/"
        },
        "id": "LE0fkH9G5bK6",
        "outputId": "2b9b52e8-25f1-4592-c73e-3d5cb9d1ffc6"
      },
      "execution_count": null,
      "outputs": [
        {
          "output_type": "stream",
          "name": "stdout",
          "text": [
            "Функция 'example_function' выполнилась за 0.0803 сек.\n",
            "499999500000\n"
          ]
        }
      ]
    },
    {
      "cell_type": "markdown",
      "source": [
        "В этом примере `timeit` — это декоратор, который можно применять к любой функции для автоматического измерения и вывода времени её выполнения. Функция `example_function` просто суммирует числа от 0 до `n-1` и использует наш декоратор, чтобы показать, сколько времени займёт её выполнение."
      ],
      "metadata": {
        "id": "kHuppWR15aPj"
      }
    },
    {
      "cell_type": "markdown",
      "source": [
        "# Реализация класса VectorNormCalculator"
      ],
      "metadata": {
        "id": "IOhvoxp4VtBL"
      }
    },
    {
      "cell_type": "markdown",
      "source": [
        "В качестве примера, рассмотрим задачу вычисления нормы вектора.\n",
        "\n",
        "Норма вектора — это мера его \"длины\", и существует несколько разных типов норм."
      ],
      "metadata": {
        "id": "gG4uRdqnVxg5"
      }
    },
    {
      "cell_type": "markdown",
      "source": [
        "Формулы для различных типов норм вектора выглядят следующим образом:\n",
        "\n",
        "### 1. L1 Норма (Манхэттенская норма)\n",
        "\n",
        "L1 норма вектора $\\mathbf{x} = [x_1, x_2, ..., x_n]$ определяется как сумма абсолютных значений его элементов:\n",
        "\n",
        "$\n",
        "\\|\\mathbf{x}\\|_1 = \\sum_{i=1}^{n} |x_i|\n",
        "$"
      ],
      "metadata": {
        "id": "wn_0mFmhWSGx"
      }
    },
    {
      "cell_type": "markdown",
      "source": [
        "### 2. L2 Норма (Евклидова норма)\n",
        "\n",
        "L2 норма вектора $\\mathbf{x} = [x_1, x_2, ..., x_n]$ вычисляется как квадратный корень из суммы квадратов его элементов:\n",
        "\n",
        "$\n",
        "\\|\\mathbf{x}\\|_2 = \\sqrt{\\sum_{i=1}^{n} x_i^2}\n",
        "$\n"
      ],
      "metadata": {
        "id": "zzcZhT95WhSF"
      }
    },
    {
      "cell_type": "markdown",
      "source": [
        "### 3. Максимальная норма (Бесконечная норма)\n",
        "\n",
        "Максимальная норма вектора $\\mathbf{x} = [x_1, x_2, ..., x_n]$ определяется как максимальное абсолютное значение его элементов:\n",
        "\n",
        "$\n",
        "\\|\\mathbf{x}\\|_{\\infty} = \\max_{i} |x_i|\n",
        "$"
      ],
      "metadata": {
        "id": "Mq208CEOWj3g"
      }
    },
    {
      "cell_type": "markdown",
      "source": [
        "> Эти формулы используются для различных приложений в математике, физике, инженерии и многих других областях, где требуется измерить \"размер\" или \"длину\" вектора в соответствующем векторном пространстве."
      ],
      "metadata": {
        "id": "ZAMcEAGYWs2P"
      }
    },
    {
      "cell_type": "code",
      "source": [
        "import numpy as np\n",
        "import math\n",
        "\n",
        "class VectorNormCalculator:\n",
        "    def __init__(self, vector):\n",
        "        self.vector = np.array(vector)\n",
        "\n",
        "    def l2_norm(self):\n",
        "        \"\"\"\n",
        "        Вычисление евклидовой (L2) нормы вектора.\n",
        "        \"\"\"\n",
        "        square_sum = np.sum(self.vector ** 2)\n",
        "        return math.sqrt(square_sum)\n",
        "\n",
        "    def l1_norm(self):\n",
        "        \"\"\"\n",
        "        Вычисление манхэттенской (L1) нормы вектора.\n",
        "        \"\"\"\n",
        "        return np.sum(np.abs(self.vector))\n",
        "\n",
        "    def max_norm(self):\n",
        "        \"\"\"\n",
        "        Вычисление максимальной (бесконечной) нормы вектора.\n",
        "        \"\"\"\n",
        "        return np.max(np.abs(self.vector))"
      ],
      "metadata": {
        "id": "h7xqxZUATawA"
      },
      "execution_count": null,
      "outputs": []
    },
    {
      "cell_type": "code",
      "source": [
        "# Пример использования:\n",
        "vector = [3, 4]\n",
        "calculator = VectorNormCalculator(vector)\n",
        "\n",
        "print(\"L2 норма:\", calculator.l2_norm())  # Должно быть 5.0, так как это длина вектора [3, 4]\n",
        "print(\"L1 норма:\", calculator.l1_norm())  # Должно быть 7, так как это сумма модулей [3 + 4]\n",
        "print(\"Максимальная норма:\", calculator.max_norm())  # Должно быть 4, так как это максимальный элемент [3, 4]"
      ],
      "metadata": {
        "colab": {
          "base_uri": "https://localhost:8080/"
        },
        "id": "qCNcFkGP4bmR",
        "outputId": "ef1eb34e-b14a-4666-d429-9f267c6c0484"
      },
      "execution_count": null,
      "outputs": [
        {
          "output_type": "stream",
          "name": "stdout",
          "text": [
            "L2 норма: 5.0\n",
            "L1 норма: 7\n",
            "Максимальная норма: 4\n"
          ]
        }
      ]
    },
    {
      "cell_type": "markdown",
      "source": [
        "В этом примере:\n",
        "- Создается класс `VectorNormCalculator`, который принимает вектор в качестве входных данных.\n",
        "- В классе определены три метода для вычисления различных видов норм: евклидовой (`l2_norm`), манхэттенской (`l1_norm`) и максимальной (`max_norm`).\n",
        "- Для вычислений используются функции из библиотеки `numpy`, а также функция `math.sqrt` для извлечения квадратного корня.\n",
        "- Создается экземпляр класса `VectorNormCalculator` и вызываются написанные методы для вычисления норм вектора.\n"
      ],
      "metadata": {
        "id": "NkRhIcpf4qu6"
      }
    }
  ]
}