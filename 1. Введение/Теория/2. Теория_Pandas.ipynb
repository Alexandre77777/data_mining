{
  "cells": [
    {
      "cell_type": "markdown",
      "metadata": {
        "id": "view-in-github",
        "colab_type": "text"
      },
      "source": [
        "<a href=\"https://colab.research.google.com/github/Alexandre77777/data_mining/blob/main/1.%20%D0%92%D0%B2%D0%B5%D0%B4%D0%B5%D0%BD%D0%B8%D0%B5/%D0%A2%D0%B5%D0%BE%D1%80%D0%B8%D1%8F/2.%20%D0%A2%D0%B5%D0%BE%D1%80%D0%B8%D1%8F_Pandas.ipynb\" target=\"_parent\"><img src=\"https://colab.research.google.com/assets/colab-badge.svg\" alt=\"Open In Colab\"/></a>"
      ]
    },
    {
      "cell_type": "markdown",
      "metadata": {
        "id": "QoIlbC1BfVNv"
      },
      "source": [
        "# Pandas\n",
        "\n",
        "![](http://s2.thingpic.com/images/Zb/gkvPaVadpAB7EGsnJWg28bay.jpeg)\n",
        "\n",
        "Это библиотека для анализа данных. С помощью неё можно загружать, обрабатывать и анализировать табличные данные, загружая их из csv, из БД sql и так далее, даже из mongoDB.\n",
        "\n",
        "## Литература\n",
        "\n",
        "- [Шпаргалка по pandas](https://github.com/pandas-dev/pandas/blob/master/doc/cheatsheet/Pandas_Cheat_Sheet.pdf)\n",
        "- [10 Minutes to pandas](http://pandas.pydata.org/pandas-docs/stable/10min.html)\n",
        "- [Pandas cookbook](http://pandas.pydata.org/pandas-docs/stable/cookbook.html#cookbook)\n",
        "- [Индексация в pandas](https://pandas.pydata.org/pandas-docs/stable/indexing.html)\n",
        "- [Работа с пропусками в pandas](https://pandas.pydata.org/pandas-docs/stable/missing_data.html)"
      ]
    },
    {
      "cell_type": "code",
      "execution_count": null,
      "metadata": {
        "id": "kcdG_Ti8fVNx"
      },
      "outputs": [],
      "source": [
        "import pandas as pd\n",
        "import numpy as np"
      ]
    },
    {
      "cell_type": "markdown",
      "metadata": {
        "id": "QpaSa_9IfVNy"
      },
      "source": [
        "Основными структурами данных в Pandas являются классы Series и DataFrame:\n",
        "- Series одномерный индексированный массив данных некоторого фиксированного типа.\n",
        "- DataFrame - двухмерная структура данных, представляющая собой таблицу, каждый столбец которой содержит данные одного типа. То есть это набор Series с именами.\n",
        "\n",
        "Внутри себя pandas использует библиотеку numpy, поэтому обычно их используют сразу и вместе. Многие функции, знакомые нам с numpy тут работают.\n",
        "\n",
        "Рассмотрим по отдельности Series и Dataframe"
      ]
    },
    {
      "cell_type": "markdown",
      "metadata": {
        "id": "-tG6RHMQfVNy"
      },
      "source": [
        "## Series"
      ]
    },
    {
      "cell_type": "code",
      "execution_count": null,
      "metadata": {
        "id": "lJXRSobDfVNy"
      },
      "outputs": [],
      "source": [
        "?pd.Series"
      ]
    },
    {
      "cell_type": "code",
      "execution_count": null,
      "metadata": {
        "id": "vyRGdMDmfVNz",
        "outputId": "5346a4cf-07a1-4af6-b87f-4c59877127d3"
      },
      "outputs": [
        {
          "data": {
            "text/plain": [
              "0    3.0\n",
              "1    5.0\n",
              "2    1.0\n",
              "3    7.0\n",
              "4    NaN\n",
              "5    5.0\n",
              "dtype: float64"
            ]
          },
          "execution_count": 3,
          "metadata": {},
          "output_type": "execute_result"
        }
      ],
      "source": [
        "# Series состоящий из чисел, кстати можно хранить numpy NaN\n",
        "\n",
        "s=pd.Series([3,5,1,7,np.nan, 5])\n",
        "s"
      ]
    },
    {
      "cell_type": "code",
      "execution_count": null,
      "metadata": {
        "id": "o7-L5jgZfVN0",
        "outputId": "70481bb8-9a66-4fae-fd81-d008f3498c22"
      },
      "outputs": [
        {
          "data": {
            "text/plain": [
              "(7.0, nan)"
            ]
          },
          "execution_count": 4,
          "metadata": {},
          "output_type": "execute_result"
        }
      ],
      "source": [
        "s[3], s[4]  # доступна индексация"
      ]
    },
    {
      "cell_type": "code",
      "execution_count": null,
      "metadata": {
        "id": "Mu7pSDyQfVN0",
        "outputId": "34776986-e1b0-4559-8f26-ac4e2c05c9a1"
      },
      "outputs": [
        {
          "data": {
            "text/plain": [
              "A    0\n",
              "B    1\n",
              "C    2\n",
              "D    3\n",
              "E    4\n",
              "dtype: int64"
            ]
          },
          "execution_count": 5,
          "metadata": {},
          "output_type": "execute_result"
        }
      ],
      "source": [
        "# Ключами могут быть не только числа, но и строки\n",
        "\n",
        "s = pd.Series(np.arange(5), index=list('ABCDE'))\n",
        "s"
      ]
    },
    {
      "cell_type": "code",
      "execution_count": null,
      "metadata": {
        "id": "mM8PVYYefVN0",
        "outputId": "e663890d-083a-4371-aa78-963e5dbc0b7a"
      },
      "outputs": [
        {
          "data": {
            "text/plain": [
              "(0, 4)"
            ]
          },
          "execution_count": 6,
          "metadata": {},
          "output_type": "execute_result"
        }
      ],
      "source": [
        "s['A'], s['E']"
      ]
    },
    {
      "cell_type": "code",
      "execution_count": null,
      "metadata": {
        "id": "VigODv-dfVN1",
        "outputId": "3aa8a140-54a9-4339-9e9f-dabc56c5e5a5"
      },
      "outputs": [
        {
          "data": {
            "text/plain": [
              "D    3\n",
              "E    4\n",
              "dtype: int64"
            ]
          },
          "execution_count": 7,
          "metadata": {},
          "output_type": "execute_result"
        }
      ],
      "source": [
        "# Точно так же как и numpy pandas поддерживает логическое индексирование(маски)\n",
        "\n",
        "s[s > 2]"
      ]
    },
    {
      "cell_type": "code",
      "execution_count": null,
      "metadata": {
        "id": "wXGzYY2pfVN1",
        "outputId": "273a2810-70e2-467e-ade2-efde088172e6"
      },
      "outputs": [
        {
          "data": {
            "text/plain": [
              "A    0\n",
              "B    1\n",
              "dtype: int64"
            ]
          },
          "execution_count": 8,
          "metadata": {},
          "output_type": "execute_result"
        }
      ],
      "source": [
        "s[:2] # можно даже применять обычное индексирование, если ваши индексы это строки"
      ]
    },
    {
      "cell_type": "code",
      "execution_count": null,
      "metadata": {
        "id": "oMGGVr5ZfVN1",
        "outputId": "bdbb7286-7efa-4b70-d4c7-352cedf0018a"
      },
      "outputs": [
        {
          "data": {
            "text/plain": [
              "A     1.000000\n",
              "B     2.718282\n",
              "C     7.389056\n",
              "D    20.085537\n",
              "E    54.598150\n",
              "dtype: float64"
            ]
          },
          "execution_count": 9,
          "metadata": {},
          "output_type": "execute_result"
        }
      ],
      "source": [
        "# Над Series можно выполнять функции из numpy!\n",
        "np.exp(s)"
      ]
    },
    {
      "cell_type": "code",
      "execution_count": null,
      "metadata": {
        "id": "nNRcqP3rfVN2",
        "outputId": "3ac96639-c9c1-4821-ff9b-762b33064762"
      },
      "outputs": [
        {
          "name": "stdout",
          "output_type": "stream",
          "text": [
            "0\n",
            "2\n",
            "4\n",
            "6\n",
            "8\n"
          ]
        },
        {
          "data": {
            "text/plain": [
              "A    None\n",
              "B    None\n",
              "C    None\n",
              "D    None\n",
              "E    None\n",
              "dtype: object"
            ]
          },
          "execution_count": 14,
          "metadata": {},
          "output_type": "execute_result"
        }
      ],
      "source": [
        "s.apply(lambda el: print(el * 2))"
      ]
    },
    {
      "cell_type": "code",
      "execution_count": null,
      "metadata": {
        "id": "JM7fSThUfVN2",
        "outputId": "211a6264-81a3-49ed-8e31-4b9f15a80c75"
      },
      "outputs": [
        {
          "data": {
            "text/plain": [
              "'E'"
            ]
          },
          "execution_count": 18,
          "metadata": {},
          "output_type": "execute_result"
        }
      ],
      "source": [
        "# можно как и в np.argmax вызвать idxmax, то есть idx максимального эжлемента\n",
        "s.idxmax()"
      ]
    },
    {
      "cell_type": "markdown",
      "metadata": {
        "id": "Ea00CdjffVN2"
      },
      "source": [
        "## DataFrame\n",
        "\n",
        "Из документации:\n",
        "\n",
        "DataFrame is a 2-dimensional labeled data structure with columns of potentially different types. You can think of it like a spreadsheet or SQL table, or a dict of Series objects. It is generally the most commonly used pandas object. Like Series, DataFrame accepts many different kinds of input:\n",
        "\n",
        "- Dict of 1D ndarrays, lists, dicts, or Series\n",
        "- 2-D numpy.ndarray\n",
        "- Structured or record ndarray\n",
        "- A Series\n",
        "- Another DataFrame"
      ]
    },
    {
      "cell_type": "code",
      "execution_count": null,
      "metadata": {
        "id": "nVnm-jh_fVN3"
      },
      "outputs": [],
      "source": [
        "# посмотриеть документацию\n",
        "?pd.DataFrame"
      ]
    },
    {
      "cell_type": "code",
      "execution_count": null,
      "metadata": {
        "id": "seGUHCkifVN3",
        "outputId": "48f2cfda-622f-4705-e14a-4a8169166986"
      },
      "outputs": [
        {
          "data": {
            "text/html": [
              "<div>\n",
              "<style scoped>\n",
              "    .dataframe tbody tr th:only-of-type {\n",
              "        vertical-align: middle;\n",
              "    }\n",
              "\n",
              "    .dataframe tbody tr th {\n",
              "        vertical-align: top;\n",
              "    }\n",
              "\n",
              "    .dataframe thead th {\n",
              "        text-align: right;\n",
              "    }\n",
              "</style>\n",
              "<table border=\"1\" class=\"dataframe\">\n",
              "  <thead>\n",
              "    <tr style=\"text-align: right;\">\n",
              "      <th></th>\n",
              "      <th>a</th>\n",
              "      <th>b</th>\n",
              "      <th>c</th>\n",
              "    </tr>\n",
              "  </thead>\n",
              "  <tbody>\n",
              "    <tr>\n",
              "      <th>0</th>\n",
              "      <td>0.006279</td>\n",
              "      <td>h</td>\n",
              "      <td>0.00</td>\n",
              "    </tr>\n",
              "    <tr>\n",
              "      <th>1</th>\n",
              "      <td>0.428426</td>\n",
              "      <td>e</td>\n",
              "      <td>0.25</td>\n",
              "    </tr>\n",
              "    <tr>\n",
              "      <th>2</th>\n",
              "      <td>0.986067</td>\n",
              "      <td>l</td>\n",
              "      <td>0.50</td>\n",
              "    </tr>\n",
              "    <tr>\n",
              "      <th>3</th>\n",
              "      <td>0.585941</td>\n",
              "      <td>l</td>\n",
              "      <td>0.75</td>\n",
              "    </tr>\n",
              "    <tr>\n",
              "      <th>4</th>\n",
              "      <td>0.716371</td>\n",
              "      <td>o</td>\n",
              "      <td>1.00</td>\n",
              "    </tr>\n",
              "  </tbody>\n",
              "</table>\n",
              "</div>"
            ],
            "text/plain": [
              "          a  b     c\n",
              "0  0.006279  h  0.00\n",
              "1  0.428426  e  0.25\n",
              "2  0.986067  l  0.50\n",
              "3  0.585941  l  0.75\n",
              "4  0.716371  o  1.00"
            ]
          },
          "execution_count": 20,
          "metadata": {},
          "output_type": "execute_result"
        }
      ],
      "source": [
        "# Создать таблицу (DataFrame) можно в лоб - просто перевести словарь в таблицу\n",
        "\n",
        "df = pd.DataFrame({'a': np.random.rand(5),\n",
        "              'b': list('hello'),\n",
        "              'c': np.linspace(0,1,5)})\n",
        "df # если вы заканчиваете ячейку датафреймом, то jupyter красиво нарисует таблицу."
      ]
    },
    {
      "cell_type": "code",
      "execution_count": null,
      "metadata": {
        "id": "k3xOakzbfVN3",
        "outputId": "6aca9e60-8bbd-4945-a886-e20b0bd1e78e"
      },
      "outputs": [
        {
          "data": {
            "text/plain": [
              "DatetimeIndex(['2017-01-01', '2017-01-02', '2017-01-03', '2017-01-04',\n",
              "               '2017-01-05', '2017-01-06', '2017-01-07', '2017-01-08',\n",
              "               '2017-01-09', '2017-01-10', '2017-01-11', '2017-01-12'],\n",
              "              dtype='datetime64[ns]', freq='D')"
            ]
          },
          "execution_count": 21,
          "metadata": {},
          "output_type": "execute_result"
        }
      ],
      "source": [
        "# можно построить таблицу на основе numpy матрицы\n",
        "\n",
        "indexes = pd.date_range('20170101', periods=12)  # создадим timeseries индексы!\n",
        "indexes"
      ]
    },
    {
      "cell_type": "code",
      "execution_count": null,
      "metadata": {
        "id": "O0xxrIGDfVN4",
        "outputId": "72859e97-6803-4c8b-9f35-92a7858c3459"
      },
      "outputs": [
        {
          "data": {
            "text/plain": [
              "array([[ 2.30198401, -2.10364641,  0.40663484,  0.52151487,  0.20080327],\n",
              "       [-1.26447807,  0.75777624, -0.76835757, -0.39294094,  0.19080712],\n",
              "       [ 0.32195563, -0.52041761,  0.51385845, -0.62617133, -0.43826048],\n",
              "       [ 0.72862255,  2.21299952,  0.94205877,  0.0084968 ,  0.52110007],\n",
              "       [-0.36588487, -0.66180511, -2.47491608, -1.31479741, -0.28757812],\n",
              "       [ 0.1366666 ,  0.37306903, -0.15028452,  0.5268176 ,  1.24718794],\n",
              "       [-1.4000858 ,  0.19827366, -0.12825956, -0.6144627 , -1.17889357],\n",
              "       [-1.14248694,  2.38675205, -0.10842781, -0.4248635 , -0.8033278 ],\n",
              "       [-0.48103018,  0.12075304, -0.65998439, -1.66705718,  1.04871046],\n",
              "       [-0.4274757 ,  0.11373356,  1.3734558 , -1.98907071, -0.0191322 ],\n",
              "       [-0.96585865,  0.17388113,  0.95864716, -0.56364196,  0.06067572],\n",
              "       [-1.01777581, -0.16357346, -0.44798704, -0.12390834, -0.38632803]])"
            ]
          },
          "execution_count": 22,
          "metadata": {},
          "output_type": "execute_result"
        }
      ],
      "source": [
        "matrix = np.random.randn(12, 5)  # матрица с данными!\n",
        "matrix"
      ]
    },
    {
      "cell_type": "code",
      "execution_count": null,
      "metadata": {
        "id": "-RVEvK1NfVN4",
        "outputId": "cb99a746-3855-415c-b1bb-b040c9e58a79"
      },
      "outputs": [
        {
          "data": {
            "text/html": [
              "<div>\n",
              "<style scoped>\n",
              "    .dataframe tbody tr th:only-of-type {\n",
              "        vertical-align: middle;\n",
              "    }\n",
              "\n",
              "    .dataframe tbody tr th {\n",
              "        vertical-align: top;\n",
              "    }\n",
              "\n",
              "    .dataframe thead th {\n",
              "        text-align: right;\n",
              "    }\n",
              "</style>\n",
              "<table border=\"1\" class=\"dataframe\">\n",
              "  <thead>\n",
              "    <tr style=\"text-align: right;\">\n",
              "      <th></th>\n",
              "      <th>a1</th>\n",
              "      <th>a2</th>\n",
              "      <th>a3</th>\n",
              "      <th>a4</th>\n",
              "      <th>a5</th>\n",
              "    </tr>\n",
              "  </thead>\n",
              "  <tbody>\n",
              "    <tr>\n",
              "      <th>2017-01-01</th>\n",
              "      <td>2.301984</td>\n",
              "      <td>-2.103646</td>\n",
              "      <td>0.406635</td>\n",
              "      <td>0.521515</td>\n",
              "      <td>0.200803</td>\n",
              "    </tr>\n",
              "    <tr>\n",
              "      <th>2017-01-02</th>\n",
              "      <td>-1.264478</td>\n",
              "      <td>0.757776</td>\n",
              "      <td>-0.768358</td>\n",
              "      <td>-0.392941</td>\n",
              "      <td>0.190807</td>\n",
              "    </tr>\n",
              "    <tr>\n",
              "      <th>2017-01-03</th>\n",
              "      <td>0.321956</td>\n",
              "      <td>-0.520418</td>\n",
              "      <td>0.513858</td>\n",
              "      <td>-0.626171</td>\n",
              "      <td>-0.438260</td>\n",
              "    </tr>\n",
              "    <tr>\n",
              "      <th>2017-01-04</th>\n",
              "      <td>0.728623</td>\n",
              "      <td>2.213000</td>\n",
              "      <td>0.942059</td>\n",
              "      <td>0.008497</td>\n",
              "      <td>0.521100</td>\n",
              "    </tr>\n",
              "    <tr>\n",
              "      <th>2017-01-05</th>\n",
              "      <td>-0.365885</td>\n",
              "      <td>-0.661805</td>\n",
              "      <td>-2.474916</td>\n",
              "      <td>-1.314797</td>\n",
              "      <td>-0.287578</td>\n",
              "    </tr>\n",
              "  </tbody>\n",
              "</table>\n",
              "</div>"
            ],
            "text/plain": [
              "                  a1        a2        a3        a4        a5\n",
              "2017-01-01  2.301984 -2.103646  0.406635  0.521515  0.200803\n",
              "2017-01-02 -1.264478  0.757776 -0.768358 -0.392941  0.190807\n",
              "2017-01-03  0.321956 -0.520418  0.513858 -0.626171 -0.438260\n",
              "2017-01-04  0.728623  2.213000  0.942059  0.008497  0.521100\n",
              "2017-01-05 -0.365885 -0.661805 -2.474916 -1.314797 -0.287578"
            ]
          },
          "execution_count": 23,
          "metadata": {},
          "output_type": "execute_result"
        }
      ],
      "source": [
        "df = pd.DataFrame(data=matrix, index=indexes, columns=['a1', 'a2', 'a3', 'a4', 'a5'])\n",
        "df.head(5)  # покажем только первые 5 элементов таблицы"
      ]
    },
    {
      "cell_type": "markdown",
      "metadata": {
        "id": "WuLcPZByfVN4"
      },
      "source": [
        "### Индексация, селекция и поиск в DataFrame\n",
        "\n",
        "https://pandas.pydata.org/pandas-docs/stable/indexing.html\n",
        "\n",
        "Всё точно так же как и в numpy. То есть мы можем выбрать только те строки, для которых выполняется условие по одной из колонок."
      ]
    },
    {
      "cell_type": "code",
      "execution_count": null,
      "metadata": {
        "id": "SKrwQ0nVfVN4",
        "outputId": "e40c85fd-d9de-4f9d-9217-e8b6921ba83e"
      },
      "outputs": [
        {
          "data": {
            "text/html": [
              "<div>\n",
              "<style scoped>\n",
              "    .dataframe tbody tr th:only-of-type {\n",
              "        vertical-align: middle;\n",
              "    }\n",
              "\n",
              "    .dataframe tbody tr th {\n",
              "        vertical-align: top;\n",
              "    }\n",
              "\n",
              "    .dataframe thead th {\n",
              "        text-align: right;\n",
              "    }\n",
              "</style>\n",
              "<table border=\"1\" class=\"dataframe\">\n",
              "  <thead>\n",
              "    <tr style=\"text-align: right;\">\n",
              "      <th></th>\n",
              "      <th>a1</th>\n",
              "      <th>a2</th>\n",
              "      <th>a3</th>\n",
              "      <th>a4</th>\n",
              "      <th>a5</th>\n",
              "    </tr>\n",
              "  </thead>\n",
              "  <tbody>\n",
              "    <tr>\n",
              "      <th>2017-01-01</th>\n",
              "      <td>2.301984</td>\n",
              "      <td>-2.103646</td>\n",
              "      <td>0.406635</td>\n",
              "      <td>0.521515</td>\n",
              "      <td>0.200803</td>\n",
              "    </tr>\n",
              "    <tr>\n",
              "      <th>2017-01-03</th>\n",
              "      <td>0.321956</td>\n",
              "      <td>-0.520418</td>\n",
              "      <td>0.513858</td>\n",
              "      <td>-0.626171</td>\n",
              "      <td>-0.438260</td>\n",
              "    </tr>\n",
              "    <tr>\n",
              "      <th>2017-01-04</th>\n",
              "      <td>0.728623</td>\n",
              "      <td>2.213000</td>\n",
              "      <td>0.942059</td>\n",
              "      <td>0.008497</td>\n",
              "      <td>0.521100</td>\n",
              "    </tr>\n",
              "    <tr>\n",
              "      <th>2017-01-06</th>\n",
              "      <td>0.136667</td>\n",
              "      <td>0.373069</td>\n",
              "      <td>-0.150285</td>\n",
              "      <td>0.526818</td>\n",
              "      <td>1.247188</td>\n",
              "    </tr>\n",
              "  </tbody>\n",
              "</table>\n",
              "</div>"
            ],
            "text/plain": [
              "                  a1        a2        a3        a4        a5\n",
              "2017-01-01  2.301984 -2.103646  0.406635  0.521515  0.200803\n",
              "2017-01-03  0.321956 -0.520418  0.513858 -0.626171 -0.438260\n",
              "2017-01-04  0.728623  2.213000  0.942059  0.008497  0.521100\n",
              "2017-01-06  0.136667  0.373069 -0.150285  0.526818  1.247188"
            ]
          },
          "execution_count": 24,
          "metadata": {},
          "output_type": "execute_result"
        }
      ],
      "source": [
        "df[df['a1'] > 0]"
      ]
    },
    {
      "cell_type": "code",
      "execution_count": null,
      "metadata": {
        "id": "eox-LLMOfVN4",
        "outputId": "eddad97d-1526-4e2f-bf00-080ac5889dc6"
      },
      "outputs": [
        {
          "data": {
            "text/html": [
              "<div>\n",
              "<style scoped>\n",
              "    .dataframe tbody tr th:only-of-type {\n",
              "        vertical-align: middle;\n",
              "    }\n",
              "\n",
              "    .dataframe tbody tr th {\n",
              "        vertical-align: top;\n",
              "    }\n",
              "\n",
              "    .dataframe thead th {\n",
              "        text-align: right;\n",
              "    }\n",
              "</style>\n",
              "<table border=\"1\" class=\"dataframe\">\n",
              "  <thead>\n",
              "    <tr style=\"text-align: right;\">\n",
              "      <th></th>\n",
              "      <th>a1</th>\n",
              "      <th>a2</th>\n",
              "      <th>a3</th>\n",
              "      <th>a4</th>\n",
              "      <th>a5</th>\n",
              "    </tr>\n",
              "  </thead>\n",
              "  <tbody>\n",
              "    <tr>\n",
              "      <th>2017-01-07</th>\n",
              "      <td>-1.400086</td>\n",
              "      <td>0.198274</td>\n",
              "      <td>-0.128260</td>\n",
              "      <td>-0.614463</td>\n",
              "      <td>-1.178894</td>\n",
              "    </tr>\n",
              "    <tr>\n",
              "      <th>2017-01-08</th>\n",
              "      <td>-1.142487</td>\n",
              "      <td>2.386752</td>\n",
              "      <td>-0.108428</td>\n",
              "      <td>-0.424863</td>\n",
              "      <td>-0.803328</td>\n",
              "    </tr>\n",
              "    <tr>\n",
              "      <th>2017-01-03</th>\n",
              "      <td>0.321956</td>\n",
              "      <td>-0.520418</td>\n",
              "      <td>0.513858</td>\n",
              "      <td>-0.626171</td>\n",
              "      <td>-0.438260</td>\n",
              "    </tr>\n",
              "    <tr>\n",
              "      <th>2017-01-12</th>\n",
              "      <td>-1.017776</td>\n",
              "      <td>-0.163573</td>\n",
              "      <td>-0.447987</td>\n",
              "      <td>-0.123908</td>\n",
              "      <td>-0.386328</td>\n",
              "    </tr>\n",
              "    <tr>\n",
              "      <th>2017-01-05</th>\n",
              "      <td>-0.365885</td>\n",
              "      <td>-0.661805</td>\n",
              "      <td>-2.474916</td>\n",
              "      <td>-1.314797</td>\n",
              "      <td>-0.287578</td>\n",
              "    </tr>\n",
              "    <tr>\n",
              "      <th>2017-01-10</th>\n",
              "      <td>-0.427476</td>\n",
              "      <td>0.113734</td>\n",
              "      <td>1.373456</td>\n",
              "      <td>-1.989071</td>\n",
              "      <td>-0.019132</td>\n",
              "    </tr>\n",
              "    <tr>\n",
              "      <th>2017-01-11</th>\n",
              "      <td>-0.965859</td>\n",
              "      <td>0.173881</td>\n",
              "      <td>0.958647</td>\n",
              "      <td>-0.563642</td>\n",
              "      <td>0.060676</td>\n",
              "    </tr>\n",
              "    <tr>\n",
              "      <th>2017-01-02</th>\n",
              "      <td>-1.264478</td>\n",
              "      <td>0.757776</td>\n",
              "      <td>-0.768358</td>\n",
              "      <td>-0.392941</td>\n",
              "      <td>0.190807</td>\n",
              "    </tr>\n",
              "    <tr>\n",
              "      <th>2017-01-01</th>\n",
              "      <td>2.301984</td>\n",
              "      <td>-2.103646</td>\n",
              "      <td>0.406635</td>\n",
              "      <td>0.521515</td>\n",
              "      <td>0.200803</td>\n",
              "    </tr>\n",
              "    <tr>\n",
              "      <th>2017-01-04</th>\n",
              "      <td>0.728623</td>\n",
              "      <td>2.213000</td>\n",
              "      <td>0.942059</td>\n",
              "      <td>0.008497</td>\n",
              "      <td>0.521100</td>\n",
              "    </tr>\n",
              "    <tr>\n",
              "      <th>2017-01-09</th>\n",
              "      <td>-0.481030</td>\n",
              "      <td>0.120753</td>\n",
              "      <td>-0.659984</td>\n",
              "      <td>-1.667057</td>\n",
              "      <td>1.048710</td>\n",
              "    </tr>\n",
              "    <tr>\n",
              "      <th>2017-01-06</th>\n",
              "      <td>0.136667</td>\n",
              "      <td>0.373069</td>\n",
              "      <td>-0.150285</td>\n",
              "      <td>0.526818</td>\n",
              "      <td>1.247188</td>\n",
              "    </tr>\n",
              "  </tbody>\n",
              "</table>\n",
              "</div>"
            ],
            "text/plain": [
              "                  a1        a2        a3        a4        a5\n",
              "2017-01-07 -1.400086  0.198274 -0.128260 -0.614463 -1.178894\n",
              "2017-01-08 -1.142487  2.386752 -0.108428 -0.424863 -0.803328\n",
              "2017-01-03  0.321956 -0.520418  0.513858 -0.626171 -0.438260\n",
              "2017-01-12 -1.017776 -0.163573 -0.447987 -0.123908 -0.386328\n",
              "2017-01-05 -0.365885 -0.661805 -2.474916 -1.314797 -0.287578\n",
              "2017-01-10 -0.427476  0.113734  1.373456 -1.989071 -0.019132\n",
              "2017-01-11 -0.965859  0.173881  0.958647 -0.563642  0.060676\n",
              "2017-01-02 -1.264478  0.757776 -0.768358 -0.392941  0.190807\n",
              "2017-01-01  2.301984 -2.103646  0.406635  0.521515  0.200803\n",
              "2017-01-04  0.728623  2.213000  0.942059  0.008497  0.521100\n",
              "2017-01-09 -0.481030  0.120753 -0.659984 -1.667057  1.048710\n",
              "2017-01-06  0.136667  0.373069 -0.150285  0.526818  1.247188"
            ]
          },
          "execution_count": 25,
          "metadata": {},
          "output_type": "execute_result"
        }
      ],
      "source": [
        "df.sort_values(by=['a5', 'a4'])  # можно упорядочить строки таблицы по определенной колонке"
      ]
    },
    {
      "cell_type": "code",
      "execution_count": null,
      "metadata": {
        "id": "wMYquyW1fVN5",
        "outputId": "eb307434-d9bb-41ee-d906-44401a4b24c5"
      },
      "outputs": [
        {
          "data": {
            "text/html": [
              "<div>\n",
              "<style scoped>\n",
              "    .dataframe tbody tr th:only-of-type {\n",
              "        vertical-align: middle;\n",
              "    }\n",
              "\n",
              "    .dataframe tbody tr th {\n",
              "        vertical-align: top;\n",
              "    }\n",
              "\n",
              "    .dataframe thead th {\n",
              "        text-align: right;\n",
              "    }\n",
              "</style>\n",
              "<table border=\"1\" class=\"dataframe\">\n",
              "  <thead>\n",
              "    <tr style=\"text-align: right;\">\n",
              "      <th></th>\n",
              "      <th>a1</th>\n",
              "      <th>a2</th>\n",
              "    </tr>\n",
              "  </thead>\n",
              "  <tbody>\n",
              "    <tr>\n",
              "      <th>2017-01-01</th>\n",
              "      <td>2.301984</td>\n",
              "      <td>-2.103646</td>\n",
              "    </tr>\n",
              "    <tr>\n",
              "      <th>2017-01-02</th>\n",
              "      <td>-1.264478</td>\n",
              "      <td>0.757776</td>\n",
              "    </tr>\n",
              "    <tr>\n",
              "      <th>2017-01-03</th>\n",
              "      <td>0.321956</td>\n",
              "      <td>-0.520418</td>\n",
              "    </tr>\n",
              "  </tbody>\n",
              "</table>\n",
              "</div>"
            ],
            "text/plain": [
              "                  a1        a2\n",
              "2017-01-01  2.301984 -2.103646\n",
              "2017-01-02 -1.264478  0.757776\n",
              "2017-01-03  0.321956 -0.520418"
            ]
          },
          "execution_count": 27,
          "metadata": {},
          "output_type": "execute_result"
        }
      ],
      "source": [
        "df[['a1', 'a2']].head(n=3) # выбрать только несколько колонок и 3 строки"
      ]
    },
    {
      "cell_type": "markdown",
      "metadata": {
        "id": "ZCHY22H_fVN5"
      },
      "source": [
        "#### Точечная индексация"
      ]
    },
    {
      "cell_type": "code",
      "execution_count": null,
      "metadata": {
        "id": "odgL1dEUfVN5",
        "outputId": "ab2dfa33-53cd-47a1-cadc-7cf36babde76"
      },
      "outputs": [
        {
          "data": {
            "text/html": [
              "<div>\n",
              "<style scoped>\n",
              "    .dataframe tbody tr th:only-of-type {\n",
              "        vertical-align: middle;\n",
              "    }\n",
              "\n",
              "    .dataframe tbody tr th {\n",
              "        vertical-align: top;\n",
              "    }\n",
              "\n",
              "    .dataframe thead th {\n",
              "        text-align: right;\n",
              "    }\n",
              "</style>\n",
              "<table border=\"1\" class=\"dataframe\">\n",
              "  <thead>\n",
              "    <tr style=\"text-align: right;\">\n",
              "      <th></th>\n",
              "      <th>a1</th>\n",
              "      <th>a2</th>\n",
              "      <th>a3</th>\n",
              "    </tr>\n",
              "  </thead>\n",
              "  <tbody>\n",
              "    <tr>\n",
              "      <th>a</th>\n",
              "      <td>0.825770</td>\n",
              "      <td>h</td>\n",
              "      <td>0.00</td>\n",
              "    </tr>\n",
              "    <tr>\n",
              "      <th>b</th>\n",
              "      <td>0.745204</td>\n",
              "      <td>e</td>\n",
              "      <td>0.25</td>\n",
              "    </tr>\n",
              "    <tr>\n",
              "      <th>c</th>\n",
              "      <td>0.700888</td>\n",
              "      <td>l</td>\n",
              "      <td>0.50</td>\n",
              "    </tr>\n",
              "    <tr>\n",
              "      <th>d</th>\n",
              "      <td>0.061086</td>\n",
              "      <td>l</td>\n",
              "      <td>0.75</td>\n",
              "    </tr>\n",
              "    <tr>\n",
              "      <th>e</th>\n",
              "      <td>0.972340</td>\n",
              "      <td>o</td>\n",
              "      <td>1.00</td>\n",
              "    </tr>\n",
              "  </tbody>\n",
              "</table>\n",
              "</div>"
            ],
            "text/plain": [
              "         a1 a2    a3\n",
              "a  0.825770  h  0.00\n",
              "b  0.745204  e  0.25\n",
              "c  0.700888  l  0.50\n",
              "d  0.061086  l  0.75\n",
              "e  0.972340  o  1.00"
            ]
          },
          "execution_count": 28,
          "metadata": {},
          "output_type": "execute_result"
        }
      ],
      "source": [
        "df = pd.DataFrame({'a1': np.random.rand(5),\n",
        "              'a2': list('hello'),\n",
        "              'a3': np.linspace(0,1,5)}, index=list('abcde'))\n",
        "df"
      ]
    },
    {
      "cell_type": "code",
      "execution_count": null,
      "metadata": {
        "id": "z31JT_PifVN5",
        "outputId": "7a7cc54a-7ef4-47b5-e688-3ee3f0fafa52"
      },
      "outputs": [
        {
          "data": {
            "text/plain": [
              "'h'"
            ]
          },
          "execution_count": 30,
          "metadata": {},
          "output_type": "execute_result"
        }
      ],
      "source": [
        "df.at['a','a2']"
      ]
    },
    {
      "cell_type": "code",
      "execution_count": null,
      "metadata": {
        "id": "hIb_FKqdfVN6",
        "outputId": "49776436-4f3b-444d-f275-45160bde93f5"
      },
      "outputs": [
        {
          "data": {
            "text/plain": [
              "0.9723403986011121"
            ]
          },
          "execution_count": 31,
          "metadata": {},
          "output_type": "execute_result"
        }
      ],
      "source": [
        "df.at['e','a1']"
      ]
    },
    {
      "cell_type": "code",
      "execution_count": null,
      "metadata": {
        "id": "UsxAOlg5fVN6",
        "outputId": "81a3c77f-c32c-4338-9b05-78c8cfe74809"
      },
      "outputs": [
        {
          "data": {
            "text/html": [
              "<div>\n",
              "<style scoped>\n",
              "    .dataframe tbody tr th:only-of-type {\n",
              "        vertical-align: middle;\n",
              "    }\n",
              "\n",
              "    .dataframe tbody tr th {\n",
              "        vertical-align: top;\n",
              "    }\n",
              "\n",
              "    .dataframe thead th {\n",
              "        text-align: right;\n",
              "    }\n",
              "</style>\n",
              "<table border=\"1\" class=\"dataframe\">\n",
              "  <thead>\n",
              "    <tr style=\"text-align: right;\">\n",
              "      <th></th>\n",
              "      <th>a1</th>\n",
              "      <th>a2</th>\n",
              "      <th>a3</th>\n",
              "    </tr>\n",
              "  </thead>\n",
              "  <tbody>\n",
              "    <tr>\n",
              "      <th>a</th>\n",
              "      <td>0.825770</td>\n",
              "      <td>H</td>\n",
              "      <td>0.00</td>\n",
              "    </tr>\n",
              "    <tr>\n",
              "      <th>b</th>\n",
              "      <td>0.745204</td>\n",
              "      <td>e</td>\n",
              "      <td>0.25</td>\n",
              "    </tr>\n",
              "    <tr>\n",
              "      <th>c</th>\n",
              "      <td>0.700888</td>\n",
              "      <td>l</td>\n",
              "      <td>0.50</td>\n",
              "    </tr>\n",
              "    <tr>\n",
              "      <th>d</th>\n",
              "      <td>0.061086</td>\n",
              "      <td>l</td>\n",
              "      <td>0.75</td>\n",
              "    </tr>\n",
              "    <tr>\n",
              "      <th>e</th>\n",
              "      <td>0.972340</td>\n",
              "      <td>o</td>\n",
              "      <td>1.00</td>\n",
              "    </tr>\n",
              "  </tbody>\n",
              "</table>\n",
              "</div>"
            ],
            "text/plain": [
              "         a1 a2    a3\n",
              "a  0.825770  H  0.00\n",
              "b  0.745204  e  0.25\n",
              "c  0.700888  l  0.50\n",
              "d  0.061086  l  0.75\n",
              "e  0.972340  o  1.00"
            ]
          },
          "execution_count": 32,
          "metadata": {},
          "output_type": "execute_result"
        }
      ],
      "source": [
        "# Изменение элементов\n",
        "df.at['a','a2'] = 'H'\n",
        "df"
      ]
    },
    {
      "cell_type": "code",
      "execution_count": null,
      "metadata": {
        "id": "3wmazh5AfVN6",
        "outputId": "e96bdd0a-b040-433d-c8d4-ffdceffdbd79"
      },
      "outputs": [
        {
          "data": {
            "text/plain": [
              "a1    0.97234\n",
              "a2          o\n",
              "a3          1\n",
              "Name: e, dtype: object"
            ]
          },
          "execution_count": 33,
          "metadata": {},
          "output_type": "execute_result"
        }
      ],
      "source": [
        "df.loc['e'] # взять целую строчку"
      ]
    },
    {
      "cell_type": "code",
      "execution_count": null,
      "metadata": {
        "id": "bu-MJc-AfVN6",
        "outputId": "a7c6dc82-6370-472d-b08c-6b08ec81a8d4"
      },
      "outputs": [
        {
          "data": {
            "text/html": [
              "<div>\n",
              "<style scoped>\n",
              "    .dataframe tbody tr th:only-of-type {\n",
              "        vertical-align: middle;\n",
              "    }\n",
              "\n",
              "    .dataframe tbody tr th {\n",
              "        vertical-align: top;\n",
              "    }\n",
              "\n",
              "    .dataframe thead th {\n",
              "        text-align: right;\n",
              "    }\n",
              "</style>\n",
              "<table border=\"1\" class=\"dataframe\">\n",
              "  <thead>\n",
              "    <tr style=\"text-align: right;\">\n",
              "      <th></th>\n",
              "      <th>a1</th>\n",
              "      <th>a2</th>\n",
              "      <th>a3</th>\n",
              "    </tr>\n",
              "  </thead>\n",
              "  <tbody>\n",
              "    <tr>\n",
              "      <th>a</th>\n",
              "      <td>0.825770</td>\n",
              "      <td>H</td>\n",
              "      <td>0.00</td>\n",
              "    </tr>\n",
              "    <tr>\n",
              "      <th>b</th>\n",
              "      <td>0.745204</td>\n",
              "      <td>e</td>\n",
              "      <td>0.25</td>\n",
              "    </tr>\n",
              "    <tr>\n",
              "      <th>c</th>\n",
              "      <td>0.700888</td>\n",
              "      <td>l</td>\n",
              "      <td>0.50</td>\n",
              "    </tr>\n",
              "    <tr>\n",
              "      <th>d</th>\n",
              "      <td>0.061086</td>\n",
              "      <td>l</td>\n",
              "      <td>0.75</td>\n",
              "    </tr>\n",
              "    <tr>\n",
              "      <th>e</th>\n",
              "      <td>0.972340</td>\n",
              "      <td>o</td>\n",
              "      <td>1.00</td>\n",
              "    </tr>\n",
              "    <tr>\n",
              "      <th>f</th>\n",
              "      <td>777.000000</td>\n",
              "      <td>Z</td>\n",
              "      <td>2.00</td>\n",
              "    </tr>\n",
              "  </tbody>\n",
              "</table>\n",
              "</div>"
            ],
            "text/plain": [
              "           a1 a2    a3\n",
              "a    0.825770  H  0.00\n",
              "b    0.745204  e  0.25\n",
              "c    0.700888  l  0.50\n",
              "d    0.061086  l  0.75\n",
              "e    0.972340  o  1.00\n",
              "f  777.000000  Z  2.00"
            ]
          },
          "execution_count": 34,
          "metadata": {},
          "output_type": "execute_result"
        }
      ],
      "source": [
        "df.loc['f'] = [777, 'Z', 2]  # можно добавить значение\n",
        "df"
      ]
    },
    {
      "cell_type": "markdown",
      "metadata": {
        "id": "X467c1ygfVN7"
      },
      "source": [
        "### Удаление пропусков данных\n",
        "\n",
        "https://pandas.pydata.org/pandas-docs/stable/missing_data.html - тысяча и один способ убрать, добавить, интерполировать, заполнять пропущенные значения."
      ]
    },
    {
      "cell_type": "code",
      "execution_count": null,
      "metadata": {
        "id": "xZMSD7CEfVN7",
        "outputId": "57152059-14ee-4195-d3f2-3e3a83789a7c"
      },
      "outputs": [
        {
          "data": {
            "text/html": [
              "<div>\n",
              "<style scoped>\n",
              "    .dataframe tbody tr th:only-of-type {\n",
              "        vertical-align: middle;\n",
              "    }\n",
              "\n",
              "    .dataframe tbody tr th {\n",
              "        vertical-align: top;\n",
              "    }\n",
              "\n",
              "    .dataframe thead th {\n",
              "        text-align: right;\n",
              "    }\n",
              "</style>\n",
              "<table border=\"1\" class=\"dataframe\">\n",
              "  <thead>\n",
              "    <tr style=\"text-align: right;\">\n",
              "      <th></th>\n",
              "      <th>a1</th>\n",
              "      <th>a2</th>\n",
              "      <th>a3</th>\n",
              "    </tr>\n",
              "  </thead>\n",
              "  <tbody>\n",
              "    <tr>\n",
              "      <th>a</th>\n",
              "      <td>0.468722</td>\n",
              "      <td>H</td>\n",
              "      <td>0.00</td>\n",
              "    </tr>\n",
              "    <tr>\n",
              "      <th>b</th>\n",
              "      <td>NaN</td>\n",
              "      <td>e</td>\n",
              "      <td>0.25</td>\n",
              "    </tr>\n",
              "    <tr>\n",
              "      <th>c</th>\n",
              "      <td>0.628774</td>\n",
              "      <td>l</td>\n",
              "      <td>0.50</td>\n",
              "    </tr>\n",
              "    <tr>\n",
              "      <th>d</th>\n",
              "      <td>0.371578</td>\n",
              "      <td>l</td>\n",
              "      <td>0.75</td>\n",
              "    </tr>\n",
              "    <tr>\n",
              "      <th>e</th>\n",
              "      <td>0.318142</td>\n",
              "      <td>o</td>\n",
              "      <td>NaN</td>\n",
              "    </tr>\n",
              "    <tr>\n",
              "      <th>f</th>\n",
              "      <td>777.000000</td>\n",
              "      <td>Z</td>\n",
              "      <td>2.00</td>\n",
              "    </tr>\n",
              "  </tbody>\n",
              "</table>\n",
              "</div>"
            ],
            "text/plain": [
              "           a1 a2    a3\n",
              "a    0.468722  H  0.00\n",
              "b         NaN  e  0.25\n",
              "c    0.628774  l  0.50\n",
              "d    0.371578  l  0.75\n",
              "e    0.318142  o   NaN\n",
              "f  777.000000  Z  2.00"
            ]
          },
          "execution_count": 24,
          "metadata": {},
          "output_type": "execute_result"
        }
      ],
      "source": [
        "# nan- это пропущенные значения\n",
        "df.at['b', 'a1'] = np.nan\n",
        "df.at['e', 'a3'] = np.nan\n",
        "df"
      ]
    },
    {
      "cell_type": "code",
      "execution_count": null,
      "metadata": {
        "id": "bjgAiw7JfVN7",
        "outputId": "fbcc7d42-0cb8-40e9-fe88-2a682f24ba50"
      },
      "outputs": [
        {
          "data": {
            "text/html": [
              "<div>\n",
              "<style scoped>\n",
              "    .dataframe tbody tr th:only-of-type {\n",
              "        vertical-align: middle;\n",
              "    }\n",
              "\n",
              "    .dataframe tbody tr th {\n",
              "        vertical-align: top;\n",
              "    }\n",
              "\n",
              "    .dataframe thead th {\n",
              "        text-align: right;\n",
              "    }\n",
              "</style>\n",
              "<table border=\"1\" class=\"dataframe\">\n",
              "  <thead>\n",
              "    <tr style=\"text-align: right;\">\n",
              "      <th></th>\n",
              "      <th>a1</th>\n",
              "      <th>a2</th>\n",
              "      <th>a3</th>\n",
              "    </tr>\n",
              "  </thead>\n",
              "  <tbody>\n",
              "    <tr>\n",
              "      <th>a</th>\n",
              "      <td>False</td>\n",
              "      <td>False</td>\n",
              "      <td>False</td>\n",
              "    </tr>\n",
              "    <tr>\n",
              "      <th>b</th>\n",
              "      <td>True</td>\n",
              "      <td>False</td>\n",
              "      <td>False</td>\n",
              "    </tr>\n",
              "    <tr>\n",
              "      <th>c</th>\n",
              "      <td>False</td>\n",
              "      <td>False</td>\n",
              "      <td>False</td>\n",
              "    </tr>\n",
              "    <tr>\n",
              "      <th>d</th>\n",
              "      <td>False</td>\n",
              "      <td>False</td>\n",
              "      <td>False</td>\n",
              "    </tr>\n",
              "    <tr>\n",
              "      <th>e</th>\n",
              "      <td>False</td>\n",
              "      <td>False</td>\n",
              "      <td>True</td>\n",
              "    </tr>\n",
              "    <tr>\n",
              "      <th>f</th>\n",
              "      <td>False</td>\n",
              "      <td>False</td>\n",
              "      <td>False</td>\n",
              "    </tr>\n",
              "  </tbody>\n",
              "</table>\n",
              "</div>"
            ],
            "text/plain": [
              "      a1     a2     a3\n",
              "a  False  False  False\n",
              "b   True  False  False\n",
              "c  False  False  False\n",
              "d  False  False  False\n",
              "e  False  False   True\n",
              "f  False  False  False"
            ]
          },
          "execution_count": 25,
          "metadata": {},
          "output_type": "execute_result"
        }
      ],
      "source": [
        "pd.isnull(df) # вернем датафрейс-маску"
      ]
    },
    {
      "cell_type": "code",
      "execution_count": null,
      "metadata": {
        "id": "1chDwjmpfVN7",
        "outputId": "924dee76-89c4-4de9-ac47-6325d8af4732"
      },
      "outputs": [
        {
          "data": {
            "text/html": [
              "<div>\n",
              "<style scoped>\n",
              "    .dataframe tbody tr th:only-of-type {\n",
              "        vertical-align: middle;\n",
              "    }\n",
              "\n",
              "    .dataframe tbody tr th {\n",
              "        vertical-align: top;\n",
              "    }\n",
              "\n",
              "    .dataframe thead th {\n",
              "        text-align: right;\n",
              "    }\n",
              "</style>\n",
              "<table border=\"1\" class=\"dataframe\">\n",
              "  <thead>\n",
              "    <tr style=\"text-align: right;\">\n",
              "      <th></th>\n",
              "      <th>a1</th>\n",
              "      <th>a2</th>\n",
              "      <th>a3</th>\n",
              "    </tr>\n",
              "  </thead>\n",
              "  <tbody>\n",
              "    <tr>\n",
              "      <th>a</th>\n",
              "      <td>0.468722</td>\n",
              "      <td>H</td>\n",
              "      <td>0.00</td>\n",
              "    </tr>\n",
              "    <tr>\n",
              "      <th>c</th>\n",
              "      <td>0.628774</td>\n",
              "      <td>l</td>\n",
              "      <td>0.50</td>\n",
              "    </tr>\n",
              "    <tr>\n",
              "      <th>d</th>\n",
              "      <td>0.371578</td>\n",
              "      <td>l</td>\n",
              "      <td>0.75</td>\n",
              "    </tr>\n",
              "    <tr>\n",
              "      <th>f</th>\n",
              "      <td>777.000000</td>\n",
              "      <td>Z</td>\n",
              "      <td>2.00</td>\n",
              "    </tr>\n",
              "  </tbody>\n",
              "</table>\n",
              "</div>"
            ],
            "text/plain": [
              "           a1 a2    a3\n",
              "a    0.468722  H  0.00\n",
              "c    0.628774  l  0.50\n",
              "d    0.371578  l  0.75\n",
              "f  777.000000  Z  2.00"
            ]
          },
          "execution_count": 26,
          "metadata": {},
          "output_type": "execute_result"
        }
      ],
      "source": [
        "df.dropna() # можно просто удалить пропущенные данные"
      ]
    },
    {
      "cell_type": "code",
      "execution_count": null,
      "metadata": {
        "id": "allsnfIlfVN8",
        "outputId": "0544f533-f2fc-46c7-8cc7-1de34b20f19a"
      },
      "outputs": [
        {
          "data": {
            "text/html": [
              "<div>\n",
              "<style scoped>\n",
              "    .dataframe tbody tr th:only-of-type {\n",
              "        vertical-align: middle;\n",
              "    }\n",
              "\n",
              "    .dataframe tbody tr th {\n",
              "        vertical-align: top;\n",
              "    }\n",
              "\n",
              "    .dataframe thead th {\n",
              "        text-align: right;\n",
              "    }\n",
              "</style>\n",
              "<table border=\"1\" class=\"dataframe\">\n",
              "  <thead>\n",
              "    <tr style=\"text-align: right;\">\n",
              "      <th></th>\n",
              "      <th>a1</th>\n",
              "      <th>a2</th>\n",
              "      <th>a3</th>\n",
              "    </tr>\n",
              "  </thead>\n",
              "  <tbody>\n",
              "    <tr>\n",
              "      <th>a</th>\n",
              "      <td>0.468722</td>\n",
              "      <td>H</td>\n",
              "      <td>0.00</td>\n",
              "    </tr>\n",
              "    <tr>\n",
              "      <th>b</th>\n",
              "      <td>9000.000000</td>\n",
              "      <td>e</td>\n",
              "      <td>0.25</td>\n",
              "    </tr>\n",
              "    <tr>\n",
              "      <th>c</th>\n",
              "      <td>0.628774</td>\n",
              "      <td>l</td>\n",
              "      <td>0.50</td>\n",
              "    </tr>\n",
              "    <tr>\n",
              "      <th>d</th>\n",
              "      <td>0.371578</td>\n",
              "      <td>l</td>\n",
              "      <td>0.75</td>\n",
              "    </tr>\n",
              "    <tr>\n",
              "      <th>e</th>\n",
              "      <td>0.318142</td>\n",
              "      <td>o</td>\n",
              "      <td>9000.00</td>\n",
              "    </tr>\n",
              "    <tr>\n",
              "      <th>f</th>\n",
              "      <td>777.000000</td>\n",
              "      <td>Z</td>\n",
              "      <td>2.00</td>\n",
              "    </tr>\n",
              "  </tbody>\n",
              "</table>\n",
              "</div>"
            ],
            "text/plain": [
              "            a1 a2       a3\n",
              "a     0.468722  H     0.00\n",
              "b  9000.000000  e     0.25\n",
              "c     0.628774  l     0.50\n",
              "d     0.371578  l     0.75\n",
              "e     0.318142  o  9000.00\n",
              "f   777.000000  Z     2.00"
            ]
          },
          "execution_count": 27,
          "metadata": {},
          "output_type": "execute_result"
        }
      ],
      "source": [
        "df.fillna(9000)  # или заполнить определенным числом"
      ]
    },
    {
      "cell_type": "markdown",
      "metadata": {
        "id": "G2hYPW4wfVN8"
      },
      "source": [
        "## Чтение данных из файла\n",
        "\n",
        "Одна из основных фич pandas - это парсинг файлов разных форматов.\n",
        "\n",
        "Мы с вами рассмотрим на примере датасета `beauty.csv` (Hamermesh, D. S., and J. E. Biddle (1994), Beauty and the Labor Market, Amerian Eonomi Review 84, 1174-1194) то, как\n",
        "- прочитать файл в pandas\n",
        "- смотреть на данные\n",
        "- визуализировать данные"
      ]
    },
    {
      "cell_type": "code",
      "execution_count": null,
      "metadata": {
        "id": "cEuXqudmfVN8"
      },
      "outputs": [],
      "source": [
        "df = pd.read_csv('../../data/beauty.csv', sep=';') # можно указать разделитель, в нашем случае это ;"
      ]
    },
    {
      "cell_type": "markdown",
      "metadata": {
        "id": "wRcFzcZrfVN8"
      },
      "source": [
        "Первое что надо сделать - это посмотреть сколько данных у нас есть, какого они типа, какие колонки есть и что они могут значить."
      ]
    },
    {
      "cell_type": "code",
      "execution_count": null,
      "metadata": {
        "id": "waIcrHCDfVN9",
        "outputId": "14efdb5b-b86d-4f69-d74f-2751404bd08b"
      },
      "outputs": [
        {
          "data": {
            "text/plain": [
              "(1260, 10)"
            ]
          },
          "execution_count": 36,
          "metadata": {},
          "output_type": "execute_result"
        }
      ],
      "source": [
        "df.shape"
      ]
    },
    {
      "cell_type": "code",
      "execution_count": null,
      "metadata": {
        "id": "FuMlYzvifVN9",
        "outputId": "18a1673b-f5ee-464f-decd-0e8f7f73d67b"
      },
      "outputs": [
        {
          "data": {
            "text/plain": [
              "array(['wage', 'exper', 'union', 'goodhlth', 'black', 'female', 'married',\n",
              "       'service', 'educ', 'looks'], dtype=object)"
            ]
          },
          "execution_count": 38,
          "metadata": {},
          "output_type": "execute_result"
        }
      ],
      "source": [
        "df.columns.values # посмотрим как гназываются колонки"
      ]
    },
    {
      "cell_type": "code",
      "execution_count": null,
      "metadata": {
        "id": "UuY3VoTZfVN-",
        "outputId": "a61005a1-eb2c-4579-fdb0-1a6097ca04d6"
      },
      "outputs": [
        {
          "name": "stdout",
          "output_type": "stream",
          "text": [
            "<class 'pandas.core.frame.DataFrame'>\n",
            "RangeIndex: 1260 entries, 0 to 1259\n",
            "Data columns (total 10 columns):\n",
            "wage        1260 non-null float64\n",
            "exper       1260 non-null int64\n",
            "union       1260 non-null int64\n",
            "goodhlth    1260 non-null int64\n",
            "black       1260 non-null int64\n",
            "female      1260 non-null int64\n",
            "married     1260 non-null int64\n",
            "service     1260 non-null int64\n",
            "educ        1260 non-null int64\n",
            "looks       1260 non-null int64\n",
            "dtypes: float64(1), int64(9)\n",
            "memory usage: 98.5 KB\n"
          ]
        }
      ],
      "source": [
        "df.info() # информация по дата фрейму"
      ]
    },
    {
      "cell_type": "code",
      "execution_count": null,
      "metadata": {
        "id": "GTxBJFrIfVN-",
        "outputId": "1077e0ee-23c0-47bf-cdbd-4bb85d23061e"
      },
      "outputs": [
        {
          "data": {
            "text/html": [
              "<div>\n",
              "<style scoped>\n",
              "    .dataframe tbody tr th:only-of-type {\n",
              "        vertical-align: middle;\n",
              "    }\n",
              "\n",
              "    .dataframe tbody tr th {\n",
              "        vertical-align: top;\n",
              "    }\n",
              "\n",
              "    .dataframe thead th {\n",
              "        text-align: right;\n",
              "    }\n",
              "</style>\n",
              "<table border=\"1\" class=\"dataframe\">\n",
              "  <thead>\n",
              "    <tr style=\"text-align: right;\">\n",
              "      <th></th>\n",
              "      <th>wage</th>\n",
              "      <th>exper</th>\n",
              "      <th>union</th>\n",
              "      <th>goodhlth</th>\n",
              "      <th>black</th>\n",
              "      <th>female</th>\n",
              "      <th>married</th>\n",
              "      <th>service</th>\n",
              "      <th>educ</th>\n",
              "      <th>looks</th>\n",
              "    </tr>\n",
              "  </thead>\n",
              "  <tbody>\n",
              "    <tr>\n",
              "      <th>0</th>\n",
              "      <td>5.73</td>\n",
              "      <td>30</td>\n",
              "      <td>0</td>\n",
              "      <td>1</td>\n",
              "      <td>0</td>\n",
              "      <td>1</td>\n",
              "      <td>1</td>\n",
              "      <td>1</td>\n",
              "      <td>14</td>\n",
              "      <td>4</td>\n",
              "    </tr>\n",
              "    <tr>\n",
              "      <th>1</th>\n",
              "      <td>4.28</td>\n",
              "      <td>28</td>\n",
              "      <td>0</td>\n",
              "      <td>1</td>\n",
              "      <td>0</td>\n",
              "      <td>1</td>\n",
              "      <td>1</td>\n",
              "      <td>0</td>\n",
              "      <td>12</td>\n",
              "      <td>3</td>\n",
              "    </tr>\n",
              "    <tr>\n",
              "      <th>2</th>\n",
              "      <td>7.96</td>\n",
              "      <td>35</td>\n",
              "      <td>0</td>\n",
              "      <td>1</td>\n",
              "      <td>0</td>\n",
              "      <td>1</td>\n",
              "      <td>0</td>\n",
              "      <td>0</td>\n",
              "      <td>10</td>\n",
              "      <td>4</td>\n",
              "    </tr>\n",
              "    <tr>\n",
              "      <th>3</th>\n",
              "      <td>11.57</td>\n",
              "      <td>38</td>\n",
              "      <td>0</td>\n",
              "      <td>1</td>\n",
              "      <td>0</td>\n",
              "      <td>0</td>\n",
              "      <td>1</td>\n",
              "      <td>1</td>\n",
              "      <td>16</td>\n",
              "      <td>3</td>\n",
              "    </tr>\n",
              "    <tr>\n",
              "      <th>4</th>\n",
              "      <td>11.42</td>\n",
              "      <td>27</td>\n",
              "      <td>0</td>\n",
              "      <td>1</td>\n",
              "      <td>0</td>\n",
              "      <td>0</td>\n",
              "      <td>1</td>\n",
              "      <td>0</td>\n",
              "      <td>16</td>\n",
              "      <td>3</td>\n",
              "    </tr>\n",
              "  </tbody>\n",
              "</table>\n",
              "</div>"
            ],
            "text/plain": [
              "    wage  exper  union  goodhlth  black  female  married  service  educ  looks\n",
              "0   5.73     30      0         1      0       1        1        1    14      4\n",
              "1   4.28     28      0         1      0       1        1        0    12      3\n",
              "2   7.96     35      0         1      0       1        0        0    10      4\n",
              "3  11.57     38      0         1      0       0        1        1    16      3\n",
              "4  11.42     27      0         1      0       0        1        0    16      3"
            ]
          },
          "execution_count": 40,
          "metadata": {},
          "output_type": "execute_result"
        }
      ],
      "source": [
        "df.head()"
      ]
    },
    {
      "cell_type": "markdown",
      "metadata": {
        "id": "qekmdJICfVN-"
      },
      "source": [
        "#### Про что даные?\n",
        "\n",
        "*Влияние внешней привлекательности на уровень заработка*\n",
        "\n",
        "- wage - заработная плата за час работы, доллар\n",
        "- exper - опыт работы, лет\n",
        "- union - членство в профсоюзе, состоинт/ не состоит\n",
        "- goodhlth - состояние здоровья, хорошее/плохое\n",
        "- black - цвет кожи, черный/белый\n",
        "- female - пол, женщина/мужчина\n",
        "- married - семейное положение\n",
        "- service - занятость в сфере обслуживание, да/нет\n",
        "- educ - образование, лет\n",
        "- looks - привлекательность, в баллах от 1 до 5"
      ]
    },
    {
      "cell_type": "markdown",
      "metadata": {
        "id": "jX3n8N-OfVN-"
      },
      "source": [
        "Метод `describe` показывает основные статистические характеристики данных по каждому признаку:\n",
        "- число непропущенных значений\n",
        "- среднее\n",
        "- стандартное отклонение\n",
        "- диапазон\n",
        "- медиану\n",
        "- квантили 0.25 и 0.75.\n",
        "- максимум/минимум"
      ]
    },
    {
      "cell_type": "code",
      "execution_count": null,
      "metadata": {
        "id": "4Uw63YE4fVN_",
        "outputId": "165a3ad3-f40b-4c2c-fa84-6b232c30b420"
      },
      "outputs": [
        {
          "data": {
            "text/html": [
              "<div>\n",
              "<style scoped>\n",
              "    .dataframe tbody tr th:only-of-type {\n",
              "        vertical-align: middle;\n",
              "    }\n",
              "\n",
              "    .dataframe tbody tr th {\n",
              "        vertical-align: top;\n",
              "    }\n",
              "\n",
              "    .dataframe thead th {\n",
              "        text-align: right;\n",
              "    }\n",
              "</style>\n",
              "<table border=\"1\" class=\"dataframe\">\n",
              "  <thead>\n",
              "    <tr style=\"text-align: right;\">\n",
              "      <th></th>\n",
              "      <th>wage</th>\n",
              "      <th>exper</th>\n",
              "      <th>union</th>\n",
              "      <th>goodhlth</th>\n",
              "      <th>black</th>\n",
              "      <th>female</th>\n",
              "      <th>married</th>\n",
              "      <th>service</th>\n",
              "      <th>educ</th>\n",
              "      <th>looks</th>\n",
              "    </tr>\n",
              "  </thead>\n",
              "  <tbody>\n",
              "    <tr>\n",
              "      <th>count</th>\n",
              "      <td>1260.000000</td>\n",
              "      <td>1260.000000</td>\n",
              "      <td>1260.000000</td>\n",
              "      <td>1260.000000</td>\n",
              "      <td>1260.000000</td>\n",
              "      <td>1260.000000</td>\n",
              "      <td>1260.000000</td>\n",
              "      <td>1260.000000</td>\n",
              "      <td>1260.000000</td>\n",
              "      <td>1260.000000</td>\n",
              "    </tr>\n",
              "    <tr>\n",
              "      <th>mean</th>\n",
              "      <td>6.306690</td>\n",
              "      <td>18.206349</td>\n",
              "      <td>0.272222</td>\n",
              "      <td>0.933333</td>\n",
              "      <td>0.073810</td>\n",
              "      <td>0.346032</td>\n",
              "      <td>0.691270</td>\n",
              "      <td>0.273810</td>\n",
              "      <td>12.563492</td>\n",
              "      <td>3.185714</td>\n",
              "    </tr>\n",
              "    <tr>\n",
              "      <th>std</th>\n",
              "      <td>4.660639</td>\n",
              "      <td>11.963485</td>\n",
              "      <td>0.445280</td>\n",
              "      <td>0.249543</td>\n",
              "      <td>0.261564</td>\n",
              "      <td>0.475892</td>\n",
              "      <td>0.462153</td>\n",
              "      <td>0.446089</td>\n",
              "      <td>2.624489</td>\n",
              "      <td>0.684877</td>\n",
              "    </tr>\n",
              "    <tr>\n",
              "      <th>min</th>\n",
              "      <td>1.020000</td>\n",
              "      <td>0.000000</td>\n",
              "      <td>0.000000</td>\n",
              "      <td>0.000000</td>\n",
              "      <td>0.000000</td>\n",
              "      <td>0.000000</td>\n",
              "      <td>0.000000</td>\n",
              "      <td>0.000000</td>\n",
              "      <td>5.000000</td>\n",
              "      <td>1.000000</td>\n",
              "    </tr>\n",
              "    <tr>\n",
              "      <th>25%</th>\n",
              "      <td>3.707500</td>\n",
              "      <td>8.000000</td>\n",
              "      <td>0.000000</td>\n",
              "      <td>1.000000</td>\n",
              "      <td>0.000000</td>\n",
              "      <td>0.000000</td>\n",
              "      <td>0.000000</td>\n",
              "      <td>0.000000</td>\n",
              "      <td>12.000000</td>\n",
              "      <td>3.000000</td>\n",
              "    </tr>\n",
              "    <tr>\n",
              "      <th>50%</th>\n",
              "      <td>5.300000</td>\n",
              "      <td>15.000000</td>\n",
              "      <td>0.000000</td>\n",
              "      <td>1.000000</td>\n",
              "      <td>0.000000</td>\n",
              "      <td>0.000000</td>\n",
              "      <td>1.000000</td>\n",
              "      <td>0.000000</td>\n",
              "      <td>12.000000</td>\n",
              "      <td>3.000000</td>\n",
              "    </tr>\n",
              "    <tr>\n",
              "      <th>75%</th>\n",
              "      <td>7.695000</td>\n",
              "      <td>27.000000</td>\n",
              "      <td>1.000000</td>\n",
              "      <td>1.000000</td>\n",
              "      <td>0.000000</td>\n",
              "      <td>1.000000</td>\n",
              "      <td>1.000000</td>\n",
              "      <td>1.000000</td>\n",
              "      <td>13.000000</td>\n",
              "      <td>4.000000</td>\n",
              "    </tr>\n",
              "    <tr>\n",
              "      <th>max</th>\n",
              "      <td>77.720000</td>\n",
              "      <td>48.000000</td>\n",
              "      <td>1.000000</td>\n",
              "      <td>1.000000</td>\n",
              "      <td>1.000000</td>\n",
              "      <td>1.000000</td>\n",
              "      <td>1.000000</td>\n",
              "      <td>1.000000</td>\n",
              "      <td>17.000000</td>\n",
              "      <td>5.000000</td>\n",
              "    </tr>\n",
              "  </tbody>\n",
              "</table>\n",
              "</div>"
            ],
            "text/plain": [
              "              wage        exper        union     goodhlth        black  \\\n",
              "count  1260.000000  1260.000000  1260.000000  1260.000000  1260.000000   \n",
              "mean      6.306690    18.206349     0.272222     0.933333     0.073810   \n",
              "std       4.660639    11.963485     0.445280     0.249543     0.261564   \n",
              "min       1.020000     0.000000     0.000000     0.000000     0.000000   \n",
              "25%       3.707500     8.000000     0.000000     1.000000     0.000000   \n",
              "50%       5.300000    15.000000     0.000000     1.000000     0.000000   \n",
              "75%       7.695000    27.000000     1.000000     1.000000     0.000000   \n",
              "max      77.720000    48.000000     1.000000     1.000000     1.000000   \n",
              "\n",
              "            female      married      service         educ        looks  \n",
              "count  1260.000000  1260.000000  1260.000000  1260.000000  1260.000000  \n",
              "mean      0.346032     0.691270     0.273810    12.563492     3.185714  \n",
              "std       0.475892     0.462153     0.446089     2.624489     0.684877  \n",
              "min       0.000000     0.000000     0.000000     5.000000     1.000000  \n",
              "25%       0.000000     0.000000     0.000000    12.000000     3.000000  \n",
              "50%       0.000000     1.000000     0.000000    12.000000     3.000000  \n",
              "75%       1.000000     1.000000     1.000000    13.000000     4.000000  \n",
              "max       1.000000     1.000000     1.000000    17.000000     5.000000  "
            ]
          },
          "execution_count": 33,
          "metadata": {},
          "output_type": "execute_result"
        }
      ],
      "source": [
        "# Вычисляет все статичтики по числовым признакам в таблице и выводи отчет\n",
        "df.describe()"
      ]
    },
    {
      "cell_type": "markdown",
      "metadata": {
        "id": "09_w9c8bfVN_"
      },
      "source": [
        "Можем упорядочить таблицу по колонкам с помощью методы `sort_values`."
      ]
    },
    {
      "cell_type": "code",
      "execution_count": null,
      "metadata": {
        "id": "20O0nHw5fVN_",
        "outputId": "3e159a0b-c0ed-42c9-f2a0-2acec3ef23fb"
      },
      "outputs": [
        {
          "data": {
            "text/html": [
              "<div>\n",
              "<style scoped>\n",
              "    .dataframe tbody tr th:only-of-type {\n",
              "        vertical-align: middle;\n",
              "    }\n",
              "\n",
              "    .dataframe tbody tr th {\n",
              "        vertical-align: top;\n",
              "    }\n",
              "\n",
              "    .dataframe thead th {\n",
              "        text-align: right;\n",
              "    }\n",
              "</style>\n",
              "<table border=\"1\" class=\"dataframe\">\n",
              "  <thead>\n",
              "    <tr style=\"text-align: right;\">\n",
              "      <th></th>\n",
              "      <th>wage</th>\n",
              "      <th>exper</th>\n",
              "      <th>union</th>\n",
              "      <th>goodhlth</th>\n",
              "      <th>black</th>\n",
              "      <th>female</th>\n",
              "      <th>married</th>\n",
              "      <th>service</th>\n",
              "      <th>educ</th>\n",
              "      <th>looks</th>\n",
              "    </tr>\n",
              "  </thead>\n",
              "  <tbody>\n",
              "    <tr>\n",
              "      <th>602</th>\n",
              "      <td>77.72</td>\n",
              "      <td>9</td>\n",
              "      <td>1</td>\n",
              "      <td>1</td>\n",
              "      <td>1</td>\n",
              "      <td>1</td>\n",
              "      <td>1</td>\n",
              "      <td>1</td>\n",
              "      <td>13</td>\n",
              "      <td>4</td>\n",
              "    </tr>\n",
              "    <tr>\n",
              "      <th>269</th>\n",
              "      <td>41.67</td>\n",
              "      <td>16</td>\n",
              "      <td>0</td>\n",
              "      <td>0</td>\n",
              "      <td>0</td>\n",
              "      <td>0</td>\n",
              "      <td>1</td>\n",
              "      <td>0</td>\n",
              "      <td>13</td>\n",
              "      <td>4</td>\n",
              "    </tr>\n",
              "    <tr>\n",
              "      <th>415</th>\n",
              "      <td>38.86</td>\n",
              "      <td>29</td>\n",
              "      <td>0</td>\n",
              "      <td>1</td>\n",
              "      <td>0</td>\n",
              "      <td>0</td>\n",
              "      <td>1</td>\n",
              "      <td>0</td>\n",
              "      <td>13</td>\n",
              "      <td>3</td>\n",
              "    </tr>\n",
              "    <tr>\n",
              "      <th>69</th>\n",
              "      <td>32.79</td>\n",
              "      <td>33</td>\n",
              "      <td>0</td>\n",
              "      <td>1</td>\n",
              "      <td>0</td>\n",
              "      <td>0</td>\n",
              "      <td>1</td>\n",
              "      <td>1</td>\n",
              "      <td>16</td>\n",
              "      <td>4</td>\n",
              "    </tr>\n",
              "    <tr>\n",
              "      <th>290</th>\n",
              "      <td>31.09</td>\n",
              "      <td>32</td>\n",
              "      <td>0</td>\n",
              "      <td>0</td>\n",
              "      <td>0</td>\n",
              "      <td>0</td>\n",
              "      <td>1</td>\n",
              "      <td>0</td>\n",
              "      <td>13</td>\n",
              "      <td>3</td>\n",
              "    </tr>\n",
              "  </tbody>\n",
              "</table>\n",
              "</div>"
            ],
            "text/plain": [
              "      wage  exper  union  goodhlth  black  female  married  service  educ  \\\n",
              "602  77.72      9      1         1      1       1        1        1    13   \n",
              "269  41.67     16      0         0      0       0        1        0    13   \n",
              "415  38.86     29      0         1      0       0        1        0    13   \n",
              "69   32.79     33      0         1      0       0        1        1    16   \n",
              "290  31.09     32      0         0      0       0        1        0    13   \n",
              "\n",
              "     looks  \n",
              "602      4  \n",
              "269      4  \n",
              "415      3  \n",
              "69       4  \n",
              "290      3  "
            ]
          },
          "execution_count": 34,
          "metadata": {},
          "output_type": "execute_result"
        }
      ],
      "source": [
        "# Упорядочим по зарплате, но если они равны, то по уровню образования\n",
        "df.sort_values(by=['wage', 'educ'], ascending=False).head()"
      ]
    },
    {
      "cell_type": "code",
      "execution_count": null,
      "metadata": {
        "id": "uGkREzKcfVN_",
        "outputId": "216434e8-46b2-4909-e505-592b5cc2ee47"
      },
      "outputs": [
        {
          "data": {
            "text/html": [
              "<div>\n",
              "<style scoped>\n",
              "    .dataframe tbody tr th:only-of-type {\n",
              "        vertical-align: middle;\n",
              "    }\n",
              "\n",
              "    .dataframe tbody tr th {\n",
              "        vertical-align: top;\n",
              "    }\n",
              "\n",
              "    .dataframe thead th {\n",
              "        text-align: right;\n",
              "    }\n",
              "</style>\n",
              "<table border=\"1\" class=\"dataframe\">\n",
              "  <thead>\n",
              "    <tr style=\"text-align: right;\">\n",
              "      <th></th>\n",
              "      <th>wage</th>\n",
              "      <th>exper</th>\n",
              "      <th>union</th>\n",
              "      <th>goodhlth</th>\n",
              "      <th>black</th>\n",
              "      <th>female</th>\n",
              "      <th>married</th>\n",
              "      <th>service</th>\n",
              "      <th>educ</th>\n",
              "      <th>looks</th>\n",
              "    </tr>\n",
              "  </thead>\n",
              "  <tbody>\n",
              "    <tr>\n",
              "      <th>323</th>\n",
              "      <td>6.41</td>\n",
              "      <td>48</td>\n",
              "      <td>0</td>\n",
              "      <td>1</td>\n",
              "      <td>0</td>\n",
              "      <td>0</td>\n",
              "      <td>1</td>\n",
              "      <td>0</td>\n",
              "      <td>8</td>\n",
              "      <td>3</td>\n",
              "    </tr>\n",
              "    <tr>\n",
              "      <th>595</th>\n",
              "      <td>8.46</td>\n",
              "      <td>48</td>\n",
              "      <td>0</td>\n",
              "      <td>1</td>\n",
              "      <td>0</td>\n",
              "      <td>0</td>\n",
              "      <td>1</td>\n",
              "      <td>0</td>\n",
              "      <td>13</td>\n",
              "      <td>3</td>\n",
              "    </tr>\n",
              "    <tr>\n",
              "      <th>1094</th>\n",
              "      <td>3.82</td>\n",
              "      <td>47</td>\n",
              "      <td>0</td>\n",
              "      <td>1</td>\n",
              "      <td>0</td>\n",
              "      <td>0</td>\n",
              "      <td>0</td>\n",
              "      <td>0</td>\n",
              "      <td>12</td>\n",
              "      <td>3</td>\n",
              "    </tr>\n",
              "    <tr>\n",
              "      <th>831</th>\n",
              "      <td>5.73</td>\n",
              "      <td>47</td>\n",
              "      <td>0</td>\n",
              "      <td>1</td>\n",
              "      <td>0</td>\n",
              "      <td>0</td>\n",
              "      <td>1</td>\n",
              "      <td>0</td>\n",
              "      <td>10</td>\n",
              "      <td>3</td>\n",
              "    </tr>\n",
              "    <tr>\n",
              "      <th>1122</th>\n",
              "      <td>6.25</td>\n",
              "      <td>47</td>\n",
              "      <td>0</td>\n",
              "      <td>0</td>\n",
              "      <td>1</td>\n",
              "      <td>1</td>\n",
              "      <td>1</td>\n",
              "      <td>0</td>\n",
              "      <td>5</td>\n",
              "      <td>4</td>\n",
              "    </tr>\n",
              "  </tbody>\n",
              "</table>\n",
              "</div>"
            ],
            "text/plain": [
              "      wage  exper  union  goodhlth  black  female  married  service  educ  \\\n",
              "323   6.41     48      0         1      0       0        1        0     8   \n",
              "595   8.46     48      0         1      0       0        1        0    13   \n",
              "1094  3.82     47      0         1      0       0        0        0    12   \n",
              "831   5.73     47      0         1      0       0        1        0    10   \n",
              "1122  6.25     47      0         0      1       1        1        0     5   \n",
              "\n",
              "      looks  \n",
              "323       3  \n",
              "595       3  \n",
              "1094      3  \n",
              "831       3  \n",
              "1122      4  "
            ]
          },
          "execution_count": 35,
          "metadata": {},
          "output_type": "execute_result"
        }
      ],
      "source": [
        "# можно задавать отдельно для каждой оси сортировки разные направления\n",
        "df.sort_values(by=['exper', 'wage'], ascending=[False, True]).head()"
      ]
    },
    {
      "cell_type": "markdown",
      "metadata": {
        "id": "G0gMIlKtfVOA"
      },
      "source": [
        "Используя индексацию по колонкам, можно вычислять любые статистики с помощью методов numpy.\n",
        "\n",
        "Например медиана заработной платы и среднее значение."
      ]
    },
    {
      "cell_type": "code",
      "execution_count": null,
      "metadata": {
        "id": "e6-bwF0jfVOA",
        "outputId": "0076c1b1-8330-48b2-97e6-67f529513e67"
      },
      "outputs": [
        {
          "data": {
            "text/plain": [
              "5.3"
            ]
          },
          "execution_count": 36,
          "metadata": {},
          "output_type": "execute_result"
        }
      ],
      "source": [
        "np.median(df['wage'])"
      ]
    },
    {
      "cell_type": "code",
      "execution_count": null,
      "metadata": {
        "id": "s8HT2dcAfVOA",
        "outputId": "dcbbcaa2-8872-499a-fa3c-a77988488d3a"
      },
      "outputs": [
        {
          "data": {
            "text/plain": [
              "6.306690476190475"
            ]
          },
          "execution_count": 37,
          "metadata": {},
          "output_type": "execute_result"
        }
      ],
      "source": [
        "# или встроенные в pandas\n",
        "df['wage'].mean()"
      ]
    },
    {
      "cell_type": "markdown",
      "metadata": {
        "id": "ZLT7ON6vfVOB"
      },
      "source": [
        "Посчитаем долю людей работающих в сервисе"
      ]
    },
    {
      "cell_type": "code",
      "execution_count": null,
      "metadata": {
        "id": "oNdwvCsFfVOB",
        "outputId": "df2e50d1-2ca9-48d0-b0a2-d4711bec55ba"
      },
      "outputs": [
        {
          "data": {
            "text/plain": [
              "0.27380952380952384"
            ]
          },
          "execution_count": 38,
          "metadata": {},
          "output_type": "execute_result"
        }
      ],
      "source": [
        "df['service'].mean()"
      ]
    },
    {
      "cell_type": "markdown",
      "metadata": {
        "id": "yWLxsMKVfVOB"
      },
      "source": [
        "Средняя зарплата среди женщин и мужчин"
      ]
    },
    {
      "cell_type": "code",
      "execution_count": null,
      "metadata": {
        "id": "HYCZQ4B0fVOB",
        "outputId": "800e7769-7d31-45b3-c03e-15613b72dbfc"
      },
      "outputs": [
        {
          "name": "stdout",
          "output_type": "stream",
          "text": [
            "Female avg wage: 4.299357798165137\n",
            "Male avg wage: 7.3688228155339806\n"
          ]
        }
      ],
      "source": [
        "print(\"Female avg wage: {}\\nMale avg wage: {}\".format(\n",
        "    df[df['female'] == 1]['wage'].mean(),\n",
        "    df[df['female'] == 0]['wage'].mean()\n",
        "))"
      ]
    },
    {
      "cell_type": "code",
      "execution_count": null,
      "metadata": {
        "id": "qatjbEDlfVOC",
        "outputId": "992a286b-34ba-48b0-d878-910c90a24f56"
      },
      "outputs": [
        {
          "name": "stdout",
          "output_type": "stream",
          "text": [
            "Service avg wage: 5.899623188405796\n",
            "NotService avg wage: 6.460174863387977\n"
          ]
        }
      ],
      "source": [
        "print(\"Service avg wage: {}\\nNotService avg wage: {}\".format(\n",
        "    df[df['service'] == 1]['wage'].mean(),\n",
        "    df[df['service'] == 0]['wage'].mean()\n",
        "))"
      ]
    },
    {
      "cell_type": "markdown",
      "metadata": {
        "id": "ja6BR8mzfVOC"
      },
      "source": [
        "Можно считать статистики целиком по всем колонкам. Можем сделать сложную логическую подвыборку и посмотреь разницу. Например, как отличаются средние показатели и зумужних и незамужних женщин."
      ]
    },
    {
      "cell_type": "code",
      "execution_count": null,
      "metadata": {
        "id": "c-7KSiiXfVOC",
        "outputId": "658f7c7d-ce0e-4781-e876-18020fbd9a3d"
      },
      "outputs": [
        {
          "data": {
            "text/plain": [
              "wage        -4.298879\n",
              "exper      -13.878924\n",
              "union       -0.197309\n",
              "goodhlth    -0.928251\n",
              "black       -0.139013\n",
              "female      -1.000000\n",
              "married     -0.000000\n",
              "service     -0.448430\n",
              "educ       -12.753363\n",
              "looks       -3.269058\n",
              "dtype: float64"
            ]
          },
          "execution_count": 41,
          "metadata": {},
          "output_type": "execute_result"
        }
      ],
      "source": [
        "df[(df['female'] == 1) & (df['married'] == 1)].mean()\n",
        "- df[(df['female'] == 1) & (df['married'] == 0)].mean()"
      ]
    },
    {
      "cell_type": "code",
      "execution_count": null,
      "metadata": {
        "id": "XPtwNbc2fVOC",
        "outputId": "b6ecb08b-bf62-4e34-a582-090a6a8154a3"
      },
      "outputs": [
        {
          "data": {
            "text/plain": [
              "count    1260.000000\n",
              "mean        3.185714\n",
              "std         0.684877\n",
              "min         1.000000\n",
              "25%         3.000000\n",
              "50%         3.000000\n",
              "75%         4.000000\n",
              "max         5.000000\n",
              "Name: looks, dtype: float64"
            ]
          },
          "execution_count": 42,
          "metadata": {},
          "output_type": "execute_result"
        }
      ],
      "source": [
        "# Можно считать статистики не по всей таблице а только по одной определенной\n",
        "df['looks'].describe()"
      ]
    },
    {
      "cell_type": "markdown",
      "metadata": {
        "id": "UpB7tA7XfVOD"
      },
      "source": [
        "Можно посчитать статистики по подгруппам. Например, какая медиана признаков в группах по внешности?"
      ]
    },
    {
      "cell_type": "code",
      "execution_count": null,
      "metadata": {
        "id": "GefzPGASfVOD",
        "outputId": "6c50dd2b-6cc6-4db6-d301-18f159afd00f"
      },
      "outputs": [
        {
          "data": {
            "text/plain": [
              "<pandas.core.groupby.groupby.DataFrameGroupBy object at 0x7efc4fef85f8>"
            ]
          },
          "execution_count": 43,
          "metadata": {},
          "output_type": "execute_result"
        }
      ],
      "source": [
        "g = df.groupby(by='looks')\n",
        "g  # это ленивая группа, то есть мы задали группировку но еще не вызвали ее. Чтобы запустить её нужны, например, аггрегации."
      ]
    },
    {
      "cell_type": "code",
      "execution_count": null,
      "metadata": {
        "id": "bBjTe2K5fVOD",
        "outputId": "bdff49a6-6dd6-4173-eaf5-0fb693a18cc7"
      },
      "outputs": [
        {
          "data": {
            "text/html": [
              "<div>\n",
              "<style scoped>\n",
              "    .dataframe tbody tr th:only-of-type {\n",
              "        vertical-align: middle;\n",
              "    }\n",
              "\n",
              "    .dataframe tbody tr th {\n",
              "        vertical-align: top;\n",
              "    }\n",
              "\n",
              "    .dataframe thead tr th {\n",
              "        text-align: left;\n",
              "    }\n",
              "\n",
              "    .dataframe thead tr:last-of-type th {\n",
              "        text-align: right;\n",
              "    }\n",
              "</style>\n",
              "<table border=\"1\" class=\"dataframe\">\n",
              "  <thead>\n",
              "    <tr>\n",
              "      <th></th>\n",
              "      <th colspan=\"2\" halign=\"left\">wage</th>\n",
              "      <th colspan=\"2\" halign=\"left\">exper</th>\n",
              "      <th colspan=\"2\" halign=\"left\">union</th>\n",
              "      <th colspan=\"2\" halign=\"left\">goodhlth</th>\n",
              "      <th colspan=\"2\" halign=\"left\">black</th>\n",
              "      <th colspan=\"2\" halign=\"left\">female</th>\n",
              "      <th colspan=\"2\" halign=\"left\">married</th>\n",
              "      <th colspan=\"2\" halign=\"left\">service</th>\n",
              "      <th colspan=\"2\" halign=\"left\">educ</th>\n",
              "    </tr>\n",
              "    <tr>\n",
              "      <th></th>\n",
              "      <th>mean</th>\n",
              "      <th>median</th>\n",
              "      <th>mean</th>\n",
              "      <th>median</th>\n",
              "      <th>mean</th>\n",
              "      <th>median</th>\n",
              "      <th>mean</th>\n",
              "      <th>median</th>\n",
              "      <th>mean</th>\n",
              "      <th>median</th>\n",
              "      <th>mean</th>\n",
              "      <th>median</th>\n",
              "      <th>mean</th>\n",
              "      <th>median</th>\n",
              "      <th>mean</th>\n",
              "      <th>median</th>\n",
              "      <th>mean</th>\n",
              "      <th>median</th>\n",
              "    </tr>\n",
              "    <tr>\n",
              "      <th>looks</th>\n",
              "      <th></th>\n",
              "      <th></th>\n",
              "      <th></th>\n",
              "      <th></th>\n",
              "      <th></th>\n",
              "      <th></th>\n",
              "      <th></th>\n",
              "      <th></th>\n",
              "      <th></th>\n",
              "      <th></th>\n",
              "      <th></th>\n",
              "      <th></th>\n",
              "      <th></th>\n",
              "      <th></th>\n",
              "      <th></th>\n",
              "      <th></th>\n",
              "      <th></th>\n",
              "      <th></th>\n",
              "    </tr>\n",
              "  </thead>\n",
              "  <tbody>\n",
              "    <tr>\n",
              "      <th>1</th>\n",
              "      <td>4.621538</td>\n",
              "      <td>3.460</td>\n",
              "      <td>27.000000</td>\n",
              "      <td>32.0</td>\n",
              "      <td>0.230769</td>\n",
              "      <td>0</td>\n",
              "      <td>0.846154</td>\n",
              "      <td>1</td>\n",
              "      <td>0.153846</td>\n",
              "      <td>0</td>\n",
              "      <td>0.384615</td>\n",
              "      <td>0</td>\n",
              "      <td>0.615385</td>\n",
              "      <td>1</td>\n",
              "      <td>0.307692</td>\n",
              "      <td>0</td>\n",
              "      <td>10.000000</td>\n",
              "      <td>12</td>\n",
              "    </tr>\n",
              "    <tr>\n",
              "      <th>2</th>\n",
              "      <td>5.328803</td>\n",
              "      <td>4.595</td>\n",
              "      <td>18.922535</td>\n",
              "      <td>18.0</td>\n",
              "      <td>0.232394</td>\n",
              "      <td>0</td>\n",
              "      <td>0.936620</td>\n",
              "      <td>1</td>\n",
              "      <td>0.035211</td>\n",
              "      <td>0</td>\n",
              "      <td>0.380282</td>\n",
              "      <td>0</td>\n",
              "      <td>0.711268</td>\n",
              "      <td>1</td>\n",
              "      <td>0.302817</td>\n",
              "      <td>0</td>\n",
              "      <td>12.105634</td>\n",
              "      <td>12</td>\n",
              "    </tr>\n",
              "    <tr>\n",
              "      <th>3</th>\n",
              "      <td>6.504598</td>\n",
              "      <td>5.635</td>\n",
              "      <td>19.491690</td>\n",
              "      <td>18.0</td>\n",
              "      <td>0.310249</td>\n",
              "      <td>0</td>\n",
              "      <td>0.921053</td>\n",
              "      <td>1</td>\n",
              "      <td>0.080332</td>\n",
              "      <td>0</td>\n",
              "      <td>0.322715</td>\n",
              "      <td>0</td>\n",
              "      <td>0.716066</td>\n",
              "      <td>1</td>\n",
              "      <td>0.254848</td>\n",
              "      <td>0</td>\n",
              "      <td>12.421053</td>\n",
              "      <td>12</td>\n",
              "    </tr>\n",
              "    <tr>\n",
              "      <th>4</th>\n",
              "      <td>6.299341</td>\n",
              "      <td>5.240</td>\n",
              "      <td>15.406593</td>\n",
              "      <td>12.5</td>\n",
              "      <td>0.219780</td>\n",
              "      <td>0</td>\n",
              "      <td>0.956044</td>\n",
              "      <td>1</td>\n",
              "      <td>0.074176</td>\n",
              "      <td>0</td>\n",
              "      <td>0.373626</td>\n",
              "      <td>0</td>\n",
              "      <td>0.651099</td>\n",
              "      <td>1</td>\n",
              "      <td>0.299451</td>\n",
              "      <td>0</td>\n",
              "      <td>13.074176</td>\n",
              "      <td>13</td>\n",
              "    </tr>\n",
              "    <tr>\n",
              "      <th>5</th>\n",
              "      <td>7.388421</td>\n",
              "      <td>4.810</td>\n",
              "      <td>11.631579</td>\n",
              "      <td>8.0</td>\n",
              "      <td>0.157895</td>\n",
              "      <td>0</td>\n",
              "      <td>1.000000</td>\n",
              "      <td>1</td>\n",
              "      <td>0.052632</td>\n",
              "      <td>0</td>\n",
              "      <td>0.421053</td>\n",
              "      <td>0</td>\n",
              "      <td>0.421053</td>\n",
              "      <td>0</td>\n",
              "      <td>0.263158</td>\n",
              "      <td>0</td>\n",
              "      <td>13.368421</td>\n",
              "      <td>12</td>\n",
              "    </tr>\n",
              "  </tbody>\n",
              "</table>\n",
              "</div>"
            ],
            "text/plain": [
              "           wage             exper            union         goodhlth         \\\n",
              "           mean median       mean median      mean median      mean median   \n",
              "looks                                                                        \n",
              "1      4.621538  3.460  27.000000   32.0  0.230769      0  0.846154      1   \n",
              "2      5.328803  4.595  18.922535   18.0  0.232394      0  0.936620      1   \n",
              "3      6.504598  5.635  19.491690   18.0  0.310249      0  0.921053      1   \n",
              "4      6.299341  5.240  15.406593   12.5  0.219780      0  0.956044      1   \n",
              "5      7.388421  4.810  11.631579    8.0  0.157895      0  1.000000      1   \n",
              "\n",
              "          black           female          married          service         \\\n",
              "           mean median      mean median      mean median      mean median   \n",
              "looks                                                                       \n",
              "1      0.153846      0  0.384615      0  0.615385      1  0.307692      0   \n",
              "2      0.035211      0  0.380282      0  0.711268      1  0.302817      0   \n",
              "3      0.080332      0  0.322715      0  0.716066      1  0.254848      0   \n",
              "4      0.074176      0  0.373626      0  0.651099      1  0.299451      0   \n",
              "5      0.052632      0  0.421053      0  0.421053      0  0.263158      0   \n",
              "\n",
              "            educ         \n",
              "            mean median  \n",
              "looks                    \n",
              "1      10.000000     12  \n",
              "2      12.105634     12  \n",
              "3      12.421053     12  \n",
              "4      13.074176     13  \n",
              "5      13.368421     12  "
            ]
          },
          "execution_count": 44,
          "metadata": {},
          "output_type": "execute_result"
        }
      ],
      "source": [
        "df.groupby(by='looks').agg([np.mean, np.median])"
      ]
    },
    {
      "cell_type": "code",
      "execution_count": null,
      "metadata": {
        "id": "cGnMOSv7fVOD",
        "outputId": "d38e14c1-2b43-49dd-8229-0c4afc2c2619"
      },
      "outputs": [
        {
          "data": {
            "text/html": [
              "<div>\n",
              "<style scoped>\n",
              "    .dataframe tbody tr th:only-of-type {\n",
              "        vertical-align: middle;\n",
              "    }\n",
              "\n",
              "    .dataframe tbody tr th {\n",
              "        vertical-align: top;\n",
              "    }\n",
              "\n",
              "    .dataframe thead th {\n",
              "        text-align: right;\n",
              "    }\n",
              "</style>\n",
              "<table border=\"1\" class=\"dataframe\">\n",
              "  <thead>\n",
              "    <tr style=\"text-align: right;\">\n",
              "      <th></th>\n",
              "      <th>wage</th>\n",
              "      <th>exper</th>\n",
              "      <th>union</th>\n",
              "      <th>goodhlth</th>\n",
              "      <th>black</th>\n",
              "      <th>female</th>\n",
              "      <th>married</th>\n",
              "      <th>service</th>\n",
              "      <th>educ</th>\n",
              "      <th>looks</th>\n",
              "    </tr>\n",
              "  </thead>\n",
              "  <tbody>\n",
              "    <tr>\n",
              "      <th>28</th>\n",
              "      <td>8.35</td>\n",
              "      <td>41</td>\n",
              "      <td>0</td>\n",
              "      <td>0</td>\n",
              "      <td>0</td>\n",
              "      <td>0</td>\n",
              "      <td>1</td>\n",
              "      <td>1</td>\n",
              "      <td>16</td>\n",
              "      <td>1</td>\n",
              "    </tr>\n",
              "    <tr>\n",
              "      <th>200</th>\n",
              "      <td>3.75</td>\n",
              "      <td>36</td>\n",
              "      <td>0</td>\n",
              "      <td>1</td>\n",
              "      <td>0</td>\n",
              "      <td>0</td>\n",
              "      <td>0</td>\n",
              "      <td>0</td>\n",
              "      <td>12</td>\n",
              "      <td>1</td>\n",
              "    </tr>\n",
              "    <tr>\n",
              "      <th>248</th>\n",
              "      <td>10.99</td>\n",
              "      <td>40</td>\n",
              "      <td>0</td>\n",
              "      <td>1</td>\n",
              "      <td>0</td>\n",
              "      <td>0</td>\n",
              "      <td>1</td>\n",
              "      <td>0</td>\n",
              "      <td>12</td>\n",
              "      <td>1</td>\n",
              "    </tr>\n",
              "    <tr>\n",
              "      <th>327</th>\n",
              "      <td>1.65</td>\n",
              "      <td>24</td>\n",
              "      <td>0</td>\n",
              "      <td>1</td>\n",
              "      <td>0</td>\n",
              "      <td>1</td>\n",
              "      <td>0</td>\n",
              "      <td>1</td>\n",
              "      <td>13</td>\n",
              "      <td>1</td>\n",
              "    </tr>\n",
              "    <tr>\n",
              "      <th>751</th>\n",
              "      <td>7.93</td>\n",
              "      <td>39</td>\n",
              "      <td>1</td>\n",
              "      <td>1</td>\n",
              "      <td>0</td>\n",
              "      <td>0</td>\n",
              "      <td>1</td>\n",
              "      <td>0</td>\n",
              "      <td>12</td>\n",
              "      <td>1</td>\n",
              "    </tr>\n",
              "  </tbody>\n",
              "</table>\n",
              "</div>"
            ],
            "text/plain": [
              "      wage  exper  union  goodhlth  black  female  married  service  educ  \\\n",
              "28    8.35     41      0         0      0       0        1        1    16   \n",
              "200   3.75     36      0         1      0       0        0        0    12   \n",
              "248  10.99     40      0         1      0       0        1        0    12   \n",
              "327   1.65     24      0         1      0       1        0        1    13   \n",
              "751   7.93     39      1         1      0       0        1        0    12   \n",
              "\n",
              "     looks  \n",
              "28       1  \n",
              "200      1  \n",
              "248      1  \n",
              "327      1  \n",
              "751      1  "
            ]
          },
          "execution_count": 45,
          "metadata": {},
          "output_type": "execute_result"
        }
      ],
      "source": [
        "# Можно посмотреть данные по подгруппе, если понадобится, когда у вас сложное правило группы\n",
        "g.get_group(1).head()"
      ]
    },
    {
      "cell_type": "code",
      "execution_count": null,
      "metadata": {
        "id": "twu-HStQfVOE",
        "outputId": "d3bf8bf2-19fd-4617-d6c1-057ad43e4b77"
      },
      "outputs": [
        {
          "data": {
            "text/plain": [
              "looks\n",
              "1     13\n",
              "2    142\n",
              "3    722\n",
              "4    364\n",
              "5     19\n",
              "Name: wage, dtype: int64"
            ]
          },
          "execution_count": 46,
          "metadata": {},
          "output_type": "execute_result"
        }
      ],
      "source": [
        "# Это немного странно, но так можно посмотреть сколько элементов в каждой группе\n",
        "df.groupby('looks').count()['wage']"
      ]
    },
    {
      "cell_type": "code",
      "execution_count": null,
      "metadata": {
        "id": "gw_89bGtfVOE"
      },
      "outputs": [],
      "source": [
        "# выставим флаг jupyter, чтобы он повзолил рисовать граифики\n",
        "%matplotlib inline"
      ]
    },
    {
      "cell_type": "code",
      "execution_count": null,
      "metadata": {
        "id": "TdL5qmzvfVOE",
        "outputId": "80454f81-cb6d-4f3f-976e-4918213e2626"
      },
      "outputs": [
        {
          "data": {
            "text/plain": [
              "<matplotlib.axes._subplots.AxesSubplot at 0x7efc4d2c5828>"
            ]
          },
          "execution_count": 48,
          "metadata": {},
          "output_type": "execute_result"
        },
        {
          "data": {
            "image/png": "[encoded data removed]",
            "text/plain": [
              "<Figure size 432x288 with 1 Axes>"
            ]
          },
          "metadata": {},
          "output_type": "display_data"
        }
      ],
      "source": [
        "df.groupby('looks').count()['wage'].plot(kind='bar') # типичное нормальное распределение красоты"
      ]
    },
    {
      "cell_type": "markdown",
      "metadata": {
        "id": "xa_NpIxsfVOE"
      },
      "source": [
        "### Сводные таблицы\n",
        "\n",
        "Можно посмотреть как одна наблюдаемая величина распределена в контексте других признаков."
      ]
    },
    {
      "cell_type": "code",
      "execution_count": null,
      "metadata": {
        "id": "GfQz8qeDfVOF",
        "outputId": "2576350f-0aa2-4b75-c584-4a519a5844b8"
      },
      "outputs": [
        {
          "data": {
            "text/html": [
              "<div>\n",
              "<style scoped>\n",
              "    .dataframe tbody tr th:only-of-type {\n",
              "        vertical-align: middle;\n",
              "    }\n",
              "\n",
              "    .dataframe tbody tr th {\n",
              "        vertical-align: top;\n",
              "    }\n",
              "\n",
              "    .dataframe thead th {\n",
              "        text-align: right;\n",
              "    }\n",
              "</style>\n",
              "<table border=\"1\" class=\"dataframe\">\n",
              "  <thead>\n",
              "    <tr style=\"text-align: right;\">\n",
              "      <th>educ</th>\n",
              "      <th>5</th>\n",
              "      <th>8</th>\n",
              "      <th>10</th>\n",
              "      <th>12</th>\n",
              "      <th>13</th>\n",
              "      <th>14</th>\n",
              "      <th>16</th>\n",
              "      <th>17</th>\n",
              "    </tr>\n",
              "    <tr>\n",
              "      <th>looks</th>\n",
              "      <th></th>\n",
              "      <th></th>\n",
              "      <th></th>\n",
              "      <th></th>\n",
              "      <th></th>\n",
              "      <th></th>\n",
              "      <th></th>\n",
              "      <th></th>\n",
              "    </tr>\n",
              "  </thead>\n",
              "  <tbody>\n",
              "    <tr>\n",
              "      <th>1</th>\n",
              "      <td>4</td>\n",
              "      <td>1</td>\n",
              "      <td>0</td>\n",
              "      <td>5</td>\n",
              "      <td>2</td>\n",
              "      <td>0</td>\n",
              "      <td>1</td>\n",
              "      <td>0</td>\n",
              "    </tr>\n",
              "    <tr>\n",
              "      <th>2</th>\n",
              "      <td>8</td>\n",
              "      <td>8</td>\n",
              "      <td>21</td>\n",
              "      <td>49</td>\n",
              "      <td>27</td>\n",
              "      <td>7</td>\n",
              "      <td>6</td>\n",
              "      <td>16</td>\n",
              "    </tr>\n",
              "    <tr>\n",
              "      <th>3</th>\n",
              "      <td>23</td>\n",
              "      <td>26</td>\n",
              "      <td>111</td>\n",
              "      <td>267</td>\n",
              "      <td>134</td>\n",
              "      <td>25</td>\n",
              "      <td>73</td>\n",
              "      <td>63</td>\n",
              "    </tr>\n",
              "    <tr>\n",
              "      <th>4</th>\n",
              "      <td>7</td>\n",
              "      <td>9</td>\n",
              "      <td>23</td>\n",
              "      <td>138</td>\n",
              "      <td>80</td>\n",
              "      <td>18</td>\n",
              "      <td>39</td>\n",
              "      <td>50</td>\n",
              "    </tr>\n",
              "    <tr>\n",
              "      <th>5</th>\n",
              "      <td>0</td>\n",
              "      <td>0</td>\n",
              "      <td>1</td>\n",
              "      <td>9</td>\n",
              "      <td>3</td>\n",
              "      <td>1</td>\n",
              "      <td>2</td>\n",
              "      <td>3</td>\n",
              "    </tr>\n",
              "  </tbody>\n",
              "</table>\n",
              "</div>"
            ],
            "text/plain": [
              "educ   5   8    10   12   13  14  16  17\n",
              "looks                                   \n",
              "1       4   1    0    5    2   0   1   0\n",
              "2       8   8   21   49   27   7   6  16\n",
              "3      23  26  111  267  134  25  73  63\n",
              "4       7   9   23  138   80  18  39  50\n",
              "5       0   0    1    9    3   1   2   3"
            ]
          },
          "execution_count": 49,
          "metadata": {},
          "output_type": "execute_result"
        }
      ],
      "source": [
        "# кросстабуляция. По сути в ячейках количество элементов, удовлетворяющие одновременно двум критериям\n",
        "pd.crosstab(df['looks'], df['educ'])"
      ]
    },
    {
      "cell_type": "code",
      "execution_count": null,
      "metadata": {
        "id": "o7CWCck3fVOF",
        "outputId": "80b0d2a5-b738-469d-c3f3-4c59d1c049eb"
      },
      "outputs": [
        {
          "data": {
            "text/html": [
              "<div>\n",
              "<style scoped>\n",
              "    .dataframe tbody tr th:only-of-type {\n",
              "        vertical-align: middle;\n",
              "    }\n",
              "\n",
              "    .dataframe tbody tr th {\n",
              "        vertical-align: top;\n",
              "    }\n",
              "\n",
              "    .dataframe thead th {\n",
              "        text-align: right;\n",
              "    }\n",
              "</style>\n",
              "<table border=\"1\" class=\"dataframe\">\n",
              "  <thead>\n",
              "    <tr style=\"text-align: right;\">\n",
              "      <th>exper</th>\n",
              "      <th>0.0</th>\n",
              "      <th>1.0</th>\n",
              "      <th>1.2</th>\n",
              "      <th>1.3</th>\n",
              "      <th>1.4</th>\n",
              "      <th>1.5</th>\n",
              "      <th>1.6</th>\n",
              "      <th>1.7</th>\n",
              "      <th>1.8</th>\n",
              "      <th>1.9</th>\n",
              "      <th>2.0</th>\n",
              "      <th>2.1</th>\n",
              "      <th>2.2</th>\n",
              "      <th>2.3</th>\n",
              "      <th>2.4</th>\n",
              "      <th>2.5</th>\n",
              "      <th>2.6</th>\n",
              "    </tr>\n",
              "    <tr>\n",
              "      <th>wage</th>\n",
              "      <th></th>\n",
              "      <th></th>\n",
              "      <th></th>\n",
              "      <th></th>\n",
              "      <th></th>\n",
              "      <th></th>\n",
              "      <th></th>\n",
              "      <th></th>\n",
              "      <th></th>\n",
              "      <th></th>\n",
              "      <th></th>\n",
              "      <th></th>\n",
              "      <th></th>\n",
              "      <th></th>\n",
              "      <th></th>\n",
              "      <th></th>\n",
              "      <th></th>\n",
              "    </tr>\n",
              "  </thead>\n",
              "  <tbody>\n",
              "    <tr>\n",
              "      <th>0.0</th>\n",
              "      <td>1</td>\n",
              "      <td>1</td>\n",
              "      <td>4</td>\n",
              "      <td>0</td>\n",
              "      <td>3</td>\n",
              "      <td>3</td>\n",
              "      <td>0</td>\n",
              "      <td>3</td>\n",
              "      <td>2</td>\n",
              "      <td>3</td>\n",
              "      <td>1</td>\n",
              "      <td>1</td>\n",
              "      <td>1</td>\n",
              "      <td>2</td>\n",
              "      <td>1</td>\n",
              "      <td>1</td>\n",
              "      <td>0</td>\n",
              "    </tr>\n",
              "    <tr>\n",
              "      <th>1.0</th>\n",
              "      <td>3</td>\n",
              "      <td>14</td>\n",
              "      <td>19</td>\n",
              "      <td>33</td>\n",
              "      <td>27</td>\n",
              "      <td>31</td>\n",
              "      <td>42</td>\n",
              "      <td>41</td>\n",
              "      <td>34</td>\n",
              "      <td>42</td>\n",
              "      <td>31</td>\n",
              "      <td>32</td>\n",
              "      <td>29</td>\n",
              "      <td>23</td>\n",
              "      <td>26</td>\n",
              "      <td>16</td>\n",
              "      <td>11</td>\n",
              "    </tr>\n",
              "    <tr>\n",
              "      <th>2.0</th>\n",
              "      <td>0</td>\n",
              "      <td>4</td>\n",
              "      <td>0</td>\n",
              "      <td>11</td>\n",
              "      <td>12</td>\n",
              "      <td>25</td>\n",
              "      <td>37</td>\n",
              "      <td>39</td>\n",
              "      <td>64</td>\n",
              "      <td>69</td>\n",
              "      <td>59</td>\n",
              "      <td>92</td>\n",
              "      <td>51</td>\n",
              "      <td>71</td>\n",
              "      <td>67</td>\n",
              "      <td>73</td>\n",
              "      <td>21</td>\n",
              "    </tr>\n",
              "    <tr>\n",
              "      <th>3.0</th>\n",
              "      <td>0</td>\n",
              "      <td>0</td>\n",
              "      <td>0</td>\n",
              "      <td>1</td>\n",
              "      <td>0</td>\n",
              "      <td>0</td>\n",
              "      <td>2</td>\n",
              "      <td>3</td>\n",
              "      <td>5</td>\n",
              "      <td>9</td>\n",
              "      <td>7</td>\n",
              "      <td>4</td>\n",
              "      <td>16</td>\n",
              "      <td>12</td>\n",
              "      <td>12</td>\n",
              "      <td>8</td>\n",
              "      <td>2</td>\n",
              "    </tr>\n",
              "    <tr>\n",
              "      <th>4.0</th>\n",
              "      <td>0</td>\n",
              "      <td>0</td>\n",
              "      <td>0</td>\n",
              "      <td>0</td>\n",
              "      <td>0</td>\n",
              "      <td>0</td>\n",
              "      <td>0</td>\n",
              "      <td>1</td>\n",
              "      <td>0</td>\n",
              "      <td>0</td>\n",
              "      <td>1</td>\n",
              "      <td>0</td>\n",
              "      <td>0</td>\n",
              "      <td>1</td>\n",
              "      <td>0</td>\n",
              "      <td>0</td>\n",
              "      <td>0</td>\n",
              "    </tr>\n",
              "  </tbody>\n",
              "</table>\n",
              "</div>"
            ],
            "text/plain": [
              "exper  0.0  1.0  1.2  1.3  1.4  1.5  1.6  1.7  1.8  1.9  2.0  2.1  2.2  2.3  \\\n",
              "wage                                                                          \n",
              "0.0      1    1    4    0    3    3    0    3    2    3    1    1    1    2   \n",
              "1.0      3   14   19   33   27   31   42   41   34   42   31   32   29   23   \n",
              "2.0      0    4    0   11   12   25   37   39   64   69   59   92   51   71   \n",
              "3.0      0    0    0    1    0    0    2    3    5    9    7    4   16   12   \n",
              "4.0      0    0    0    0    0    0    0    1    0    0    1    0    0    1   \n",
              "\n",
              "exper  2.4  2.5  2.6  \n",
              "wage                  \n",
              "0.0      1    1    0  \n",
              "1.0     26   16   11  \n",
              "2.0     67   73   21  \n",
              "3.0     12    8    2  \n",
              "4.0      0    0    0  "
            ]
          },
          "execution_count": 50,
          "metadata": {},
          "output_type": "execute_result"
        }
      ],
      "source": [
        "wage_segments = np.round(np.log(df['wage']), 0)  # логарифмическая шкала зарплат с округлением, таким образом у нас 4 группы\n",
        "exper_segments = np.round(np.power(df['exper'], 0.25), 1)  # магическая шкала опыта, чтобы получить несколько групп\n",
        "pd.crosstab(wage_segments, exper_segments)\n",
        "\n",
        "# Что мы можем сказать по поводу этих данных?"
      ]
    },
    {
      "cell_type": "markdown",
      "metadata": {
        "id": "FoQJxwwlfVOF"
      },
      "source": [
        "Корреляция признаков между собой - corr()"
      ]
    },
    {
      "cell_type": "code",
      "execution_count": null,
      "metadata": {
        "id": "lYLGACJ4fVOG",
        "outputId": "2942bb58-08e7-4d93-a9fd-c8fa7558c83f"
      },
      "outputs": [
        {
          "data": {
            "text/html": [
              "<div>\n",
              "<style scoped>\n",
              "    .dataframe tbody tr th:only-of-type {\n",
              "        vertical-align: middle;\n",
              "    }\n",
              "\n",
              "    .dataframe tbody tr th {\n",
              "        vertical-align: top;\n",
              "    }\n",
              "\n",
              "    .dataframe thead th {\n",
              "        text-align: right;\n",
              "    }\n",
              "</style>\n",
              "<table border=\"1\" class=\"dataframe\">\n",
              "  <thead>\n",
              "    <tr style=\"text-align: right;\">\n",
              "      <th></th>\n",
              "      <th>wage</th>\n",
              "      <th>exper</th>\n",
              "      <th>union</th>\n",
              "      <th>goodhlth</th>\n",
              "      <th>black</th>\n",
              "      <th>female</th>\n",
              "      <th>married</th>\n",
              "      <th>service</th>\n",
              "      <th>educ</th>\n",
              "      <th>looks</th>\n",
              "    </tr>\n",
              "  </thead>\n",
              "  <tbody>\n",
              "    <tr>\n",
              "      <th>wage</th>\n",
              "      <td>1.000000</td>\n",
              "      <td>0.234632</td>\n",
              "      <td>0.094529</td>\n",
              "      <td>0.006756</td>\n",
              "      <td>-0.059052</td>\n",
              "      <td>-0.313419</td>\n",
              "      <td>0.184521</td>\n",
              "      <td>-0.053653</td>\n",
              "      <td>0.212333</td>\n",
              "      <td>0.055019</td>\n",
              "    </tr>\n",
              "    <tr>\n",
              "      <th>exper</th>\n",
              "      <td>0.234632</td>\n",
              "      <td>1.000000</td>\n",
              "      <td>0.089792</td>\n",
              "      <td>-0.131609</td>\n",
              "      <td>0.007566</td>\n",
              "      <td>-0.247209</td>\n",
              "      <td>0.255607</td>\n",
              "      <td>-0.057328</td>\n",
              "      <td>-0.186200</td>\n",
              "      <td>-0.155035</td>\n",
              "    </tr>\n",
              "    <tr>\n",
              "      <th>union</th>\n",
              "      <td>0.094529</td>\n",
              "      <td>0.089792</td>\n",
              "      <td>1.000000</td>\n",
              "      <td>-0.022398</td>\n",
              "      <td>0.031939</td>\n",
              "      <td>-0.100037</td>\n",
              "      <td>0.053629</td>\n",
              "      <td>-0.103633</td>\n",
              "      <td>-0.096022</td>\n",
              "      <td>-0.043495</td>\n",
              "    </tr>\n",
              "    <tr>\n",
              "      <th>goodhlth</th>\n",
              "      <td>0.006756</td>\n",
              "      <td>-0.131609</td>\n",
              "      <td>-0.022398</td>\n",
              "      <td>1.000000</td>\n",
              "      <td>-0.034073</td>\n",
              "      <td>-0.039684</td>\n",
              "      <td>-0.013315</td>\n",
              "      <td>0.049947</td>\n",
              "      <td>0.107129</td>\n",
              "      <td>0.058558</td>\n",
              "    </tr>\n",
              "    <tr>\n",
              "      <th>black</th>\n",
              "      <td>-0.059052</td>\n",
              "      <td>0.007566</td>\n",
              "      <td>0.031939</td>\n",
              "      <td>-0.034073</td>\n",
              "      <td>1.000000</td>\n",
              "      <td>0.113703</td>\n",
              "      <td>-0.133306</td>\n",
              "      <td>0.017261</td>\n",
              "      <td>-0.138157</td>\n",
              "      <td>0.012098</td>\n",
              "    </tr>\n",
              "    <tr>\n",
              "      <th>female</th>\n",
              "      <td>-0.313419</td>\n",
              "      <td>-0.247209</td>\n",
              "      <td>-0.100037</td>\n",
              "      <td>-0.039684</td>\n",
              "      <td>0.113703</td>\n",
              "      <td>1.000000</td>\n",
              "      <td>-0.319228</td>\n",
              "      <td>0.267961</td>\n",
              "      <td>0.009105</td>\n",
              "      <td>0.017129</td>\n",
              "    </tr>\n",
              "    <tr>\n",
              "      <th>married</th>\n",
              "      <td>0.184521</td>\n",
              "      <td>0.255607</td>\n",
              "      <td>0.053629</td>\n",
              "      <td>-0.013315</td>\n",
              "      <td>-0.133306</td>\n",
              "      <td>-0.319228</td>\n",
              "      <td>1.000000</td>\n",
              "      <td>-0.075082</td>\n",
              "      <td>-0.047674</td>\n",
              "      <td>-0.064636</td>\n",
              "    </tr>\n",
              "    <tr>\n",
              "      <th>service</th>\n",
              "      <td>-0.053653</td>\n",
              "      <td>-0.057328</td>\n",
              "      <td>-0.103633</td>\n",
              "      <td>0.049947</td>\n",
              "      <td>0.017261</td>\n",
              "      <td>0.267961</td>\n",
              "      <td>-0.075082</td>\n",
              "      <td>1.000000</td>\n",
              "      <td>0.301628</td>\n",
              "      <td>0.010213</td>\n",
              "    </tr>\n",
              "    <tr>\n",
              "      <th>educ</th>\n",
              "      <td>0.212333</td>\n",
              "      <td>-0.186200</td>\n",
              "      <td>-0.096022</td>\n",
              "      <td>0.107129</td>\n",
              "      <td>-0.138157</td>\n",
              "      <td>0.009105</td>\n",
              "      <td>-0.047674</td>\n",
              "      <td>0.301628</td>\n",
              "      <td>1.000000</td>\n",
              "      <td>0.153842</td>\n",
              "    </tr>\n",
              "    <tr>\n",
              "      <th>looks</th>\n",
              "      <td>0.055019</td>\n",
              "      <td>-0.155035</td>\n",
              "      <td>-0.043495</td>\n",
              "      <td>0.058558</td>\n",
              "      <td>0.012098</td>\n",
              "      <td>0.017129</td>\n",
              "      <td>-0.064636</td>\n",
              "      <td>0.010213</td>\n",
              "      <td>0.153842</td>\n",
              "      <td>1.000000</td>\n",
              "    </tr>\n",
              "  </tbody>\n",
              "</table>\n",
              "</div>"
            ],
            "text/plain": [
              "              wage     exper     union  goodhlth     black    female  \\\n",
              "wage      1.000000  0.234632  0.094529  0.006756 -0.059052 -0.313419   \n",
              "exper     0.234632  1.000000  0.089792 -0.131609  0.007566 -0.247209   \n",
              "union     0.094529  0.089792  1.000000 -0.022398  0.031939 -0.100037   \n",
              "goodhlth  0.006756 -0.131609 -0.022398  1.000000 -0.034073 -0.039684   \n",
              "black    -0.059052  0.007566  0.031939 -0.034073  1.000000  0.113703   \n",
              "female   -0.313419 -0.247209 -0.100037 -0.039684  0.113703  1.000000   \n",
              "married   0.184521  0.255607  0.053629 -0.013315 -0.133306 -0.319228   \n",
              "service  -0.053653 -0.057328 -0.103633  0.049947  0.017261  0.267961   \n",
              "educ      0.212333 -0.186200 -0.096022  0.107129 -0.138157  0.009105   \n",
              "looks     0.055019 -0.155035 -0.043495  0.058558  0.012098  0.017129   \n",
              "\n",
              "           married   service      educ     looks  \n",
              "wage      0.184521 -0.053653  0.212333  0.055019  \n",
              "exper     0.255607 -0.057328 -0.186200 -0.155035  \n",
              "union     0.053629 -0.103633 -0.096022 -0.043495  \n",
              "goodhlth -0.013315  0.049947  0.107129  0.058558  \n",
              "black    -0.133306  0.017261 -0.138157  0.012098  \n",
              "female   -0.319228  0.267961  0.009105  0.017129  \n",
              "married   1.000000 -0.075082 -0.047674 -0.064636  \n",
              "service  -0.075082  1.000000  0.301628  0.010213  \n",
              "educ     -0.047674  0.301628  1.000000  0.153842  \n",
              "looks    -0.064636  0.010213  0.153842  1.000000  "
            ]
          },
          "execution_count": 41,
          "metadata": {},
          "output_type": "execute_result"
        }
      ],
      "source": [
        "corr = df.corr()\n",
        "corr"
      ]
    },
    {
      "cell_type": "markdown",
      "metadata": {
        "id": "g4I59cNsfVOG"
      },
      "source": [
        "Корреляции обычно не очень удобно рассматривать в виде чисел, легче анализировать картинки"
      ]
    },
    {
      "cell_type": "code",
      "execution_count": null,
      "metadata": {
        "id": "CJeckDb_fVOG",
        "outputId": "061d390a-8cd1-4605-ef8a-7faf25f93685"
      },
      "outputs": [
        {
          "data": {
            "text/plain": [
              "<matplotlib.axes._subplots.AxesSubplot at 0x1168bc048>"
            ]
          },
          "execution_count": 49,
          "metadata": {},
          "output_type": "execute_result"
        },
        {
          "data": {
            "image/png": "[encoded data removed]",
            "text/plain": [
              "<Figure size 720x720 with 2 Axes>"
            ]
          },
          "metadata": {
            "needs_background": "light"
          },
          "output_type": "display_data"
        }
      ],
      "source": [
        "import seaborn as sns\n",
        "from matplotlib import pyplot as plt\n",
        "\n",
        "plt.figure(figsize=(10,10)) # изменим размер графика, сделаем кго больше\n",
        "sns.heatmap(corr, square=True, annot=True, fmt=\".2f\")"
      ]
    },
    {
      "cell_type": "markdown",
      "metadata": {
        "id": "cIq7WOD5fVOG"
      },
      "source": [
        "### Генерация новых колонок"
      ]
    },
    {
      "cell_type": "code",
      "execution_count": null,
      "metadata": {
        "id": "JpirnyRmfVOH",
        "outputId": "8d883c92-eb6e-4541-e3d8-3ed624e00c7e"
      },
      "outputs": [
        {
          "data": {
            "text/html": [
              "<div>\n",
              "<style scoped>\n",
              "    .dataframe tbody tr th:only-of-type {\n",
              "        vertical-align: middle;\n",
              "    }\n",
              "\n",
              "    .dataframe tbody tr th {\n",
              "        vertical-align: top;\n",
              "    }\n",
              "\n",
              "    .dataframe thead th {\n",
              "        text-align: right;\n",
              "    }\n",
              "</style>\n",
              "<table border=\"1\" class=\"dataframe\">\n",
              "  <thead>\n",
              "    <tr style=\"text-align: right;\">\n",
              "      <th></th>\n",
              "      <th>wage</th>\n",
              "      <th>exper</th>\n",
              "      <th>union</th>\n",
              "      <th>goodhlth</th>\n",
              "      <th>black</th>\n",
              "      <th>female</th>\n",
              "      <th>married</th>\n",
              "      <th>service</th>\n",
              "      <th>educ</th>\n",
              "      <th>looks</th>\n",
              "    </tr>\n",
              "  </thead>\n",
              "  <tbody>\n",
              "    <tr>\n",
              "      <th>0</th>\n",
              "      <td>5.73</td>\n",
              "      <td>30</td>\n",
              "      <td>0</td>\n",
              "      <td>1</td>\n",
              "      <td>0</td>\n",
              "      <td>1</td>\n",
              "      <td>1</td>\n",
              "      <td>1</td>\n",
              "      <td>14</td>\n",
              "      <td>4</td>\n",
              "    </tr>\n",
              "    <tr>\n",
              "      <th>1</th>\n",
              "      <td>4.28</td>\n",
              "      <td>28</td>\n",
              "      <td>0</td>\n",
              "      <td>1</td>\n",
              "      <td>0</td>\n",
              "      <td>1</td>\n",
              "      <td>1</td>\n",
              "      <td>0</td>\n",
              "      <td>12</td>\n",
              "      <td>3</td>\n",
              "    </tr>\n",
              "    <tr>\n",
              "      <th>2</th>\n",
              "      <td>7.96</td>\n",
              "      <td>35</td>\n",
              "      <td>0</td>\n",
              "      <td>1</td>\n",
              "      <td>0</td>\n",
              "      <td>1</td>\n",
              "      <td>0</td>\n",
              "      <td>0</td>\n",
              "      <td>10</td>\n",
              "      <td>4</td>\n",
              "    </tr>\n",
              "    <tr>\n",
              "      <th>3</th>\n",
              "      <td>11.57</td>\n",
              "      <td>38</td>\n",
              "      <td>0</td>\n",
              "      <td>1</td>\n",
              "      <td>0</td>\n",
              "      <td>0</td>\n",
              "      <td>1</td>\n",
              "      <td>1</td>\n",
              "      <td>16</td>\n",
              "      <td>3</td>\n",
              "    </tr>\n",
              "    <tr>\n",
              "      <th>4</th>\n",
              "      <td>11.42</td>\n",
              "      <td>27</td>\n",
              "      <td>0</td>\n",
              "      <td>1</td>\n",
              "      <td>0</td>\n",
              "      <td>0</td>\n",
              "      <td>1</td>\n",
              "      <td>0</td>\n",
              "      <td>16</td>\n",
              "      <td>3</td>\n",
              "    </tr>\n",
              "  </tbody>\n",
              "</table>\n",
              "</div>"
            ],
            "text/plain": [
              "    wage  exper  union  goodhlth  black  female  married  service  educ  looks\n",
              "0   5.73     30      0         1      0       1        1        1    14      4\n",
              "1   4.28     28      0         1      0       1        1        0    12      3\n",
              "2   7.96     35      0         1      0       1        0        0    10      4\n",
              "3  11.57     38      0         1      0       0        1        1    16      3\n",
              "4  11.42     27      0         1      0       0        1        0    16      3"
            ]
          },
          "execution_count": 50,
          "metadata": {},
          "output_type": "execute_result"
        }
      ],
      "source": [
        "df.head() # посмотрим на 5 первых строк"
      ]
    },
    {
      "cell_type": "code",
      "execution_count": null,
      "metadata": {
        "id": "Dsn0DJ-EfVOH",
        "outputId": "45d4b286-e516-4766-f19b-020e525e3942"
      },
      "outputs": [
        {
          "data": {
            "text/html": [
              "<div>\n",
              "<style scoped>\n",
              "    .dataframe tbody tr th:only-of-type {\n",
              "        vertical-align: middle;\n",
              "    }\n",
              "\n",
              "    .dataframe tbody tr th {\n",
              "        vertical-align: top;\n",
              "    }\n",
              "\n",
              "    .dataframe thead th {\n",
              "        text-align: right;\n",
              "    }\n",
              "</style>\n",
              "<table border=\"1\" class=\"dataframe\">\n",
              "  <thead>\n",
              "    <tr style=\"text-align: right;\">\n",
              "      <th></th>\n",
              "      <th>wage</th>\n",
              "      <th>exper</th>\n",
              "      <th>union</th>\n",
              "      <th>goodhlth</th>\n",
              "      <th>black</th>\n",
              "      <th>female</th>\n",
              "      <th>married</th>\n",
              "      <th>service</th>\n",
              "      <th>educ</th>\n",
              "      <th>looks</th>\n",
              "      <th>wage_segmens</th>\n",
              "      <th>exper_segments</th>\n",
              "    </tr>\n",
              "  </thead>\n",
              "  <tbody>\n",
              "    <tr>\n",
              "      <th>0</th>\n",
              "      <td>5.73</td>\n",
              "      <td>30</td>\n",
              "      <td>0</td>\n",
              "      <td>1</td>\n",
              "      <td>0</td>\n",
              "      <td>1</td>\n",
              "      <td>1</td>\n",
              "      <td>1</td>\n",
              "      <td>14</td>\n",
              "      <td>4</td>\n",
              "      <td>2.0</td>\n",
              "      <td>2.3</td>\n",
              "    </tr>\n",
              "    <tr>\n",
              "      <th>1</th>\n",
              "      <td>4.28</td>\n",
              "      <td>28</td>\n",
              "      <td>0</td>\n",
              "      <td>1</td>\n",
              "      <td>0</td>\n",
              "      <td>1</td>\n",
              "      <td>1</td>\n",
              "      <td>0</td>\n",
              "      <td>12</td>\n",
              "      <td>3</td>\n",
              "      <td>1.0</td>\n",
              "      <td>2.3</td>\n",
              "    </tr>\n",
              "    <tr>\n",
              "      <th>2</th>\n",
              "      <td>7.96</td>\n",
              "      <td>35</td>\n",
              "      <td>0</td>\n",
              "      <td>1</td>\n",
              "      <td>0</td>\n",
              "      <td>1</td>\n",
              "      <td>0</td>\n",
              "      <td>0</td>\n",
              "      <td>10</td>\n",
              "      <td>4</td>\n",
              "      <td>2.0</td>\n",
              "      <td>2.4</td>\n",
              "    </tr>\n",
              "    <tr>\n",
              "      <th>3</th>\n",
              "      <td>11.57</td>\n",
              "      <td>38</td>\n",
              "      <td>0</td>\n",
              "      <td>1</td>\n",
              "      <td>0</td>\n",
              "      <td>0</td>\n",
              "      <td>1</td>\n",
              "      <td>1</td>\n",
              "      <td>16</td>\n",
              "      <td>3</td>\n",
              "      <td>2.0</td>\n",
              "      <td>2.5</td>\n",
              "    </tr>\n",
              "    <tr>\n",
              "      <th>4</th>\n",
              "      <td>11.42</td>\n",
              "      <td>27</td>\n",
              "      <td>0</td>\n",
              "      <td>1</td>\n",
              "      <td>0</td>\n",
              "      <td>0</td>\n",
              "      <td>1</td>\n",
              "      <td>0</td>\n",
              "      <td>16</td>\n",
              "      <td>3</td>\n",
              "      <td>2.0</td>\n",
              "      <td>2.3</td>\n",
              "    </tr>\n",
              "  </tbody>\n",
              "</table>\n",
              "</div>"
            ],
            "text/plain": [
              "    wage  exper  union  goodhlth  black  female  married  service  educ  \\\n",
              "0   5.73     30      0         1      0       1        1        1    14   \n",
              "1   4.28     28      0         1      0       1        1        0    12   \n",
              "2   7.96     35      0         1      0       1        0        0    10   \n",
              "3  11.57     38      0         1      0       0        1        1    16   \n",
              "4  11.42     27      0         1      0       0        1        0    16   \n",
              "\n",
              "   looks  wage_segmens  exper_segments  \n",
              "0      4           2.0             2.3  \n",
              "1      3           1.0             2.3  \n",
              "2      4           2.0             2.4  \n",
              "3      3           2.0             2.5  \n",
              "4      3           2.0             2.3  "
            ]
          },
          "execution_count": 51,
          "metadata": {},
          "output_type": "execute_result"
        }
      ],
      "source": [
        "df2 = df.copy() # копируем датафрейм чтобы не сломать исходный\n",
        "df2['wage_segmens'] = np.round(np.log(df['wage']), 0)\n",
        "df2['exper_segments'] = np.round(np.power(df['exper'], 0.25), 1)\n",
        "df2.head()"
      ]
    }
  ],
  "metadata": {
    "kernelspec": {
      "display_name": "Python 3",
      "language": "python",
      "name": "python3"
    },
    "language_info": {
      "codemirror_mode": {
        "name": "ipython",
        "version": 3
      },
      "file_extension": ".py",
      "mimetype": "text/x-python",
      "name": "python",
      "nbconvert_exporter": "python",
      "pygments_lexer": "ipython3",
      "version": "3.7.0"
    },
    "colab": {
      "provenance": [],
      "include_colab_link": true
    }
  },
  "nbformat": 4,
  "nbformat_minor": 0
}