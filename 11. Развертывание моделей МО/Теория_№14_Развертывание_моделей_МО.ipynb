{
  "cells": [
    {
      "cell_type": "markdown",
      "metadata": {
        "id": "view-in-github",
        "colab_type": "text"
      },
      "source": [
        "<a href=\"https://colab.research.google.com/github/Alexandre77777/data_mining/blob/main/11.%20%D0%A0%D0%B0%D0%B7%D0%B2%D0%B5%D1%80%D1%82%D1%8B%D0%B2%D0%B0%D0%BD%D0%B8%D0%B5%20%D0%BC%D0%BE%D0%B4%D0%B5%D0%BB%D0%B5%D0%B9%20%D0%9C%D0%9E/%D0%A2%D0%B5%D0%BE%D1%80%D0%B8%D1%8F_%E2%84%9614_%D0%A0%D0%B0%D0%B7%D0%B2%D0%B5%D1%80%D1%82%D1%8B%D0%B2%D0%B0%D0%BD%D0%B8%D0%B5_%D0%BC%D0%BE%D0%B4%D0%B5%D0%BB%D0%B5%D0%B9_%D0%9C%D0%9E.ipynb\" target=\"_parent\"><img src=\"https://colab.research.google.com/assets/colab-badge.svg\" alt=\"Open In Colab\"/></a>"
      ]
    },
    {
      "cell_type": "markdown",
      "source": [
        "# **Теория №14. Развертывание моделей машинного обучения**"
      ],
      "metadata": {
        "id": "LioEzQupKAdd"
      }
    },
    {
      "cell_type": "markdown",
      "source": [
        "В данном учебном блокноте представлен полный жизненный цикл разработки моделей машинного обучения для задач регрессии и классификации. Начиная со сбора и подготовки данных, проводится обучение и оценка большинства основных моделей машинного обучения. Лучшая модель выбирается на основе вычисленных метрик качества. Далее модель сохраняется, развёртывается на сервере и разрабатывается интерфейс для взаимодействия с ней. Этот процесс охватывает все этапы жизненного цикла модели машинного обучения: от предварительной обработки данных до интеграции модели в приложение и её развёртывания на сервере."
      ],
      "metadata": {
        "id": "3XQRbbTFLxXK"
      }
    },
    {
      "cell_type": "markdown",
      "metadata": {
        "id": "Otobgqw4ukCt"
      },
      "source": [
        "# **I. Решение задачи регрессии на примере датасета California Housing**"
      ]
    },
    {
      "cell_type": "markdown",
      "metadata": {
        "id": "P5Tvio3ChoSA"
      },
      "source": [
        "## **1. Установка необходимых зависимостей**"
      ]
    },
    {
      "cell_type": "code",
      "execution_count": null,
      "metadata": {
        "id": "PAnB6HqKhsx1"
      },
      "outputs": [],
      "source": [
        "import numpy as np\n",
        "import pandas as pd\n",
        "\n",
        "from sklearn.datasets import fetch_california_housing\n",
        "from sklearn.model_selection import train_test_split\n",
        "from sklearn.preprocessing import StandardScaler, PolynomialFeatures\n",
        "from sklearn.pipeline import Pipeline\n",
        "from sklearn.metrics import mean_absolute_error, mean_squared_error, r2_score\n",
        "\n",
        "# Модели регрессии\n",
        "from sklearn.linear_model import (LinearRegression, Ridge, Lasso, ElasticNet,\n",
        "                                  BayesianRidge, SGDRegressor)\n",
        "from sklearn.svm import SVR\n",
        "from sklearn.neighbors import KNeighborsRegressor\n",
        "from sklearn.tree import DecisionTreeRegressor\n",
        "from sklearn.ensemble import (RandomForestRegressor, ExtraTreesRegressor,\n",
        "                              GradientBoostingRegressor, HistGradientBoostingRegressor,\n",
        "                              AdaBoostRegressor, BaggingRegressor)\n",
        "from sklearn.neural_network import MLPRegressor\n",
        "\n",
        "import pickle"
      ]
    },
    {
      "cell_type": "markdown",
      "metadata": {
        "id": "WmL1FWfdiwIT"
      },
      "source": [
        "## **2. Загрузка набора данных. Формирование обучающей и тестовой выборок**"
      ]
    },
    {
      "cell_type": "code",
      "execution_count": null,
      "metadata": {
        "id": "5XxRq-AahtW0"
      },
      "outputs": [],
      "source": [
        "data = fetch_california_housing(as_frame=True)\n",
        "df = data.frame\n",
        "X = df.drop(columns=[data.target_names[0]])\n",
        "y = df[data.target_names[0]]\n",
        "\n",
        "X_train, X_test, y_train, y_test = train_test_split(\n",
        "    X, y, test_size=0.2, random_state=42\n",
        ")"
      ]
    },
    {
      "cell_type": "code",
      "source": [
        "X_train.iloc[0]"
      ],
      "metadata": {
        "colab": {
          "base_uri": "https://localhost:8080/",
          "height": 335
        },
        "id": "6ybRa58iwFEW",
        "outputId": "194e2fc7-6ac7-47fe-92fa-22b490b7ec35"
      },
      "execution_count": null,
      "outputs": [
        {
          "output_type": "execute_result",
          "data": {
            "text/plain": [
              "MedInc           3.259600\n",
              "HouseAge        33.000000\n",
              "AveRooms         5.017657\n",
              "AveBedrms        1.006421\n",
              "Population    2300.000000\n",
              "AveOccup         3.691814\n",
              "Latitude        32.710000\n",
              "Longitude     -117.030000\n",
              "Name: 14196, dtype: float64"
            ],
            "text/html": [
              "<div>\n",
              "<style scoped>\n",
              "    .dataframe tbody tr th:only-of-type {\n",
              "        vertical-align: middle;\n",
              "    }\n",
              "\n",
              "    .dataframe tbody tr th {\n",
              "        vertical-align: top;\n",
              "    }\n",
              "\n",
              "    .dataframe thead th {\n",
              "        text-align: right;\n",
              "    }\n",
              "</style>\n",
              "<table border=\"1\" class=\"dataframe\">\n",
              "  <thead>\n",
              "    <tr style=\"text-align: right;\">\n",
              "      <th></th>\n",
              "      <th>14196</th>\n",
              "    </tr>\n",
              "  </thead>\n",
              "  <tbody>\n",
              "    <tr>\n",
              "      <th>MedInc</th>\n",
              "      <td>3.259600</td>\n",
              "    </tr>\n",
              "    <tr>\n",
              "      <th>HouseAge</th>\n",
              "      <td>33.000000</td>\n",
              "    </tr>\n",
              "    <tr>\n",
              "      <th>AveRooms</th>\n",
              "      <td>5.017657</td>\n",
              "    </tr>\n",
              "    <tr>\n",
              "      <th>AveBedrms</th>\n",
              "      <td>1.006421</td>\n",
              "    </tr>\n",
              "    <tr>\n",
              "      <th>Population</th>\n",
              "      <td>2300.000000</td>\n",
              "    </tr>\n",
              "    <tr>\n",
              "      <th>AveOccup</th>\n",
              "      <td>3.691814</td>\n",
              "    </tr>\n",
              "    <tr>\n",
              "      <th>Latitude</th>\n",
              "      <td>32.710000</td>\n",
              "    </tr>\n",
              "    <tr>\n",
              "      <th>Longitude</th>\n",
              "      <td>-117.030000</td>\n",
              "    </tr>\n",
              "  </tbody>\n",
              "</table>\n",
              "</div><br><label><b>dtype:</b> float64</label>"
            ]
          },
          "metadata": {},
          "execution_count": 17
        }
      ]
    },
    {
      "cell_type": "markdown",
      "metadata": {
        "id": "0UILhxi0i5cP"
      },
      "source": [
        "## **3. Инициализация метрик для оценки качества обучения моделей**"
      ]
    },
    {
      "cell_type": "code",
      "execution_count": null,
      "metadata": {
        "id": "I-8bU78mhy3n"
      },
      "outputs": [],
      "source": [
        "def mean_squared_percentage_error(y_true, y_pred):\n",
        "    # MSPE\n",
        "    return np.mean((y_true - y_pred) ** 2 / (y_true + 1e-9) ** 2) * 100\n",
        "\n",
        "def mean_absolute_percentage_error(y_true, y_pred):\n",
        "    # MAPE\n",
        "    return np.mean(np.abs((y_true - y_pred) / (y_true + 1e-9))) * 100\n",
        "\n",
        "def symmetric_mean_absolute_percentage_error(y_true, y_pred):\n",
        "    # SMAPE\n",
        "    return 100 * np.mean(\n",
        "        2 * np.abs(y_true - y_pred) / (np.abs(y_true) + np.abs(y_pred) + 1e-9)\n",
        "    )\n",
        "\n",
        "def mean_relative_error(y_true, y_pred):\n",
        "    # MRE\n",
        "    return np.mean(np.abs(y_true - y_pred) / (y_true + 1e-9))\n",
        "\n",
        "def rmsle(y_true, y_pred):\n",
        "    # RMSLE\n",
        "    return np.sqrt(np.mean((np.log1p(y_pred + 1e-9) - np.log1p(y_true + 1e-9))**2))\n",
        "\n",
        "def adjusted_r2_score(r2, n, p):\n",
        "    \"\"\"\n",
        "    Расчёт скорректированного R².\n",
        "    r2:   R²\n",
        "    n:    число наблюдений\n",
        "    p:    число признаков\n",
        "    \"\"\"\n",
        "    return 1 - (1 - r2) * (n - 1) / (n - p - 1)\n",
        "\n",
        "def get_metrics(y_true, y_pred, n, p):\n",
        "    # MAE\n",
        "    mae_ = mean_absolute_error(y_true, y_pred)\n",
        "    # MSE\n",
        "    mse_ = mean_squared_error(y_true, y_pred)\n",
        "    # RMSE\n",
        "    rmse_ = np.sqrt(mse_)\n",
        "    # R^2\n",
        "    r2_ = r2_score(y_true, y_pred)\n",
        "    # MAPE\n",
        "    mape_ = mean_absolute_percentage_error(y_true, y_pred)\n",
        "    # MSPE\n",
        "    mspe_ = mean_squared_percentage_error(y_true, y_pred)\n",
        "    # SMAPE\n",
        "    smape_ = symmetric_mean_absolute_percentage_error(y_true, y_pred)\n",
        "    # MRE\n",
        "    mre_ = mean_relative_error(y_true, y_pred)\n",
        "    # RMSLE\n",
        "    rmsle_ = rmsle(y_true, y_pred)\n",
        "    # Adjusted R²\n",
        "    adj_r2_ = adjusted_r2_score(r2_, n, p)\n",
        "    return {\n",
        "        \"MAE\": mae_,\n",
        "        \"MAPE\": mape_,\n",
        "        \"MSE\": mse_,\n",
        "        \"RMSE\": rmse_,\n",
        "        \"R2\": r2_,\n",
        "        \"MSPE\": mspe_,\n",
        "        \"SMAPE\": smape_,\n",
        "        \"MRE\": mre_,\n",
        "        \"RMSLE\": rmsle_,\n",
        "        \"Adjusted R2\": adj_r2_\n",
        "    }"
      ]
    },
    {
      "cell_type": "markdown",
      "metadata": {
        "id": "7uptbERAjJ8C"
      },
      "source": [
        "## **4. Инициализация моделей машинного обучения для решения задачи регрессии из sklearn**"
      ]
    },
    {
      "cell_type": "code",
      "execution_count": null,
      "metadata": {
        "id": "Yb63A82Eh7kA"
      },
      "outputs": [],
      "source": [
        "models = {\n",
        "    \"LinearRegression\": LinearRegression(),\n",
        "    \"Ridge\": Ridge(),\n",
        "    \"Lasso\": Lasso(),\n",
        "    \"ElasticNet\": ElasticNet(),\n",
        "    \"BayesianRidge\": BayesianRidge(),\n",
        "    \"SGDRegressor\": SGDRegressor(max_iter=1000, tol=1e-3),\n",
        "    \"SVR\": SVR(),\n",
        "    \"KNeighborsRegressor\": KNeighborsRegressor(),\n",
        "    \"DecisionTreeRegressor\": DecisionTreeRegressor(random_state=42),\n",
        "    \"RandomForestRegressor\": RandomForestRegressor(random_state=42),\n",
        "    \"ExtraTreesRegressor\": ExtraTreesRegressor(random_state=42),\n",
        "    \"GradientBoostingRegressor\": GradientBoostingRegressor(random_state=42),\n",
        "    \"HistGradientBoostingRegressor\": HistGradientBoostingRegressor(random_state=42),\n",
        "    \"AdaBoostRegressor\": AdaBoostRegressor(random_state=42),\n",
        "    \"BaggingRegressor\": BaggingRegressor(random_state=42),\n",
        "    \"MLPRegressor\": MLPRegressor(max_iter=500, random_state=42),\n",
        "}"
      ]
    },
    {
      "cell_type": "markdown",
      "metadata": {
        "id": "FEepJgJOl9xt"
      },
      "source": [
        "## **5. Формирование пайплана, включающего в себя стандартизацию и формирование дополнительных полиноминальных признаков**"
      ]
    },
    {
      "cell_type": "code",
      "execution_count": null,
      "metadata": {
        "id": "AvZmfI6wh7p3"
      },
      "outputs": [],
      "source": [
        "feature_engineering = Pipeline([\n",
        "    (\"scaler\", StandardScaler()),\n",
        "    (\"poly\", PolynomialFeatures(degree=2, include_bias=False))\n",
        "])\n",
        "\n",
        "# Преобразуем данные\n",
        "X_train_transformed = feature_engineering.fit_transform(X_train)\n",
        "X_test_transformed = feature_engineering.transform(X_test)\n",
        "\n",
        "n_train, n_features = X_train_transformed.shape"
      ]
    },
    {
      "cell_type": "markdown",
      "metadata": {
        "id": "C0xc4CVLmVo8"
      },
      "source": [
        "## **6. Обучение моделей машинного обучения с вычислением метрик**"
      ]
    },
    {
      "cell_type": "code",
      "execution_count": null,
      "metadata": {
        "id": "JlhKkIpbh7sQ"
      },
      "outputs": [],
      "source": [
        "results = {}\n",
        "for name, model in models.items():\n",
        "    # Обучаем\n",
        "    model.fit(X_train_transformed, y_train)\n",
        "    # Предсказания\n",
        "    y_pred = model.predict(X_test_transformed)\n",
        "    # Подсчёт метрик\n",
        "    metrics = get_metrics(y_test, y_pred, n=len(y_test), p=n_features)\n",
        "    results[name] = metrics"
      ]
    },
    {
      "cell_type": "markdown",
      "metadata": {
        "id": "GD-lQnoCmfq2"
      },
      "source": [
        "## **7. Оценка точности и выбор лучшей модели**"
      ]
    },
    {
      "cell_type": "code",
      "execution_count": null,
      "metadata": {
        "colab": {
          "base_uri": "https://localhost:8080/",
          "height": 643
        },
        "id": "ZPuFE473iFKx",
        "outputId": "b161d030-9d37-4b04-e4d1-41d026be21bf"
      },
      "outputs": [
        {
          "name": "stdout",
          "output_type": "stream",
          "text": [
            "Результаты по всем моделям:\n",
            "\n"
          ]
        },
        {
          "data": {
            "text/html": [
              "<style type=\"text/css\">\n",
              "</style>\n",
              "<table id=\"T_06d2c\" class=\"dataframe\">\n",
              "  <thead>\n",
              "    <tr>\n",
              "      <th class=\"blank level0\" >&nbsp;</th>\n",
              "      <th id=\"T_06d2c_level0_col0\" class=\"col_heading level0 col0\" >MAE</th>\n",
              "      <th id=\"T_06d2c_level0_col1\" class=\"col_heading level0 col1\" >MAPE</th>\n",
              "      <th id=\"T_06d2c_level0_col2\" class=\"col_heading level0 col2\" >MSE</th>\n",
              "      <th id=\"T_06d2c_level0_col3\" class=\"col_heading level0 col3\" >RMSE</th>\n",
              "      <th id=\"T_06d2c_level0_col4\" class=\"col_heading level0 col4\" >R2</th>\n",
              "      <th id=\"T_06d2c_level0_col5\" class=\"col_heading level0 col5\" >MSPE</th>\n",
              "      <th id=\"T_06d2c_level0_col6\" class=\"col_heading level0 col6\" >SMAPE</th>\n",
              "      <th id=\"T_06d2c_level0_col7\" class=\"col_heading level0 col7\" >MRE</th>\n",
              "      <th id=\"T_06d2c_level0_col8\" class=\"col_heading level0 col8\" >RMSLE</th>\n",
              "      <th id=\"T_06d2c_level0_col9\" class=\"col_heading level0 col9\" >Adjusted R2</th>\n",
              "    </tr>\n",
              "  </thead>\n",
              "  <tbody>\n",
              "    <tr>\n",
              "      <th id=\"T_06d2c_level0_row0\" class=\"row_heading level0 row0\" >HistGradientBoostingRegressor</th>\n",
              "      <td id=\"T_06d2c_row0_col0\" class=\"data row0 col0\" >0.313</td>\n",
              "      <td id=\"T_06d2c_row0_col1\" class=\"data row0 col1\" >18.213</td>\n",
              "      <td id=\"T_06d2c_row0_col2\" class=\"data row0 col2\" >0.218</td>\n",
              "      <td id=\"T_06d2c_row0_col3\" class=\"data row0 col3\" >0.467</td>\n",
              "      <td id=\"T_06d2c_row0_col4\" class=\"data row0 col4\" >0.834</td>\n",
              "      <td id=\"T_06d2c_row0_col5\" class=\"data row0 col5\" >17.714</td>\n",
              "      <td id=\"T_06d2c_row0_col6\" class=\"data row0 col6\" >16.328</td>\n",
              "      <td id=\"T_06d2c_row0_col7\" class=\"data row0 col7\" >0.182</td>\n",
              "      <td id=\"T_06d2c_row0_col8\" class=\"data row0 col8\" >0.143</td>\n",
              "      <td id=\"T_06d2c_row0_col9\" class=\"data row0 col9\" >0.832</td>\n",
              "    </tr>\n",
              "    <tr>\n",
              "      <th id=\"T_06d2c_level0_row1\" class=\"row_heading level0 row1\" >ExtraTreesRegressor</th>\n",
              "      <td id=\"T_06d2c_row1_col0\" class=\"data row1 col0\" >0.329</td>\n",
              "      <td id=\"T_06d2c_row1_col1\" class=\"data row1 col1\" >18.716</td>\n",
              "      <td id=\"T_06d2c_row1_col2\" class=\"data row1 col2\" >0.255</td>\n",
              "      <td id=\"T_06d2c_row1_col3\" class=\"data row1 col3\" >0.505</td>\n",
              "      <td id=\"T_06d2c_row1_col4\" class=\"data row1 col4\" >0.805</td>\n",
              "      <td id=\"T_06d2c_row1_col5\" class=\"data row1 col5\" >20.831</td>\n",
              "      <td id=\"T_06d2c_row1_col6\" class=\"data row1 col6\" >16.461</td>\n",
              "      <td id=\"T_06d2c_row1_col7\" class=\"data row1 col7\" >0.187</td>\n",
              "      <td id=\"T_06d2c_row1_col8\" class=\"data row1 col8\" >0.149</td>\n",
              "      <td id=\"T_06d2c_row1_col9\" class=\"data row1 col9\" >0.803</td>\n",
              "    </tr>\n",
              "    <tr>\n",
              "      <th id=\"T_06d2c_level0_row2\" class=\"row_heading level0 row2\" >RandomForestRegressor</th>\n",
              "      <td id=\"T_06d2c_row2_col0\" class=\"data row2 col0\" >0.333</td>\n",
              "      <td id=\"T_06d2c_row2_col1\" class=\"data row2 col1\" >19.172</td>\n",
              "      <td id=\"T_06d2c_row2_col2\" class=\"data row2 col2\" >0.262</td>\n",
              "      <td id=\"T_06d2c_row2_col3\" class=\"data row2 col3\" >0.512</td>\n",
              "      <td id=\"T_06d2c_row2_col4\" class=\"data row2 col4\" >0.800</td>\n",
              "      <td id=\"T_06d2c_row2_col5\" class=\"data row2 col5\" >21.317</td>\n",
              "      <td id=\"T_06d2c_row2_col6\" class=\"data row2 col6\" >16.785</td>\n",
              "      <td id=\"T_06d2c_row2_col7\" class=\"data row2 col7\" >0.192</td>\n",
              "      <td id=\"T_06d2c_row2_col8\" class=\"data row2 col8\" >0.152</td>\n",
              "      <td id=\"T_06d2c_row2_col9\" class=\"data row2 col9\" >0.798</td>\n",
              "    </tr>\n",
              "    <tr>\n",
              "      <th id=\"T_06d2c_level0_row3\" class=\"row_heading level0 row3\" >GradientBoostingRegressor</th>\n",
              "      <td id=\"T_06d2c_row3_col0\" class=\"data row3 col0\" >0.363</td>\n",
              "      <td id=\"T_06d2c_row3_col1\" class=\"data row3 col1\" >21.125</td>\n",
              "      <td id=\"T_06d2c_row3_col2\" class=\"data row3 col2\" >0.284</td>\n",
              "      <td id=\"T_06d2c_row3_col3\" class=\"data row3 col3\" >0.533</td>\n",
              "      <td id=\"T_06d2c_row3_col4\" class=\"data row3 col4\" >0.783</td>\n",
              "      <td id=\"T_06d2c_row3_col5\" class=\"data row3 col5\" >21.191</td>\n",
              "      <td id=\"T_06d2c_row3_col6\" class=\"data row3 col6\" >18.872</td>\n",
              "      <td id=\"T_06d2c_row3_col7\" class=\"data row3 col7\" >0.211</td>\n",
              "      <td id=\"T_06d2c_row3_col8\" class=\"data row3 col8\" >0.162</td>\n",
              "      <td id=\"T_06d2c_row3_col9\" class=\"data row3 col9\" >0.781</td>\n",
              "    </tr>\n",
              "    <tr>\n",
              "      <th id=\"T_06d2c_level0_row4\" class=\"row_heading level0 row4\" >BaggingRegressor</th>\n",
              "      <td id=\"T_06d2c_row4_col0\" class=\"data row4 col0\" >0.354</td>\n",
              "      <td id=\"T_06d2c_row4_col1\" class=\"data row4 col1\" >20.268</td>\n",
              "      <td id=\"T_06d2c_row4_col2\" class=\"data row4 col2\" >0.289</td>\n",
              "      <td id=\"T_06d2c_row4_col3\" class=\"data row4 col3\" >0.538</td>\n",
              "      <td id=\"T_06d2c_row4_col4\" class=\"data row4 col4\" >0.779</td>\n",
              "      <td id=\"T_06d2c_row4_col5\" class=\"data row4 col5\" >24.520</td>\n",
              "      <td id=\"T_06d2c_row4_col6\" class=\"data row4 col6\" >17.761</td>\n",
              "      <td id=\"T_06d2c_row4_col7\" class=\"data row4 col7\" >0.203</td>\n",
              "      <td id=\"T_06d2c_row4_col8\" class=\"data row4 col8\" >0.160</td>\n",
              "      <td id=\"T_06d2c_row4_col9\" class=\"data row4 col9\" >0.777</td>\n",
              "    </tr>\n",
              "    <tr>\n",
              "      <th id=\"T_06d2c_level0_row5\" class=\"row_heading level0 row5\" >KNeighborsRegressor</th>\n",
              "      <td id=\"T_06d2c_row5_col0\" class=\"data row5 col0\" >0.450</td>\n",
              "      <td id=\"T_06d2c_row5_col1\" class=\"data row5 col1\" >24.914</td>\n",
              "      <td id=\"T_06d2c_row5_col2\" class=\"data row5 col2\" >0.443</td>\n",
              "      <td id=\"T_06d2c_row5_col3\" class=\"data row5 col3\" >0.666</td>\n",
              "      <td id=\"T_06d2c_row5_col4\" class=\"data row5 col4\" >0.662</td>\n",
              "      <td id=\"T_06d2c_row5_col5\" class=\"data row5 col5\" >30.127</td>\n",
              "      <td id=\"T_06d2c_row5_col6\" class=\"data row5 col6\" >22.188</td>\n",
              "      <td id=\"T_06d2c_row5_col7\" class=\"data row5 col7\" >0.249</td>\n",
              "      <td id=\"T_06d2c_row5_col8\" class=\"data row5 col8\" >0.196</td>\n",
              "      <td id=\"T_06d2c_row5_col9\" class=\"data row5 col9\" >0.658</td>\n",
              "    </tr>\n",
              "    <tr>\n",
              "      <th id=\"T_06d2c_level0_row6\" class=\"row_heading level0 row6\" >BayesianRidge</th>\n",
              "      <td id=\"T_06d2c_row6_col0\" class=\"data row6 col0\" >0.467</td>\n",
              "      <td id=\"T_06d2c_row6_col1\" class=\"data row6 col1\" >26.906</td>\n",
              "      <td id=\"T_06d2c_row6_col2\" class=\"data row6 col2\" >0.462</td>\n",
              "      <td id=\"T_06d2c_row6_col3\" class=\"data row6 col3\" >0.679</td>\n",
              "      <td id=\"T_06d2c_row6_col4\" class=\"data row6 col4\" >0.648</td>\n",
              "      <td id=\"T_06d2c_row6_col5\" class=\"data row6 col5\" >25.681</td>\n",
              "      <td id=\"T_06d2c_row6_col6\" class=\"data row6 col6\" >24.100</td>\n",
              "      <td id=\"T_06d2c_row6_col7\" class=\"data row6 col7\" >0.269</td>\n",
              "      <td id=\"T_06d2c_row6_col8\" class=\"data row6 col8\" >0.200</td>\n",
              "      <td id=\"T_06d2c_row6_col9\" class=\"data row6 col9\" >0.644</td>\n",
              "    </tr>\n",
              "    <tr>\n",
              "      <th id=\"T_06d2c_level0_row7\" class=\"row_heading level0 row7\" >Ridge</th>\n",
              "      <td id=\"T_06d2c_row7_col0\" class=\"data row7 col0\" >0.467</td>\n",
              "      <td id=\"T_06d2c_row7_col1\" class=\"data row7 col1\" >26.903</td>\n",
              "      <td id=\"T_06d2c_row7_col2\" class=\"data row7 col2\" >0.463</td>\n",
              "      <td id=\"T_06d2c_row7_col3\" class=\"data row7 col3\" >0.680</td>\n",
              "      <td id=\"T_06d2c_row7_col4\" class=\"data row7 col4\" >0.647</td>\n",
              "      <td id=\"T_06d2c_row7_col5\" class=\"data row7 col5\" >25.718</td>\n",
              "      <td id=\"T_06d2c_row7_col6\" class=\"data row7 col6\" >24.098</td>\n",
              "      <td id=\"T_06d2c_row7_col7\" class=\"data row7 col7\" >0.269</td>\n",
              "      <td id=\"T_06d2c_row7_col8\" class=\"data row7 col8\" >0.200</td>\n",
              "      <td id=\"T_06d2c_row7_col9\" class=\"data row7 col9\" >0.643</td>\n",
              "    </tr>\n",
              "    <tr>\n",
              "      <th id=\"T_06d2c_level0_row8\" class=\"row_heading level0 row8\" >LinearRegression</th>\n",
              "      <td id=\"T_06d2c_row8_col0\" class=\"data row8 col0\" >0.467</td>\n",
              "      <td id=\"T_06d2c_row8_col1\" class=\"data row8 col1\" >26.899</td>\n",
              "      <td id=\"T_06d2c_row8_col2\" class=\"data row8 col2\" >0.464</td>\n",
              "      <td id=\"T_06d2c_row8_col3\" class=\"data row8 col3\" >0.681</td>\n",
              "      <td id=\"T_06d2c_row8_col4\" class=\"data row8 col4\" >0.646</td>\n",
              "      <td id=\"T_06d2c_row8_col5\" class=\"data row8 col5\" >25.770</td>\n",
              "      <td id=\"T_06d2c_row8_col6\" class=\"data row8 col6\" >24.096</td>\n",
              "      <td id=\"T_06d2c_row8_col7\" class=\"data row8 col7\" >0.269</td>\n",
              "      <td id=\"T_06d2c_row8_col8\" class=\"data row8 col8\" >0.200</td>\n",
              "      <td id=\"T_06d2c_row8_col9\" class=\"data row8 col9\" >0.642</td>\n",
              "    </tr>\n",
              "    <tr>\n",
              "      <th id=\"T_06d2c_level0_row9\" class=\"row_heading level0 row9\" >DecisionTreeRegressor</th>\n",
              "      <td id=\"T_06d2c_row9_col0\" class=\"data row9 col0\" >0.449</td>\n",
              "      <td id=\"T_06d2c_row9_col1\" class=\"data row9 col1\" >24.605</td>\n",
              "      <td id=\"T_06d2c_row9_col2\" class=\"data row9 col2\" >0.493</td>\n",
              "      <td id=\"T_06d2c_row9_col3\" class=\"data row9 col3\" >0.702</td>\n",
              "      <td id=\"T_06d2c_row9_col4\" class=\"data row9 col4\" >0.624</td>\n",
              "      <td id=\"T_06d2c_row9_col5\" class=\"data row9 col5\" >22.950</td>\n",
              "      <td id=\"T_06d2c_row9_col6\" class=\"data row9 col6\" >22.258</td>\n",
              "      <td id=\"T_06d2c_row9_col7\" class=\"data row9 col7\" >0.246</td>\n",
              "      <td id=\"T_06d2c_row9_col8\" class=\"data row9 col8\" >0.207</td>\n",
              "      <td id=\"T_06d2c_row9_col9\" class=\"data row9 col9\" >0.620</td>\n",
              "    </tr>\n",
              "    <tr>\n",
              "      <th id=\"T_06d2c_level0_row10\" class=\"row_heading level0 row10\" >SVR</th>\n",
              "      <td id=\"T_06d2c_row10_col0\" class=\"data row10 col0\" >0.569</td>\n",
              "      <td id=\"T_06d2c_row10_col1\" class=\"data row10 col1\" >33.110</td>\n",
              "      <td id=\"T_06d2c_row10_col2\" class=\"data row10 col2\" >0.659</td>\n",
              "      <td id=\"T_06d2c_row10_col3\" class=\"data row10 col3\" >0.812</td>\n",
              "      <td id=\"T_06d2c_row10_col4\" class=\"data row10 col4\" >0.497</td>\n",
              "      <td id=\"T_06d2c_row10_col5\" class=\"data row10 col5\" >28.601</td>\n",
              "      <td id=\"T_06d2c_row10_col6\" class=\"data row10 col6\" >29.398</td>\n",
              "      <td id=\"T_06d2c_row10_col7\" class=\"data row10 col7\" >0.331</td>\n",
              "      <td id=\"T_06d2c_row10_col8\" class=\"data row10 col8\" >0.242</td>\n",
              "      <td id=\"T_06d2c_row10_col9\" class=\"data row10 col9\" >0.491</td>\n",
              "    </tr>\n",
              "    <tr>\n",
              "      <th id=\"T_06d2c_level0_row11\" class=\"row_heading level0 row11\" >AdaBoostRegressor</th>\n",
              "      <td id=\"T_06d2c_row11_col0\" class=\"data row11 col0\" >0.793</td>\n",
              "      <td id=\"T_06d2c_row11_col1\" class=\"data row11 col1\" >60.049</td>\n",
              "      <td id=\"T_06d2c_row11_col2\" class=\"data row11 col2\" >0.817</td>\n",
              "      <td id=\"T_06d2c_row11_col3\" class=\"data row11 col3\" >0.904</td>\n",
              "      <td id=\"T_06d2c_row11_col4\" class=\"data row11 col4\" >0.377</td>\n",
              "      <td id=\"T_06d2c_row11_col5\" class=\"data row11 col5\" >83.748</td>\n",
              "      <td id=\"T_06d2c_row11_col6\" class=\"data row11 col6\" >40.618</td>\n",
              "      <td id=\"T_06d2c_row11_col7\" class=\"data row11 col7\" >0.600</td>\n",
              "      <td id=\"T_06d2c_row11_col8\" class=\"data row11 col8\" >0.310</td>\n",
              "      <td id=\"T_06d2c_row11_col9\" class=\"data row11 col9\" >0.370</td>\n",
              "    </tr>\n",
              "    <tr>\n",
              "      <th id=\"T_06d2c_level0_row12\" class=\"row_heading level0 row12\" >ElasticNet</th>\n",
              "      <td id=\"T_06d2c_row12_col0\" class=\"data row12 col0\" >0.807</td>\n",
              "      <td id=\"T_06d2c_row12_col1\" class=\"data row12 col1\" >56.566</td>\n",
              "      <td id=\"T_06d2c_row12_col2\" class=\"data row12 col2\" >1.041</td>\n",
              "      <td id=\"T_06d2c_row12_col3\" class=\"data row12 col3\" >1.020</td>\n",
              "      <td id=\"T_06d2c_row12_col4\" class=\"data row12 col4\" >0.206</td>\n",
              "      <td id=\"T_06d2c_row12_col5\" class=\"data row12 col5\" >78.866</td>\n",
              "      <td id=\"T_06d2c_row12_col6\" class=\"data row12 col6\" >41.104</td>\n",
              "      <td id=\"T_06d2c_row12_col7\" class=\"data row12 col7\" >0.566</td>\n",
              "      <td id=\"T_06d2c_row12_col8\" class=\"data row12 col8\" >0.327</td>\n",
              "      <td id=\"T_06d2c_row12_col9\" class=\"data row12 col9\" >0.197</td>\n",
              "    </tr>\n",
              "    <tr>\n",
              "      <th id=\"T_06d2c_level0_row13\" class=\"row_heading level0 row13\" >Lasso</th>\n",
              "      <td id=\"T_06d2c_row13_col0\" class=\"data row13 col0\" >0.895</td>\n",
              "      <td id=\"T_06d2c_row13_col1\" class=\"data row13 col1\" >62.438</td>\n",
              "      <td id=\"T_06d2c_row13_col2\" class=\"data row13 col2\" >1.268</td>\n",
              "      <td id=\"T_06d2c_row13_col3\" class=\"data row13 col3\" >1.126</td>\n",
              "      <td id=\"T_06d2c_row13_col4\" class=\"data row13 col4\" >0.032</td>\n",
              "      <td id=\"T_06d2c_row13_col5\" class=\"data row13 col5\" >94.433</td>\n",
              "      <td id=\"T_06d2c_row13_col6\" class=\"data row13 col6\" >44.623</td>\n",
              "      <td id=\"T_06d2c_row13_col7\" class=\"data row13 col7\" >0.624</td>\n",
              "      <td id=\"T_06d2c_row13_col8\" class=\"data row13 col8\" >0.357</td>\n",
              "      <td id=\"T_06d2c_row13_col9\" class=\"data row13 col9\" >0.022</td>\n",
              "    </tr>\n",
              "    <tr>\n",
              "      <th id=\"T_06d2c_level0_row14\" class=\"row_heading level0 row14\" >MLPRegressor</th>\n",
              "      <td id=\"T_06d2c_row14_col0\" class=\"data row14 col0\" >0.469</td>\n",
              "      <td id=\"T_06d2c_row14_col1\" class=\"data row14 col1\" >27.620</td>\n",
              "      <td id=\"T_06d2c_row14_col2\" class=\"data row14 col2\" >1.716</td>\n",
              "      <td id=\"T_06d2c_row14_col3\" class=\"data row14 col3\" >1.310</td>\n",
              "      <td id=\"T_06d2c_row14_col4\" class=\"data row14 col4\" >-0.310</td>\n",
              "      <td id=\"T_06d2c_row14_col5\" class=\"data row14 col5\" >77.428</td>\n",
              "      <td id=\"T_06d2c_row14_col6\" class=\"data row14 col6\" >23.139</td>\n",
              "      <td id=\"T_06d2c_row14_col7\" class=\"data row14 col7\" >0.276</td>\n",
              "      <td id=\"T_06d2c_row14_col8\" class=\"data row14 col8\" >0.207</td>\n",
              "      <td id=\"T_06d2c_row14_col9\" class=\"data row14 col9\" >-0.324</td>\n",
              "    </tr>\n",
              "    <tr>\n",
              "      <th id=\"T_06d2c_level0_row15\" class=\"row_heading level0 row15\" >SGDRegressor</th>\n",
              "      <td id=\"T_06d2c_row15_col0\" class=\"data row15 col0\" >356251813045.435</td>\n",
              "      <td id=\"T_06d2c_row15_col1\" class=\"data row15 col1\" >24397393935979.598</td>\n",
              "      <td id=\"T_06d2c_row15_col2\" class=\"data row15 col2\" >140863162053190655414370304.000</td>\n",
              "      <td id=\"T_06d2c_row15_col3\" class=\"data row15 col3\" >11868578771411.119</td>\n",
              "      <td id=\"T_06d2c_row15_col4\" class=\"data row15 col4\" >-107495571529345106584797184.000</td>\n",
              "      <td id=\"T_06d2c_row15_col5\" class=\"data row15 col5\" >5365522805943527880003682304.000</td>\n",
              "      <td id=\"T_06d2c_row15_col6\" class=\"data row15 col6\" >200.000</td>\n",
              "      <td id=\"T_06d2c_row15_col7\" class=\"data row15 col7\" >243973939359.796</td>\n",
              "      <td id=\"T_06d2c_row15_col8\" class=\"data row15 col8\" >23.651</td>\n",
              "      <td id=\"T_06d2c_row15_col9\" class=\"data row15 col9\" >-108653985721677016014520320.000</td>\n",
              "    </tr>\n",
              "  </tbody>\n",
              "</table>\n"
            ],
            "text/plain": [
              "<pandas.io.formats.style.Styler at 0x7c65170025c0>"
            ]
          },
          "metadata": {},
          "output_type": "display_data"
        },
        {
          "name": "stdout",
          "output_type": "stream",
          "text": [
            "\n",
            "Лучшая модель по R2: HistGradientBoostingRegressor\n"
          ]
        }
      ],
      "source": [
        "results_df = pd.DataFrame(results).T  # Переводим в DataFrame для удобства\n",
        "results_df = results_df.sort_values(by='R2', ascending=False)\n",
        "\n",
        "print(\"Результаты по всем моделям:\\n\")\n",
        "display(results_df.style.format(\"{:.3f}\"))\n",
        "\n",
        "# Можно определить лучшую модель, например, по наибольшему R2 (или Adjusted R2).\n",
        "best_model_name = results_df[\"R2\"].idxmax()\n",
        "print(f\"\\nЛучшая модель по R2: {best_model_name}\")\n",
        "best_model = models[best_model_name]"
      ]
    },
    {
      "cell_type": "markdown",
      "metadata": {
        "id": "rx69Sm3ZlFmT"
      },
      "source": [
        "## **8. Сохранение лучшей модели**"
      ]
    },
    {
      "cell_type": "code",
      "execution_count": null,
      "metadata": {
        "id": "SvHUwwnziMEX"
      },
      "outputs": [],
      "source": [
        "with open(\"best_regression_model.pkl\", \"wb\") as f:\n",
        "    pickle.dump({\n",
        "        \"pipeline\": feature_engineering,\n",
        "        \"model\": best_model\n",
        "    }, f)\n",
        "\n",
        "print(\"\\nЛучшая модель сохранена в файл best_regression_model.pkl\")"
      ]
    },
    {
      "cell_type": "markdown",
      "metadata": {
        "id": "Kdi_2KUIiRC2"
      },
      "source": [
        "## **9. Загрузка и использование лучшей модели**"
      ]
    },
    {
      "cell_type": "code",
      "execution_count": null,
      "metadata": {
        "colab": {
          "base_uri": "https://localhost:8080/"
        },
        "id": "mPBQ1qvcsD8g",
        "outputId": "96cd0a30-df33-4983-abb1-4db018611a77"
      },
      "outputs": [
        {
          "name": "stdout",
          "output_type": "stream",
          "text": [
            "Предсказание цены: [3.7643755]\n"
          ]
        },
        {
          "name": "stderr",
          "output_type": "stream",
          "text": [
            "/usr/local/lib/python3.10/dist-packages/sklearn/utils/validation.py:2739: UserWarning: X does not have valid feature names, but StandardScaler was fitted with feature names\n",
            "  warnings.warn(\n"
          ]
        }
      ],
      "source": [
        "import pickle\n",
        "import numpy as np\n",
        "\n",
        "# Загрузка\n",
        "with open(\"best_regression_model.pkl\", \"rb\") as f:\n",
        "    saved_objects = pickle.load(f)\n",
        "loaded_feature_engineering = saved_objects[\"pipeline\"]\n",
        "loaded_model = saved_objects[\"model\"]\n",
        "\n",
        "# Пример использования (предположим, есть новый X_new)\n",
        "X_new = np.array([[8.0, 20.0, 6.0, 1.0, 1000.0, 3.0, 34.19, -118.31]])  # Пример вектора признаков\n",
        "# Преобразуем по тем же шагам, что и при обучении\n",
        "X_new_transformed = loaded_feature_engineering.transform(X_new)\n",
        "# Предсказываем\n",
        "prediction = loaded_model.predict(X_new_transformed)\n",
        "print(\"Предсказание цены:\", prediction)"
      ]
    },
    {
      "cell_type": "markdown",
      "metadata": {
        "id": "sZJ8-7vSuIRZ"
      },
      "source": [
        "## **10. Реализация веб-приложения с использованием Gradio, для работы с моделью**"
      ]
    },
    {
      "cell_type": "code",
      "execution_count": null,
      "metadata": {
        "colab": {
          "background_save": true,
          "base_uri": "https://localhost:8080/",
          "height": 1000
        },
        "id": "JKLxvDsytitv",
        "outputId": "649e94d4-a912-43a8-8697-2b6f7771004d"
      },
      "outputs": [
        {
          "name": "stdout",
          "output_type": "stream",
          "text": [
            "Collecting gradio\n",
            "  Downloading gradio-5.9.1-py3-none-any.whl.metadata (16 kB)\n",
            "Collecting aiofiles<24.0,>=22.0 (from gradio)\n",
            "  Downloading aiofiles-23.2.1-py3-none-any.whl.metadata (9.7 kB)\n",
            "Requirement already satisfied: anyio<5.0,>=3.0 in /usr/local/lib/python3.10/dist-packages (from gradio) (3.7.1)\n",
            "Collecting fastapi<1.0,>=0.115.2 (from gradio)\n",
            "  Downloading fastapi-0.115.6-py3-none-any.whl.metadata (27 kB)\n",
            "Collecting ffmpy (from gradio)\n",
            "  Downloading ffmpy-0.5.0-py3-none-any.whl.metadata (3.0 kB)\n",
            "Collecting gradio-client==1.5.2 (from gradio)\n",
            "  Downloading gradio_client-1.5.2-py3-none-any.whl.metadata (7.1 kB)\n",
            "Requirement already satisfied: httpx>=0.24.1 in /usr/local/lib/python3.10/dist-packages (from gradio) (0.28.1)\n",
            "Requirement already satisfied: huggingface-hub>=0.25.1 in /usr/local/lib/python3.10/dist-packages (from gradio) (0.27.0)\n",
            "Requirement already satisfied: jinja2<4.0 in /usr/local/lib/python3.10/dist-packages (from gradio) (3.1.4)\n",
            "Collecting markupsafe~=2.0 (from gradio)\n",
            "  Downloading MarkupSafe-2.1.5-cp310-cp310-manylinux_2_17_x86_64.manylinux2014_x86_64.whl.metadata (3.0 kB)\n",
            "Requirement already satisfied: numpy<3.0,>=1.0 in /usr/local/lib/python3.10/dist-packages (from gradio) (1.26.4)\n",
            "Requirement already satisfied: orjson~=3.0 in /usr/local/lib/python3.10/dist-packages (from gradio) (3.10.12)\n",
            "Requirement already satisfied: packaging in /usr/local/lib/python3.10/dist-packages (from gradio) (24.2)\n",
            "Requirement already satisfied: pandas<3.0,>=1.0 in /usr/local/lib/python3.10/dist-packages (from gradio) (2.2.2)\n",
            "Requirement already satisfied: pillow<12.0,>=8.0 in /usr/local/lib/python3.10/dist-packages (from gradio) (11.0.0)\n",
            "Requirement already satisfied: pydantic>=2.0 in /usr/local/lib/python3.10/dist-packages (from gradio) (2.10.3)\n",
            "Collecting pydub (from gradio)\n",
            "  Downloading pydub-0.25.1-py2.py3-none-any.whl.metadata (1.4 kB)\n",
            "Collecting python-multipart>=0.0.18 (from gradio)\n",
            "  Downloading python_multipart-0.0.20-py3-none-any.whl.metadata (1.8 kB)\n",
            "Requirement already satisfied: pyyaml<7.0,>=5.0 in /usr/local/lib/python3.10/dist-packages (from gradio) (6.0.2)\n",
            "Collecting ruff>=0.2.2 (from gradio)\n",
            "  Downloading ruff-0.8.4-py3-none-manylinux_2_17_x86_64.manylinux2014_x86_64.whl.metadata (25 kB)\n",
            "Collecting safehttpx<0.2.0,>=0.1.6 (from gradio)\n",
            "  Downloading safehttpx-0.1.6-py3-none-any.whl.metadata (4.2 kB)\n",
            "Collecting semantic-version~=2.0 (from gradio)\n",
            "  Downloading semantic_version-2.10.0-py2.py3-none-any.whl.metadata (9.7 kB)\n",
            "Collecting starlette<1.0,>=0.40.0 (from gradio)\n",
            "  Downloading starlette-0.42.0-py3-none-any.whl.metadata (6.0 kB)\n",
            "Collecting tomlkit<0.14.0,>=0.12.0 (from gradio)\n",
            "  Downloading tomlkit-0.13.2-py3-none-any.whl.metadata (2.7 kB)\n",
            "Requirement already satisfied: typer<1.0,>=0.12 in /usr/local/lib/python3.10/dist-packages (from gradio) (0.15.1)\n",
            "Requirement already satisfied: typing-extensions~=4.0 in /usr/local/lib/python3.10/dist-packages (from gradio) (4.12.2)\n",
            "Collecting uvicorn>=0.14.0 (from gradio)\n",
            "  Downloading uvicorn-0.34.0-py3-none-any.whl.metadata (6.5 kB)\n",
            "Requirement already satisfied: fsspec in /usr/local/lib/python3.10/dist-packages (from gradio-client==1.5.2->gradio) (2024.10.0)\n",
            "Requirement already satisfied: websockets<15.0,>=10.0 in /usr/local/lib/python3.10/dist-packages (from gradio-client==1.5.2->gradio) (14.1)\n",
            "Requirement already satisfied: idna>=2.8 in /usr/local/lib/python3.10/dist-packages (from anyio<5.0,>=3.0->gradio) (3.10)\n",
            "Requirement already satisfied: sniffio>=1.1 in /usr/local/lib/python3.10/dist-packages (from anyio<5.0,>=3.0->gradio) (1.3.1)\n",
            "Requirement already satisfied: exceptiongroup in /usr/local/lib/python3.10/dist-packages (from anyio<5.0,>=3.0->gradio) (1.2.2)\n",
            "Collecting starlette<1.0,>=0.40.0 (from gradio)\n",
            "  Downloading starlette-0.41.3-py3-none-any.whl.metadata (6.0 kB)\n",
            "Requirement already satisfied: certifi in /usr/local/lib/python3.10/dist-packages (from httpx>=0.24.1->gradio) (2024.12.14)\n",
            "Requirement already satisfied: httpcore==1.* in /usr/local/lib/python3.10/dist-packages (from httpx>=0.24.1->gradio) (1.0.7)\n",
            "Requirement already satisfied: h11<0.15,>=0.13 in /usr/local/lib/python3.10/dist-packages (from httpcore==1.*->httpx>=0.24.1->gradio) (0.14.0)\n",
            "Requirement already satisfied: filelock in /usr/local/lib/python3.10/dist-packages (from huggingface-hub>=0.25.1->gradio) (3.16.1)\n",
            "Requirement already satisfied: requests in /usr/local/lib/python3.10/dist-packages (from huggingface-hub>=0.25.1->gradio) (2.32.3)\n",
            "Requirement already satisfied: tqdm>=4.42.1 in /usr/local/lib/python3.10/dist-packages (from huggingface-hub>=0.25.1->gradio) (4.67.1)\n",
            "Requirement already satisfied: python-dateutil>=2.8.2 in /usr/local/lib/python3.10/dist-packages (from pandas<3.0,>=1.0->gradio) (2.8.2)\n",
            "Requirement already satisfied: pytz>=2020.1 in /usr/local/lib/python3.10/dist-packages (from pandas<3.0,>=1.0->gradio) (2024.2)\n",
            "Requirement already satisfied: tzdata>=2022.7 in /usr/local/lib/python3.10/dist-packages (from pandas<3.0,>=1.0->gradio) (2024.2)\n",
            "Requirement already satisfied: annotated-types>=0.6.0 in /usr/local/lib/python3.10/dist-packages (from pydantic>=2.0->gradio) (0.7.0)\n",
            "Requirement already satisfied: pydantic-core==2.27.1 in /usr/local/lib/python3.10/dist-packages (from pydantic>=2.0->gradio) (2.27.1)\n",
            "Requirement already satisfied: click>=8.0.0 in /usr/local/lib/python3.10/dist-packages (from typer<1.0,>=0.12->gradio) (8.1.7)\n",
            "Requirement already satisfied: shellingham>=1.3.0 in /usr/local/lib/python3.10/dist-packages (from typer<1.0,>=0.12->gradio) (1.5.4)\n",
            "Requirement already satisfied: rich>=10.11.0 in /usr/local/lib/python3.10/dist-packages (from typer<1.0,>=0.12->gradio) (13.9.4)\n",
            "Requirement already satisfied: six>=1.5 in /usr/local/lib/python3.10/dist-packages (from python-dateutil>=2.8.2->pandas<3.0,>=1.0->gradio) (1.17.0)\n",
            "Requirement already satisfied: markdown-it-py>=2.2.0 in /usr/local/lib/python3.10/dist-packages (from rich>=10.11.0->typer<1.0,>=0.12->gradio) (3.0.0)\n",
            "Requirement already satisfied: pygments<3.0.0,>=2.13.0 in /usr/local/lib/python3.10/dist-packages (from rich>=10.11.0->typer<1.0,>=0.12->gradio) (2.18.0)\n",
            "Requirement already satisfied: charset-normalizer<4,>=2 in /usr/local/lib/python3.10/dist-packages (from requests->huggingface-hub>=0.25.1->gradio) (3.4.0)\n",
            "Requirement already satisfied: urllib3<3,>=1.21.1 in /usr/local/lib/python3.10/dist-packages (from requests->huggingface-hub>=0.25.1->gradio) (2.2.3)\n",
            "Requirement already satisfied: mdurl~=0.1 in /usr/local/lib/python3.10/dist-packages (from markdown-it-py>=2.2.0->rich>=10.11.0->typer<1.0,>=0.12->gradio) (0.1.2)\n",
            "Downloading gradio-5.9.1-py3-none-any.whl (57.2 MB)\n",
            "\u001b[2K   \u001b[90m━━━━━━━━━━━━━━━━━━━━━━━━━━━━━━━━━━━━━━━━\u001b[0m \u001b[32m57.2/57.2 MB\u001b[0m \u001b[31m7.7 MB/s\u001b[0m eta \u001b[36m0:00:00\u001b[0m\n",
            "\u001b[?25hDownloading gradio_client-1.5.2-py3-none-any.whl (320 kB)\n",
            "\u001b[2K   \u001b[90m━━━━━━━━━━━━━━━━━━━━━━━━━━━━━━━━━━━━━━━━\u001b[0m \u001b[32m320.4/320.4 kB\u001b[0m \u001b[31m10.3 MB/s\u001b[0m eta \u001b[36m0:00:00\u001b[0m\n",
            "\u001b[?25hDownloading aiofiles-23.2.1-py3-none-any.whl (15 kB)\n",
            "Downloading fastapi-0.115.6-py3-none-any.whl (94 kB)\n",
            "\u001b[2K   \u001b[90m━━━━━━━━━━━━━━━━━━━━━━━━━━━━━━━━━━━━━━━━\u001b[0m \u001b[32m94.8/94.8 kB\u001b[0m \u001b[31m3.6 MB/s\u001b[0m eta \u001b[36m0:00:00\u001b[0m\n",
            "\u001b[?25hDownloading MarkupSafe-2.1.5-cp310-cp310-manylinux_2_17_x86_64.manylinux2014_x86_64.whl (25 kB)\n",
            "Downloading python_multipart-0.0.20-py3-none-any.whl (24 kB)\n",
            "Downloading ruff-0.8.4-py3-none-manylinux_2_17_x86_64.manylinux2014_x86_64.whl (11.2 MB)\n",
            "\u001b[2K   \u001b[90m━━━━━━━━━━━━━━━━━━━━━━━━━━━━━━━━━━━━━━━━\u001b[0m \u001b[32m11.2/11.2 MB\u001b[0m \u001b[31m48.9 MB/s\u001b[0m eta \u001b[36m0:00:00\u001b[0m\n",
            "\u001b[?25hDownloading safehttpx-0.1.6-py3-none-any.whl (8.7 kB)\n",
            "Downloading semantic_version-2.10.0-py2.py3-none-any.whl (15 kB)\n",
            "Downloading starlette-0.41.3-py3-none-any.whl (73 kB)\n",
            "\u001b[2K   \u001b[90m━━━━━━━━━━━━━━━━━━━━━━━━━━━━━━━━━━━━━━━━\u001b[0m \u001b[32m73.2/73.2 kB\u001b[0m \u001b[31m3.0 MB/s\u001b[0m eta \u001b[36m0:00:00\u001b[0m\n",
            "\u001b[?25hDownloading tomlkit-0.13.2-py3-none-any.whl (37 kB)\n",
            "Downloading uvicorn-0.34.0-py3-none-any.whl (62 kB)\n",
            "\u001b[2K   \u001b[90m━━━━━━━━━━━━━━━━━━━━━━━━━━━━━━━━━━━━━━━━\u001b[0m \u001b[32m62.3/62.3 kB\u001b[0m \u001b[31m2.4 MB/s\u001b[0m eta \u001b[36m0:00:00\u001b[0m\n",
            "\u001b[?25hDownloading ffmpy-0.5.0-py3-none-any.whl (6.0 kB)\n",
            "Downloading pydub-0.25.1-py2.py3-none-any.whl (32 kB)\n",
            "Installing collected packages: pydub, uvicorn, tomlkit, semantic-version, ruff, python-multipart, markupsafe, ffmpy, aiofiles, starlette, safehttpx, gradio-client, fastapi, gradio\n",
            "  Attempting uninstall: markupsafe\n",
            "    Found existing installation: MarkupSafe 3.0.2\n",
            "    Uninstalling MarkupSafe-3.0.2:\n",
            "      Successfully uninstalled MarkupSafe-3.0.2\n",
            "Successfully installed aiofiles-23.2.1 fastapi-0.115.6 ffmpy-0.5.0 gradio-5.9.1 gradio-client-1.5.2 markupsafe-2.1.5 pydub-0.25.1 python-multipart-0.0.20 ruff-0.8.4 safehttpx-0.1.6 semantic-version-2.10.0 starlette-0.41.3 tomlkit-0.13.2 uvicorn-0.34.0\n"
          ]
        },
        {
          "data": {
            "application/vnd.colab-display-data+json": {
              "id": "6740e6667d5d489ab694ffb043f1e1f1",
              "pip_warning": {
                "packages": [
                  "markupsafe"
                ]
              }
            }
          },
          "metadata": {},
          "output_type": "display_data"
        }
      ],
      "source": [
        "!pip install gradio"
      ]
    },
    {
      "cell_type": "code",
      "execution_count": null,
      "metadata": {
        "colab": {
          "base_uri": "https://localhost:8080/",
          "height": 612
        },
        "id": "WZOvKEFzs5bh",
        "outputId": "8532d439-bccb-4442-be1e-31e5ce31b3e8"
      },
      "outputs": [
        {
          "output_type": "stream",
          "name": "stdout",
          "text": [
            "Colab notebook detected. To show errors in colab notebook, set debug=True in launch()\n",
            "* Running on public URL: https://a65c1555f2d31b5aa5.gradio.live\n",
            "\n",
            "This share link expires in 72 hours. For free permanent hosting and GPU upgrades, run `gradio deploy` from the terminal in the working directory to deploy to Hugging Face Spaces (https://huggingface.co/spaces)\n"
          ]
        },
        {
          "output_type": "display_data",
          "data": {
            "text/plain": [
              "<IPython.core.display.HTML object>"
            ],
            "text/html": [
              "<div><iframe src=\"https://a65c1555f2d31b5aa5.gradio.live\" width=\"100%\" height=\"500\" allow=\"autoplay; camera; microphone; clipboard-read; clipboard-write;\" frameborder=\"0\" allowfullscreen></iframe></div>"
            ]
          },
          "metadata": {}
        },
        {
          "output_type": "execute_result",
          "data": {
            "text/plain": []
          },
          "metadata": {},
          "execution_count": 11
        }
      ],
      "source": [
        "import gradio as gr\n",
        "import pickle\n",
        "import numpy as np\n",
        "\n",
        "# 1. Загрузка объектов из файла Pickle\n",
        "with open(\"best_regression_model.pkl\", \"rb\") as f:\n",
        "    saved_objects = pickle.load(f)\n",
        "\n",
        "loaded_feature_engineering = saved_objects[\"pipeline\"]\n",
        "loaded_model = saved_objects[\"model\"]\n",
        "\n",
        "# 2. Функция предсказания\n",
        "def predict_price(\n",
        "    area,\n",
        "    rooms,\n",
        "    floor,\n",
        "    total_floors,\n",
        "    kitchen_area,\n",
        "    distance_to_center,\n",
        "    latitude,\n",
        "    longitude\n",
        "):\n",
        "    \"\"\"\n",
        "    Функция принимает значения признаков, совершает\n",
        "    те же преобразования, что при обучении, и возвращает предсказание.\n",
        "    \"\"\"\n",
        "    # Формируем numpy-массив из входных данных\n",
        "    X_new = np.array([[area, rooms, floor, total_floors,\n",
        "                       kitchen_area, distance_to_center, latitude, longitude]])\n",
        "\n",
        "    # Проводим те же преобразования, что и при обучении\n",
        "    X_transformed = loaded_feature_engineering.transform(X_new)\n",
        "    # Вызываем предикт у модели\n",
        "    prediction = loaded_model.predict(X_transformed)\n",
        "\n",
        "    return float(prediction[0])\n",
        "\n",
        "# 3. Создаём интерфейс Gradio\n",
        "interface = gr.Interface(\n",
        "    fn=predict_price,\n",
        "    inputs=[\n",
        "        gr.Number(label=\"area (общая площадь)\"),\n",
        "        gr.Number(label=\"rooms (количество комнат)\"),\n",
        "        gr.Number(label=\"floor (этаж)\"),\n",
        "        gr.Number(label=\"total_floors (всего этажей в доме)\"),\n",
        "        gr.Number(label=\"kitchen_area (площадь кухни)\"),\n",
        "        gr.Number(label=\"distance_to_center (Расстояние до центра)\"),\n",
        "        gr.Number(label=\"latitude (широта)\"),\n",
        "        gr.Number(label=\"longitude (долгота)\")\n",
        "    ],\n",
        "    outputs=\"text\",\n",
        "    title=\"Прогноз стоимости недвижимости\",\n",
        "    description=(\n",
        "        \"Введите параметры (числа), затем нажмите 'Submit'. \"\n",
        "        \"Модель вернёт предсказанную стоимость.\"\n",
        "    )\n",
        ")\n",
        "\n",
        "# 4. Запуск интерфейса Gradio\n",
        "interface.launch(share=True)"
      ]
    },
    {
      "cell_type": "markdown",
      "source": [
        "## **11. Реализация web-приложения, с использованием библиотеки Streamlit**"
      ],
      "metadata": {
        "id": "uzpuzVd1uXKF"
      }
    },
    {
      "cell_type": "markdown",
      "source": [
        "**(Весь процесс от начала и до конца рассматривался на паре, ниже привожу его структурированный пересказ)**"
      ],
      "metadata": {
        "id": "lqOzLEWywZG9"
      }
    },
    {
      "cell_type": "markdown",
      "source": [
        "Разработка веб-приложения, которое служит интерфейсом для обученной модели, включает несколько этапов:\n",
        "\n",
        "1. **Создание API для модели и развёртывание его на Render.com**\n",
        "2. **Разработка графического интерфейса с использованием Streamlit**\n",
        "3. **Развёртывание Streamlit приложения на платформе Streamlit**"
      ],
      "metadata": {
        "id": "MErFQI9fzl3s"
      }
    },
    {
      "cell_type": "markdown",
      "source": [
        "Все этапы проводятся в десткопной среде Pycharm/VS Code, затем готовый проект пушится на GitHub"
      ],
      "metadata": {
        "id": "1SguBC3Dz1gb"
      }
    },
    {
      "cell_type": "markdown",
      "source": [
        "- Ссылка на репозиторий с приложением, которое было реализовано на паре: https://github.com/Alexandre77777/california_regression.git"
      ],
      "metadata": {
        "id": "Xl_le2EC0cJv"
      }
    },
    {
      "cell_type": "markdown",
      "source": [
        "#### **1. Создание API для модели и развёртывание его на Render.com**\n"
      ],
      "metadata": {
        "id": "fFqr7Mke1IPb"
      }
    },
    {
      "cell_type": "markdown",
      "source": [
        "\n",
        "**Файл `main.py`**\n",
        "\n",
        "```python\n",
        "from fastapi import FastAPI\n",
        "import pickle\n",
        "import numpy as np\n",
        "from pydantic import BaseModel\n",
        "\n",
        "app = FastAPI()\n",
        "```\n",
        "\n",
        "- **Импорт необходимых библиотек:**\n",
        "  - `FastAPI` для создания веб-приложения API.\n",
        "  - `pickle` для загрузки сохранённой модели.\n",
        "  - `numpy` для работы с числовыми массивами.\n",
        "  - `pydantic` для валидации входных данных.\n",
        "\n",
        "- **Инициализация приложения:** Создаём экземпляр приложения `FastAPI`.\n",
        "\n",
        "```python\n",
        "class InputData(BaseModel):\n",
        "    MedInc: float\n",
        "    HouseAge: float\n",
        "    AveRooms: float\n",
        "    AveBedrms: float\n",
        "    Population: float\n",
        "    AveOccup: float\n",
        "    Latitude: float\n",
        "    Longitude: float\n",
        "```\n",
        "\n",
        "- **Определение модели входных данных:**\n",
        "  - Создаём класс `InputData`, наследующий от `BaseModel`, который описывает структуру ожидаемых данных от клиента.\n",
        "  - Каждый атрибут соответствует одному из признаков модели и имеет тип `float`.\n",
        "\n",
        "```python\n",
        "with open('best_regression_model.pkl', 'rb') as f:\n",
        "    saved_objects = pickle.load(f)\n",
        "\n",
        "loaded_feature_engineering = saved_objects[\"pipeline\"]\n",
        "loaded_model = saved_objects[\"model\"]\n",
        "```\n",
        "\n",
        "- **Загрузка обученной модели и пайплайна предобработки:**\n",
        "  - Открываем файл `best_regression_model.pkl`, который содержит сериализованные объекты.\n",
        "  - Используем `pickle.load` для загрузки объектов в переменную `saved_objects`.\n",
        "  - Извлекаем из неё пайплайн предобработки `loaded_feature_engineering` и саму модель `loaded_model`.\n",
        "\n",
        "```python\n",
        "@app.post('/predict')\n",
        "async def predict(input_data: InputData):\n",
        "    X_new = np.array([[\n",
        "        input_data.MedInc,\n",
        "        input_data.HouseAge,\n",
        "        input_data.AveRooms,\n",
        "        input_data.AveBedrms,\n",
        "        input_data.Population,\n",
        "        input_data.AveOccup,\n",
        "        input_data.Latitude,\n",
        "        input_data.Longitude\n",
        "    ]])\n",
        "```\n",
        "\n",
        "- **Создание маршрута для предсказаний:**\n",
        "  - Используем декоратор `@app.post('/predict')` для создания эндпоинта `/predict`, который будет обрабатывать POST-запросы.\n",
        "  - Функция `predict` принимает объект `input_data` типа `InputData`.\n",
        "  - Собираем входные данные в numpy-массив `X_new`, который затем подаётся на вход модели.\n",
        "\n",
        "```python\n",
        "    X_new_transformed = loaded_feature_engineering.transform(X_new)\n",
        "```\n",
        "\n",
        "- **Предобработка данных:**\n",
        "  - Применяем пайплайн предобработки к входным данным, чтобы привести их к формату, ожидаемому моделью.\n",
        "\n",
        "```python\n",
        "    prediction = loaded_model.predict(X_new_transformed)\n",
        "```\n",
        "\n",
        "- **Получение прогноза:**\n",
        "  - Используем загруженную модель для предсказания цены на основе предобработанных данных.\n",
        "\n",
        "```python\n",
        "    return {\"prediction\": float(prediction[0])}\n",
        "```\n",
        "\n",
        "- **Возвращение результата:**\n",
        "  - Возвращаем прогноз в формате JSON, преобразуя результат в `float` для обеспечения сериализации.\n",
        "\n",
        "**Файл `requirements.txt`**\n",
        "\n",
        "```\n",
        "fastapi==0.103.0\n",
        "numpy\n",
        "scikit-learn==1.6.0\n",
        "uvicorn==0.23.2\n",
        "streamlit\n",
        "```\n",
        "\n",
        "- **Зависимости проекта:**\n",
        "  - Указываем необходимые библиотеки и их версии для корректной работы приложения.\n",
        "\n",
        "**Развёртывание на Render.com**\n",
        "\n",
        "1. **Регистрация и настройка проекта:**\n",
        "   - Зарегистрироваться на [Render.com](https://render.com).\n",
        "   - Создать новый веб-сервис, указав репозиторий с вашим проектом.\n",
        "   - Указать ветку и команду запуска (например, `uvicorn main:app --host 0.0.0.0 --port 8000`).\n",
        "\n",
        "2. **Настройка зависимостей:**\n",
        "   - Render.com автоматически установит зависимости из файла `requirements.txt`.\n",
        "\n",
        "3. **Развёртывание:**\n",
        "   - Запустить процесс развёртывания и дождаться его завершения.\n",
        "\n",
        "Теперь API доступен по адресу, предоставленному Render.com."
      ],
      "metadata": {
        "id": "Rus8J1WM04_Q"
      }
    },
    {
      "cell_type": "markdown",
      "source": [
        "- Пример использования API:"
      ],
      "metadata": {
        "id": "bx_OQN5a092D"
      }
    },
    {
      "cell_type": "code",
      "source": [
        "import requests\n",
        "\n",
        "# URL API\n",
        "url = 'https://california-regression.onrender.com/predict'\n",
        "\n",
        "# Сбор данных от пользователя\n",
        "print(\"Введите параметры для прогноза цены на жильё.\")\n",
        "\n",
        "MedInc = float(input(\"Медианный доход: \"))\n",
        "HouseAge = float(input(\"Средний возраст жилья: \"))\n",
        "AveRooms = float(input(\"Общее кол-во комнат: \"))\n",
        "AveBedrms = float(input(\"Общее кол-во спален: \"))\n",
        "Population = float(input(\"Население: \"))\n",
        "AveOccup = float(input(\"Кол-во домохозяйств: \"))\n",
        "Latitude = float(input(\"Широта: \"))\n",
        "Longitude = float(input(\"Долгота: \"))\n",
        "\n",
        "# Создание словаря с данными\n",
        "data = {\n",
        "    \"MedInc\": MedInc,\n",
        "    \"HouseAge\": HouseAge,\n",
        "    \"AveRooms\": AveRooms,\n",
        "    \"AveBedrms\": AveBedrms,\n",
        "    \"Population\": Population,\n",
        "    \"AveOccup\": AveOccup,\n",
        "    \"Latitude\": Latitude,\n",
        "    \"Longitude\": Longitude\n",
        "}\n",
        "\n",
        "# Отправка POST-запроса к API\n",
        "response = requests.post(url, json=data)\n",
        "\n",
        "# Обработка ответа\n",
        "if response.status_code == 200:\n",
        "    try:\n",
        "        result = response.json()\n",
        "        prediction = result.get('prediction')\n",
        "        if prediction is not None:\n",
        "            print(f'Прогнозируемая цена: {prediction*1000:.2f}$')\n",
        "        else:\n",
        "            print(\"Ошибка! Ответ API не содержит прогноз!\")\n",
        "    except ValueError:\n",
        "        print(\"Ошибка! Ответ API не является валидным JSON!\")\n",
        "else:\n",
        "    print(f\"Ошибка! API вернул статус: {response.status_code}\")"
      ],
      "metadata": {
        "colab": {
          "base_uri": "https://localhost:8080/"
        },
        "outputId": "6dc084d8-a2db-4c95-b349-9f0f90c770d0",
        "id": "bRF4VtvP1Cze"
      },
      "execution_count": null,
      "outputs": [
        {
          "output_type": "stream",
          "name": "stdout",
          "text": [
            "Введите параметры для прогноза цены на жильё.\n",
            "Медианный доход: 34\n",
            "Средний возраст жилья: 3\n",
            "Общее кол-во комнат: 4\n",
            "Общее кол-во спален: 2\n",
            "Население: 30000\n",
            "Кол-во домохозяйств: 12\n",
            "Широта: 54\n",
            "Долгота: 36\n",
            "Прогнозируемая цена: 3571.65$\n"
          ]
        }
      ]
    },
    {
      "cell_type": "markdown",
      "source": [
        "### **2. Разработка графического интерфейса с использованием Streamlit**\n",
        "\n",
        "**Файл `app.py`**\n",
        "\n",
        "```python\n",
        "import streamlit as st\n",
        "import requests\n",
        "\n",
        "st.title(\"Прогноз цены на жильё\")\n",
        "```\n",
        "\n",
        "- **Импорт библиотек:**\n",
        "  - `streamlit` для создания веб-приложения.\n",
        "  - `requests` для отправки HTTP-запросов к API.\n",
        "\n",
        "- **Заголовок приложения:**\n",
        "  - С помощью `st.title` отображаем заголовок на странице.\n",
        "\n",
        "```python\n",
        "MedInc = st.number_input(\"Медианный доход\", value=3.0)\n",
        "HouseAge = st.number_input(\"Средний возраст жилья\", value=3.0)\n",
        "AveRooms = st.number_input(\"Общее кол-во комнат\", value=3.0)\n",
        "AveBedrms = st.number_input(\"Общее кол-во спален\", value=3.0)\n",
        "Population = st.number_input(\"Население\", value=1500.0)\n",
        "AveOccup = st.number_input(\"Кол-во домохозяйств\", value=500.0)\n",
        "Latitude = st.number_input(\"Широта\", value=37.88)\n",
        "Longitude = st.number_input(\"Долгота\", value=-122.33)\n",
        "```\n",
        "\n",
        "- **Ввод данных пользователем:**\n",
        "  - Используем `st.number_input` для создания полей ввода числовых данных.\n",
        "  - Указываем метку и значение по умолчанию для каждого поля.\n",
        "\n",
        "```python\n",
        "if st.button(\"Получить прогноз\"):\n",
        "    data = {\n",
        "        \"MedInc\": MedInc,\n",
        "        \"HouseAge\": HouseAge,\n",
        "        \"AveRooms\": AveRooms,\n",
        "        \"AveBedrms\": AveBedrms,\n",
        "        \"Population\": Population,\n",
        "        \"AveOccup\": AveOccup,\n",
        "        \"Latitude\": Latitude,\n",
        "        \"Longitude\": Longitude\n",
        "    }\n",
        "```\n",
        "\n",
        "- **Обработка события нажатия кнопки:**\n",
        "  - С помощью `st.button` создаём кнопку \"Получить прогноз\".\n",
        "  - При нажатии собираем введённые пользователем данные в словарь `data`.\n",
        "\n",
        "```python\n",
        "    url = 'https://california-regression.onrender.com/predict'\n",
        "    response = requests.post(url, json=data)\n",
        "```\n",
        "\n",
        "- **Отправка запроса к API:**\n",
        "  - Указываем URL ранее развёрнутого API.\n",
        "  - С помощью `requests.post` отправляем POST-запрос с данными в формате JSON.\n",
        "\n",
        "```python\n",
        "    if response.status_code == 200:\n",
        "        try:\n",
        "            data = response.json()\n",
        "            prediction = data.get('prediction')\n",
        "            if prediction is not None:\n",
        "                st.success(f'Прогнозируемая цена: {prediction*1000:.2f}$')\n",
        "                st.subheader('Визуализация прогноза')\n",
        "                st.bar_chart({\"Прогноз\": [prediction]})\n",
        "            else:\n",
        "                st.error(\"Ошибка! Ответ API не содержит прогноз!\")\n",
        "        except:\n",
        "            st.error(\"Ошибка! Ответ API не является валидным JSON!\")\n",
        "    else:\n",
        "        st.error(f\"Ошибка! API вернул статус: {response.status_code}\")\n",
        "```\n",
        "\n",
        "- **Обработка ответа от API:**\n",
        "  - Проверяем статус ответа. Если он равен 200, значит запрос успешен.\n",
        "  - Пробуем преобразовать ответ в JSON и получить значение `prediction`.\n",
        "  - Если прогноз получен, отображаем его с помощью `st.success`, умножая на 1000 для получения цены в долларах.\n",
        "  - Отображаем визуализацию прогноза с помощью `st.bar_chart`.\n",
        "  - Если возникла ошибка, отображаем соответствующее сообщение."
      ],
      "metadata": {
        "id": "5oOJGVRe1Unh"
      }
    },
    {
      "cell_type": "markdown",
      "source": [
        "### **3. Развёртывание Streamlit приложения на платформе Streamlit**\n"
      ],
      "metadata": {
        "id": "HiVTDPi61jj9"
      }
    },
    {
      "cell_type": "markdown",
      "source": [
        "\n",
        "1. **Регистрация на Streamlit Sharing:**\n",
        "   - Перейдите на [streamlit.io](https://streamlit.io) и зарегистрируйтесь.\n",
        "   - Получите доступ к Streamlit Community Cloud (ранее Streamlit Sharing).\n",
        "\n",
        "2. **Развёртывание приложения:**\n",
        "   - На панели управления Streamlit создайте новое приложение, указав ссылку на ваш репозиторий и путь к файлу `app.py`.\n",
        "   - Убедитесь, что в `requirements.txt` указаны все необходимые зависимости.\n",
        "\n",
        "3. **Запуск и тестирование:**\n",
        "   - Запустите приложение и убедитесь, что оно корректно работает.\n",
        "   - Проверьте ввод данных и получение прогноза."
      ],
      "metadata": {
        "id": "6wMn4P7rzVnf"
      }
    },
    {
      "cell_type": "markdown",
      "source": [
        "- Ссылка на развернутое приложение, реализованное на паре: https://californiaregression-kfbybrncfrpkju36p9kwn4.streamlit.app/"
      ],
      "metadata": {
        "id": "LlqaReUg1-1G"
      }
    },
    {
      "cell_type": "markdown",
      "source": [
        "### **Структура репозитория с проектом**\n"
      ],
      "metadata": {
        "id": "8iuSCQHy18iR"
      }
    },
    {
      "cell_type": "markdown",
      "source": [
        "\n",
        "```\n",
        "app.py\n",
        "best_regression_model.pkl\n",
        "main.py\n",
        "requirements.txt\n",
        "```\n",
        "\n",
        "- **`app.py`** — код Streamlit приложения (клиентская часть).\n",
        "- **`main.py`** — код FastAPI приложения (серверная часть).\n",
        "- **`best_regression_model.pkl`** — файл с сохранённой моделью и пайплайном предобработки.\n",
        "- **`requirements.txt`** — список зависимостей для установки необходимых библиотек."
      ],
      "metadata": {
        "id": "l8bD2mzS1qEg"
      }
    },
    {
      "cell_type": "markdown",
      "source": [
        "### **Выводы:**\n"
      ],
      "metadata": {
        "id": "djS3Pspu16gq"
      }
    },
    {
      "cell_type": "markdown",
      "source": [
        "\n",
        "В результате мы разработали веб-приложение, которое позволяет пользователю вводить параметры жилья и получать прогнозируемую цену. Процесс разработки включал:\n",
        "\n",
        "- **Создание API с использованием FastAPI:** Мы создали серверное приложение, которое загружает обученную модель, принимает входные данные и возвращает предсказание.\n",
        "\n",
        "- **Развёртывание API на Render.com:** Это позволяет сделать наш API доступным из интернета, чтобы клиентское приложение могло отправлять к нему запросы.\n",
        "\n",
        "- **Разработка клиентского приложения с использованием Streamlit:** Мы создали удобный графический интерфейс, где пользователь может вводить данные и получать результаты.\n",
        "\n",
        "- **Развёртывание Streamlit приложения:** Это делает наше приложение доступным для конечных пользователей через веб-браузер."
      ],
      "metadata": {
        "id": "zVhrBVaf15F8"
      }
    },
    {
      "cell_type": "markdown",
      "metadata": {
        "id": "OzGooif4wYsL"
      },
      "source": [
        "# **II. Классификация изображений**"
      ]
    },
    {
      "cell_type": "markdown",
      "metadata": {
        "id": "OHR8fWoeAoJ0"
      },
      "source": [
        "## **1. Установка необходимых зависимостей**"
      ]
    },
    {
      "cell_type": "code",
      "execution_count": null,
      "metadata": {
        "id": "90dmNyGxy9R4"
      },
      "outputs": [],
      "source": [
        "import tensorflow as tf\n",
        "import numpy as np\n",
        "from sklearn.model_selection import train_test_split\n",
        "from sklearn.preprocessing import StandardScaler\n",
        "from sklearn.metrics import accuracy_score, recall_score, precision_score, f1_score, confusion_matrix, roc_auc_score\n",
        "from sklearn.linear_model import LogisticRegression\n",
        "from sklearn.tree import DecisionTreeClassifier\n",
        "from sklearn.ensemble import RandomForestClassifier, GradientBoostingClassifier\n",
        "from sklearn.svm import SVC\n",
        "from sklearn.neighbors import KNeighborsClassifier\n",
        "from sklearn.naive_bayes import GaussianNB\n",
        "import pickle\n",
        "\n",
        "import tensorflow_datasets as tfds"
      ]
    },
    {
      "cell_type": "markdown",
      "metadata": {
        "id": "iscHAlHbAoJ0"
      },
      "source": [
        "## **2. Загрузка набора данных. Формирование обучающей и тестовой выборок**"
      ]
    },
    {
      "cell_type": "code",
      "execution_count": null,
      "metadata": {
        "id": "6ype94Bcy9i5"
      },
      "outputs": [],
      "source": [
        "# Загрузка датасета EuroSAT\n",
        "dataset, info = tfds.load(\n",
        "    'eurosat',\n",
        "    split='train',\n",
        "    with_info=True,\n",
        "    as_supervised=True\n",
        ")\n",
        "\n",
        "# Преобразование датасета в numpy массивы\n",
        "all_images, all_labels = zip(*[(image.numpy(), label.numpy()) for image, label in dataset])\n",
        "all_images = np.array(all_images)\n",
        "all_labels = np.array(all_labels)\n",
        "\n",
        "# Разделение данных на обучающую и тестовую выборки\n",
        "from sklearn.model_selection import train_test_split\n",
        "\n",
        "train_images, test_images, train_labels, test_labels = train_test_split(\n",
        "    all_images, all_labels, test_size=0.2, random_state=42\n",
        ")"
      ]
    },
    {
      "cell_type": "code",
      "execution_count": null,
      "metadata": {
        "id": "QHxbnGbL4PDI"
      },
      "outputs": [],
      "source": [
        "import tensorflow_datasets as tfds\n",
        "import numpy as np\n",
        "from sklearn.model_selection import train_test_split\n",
        "\n",
        "# Загрузка датасета MNIST\n",
        "dataset, info = tfds.load(\n",
        "    'mnist',\n",
        "    split='train',\n",
        "    with_info=True,\n",
        "    as_supervised=True\n",
        ")\n",
        "\n",
        "# Преобразование датасета в numpy массивы\n",
        "all_images, all_labels = zip(*[(image.numpy(), label.numpy()) for image, label in dataset])\n",
        "all_images = np.array(all_images)\n",
        "all_labels = np.array(all_labels)\n",
        "\n",
        "# Разделение данных на обучающую и тестовую выборки\n",
        "train_images, test_images, train_labels, test_labels = train_test_split(\n",
        "    all_images, all_labels, test_size=0.2, random_state=42\n",
        ")"
      ]
    },
    {
      "cell_type": "markdown",
      "metadata": {
        "id": "1yQ7dIz_AoJ1"
      },
      "source": [
        "## **5. Формирование пайплана, включающего в себя стандартизацию и формирование дополнительных полиноминальных признаков**"
      ]
    },
    {
      "cell_type": "code",
      "execution_count": null,
      "metadata": {
        "id": "2Ni4xV8Dy90n"
      },
      "outputs": [],
      "source": [
        "from skimage.feature import hog\n",
        "import numpy as np\n",
        "\n",
        "def extract_features(images):\n",
        "    features = []\n",
        "    for img in images:\n",
        "        # Преобразование изображения в оттенки серого, если оно цветное\n",
        "        if len(img.shape) == 3:\n",
        "            img_gray = np.mean(img, axis=2)\n",
        "            channel_axis = None  # Для изображения в оттенках серого\n",
        "        else:\n",
        "            img_gray = img\n",
        "            channel_axis = None  # Для изображения в оттенках серого\n",
        "\n",
        "        # Вычисление HOG-дескриптора\n",
        "        hog_features = hog(img_gray, orientations=9, pixels_per_cell=(8, 8),\n",
        "                           cells_per_block=(2, 2), visualize=False, channel_axis=channel_axis)\n",
        "\n",
        "        features.append(hog_features)\n",
        "\n",
        "    return np.array(features)\n",
        "\n",
        "X_train = extract_features(train_images)\n",
        "X_test = extract_features(test_images)\n",
        "y_train = train_labels\n",
        "y_test = test_labels\n",
        "\n",
        "# Масштабирование признаков\n",
        "scaler = StandardScaler()\n",
        "X_train_scaled = scaler.fit_transform(X_train)\n",
        "X_test_scaled = scaler.transform(X_test)"
      ]
    },
    {
      "cell_type": "markdown",
      "metadata": {
        "id": "X1JieDJEAoJ1"
      },
      "source": [
        "## **4. Инициализация моделей машинного обучения для решения задачи классификации из sklearn**"
      ]
    },
    {
      "cell_type": "code",
      "execution_count": null,
      "metadata": {
        "id": "bmOV8Ys8y-Ef"
      },
      "outputs": [],
      "source": [
        "# Список моделей для обучения\n",
        "models = [\n",
        "    ('Logistic Regression', LogisticRegression(max_iter=5, solver='liblinear')),\n",
        "    ('Decision Tree', DecisionTreeClassifier()),\n",
        "    ('Random Forest', RandomForestClassifier()),\n",
        "    ('SVM', SVC(probability=True)),\n",
        "    ('KNN', KNeighborsClassifier()),\n",
        "    ('Naive Bayes', GaussianNB())\n",
        "]"
      ]
    },
    {
      "cell_type": "markdown",
      "metadata": {
        "id": "eM485PsUAoJ1"
      },
      "source": [
        "## **6. Обучение моделей машинного обучения с вычислением метрик**"
      ]
    },
    {
      "cell_type": "code",
      "execution_count": null,
      "metadata": {
        "colab": {
          "base_uri": "https://localhost:8080/"
        },
        "id": "v2y2IRhUzP_h",
        "outputId": "b7ca8304-c7a3-4a68-9d4f-53c69d5180df"
      },
      "outputs": [
        {
          "name": "stdout",
          "output_type": "stream",
          "text": [
            "Начало обучения модели: Logistic Regression\n"
          ]
        },
        {
          "name": "stderr",
          "output_type": "stream",
          "text": [
            "/usr/local/lib/python3.10/dist-packages/sklearn/svm/_base.py:1243: ConvergenceWarning: Liblinear failed to converge, increase the number of iterations.\n",
            "  warnings.warn(\n"
          ]
        },
        {
          "name": "stdout",
          "output_type": "stream",
          "text": [
            "Модель Logistic Regression обучена. Время обучения: 6.45 секунд\n",
            "\n",
            "Начало обучения модели: Decision Tree\n",
            "Модель Decision Tree обучена. Время обучения: 23.59 секунд\n",
            "\n",
            "Начало обучения модели: Random Forest\n",
            "Модель Random Forest обучена. Время обучения: 80.24 секунд\n",
            "\n",
            "Начало обучения модели: SVM\n",
            "Модель SVM обучена. Время обучения: 290.49 секунд\n",
            "\n",
            "Начало обучения модели: KNN\n",
            "Модель KNN обучена. Время обучения: 0.01 секунд\n",
            "\n",
            "Начало обучения модели: Naive Bayes\n",
            "Модель Naive Bayes обучена. Время обучения: 0.21 секунд\n",
            "\n"
          ]
        }
      ],
      "source": [
        "import time\n",
        "\n",
        "# Обучение и оценка моделей\n",
        "results = {}\n",
        "for name, model in models:\n",
        "    print(f\"Начало обучения модели: {name}\")\n",
        "    start_time = time.time()\n",
        "\n",
        "    model.fit(X_train_scaled, y_train)\n",
        "\n",
        "    end_time = time.time()\n",
        "    training_time = end_time - start_time\n",
        "\n",
        "    y_pred = model.predict(X_test_scaled)\n",
        "    y_pred_proba = model.predict_proba(X_test_scaled)\n",
        "\n",
        "    accuracy = accuracy_score(y_test, y_pred)\n",
        "    recall = recall_score(y_test, y_pred, average='weighted')\n",
        "    precision = precision_score(y_test, y_pred, average='weighted')\n",
        "    f1 = f1_score(y_test, y_pred, average='weighted')\n",
        "    cm = confusion_matrix(y_test, y_pred)\n",
        "    auc_roc = roc_auc_score(y_test, y_pred_proba, multi_class='ovr', average='weighted')\n",
        "\n",
        "    results[name] = {\n",
        "        'accuracy': accuracy,\n",
        "        'recall': recall,\n",
        "        'precision': precision,\n",
        "        'f1': f1,\n",
        "        'confusion_matrix': cm,\n",
        "        'auc_roc': auc_roc,\n",
        "        'training_time': training_time\n",
        "    }\n",
        "\n",
        "    print(f\"Модель {name} обучена. Время обучения: {training_time:.2f} секунд\")\n",
        "    print()"
      ]
    },
    {
      "cell_type": "markdown",
      "metadata": {
        "id": "RNQdfzcKAoJ1"
      },
      "source": [
        "## **7. Оценка точности и выбор лучшей модели**"
      ]
    },
    {
      "cell_type": "code",
      "execution_count": null,
      "metadata": {
        "colab": {
          "base_uri": "https://localhost:8080/",
          "height": 782
        },
        "id": "ThagAaAX4xcA",
        "outputId": "da8b11cd-ca88-4c5d-8461-b651ae1d8e3c"
      },
      "outputs": [
        {
          "data": {
            "application/vnd.google.colaboratory.intrinsic+json": {
              "summary": "{\n  \"name\": \"df_results_sorted\",\n  \"rows\": 6,\n  \"fields\": [\n    {\n      \"column\": \"accuracy\",\n      \"properties\": {\n        \"dtype\": \"date\",\n        \"min\": 0.8275833333333333,\n        \"max\": 0.97225,\n        \"num_unique_values\": 6,\n        \"samples\": [\n          0.97225,\n          0.952,\n          0.8275833333333333\n        ],\n        \"semantic_type\": \"\",\n        \"description\": \"\"\n      }\n    },\n    {\n      \"column\": \"recall\",\n      \"properties\": {\n        \"dtype\": \"date\",\n        \"min\": 0.8275833333333333,\n        \"max\": 0.97225,\n        \"num_unique_values\": 6,\n        \"samples\": [\n          0.97225,\n          0.952,\n          0.8275833333333333\n        ],\n        \"semantic_type\": \"\",\n        \"description\": \"\"\n      }\n    },\n    {\n      \"column\": \"precision\",\n      \"properties\": {\n        \"dtype\": \"date\",\n        \"min\": 0.8297999031846356,\n        \"max\": 0.9722754121862052,\n        \"num_unique_values\": 6,\n        \"samples\": [\n          0.9722754121862052,\n          0.9519686271318984,\n          0.8377270182610934\n        ],\n        \"semantic_type\": \"\",\n        \"description\": \"\"\n      }\n    },\n    {\n      \"column\": \"f1\",\n      \"properties\": {\n        \"dtype\": \"date\",\n        \"min\": 0.8277382150946575,\n        \"max\": 0.9722372703705697,\n        \"num_unique_values\": 6,\n        \"samples\": [\n          0.9722372703705697,\n          0.951964680088203,\n          0.8277382150946575\n        ],\n        \"semantic_type\": \"\",\n        \"description\": \"\"\n      }\n    },\n    {\n      \"column\": \"confusion_matrix\",\n      \"properties\": {\n        \"dtype\": \"object\",\n        \"semantic_type\": \"\",\n        \"description\": \"\"\n      }\n    },\n    {\n      \"column\": \"auc_roc\",\n      \"properties\": {\n        \"dtype\": \"date\",\n        \"min\": 0.9054698245244689,\n        \"max\": 0.9992617143366535,\n        \"num_unique_values\": 6,\n        \"samples\": [\n          0.9992617143366535,\n          0.997873604838208,\n          0.9790830740601032\n        ],\n        \"semantic_type\": \"\",\n        \"description\": \"\"\n      }\n    },\n    {\n      \"column\": \"training_time\",\n      \"properties\": {\n        \"dtype\": \"date\",\n        \"min\": 0.013242006301879883,\n        \"max\": 290.49403524398804,\n        \"num_unique_values\": 6,\n        \"samples\": [\n          290.49403524398804,\n          80.23777341842651,\n          0.20922589302062988\n        ],\n        \"semantic_type\": \"\",\n        \"description\": \"\"\n      }\n    }\n  ]\n}",
              "type": "dataframe",
              "variable_name": "df_results_sorted"
            },
            "text/html": [
              "\n",
              "  <div id=\"df-6ef1b254-9932-43b8-8450-6016f9c15225\" class=\"colab-df-container\">\n",
              "    <div>\n",
              "<style scoped>\n",
              "    .dataframe tbody tr th:only-of-type {\n",
              "        vertical-align: middle;\n",
              "    }\n",
              "\n",
              "    .dataframe tbody tr th {\n",
              "        vertical-align: top;\n",
              "    }\n",
              "\n",
              "    .dataframe thead th {\n",
              "        text-align: right;\n",
              "    }\n",
              "</style>\n",
              "<table border=\"1\" class=\"dataframe\">\n",
              "  <thead>\n",
              "    <tr style=\"text-align: right;\">\n",
              "      <th></th>\n",
              "      <th>accuracy</th>\n",
              "      <th>recall</th>\n",
              "      <th>precision</th>\n",
              "      <th>f1</th>\n",
              "      <th>confusion_matrix</th>\n",
              "      <th>auc_roc</th>\n",
              "      <th>training_time</th>\n",
              "    </tr>\n",
              "  </thead>\n",
              "  <tbody>\n",
              "    <tr>\n",
              "      <th>SVM</th>\n",
              "      <td>0.97225</td>\n",
              "      <td>0.97225</td>\n",
              "      <td>0.972275</td>\n",
              "      <td>0.972237</td>\n",
              "      <td>[[1183, 2, 1, 0, 1, 0, 9, 1, 3, 0], [0, 1295, ...</td>\n",
              "      <td>0.999262</td>\n",
              "      <td>290.494035</td>\n",
              "    </tr>\n",
              "    <tr>\n",
              "      <th>Random Forest</th>\n",
              "      <td>0.952</td>\n",
              "      <td>0.952</td>\n",
              "      <td>0.951969</td>\n",
              "      <td>0.951965</td>\n",
              "      <td>[[1177, 6, 1, 1, 2, 2, 6, 2, 2, 1], [0, 1282, ...</td>\n",
              "      <td>0.997874</td>\n",
              "      <td>80.237773</td>\n",
              "    </tr>\n",
              "    <tr>\n",
              "      <th>KNN</th>\n",
              "      <td>0.946417</td>\n",
              "      <td>0.946417</td>\n",
              "      <td>0.947413</td>\n",
              "      <td>0.946434</td>\n",
              "      <td>[[1178, 6, 1, 1, 1, 0, 10, 0, 1, 2], [2, 1290,...</td>\n",
              "      <td>0.990394</td>\n",
              "      <td>0.013242</td>\n",
              "    </tr>\n",
              "    <tr>\n",
              "      <th>Logistic Regression</th>\n",
              "      <td>0.896417</td>\n",
              "      <td>0.896417</td>\n",
              "      <td>0.896232</td>\n",
              "      <td>0.895839</td>\n",
              "      <td>[[1153, 11, 1, 1, 2, 2, 19, 6, 2, 3], [0, 1285...</td>\n",
              "      <td>0.989222</td>\n",
              "      <td>6.447915</td>\n",
              "    </tr>\n",
              "    <tr>\n",
              "      <th>Decision Tree</th>\n",
              "      <td>0.82975</td>\n",
              "      <td>0.82975</td>\n",
              "      <td>0.8298</td>\n",
              "      <td>0.82973</td>\n",
              "      <td>[[1051, 5, 14, 19, 24, 16, 23, 7, 20, 21], [8,...</td>\n",
              "      <td>0.90547</td>\n",
              "      <td>23.590496</td>\n",
              "    </tr>\n",
              "    <tr>\n",
              "      <th>Naive Bayes</th>\n",
              "      <td>0.827583</td>\n",
              "      <td>0.827583</td>\n",
              "      <td>0.837727</td>\n",
              "      <td>0.827738</td>\n",
              "      <td>[[1057, 36, 14, 9, 4, 29, 30, 1, 14, 6], [1, 1...</td>\n",
              "      <td>0.979083</td>\n",
              "      <td>0.209226</td>\n",
              "    </tr>\n",
              "  </tbody>\n",
              "</table>\n",
              "</div>\n",
              "    <div class=\"colab-df-buttons\">\n",
              "\n",
              "  <div class=\"colab-df-container\">\n",
              "    <button class=\"colab-df-convert\" onclick=\"convertToInteractive('df-6ef1b254-9932-43b8-8450-6016f9c15225')\"\n",
              "            title=\"Convert this dataframe to an interactive table.\"\n",
              "            style=\"display:none;\">\n",
              "\n",
              "  <svg xmlns=\"http://www.w3.org/2000/svg\" height=\"24px\" viewBox=\"0 -960 960 960\">\n",
              "    <path d=\"M120-120v-720h720v720H120Zm60-500h600v-160H180v160Zm220 220h160v-160H400v160Zm0 220h160v-160H400v160ZM180-400h160v-160H180v160Zm440 0h160v-160H620v160ZM180-180h160v-160H180v160Zm440 0h160v-160H620v160Z\"/>\n",
              "  </svg>\n",
              "    </button>\n",
              "\n",
              "  <style>\n",
              "    .colab-df-container {\n",
              "      display:flex;\n",
              "      gap: 12px;\n",
              "    }\n",
              "\n",
              "    .colab-df-convert {\n",
              "      background-color: #E8F0FE;\n",
              "      border: none;\n",
              "      border-radius: 50%;\n",
              "      cursor: pointer;\n",
              "      display: none;\n",
              "      fill: #1967D2;\n",
              "      height: 32px;\n",
              "      padding: 0 0 0 0;\n",
              "      width: 32px;\n",
              "    }\n",
              "\n",
              "    .colab-df-convert:hover {\n",
              "      background-color: #E2EBFA;\n",
              "      box-shadow: 0px 1px 2px rgba(60, 64, 67, 0.3), 0px 1px 3px 1px rgba(60, 64, 67, 0.15);\n",
              "      fill: #174EA6;\n",
              "    }\n",
              "\n",
              "    .colab-df-buttons div {\n",
              "      margin-bottom: 4px;\n",
              "    }\n",
              "\n",
              "    [theme=dark] .colab-df-convert {\n",
              "      background-color: #3B4455;\n",
              "      fill: #D2E3FC;\n",
              "    }\n",
              "\n",
              "    [theme=dark] .colab-df-convert:hover {\n",
              "      background-color: #434B5C;\n",
              "      box-shadow: 0px 1px 3px 1px rgba(0, 0, 0, 0.15);\n",
              "      filter: drop-shadow(0px 1px 2px rgba(0, 0, 0, 0.3));\n",
              "      fill: #FFFFFF;\n",
              "    }\n",
              "  </style>\n",
              "\n",
              "    <script>\n",
              "      const buttonEl =\n",
              "        document.querySelector('#df-6ef1b254-9932-43b8-8450-6016f9c15225 button.colab-df-convert');\n",
              "      buttonEl.style.display =\n",
              "        google.colab.kernel.accessAllowed ? 'block' : 'none';\n",
              "\n",
              "      async function convertToInteractive(key) {\n",
              "        const element = document.querySelector('#df-6ef1b254-9932-43b8-8450-6016f9c15225');\n",
              "        const dataTable =\n",
              "          await google.colab.kernel.invokeFunction('convertToInteractive',\n",
              "                                                    [key], {});\n",
              "        if (!dataTable) return;\n",
              "\n",
              "        const docLinkHtml = 'Like what you see? Visit the ' +\n",
              "          '<a target=\"_blank\" href=https://colab.research.google.com/notebooks/data_table.ipynb>data table notebook</a>'\n",
              "          + ' to learn more about interactive tables.';\n",
              "        element.innerHTML = '';\n",
              "        dataTable['output_type'] = 'display_data';\n",
              "        await google.colab.output.renderOutput(dataTable, element);\n",
              "        const docLink = document.createElement('div');\n",
              "        docLink.innerHTML = docLinkHtml;\n",
              "        element.appendChild(docLink);\n",
              "      }\n",
              "    </script>\n",
              "  </div>\n",
              "\n",
              "\n",
              "<div id=\"df-4f1352cb-f975-43ed-9c7b-62e1207b5d62\">\n",
              "  <button class=\"colab-df-quickchart\" onclick=\"quickchart('df-4f1352cb-f975-43ed-9c7b-62e1207b5d62')\"\n",
              "            title=\"Suggest charts\"\n",
              "            style=\"display:none;\">\n",
              "\n",
              "<svg xmlns=\"http://www.w3.org/2000/svg\" height=\"24px\"viewBox=\"0 0 24 24\"\n",
              "     width=\"24px\">\n",
              "    <g>\n",
              "        <path d=\"M19 3H5c-1.1 0-2 .9-2 2v14c0 1.1.9 2 2 2h14c1.1 0 2-.9 2-2V5c0-1.1-.9-2-2-2zM9 17H7v-7h2v7zm4 0h-2V7h2v10zm4 0h-2v-4h2v4z\"/>\n",
              "    </g>\n",
              "</svg>\n",
              "  </button>\n",
              "\n",
              "<style>\n",
              "  .colab-df-quickchart {\n",
              "      --bg-color: #E8F0FE;\n",
              "      --fill-color: #1967D2;\n",
              "      --hover-bg-color: #E2EBFA;\n",
              "      --hover-fill-color: #174EA6;\n",
              "      --disabled-fill-color: #AAA;\n",
              "      --disabled-bg-color: #DDD;\n",
              "  }\n",
              "\n",
              "  [theme=dark] .colab-df-quickchart {\n",
              "      --bg-color: #3B4455;\n",
              "      --fill-color: #D2E3FC;\n",
              "      --hover-bg-color: #434B5C;\n",
              "      --hover-fill-color: #FFFFFF;\n",
              "      --disabled-bg-color: #3B4455;\n",
              "      --disabled-fill-color: #666;\n",
              "  }\n",
              "\n",
              "  .colab-df-quickchart {\n",
              "    background-color: var(--bg-color);\n",
              "    border: none;\n",
              "    border-radius: 50%;\n",
              "    cursor: pointer;\n",
              "    display: none;\n",
              "    fill: var(--fill-color);\n",
              "    height: 32px;\n",
              "    padding: 0;\n",
              "    width: 32px;\n",
              "  }\n",
              "\n",
              "  .colab-df-quickchart:hover {\n",
              "    background-color: var(--hover-bg-color);\n",
              "    box-shadow: 0 1px 2px rgba(60, 64, 67, 0.3), 0 1px 3px 1px rgba(60, 64, 67, 0.15);\n",
              "    fill: var(--button-hover-fill-color);\n",
              "  }\n",
              "\n",
              "  .colab-df-quickchart-complete:disabled,\n",
              "  .colab-df-quickchart-complete:disabled:hover {\n",
              "    background-color: var(--disabled-bg-color);\n",
              "    fill: var(--disabled-fill-color);\n",
              "    box-shadow: none;\n",
              "  }\n",
              "\n",
              "  .colab-df-spinner {\n",
              "    border: 2px solid var(--fill-color);\n",
              "    border-color: transparent;\n",
              "    border-bottom-color: var(--fill-color);\n",
              "    animation:\n",
              "      spin 1s steps(1) infinite;\n",
              "  }\n",
              "\n",
              "  @keyframes spin {\n",
              "    0% {\n",
              "      border-color: transparent;\n",
              "      border-bottom-color: var(--fill-color);\n",
              "      border-left-color: var(--fill-color);\n",
              "    }\n",
              "    20% {\n",
              "      border-color: transparent;\n",
              "      border-left-color: var(--fill-color);\n",
              "      border-top-color: var(--fill-color);\n",
              "    }\n",
              "    30% {\n",
              "      border-color: transparent;\n",
              "      border-left-color: var(--fill-color);\n",
              "      border-top-color: var(--fill-color);\n",
              "      border-right-color: var(--fill-color);\n",
              "    }\n",
              "    40% {\n",
              "      border-color: transparent;\n",
              "      border-right-color: var(--fill-color);\n",
              "      border-top-color: var(--fill-color);\n",
              "    }\n",
              "    60% {\n",
              "      border-color: transparent;\n",
              "      border-right-color: var(--fill-color);\n",
              "    }\n",
              "    80% {\n",
              "      border-color: transparent;\n",
              "      border-right-color: var(--fill-color);\n",
              "      border-bottom-color: var(--fill-color);\n",
              "    }\n",
              "    90% {\n",
              "      border-color: transparent;\n",
              "      border-bottom-color: var(--fill-color);\n",
              "    }\n",
              "  }\n",
              "</style>\n",
              "\n",
              "  <script>\n",
              "    async function quickchart(key) {\n",
              "      const quickchartButtonEl =\n",
              "        document.querySelector('#' + key + ' button');\n",
              "      quickchartButtonEl.disabled = true;  // To prevent multiple clicks.\n",
              "      quickchartButtonEl.classList.add('colab-df-spinner');\n",
              "      try {\n",
              "        const charts = await google.colab.kernel.invokeFunction(\n",
              "            'suggestCharts', [key], {});\n",
              "      } catch (error) {\n",
              "        console.error('Error during call to suggestCharts:', error);\n",
              "      }\n",
              "      quickchartButtonEl.classList.remove('colab-df-spinner');\n",
              "      quickchartButtonEl.classList.add('colab-df-quickchart-complete');\n",
              "    }\n",
              "    (() => {\n",
              "      let quickchartButtonEl =\n",
              "        document.querySelector('#df-4f1352cb-f975-43ed-9c7b-62e1207b5d62 button');\n",
              "      quickchartButtonEl.style.display =\n",
              "        google.colab.kernel.accessAllowed ? 'block' : 'none';\n",
              "    })();\n",
              "  </script>\n",
              "</div>\n",
              "    </div>\n",
              "  </div>\n"
            ],
            "text/plain": [
              "                     accuracy    recall precision        f1  \\\n",
              "SVM                   0.97225   0.97225  0.972275  0.972237   \n",
              "Random Forest           0.952     0.952  0.951969  0.951965   \n",
              "KNN                  0.946417  0.946417  0.947413  0.946434   \n",
              "Logistic Regression  0.896417  0.896417  0.896232  0.895839   \n",
              "Decision Tree         0.82975   0.82975    0.8298   0.82973   \n",
              "Naive Bayes          0.827583  0.827583  0.837727  0.827738   \n",
              "\n",
              "                                                      confusion_matrix  \\\n",
              "SVM                  [[1183, 2, 1, 0, 1, 0, 9, 1, 3, 0], [0, 1295, ...   \n",
              "Random Forest        [[1177, 6, 1, 1, 2, 2, 6, 2, 2, 1], [0, 1282, ...   \n",
              "KNN                  [[1178, 6, 1, 1, 1, 0, 10, 0, 1, 2], [2, 1290,...   \n",
              "Logistic Regression  [[1153, 11, 1, 1, 2, 2, 19, 6, 2, 3], [0, 1285...   \n",
              "Decision Tree        [[1051, 5, 14, 19, 24, 16, 23, 7, 20, 21], [8,...   \n",
              "Naive Bayes          [[1057, 36, 14, 9, 4, 29, 30, 1, 14, 6], [1, 1...   \n",
              "\n",
              "                      auc_roc training_time  \n",
              "SVM                  0.999262    290.494035  \n",
              "Random Forest        0.997874     80.237773  \n",
              "KNN                  0.990394      0.013242  \n",
              "Logistic Regression  0.989222      6.447915  \n",
              "Decision Tree         0.90547     23.590496  \n",
              "Naive Bayes          0.979083      0.209226  "
            ]
          },
          "metadata": {},
          "output_type": "display_data"
        },
        {
          "data": {
            "image/png": "[encoded data removed]",
            "text/plain": [
              "<Figure size 2000x1000 with 12 Axes>"
            ]
          },
          "metadata": {},
          "output_type": "display_data"
        }
      ],
      "source": [
        "import pandas as pd\n",
        "import matplotlib.pyplot as plt\n",
        "import seaborn as sns\n",
        "from sklearn.preprocessing import normalize\n",
        "\n",
        "# Создание датафрейма с результатами\n",
        "df_results = pd.DataFrame(results).T\n",
        "\n",
        "# Сортировка датафрейма по F1-мере в убывающем порядке\n",
        "df_results_sorted = df_results.sort_values('f1', ascending=False)\n",
        "\n",
        "# Вывод отсортированного датафрейма\n",
        "display(df_results_sorted)\n",
        "\n",
        "# Создание сгруппированного изображения нормализованных матриц ошибок\n",
        "fig, axes = plt.subplots(2, 4, figsize=(20, 10))\n",
        "axes = axes.ravel()  # Преобразование 2D массива в 1D\n",
        "\n",
        "for i, (name, metrics) in enumerate(results.items()):\n",
        "    cm = metrics['confusion_matrix']\n",
        "    # Нормализация матрицы ошибок по строкам\n",
        "    cm_normalized = normalize(cm, axis=1, norm='l1')\n",
        "\n",
        "    ax = axes[i]\n",
        "    sns.heatmap(cm_normalized, annot=True, fmt='.2f', cmap='Blues', ax=ax)\n",
        "    ax.set_title(f'Матрица ошибок для {name}')\n",
        "    ax.set_xlabel('Предсказанные метки')\n",
        "    ax.set_ylabel('Истинные метки')\n",
        "\n",
        "# Отключение лишних подграфиков\n",
        "for j in range(len(results), len(axes)):\n",
        "    fig.delaxes(axes[j])\n",
        "\n",
        "plt.tight_layout()\n",
        "plt.show()\n",
        "\n",
        "\n",
        "# Выбор лучшей модели по F1-мере\n",
        "best_model_name = max(results, key=lambda x: results[x]['f1'])\n",
        "best_model = models[[i for i, (name, _) in enumerate(models) if name == best_model_name][0]][1]"
      ]
    },
    {
      "cell_type": "markdown",
      "metadata": {
        "id": "xvP8GahqzQdE"
      },
      "source": []
    },
    {
      "cell_type": "markdown",
      "metadata": {
        "id": "IqK0M1KFAoJ1"
      },
      "source": [
        "## **8. Сохранение лучшей модели**"
      ]
    },
    {
      "cell_type": "code",
      "execution_count": null,
      "metadata": {
        "colab": {
          "base_uri": "https://localhost:8080/"
        },
        "id": "RY0vzITfzQld",
        "outputId": "d0132644-1569-4d94-f822-c12189c257ac"
      },
      "outputs": [
        {
          "name": "stdout",
          "output_type": "stream",
          "text": [
            "Лучшая модель: SVM\n"
          ]
        }
      ],
      "source": [
        "# Сохранение лучшей модели\n",
        "with open('best_classification_model.pkl', 'wb') as f:\n",
        "    pickle.dump(best_model, f)\n",
        "\n",
        "# Сохранение scaler\n",
        "with open('scaler.pkl', 'wb') as f:\n",
        "    pickle.dump(scaler, f)\n",
        "\n",
        "print(f\"Лучшая модель: {best_model_name}\")"
      ]
    },
    {
      "cell_type": "markdown",
      "metadata": {
        "id": "WorzjwM1AoJ1"
      },
      "source": [
        "## **9. Загрузка и использование лучшей модели**"
      ]
    },
    {
      "cell_type": "code",
      "execution_count": null,
      "metadata": {
        "colab": {
          "base_uri": "https://localhost:8080/"
        },
        "id": "ywGjNvsDzQ4R",
        "outputId": "908cc644-4eae-4c12-9112-12e10a3cb694"
      },
      "outputs": [
        {
          "name": "stdout",
          "output_type": "stream",
          "text": [
            "Предсказание для примера: [0]\n"
          ]
        }
      ],
      "source": [
        "# Пример загрузки и использования модели\n",
        "with open('best_classification_model.pkl', 'rb') as f:\n",
        "    loaded_model = pickle.load(f)\n",
        "\n",
        "# Пример использования загруженной модели\n",
        "sample_image = test_images[0]  # Пример изображения из тестового набора\n",
        "sample_features = extract_features([sample_image])\n",
        "sample_features_scaled = scaler.transform(sample_features)\n",
        "\n",
        "prediction = loaded_model.predict(sample_features_scaled)\n",
        "print(f\"Предсказание для примера: {prediction}\")"
      ]
    },
    {
      "cell_type": "markdown",
      "metadata": {
        "id": "uiqkVTPvAoJ1"
      },
      "source": [
        "## **10. Реализация веб-приложения с использованием Gradio, для работы с моделью**"
      ]
    },
    {
      "cell_type": "code",
      "execution_count": null,
      "metadata": {
        "colab": {
          "base_uri": "https://localhost:8080/"
        },
        "id": "I-L287cVEHoB",
        "outputId": "d3e30737-5fb3-44fc-caab-2c9c10f10e68"
      },
      "outputs": [
        {
          "name": "stdout",
          "output_type": "stream",
          "text": [
            "Collecting gradio\n",
            "  Downloading gradio-5.9.1-py3-none-any.whl.metadata (16 kB)\n",
            "Collecting aiofiles<24.0,>=22.0 (from gradio)\n",
            "  Downloading aiofiles-23.2.1-py3-none-any.whl.metadata (9.7 kB)\n",
            "Requirement already satisfied: anyio<5.0,>=3.0 in /usr/local/lib/python3.10/dist-packages (from gradio) (3.7.1)\n",
            "Collecting fastapi<1.0,>=0.115.2 (from gradio)\n",
            "  Downloading fastapi-0.115.6-py3-none-any.whl.metadata (27 kB)\n",
            "Collecting ffmpy (from gradio)\n",
            "  Downloading ffmpy-0.4.0-py3-none-any.whl.metadata (2.9 kB)\n",
            "Collecting gradio-client==1.5.2 (from gradio)\n",
            "  Downloading gradio_client-1.5.2-py3-none-any.whl.metadata (7.1 kB)\n",
            "Requirement already satisfied: httpx>=0.24.1 in /usr/local/lib/python3.10/dist-packages (from gradio) (0.28.1)\n",
            "Requirement already satisfied: huggingface-hub>=0.25.1 in /usr/local/lib/python3.10/dist-packages (from gradio) (0.27.0)\n",
            "Requirement already satisfied: jinja2<4.0 in /usr/local/lib/python3.10/dist-packages (from gradio) (3.1.4)\n",
            "Collecting markupsafe~=2.0 (from gradio)\n",
            "  Downloading MarkupSafe-2.1.5-cp310-cp310-manylinux_2_17_x86_64.manylinux2014_x86_64.whl.metadata (3.0 kB)\n",
            "Requirement already satisfied: numpy<3.0,>=1.0 in /usr/local/lib/python3.10/dist-packages (from gradio) (1.26.4)\n",
            "Requirement already satisfied: orjson~=3.0 in /usr/local/lib/python3.10/dist-packages (from gradio) (3.10.12)\n",
            "Requirement already satisfied: packaging in /usr/local/lib/python3.10/dist-packages (from gradio) (24.2)\n",
            "Requirement already satisfied: pandas<3.0,>=1.0 in /usr/local/lib/python3.10/dist-packages (from gradio) (2.2.2)\n",
            "Requirement already satisfied: pillow<12.0,>=8.0 in /usr/local/lib/python3.10/dist-packages (from gradio) (11.0.0)\n",
            "Requirement already satisfied: pydantic>=2.0 in /usr/local/lib/python3.10/dist-packages (from gradio) (2.10.3)\n",
            "Collecting pydub (from gradio)\n",
            "  Downloading pydub-0.25.1-py2.py3-none-any.whl.metadata (1.4 kB)\n",
            "Collecting python-multipart>=0.0.18 (from gradio)\n",
            "  Downloading python_multipart-0.0.20-py3-none-any.whl.metadata (1.8 kB)\n",
            "Requirement already satisfied: pyyaml<7.0,>=5.0 in /usr/local/lib/python3.10/dist-packages (from gradio) (6.0.2)\n",
            "Collecting ruff>=0.2.2 (from gradio)\n",
            "  Downloading ruff-0.8.3-py3-none-manylinux_2_17_x86_64.manylinux2014_x86_64.whl.metadata (25 kB)\n",
            "Collecting safehttpx<0.2.0,>=0.1.6 (from gradio)\n",
            "  Downloading safehttpx-0.1.6-py3-none-any.whl.metadata (4.2 kB)\n",
            "Collecting semantic-version~=2.0 (from gradio)\n",
            "  Downloading semantic_version-2.10.0-py2.py3-none-any.whl.metadata (9.7 kB)\n",
            "Collecting starlette<1.0,>=0.40.0 (from gradio)\n",
            "  Downloading starlette-0.42.0-py3-none-any.whl.metadata (6.0 kB)\n",
            "Collecting tomlkit<0.14.0,>=0.12.0 (from gradio)\n",
            "  Downloading tomlkit-0.13.2-py3-none-any.whl.metadata (2.7 kB)\n",
            "Requirement already satisfied: typer<1.0,>=0.12 in /usr/local/lib/python3.10/dist-packages (from gradio) (0.15.1)\n",
            "Requirement already satisfied: typing-extensions~=4.0 in /usr/local/lib/python3.10/dist-packages (from gradio) (4.12.2)\n",
            "Collecting uvicorn>=0.14.0 (from gradio)\n",
            "  Downloading uvicorn-0.34.0-py3-none-any.whl.metadata (6.5 kB)\n",
            "Requirement already satisfied: fsspec in /usr/local/lib/python3.10/dist-packages (from gradio-client==1.5.2->gradio) (2024.10.0)\n",
            "Requirement already satisfied: websockets<15.0,>=10.0 in /usr/local/lib/python3.10/dist-packages (from gradio-client==1.5.2->gradio) (14.1)\n",
            "Requirement already satisfied: idna>=2.8 in /usr/local/lib/python3.10/dist-packages (from anyio<5.0,>=3.0->gradio) (3.10)\n",
            "Requirement already satisfied: sniffio>=1.1 in /usr/local/lib/python3.10/dist-packages (from anyio<5.0,>=3.0->gradio) (1.3.1)\n",
            "Requirement already satisfied: exceptiongroup in /usr/local/lib/python3.10/dist-packages (from anyio<5.0,>=3.0->gradio) (1.2.2)\n",
            "Collecting starlette<1.0,>=0.40.0 (from gradio)\n",
            "  Downloading starlette-0.41.3-py3-none-any.whl.metadata (6.0 kB)\n",
            "Requirement already satisfied: certifi in /usr/local/lib/python3.10/dist-packages (from httpx>=0.24.1->gradio) (2024.12.14)\n",
            "Requirement already satisfied: httpcore==1.* in /usr/local/lib/python3.10/dist-packages (from httpx>=0.24.1->gradio) (1.0.7)\n",
            "Requirement already satisfied: h11<0.15,>=0.13 in /usr/local/lib/python3.10/dist-packages (from httpcore==1.*->httpx>=0.24.1->gradio) (0.14.0)\n",
            "Requirement already satisfied: filelock in /usr/local/lib/python3.10/dist-packages (from huggingface-hub>=0.25.1->gradio) (3.16.1)\n",
            "Requirement already satisfied: requests in /usr/local/lib/python3.10/dist-packages (from huggingface-hub>=0.25.1->gradio) (2.32.3)\n",
            "Requirement already satisfied: tqdm>=4.42.1 in /usr/local/lib/python3.10/dist-packages (from huggingface-hub>=0.25.1->gradio) (4.67.1)\n",
            "Requirement already satisfied: python-dateutil>=2.8.2 in /usr/local/lib/python3.10/dist-packages (from pandas<3.0,>=1.0->gradio) (2.8.2)\n",
            "Requirement already satisfied: pytz>=2020.1 in /usr/local/lib/python3.10/dist-packages (from pandas<3.0,>=1.0->gradio) (2024.2)\n",
            "Requirement already satisfied: tzdata>=2022.7 in /usr/local/lib/python3.10/dist-packages (from pandas<3.0,>=1.0->gradio) (2024.2)\n",
            "Requirement already satisfied: annotated-types>=0.6.0 in /usr/local/lib/python3.10/dist-packages (from pydantic>=2.0->gradio) (0.7.0)\n",
            "Requirement already satisfied: pydantic-core==2.27.1 in /usr/local/lib/python3.10/dist-packages (from pydantic>=2.0->gradio) (2.27.1)\n",
            "Requirement already satisfied: click>=8.0.0 in /usr/local/lib/python3.10/dist-packages (from typer<1.0,>=0.12->gradio) (8.1.7)\n",
            "Requirement already satisfied: shellingham>=1.3.0 in /usr/local/lib/python3.10/dist-packages (from typer<1.0,>=0.12->gradio) (1.5.4)\n",
            "Requirement already satisfied: rich>=10.11.0 in /usr/local/lib/python3.10/dist-packages (from typer<1.0,>=0.12->gradio) (13.9.4)\n",
            "Requirement already satisfied: six>=1.5 in /usr/local/lib/python3.10/dist-packages (from python-dateutil>=2.8.2->pandas<3.0,>=1.0->gradio) (1.17.0)\n",
            "Requirement already satisfied: markdown-it-py>=2.2.0 in /usr/local/lib/python3.10/dist-packages (from rich>=10.11.0->typer<1.0,>=0.12->gradio) (3.0.0)\n",
            "Requirement already satisfied: pygments<3.0.0,>=2.13.0 in /usr/local/lib/python3.10/dist-packages (from rich>=10.11.0->typer<1.0,>=0.12->gradio) (2.18.0)\n",
            "Requirement already satisfied: charset-normalizer<4,>=2 in /usr/local/lib/python3.10/dist-packages (from requests->huggingface-hub>=0.25.1->gradio) (3.4.0)\n",
            "Requirement already satisfied: urllib3<3,>=1.21.1 in /usr/local/lib/python3.10/dist-packages (from requests->huggingface-hub>=0.25.1->gradio) (2.2.3)\n",
            "Requirement already satisfied: mdurl~=0.1 in /usr/local/lib/python3.10/dist-packages (from markdown-it-py>=2.2.0->rich>=10.11.0->typer<1.0,>=0.12->gradio) (0.1.2)\n",
            "Downloading gradio-5.9.1-py3-none-any.whl (57.2 MB)\n",
            "\u001b[2K   \u001b[90m━━━━━━━━━━━━━━━━━━━━━━━━━━━━━━━━━━━━━━━━\u001b[0m \u001b[32m57.2/57.2 MB\u001b[0m \u001b[31m10.2 MB/s\u001b[0m eta \u001b[36m0:00:00\u001b[0m\n",
            "\u001b[?25hDownloading gradio_client-1.5.2-py3-none-any.whl (320 kB)\n",
            "\u001b[2K   \u001b[90m━━━━━━━━━━━━━━━━━━━━━━━━━━━━━━━━━━━━━━━━\u001b[0m \u001b[32m320.4/320.4 kB\u001b[0m \u001b[31m20.6 MB/s\u001b[0m eta \u001b[36m0:00:00\u001b[0m\n",
            "\u001b[?25hDownloading aiofiles-23.2.1-py3-none-any.whl (15 kB)\n",
            "Downloading fastapi-0.115.6-py3-none-any.whl (94 kB)\n",
            "\u001b[2K   \u001b[90m━━━━━━━━━━━━━━━━━━━━━━━━━━━━━━━━━━━━━━━━\u001b[0m \u001b[32m94.8/94.8 kB\u001b[0m \u001b[31m7.2 MB/s\u001b[0m eta \u001b[36m0:00:00\u001b[0m\n",
            "\u001b[?25hDownloading MarkupSafe-2.1.5-cp310-cp310-manylinux_2_17_x86_64.manylinux2014_x86_64.whl (25 kB)\n",
            "Downloading python_multipart-0.0.20-py3-none-any.whl (24 kB)\n",
            "Downloading ruff-0.8.3-py3-none-manylinux_2_17_x86_64.manylinux2014_x86_64.whl (11.2 MB)\n",
            "\u001b[2K   \u001b[90m━━━━━━━━━━━━━━━━━━━━━━━━━━━━━━━━━━━━━━━━\u001b[0m \u001b[32m11.2/11.2 MB\u001b[0m \u001b[31m92.8 MB/s\u001b[0m eta \u001b[36m0:00:00\u001b[0m\n",
            "\u001b[?25hDownloading safehttpx-0.1.6-py3-none-any.whl (8.7 kB)\n",
            "Downloading semantic_version-2.10.0-py2.py3-none-any.whl (15 kB)\n",
            "Downloading starlette-0.41.3-py3-none-any.whl (73 kB)\n",
            "\u001b[2K   \u001b[90m━━━━━━━━━━━━━━━━━━━━━━━━━━━━━━━━━━━━━━━━\u001b[0m \u001b[32m73.2/73.2 kB\u001b[0m \u001b[31m5.4 MB/s\u001b[0m eta \u001b[36m0:00:00\u001b[0m\n",
            "\u001b[?25hDownloading tomlkit-0.13.2-py3-none-any.whl (37 kB)\n",
            "Downloading uvicorn-0.34.0-py3-none-any.whl (62 kB)\n",
            "\u001b[2K   \u001b[90m━━━━━━━━━━━━━━━━━━━━━━━━━━━━━━━━━━━━━━━━\u001b[0m \u001b[32m62.3/62.3 kB\u001b[0m \u001b[31m4.5 MB/s\u001b[0m eta \u001b[36m0:00:00\u001b[0m\n",
            "\u001b[?25hDownloading ffmpy-0.4.0-py3-none-any.whl (5.8 kB)\n",
            "Downloading pydub-0.25.1-py2.py3-none-any.whl (32 kB)\n",
            "Installing collected packages: pydub, uvicorn, tomlkit, semantic-version, ruff, python-multipart, markupsafe, ffmpy, aiofiles, starlette, safehttpx, gradio-client, fastapi, gradio\n",
            "  Attempting uninstall: markupsafe\n",
            "    Found existing installation: MarkupSafe 3.0.2\n",
            "    Uninstalling MarkupSafe-3.0.2:\n",
            "      Successfully uninstalled MarkupSafe-3.0.2\n",
            "Successfully installed aiofiles-23.2.1 fastapi-0.115.6 ffmpy-0.4.0 gradio-5.9.1 gradio-client-1.5.2 markupsafe-2.1.5 pydub-0.25.1 python-multipart-0.0.20 ruff-0.8.3 safehttpx-0.1.6 semantic-version-2.10.0 starlette-0.41.3 tomlkit-0.13.2 uvicorn-0.34.0\n"
          ]
        }
      ],
      "source": [
        "!pip install gradio"
      ]
    },
    {
      "cell_type": "code",
      "execution_count": null,
      "metadata": {
        "colab": {
          "base_uri": "https://localhost:8080/",
          "height": 648
        },
        "id": "aUO3dOifCkSW",
        "outputId": "529543c9-fad8-4871-8f38-bcd7f411644a"
      },
      "outputs": [
        {
          "name": "stdout",
          "output_type": "stream",
          "text": [
            "Running Gradio in a Colab notebook requires sharing enabled. Automatically setting `share=True` (you can turn this off by setting `share=False` in `launch()` explicitly).\n",
            "\n",
            "Colab notebook detected. To show errors in colab notebook, set debug=True in launch()\n",
            "* Running on public URL: https://7b37079d52b287a1f0.gradio.live\n",
            "\n",
            "This share link expires in 72 hours. For free permanent hosting and GPU upgrades, run `gradio deploy` from the terminal in the working directory to deploy to Hugging Face Spaces (https://huggingface.co/spaces)\n"
          ]
        },
        {
          "data": {
            "text/html": [
              "<div><iframe src=\"https://7b37079d52b287a1f0.gradio.live\" width=\"100%\" height=\"500\" allow=\"autoplay; camera; microphone; clipboard-read; clipboard-write;\" frameborder=\"0\" allowfullscreen></iframe></div>"
            ],
            "text/plain": [
              "<IPython.core.display.HTML object>"
            ]
          },
          "metadata": {},
          "output_type": "display_data"
        },
        {
          "data": {
            "text/plain": []
          },
          "execution_count": 26,
          "metadata": {},
          "output_type": "execute_result"
        }
      ],
      "source": [
        "import gradio as gr\n",
        "import pickle\n",
        "import numpy as np\n",
        "from sklearn.preprocessing import StandardScaler\n",
        "from skimage.feature import hog\n",
        "from skimage.transform import resize\n",
        "from PIL import Image\n",
        "import tensorflow as tf\n",
        "\n",
        "# Загрузка модели и скалера\n",
        "with open('best_classification_model.pkl', 'rb') as f:\n",
        "    loaded_model = pickle.load(f)\n",
        "\n",
        "with open('scaler.pkl', 'rb') as f:\n",
        "    scaler = pickle.load(f)\n",
        "\n",
        "# Функция для извлечения признаков из изображения\n",
        "def extract_features(images):\n",
        "    features = []\n",
        "    for img in images:\n",
        "        # Изменение размера изображения до 28x28 (размер MNIST)\n",
        "        img_resized = resize(img, (28, 28), anti_aliasing=True)\n",
        "\n",
        "        # Преобразование изображения в оттенки серого\n",
        "        if len(img_resized.shape) == 3:\n",
        "            img_gray = np.mean(img_resized, axis=2)\n",
        "        else:\n",
        "            img_gray = img_resized\n",
        "\n",
        "        # Вычисление HOG-дескриптора\n",
        "        hog_features = hog(img_gray, orientations=9, pixels_per_cell=(8, 8),\n",
        "                           cells_per_block=(2, 2), visualize=False)\n",
        "\n",
        "        features.append(hog_features)\n",
        "\n",
        "    return np.array(features)\n",
        "\n",
        "# Функция для предсказания\n",
        "def predict(image):\n",
        "    features = extract_features([image])\n",
        "    features_scaled = scaler.transform(features)\n",
        "    prediction = loaded_model.predict(features_scaled)\n",
        "    return f\"Предсказанный класс: {prediction[0]}\"\n",
        "\n",
        "# Загрузка данных MNIST\n",
        "mnist = tf.keras.datasets.mnist\n",
        "(train_images, train_labels), (_, _) = mnist.load_data()\n",
        "\n",
        "# Преобразование изображений MNIST в формат, совместимый с Gradio\n",
        "mnist_examples = []\n",
        "for i in range(3):  # Выбираем 3 примера\n",
        "    img = train_images[i]\n",
        "    mnist_examples.append([img])\n",
        "\n",
        "# Создание интерфейса Gradio\n",
        "iface = gr.Interface(\n",
        "    fn=predict,\n",
        "    inputs=gr.Image(type=\"numpy\"),\n",
        "    outputs=\"text\",\n",
        "    title=\"Классификация изображений MNIST\",\n",
        "    description=\"Загрузите изображение MNIST для классификации.\",\n",
        "    examples=mnist_examples\n",
        ")\n",
        "\n",
        "# Запуск интерфейса\n",
        "iface.launch()"
      ]
    },
    {
      "cell_type": "markdown",
      "source": [
        "## **11. Реализация web-приложения, с использованием библиотеки Streamlit**"
      ],
      "metadata": {
        "id": "llCNmjk54rCz"
      }
    },
    {
      "cell_type": "markdown",
      "source": [
        "**(Происходит по аналогии с предыдущим разделом, ниже приведен пример кода основных элементов кода, для того чтобы показать как работать конкретно с изображениями)**"
      ],
      "metadata": {
        "id": "brQ1qZeH4rC0"
      }
    },
    {
      "cell_type": "markdown",
      "source": [
        "**Разработка веб-приложения для классификации изображений с использованием обученной модели**\n",
        "\n",
        "Процесс разработки веб-приложения, которое будет являться интерфейсом для обученной модели классификации изображений, включает в себя несколько этапов:\n",
        "\n",
        "1. **Разработка и развёртывание API на платформе Render.com**\n",
        "2. **Создание графического интерфейса с использованием Streamlit**\n",
        "3. **Развёртывание приложения Streamlit на платформе Streamlit**\n",
        "\n",
        "Рассмотрим каждый из этих этапов, а также прокомментируем предоставленный код модулей `app.py` и `main.py`."
      ],
      "metadata": {
        "id": "j3WDnBB17nKW"
      }
    },
    {
      "cell_type": "markdown",
      "source": [
        "Все этапы проводятся в десткопной среде Pycharm/VS Code, затем готовый проект пушится на GitHub"
      ],
      "metadata": {
        "id": "dhENXD7N8UB4"
      }
    },
    {
      "cell_type": "markdown",
      "source": [
        "- Ссылка на репозиторий с приложением для классификации: https://github.com/Alexandre77777/mnist_classification.git"
      ],
      "metadata": {
        "id": "vMR0afh-8UB5"
      }
    },
    {
      "cell_type": "markdown",
      "source": [
        "### **1. Разработка и развёртывание API на платформе Render.com**\n"
      ],
      "metadata": {
        "id": "AyesYnyF7yBC"
      }
    },
    {
      "cell_type": "markdown",
      "source": [
        "\n",
        "**Файл `main.py`**\n",
        "\n",
        "```python\n",
        "from fastapi import FastAPI, File, UploadFile, HTTPException\n",
        "from fastapi.responses import JSONResponse\n",
        "import numpy as np\n",
        "from PIL import Image\n",
        "import pickle\n",
        "from skimage.feature import hog\n",
        "from skimage.transform import resize\n",
        "from sklearn.preprocessing import StandardScaler\n",
        "from io import BytesIO\n",
        "\n",
        "app = FastAPI()\n",
        "\n",
        "# Загрузка модели и scaler\n",
        "with open('best_classification_model.pkl', 'rb') as f:\n",
        "    model = pickle.load(f)\n",
        "\n",
        "with open('scaler.pkl', 'rb') as f:\n",
        "    scaler = pickle.load(f)\n",
        "```\n",
        "\n",
        "**Объяснение:**\n",
        "\n",
        "- **Импорт необходимых модулей:**\n",
        "  - `FastAPI` для создания веб-приложения API.\n",
        "  - `File`, `UploadFile`, `HTTPException` из `fastapi` для работы с загрузкой файлов и обработкой исключений.\n",
        "  - `JSONResponse` для формирования JSON-ответов.\n",
        "  - `numpy` для работы с массивами чисел.\n",
        "  - `PIL.Image` для обработки изображений.\n",
        "  - `pickle` для загрузки сохранённой модели и масштабатора (scaler).\n",
        "  - `hog` и `resize` из `skimage` для извлечения признаков из изображений.\n",
        "  - `StandardScaler` из `sklearn.preprocessing` для масштабирования признаков.\n",
        "  - `BytesIO` из `io` для работы с байтовыми потоками.\n",
        "\n",
        "- **Создание экземпляра приложения:**\n",
        "  - `app = FastAPI()` создаёт экземпляр приложения FastAPI.\n",
        "\n",
        "- **Загрузка модели и масштабатора:**\n",
        "  - Сохраняем обученную модель классификации в файле `best_classification_model.pkl`. Этот файл содержит сериализованный объект модели.\n",
        "  - Загружаем модель в переменную `model` с помощью `pickle.load(f)`.\n",
        "  - Аналогично загружаем объект `scaler`, который используется для предварительной обработки признаков, из файла `scaler.pkl`.\n",
        "\n",
        "```python\n",
        "def extract_features(image):\n",
        "    # Изменение размера изображения до 28x28 (размер MNIST)\n",
        "    img_resized = resize(image, (28, 28), anti_aliasing=True)\n",
        "    \n",
        "    # Преобразование изображения в оттенки серого\n",
        "    if len(img_resized.shape) == 3:\n",
        "        img_gray = np.mean(img_resized, axis=2)\n",
        "    else:\n",
        "        img_gray = img_resized\n",
        "    \n",
        "    # Вычисление HOG-дескриптора\n",
        "    hog_features = hog(\n",
        "        img_gray,\n",
        "        orientations=9,\n",
        "        pixels_per_cell=(8, 8),\n",
        "        cells_per_block=(2, 2),\n",
        "        visualize=False\n",
        "    )\n",
        "    \n",
        "    return hog_features\n",
        "```\n",
        "\n",
        "**Объяснение:**\n",
        "\n",
        "- **Функция `extract_features`:**\n",
        "  - **Цель:** Извлечь численные признаки из изображения для подачи в модель.\n",
        "  \n",
        "  - **Изменение размера изображения:**\n",
        "    - `img_resized = resize(image, (28, 28), anti_aliasing=True)` — уменьшает размер изображения до 28x28 пикселей для стандартизации входных данных.\n",
        "  \n",
        "  - **Преобразование в оттенки серого:**\n",
        "    - Проверяем, является ли изображение цветным (три канала). Если да, то преобразуем его в оттенки серого, усредняя значения по каналам.\n",
        "    - Если изображение уже в оттенках серого, оставляем без изменений.\n",
        "  \n",
        "  - **Вычисление HOG-дескриптора:**\n",
        "    - Используем функцию `hog` для получения признаков изображения на основе гистограммы ориентированных градиентов.\n",
        "    - Параметры HOG-дескриптора настроены для оптимального извлечения признаков в данном контексте.\n",
        "  \n",
        "  - **Возвращаемые значения:**\n",
        "    - Функция возвращает одномерный массив признаков `hog_features`, который будет использоваться для классификации.\n",
        "\n",
        "```python\n",
        "@app.post(\"/predict/\")\n",
        "async def predict(file: UploadFile = File(...)):\n",
        "    # Чтение исходных байтов файла\n",
        "    contents = await file.read()\n",
        "        \n",
        "    # Открываем изображение через BytesIO\n",
        "    image = Image.open(BytesIO(contents))\n",
        "    \n",
        "    # Извлечение признаков\n",
        "    features = extract_features(np.array(image))\n",
        "    \n",
        "    # Масштабирование признаков\n",
        "    features_scaled = scaler.transform([features])\n",
        "    \n",
        "    # Предсказание\n",
        "    prediction = model.predict(features_scaled)\n",
        "    \n",
        "    return JSONResponse(content={\"prediction\": int(prediction[0])})\n",
        "```\n",
        "\n",
        "**Объяснение:**\n",
        "\n",
        "- **Создание эндпоинта `/predict/`:**\n",
        "  - Декоратор `@app.post(\"/predict/\")` указывает на обработку POST-запросов по указанному адресу.\n",
        "  - Функция `predict` ожидает получения файла `file` из запроса.\n",
        "\n",
        "- **Обработка загруженного файла:**\n",
        "  - Читаем содержимое загруженного файла с помощью `await file.read()`.\n",
        "  - Открываем изображение, используя `Image.open(BytesIO(contents))`, где `BytesIO` позволяет работать с байтовыми данными как с файловым объектом.\n",
        "\n",
        "- **Извлечение признаков:**\n",
        "  - Преобразуем изображение в массив NumPy для удобства обработки.\n",
        "  - Вызываем функцию `extract_features` для получения признаков изображения.\n",
        "\n",
        "- **Масштабирование признаков:**\n",
        "  - Применяем загруженный ранее `scaler` для масштабирования признаков, что необходимо для корректной работы модели.\n",
        "\n",
        "- **Получение предсказания:**\n",
        "  - Подаём масштабированные признаки в модель и получаем предсказание `prediction`.\n",
        "\n",
        "- **Возвращение результата:**\n",
        "  - Возвращаем JSON-ответ с ключом `\"prediction\"` и значением предсказания, преобразованным в целое число."
      ],
      "metadata": {
        "id": "SKB1B53c7vFk"
      }
    },
    {
      "cell_type": "markdown",
      "source": [
        "\n",
        "**Развёртывание на Render.com:**\n",
        "\n",
        "- **Шаги:**\n",
        "  1. **Репозиторий проекта:**\n",
        "     - Создайте репозиторий на GitHub, содержащий файлы `main.py`, `requirements.txt`, `best_classification_model.pkl` и `scaler.pkl`.\n",
        "\n",
        "  2. **Регистрация на Render.com:**\n",
        "     - Зарегистрируйтесь на [Render.com](https://render.com/).\n",
        "\n",
        "  3. **Создание нового веб-сервиса:**\n",
        "     - В панели управления Render.com создайте новый веб-сервис, связав его с вашим репозиторием.\n",
        "\n",
        "  4. **Настройка сервисного настроения:**\n",
        "     - Укажите команду запуска приложения: `uvicorn main:app --host 0.0.0.0 --port 8000`.\n",
        "     - Убедитесь, что в `requirements.txt` перечислены все необходимые зависимости.\n",
        "\n",
        "  5. **Развёртывание:**\n",
        "     - Запустите процесс развёртывания и дождитесь его завершения.\n",
        "     - После успешного развёртывания ваш API будет доступен по выделенному адресу."
      ],
      "metadata": {
        "id": "pOquTXkA727H"
      }
    },
    {
      "cell_type": "markdown",
      "source": [
        "### **2. Создание графического интерфейса с использованием Streamlit**\n"
      ],
      "metadata": {
        "id": "gn_nywxR75IP"
      }
    },
    {
      "cell_type": "markdown",
      "source": [
        "**Файл `app.py`**\n",
        "\n",
        "```python\n",
        "import streamlit as st\n",
        "import requests\n",
        "from PIL import Image\n",
        "import io\n",
        "\n",
        "\n",
        "# Заголовок приложения\n",
        "st.title(\"Классификация изображений\")\n",
        "\n",
        "# Загрузка изображения\n",
        "uploaded_file = st.file_uploader(\"Загрузите изображение\", type=[\"jpg\", \"jpeg\", \"png\"])\n",
        "\n",
        "if uploaded_file is not None:\n",
        "    # Отображение загруженного изображения\n",
        "    image = Image.open(uploaded_file)\n",
        "    st.image(image, caption=\"Загруженное изображение\", use_column_width=True)\n",
        "\n",
        "    # Кнопка для запуска классификации\n",
        "    if st.button(\"Классифицировать\"):\n",
        "        # Подготовка изображения для отправки\n",
        "        img_byte_arr = io.BytesIO()\n",
        "        image.save(img_byte_arr, format='PNG')\n",
        "        img_byte_arr = img_byte_arr.getvalue()\n",
        "\n",
        "        # Отправка запроса на сервер FastAPI\n",
        "        try:\n",
        "            response = requests.post(\n",
        "                \"https://classification-mf1z.onrender.com/predict/\",\n",
        "                files={\"file\": (\"image.png\", img_byte_arr, \"image/png\")}\n",
        "            )\n",
        "            response.raise_for_status()\n",
        "            \n",
        "            # Получение и отображение результата\n",
        "            prediction = response.json()[\"prediction\"]\n",
        "            st.write(f\"Прогноз классификации: {prediction}\")\n",
        "        \n",
        "        except requests.exceptions.RequestException as e:\n",
        "            st.error(f\"Ошибка при отправке запроса: {e}\")\n",
        "        except ValueError as e:\n",
        "            st.error(f\"Ошибка при обработке ответа: {e}\")\n",
        "```\n",
        "\n",
        "**Объяснение:**\n",
        "\n",
        "- **Импорт необходимых модулей:**\n",
        "  - `streamlit` для создания веб-интерфейса.\n",
        "  - `requests` для отправки HTTP-запросов к API.\n",
        "  - `PIL.Image` и `io` для работы с изображениями.\n",
        "\n",
        "- **Заголовок приложения:**\n",
        "  - `st.title(\"Классификация изображений\")` задаёт заголовок веб-приложения.\n",
        "\n",
        "- **Загрузка изображения:**\n",
        "  - `st.file_uploader` позволяет пользователю загрузить изображение.\n",
        "  - Параметр `type` ограничивает типы загружаемых файлов.\n",
        "\n",
        "- **Проверка наличия загруженного файла:**\n",
        "  - Если файл загружен (`if uploaded_file is not None`), продолжаем обработку.\n",
        "\n",
        "- **Отображение загруженного изображения:**\n",
        "  - Открываем изображение с помощью `Image.open(uploaded_file)`.\n",
        "  - Отображаем его в интерфейсе с помощью `st.image`.\n",
        "\n",
        "- **Кнопка для запуска классификации:**\n",
        "  - `st.button(\"Классифицировать\")` создаёт кнопку, при нажатии на которую запускается процесс классификации.\n",
        "\n",
        "- **Подготовка изображения для отправки:**\n",
        "  - Сохраняем изображение в байтовый поток `img_byte_arr` в формате PNG.\n",
        "  - Получаем байтовое представление изображения с помощью `img_byte_arr.getvalue()`.\n",
        "\n",
        "- **Отправка запроса на сервер:**\n",
        "  - Используем `requests.post` для отправки POST-запроса к API.\n",
        "  - Параметр `files` используется для передачи файла.\n",
        "  - Замените URL `\"https://classification-mf1z.onrender.com/predict/\"` на URL вашего API на Render.com.\n",
        "\n",
        "- **Обработка ответа:**\n",
        "  - Проверяем статус ответа с помощью `response.raise_for_status()`.\n",
        "  - Получаем JSON-ответ и извлекаем результат классификации.\n",
        "  - Отображаем результат с помощью `st.write`.\n",
        "\n",
        "- **Обработка ошибок:**\n",
        "  - Ловим исключения `requests.exceptions.RequestException` и `ValueError` для обработки ошибок соединения и обработки ответа.\n",
        "  - Отображаем сообщения об ошибках с помощью `st.error`.\n",
        "\n",
        "\n",
        "\n"
      ],
      "metadata": {
        "id": "WV73pcxI4695"
      }
    },
    {
      "cell_type": "markdown",
      "source": [
        "### **Структура репозитория с проектом**\n"
      ],
      "metadata": {
        "id": "Wvq_GMiJ79RM"
      }
    },
    {
      "cell_type": "markdown",
      "source": [
        "\n",
        "```\n",
        "app.py\n",
        "main.py\n",
        "requirements.txt\n",
        "best_classification_model.pkl\n",
        "scaler.pkl\n",
        "```\n",
        "\n",
        "- **`app.py`** — код клиентского приложения Streamlit.\n",
        "- **`main.py`** — код серверного приложения FastAPI.\n",
        "- **`requirements.txt`** — файл зависимостей для API.\n",
        "- **`best_classification_model.pkl`** — файл с сохранённой моделью классификации.\n",
        "- **`scaler.pkl`** — файл, с сохранённым во время обучения модели scaler-ом, для корректной предобработки входных данных."
      ],
      "metadata": {
        "id": "1Getvi_T7R_-"
      }
    }
  ],
  "metadata": {
    "colab": {
      "provenance": [],
      "authorship_tag": "ABX9TyNv6iS2q4va79xcjoW0NLMy",
      "include_colab_link": true
    },
    "kernelspec": {
      "display_name": "Python 3",
      "name": "python3"
    },
    "language_info": {
      "name": "python"
    }
  },
  "nbformat": 4,
  "nbformat_minor": 0
}