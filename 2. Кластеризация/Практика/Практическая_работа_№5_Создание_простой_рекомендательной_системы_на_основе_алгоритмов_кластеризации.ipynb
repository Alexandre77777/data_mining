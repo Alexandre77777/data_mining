{
  "nbformat": 4,
  "nbformat_minor": 0,
  "metadata": {
    "colab": {
      "provenance": [],
      "include_colab_link": true
    },
    "kernelspec": {
      "display_name": "Python 3",
      "language": "python",
      "name": "python3"
    },
    "language_info": {
      "codemirror_mode": {
        "name": "ipython",
        "version": 3
      },
      "file_extension": ".py",
      "mimetype": "text/x-python",
      "name": "python",
      "nbconvert_exporter": "python",
      "pygments_lexer": "ipython3",
      "version": "3.7.8-final"
    }
  },
  "cells": [
    {
      "cell_type": "markdown",
      "metadata": {
        "id": "view-in-github",
        "colab_type": "text"
      },
      "source": [
        "<a href=\"https://colab.research.google.com/github/Alexandre77777/data_mining/blob/main/2.%20%D0%9A%D0%BB%D0%B0%D1%81%D1%82%D0%B5%D1%80%D0%B8%D0%B7%D0%B0%D1%86%D0%B8%D1%8F/%D0%9F%D1%80%D0%B0%D0%BA%D1%82%D0%B8%D0%BA%D0%B0/%D0%9F%D1%80%D0%B0%D0%BA%D1%82%D0%B8%D1%87%D0%B5%D1%81%D0%BA%D0%B0%D1%8F_%D1%80%D0%B0%D0%B1%D0%BE%D1%82%D0%B0_%E2%84%965_%D0%A1%D0%BE%D0%B7%D0%B4%D0%B0%D0%BD%D0%B8%D0%B5_%D0%BF%D1%80%D0%BE%D1%81%D1%82%D0%BE%D0%B9_%D1%80%D0%B5%D0%BA%D0%BE%D0%BC%D0%B5%D0%BD%D0%B4%D0%B0%D1%82%D0%B5%D0%BB%D1%8C%D0%BD%D0%BE%D0%B9_%D1%81%D0%B8%D1%81%D1%82%D0%B5%D0%BC%D1%8B_%D0%BD%D0%B0_%D0%BE%D1%81%D0%BD%D0%BE%D0%B2%D0%B5_%D0%B0%D0%BB%D0%B3%D0%BE%D1%80%D0%B8%D1%82%D0%BC%D0%BE%D0%B2_%D0%BA%D0%BB%D0%B0%D1%81%D1%82%D0%B5%D1%80%D0%B8%D0%B7%D0%B0%D1%86%D0%B8%D0%B8.ipynb\" target=\"_parent\"><img src=\"https://colab.research.google.com/assets/colab-badge.svg\" alt=\"Open In Colab\"/></a>"
      ]
    },
    {
      "cell_type": "markdown",
      "metadata": {
        "id": "njQcrguya1Nb"
      },
      "source": [
        "# Практическая работа №5. Создание простой рекомендательной системы на основе алгоритмов кластеризации\n",
        "\n",
        "На основе оценок аниме, которые ставят пользователи систем типа [MAL](https://myanimelist.net/), можно строить разные кластеры данных:\n",
        "- кластеры похожих людей. Похожие значит, что эти люди ставят похожие рейтинги аниме.\n",
        "- кластеры похожих аниме. Похожие значит что люди оценивают их похоже.\n",
        "- кластеры похожих жанров. Но похожие не в обычном смысле, а в смысле, что люди которые смотрят жанр А любят смотреть жанр Б.\n",
        "\n",
        "и т.д.\n",
        "\n",
        "### Полезная литература\n",
        "\n",
        "- [Лекция 8. Рекомендательный системы](https://www.youtube.com/watch?v=Te_6TqEhyTI&t=4s).\n",
        "- [Туториал по рекомендательным системам](http://nbviewer.jupyter.org/urls/gitlab.7bits.it/isiganov/ml-course/raw/master/week05/theory/05-01-clustering.ipynb?inline=false)\n",
        "- [ODS: Обучение без учителя: PCA и кластеризация](https://habrahabr.ru/company/ods/blog/325654/)\n",
        "- [Интересные алгоритмы кластеризации, часть первая: Affinity propagation](https://habrahabr.ru/post/321216/) и другие статьи цикла\n",
        "- [Глава 7: кластеризация и визуализация. К. В. Воронцов](http://www.machinelearning.ru/wiki/images/6/6d/Voron-ML-1.pdf)\n",
        "- [Документация sklearn.clustering](http://scikit-learn.org/stable/modules/clustering.html)\n",
        "- [K-Means Clustering - The Math of Intelligence. Siraj Raval](https://www.youtube.com/watch?v=9991JlKnFmk) объяснение с программированием KMeans вручную\n",
        "\n"
      ]
    },
    {
      "cell_type": "code",
      "metadata": {
        "id": "dR2jz6_Ja1Nd"
      },
      "source": [
        "from sklearn import datasets\n",
        "import pandas as pd\n",
        "import numpy as np\n",
        "from matplotlib import pyplot as plt\n",
        "import seaborn as sns\n",
        "\n",
        "from sklearn.cluster import KMeans\n",
        "\n",
        "from tqdm import tqdm\n",
        "# from tqdm import tqdm_notebook as tqdm # Раскоментируйте если прогресс бар будет странно работать\n",
        "\n",
        "%matplotlib inline\n",
        "\n",
        "# Зафиксируем случайность, чтобы у нас получались одинаковые результаты.\n",
        "np.random.seed(seed=42)"
      ],
      "execution_count": null,
      "outputs": []
    },
    {
      "cell_type": "markdown",
      "metadata": {
        "id": "4UhBfNdTb2gD"
      },
      "source": [
        "## Анализ отзывов аниме\n",
        "\n",
        "Возьмем датасет с рейтингами аниме: https://www.kaggle.com/CooperUnion/anime-recommendations-database  \n",
        "Кстати, вы можете посмотреть kernels - это jupyter notebooks, в которых другие люди тоже делали что-то с этим датасетом.\n",
        "\n",
        "```\n",
        "Anime.csv\n",
        "\n",
        "anime_id - myanimelist.net's unique id identifying an anime.\n",
        "name - full name of anime.\n",
        "genre - comma separated list of genres for this anime.\n",
        "type - movie, TV, OVA, etc.\n",
        "episodes - how many episodes in this show. (1 if movie).\n",
        "rating - average rating out of 10 for this anime.\n",
        "members - number of community members that are in this anime's \"group\".\n",
        "\n",
        "\n",
        "Rating.csv\n",
        "\n",
        "user_id - non identifiable randomly generated user id.\n",
        "anime_id - the anime that this user has rated.\n",
        "rating - rating out of 10 this user has assigned (-1 if the user watched it but didn't assign a rating).\n",
        "```"
      ]
    },
    {
      "cell_type": "code",
      "metadata": {
        "id": "MQeq12Wnh11r"
      },
      "source": [
        "colab = False  # True если используте google colab\n",
        "if colab:\n",
        "    from google.colab import drive\n",
        "    drive.mount('/content/drive/')"
      ],
      "execution_count": null,
      "outputs": []
    },
    {
      "cell_type": "code",
      "metadata": {
        "id": "vRFEeThr-RBx",
        "tags": []
      },
      "source": [
        "if colab:\n",
        "    anime = pd.read_csv('/content/drive/My Drive/Data/anime/anime.csv.zip', index_col='anime_id')\n",
        "else:\n",
        "    anime = pd.read_csv('../data/anime/anime.csv.zip', index_col='anime_id')\n",
        "anime.dropna(inplace=True)\n",
        "print(anime.shape)\n",
        "anime.head()"
      ],
      "execution_count": null,
      "outputs": []
    },
    {
      "cell_type": "code",
      "metadata": {
        "id": "c9VKgQNV-VKE"
      },
      "source": [
        "if colab:\n",
        "    ratings = pd.read_csv('/content/drive/My Drive/Data/anime/rating.csv.zip')\n",
        "else:\n",
        "    ratings = pd.read_csv('../data/anime/rating.csv.zip')\n",
        "ratings"
      ],
      "execution_count": null,
      "outputs": []
    },
    {
      "cell_type": "markdown",
      "metadata": {
        "id": "h338V2Lwb2gj"
      },
      "source": [
        "Датасет очень большой и грязный. Некоторые действия с этим датасетом будут требовать много оперативной памяти(>6 Гб).\n",
        "\n",
        "## Подготовка данных"
      ]
    },
    {
      "cell_type": "markdown",
      "metadata": {
        "id": "e839HZu_b2gk"
      },
      "source": [
        "Во первых, в датасете есть много -1. Оценки -1 и 0 на MAL нет.\n",
        "\n",
        "Здесь -1 означает что человек посмотрел это аниме, но не выставил оценку.\n",
        "\n",
        "Такие записи из `ratings` стоит выбросить, так как в нашем случае они особо не помогут.\n",
        "\n",
        "Но и не помешают серьезно. Если хотите оставьте их, только нужно заменить все -1 на 0, так как дальше нам понадобится посчитать среднее, а -1 или 0, в отличие от `np.nan`, повлияют на среднее.\n",
        "\n",
        "### 1. Избавьтесь от -1"
      ]
    },
    {
      "cell_type": "code",
      "metadata": {
        "id": "pCRsQ18wb2gl"
      },
      "source": [
        "###  Ваш код  ###"
      ],
      "execution_count": null,
      "outputs": []
    },
    {
      "cell_type": "code",
      "source": [],
      "metadata": {
        "id": "Ru_oDK1sQfLy"
      },
      "execution_count": null,
      "outputs": []
    },
    {
      "cell_type": "markdown",
      "metadata": {
        "id": "Cm0qReHpb2gq"
      },
      "source": [
        "## Критерий Шавене (Chauvenet)\n",
        "\n",
        "$$ erfc(\\frac{|P_i - mean(P)|}{S_p})  < \\frac{1}{2n}$$\n",
        "\n",
        "$ S_p - отклонение $\n",
        "\n",
        "Готовой реализации в библиотеках нет, поэтому придется написать самим(но если найдете можете использовать).\n",
        "\n",
        "### 2. Напишите функцию, которая принимает на вход массив, считает критерий Шавене и возвращает булеву маску.\n",
        "\n",
        "Функция `erfc` есть в sklearn."
      ]
    },
    {
      "cell_type": "code",
      "metadata": {
        "id": "SRPB9ZGVb2gr"
      },
      "source": [
        "from scipy.special import erfc\n",
        "\n",
        "def chauvenet(array):\n",
        "    ###  Ваш код  ###\n",
        "    return mask"
      ],
      "execution_count": null,
      "outputs": []
    },
    {
      "cell_type": "markdown",
      "metadata": {
        "id": "YibqZ90_b2gv"
      },
      "source": [
        "Для начала давайте посмотрим на таблицу рейтингов.\n",
        "\n",
        "### 3. Сделайте новую таблицу `count_reviews` где индексами будет `user_id` а значением будет количество просмотренных им аниме.\n",
        "\n",
        "\n",
        "**Hint** Используйте [groupby](https://pandas.pydata.org/pandas-docs/stable/reference/api/pandas.DataFrame.groupby.html) и [count](https://pandas.pydata.org/pandas-docs/stable/reference/api/pandas.DataFrame.count.html)."
      ]
    },
    {
      "cell_type": "code",
      "metadata": {
        "id": "M3XQcmqvb2gw"
      },
      "source": [
        "###  Ваш код  ###"
      ],
      "execution_count": null,
      "outputs": []
    },
    {
      "cell_type": "markdown",
      "metadata": {
        "id": "ZCtMNEeRb2g0"
      },
      "source": [
        "### 4. Используйте функцию chauvenet и найдите все выбросы.\n",
        "\n",
        "**Hint:** Так как chauvenet возвращает маску используйте оператор `[]` (подробнее смотрите в теории по pandas и numpy).\n",
        "\n",
        "**Hint:** Используйте [values](https://pandas.pydata.org/pandas-docs/stable/reference/api/pandas.DataFrame.values.html)."
      ]
    },
    {
      "cell_type": "code",
      "metadata": {
        "id": "dN5Q6T87b2g2"
      },
      "source": [
        "outlier_users = ###  Ваш код  ###\n",
        "outlier_users"
      ],
      "execution_count": null,
      "outputs": []
    },
    {
      "cell_type": "markdown",
      "metadata": {
        "id": "OMHGjMnFb2g5"
      },
      "source": [
        "### 5. Ответьте на вопросы\n",
        "\n",
        "#### Кого критерий посчитал выбросом?\n",
        "\n",
        "#### Почему критерий посчитал их выбросом?\n",
        "\n",
        "#### Нужна ли им вообще рекомендательная система?\n"
      ]
    },
    {
      "cell_type": "markdown",
      "metadata": {
        "id": "jTlAVwKjb2g6"
      },
      "source": [
        "**Ответы:**"
      ]
    },
    {
      "cell_type": "markdown",
      "source": [
        "`# Ваши ответы #`"
      ],
      "metadata": {
        "id": "DS22I1jYOa0j"
      }
    },
    {
      "cell_type": "code",
      "metadata": {
        "id": "vU3CF5oqb2g6"
      },
      "source": [
        "bad_user_threshold = outlier_users.min()\n",
        "bad_user_threshold"
      ],
      "execution_count": null,
      "outputs": []
    },
    {
      "cell_type": "markdown",
      "metadata": {
        "id": "Uirpa-xWb2g9"
      },
      "source": [
        "Если все было правильно `bad_user_threshold` больше 500.\n",
        "\n",
        "Нужно выбросить всех людей у которых число просмотренных аниме больше или равно `bad_user_threshold`.\n",
        "\n",
        "### 6. Переименнуйте столбец из таблицы `count_reviews` в `count_reviews` (он там единственный). Соедините `count_reviews` и `ratings` по столбцу `user_id`. И оставьте в `ratings` только тех кто посмотрел меньше `bad_user_threshold`  "
      ]
    },
    {
      "cell_type": "code",
      "metadata": {
        "id": "DlC15OSib2g-"
      },
      "source": [
        "###  Ваш код  ###"
      ],
      "execution_count": null,
      "outputs": []
    },
    {
      "cell_type": "markdown",
      "metadata": {
        "id": "-oeDGjoVb2hA"
      },
      "source": [
        "Осталось все равно слишком много пользователей.\n",
        "\n",
        "### 7. Удалите из таблицы всех юзеров, у которых количество просмотров меньше медианного значения. То есть мы удалим половину юзеров.\n",
        "\n",
        "Так как они посмотрели слишком мало, чтобы мы на них могли основывать свои советы."
      ]
    },
    {
      "cell_type": "code",
      "metadata": {
        "id": "8Z1mmi1vb2hB"
      },
      "source": [
        "###  Ваш код  ###\n",
        "ratings"
      ],
      "execution_count": null,
      "outputs": []
    },
    {
      "cell_type": "code",
      "metadata": {
        "id": "psfK_Z_Nb2hE"
      },
      "source": [
        "# Удалим столбец с просмотрами чтобы не мешал.\n",
        "\n",
        "ratings = ratings.drop(columns=['count_reviews'])"
      ],
      "execution_count": null,
      "outputs": []
    },
    {
      "cell_type": "markdown",
      "metadata": {
        "id": "pM5IUARab2hG"
      },
      "source": [
        "Теперь рассмотрим таблицу `anime`.\n",
        "\n",
        "\n",
        "Так же применим критерий шавене.\n",
        "\n",
        "Искать выбросы стоит по столбцу `rating` или по `members` или по обоим сразу.\n",
        "\n",
        "### 8. Используйте функцию chauvenet и найдите все выбросы среди аниме. И удалите их.\n",
        "\n",
        "**Hint** Используйте [drop](https://pandas.pydata.org/pandas-docs/stable/reference/api/pandas.DataFrame.drop.html) и [index](https://pandas.pydata.org/pandas-docs/stable/reference/api/pandas.DataFrame.index.html)"
      ]
    },
    {
      "cell_type": "code",
      "metadata": {
        "id": "yRMPTUkib2hH"
      },
      "source": [
        "###  Ваш код  ###\n",
        "outlier_anime"
      ],
      "execution_count": null,
      "outputs": []
    },
    {
      "cell_type": "markdown",
      "metadata": {
        "id": "MPL12FNQb2hK"
      },
      "source": [
        "### 9. Ответье на вопросы\n",
        "\n",
        "#### Что критерий посчитал выбросом?\n",
        "\n",
        "#### Почему критерий посчитал их выбросом?\n",
        "\n",
        "#### Можем ли мы как то использовать эти аниме в нашей рекомендательное системе?"
      ]
    },
    {
      "cell_type": "markdown",
      "metadata": {
        "id": "WMz-EvSFb2hL"
      },
      "source": [
        "**Ответы:**"
      ]
    },
    {
      "cell_type": "markdown",
      "source": [
        "`# Ваши ответы #`"
      ],
      "metadata": {
        "id": "SDZTlmuqO566"
      }
    },
    {
      "cell_type": "markdown",
      "metadata": {
        "id": "-MCsZX8rb2hL"
      },
      "source": [
        "## Кластеризация по жанрам"
      ]
    },
    {
      "cell_type": "markdown",
      "metadata": {
        "id": "MHZyEqKl5zgm"
      },
      "source": [
        "Данные о жанре хранятся как строка, разделенная запятой `,` . Но нам нужны сами жанры. Придется поколдовать и разделить эту строку на элементы."
      ]
    },
    {
      "cell_type": "code",
      "metadata": {
        "id": "x_2Nragqa1N2"
      },
      "source": [
        "from itertools import chain\n",
        "'''\n",
        "Нам нужна функция flatmap.\n",
        "Flatmap получает на вход список, на каждом элементе вызывает функцию f, которая возвращает другой список.\n",
        "В результате получается список списков. (flatten - уплощение списка списков в один список).\n",
        "'''\n",
        "def flatmap(f, items):\n",
        "    return chain.from_iterable(map(f, items))\n",
        "\n",
        "# пример использования\n",
        "list(flatmap(lambda x: [0, x , x*x], [1,2,3,4,5]))\n",
        "# Первый шаг: [[0, 1, 1], [0, 2, 4], [0, 3, 9], [0, 4, 16], [0, 5, 25]]"
      ],
      "execution_count": null,
      "outputs": []
    },
    {
      "cell_type": "code",
      "metadata": {
        "id": "JMm-sCdXa1OF",
        "tags": []
      },
      "source": [
        "# создаем функцию, которая просто разбивает строку по символу \", \" на подстроки\n",
        "def genre_splitter(genre_names):\n",
        "    return genre_names.split(\", \")\n",
        "\n",
        "m_uniq = anime['genre'].unique() # смотрим сколько всего уникальных комбинация genres есть в датасете\n",
        "print(\"m_uniq[0:10] = {}\\nlen= {}\\n\".format(m_uniq[0:10], len(m_uniq))) # как видим комбинаций очень много, так как там все композиции\n",
        "\n",
        "genres = set(flatmap(genre_splitter, m_uniq)) # разбиваем все genres на составные части и генерируем один массив из всех жанров. Строим по массиву множество уникальных жанров\n",
        "\n",
        "genres = list(genres) # множество превращаем в список\n",
        "print(\"Genres={}\\nlen={}\".format(genres, len(genres)))"
      ],
      "execution_count": null,
      "outputs": []
    },
    {
      "cell_type": "markdown",
      "metadata": {
        "id": "Oa6hsGvs6Plt"
      },
      "source": [
        "### 10. Создадим новую таблицу, где в колонках будет жанр, в строках аниме, а в ячейках 1 если у фильма есть этот жанр и 0 в противном случае.\n",
        "\n",
        "Такой формат таблиц называтеся one-hot-encoding. Только в нашем случае в каждой строке будет не одна единица, а несколько, так как у аниме как правило несолько жанров.\n",
        "\n",
        "Уточнение: жанры должны быть индексами столбцов (columns), а id аниме - индексами строк (index)"
      ]
    },
    {
      "cell_type": "code",
      "metadata": {
        "id": "f4kWGYLva1OI",
        "tags": []
      },
      "source": [
        "###  Ваш код  ###"
      ],
      "execution_count": null,
      "outputs": []
    },
    {
      "cell_type": "markdown",
      "metadata": {
        "id": "r33UeY26a1OL"
      },
      "source": [
        "Итак, у нас есть следующие таблицы:\n",
        "- Жанры аниме - в строчках аниме, в столбцах жанр аниме, а в ячейках 0 или 1.\n",
        "- Рейтинги - в строчках пользователи, в столбцах id аниме и рейтинг\n",
        "\n",
        "Нужно получить другую таблицу, в которой в строках будут пользователи, а в столбцах жанры аниме. А в ячейках средняя оценка жанра этим пользователем.\n",
        "\n",
        "Средняя оценка жанра вычисляется следующим образом: берём все отзывы пользователя. Группируем все его отзывы по жанрам и считаем средний рейтинг, который он ставит аниме с данным жанром.\n",
        "\n",
        "Выполним следущие шаги.\n",
        "\n",
        "### 11. Соединим две таблицы:<br>\n",
        "1. жанры по каждому аниме<br>\n",
        "2. оценки аниме от людей. Кстати, один человек мог посмотреть 1 аниме или 100, но не все!<br>\n",
        "\n",
        "Получим таблицу, где строк будет N*M штук, где N - количество юзеров и M - количество аниме"
      ]
    },
    {
      "cell_type": "code",
      "metadata": {
        "id": "-UZ89H8ra1OM"
      },
      "source": [
        "###  Ваш код  ###\n",
        "df"
      ],
      "execution_count": null,
      "outputs": []
    },
    {
      "cell_type": "markdown",
      "metadata": {
        "id": "nd5AyQk7a1OP"
      },
      "source": [
        "С такой таблицей `(N*M) * G` вы всё еще не можем работать.  \n",
        "### 12. Сгруппируем строки по пользователям (колонка `userId`).  В группах посчитаем среднюю оценку на жанр. А если пользователь не смотрел фильм, то поставим ему `-1` в соответсвующую ячейку.\n",
        "Чтобы посчитать среднее(mean) без учета непросмотренных аниме замените все `0` на `np.NaN`"
      ]
    },
    {
      "cell_type": "code",
      "metadata": {
        "id": "NZUl41QBa1OP",
        "tags": []
      },
      "source": [
        "###  Ваш код  ###\n",
        "df.head()"
      ],
      "execution_count": null,
      "outputs": []
    },
    {
      "cell_type": "markdown",
      "metadata": {
        "id": "FQ9UuFn0b2hX"
      },
      "source": [
        "Так как некоторые пользователи не смотрели ничего из некоторых жанров, в данных осталось много `np.NaN`\n",
        "### 13. Заполните все NaN на -1\n",
        "\n",
        "**Hint** [fillna](https://pandas.pydata.org/pandas-docs/stable/reference/api/pandas.DataFrame.fillna.html)"
      ]
    },
    {
      "cell_type": "code",
      "metadata": {
        "tags": [],
        "id": "uDoXl9XFb2hY"
      },
      "source": [
        "###  Ваш код  ###\n",
        "df.head()"
      ],
      "execution_count": null,
      "outputs": []
    },
    {
      "cell_type": "markdown",
      "metadata": {
        "id": "1wo_Sod-a1OT"
      },
      "source": [
        "Прежде чем начать обучать kMeans...\n",
        "\n",
        "### 14. Отмасштабируйте признаки.\n",
        "\n",
        "Как мы знаем по лекции, метрическим алгоритмам, одним из которых и является kMeans, лучше подавать на вход данные одного масштаба.  Этим и занимается метод MinMaxScaler из sklearn.\n",
        "\n",
        "[Документация](https://scikit-learn.org/stable/modules/generated/sklearn.preprocessing.MinMaxScaler.html)\n",
        "\n",
        "Алгоритм его работы:\n",
        "```\n",
        "X_std = (X - X.min(axis=0)) / (X.max(axis=0) - X.min(axis=0))\n",
        "X_scaled = X_std * (max - min) + min\n",
        "```"
      ]
    },
    {
      "cell_type": "code",
      "metadata": {
        "id": "YOjZgEy1a1OU"
      },
      "source": [
        "###  Ваш код  ###"
      ],
      "execution_count": null,
      "outputs": []
    },
    {
      "cell_type": "markdown",
      "metadata": {
        "id": "FtnFeq5--WYV"
      },
      "source": [
        "### 15.Натренируйте kMeans с 10 кластерами на полученных данных\n",
        "\n",
        "https://scikit-learn.org/stable/modules/generated/sklearn.cluster.KMeans.html"
      ]
    },
    {
      "cell_type": "code",
      "metadata": {
        "id": "5P8wbyKs-2ss"
      },
      "source": [
        "### Ваш код ###"
      ],
      "execution_count": null,
      "outputs": []
    },
    {
      "cell_type": "markdown",
      "metadata": {
        "id": "V9Pn5DMHa1OX"
      },
      "source": [
        "### 16. Нарисуйте на графике центры кластеров нашего датасета оценок фильмов.\n",
        "\n",
        "В нем будет 10 строчек - 10 кластеров. И 43 столбцов - 43 жанров фильмов.\n",
        "\n",
        "Из графика мы поймем какие жанры обычно смотрят вместе. По сути мы получили кластеры предпочтений людей.\n",
        "\n",
        "**Hint** [Heatmap](https://seaborn.pydata.org/generated/seaborn.heatmap.html)"
      ]
    },
    {
      "cell_type": "code",
      "metadata": {
        "id": "FyGW-7-6a1OY",
        "tags": []
      },
      "source": [
        "###  Ваш код  ###"
      ],
      "execution_count": null,
      "outputs": []
    },
    {
      "cell_type": "markdown",
      "metadata": {
        "id": "f8kEhXm4b2hg"
      },
      "source": [
        "# Как выбрать нужное число кластеров\n",
        "\n",
        "Такие методы как KMeans, Spectral clustering, Ward hierarchical clustering, Agglomerative clustering требуют количество кластеров как параметр. Это так называемый гипер-параметр, и его должен подбирать человек. Но на что человеку опираться при выборе? На некоторый функционал \"качества\"!\n",
        "\n",
        "Вспомним идею кластеризации:\n",
        "- минимизация внутрикластерного расстояния\n",
        "- максимизация межкластерного расстояния\n",
        "\n",
        "Другими словами - кучки кучнее и дальше друг от друга.\n",
        "\n",
        "Логично, что мы хотим, чтобы точки распологались кучно возле центров своих кластеров. Но вот незадача: минимум такого функционала будет достигаться тогда, когда кластеров столько же, сколько и точек (то есть каждая точка – это кластер из одного элемента). Для решения этого вопроса (выбора числа кластеров) часто пользуются такой эвристикой: выбирают то число кластеров, начиная с которого описанный функционал $ J(C) $ падает \"уже не так быстро\". Или более формально: $$ D(k) = \\frac{|J(C_k) - J(C_{k+1})|}{|J(C_{k-1}) - J(C_k)|}  \\rightarrow \\min\\limits_k $$\n",
        "\n",
        "Где, в случае kMeans $$ J(C) = \\sum_{k=1}^K\\sum_{i~\\in~C_k} ||x_i - \\mu_k|| \\rightarrow \\min\\limits_C,$$ - сумма квадратов расстояний от точек до центроидов кластеров, к которым они относятся\n",
        "\n",
        "#### Эта ячейка может выполнятся долго!"
      ]
    },
    {
      "cell_type": "code",
      "metadata": {
        "id": "DuTFue0rb2hg"
      },
      "source": [
        "inertia = []\n",
        "N = 30\n",
        "for k in tqdm(range(1, N)):\n",
        "    kmeans = KMeans(n_clusters=k).fit(scaler.fit_transform(df))\n",
        "    inertia.append(np.sqrt(kmeans.inertia_))\n",
        "plt.figure(figsize=(10,7))\n",
        "plt.plot(range(1, N), inertia, marker='s');\n",
        "plt.xlabel('$k$')\n",
        "plt.ylabel('$J(C_k)$')"
      ],
      "execution_count": null,
      "outputs": []
    },
    {
      "cell_type": "markdown",
      "metadata": {
        "id": "ulciRrtRb2hi"
      },
      "source": [
        "## Коэффициент силуэта\n",
        "\n",
        "Данный коэффициент не предполагает знания истинных меток объектов, и позволяет оценить качество кластеризации, используя только саму (неразмеченную) выборку и результат кластеризации.\n",
        "\n",
        "Сначала силуэт определяется отдельно для каждого объекта. Обозначим через $a$ - среднее расстояние от данного объекта до объектов из того же кластера, через $b$ - среднее расстояние от данного объекта до объектов из ближайшего кластера (отличного от того, в котором лежит сам объект). Тогда силуэтом данного объекта называется величина: $$s = \\frac{b - a}{\\max(a, b)}.$$ Силуэтом выборки называется средняя величина силуэта объектов данной выборки. Таким образом, силуэт показывает, насколько среднее расстояние до объектов своего кластера отличается от среднего расстояния до объектов других кластеров. Данная величина лежит в диапазоне $[-1, 1]$. Значения, близкие к -1, соответствуют плохим (разрозненным) кластеризациям, значения, близкие к нулю, говорят о том, что кластеры пересекаются и накладываются друг на друга, значения, близкие к 1, соответствуют \"плотным\" четко выделенным кластерам. Таким образом, чем больше силуэт, тем более четко выделены кластеры, и они представляют собой компактные, плотно сгруппированные облака точек.\n",
        "\n",
        "С помощью силуэта можно выбирать оптимальное число кластеров $k$ (если оно заранее неизвестно) - выбирается число кластеров, максимизирующее значение силуэта. В отличие от предыдущих метрик, силуэт зависит от формы кластеров, и достигает больших значений на более выпуклых кластерах, получаемых с помощью алгоритмов, основанных на восстановлении плотности распределения.\n",
        "\n",
        "#### Эта ячейка может выполняться долго!"
      ]
    },
    {
      "cell_type": "code",
      "metadata": {
        "id": "BkFhvnhO3TIl"
      },
      "source": [
        "from sklearn.metrics import silhouette_score, silhouette_samples\n",
        "\n",
        "def draw_sil_score(X, range_n_clusters=[2, 3, 4, 5, 6, 10, 12, 13, 20]):\n",
        "    scores = []\n",
        "    for n_clusters in tqdm(range_n_clusters):\n",
        "        clusterer = KMeans(n_clusters=n_clusters, random_state=10)\n",
        "        cluster_labels = clusterer.fit_predict(X)\n",
        "        silhouette_avg = silhouette_score(X, cluster_labels)\n",
        "        scores.append(silhouette_avg)\n",
        "    plt.plot(range_n_clusters, scores)\n",
        "    return range_n_clusters[np.argmax(scores)]"
      ],
      "execution_count": null,
      "outputs": []
    },
    {
      "cell_type": "code",
      "metadata": {
        "id": "qZXMiFpW3VVN",
        "tags": []
      },
      "source": [
        "draw_sil_score(scaler.fit_transform(df), range(2, 30))"
      ],
      "execution_count": null,
      "outputs": []
    },
    {
      "cell_type": "markdown",
      "metadata": {
        "id": "DE6UbyzUb2hn"
      },
      "source": [
        "### 17. Выберите количество кластеров `k` по методам выше. Натренируйте kMeans и снова нарисуйте heatmap."
      ]
    },
    {
      "cell_type": "code",
      "metadata": {
        "tags": [],
        "id": "2Brw66Ylb2hn"
      },
      "source": [
        "###  Ваш код  ###"
      ],
      "execution_count": null,
      "outputs": []
    },
    {
      "cell_type": "markdown",
      "metadata": {
        "id": "EidQaCQOb2hp"
      },
      "source": [
        "### 18. Порекомендуйте что-нибудь абстрактному пользователю.\n",
        "Это можно сделать разными способами. Как это сделать подумайте сами.\n",
        "\n",
        "Возможные варианты решения:\n",
        " * в каждом кластере отсортировать жанры по тому, насколько жанр важен.\n",
        " * взять каждый кластер -> получить все аниме, которые смотрят в этом кластере -> отсортировать по рейтину.\n",
        "\n"
      ]
    },
    {
      "cell_type": "code",
      "metadata": {
        "id": "X7bgVPgPb2hp"
      },
      "source": [
        "###  Ваш код  ###"
      ],
      "execution_count": null,
      "outputs": []
    }
  ]
}