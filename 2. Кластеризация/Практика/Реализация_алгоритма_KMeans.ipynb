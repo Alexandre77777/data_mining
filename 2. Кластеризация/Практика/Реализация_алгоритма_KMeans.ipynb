{
  "nbformat": 4,
  "nbformat_minor": 0,
  "metadata": {
    "colab": {
      "provenance": [],
      "collapsed_sections": [
        "gxWv0TW-e8NU"
      ],
      "include_colab_link": true
    },
    "kernelspec": {
      "name": "python3",
      "display_name": "Python 3"
    },
    "language_info": {
      "name": "python"
    }
  },
  "cells": [
    {
      "cell_type": "markdown",
      "metadata": {
        "id": "view-in-github",
        "colab_type": "text"
      },
      "source": [
        "<a href=\"https://colab.research.google.com/github/Alexandre77777/data_mining/blob/main/2.%20%D0%9A%D0%BB%D0%B0%D1%81%D1%82%D0%B5%D1%80%D0%B8%D0%B7%D0%B0%D1%86%D0%B8%D1%8F/%D0%9F%D1%80%D0%B0%D0%BA%D1%82%D0%B8%D0%BA%D0%B0/%D0%A0%D0%B5%D0%B0%D0%BB%D0%B8%D0%B7%D0%B0%D1%86%D0%B8%D1%8F_%D0%B0%D0%BB%D0%B3%D0%BE%D1%80%D0%B8%D1%82%D0%BC%D0%B0_KMeans.ipynb\" target=\"_parent\"><img src=\"https://colab.research.google.com/assets/colab-badge.svg\" alt=\"Open In Colab\"/></a>"
      ]
    },
    {
      "cell_type": "markdown",
      "source": [
        "## Модель кластеризации KMeans"
      ],
      "metadata": {
        "id": "Faqf8pG8itot"
      }
    },
    {
      "cell_type": "markdown",
      "metadata": {
        "id": "oq8LyMncuf_B"
      },
      "source": [
        "# Алгоритм K-means (K-средних)<a class='anchor' id='kmeans'>"
      ]
    },
    {
      "cell_type": "markdown",
      "source": [
        "## Содержание\n",
        "\n",
        "1. Познакомимся с моделью KMeans\n",
        "2. Реализуем функцию для обучения модели KMeans\n",
        "3. Сделаем критерий останова для KMeans\n",
        "4. Обсудим проблему начальной инициализации центроид в KMeans\n",
        "5. Визуализируем работу модели\n",
        "6. Посмотрим на реализацию в sklearn"
      ],
      "metadata": {
        "id": "KTRb5RIKU74d"
      }
    },
    {
      "cell_type": "markdown",
      "metadata": {
        "id": "xDbkTkTYuf_F"
      },
      "source": [
        "Вначале сгенерируем три облака точек с помощью `sklearn`."
      ]
    },
    {
      "cell_type": "code",
      "execution_count": null,
      "metadata": {
        "id": "1mmhR0gXuHnq"
      },
      "outputs": [],
      "source": [
        "import matplotlib.pyplot as plt\n",
        "import numpy as np"
      ]
    },
    {
      "cell_type": "code",
      "execution_count": null,
      "metadata": {
        "id": "qRhCTQdZuf_G"
      },
      "outputs": [],
      "source": [
        "from sklearn.datasets import make_blobs\n",
        "\n",
        "X, y = make_blobs(n_samples=100, random_state=10)"
      ]
    },
    {
      "cell_type": "code",
      "execution_count": null,
      "metadata": {
        "id": "I6VqFOARuf_I",
        "outputId": "831235e8-5575-4e00-8730-4227712d2c31",
        "colab": {
          "base_uri": "https://localhost:8080/",
          "height": 428
        }
      },
      "outputs": [
        {
          "output_type": "display_data",
          "data": {
            "text/plain": [
              "<Figure size 504x504 with 1 Axes>"
            ],
            "image/png": "[encoded data removed]"
          },
          "metadata": {
            "needs_background": "light"
          }
        }
      ],
      "source": [
        "plt.figure(figsize=(7, 7))\n",
        "plt.scatter(X[:, 0], X[:, 1]);"
      ]
    },
    {
      "cell_type": "markdown",
      "source": [
        "### Инициализируем центроиды"
      ],
      "metadata": {
        "id": "F2K8ciibza-A"
      }
    },
    {
      "cell_type": "markdown",
      "metadata": {
        "id": "Slqzj4Siuf_C"
      },
      "source": [
        "Алгоритм построения:\n",
        "\n",
        "1. Выбрать количество кластеров $k$, на которые будут делиться данные.\n"
      ]
    },
    {
      "cell_type": "code",
      "source": [
        "k = 3"
      ],
      "metadata": {
        "id": "_4P10Qx6zkeM"
      },
      "execution_count": null,
      "outputs": []
    },
    {
      "cell_type": "markdown",
      "source": [
        "2. Случайным образом выбрать в пространстве данных $k$ точек $c_{k}$ (центроидов) - центров будущих кластеров.\n",
        "\n"
      ],
      "metadata": {
        "id": "T6u8qGCWDxmo"
      }
    },
    {
      "cell_type": "code",
      "source": [
        "np.random.seed(0)\n",
        "centroid_ids = np.random.choice(X.shape[0], k, replace=False)\n",
        "centroid_ids"
      ],
      "metadata": {
        "colab": {
          "base_uri": "https://localhost:8080/"
        },
        "id": "LBaGfvo-zepq",
        "outputId": "8c8d05d1-8bc5-4235-b441-009af74b0eeb"
      },
      "execution_count": null,
      "outputs": [
        {
          "output_type": "execute_result",
          "data": {
            "text/plain": [
              "array([26, 86,  2])"
            ]
          },
          "metadata": {},
          "execution_count": 7
        }
      ]
    },
    {
      "cell_type": "code",
      "source": [
        "centroids = X[centroid_ids]\n",
        "centroids"
      ],
      "metadata": {
        "colab": {
          "base_uri": "https://localhost:8080/"
        },
        "id": "zAIDTcxvywFv",
        "outputId": "1d3c6a0f-f595-4309-edd0-8f73eb518d71"
      },
      "execution_count": null,
      "outputs": [
        {
          "output_type": "execute_result",
          "data": {
            "text/plain": [
              "array([[ 2.52859794,  4.5759393 ],\n",
              "       [-1.45074027, -6.18301386],\n",
              "       [ 2.44301805,  3.84652646]])"
            ]
          },
          "metadata": {},
          "execution_count": 8
        }
      ]
    },
    {
      "cell_type": "code",
      "source": [
        "plt.figure(figsize=(7, 7))\n",
        "plt.scatter(X[:, 0], X[:, 1])\n",
        "plt.scatter(centroids[:, 0], centroids[:, 1], marker='*', s=100);"
      ],
      "metadata": {
        "colab": {
          "base_uri": "https://localhost:8080/",
          "height": 428
        },
        "id": "si-iGWWdzvLq",
        "outputId": "ab693892-5b3c-4f2a-b448-08a3df7cb3cc"
      },
      "execution_count": null,
      "outputs": [
        {
          "output_type": "display_data",
          "data": {
            "text/plain": [
              "<Figure size 504x504 with 1 Axes>"
            ],
            "image/png": "[encoded data removed]"
          },
          "metadata": {
            "needs_background": "light"
          }
        }
      ]
    },
    {
      "cell_type": "markdown",
      "source": [
        "\n",
        "3. Для каждой точки из выборки посчитать, к какому из центроидов она ближе."
      ],
      "metadata": {
        "id": "c32LxnfxD1M1"
      }
    },
    {
      "cell_type": "markdown",
      "metadata": {
        "id": "a421abi0uf_L"
      },
      "source": [
        "В качестве метрики расстояния будем использовать евклидово расстояние\n",
        "\n",
        "$$\\sqrt{\\sum{(x_1 - x_2)^2}}$$"
      ]
    },
    {
      "cell_type": "code",
      "source": [
        "colors = ['green', 'orange', 'red']"
      ],
      "metadata": {
        "id": "sHmKF8_Q24PL"
      },
      "execution_count": null,
      "outputs": []
    },
    {
      "cell_type": "code",
      "source": [
        "idx_1 = 0\n",
        "plt.figure(figsize=(7, 7))\n",
        "plt.scatter(X[idx_1, 0], X[idx_1, 1], s=300)\n",
        "\n",
        "for i, centr in enumerate(centroids):\n",
        "    plt.scatter(centr[0], centr[1], marker='*', s=500, c=colors[i])\n",
        "    plt.text(centr[0]-0.1, centr[1]-0.2, f'{i+1}', fontsize=20);"
      ],
      "metadata": {
        "colab": {
          "base_uri": "https://localhost:8080/",
          "height": 428
        },
        "id": "KfHVIYJ40k3j",
        "outputId": "fd2ad5e9-c8ec-4390-ec70-10b6ee0c90cb"
      },
      "execution_count": null,
      "outputs": [
        {
          "output_type": "display_data",
          "data": {
            "text/plain": [
              "<Figure size 504x504 with 1 Axes>"
            ],
            "image/png": "[encoded data removed]"
          },
          "metadata": {
            "needs_background": "light"
          }
        }
      ]
    },
    {
      "cell_type": "code",
      "source": [
        "np.linalg.norm(centroids - X[idx_1], axis=1)"
      ],
      "metadata": {
        "colab": {
          "base_uri": "https://localhost:8080/"
        },
        "id": "cpB3M7gD0ZCm",
        "outputId": "9e0b8663-ca0e-472a-fb3a-9ee97549663f"
      },
      "execution_count": null,
      "outputs": [
        {
          "output_type": "execute_result",
          "data": {
            "text/plain": [
              "array([12.27614681,  1.01564584, 11.5742295 ])"
            ]
          },
          "metadata": {},
          "execution_count": 15
        }
      ]
    },
    {
      "cell_type": "code",
      "source": [
        "idx_2 = 11\n",
        "\n",
        "plt.figure(figsize=(7, 7))\n",
        "plt.scatter(X[idx_1, 0], X[idx_1, 1], s=300, c=colors[1])\n",
        "plt.scatter(X[idx_2, 0], X[idx_2, 1], s=300)\n",
        "\n",
        "for i, centr in enumerate(centroids):\n",
        "    plt.scatter(centr[0], centr[1], marker='*', s=500, c=colors[i])\n",
        "    plt.text(centr[0]-0.1, centr[1]-0.2, f'{i+1}', fontsize=20);"
      ],
      "metadata": {
        "colab": {
          "base_uri": "https://localhost:8080/",
          "height": 428
        },
        "id": "dc5Jfs7R11vR",
        "outputId": "41d15cd6-e849-4e9f-b088-1951aafc58d3"
      },
      "execution_count": null,
      "outputs": [
        {
          "output_type": "display_data",
          "data": {
            "text/plain": [
              "<Figure size 504x504 with 1 Axes>"
            ],
            "image/png": "[encoded data removed]"
          },
          "metadata": {
            "needs_background": "light"
          }
        }
      ]
    },
    {
      "cell_type": "code",
      "source": [
        "np.linalg.norm(centroids - X[idx_2], axis=1)"
      ],
      "metadata": {
        "colab": {
          "base_uri": "https://localhost:8080/"
        },
        "id": "3pYIyAj-2Mju",
        "outputId": "c1e8348a-320c-4593-cbc9-a7d42b7328d5"
      },
      "execution_count": null,
      "outputs": [
        {
          "output_type": "execute_result",
          "data": {
            "text/plain": [
              "array([ 1.70360812, 12.06653963,  2.16731949])"
            ]
          },
          "metadata": {},
          "execution_count": 17
        }
      ]
    },
    {
      "cell_type": "code",
      "source": [
        "idx_3 = 9\n",
        "\n",
        "plt.figure(figsize=(7, 7))\n",
        "plt.scatter(X[idx_1, 0], X[idx_1, 1], s=300, c=colors[1])\n",
        "plt.scatter(X[idx_2, 0], X[idx_2, 1], s=300, c=colors[0])\n",
        "plt.scatter(X[idx_3, 0], X[idx_3, 1], s=300)\n",
        "\n",
        "for i, centr in enumerate(centroids):\n",
        "    plt.scatter(centr[0], centr[1], marker='*', s=500, c=colors[i])\n",
        "    plt.text(centr[0]-0.1, centr[1]-0.2, f'{i+1}', fontsize=20);"
      ],
      "metadata": {
        "colab": {
          "base_uri": "https://localhost:8080/",
          "height": 428
        },
        "id": "pWshSFTE2Qew",
        "outputId": "98478dff-c65d-4534-ea95-b266502595f7"
      },
      "execution_count": null,
      "outputs": [
        {
          "output_type": "display_data",
          "data": {
            "text/plain": [
              "<Figure size 504x504 with 1 Axes>"
            ],
            "image/png": "[encoded data removed]"
          },
          "metadata": {
            "needs_background": "light"
          }
        }
      ]
    },
    {
      "cell_type": "code",
      "source": [
        "np.linalg.norm(centroids - X[idx_3], axis=1)"
      ],
      "metadata": {
        "colab": {
          "base_uri": "https://localhost:8080/"
        },
        "id": "52LV02Aj2tyi",
        "outputId": "797d3a44-a870-4fa5-c266-f8656968c422"
      },
      "execution_count": null,
      "outputs": [
        {
          "output_type": "execute_result",
          "data": {
            "text/plain": [
              "array([12.1935543 ,  7.21525378, 11.51453993])"
            ]
          },
          "metadata": {},
          "execution_count": 19
        }
      ]
    },
    {
      "cell_type": "code",
      "source": [
        "plt.figure(figsize=(7, 7))\n",
        "plt.scatter(X[idx_1, 0], X[idx_1, 1], s=300, c=colors[1])\n",
        "plt.scatter(X[idx_2, 0], X[idx_2, 1], s=300, c=colors[0])\n",
        "plt.scatter(X[idx_3, 0], X[idx_3, 1], s=300, c=colors[1])\n",
        "\n",
        "for i, centr in enumerate(centroids):\n",
        "    plt.scatter(centr[0], centr[1], marker='*', s=500, c=colors[i])\n",
        "    plt.text(centr[0]-0.1, centr[1]-0.2, f'{i+1}', fontsize=20);"
      ],
      "metadata": {
        "colab": {
          "base_uri": "https://localhost:8080/",
          "height": 428
        },
        "id": "WfR9nEL32w0F",
        "outputId": "45aba515-884f-4b63-eba0-8c30604b349f"
      },
      "execution_count": null,
      "outputs": [
        {
          "output_type": "display_data",
          "data": {
            "text/plain": [
              "<Figure size 504x504 with 1 Axes>"
            ],
            "image/png": "[encoded data removed]"
          },
          "metadata": {
            "needs_background": "light"
          }
        }
      ]
    },
    {
      "cell_type": "markdown",
      "source": [
        "#### Первая итерация обучения"
      ],
      "metadata": {
        "id": "MEJnyQ31fKRw"
      }
    },
    {
      "cell_type": "markdown",
      "source": [
        "Создадим словарь для кластеризации"
      ],
      "metadata": {
        "id": "fZS3jB92LIBZ"
      }
    },
    {
      "cell_type": "code",
      "source": [
        "clusters = {i: [] for i in range(k)}\n",
        "clusters"
      ],
      "metadata": {
        "colab": {
          "base_uri": "https://localhost:8080/"
        },
        "id": "bQBjZ8r70FrR",
        "outputId": "754a1701-78f3-44b5-a1c4-5f65073d2b2f"
      },
      "execution_count": null,
      "outputs": [
        {
          "output_type": "execute_result",
          "data": {
            "text/plain": [
              "{0: [], 1: [], 2: []}"
            ]
          },
          "metadata": {},
          "execution_count": 21
        }
      ]
    },
    {
      "cell_type": "code",
      "source": [
        "for x in X:\n",
        "    distances = np.linalg.norm(centroids - x, axis=1)\n",
        "    cluster_ind = distances.argmin()\n",
        "    clusters[cluster_ind].append(x)\n",
        "\n",
        "clusters"
      ],
      "metadata": {
        "colab": {
          "base_uri": "https://localhost:8080/"
        },
        "id": "ASaLFICM0M9j",
        "outputId": "a2872427-5781-46c2-c4a7-874c99ba01cf"
      },
      "execution_count": null,
      "outputs": [
        {
          "output_type": "execute_result",
          "data": {
            "text/plain": [
              "{0: [array([2.03300209, 5.28990817]),\n",
              "  array([3.37979515, 4.18880872]),\n",
              "  array([3.78067293, 5.22062163]),\n",
              "  array([1.16464321, 5.59667831]),\n",
              "  array([4.32968132, 5.64396726]),\n",
              "  array([2.61105267, 4.22218469]),\n",
              "  array([0.81677922, 4.75330395]),\n",
              "  array([2.52859794, 4.5759393 ]),\n",
              "  array([3.69548081, 5.14288792]),\n",
              "  array([2.37698085, 5.82428626]),\n",
              "  array([1.44712872, 4.75428451]),\n",
              "  array([2.96590542, 4.5052704 ]),\n",
              "  array([2.45717481, 5.96515011]),\n",
              "  array([4.05619693, 5.32231077]),\n",
              "  array([3.90917002, 7.44140273]),\n",
              "  array([2.62413419, 5.36941887]),\n",
              "  array([2.98771848, 7.44372871]),\n",
              "  array([5.0772903 , 4.23672091]),\n",
              "  array([4.65804929, 6.7208918 ]),\n",
              "  array([2.36013594, 4.62719573]),\n",
              "  array([2.23393846, 5.11718182]),\n",
              "  array([4.01289101, 5.00538736]),\n",
              "  array([1.75005543, 5.44582908]),\n",
              "  array([3.38492372, 5.8943468 ]),\n",
              "  array([2.19087156, 5.06566526])],\n",
              " 1: [array([-2.32496308, -6.6999964 ]),\n",
              "  array([ 0.51856831, -4.90086804]),\n",
              "  array([ 5.82662285, -9.92259335]),\n",
              "  array([  6.04774884, -10.30504657]),\n",
              "  array([-0.42084194, -4.24889336]),\n",
              "  array([ 5.69248303, -7.19999368]),\n",
              "  array([  5.15909568, -10.13427003]),\n",
              "  array([ 1.1882891 , -5.56058781]),\n",
              "  array([-0.31748917, -6.86337766]),\n",
              "  array([ 4.28981065, -9.44982413]),\n",
              "  array([ 5.31414039, -9.94714146]),\n",
              "  array([ 4.88653379, -8.87680099]),\n",
              "  array([ 1.95552599, -4.05690149]),\n",
              "  array([ 1.31468967, -5.01055177]),\n",
              "  array([ 5.52556208, -8.18696464]),\n",
              "  array([ 5.69192445, -9.47641249]),\n",
              "  array([ 0.91726632, -6.52637778]),\n",
              "  array([  6.68288513, -10.31693051]),\n",
              "  array([-0.43558928, -4.7222919 ]),\n",
              "  array([ 0.34789333, -3.88965912]),\n",
              "  array([ 0.97700138, -5.7984931 ]),\n",
              "  array([-1.74093095, -4.89176978]),\n",
              "  array([ 5.85943906, -8.38192364]),\n",
              "  array([-1.10955714, -5.62713692]),\n",
              "  array([ 0.24431303, -6.01897701]),\n",
              "  array([  5.55912116, -10.06110303]),\n",
              "  array([ 5.99156553, -9.73238127]),\n",
              "  array([ 4.46134719, -8.55668693]),\n",
              "  array([-1.05461272, -5.34366793]),\n",
              "  array([  6.91094987, -10.6647659 ]),\n",
              "  array([ 2.19518988, -5.38688567]),\n",
              "  array([  3.44868458, -11.32833331]),\n",
              "  array([ 6.55010412, -7.9123388 ]),\n",
              "  array([-0.07790108, -5.98485443]),\n",
              "  array([ 7.82111653, -8.66750208]),\n",
              "  array([ 0.48085466, -5.08976945]),\n",
              "  array([ 6.08664442, -9.9358329 ]),\n",
              "  array([ 5.06391368, -9.7068667 ]),\n",
              "  array([-1.15296379, -5.89279504]),\n",
              "  array([ 0.10327774, -4.30132322]),\n",
              "  array([ 1.13730861, -6.0760439 ]),\n",
              "  array([  6.55519802, -10.28277104]),\n",
              "  array([ 5.655043 , -9.1398234]),\n",
              "  array([ 0.50402506, -4.76009269]),\n",
              "  array([-0.36296092, -6.29545786]),\n",
              "  array([ 0.3024902 , -4.36909392]),\n",
              "  array([ 6.73488595, -9.38994773]),\n",
              "  array([ 0.21475477, -5.68136591]),\n",
              "  array([ 0.91264065, -8.48366386]),\n",
              "  array([ 5.15516488, -8.97175683]),\n",
              "  array([ 5.4307043 , -9.75956122]),\n",
              "  array([ 5.74576929, -9.12405811]),\n",
              "  array([ 4.62182172, -9.79765865]),\n",
              "  array([-0.74265919, -5.76492657]),\n",
              "  array([-1.45074027, -6.18301386]),\n",
              "  array([ 5.08727262, -9.27279108]),\n",
              "  array([ 1.07026962, -4.93971456]),\n",
              "  array([ 0.4310287 , -4.84169308]),\n",
              "  array([  5.19423061, -10.08668991]),\n",
              "  array([  6.47259572, -11.00351704]),\n",
              "  array([  5.34529068, -10.11425709]),\n",
              "  array([ 0.32361786, -5.71134658]),\n",
              "  array([-0.26686394, -5.44678194]),\n",
              "  array([-0.7369312 , -4.95740225]),\n",
              "  array([  4.48697951, -10.07429823]),\n",
              "  array([ 6.2686376 , -9.38138022]),\n",
              "  array([ 5.40050753, -9.29586681])],\n",
              " 2: [array([2.44301805, 3.84652646]),\n",
              "  array([2.94601402, 3.3575069 ]),\n",
              "  array([3.49996332, 3.02156553]),\n",
              "  array([2.09985134, 3.6556301 ]),\n",
              "  array([2.60711685, 2.84436554]),\n",
              "  array([2.89022984, 2.98168388]),\n",
              "  array([1.62783216, 4.17806883]),\n",
              "  array([2.79044036, 3.06862076])]}"
            ]
          },
          "metadata": {},
          "execution_count": 22
        }
      ]
    },
    {
      "cell_type": "code",
      "source": [
        "len(clusters[0]), len(clusters[1]), len(clusters[2])"
      ],
      "metadata": {
        "colab": {
          "base_uri": "https://localhost:8080/"
        },
        "id": "agULOe4zLxbW",
        "outputId": "ba165a59-3e03-4f6e-840e-1e7f79cc2ef9"
      },
      "execution_count": null,
      "outputs": [
        {
          "output_type": "execute_result",
          "data": {
            "text/plain": [
              "(25, 67, 8)"
            ]
          },
          "metadata": {},
          "execution_count": 23
        }
      ]
    },
    {
      "cell_type": "code",
      "source": [
        "plt.figure(figsize=(7, 7))\n",
        "\n",
        "for i in clusters:\n",
        "    for x in clusters[i]:\n",
        "        plt.scatter(x[0], x[1], color=colors[i])\n",
        "\n",
        "for i, centr in enumerate(centroids):\n",
        "    plt.scatter(centr[0], centr[1], marker='*', s=500, c=colors[i])\n",
        "    plt.text(centr[0]-0.1, centr[1]-0.2, f'{i+1}', fontsize=20);"
      ],
      "metadata": {
        "colab": {
          "base_uri": "https://localhost:8080/",
          "height": 428
        },
        "id": "bMfmNcrA4AbT",
        "outputId": "3c8964b1-89d3-403d-8933-af8abcbd11d4"
      },
      "execution_count": null,
      "outputs": [
        {
          "output_type": "display_data",
          "data": {
            "text/plain": [
              "<Figure size 504x504 with 1 Axes>"
            ],
            "image/png": "[encoded data removed]"
          },
          "metadata": {
            "needs_background": "light"
          }
        }
      ]
    },
    {
      "cell_type": "markdown",
      "source": [
        "\n",
        "4. Переместить каждый центроид в центр выборки, отнесенной к этому центроиду, определив его как среднее арифметическое всех точек кластера:\n",
        "\n",
        "$$c_{k} = \\frac{\\sum_{i=1}^{l}[a(x_{i})=k]x_{i}}{\\sum_{i=1}^{l}[a(x_{i}) = k]}.$$\n"
      ],
      "metadata": {
        "id": "hyEUNpogD6i3"
      }
    },
    {
      "cell_type": "markdown",
      "source": [
        "Пересчитаем центроиды как среднее по кластерам\n"
      ],
      "metadata": {
        "id": "tjyax93I6CUs"
      }
    },
    {
      "cell_type": "code",
      "source": [
        "centroids"
      ],
      "metadata": {
        "colab": {
          "base_uri": "https://localhost:8080/"
        },
        "id": "ZecA-l3W6Mvo",
        "outputId": "9a77dea5-b580-4653-cceb-28064f07af20"
      },
      "execution_count": null,
      "outputs": [
        {
          "output_type": "execute_result",
          "data": {
            "text/plain": [
              "array([[ 2.52859794,  4.5759393 ],\n",
              "       [-1.45074027, -6.18301386],\n",
              "       [ 2.44301805,  3.84652646]])"
            ]
          },
          "metadata": {},
          "execution_count": 25
        }
      ]
    },
    {
      "cell_type": "code",
      "source": [
        "new_centroids = {}\n",
        "for cluster in clusters:\n",
        "    new_centroids[cluster] = np.mean(clusters[cluster], axis=0)\n",
        "\n",
        "new_centroids"
      ],
      "metadata": {
        "colab": {
          "base_uri": "https://localhost:8080/"
        },
        "id": "6RoqGZ_Y6Bva",
        "outputId": "a08629e4-b996-4b17-ce36-e53121c2ebc7"
      },
      "execution_count": null,
      "outputs": [
        {
          "output_type": "execute_result",
          "data": {
            "text/plain": [
              "{0: array([2.91329082, 5.33493484]),\n",
              " 1: array([ 2.89504171, -7.53408753]),\n",
              " 2: array([2.61305824, 3.369246  ])}"
            ]
          },
          "metadata": {},
          "execution_count": 26
        }
      ]
    },
    {
      "cell_type": "code",
      "source": [
        "plt.figure(figsize=(7, 7))\n",
        "\n",
        "for i in clusters:\n",
        "    for x in clusters[i]:\n",
        "        plt.scatter(x[0], x[1], color=colors[i])\n",
        "\n",
        "for i, centr in enumerate(centroids):\n",
        "    plt.scatter(centr[0], centr[1], s=80, c=colors[i], marker='*', alpha=0.5, edgecolors='black')\n",
        "\n",
        "for i in new_centroids:\n",
        "    plt.scatter(new_centroids[i][0], new_centroids[i][1], marker='*', s=150, c=colors[i], edgecolors='black')"
      ],
      "metadata": {
        "colab": {
          "base_uri": "https://localhost:8080/",
          "height": 428
        },
        "id": "JU0IFq6C4T80",
        "outputId": "896134e2-0245-4b66-b71c-a6384534a8e9"
      },
      "execution_count": null,
      "outputs": [
        {
          "output_type": "display_data",
          "data": {
            "text/plain": [
              "<Figure size 504x504 with 1 Axes>"
            ],
            "image/png": "[encoded data removed]"
          },
          "metadata": {
            "needs_background": "light"
          }
        }
      ]
    },
    {
      "cell_type": "markdown",
      "source": [
        "#### Вторая итерация обучения"
      ],
      "metadata": {
        "id": "sdbva_hM4Tzm"
      }
    },
    {
      "cell_type": "markdown",
      "source": [
        "\n",
        "5. Повторить шаги 3-4 до сходимости алгоритма (обычно это оценивается по величине смещения центроида после каждого шага - сходимость означает непревышение смещения какого-то заданного значения)."
      ],
      "metadata": {
        "id": "OBLe1q9zD9lv"
      }
    },
    {
      "cell_type": "code",
      "source": [
        "new_centroids = dict(sorted(new_centroids.items()))\n",
        "new_centroids = np.array(list(new_centroids.values()))\n",
        "centroids = new_centroids.copy()\n",
        "centroids"
      ],
      "metadata": {
        "colab": {
          "base_uri": "https://localhost:8080/"
        },
        "id": "2wBR8yK7-BKT",
        "outputId": "442b813b-4bda-4119-e2b5-1b4a50a0fcfc"
      },
      "execution_count": null,
      "outputs": [
        {
          "output_type": "execute_result",
          "data": {
            "text/plain": [
              "array([[ 2.91329082,  5.33493484],\n",
              "       [ 2.89504171, -7.53408753],\n",
              "       [ 2.61305824,  3.369246  ]])"
            ]
          },
          "metadata": {},
          "execution_count": 32
        }
      ]
    },
    {
      "cell_type": "code",
      "source": [
        "clusters = {i: [] for i in range(k)}\n",
        "clusters"
      ],
      "metadata": {
        "colab": {
          "base_uri": "https://localhost:8080/"
        },
        "id": "Wix9W3dAL_WB",
        "outputId": "f943918a-119e-4ff0-f235-eee9d9c31795"
      },
      "execution_count": null,
      "outputs": [
        {
          "output_type": "execute_result",
          "data": {
            "text/plain": [
              "{0: [], 1: [], 2: []}"
            ]
          },
          "metadata": {},
          "execution_count": 33
        }
      ]
    },
    {
      "cell_type": "code",
      "source": [
        "for x in X:\n",
        "    distances = np.linalg.norm(centroids - x, axis=1)\n",
        "    cluster_ind = distances.argmin()\n",
        "    clusters[cluster_ind].append(x)\n",
        "\n",
        "clusters"
      ],
      "metadata": {
        "colab": {
          "base_uri": "https://localhost:8080/"
        },
        "id": "2pe3DbG292YE",
        "outputId": "6d0f7828-36f5-4c1f-eecd-bc3aa20f8316"
      },
      "execution_count": null,
      "outputs": [
        {
          "output_type": "execute_result",
          "data": {
            "text/plain": [
              "{0: [array([2.03300209, 5.28990817]),\n",
              "  array([3.78067293, 5.22062163]),\n",
              "  array([1.16464321, 5.59667831]),\n",
              "  array([4.32968132, 5.64396726]),\n",
              "  array([0.81677922, 4.75330395]),\n",
              "  array([2.52859794, 4.5759393 ]),\n",
              "  array([3.69548081, 5.14288792]),\n",
              "  array([2.37698085, 5.82428626]),\n",
              "  array([1.44712872, 4.75428451]),\n",
              "  array([2.96590542, 4.5052704 ]),\n",
              "  array([2.45717481, 5.96515011]),\n",
              "  array([4.05619693, 5.32231077]),\n",
              "  array([3.90917002, 7.44140273]),\n",
              "  array([2.62413419, 5.36941887]),\n",
              "  array([2.98771848, 7.44372871]),\n",
              "  array([5.0772903 , 4.23672091]),\n",
              "  array([4.65804929, 6.7208918 ]),\n",
              "  array([2.36013594, 4.62719573]),\n",
              "  array([2.23393846, 5.11718182]),\n",
              "  array([4.01289101, 5.00538736]),\n",
              "  array([1.75005543, 5.44582908]),\n",
              "  array([3.38492372, 5.8943468 ]),\n",
              "  array([2.19087156, 5.06566526])],\n",
              " 1: [array([-2.32496308, -6.6999964 ]),\n",
              "  array([ 0.51856831, -4.90086804]),\n",
              "  array([ 5.82662285, -9.92259335]),\n",
              "  array([  6.04774884, -10.30504657]),\n",
              "  array([-0.42084194, -4.24889336]),\n",
              "  array([ 5.69248303, -7.19999368]),\n",
              "  array([  5.15909568, -10.13427003]),\n",
              "  array([ 1.1882891 , -5.56058781]),\n",
              "  array([-0.31748917, -6.86337766]),\n",
              "  array([ 4.28981065, -9.44982413]),\n",
              "  array([ 5.31414039, -9.94714146]),\n",
              "  array([ 4.88653379, -8.87680099]),\n",
              "  array([ 1.95552599, -4.05690149]),\n",
              "  array([ 1.31468967, -5.01055177]),\n",
              "  array([ 5.52556208, -8.18696464]),\n",
              "  array([ 5.69192445, -9.47641249]),\n",
              "  array([ 0.91726632, -6.52637778]),\n",
              "  array([  6.68288513, -10.31693051]),\n",
              "  array([-0.43558928, -4.7222919 ]),\n",
              "  array([ 0.34789333, -3.88965912]),\n",
              "  array([ 0.97700138, -5.7984931 ]),\n",
              "  array([-1.74093095, -4.89176978]),\n",
              "  array([ 5.85943906, -8.38192364]),\n",
              "  array([-1.10955714, -5.62713692]),\n",
              "  array([ 0.24431303, -6.01897701]),\n",
              "  array([  5.55912116, -10.06110303]),\n",
              "  array([ 5.99156553, -9.73238127]),\n",
              "  array([ 4.46134719, -8.55668693]),\n",
              "  array([-1.05461272, -5.34366793]),\n",
              "  array([  6.91094987, -10.6647659 ]),\n",
              "  array([ 2.19518988, -5.38688567]),\n",
              "  array([  3.44868458, -11.32833331]),\n",
              "  array([ 6.55010412, -7.9123388 ]),\n",
              "  array([-0.07790108, -5.98485443]),\n",
              "  array([ 7.82111653, -8.66750208]),\n",
              "  array([ 0.48085466, -5.08976945]),\n",
              "  array([ 6.08664442, -9.9358329 ]),\n",
              "  array([ 5.06391368, -9.7068667 ]),\n",
              "  array([-1.15296379, -5.89279504]),\n",
              "  array([ 0.10327774, -4.30132322]),\n",
              "  array([ 1.13730861, -6.0760439 ]),\n",
              "  array([  6.55519802, -10.28277104]),\n",
              "  array([ 5.655043 , -9.1398234]),\n",
              "  array([ 0.50402506, -4.76009269]),\n",
              "  array([-0.36296092, -6.29545786]),\n",
              "  array([ 0.3024902 , -4.36909392]),\n",
              "  array([ 6.73488595, -9.38994773]),\n",
              "  array([ 0.21475477, -5.68136591]),\n",
              "  array([ 0.91264065, -8.48366386]),\n",
              "  array([ 5.15516488, -8.97175683]),\n",
              "  array([ 5.4307043 , -9.75956122]),\n",
              "  array([ 5.74576929, -9.12405811]),\n",
              "  array([ 4.62182172, -9.79765865]),\n",
              "  array([-0.74265919, -5.76492657]),\n",
              "  array([-1.45074027, -6.18301386]),\n",
              "  array([ 5.08727262, -9.27279108]),\n",
              "  array([ 1.07026962, -4.93971456]),\n",
              "  array([ 0.4310287 , -4.84169308]),\n",
              "  array([  5.19423061, -10.08668991]),\n",
              "  array([  6.47259572, -11.00351704]),\n",
              "  array([  5.34529068, -10.11425709]),\n",
              "  array([ 0.32361786, -5.71134658]),\n",
              "  array([-0.26686394, -5.44678194]),\n",
              "  array([-0.7369312 , -4.95740225]),\n",
              "  array([  4.48697951, -10.07429823]),\n",
              "  array([ 6.2686376 , -9.38138022]),\n",
              "  array([ 5.40050753, -9.29586681])],\n",
              " 2: [array([2.44301805, 3.84652646]),\n",
              "  array([3.37979515, 4.18880872]),\n",
              "  array([2.94601402, 3.3575069 ]),\n",
              "  array([3.49996332, 3.02156553]),\n",
              "  array([2.61105267, 4.22218469]),\n",
              "  array([2.09985134, 3.6556301 ]),\n",
              "  array([2.60711685, 2.84436554]),\n",
              "  array([2.89022984, 2.98168388]),\n",
              "  array([1.62783216, 4.17806883]),\n",
              "  array([2.79044036, 3.06862076])]}"
            ]
          },
          "metadata": {},
          "execution_count": 34
        }
      ]
    },
    {
      "cell_type": "code",
      "source": [
        "len(clusters[0]), len(clusters[1]), len(clusters[2])"
      ],
      "metadata": {
        "colab": {
          "base_uri": "https://localhost:8080/"
        },
        "id": "cHZRUVWlL8Ps",
        "outputId": "bb9cc348-9951-4a90-b201-9ddfe5e2df86"
      },
      "execution_count": null,
      "outputs": [
        {
          "output_type": "execute_result",
          "data": {
            "text/plain": [
              "(23, 67, 10)"
            ]
          },
          "metadata": {},
          "execution_count": 35
        }
      ]
    },
    {
      "cell_type": "code",
      "source": [
        "new_centroids = {}\n",
        "for cluster in clusters:\n",
        "    new_centroids[cluster] = np.mean(clusters[cluster], axis=0)\n",
        "\n",
        "new_centroids"
      ],
      "metadata": {
        "colab": {
          "base_uri": "https://localhost:8080/"
        },
        "id": "S3zzcpAe_Rin",
        "outputId": "cf5389db-cd29-41a0-923b-7eb2e0819a4b"
      },
      "execution_count": null,
      "outputs": [
        {
          "output_type": "execute_result",
          "data": {
            "text/plain": [
              "{0: array([2.90614881, 5.43314686]),\n",
              " 1: array([ 2.89504171, -7.53408753]),\n",
              " 2: array([2.68953138, 3.53649614])}"
            ]
          },
          "metadata": {},
          "execution_count": 36
        }
      ]
    },
    {
      "cell_type": "code",
      "source": [
        "plt.figure(figsize=(7, 7))\n",
        "\n",
        "for i in clusters:\n",
        "    for x in clusters[i]:\n",
        "        plt.scatter(x[0], x[1], color=colors[i])\n",
        "\n",
        "for i, centr in enumerate(centroids):\n",
        "    plt.scatter(centr[0], centr[1], marker='*', s=500, c=colors[i])\n",
        "\n",
        "for i in new_centroids:\n",
        "    plt.scatter(new_centroids[i][0], new_centroids[i][1], marker='*', s=150, c=colors[i], edgecolors='black')"
      ],
      "metadata": {
        "colab": {
          "base_uri": "https://localhost:8080/",
          "height": 428
        },
        "id": "ILQIKUcH-svv",
        "outputId": "76de8106-765e-44a7-f740-c630f3bdd0ae"
      },
      "execution_count": null,
      "outputs": [
        {
          "output_type": "display_data",
          "data": {
            "text/plain": [
              "<Figure size 504x504 with 1 Axes>"
            ],
            "image/png": "[encoded data removed]"
          },
          "metadata": {
            "needs_background": "light"
          }
        }
      ]
    },
    {
      "cell_type": "markdown",
      "source": [
        "### Функция для обучения KMeans"
      ],
      "metadata": {
        "id": "oQ1d_0ZN92TE"
      }
    },
    {
      "cell_type": "code",
      "source": [
        "from tqdm import tqdm\n",
        "\n",
        "def KMeans(X, k=3, num_iter=10):\n",
        "    np.random.seed(0)\n",
        "    centroid_ids = np.random.choice(X.shape[0], k, replace=False)\n",
        "    centroids = X[centroid_ids]\n",
        "\n",
        "    for i in tqdm(range(num_iter)):\n",
        "        clusters = {i: [] for i in range(k)}\n",
        "\n",
        "        for x in X:\n",
        "            distances = np.linalg.norm(centroids - x, axis=1)\n",
        "            cluster_ind = distances.argmin()\n",
        "            clusters[cluster_ind].append(x)\n",
        "\n",
        "        new_centroids = {}\n",
        "        for cluster in clusters:\n",
        "            new_centroids[cluster] = np.mean(clusters[cluster], axis=0)\n",
        "\n",
        "        new_centroids = dict(sorted(new_centroids.items()))\n",
        "        new_centroids = np.array(list(new_centroids.values()))\n",
        "        centroids = new_centroids.copy()\n",
        "\n",
        "    return centroids, clusters"
      ],
      "metadata": {
        "id": "UVFYzA3n_g7F"
      },
      "execution_count": null,
      "outputs": []
    },
    {
      "cell_type": "code",
      "source": [
        "centroids, clusters = KMeans(X)\n",
        "centroids"
      ],
      "metadata": {
        "colab": {
          "base_uri": "https://localhost:8080/"
        },
        "id": "It2WN6vE_Z7j",
        "outputId": "6abd6964-be1f-4f44-9ce5-d842660b337b"
      },
      "execution_count": null,
      "outputs": [
        {
          "output_type": "stream",
          "name": "stderr",
          "text": [
            "100%|██████████| 10/10 [00:00<00:00, 525.94it/s]\n"
          ]
        },
        {
          "output_type": "execute_result",
          "data": {
            "text/plain": [
              "array([[ 2.90614881,  5.43314686],\n",
              "       [ 2.89504171, -7.53408753],\n",
              "       [ 2.68953138,  3.53649614]])"
            ]
          },
          "metadata": {},
          "execution_count": 42
        }
      ]
    },
    {
      "cell_type": "code",
      "source": [
        "clusters"
      ],
      "metadata": {
        "colab": {
          "base_uri": "https://localhost:8080/"
        },
        "id": "lFpBT9DiAc80",
        "outputId": "0af9f7e4-5aec-4877-ab2a-b7e1ac16552e"
      },
      "execution_count": null,
      "outputs": [
        {
          "output_type": "execute_result",
          "data": {
            "text/plain": [
              "{0: [array([2.03300209, 5.28990817]),\n",
              "  array([3.78067293, 5.22062163]),\n",
              "  array([1.16464321, 5.59667831]),\n",
              "  array([4.32968132, 5.64396726]),\n",
              "  array([0.81677922, 4.75330395]),\n",
              "  array([2.52859794, 4.5759393 ]),\n",
              "  array([3.69548081, 5.14288792]),\n",
              "  array([2.37698085, 5.82428626]),\n",
              "  array([1.44712872, 4.75428451]),\n",
              "  array([2.96590542, 4.5052704 ]),\n",
              "  array([2.45717481, 5.96515011]),\n",
              "  array([4.05619693, 5.32231077]),\n",
              "  array([3.90917002, 7.44140273]),\n",
              "  array([2.62413419, 5.36941887]),\n",
              "  array([2.98771848, 7.44372871]),\n",
              "  array([5.0772903 , 4.23672091]),\n",
              "  array([4.65804929, 6.7208918 ]),\n",
              "  array([2.36013594, 4.62719573]),\n",
              "  array([2.23393846, 5.11718182]),\n",
              "  array([4.01289101, 5.00538736]),\n",
              "  array([1.75005543, 5.44582908]),\n",
              "  array([3.38492372, 5.8943468 ]),\n",
              "  array([2.19087156, 5.06566526])],\n",
              " 1: [array([-2.32496308, -6.6999964 ]),\n",
              "  array([ 0.51856831, -4.90086804]),\n",
              "  array([ 5.82662285, -9.92259335]),\n",
              "  array([  6.04774884, -10.30504657]),\n",
              "  array([-0.42084194, -4.24889336]),\n",
              "  array([ 5.69248303, -7.19999368]),\n",
              "  array([  5.15909568, -10.13427003]),\n",
              "  array([ 1.1882891 , -5.56058781]),\n",
              "  array([-0.31748917, -6.86337766]),\n",
              "  array([ 4.28981065, -9.44982413]),\n",
              "  array([ 5.31414039, -9.94714146]),\n",
              "  array([ 4.88653379, -8.87680099]),\n",
              "  array([ 1.95552599, -4.05690149]),\n",
              "  array([ 1.31468967, -5.01055177]),\n",
              "  array([ 5.52556208, -8.18696464]),\n",
              "  array([ 5.69192445, -9.47641249]),\n",
              "  array([ 0.91726632, -6.52637778]),\n",
              "  array([  6.68288513, -10.31693051]),\n",
              "  array([-0.43558928, -4.7222919 ]),\n",
              "  array([ 0.34789333, -3.88965912]),\n",
              "  array([ 0.97700138, -5.7984931 ]),\n",
              "  array([-1.74093095, -4.89176978]),\n",
              "  array([ 5.85943906, -8.38192364]),\n",
              "  array([-1.10955714, -5.62713692]),\n",
              "  array([ 0.24431303, -6.01897701]),\n",
              "  array([  5.55912116, -10.06110303]),\n",
              "  array([ 5.99156553, -9.73238127]),\n",
              "  array([ 4.46134719, -8.55668693]),\n",
              "  array([-1.05461272, -5.34366793]),\n",
              "  array([  6.91094987, -10.6647659 ]),\n",
              "  array([ 2.19518988, -5.38688567]),\n",
              "  array([  3.44868458, -11.32833331]),\n",
              "  array([ 6.55010412, -7.9123388 ]),\n",
              "  array([-0.07790108, -5.98485443]),\n",
              "  array([ 7.82111653, -8.66750208]),\n",
              "  array([ 0.48085466, -5.08976945]),\n",
              "  array([ 6.08664442, -9.9358329 ]),\n",
              "  array([ 5.06391368, -9.7068667 ]),\n",
              "  array([-1.15296379, -5.89279504]),\n",
              "  array([ 0.10327774, -4.30132322]),\n",
              "  array([ 1.13730861, -6.0760439 ]),\n",
              "  array([  6.55519802, -10.28277104]),\n",
              "  array([ 5.655043 , -9.1398234]),\n",
              "  array([ 0.50402506, -4.76009269]),\n",
              "  array([-0.36296092, -6.29545786]),\n",
              "  array([ 0.3024902 , -4.36909392]),\n",
              "  array([ 6.73488595, -9.38994773]),\n",
              "  array([ 0.21475477, -5.68136591]),\n",
              "  array([ 0.91264065, -8.48366386]),\n",
              "  array([ 5.15516488, -8.97175683]),\n",
              "  array([ 5.4307043 , -9.75956122]),\n",
              "  array([ 5.74576929, -9.12405811]),\n",
              "  array([ 4.62182172, -9.79765865]),\n",
              "  array([-0.74265919, -5.76492657]),\n",
              "  array([-1.45074027, -6.18301386]),\n",
              "  array([ 5.08727262, -9.27279108]),\n",
              "  array([ 1.07026962, -4.93971456]),\n",
              "  array([ 0.4310287 , -4.84169308]),\n",
              "  array([  5.19423061, -10.08668991]),\n",
              "  array([  6.47259572, -11.00351704]),\n",
              "  array([  5.34529068, -10.11425709]),\n",
              "  array([ 0.32361786, -5.71134658]),\n",
              "  array([-0.26686394, -5.44678194]),\n",
              "  array([-0.7369312 , -4.95740225]),\n",
              "  array([  4.48697951, -10.07429823]),\n",
              "  array([ 6.2686376 , -9.38138022]),\n",
              "  array([ 5.40050753, -9.29586681])],\n",
              " 2: [array([2.44301805, 3.84652646]),\n",
              "  array([3.37979515, 4.18880872]),\n",
              "  array([2.94601402, 3.3575069 ]),\n",
              "  array([3.49996332, 3.02156553]),\n",
              "  array([2.61105267, 4.22218469]),\n",
              "  array([2.09985134, 3.6556301 ]),\n",
              "  array([2.60711685, 2.84436554]),\n",
              "  array([2.89022984, 2.98168388]),\n",
              "  array([1.62783216, 4.17806883]),\n",
              "  array([2.79044036, 3.06862076])]}"
            ]
          },
          "metadata": {},
          "execution_count": 43
        }
      ]
    },
    {
      "cell_type": "code",
      "source": [
        "plt.figure(figsize=(7, 7))\n",
        "\n",
        "for i in clusters:\n",
        "    for x in clusters[i]:\n",
        "        plt.scatter(x[0], x[1], color=colors[i])\n",
        "\n",
        "for i, centr in enumerate(centroids):\n",
        "    plt.scatter(centr[0], centr[1], marker='*', s=500, c=colors[i])"
      ],
      "metadata": {
        "colab": {
          "base_uri": "https://localhost:8080/",
          "height": 428
        },
        "id": "7GDoJsOXAMS1",
        "outputId": "fba35430-75cd-4948-ebe1-4a18fb99f59c"
      },
      "execution_count": null,
      "outputs": [
        {
          "output_type": "display_data",
          "data": {
            "text/plain": [
              "<Figure size 504x504 with 1 Axes>"
            ],
            "image/png": "[encoded data removed]"
          },
          "metadata": {
            "needs_background": "light"
          }
        }
      ]
    },
    {
      "cell_type": "markdown",
      "source": [
        "### Функция для обучения KMeans с критерием останова"
      ],
      "metadata": {
        "id": "yNsaknC3A3g3"
      }
    },
    {
      "cell_type": "code",
      "source": [
        "def KMeans(X, k=3, num_iter=10, min_distance=1e-4, seed=0):\n",
        "    np.random.seed(seed)\n",
        "    centroid_ids = np.random.choice(X.shape[0], k, replace=False)\n",
        "    centroids = X[centroid_ids]\n",
        "\n",
        "    for i in range(num_iter):\n",
        "        clusters = {i: [] for i in range(k)}\n",
        "\n",
        "        for x in X:\n",
        "            distances = np.linalg.norm(centroids - x, axis=1)\n",
        "            cluster_ind = distances.argmin()\n",
        "            clusters[cluster_ind].append(x)\n",
        "\n",
        "        new_centroids = {}\n",
        "        for cluster in clusters:\n",
        "            new_centroids[cluster] = np.mean(clusters[cluster], axis=0)\n",
        "\n",
        "        new_centroids = dict(sorted(new_centroids.items()))\n",
        "        new_centroids = np.array(list(new_centroids.values()))\n",
        "\n",
        "        print(len(clusters[0]), len(clusters[1]), len(clusters[2]))\n",
        "        print(new_centroids)\n",
        "\n",
        "        is_stop = True\n",
        "        for clust in range(len(centroids)):\n",
        "            if np.linalg.norm(centroids[clust] - new_centroids[clust]) > min_distance:\n",
        "                is_stop = False\n",
        "                break\n",
        "        if is_stop:\n",
        "            print(f'stopping at iter {i}')\n",
        "            break\n",
        "\n",
        "        centroids = new_centroids.copy()\n",
        "\n",
        "    return centroids, clusters"
      ],
      "metadata": {
        "id": "b5W2jDPuBE-g"
      },
      "execution_count": null,
      "outputs": []
    },
    {
      "cell_type": "code",
      "source": [
        "centroids, clusters = KMeans(X)\n",
        "centroids"
      ],
      "metadata": {
        "colab": {
          "base_uri": "https://localhost:8080/"
        },
        "id": "7LvC8VHdCOaS",
        "outputId": "acfbdf71-1dd7-48d8-cc0a-2380e05cd2f4"
      },
      "execution_count": null,
      "outputs": [
        {
          "output_type": "stream",
          "name": "stdout",
          "text": [
            "25 67 8\n",
            "[[ 2.91329082  5.33493484]\n",
            " [ 2.89504171 -7.53408753]\n",
            " [ 2.61305824  3.369246  ]]\n",
            "23 67 10\n",
            "[[ 2.90614881  5.43314686]\n",
            " [ 2.89504171 -7.53408753]\n",
            " [ 2.68953138  3.53649614]]\n",
            "23 67 10\n",
            "[[ 2.90614881  5.43314686]\n",
            " [ 2.89504171 -7.53408753]\n",
            " [ 2.68953138  3.53649614]]\n",
            "stopping at iter 2\n"
          ]
        },
        {
          "output_type": "execute_result",
          "data": {
            "text/plain": [
              "array([[ 2.90614881,  5.43314686],\n",
              "       [ 2.89504171, -7.53408753],\n",
              "       [ 2.68953138,  3.53649614]])"
            ]
          },
          "metadata": {},
          "execution_count": 48
        }
      ]
    },
    {
      "cell_type": "code",
      "source": [
        "centr1 = np.array([[ 2.91329082,  5.33493484],\n",
        "                   [ 2.89504171, -7.53408753],\n",
        "                   [ 2.61305824,  3.369246  ]])\n",
        "centr2 = np.array([[ 2.90614881,  5.43314686],\n",
        "                   [ 2.89504171, -7.53408753],\n",
        "                   [ 2.68953138,  3.53649614]])\n",
        "centr3 = np.array([[ 2.90614881,  5.43314686],\n",
        "                   [ 2.89504171, -7.53408753],\n",
        "                   [ 2.68953138,  3.53649614]])"
      ],
      "metadata": {
        "id": "Bkqt4fYPDONR"
      },
      "execution_count": null,
      "outputs": []
    },
    {
      "cell_type": "code",
      "source": [
        "plt.figure(figsize=(7, 7))\n",
        "\n",
        "for i, centr in enumerate(centr1):\n",
        "    # plt.scatter(centr1[i][0], centr1[i][1], marker='*', s=100, c=colors[i])\n",
        "    plt.scatter(centr2[i][0], centr2[i][1], marker='^', s=100, c=colors[i])\n",
        "    plt.scatter(centr3[i][0], centr3[i][1], marker='o', s=100, c=colors[i])"
      ],
      "metadata": {
        "colab": {
          "base_uri": "https://localhost:8080/",
          "height": 430
        },
        "id": "dJgwUoWhDJ5A",
        "outputId": "6b4ec873-80ca-4747-80f9-2222ac8b760e"
      },
      "execution_count": null,
      "outputs": [
        {
          "output_type": "display_data",
          "data": {
            "text/plain": [
              "<Figure size 504x504 with 1 Axes>"
            ],
            "image/png": "[encoded data removed]"
          },
          "metadata": {
            "needs_background": "light"
          }
        }
      ]
    },
    {
      "cell_type": "code",
      "source": [
        "np.linalg.norm(centr2[0] - centr3[0])"
      ],
      "metadata": {
        "colab": {
          "base_uri": "https://localhost:8080/"
        },
        "id": "o8DOIm2JEhgE",
        "outputId": "96a1cc5e-e8ae-4648-ac8d-48cdf18a5e33"
      },
      "execution_count": null,
      "outputs": [
        {
          "output_type": "execute_result",
          "data": {
            "text/plain": [
              "0.0"
            ]
          },
          "metadata": {},
          "execution_count": 52
        }
      ]
    },
    {
      "cell_type": "markdown",
      "source": [
        "Поменяем seed для другой инициализации стартовых центроид"
      ],
      "metadata": {
        "id": "6TU6IlGlNWAc"
      }
    },
    {
      "cell_type": "code",
      "source": [
        "centroids, clusters = KMeans(X, seed=1)\n",
        "centroids"
      ],
      "metadata": {
        "colab": {
          "base_uri": "https://localhost:8080/"
        },
        "id": "Gj0pwv0zNg8u",
        "outputId": "8512fc50-0cf7-40e4-d57f-4051fb0399be"
      },
      "execution_count": null,
      "outputs": [
        {
          "output_type": "stream",
          "name": "stdout",
          "text": [
            "26 66 8\n",
            "[[  5.29660654  -9.38045292]\n",
            " [  1.46485965  -0.3030066 ]\n",
            " [  6.66400306 -10.07078922]]\n",
            "29 61 10\n",
            "[[ 4.49298218 -8.90049529]\n",
            " [ 1.50550525  0.21865431]\n",
            " [ 6.55722276 -9.96800753]]\n",
            "33 48 19\n",
            "[[ 2.34915724 -7.50785928]\n",
            " [ 1.95733764  1.86223045]\n",
            " [ 6.11737555 -9.79390688]]\n",
            "33 33 34\n",
            "[[ 0.08921213 -5.46441742]\n",
            " [ 2.84050716  4.85840422]\n",
            " [ 5.6183469  -9.54288499]]\n",
            "33 33 34\n",
            "[[ 0.08921213 -5.46441742]\n",
            " [ 2.84050716  4.85840422]\n",
            " [ 5.6183469  -9.54288499]]\n",
            "stopping at iter 4\n"
          ]
        },
        {
          "output_type": "execute_result",
          "data": {
            "text/plain": [
              "array([[ 0.08921213, -5.46441742],\n",
              "       [ 2.84050716,  4.85840422],\n",
              "       [ 5.6183469 , -9.54288499]])"
            ]
          },
          "metadata": {},
          "execution_count": 53
        }
      ]
    },
    {
      "cell_type": "code",
      "source": [
        "plt.figure(figsize=(7, 7))\n",
        "\n",
        "for i in clusters:\n",
        "    for x in clusters[i]:\n",
        "        plt.scatter(x[0], x[1], color=colors[i])\n",
        "\n",
        "for i, centr in enumerate(centroids):\n",
        "    plt.scatter(centr[0], centr[1], marker='*', s=500, c=colors[i])\n",
        "    plt.text(centr[0]-0.1, centr[1]-0.2, f'{i+1}', fontsize=20);"
      ],
      "metadata": {
        "colab": {
          "base_uri": "https://localhost:8080/",
          "height": 428
        },
        "id": "zdZ2simvNsbq",
        "outputId": "60ef9a28-3478-4724-c5d3-a9a0b01276d9"
      },
      "execution_count": null,
      "outputs": [
        {
          "output_type": "display_data",
          "data": {
            "text/plain": [
              "<Figure size 504x504 with 1 Axes>"
            ],
            "image/png": "[encoded data removed]"
          },
          "metadata": {
            "needs_background": "light"
          }
        }
      ]
    },
    {
      "cell_type": "markdown",
      "source": [
        "Хотелось бы не перебирать случайность, пока не повезет, а иметь другой более умный способ инициализации центроид - это KMeans++"
      ],
      "metadata": {
        "id": "rt9QuCA6NyTF"
      }
    },
    {
      "cell_type": "markdown",
      "source": [
        "## KMeans в sklearn"
      ],
      "metadata": {
        "id": "qtLnf-ocEGHj"
      }
    },
    {
      "cell_type": "code",
      "source": [
        "from sklearn.cluster import KMeans as sk_KMeans\n",
        "\n",
        "model = sk_KMeans(n_clusters=3,\n",
        "                  init='k-means++',\n",
        "                  max_iter=10,\n",
        "                  random_state=0)\n",
        "\n",
        "model.fit(X)"
      ],
      "metadata": {
        "colab": {
          "base_uri": "https://localhost:8080/"
        },
        "id": "zzG0HOq2ES6g",
        "outputId": "144af2f2-4aa3-449b-f98a-43a71ae7f139"
      },
      "execution_count": null,
      "outputs": [
        {
          "output_type": "execute_result",
          "data": {
            "text/plain": [
              "KMeans(max_iter=10, n_clusters=3, random_state=0)"
            ]
          },
          "metadata": {},
          "execution_count": 55
        }
      ]
    },
    {
      "cell_type": "code",
      "source": [
        "labels = model.predict(X)\n",
        "labels[:10]"
      ],
      "metadata": {
        "colab": {
          "base_uri": "https://localhost:8080/"
        },
        "id": "nysmpXX6EsIa",
        "outputId": "eba3728e-5067-4958-82f1-256f0b633d0f"
      },
      "execution_count": null,
      "outputs": [
        {
          "output_type": "execute_result",
          "data": {
            "text/plain": [
              "array([1, 1, 0, 2, 0, 0, 2, 1, 0, 2], dtype=int32)"
            ]
          },
          "metadata": {},
          "execution_count": 56
        }
      ]
    },
    {
      "cell_type": "code",
      "source": [
        "plt.figure(figsize=(7, 7))\n",
        "\n",
        "for i in range(len(labels)):\n",
        "    plt.scatter(X[i, 0], X[i, 1], color=colors[labels[i]])"
      ],
      "metadata": {
        "colab": {
          "base_uri": "https://localhost:8080/",
          "height": 428
        },
        "id": "tG8F3vyYErQ5",
        "outputId": "71419525-7514-4006-d6d8-8e1e46b66c3d"
      },
      "execution_count": null,
      "outputs": [
        {
          "output_type": "display_data",
          "data": {
            "text/plain": [
              "<Figure size 504x504 with 1 Axes>"
            ],
            "image/png": "[encoded data removed]"
          },
          "metadata": {
            "needs_background": "light"
          }
        }
      ]
    },
    {
      "cell_type": "code",
      "source": [
        "model.cluster_centers_"
      ],
      "metadata": {
        "colab": {
          "base_uri": "https://localhost:8080/"
        },
        "id": "HjWmbWjQFdYK",
        "outputId": "f3e001f9-5310-4653-f7c4-774c65ef7606"
      },
      "execution_count": null,
      "outputs": [
        {
          "output_type": "execute_result",
          "data": {
            "text/plain": [
              "array([[ 2.84050716,  4.85840422],\n",
              "       [ 0.08921213, -5.46441742],\n",
              "       [ 5.6183469 , -9.54288499]])"
            ]
          },
          "metadata": {},
          "execution_count": 59
        }
      ]
    },
    {
      "cell_type": "code",
      "source": [
        "plt.figure(figsize=(7, 7))\n",
        "\n",
        "for i in range(len(labels)):\n",
        "    plt.scatter(X[i, 0], X[i, 1], color=colors[labels[i]])\n",
        "\n",
        "for i, centr in enumerate(model.cluster_centers_):\n",
        "    plt.scatter(centr[0], centr[1], marker='*', s=500, c=colors[i])\n",
        "    plt.text(centr[0]-0.1, centr[1]-0.2, f'{i+1}', fontsize=20);"
      ],
      "metadata": {
        "colab": {
          "base_uri": "https://localhost:8080/",
          "height": 428
        },
        "id": "pKUBMRrwFgFn",
        "outputId": "9d8f83d4-2037-41f7-a400-d1aa941d5209"
      },
      "execution_count": null,
      "outputs": [
        {
          "output_type": "display_data",
          "data": {
            "text/plain": [
              "<Figure size 504x504 with 1 Axes>"
            ],
            "image/png": "[encoded data removed]"
          },
          "metadata": {
            "needs_background": "light"
          }
        }
      ]
    },
    {
      "cell_type": "markdown",
      "source": [
        "## Выводы:\n",
        "\n",
        "Вот мы и разобрались, как можно обучить модель KMeans, а именно\n",
        "1. Реализовали функцию для обучения модели\n",
        "2. Сделали критерий останова для KMeans\n",
        "3. Обсудили проблему начальной инициализации центроид в KMeans\n",
        "4. Визуализировали работу модели\n",
        "5. Посмотрели на реализацию в sklearn"
      ],
      "metadata": {
        "id": "NLm3MFeQNENl"
      }
    },
    {
      "cell_type": "markdown",
      "source": [
        "# Инициализация центроид KMeans++"
      ],
      "metadata": {
        "id": "9-eZb4UanoSx"
      }
    },
    {
      "cell_type": "markdown",
      "source": [
        "## Содержание\n",
        "\n",
        "1. Поймем проблему случайной инициализации центроид\n",
        "2. Реализуем выбор стартовых центроид, как самых удаленных точек\n",
        "3. Попробуем KMeans++ из sklearn\n",
        "3. Сделаем реализацию KMeans++ из статьи  "
      ],
      "metadata": {
        "id": "UzMJ4YAFnoS7"
      }
    },
    {
      "cell_type": "markdown",
      "source": [
        "## Инициализация центроид KMeans++"
      ],
      "metadata": {
        "id": "cjfIebMtfBBt"
      }
    },
    {
      "cell_type": "markdown",
      "metadata": {
        "id": "mYuH2k_YnoS8"
      },
      "source": [
        "### Инициализация случайная"
      ]
    },
    {
      "cell_type": "markdown",
      "metadata": {
        "id": "D4jD26_JnoS8"
      },
      "source": [
        "Вначале сгенерируем три облака точек с помощью `sklearn`."
      ]
    },
    {
      "cell_type": "code",
      "execution_count": null,
      "metadata": {
        "id": "Ku2FFHZbnoS8"
      },
      "outputs": [],
      "source": [
        "import matplotlib.pyplot as plt\n",
        "import numpy as np"
      ]
    },
    {
      "cell_type": "code",
      "execution_count": null,
      "metadata": {
        "id": "wXqMHohpnoS8"
      },
      "outputs": [],
      "source": [
        "from sklearn.datasets import make_blobs\n",
        "\n",
        "X, y = make_blobs(n_samples=100, random_state=10)"
      ]
    },
    {
      "cell_type": "code",
      "execution_count": null,
      "metadata": {
        "outputId": "9f7d55c4-8021-4560-f558-70b89172634a",
        "colab": {
          "base_uri": "https://localhost:8080/",
          "height": 428
        },
        "id": "EtgQIP2pnoS8"
      },
      "outputs": [
        {
          "output_type": "display_data",
          "data": {
            "text/plain": [
              "<Figure size 504x504 with 1 Axes>"
            ],
            "image/png": "[encoded data removed]"
          },
          "metadata": {
            "needs_background": "light"
          }
        }
      ],
      "source": [
        "plt.figure(figsize=(7, 7))\n",
        "plt.scatter(X[:, 0], X[:, 1]);"
      ]
    },
    {
      "cell_type": "markdown",
      "source": [
        "Инициализируем центроиды"
      ],
      "metadata": {
        "id": "eDKTMRNDnoS9"
      }
    },
    {
      "cell_type": "code",
      "source": [
        "k = 3"
      ],
      "metadata": {
        "id": "TMqlgMT_noS9"
      },
      "execution_count": null,
      "outputs": []
    },
    {
      "cell_type": "code",
      "source": [
        "np.random.seed(0)\n",
        "centroid_ids = np.random.choice(X.shape[0], k, replace=False)\n",
        "centroid_ids"
      ],
      "metadata": {
        "colab": {
          "base_uri": "https://localhost:8080/"
        },
        "outputId": "55d2068f-7d4b-47f1-955f-fa34bd64d913",
        "id": "wFF-BuVrnoS-"
      },
      "execution_count": null,
      "outputs": [
        {
          "output_type": "execute_result",
          "data": {
            "text/plain": [
              "array([26, 86,  2])"
            ]
          },
          "metadata": {},
          "execution_count": 6
        }
      ]
    },
    {
      "cell_type": "code",
      "source": [
        "centroids = X[centroid_ids]\n",
        "centroids"
      ],
      "metadata": {
        "colab": {
          "base_uri": "https://localhost:8080/"
        },
        "outputId": "dccb727b-9dc8-4f89-99d8-5a3c113f6196",
        "id": "pz4wxgEunoS-"
      },
      "execution_count": null,
      "outputs": [
        {
          "output_type": "execute_result",
          "data": {
            "text/plain": [
              "array([[ 2.52859794,  4.5759393 ],\n",
              "       [-1.45074027, -6.18301386],\n",
              "       [ 2.44301805,  3.84652646]])"
            ]
          },
          "metadata": {},
          "execution_count": 7
        }
      ]
    },
    {
      "cell_type": "code",
      "source": [
        "plt.figure(figsize=(7, 7))\n",
        "plt.scatter(X[:, 0], X[:, 1])\n",
        "plt.scatter(centroids[:, 0], centroids[:, 1], marker='*', s=100);"
      ],
      "metadata": {
        "colab": {
          "base_uri": "https://localhost:8080/",
          "height": 428
        },
        "outputId": "3809ba12-da03-48a2-c132-9378113829ea",
        "id": "x9smp-jrnoS-"
      },
      "execution_count": null,
      "outputs": [
        {
          "output_type": "display_data",
          "data": {
            "text/plain": [
              "<Figure size 504x504 with 1 Axes>"
            ],
            "image/png": "[encoded data removed]"
          },
          "metadata": {
            "needs_background": "light"
          }
        }
      ]
    },
    {
      "cell_type": "code",
      "source": [
        "colors = ['green', 'orange', 'red']"
      ],
      "metadata": {
        "id": "k0CZ9-g3noS-"
      },
      "execution_count": null,
      "outputs": []
    },
    {
      "cell_type": "markdown",
      "source": [
        "### Функция для обучения KMeans"
      ],
      "metadata": {
        "id": "eD_8wmcJnoS-"
      }
    },
    {
      "cell_type": "code",
      "source": [
        "def KMeans(X, k=3, num_iter=10, min_distance=1e-4, seed=0):\n",
        "    np.random.seed(seed)\n",
        "    centroid_ids = np.random.choice(X.shape[0], k, replace=False)\n",
        "    centroids = X[centroid_ids]\n",
        "\n",
        "    for i in range(num_iter):\n",
        "        clusters = {i: [] for i in range(k)}\n",
        "\n",
        "        for x in X:\n",
        "            distances = np.linalg.norm(centroids - x, axis=1)\n",
        "            cluster_ind = distances.argmin()\n",
        "            clusters[cluster_ind].append(x)\n",
        "\n",
        "        new_centroids = {}\n",
        "        for cluster in clusters:\n",
        "            new_centroids[cluster] = np.mean(clusters[cluster], axis=0)\n",
        "\n",
        "        new_centroids = dict(sorted(new_centroids.items()))\n",
        "        new_centroids = np.array(list(new_centroids.values()))\n",
        "\n",
        "        is_stop = True\n",
        "        for clust in range(len(centroids)):\n",
        "            if np.linalg.norm(centroids[clust] - new_centroids[clust]) > min_distance:\n",
        "                is_stop = False\n",
        "                break\n",
        "        if is_stop:\n",
        "            print(f'stopping at iter {i}')\n",
        "            break\n",
        "\n",
        "        centroids = new_centroids.copy()\n",
        "\n",
        "    return centroids, clusters"
      ],
      "metadata": {
        "id": "ci4dVhwgnoS-"
      },
      "execution_count": null,
      "outputs": []
    },
    {
      "cell_type": "code",
      "source": [
        "centroids, clusters = KMeans(X)\n",
        "centroids"
      ],
      "metadata": {
        "colab": {
          "base_uri": "https://localhost:8080/"
        },
        "outputId": "edab065c-2810-46c4-ccc6-c4c1ec48530c",
        "id": "CaZn5f3OnoS-"
      },
      "execution_count": null,
      "outputs": [
        {
          "output_type": "stream",
          "name": "stdout",
          "text": [
            "stopping at iter 2\n"
          ]
        },
        {
          "output_type": "execute_result",
          "data": {
            "text/plain": [
              "array([[ 2.90614881,  5.43314686],\n",
              "       [ 2.89504171, -7.53408753],\n",
              "       [ 2.68953138,  3.53649614]])"
            ]
          },
          "metadata": {},
          "execution_count": 11
        }
      ]
    },
    {
      "cell_type": "code",
      "source": [
        "plt.figure(figsize=(7, 7))\n",
        "\n",
        "for i in clusters:\n",
        "    for x in clusters[i]:\n",
        "        plt.scatter(x[0], x[1], color=colors[i])\n",
        "\n",
        "for i, centr in enumerate(centroids):\n",
        "    plt.scatter(centr[0], centr[1], marker='*', s=500, c=colors[i])\n",
        "    plt.text(centr[0]-0.1, centr[1]-0.2, f'{i+1}', fontsize=20);"
      ],
      "metadata": {
        "colab": {
          "base_uri": "https://localhost:8080/",
          "height": 428
        },
        "outputId": "c336cbb8-2cb8-4ddf-d77c-5d832a89b871",
        "id": "jw4AVTCunoS-"
      },
      "execution_count": null,
      "outputs": [
        {
          "output_type": "display_data",
          "data": {
            "text/plain": [
              "<Figure size 504x504 with 1 Axes>"
            ],
            "image/png": "[encoded data removed]"
          },
          "metadata": {
            "needs_background": "light"
          }
        }
      ]
    },
    {
      "cell_type": "markdown",
      "source": [
        "### Инициализация KMeans++ из sklearn"
      ],
      "metadata": {
        "id": "Ry4BCsyjnoS_"
      }
    },
    {
      "cell_type": "code",
      "source": [
        "from sklearn.cluster import kmeans_plusplus\n",
        "\n",
        "centroids_pp, centroids_ids = kmeans_plusplus(X, n_clusters=3, random_state=0)\n",
        "centroids_pp, centroids_ids"
      ],
      "metadata": {
        "colab": {
          "base_uri": "https://localhost:8080/"
        },
        "id": "z6nTqPuDXm_3",
        "outputId": "31a56f7b-f3bc-421b-b1b2-89bb1709d961"
      },
      "execution_count": null,
      "outputs": [
        {
          "output_type": "execute_result",
          "data": {
            "text/plain": [
              "(array([[ 4.05619693,  5.32231077],\n",
              "        [ 1.13730861, -6.0760439 ],\n",
              "        [ 5.99156553, -9.73238127]]), array([44, 64, 46]))"
            ]
          },
          "metadata": {},
          "execution_count": 13
        }
      ]
    },
    {
      "cell_type": "code",
      "source": [
        "X[centroids_ids]"
      ],
      "metadata": {
        "colab": {
          "base_uri": "https://localhost:8080/"
        },
        "id": "zr6ovqecYEmi",
        "outputId": "2d647cbb-a2f4-4a7a-e13c-218981a68adc"
      },
      "execution_count": null,
      "outputs": [
        {
          "output_type": "execute_result",
          "data": {
            "text/plain": [
              "array([[ 4.05619693,  5.32231077],\n",
              "       [ 1.13730861, -6.0760439 ],\n",
              "       [ 5.99156553, -9.73238127]])"
            ]
          },
          "metadata": {},
          "execution_count": 14
        }
      ]
    },
    {
      "cell_type": "code",
      "source": [
        "plt.figure(figsize=(7, 7))\n",
        "\n",
        "plt.scatter(X[:, 0], X[:, 1])\n",
        "\n",
        "for i, centr in enumerate(centroids_pp):\n",
        "    plt.scatter(centr[0], centr[1], marker='*', s=500, c=colors[i])\n",
        "    plt.text(centr[0]-0.1, centr[1]-0.2, f'{i+1}', fontsize=20);"
      ],
      "metadata": {
        "colab": {
          "base_uri": "https://localhost:8080/",
          "height": 428
        },
        "id": "XbXGSLhGX3Ff",
        "outputId": "1dea63a9-001e-43c2-f041-2d3527d893dd"
      },
      "execution_count": null,
      "outputs": [
        {
          "output_type": "display_data",
          "data": {
            "text/plain": [
              "<Figure size 504x504 with 1 Axes>"
            ],
            "image/png": "[encoded data removed]"
          },
          "metadata": {
            "needs_background": "light"
          }
        }
      ]
    },
    {
      "cell_type": "markdown",
      "source": [
        "### Самостоятельная реализация KMeans++"
      ],
      "metadata": {
        "id": "WIup0cqf4Yp6"
      }
    },
    {
      "cell_type": "code",
      "source": [
        "def plot_data(X, centroids):\n",
        "    plt.figure(figsize=(7, 7))\n",
        "\n",
        "    plt.scatter(X[:, 0], X[:, 1])\n",
        "    plt.scatter(centroids[:-1, 0], centroids[:-1, 1], marker='*', label='предыдущие центроиды')\n",
        "    plt.scatter(centroids[-1, 0], centroids[-1, 1], marker='*', label='следующая центроида', s=200, edgecolors='black')\n",
        "\n",
        "    plt.legend()\n",
        "    plt.show()"
      ],
      "metadata": {
        "id": "BMzccc2SZZ1y"
      },
      "execution_count": null,
      "outputs": []
    },
    {
      "cell_type": "code",
      "source": [
        "centroids = []\n",
        "centroids.append(X[centroids_ids[0]])\n",
        "plot_data(X, np.array(centroids))"
      ],
      "metadata": {
        "colab": {
          "base_uri": "https://localhost:8080/",
          "height": 428
        },
        "id": "WOTChoXzZTxw",
        "outputId": "242ee156-6f0d-46b8-c62a-86fb57ac4eba"
      },
      "execution_count": null,
      "outputs": [
        {
          "output_type": "display_data",
          "data": {
            "text/plain": [
              "<Figure size 504x504 with 1 Axes>"
            ],
            "image/png": "[encoded data removed]"
          },
          "metadata": {
            "needs_background": "light"
          }
        }
      ]
    },
    {
      "cell_type": "code",
      "source": [
        "for x in X:\n",
        "    distances = np.linalg.norm(centroids - x, axis=1)\n",
        "    obj_ind = distances.argmax()\n",
        "\n",
        "next_centroid = X[obj_ind]\n",
        "centroids.append(next_centroid)\n",
        "\n",
        "plot_data(X, np.array(centroids))"
      ],
      "metadata": {
        "colab": {
          "base_uri": "https://localhost:8080/",
          "height": 428
        },
        "id": "kjyiL8VjaJ3u",
        "outputId": "87b6c5a4-579e-4be4-b718-f7d981624679"
      },
      "execution_count": null,
      "outputs": [
        {
          "output_type": "display_data",
          "data": {
            "text/plain": [
              "<Figure size 504x504 with 1 Axes>"
            ],
            "image/png": "[encoded data removed]"
          },
          "metadata": {
            "needs_background": "light"
          }
        }
      ]
    },
    {
      "cell_type": "code",
      "source": [
        "dists = []\n",
        "\n",
        "for x in X:\n",
        "    distances = np.linalg.norm(centroids - x, axis=1)\n",
        "    dists.append(distances.min())\n",
        "\n",
        "dists[:10]"
      ],
      "metadata": {
        "id": "riIXJpXGbyy6",
        "colab": {
          "base_uri": "https://localhost:8080/"
        },
        "outputId": "2e4975b8-5069-4b4c-a96c-63966e5dc88d"
      },
      "execution_count": null,
      "outputs": [
        {
          "output_type": "execute_result",
          "data": {
            "text/plain": [
              "[0.0,\n",
              " 3.3648972729747024,\n",
              " 2.1863863808352844,\n",
              " 8.76547114399139,\n",
              " 2.0234542899343846,\n",
              " 1.3199796359180924,\n",
              " 9.11584837953402,\n",
              " 3.103801452730353,\n",
              " 0.2936905729075689,\n",
              " 8.033021812744863]"
            ]
          },
          "metadata": {},
          "execution_count": 19
        }
      ]
    },
    {
      "cell_type": "code",
      "source": [
        "obj_ind = np.array(dists).argmax()\n",
        "next_centroid = X[obj_ind]\n",
        "centroids.append(next_centroid)\n",
        "\n",
        "plot_data(X, np.array(centroids))"
      ],
      "metadata": {
        "colab": {
          "base_uri": "https://localhost:8080/",
          "height": 428
        },
        "id": "RTdRBXyy46qb",
        "outputId": "3a5a3dd1-5163-4d36-8fa9-fb9103bac9f1"
      },
      "execution_count": null,
      "outputs": [
        {
          "output_type": "display_data",
          "data": {
            "text/plain": [
              "<Figure size 504x504 with 1 Axes>"
            ],
            "image/png": "[encoded data removed]"
          },
          "metadata": {
            "needs_background": "light"
          }
        }
      ]
    },
    {
      "cell_type": "code",
      "source": [
        "centroids"
      ],
      "metadata": {
        "colab": {
          "base_uri": "https://localhost:8080/"
        },
        "id": "bB-6Rbix4-_g",
        "outputId": "ae7942ac-cb1b-4be7-ae8b-838544996902"
      },
      "execution_count": null,
      "outputs": [
        {
          "output_type": "execute_result",
          "data": {
            "text/plain": [
              "[array([4.05619693, 5.32231077]),\n",
              " array([-2.32496308, -6.6999964 ]),\n",
              " array([ 7.82111653, -8.66750208])]"
            ]
          },
          "metadata": {},
          "execution_count": 21
        }
      ]
    },
    {
      "cell_type": "markdown",
      "source": [
        "### Функция для инициализации KMeans++"
      ],
      "metadata": {
        "id": "rXpxfrsi5H1t"
      }
    },
    {
      "cell_type": "code",
      "source": [
        "def kmeanspp(X, k=3, seed=0):\n",
        "    centroids = []\n",
        "\n",
        "    np.random.seed(seed)\n",
        "    centroid_id = np.random.choice(X.shape[0])\n",
        "    centroids.append(X[centroid_id])\n",
        "\n",
        "    plot_data(X, np.array(centroids))\n",
        "\n",
        "\n",
        "    for _ in range(k-1):\n",
        "        dists = []\n",
        "        for x in X:\n",
        "            distances = np.linalg.norm(centroids - x, axis=1)\n",
        "            dists.append(distances.min())\n",
        "\n",
        "        obj_ind = np.array(dists).argmax()\n",
        "        next_centroid = X[obj_ind]\n",
        "        centroids.append(next_centroid)\n",
        "\n",
        "        plot_data(X, np.array(centroids))\n",
        "\n",
        "    return centroids"
      ],
      "metadata": {
        "id": "44z65A6r5sa5"
      },
      "execution_count": null,
      "outputs": []
    },
    {
      "cell_type": "code",
      "source": [
        "centroids = kmeanspp(X, k=3)"
      ],
      "metadata": {
        "colab": {
          "base_uri": "https://localhost:8080/",
          "height": 1000
        },
        "id": "C3eIxGWz6igO",
        "outputId": "ec3b03d4-b587-4148-ef5f-0222069c8dd4"
      },
      "execution_count": null,
      "outputs": [
        {
          "output_type": "display_data",
          "data": {
            "text/plain": [
              "<Figure size 504x504 with 1 Axes>"
            ],
            "image/png": "[encoded data removed]"
          },
          "metadata": {
            "needs_background": "light"
          }
        },
        {
          "output_type": "display_data",
          "data": {
            "text/plain": [
              "<Figure size 504x504 with 1 Axes>"
            ],
            "image/png": "[encoded data removed]"
          },
          "metadata": {
            "needs_background": "light"
          }
        },
        {
          "output_type": "display_data",
          "data": {
            "text/plain": [
              "<Figure size 504x504 with 1 Axes>"
            ],
            "image/png": "[encoded data removed]"
          },
          "metadata": {
            "needs_background": "light"
          }
        }
      ]
    },
    {
      "cell_type": "code",
      "source": [
        "centroids"
      ],
      "metadata": {
        "colab": {
          "base_uri": "https://localhost:8080/"
        },
        "id": "JxB0y9qE6z7D",
        "outputId": "c243f6d6-1cd8-44ef-9393-75f296ad9507"
      },
      "execution_count": null,
      "outputs": [
        {
          "output_type": "execute_result",
          "data": {
            "text/plain": [
              "[array([4.05619693, 5.32231077]),\n",
              " array([  3.44868458, -11.32833331]),\n",
              " array([-1.74093095, -4.89176978])]"
            ]
          },
          "metadata": {},
          "execution_count": 25
        }
      ]
    },
    {
      "cell_type": "code",
      "source": [
        "def KMeans(X, k=3, num_iter=10, min_distance=1e-4, seed=0, centroids=None):\n",
        "    if centroids is None:\n",
        "        np.random.seed(seed)\n",
        "        centroid_ids = np.random.choice(X.shape[0], k, replace=False)\n",
        "        centroids = X[centroid_ids]\n",
        "\n",
        "    for i in range(num_iter):\n",
        "        clusters = {i: [] for i in range(k)}\n",
        "\n",
        "        for x in X:\n",
        "            distances = np.linalg.norm(centroids - x, axis=1)\n",
        "            cluster_ind = distances.argmin()\n",
        "            clusters[cluster_ind].append(x)\n",
        "\n",
        "        new_centroids = {}\n",
        "        for cluster in clusters:\n",
        "            new_centroids[cluster] = np.mean(clusters[cluster], axis=0)\n",
        "\n",
        "        new_centroids = dict(sorted(new_centroids.items()))\n",
        "        new_centroids = np.array(list(new_centroids.values()))\n",
        "\n",
        "        is_stop = True\n",
        "        for clust in range(len(centroids)):\n",
        "            if np.linalg.norm(centroids[clust] - new_centroids[clust]) > min_distance:\n",
        "                is_stop = False\n",
        "                break\n",
        "        if is_stop:\n",
        "            print(f'stopping at iter {i}')\n",
        "            break\n",
        "\n",
        "        centroids = new_centroids.copy()\n",
        "\n",
        "    return centroids, clusters"
      ],
      "metadata": {
        "id": "UClCoceK5H1u"
      },
      "execution_count": null,
      "outputs": []
    },
    {
      "cell_type": "code",
      "source": [
        "centroids, clusters = KMeans(X, centroids=centroids)"
      ],
      "metadata": {
        "colab": {
          "base_uri": "https://localhost:8080/"
        },
        "id": "iaUeFqhh6-5s",
        "outputId": "1dfff971-6fa9-453c-aed1-0dde4e955a72"
      },
      "execution_count": null,
      "outputs": [
        {
          "output_type": "stream",
          "name": "stdout",
          "text": [
            "stopping at iter 2\n"
          ]
        }
      ]
    },
    {
      "cell_type": "code",
      "source": [
        "plt.figure(figsize=(7, 7))\n",
        "\n",
        "for i in clusters:\n",
        "    for x in clusters[i]:\n",
        "        plt.scatter(x[0], x[1], color=colors[i])\n",
        "\n",
        "for i, centr in enumerate(centroids):\n",
        "    plt.scatter(centr[0], centr[1], marker='*', s=500, c=colors[i])\n",
        "    plt.text(centr[0]-0.1, centr[1]-0.2, f'{i+1}', fontsize=20);"
      ],
      "metadata": {
        "colab": {
          "base_uri": "https://localhost:8080/",
          "height": 428
        },
        "id": "_bWFCFEh7FSN",
        "outputId": "835e925c-3de0-48dd-abeb-3d0a7d5049d4"
      },
      "execution_count": null,
      "outputs": [
        {
          "output_type": "display_data",
          "data": {
            "text/plain": [
              "<Figure size 504x504 with 1 Axes>"
            ],
            "image/png": "[encoded data removed]"
          },
          "metadata": {
            "needs_background": "light"
          }
        }
      ]
    },
    {
      "cell_type": "markdown",
      "source": [
        "### KMeans++ из оригинальной [статьи](http://ilpubs.stanford.edu:8090/778/1/2006-13.pdf)\n",
        "\n"
      ],
      "metadata": {
        "id": "vkl_4Q_-9f1Y"
      }
    },
    {
      "cell_type": "code",
      "source": [
        "centroids = np.empty((k, X.shape[1]))\n",
        "centroids[0] = X[centroids_ids[0]]\n",
        "centroids"
      ],
      "metadata": {
        "colab": {
          "base_uri": "https://localhost:8080/"
        },
        "id": "9F9vQTzwLvws",
        "outputId": "6d0971a5-3f78-4704-f6ce-3f04e6f4a372"
      },
      "execution_count": null,
      "outputs": [
        {
          "output_type": "execute_result",
          "data": {
            "text/plain": [
              "array([[ 4.05619693,  5.32231077],\n",
              "       [17.2       , 17.2       ],\n",
              "       [17.2       , 17.2       ]])"
            ]
          },
          "metadata": {},
          "execution_count": 30
        }
      ]
    },
    {
      "cell_type": "markdown",
      "source": [
        "\n",
        "In particular, let D(x) denote the shortest distance from a data point to the closest center we have already chosen.\n",
        "Then, we define the following algorithm, which we call k-means++.\n",
        "\n",
        "\n",
        "1.   Take one center c1, chosen uniformly at random from X .\n",
        "2.   Take a new center ci, choosing x ∈ X with probability $\\frac{D(x)^2}{\\sum{D(x)^2}}$\n"
      ],
      "metadata": {
        "id": "4z6fG7_eZvTU"
      }
    },
    {
      "cell_type": "code",
      "source": [
        "distances = []\n",
        "for x in X:\n",
        "    distances.append(np.linalg.norm(centroids[0] - x))\n",
        "\n",
        "distances = np.array(distances) ** 2\n",
        "distances[:10]"
      ],
      "metadata": {
        "colab": {
          "base_uri": "https://localhost:8080/"
        },
        "id": "C0qJkrK8M51k",
        "outputId": "c1424d48-1b59-4581-e8de-6da8c21bf44f"
      },
      "execution_count": null,
      "outputs": [
        {
          "output_type": "execute_result",
          "data": {
            "text/plain": [
              "array([1.85255073e+02, 1.17028201e+02, 4.78028541e+00, 2.35541509e+02,\n",
              "       4.09436726e+00, 1.74234624e+00, 2.48180576e+02, 1.11651825e+02,\n",
              "       8.62541526e-02, 1.59485541e+02])"
            ]
          },
          "metadata": {},
          "execution_count": 31
        }
      ]
    },
    {
      "cell_type": "code",
      "source": [
        "sum_dist = distances.sum()\n",
        "sum_dist"
      ],
      "metadata": {
        "colab": {
          "base_uri": "https://localhost:8080/"
        },
        "id": "9W3wyKLP-LCx",
        "outputId": "fa445016-a0e5-4cda-c546-b63e137263c9"
      },
      "execution_count": null,
      "outputs": [
        {
          "output_type": "execute_result",
          "data": {
            "text/plain": [
              "12197.31232118332"
            ]
          },
          "metadata": {},
          "execution_count": 32
        }
      ]
    },
    {
      "cell_type": "code",
      "source": [
        "np.set_printoptions(suppress=True)\n",
        "\n",
        "proba = distances / sum_dist\n",
        "proba"
      ],
      "metadata": {
        "colab": {
          "base_uri": "https://localhost:8080/"
        },
        "id": "T7zzmgQcW1Xh",
        "outputId": "198729ef-ad95-4a75-bd54-e43a872d6b9f"
      },
      "execution_count": null,
      "outputs": [
        {
          "output_type": "execute_result",
          "data": {
            "text/plain": [
              "array([0.01518819, 0.00959459, 0.00039191, 0.01931094, 0.00033568,\n",
              "       0.00014285, 0.02034715, 0.00915381, 0.00000707, 0.01307547,\n",
              "       0.01968649, 0.00069166, 0.00041755, 0.01038445, 0.01374238,\n",
              "       0.00001461, 0.01789497, 0.00045935, 0.01924511, 0.00027045,\n",
              "       0.01658597, 0.007574  , 0.00054152, 0.0093696 , 0.01513936,\n",
              "       0.00088688, 0.00023699, 0.00001331, 0.00025184, 0.01817432,\n",
              "       0.01231782, 0.00058455, 0.00015219, 0.0206181 , 0.00992597,\n",
              "       0.00808472, 0.01091664, 0.00024351, 0.00067556, 0.00056062,\n",
              "       0.01130857, 0.01566392, 0.01201703, 0.01173662, 0.        ,\n",
              "       0.01958695, 0.01888854, 0.015806  , 0.01146839, 0.02162249,\n",
              "       0.00036993, 0.00968658, 0.02276018, 0.01487012, 0.01188317,\n",
              "       0.01720785, 0.00016832, 0.00993616, 0.01942507, 0.01860178,\n",
              "       0.00046257, 0.0001821 , 0.01253669, 0.00887408, 0.01135024,\n",
              "       0.02047694, 0.01735707, 0.00936869, 0.01266685, 0.00885553,\n",
              "       0.00019006, 0.01833403, 0.00027545, 0.00027569, 0.01113668,\n",
              "       0.00059081, 0.00000839, 0.01643697, 0.01685028, 0.0188035 ,\n",
              "       0.01734417, 0.00043727, 0.01876917, 0.00006377, 0.01196623,\n",
              "       0.00029066, 0.01333891, 0.01755142, 0.00936476, 0.00954709,\n",
              "       0.01957254, 0.02233046, 0.01967232, 0.01112325, 0.01104032,\n",
              "       0.01054712, 0.00054776, 0.01945028, 0.0181264 , 0.01766769])"
            ]
          },
          "metadata": {},
          "execution_count": 33
        }
      ]
    },
    {
      "cell_type": "code",
      "source": [
        "proba.argmax()"
      ],
      "metadata": {
        "colab": {
          "base_uri": "https://localhost:8080/"
        },
        "id": "ss0-wVjhXHOy",
        "outputId": "c6c972cf-bcb2-4a74-a522-29019b1e74e3"
      },
      "execution_count": null,
      "outputs": [
        {
          "output_type": "execute_result",
          "data": {
            "text/plain": [
              "52"
            ]
          },
          "metadata": {},
          "execution_count": 34
        }
      ]
    },
    {
      "cell_type": "code",
      "source": [
        "proba[52]"
      ],
      "metadata": {
        "colab": {
          "base_uri": "https://localhost:8080/"
        },
        "id": "7iSR01IdNM2N",
        "outputId": "8f25a831-5e49-4477-c43e-6d54c57cb05b"
      },
      "execution_count": null,
      "outputs": [
        {
          "output_type": "execute_result",
          "data": {
            "text/plain": [
              "0.022760179623509538"
            ]
          },
          "metadata": {},
          "execution_count": 35
        }
      ]
    },
    {
      "cell_type": "code",
      "source": [
        "ind = np.random.choice(list(range(X.shape[0])), size=1, p=proba)\n",
        "ind"
      ],
      "metadata": {
        "colab": {
          "base_uri": "https://localhost:8080/"
        },
        "id": "6-isvVaWYzWw",
        "outputId": "fe255591-889b-4fb2-ac7c-910d6724c0f8"
      },
      "execution_count": null,
      "outputs": [
        {
          "output_type": "execute_result",
          "data": {
            "text/plain": [
              "array([90])"
            ]
          },
          "metadata": {},
          "execution_count": 40
        }
      ]
    },
    {
      "cell_type": "code",
      "source": [
        "plt.figure(figsize=(7, 7))\n",
        "\n",
        "plt.scatter(X[:, 0], X[:, 1])\n",
        "\n",
        "plt.scatter(centroids[0, 0], centroids[0, 1], marker='*', s=500, c=colors[0])\n",
        "plt.scatter(X[ind, 0], X[ind, 1], marker='*', s=500, c=colors[1]);"
      ],
      "metadata": {
        "colab": {
          "base_uri": "https://localhost:8080/",
          "height": 428
        },
        "id": "Fwn4sCEuU5i7",
        "outputId": "3a96eb1e-010a-4580-f189-1d78d826277a"
      },
      "execution_count": null,
      "outputs": [
        {
          "output_type": "display_data",
          "data": {
            "text/plain": [
              "<Figure size 504x504 with 1 Axes>"
            ],
            "image/png": "[encoded data removed]"
          },
          "metadata": {
            "needs_background": "light"
          }
        }
      ]
    },
    {
      "cell_type": "code",
      "source": [
        "centroids[1] = X[ind]\n",
        "centroids"
      ],
      "metadata": {
        "colab": {
          "base_uri": "https://localhost:8080/"
        },
        "id": "OCHSeWnUaDVW",
        "outputId": "02553504-ad40-4e16-b397-a7be0d07e9f7"
      },
      "execution_count": null,
      "outputs": [
        {
          "output_type": "execute_result",
          "data": {
            "text/plain": [
              "array([[  4.05619693,   5.32231077],\n",
              "       [  5.19423061, -10.08668991],\n",
              "       [ 17.2       ,  17.2       ]])"
            ]
          },
          "metadata": {},
          "execution_count": 42
        }
      ]
    },
    {
      "cell_type": "markdown",
      "source": [
        "Третья центроида"
      ],
      "metadata": {
        "id": "NW0HpHibaaAH"
      }
    },
    {
      "cell_type": "code",
      "source": [
        "distances = []\n",
        "for x in X:\n",
        "    distances.append(min(np.linalg.norm(centroids - x, axis=1)))\n",
        "\n",
        "distances = np.array(distances) ** 2\n",
        "distances[:10]"
      ],
      "metadata": {
        "colab": {
          "base_uri": "https://localhost:8080/"
        },
        "id": "cTE3-fWJaKD-",
        "outputId": "5d273901-b300-460d-9d57-bab84637e054"
      },
      "execution_count": null,
      "outputs": [
        {
          "output_type": "execute_result",
          "data": {
            "text/plain": [
              "array([68.00796672, 48.75456642,  4.78028541,  0.42684763,  4.09436726,\n",
              "        1.74234624,  0.776173  , 65.60890834,  0.08625415,  8.5812706 ])"
            ]
          },
          "metadata": {},
          "execution_count": 43
        }
      ]
    },
    {
      "cell_type": "code",
      "source": [
        "sum_dist = distances.sum()\n",
        "sum_dist"
      ],
      "metadata": {
        "colab": {
          "base_uri": "https://localhost:8080/"
        },
        "id": "gU6Jo8VNaeGo",
        "outputId": "f08dc3f6-4a8c-4a17-b35d-8bee99d1406b"
      },
      "execution_count": null,
      "outputs": [
        {
          "output_type": "execute_result",
          "data": {
            "text/plain": [
              "1823.4872426534132"
            ]
          },
          "metadata": {},
          "execution_count": 44
        }
      ]
    },
    {
      "cell_type": "code",
      "source": [
        "proba = distances / sum_dist\n",
        "proba"
      ],
      "metadata": {
        "colab": {
          "base_uri": "https://localhost:8080/"
        },
        "id": "aa0qXiuIagEg",
        "outputId": "e3659572-0a0d-446d-85b8-623778b26044"
      },
      "execution_count": null,
      "outputs": [
        {
          "output_type": "execute_result",
          "data": {
            "text/plain": [
              "array([0.03729555, 0.02673699, 0.00262151, 0.00023408, 0.00224535,\n",
              "       0.0009555 , 0.00042565, 0.03597991, 0.0000473 , 0.00470597,\n",
              "       0.00000192, 0.0046265 , 0.00279298, 0.02003478, 0.0223576 ,\n",
              "       0.00009776, 0.00067101, 0.00307259, 0.00001856, 0.00180902,\n",
              "       0.00085469, 0.02569119, 0.00362224, 0.02238459, 0.00203935,\n",
              "       0.00593237, 0.00158522, 0.00008901, 0.00168454, 0.00034008,\n",
              "       0.01698298, 0.00391003, 0.00101799, 0.00124438, 0.03316263,\n",
              "       0.03394056, 0.01983762, 0.00162881, 0.00451884, 0.00374997,\n",
              "       0.04117586, 0.00183644, 0.03269853, 0.0225107 , 0.        ,\n",
              "       0.00007338, 0.00041748, 0.00157831, 0.03375088, 0.00179946,\n",
              "       0.00247447, 0.01704558, 0.00251639, 0.0036009 , 0.02446983,\n",
              "       0.00488878, 0.00112588, 0.02587631, 0.00044923, 0.00008843,\n",
              "       0.0030941 , 0.00121807, 0.03173898, 0.03256851, 0.01784707,\n",
              "       0.00103685, 0.00060812, 0.02762326, 0.02481828, 0.03105041,\n",
              "       0.00127133, 0.00156791, 0.00184252, 0.00184411, 0.0242404 ,\n",
              "       0.0039519 , 0.00005611, 0.01146249, 0.00068254, 0.00008935,\n",
              "       0.000675  , 0.00292492, 0.0002255 , 0.00042656, 0.02957207,\n",
              "       0.00194424, 0.03257183, 0.00036955, 0.02385452, 0.02752862,\n",
              "       0.        , 0.00135717, 0.00001293, 0.02350798, 0.02816159,\n",
              "       0.03372015, 0.003664  , 0.0002744 , 0.00090585, 0.0003663 ])"
            ]
          },
          "metadata": {},
          "execution_count": 45
        }
      ]
    },
    {
      "cell_type": "code",
      "source": [
        "proba.argmax()"
      ],
      "metadata": {
        "colab": {
          "base_uri": "https://localhost:8080/"
        },
        "id": "-I42so20ajnB",
        "outputId": "fe2dacc9-6179-48a3-83a5-53116351160e"
      },
      "execution_count": null,
      "outputs": [
        {
          "output_type": "execute_result",
          "data": {
            "text/plain": [
              "40"
            ]
          },
          "metadata": {},
          "execution_count": 46
        }
      ]
    },
    {
      "cell_type": "code",
      "source": [
        "ind = np.random.choice(list(range(X.shape[0])), size=1, p=proba)\n",
        "ind"
      ],
      "metadata": {
        "colab": {
          "base_uri": "https://localhost:8080/"
        },
        "id": "yA-ZZWxtalfI",
        "outputId": "cfcef6d8-309a-4f11-cd6b-850b3f6ee05b"
      },
      "execution_count": null,
      "outputs": [
        {
          "output_type": "execute_result",
          "data": {
            "text/plain": [
              "array([40])"
            ]
          },
          "metadata": {},
          "execution_count": 51
        }
      ]
    },
    {
      "cell_type": "code",
      "source": [
        "plt.figure(figsize=(7, 7))\n",
        "\n",
        "plt.scatter(X[:, 0], X[:, 1])\n",
        "\n",
        "plt.scatter(centroids[0, 0], centroids[0, 1], marker='*', s=500, c=colors[0])\n",
        "plt.scatter(centroids[1, 0], centroids[1, 1], marker='*', s=500, c=colors[0])\n",
        "plt.scatter(X[ind, 0], X[ind, 1], marker='*', s=500, c=colors[1]);"
      ],
      "metadata": {
        "colab": {
          "base_uri": "https://localhost:8080/",
          "height": 428
        },
        "id": "7TR2TLT6aoRW",
        "outputId": "93a3adae-193b-45fb-e307-0dbd876443b7"
      },
      "execution_count": null,
      "outputs": [
        {
          "output_type": "display_data",
          "data": {
            "text/plain": [
              "<Figure size 504x504 with 1 Axes>"
            ],
            "image/png": "[encoded data removed]"
          },
          "metadata": {
            "needs_background": "light"
          }
        }
      ]
    },
    {
      "cell_type": "markdown",
      "source": [
        "### Функция для обучения KMeans с инициализацией KMeans++"
      ],
      "metadata": {
        "id": "-s4d9x1Q7qaI"
      }
    },
    {
      "cell_type": "code",
      "source": [
        "def kmeanspp(X, k=3, seed=0):\n",
        "    centroids = []\n",
        "\n",
        "    np.random.seed(seed)\n",
        "    centroid_id = np.random.choice(X.shape[0])\n",
        "    centroids.append(X[centroid_id])\n",
        "\n",
        "    for _ in range(k-1):\n",
        "        dists = []\n",
        "        for x in X:\n",
        "            distances = np.linalg.norm(centroids - x, axis=1)\n",
        "            dists.append(distances.min())\n",
        "\n",
        "        obj_ind = np.array(dists).argmax()\n",
        "        next_centroid = X[obj_ind]\n",
        "        centroids.append(next_centroid)\n",
        "\n",
        "    return centroids"
      ],
      "metadata": {
        "id": "mT1GVhik7sFY"
      },
      "execution_count": null,
      "outputs": []
    },
    {
      "cell_type": "code",
      "source": [
        "def KMeans(X, k=3, num_iter=10, min_distance=1e-4, seed=0, centroids=None):\n",
        "    if centroids is None:\n",
        "        centroids = kmeanspp(X, k=k, seed=seed)\n",
        "\n",
        "    for i in range(num_iter):\n",
        "        clusters = {i: [] for i in range(k)}\n",
        "\n",
        "        for x in X:\n",
        "            distances = np.linalg.norm(centroids - x, axis=1)\n",
        "            cluster_ind = distances.argmin()\n",
        "            clusters[cluster_ind].append(x)\n",
        "\n",
        "        new_centroids = {}\n",
        "        for cluster in clusters:\n",
        "            new_centroids[cluster] = np.mean(clusters[cluster], axis=0)\n",
        "\n",
        "        new_centroids = dict(sorted(new_centroids.items()))\n",
        "        new_centroids = np.array(list(new_centroids.values()))\n",
        "\n",
        "        is_stop = True\n",
        "        for clust in range(len(centroids)):\n",
        "            if np.linalg.norm(centroids[clust] - new_centroids[clust]) > min_distance:\n",
        "                is_stop = False\n",
        "                break\n",
        "        if is_stop:\n",
        "            print(f'stopping at iter {i}')\n",
        "            break\n",
        "\n",
        "        centroids = new_centroids.copy()\n",
        "\n",
        "    return centroids, clusters"
      ],
      "metadata": {
        "id": "mDpIFM6c7X3F"
      },
      "execution_count": null,
      "outputs": []
    },
    {
      "cell_type": "markdown",
      "source": [
        "Сделаем задачу посложнее"
      ],
      "metadata": {
        "id": "7KSTgGUw9QTo"
      }
    },
    {
      "cell_type": "code",
      "execution_count": null,
      "metadata": {
        "id": "AuEPMr3B72BF"
      },
      "outputs": [],
      "source": [
        "X, y = make_blobs(n_samples=300, random_state=13, cluster_std=1.5)"
      ]
    },
    {
      "cell_type": "code",
      "execution_count": null,
      "metadata": {
        "outputId": "f535f3a5-934a-42fd-dba2-bfe26651ee1a",
        "colab": {
          "base_uri": "https://localhost:8080/",
          "height": 428
        },
        "id": "zb1yYtVk72BF"
      },
      "outputs": [
        {
          "output_type": "display_data",
          "data": {
            "text/plain": [
              "<Figure size 504x504 with 1 Axes>"
            ],
            "image/png": "[encoded data removed]"
          },
          "metadata": {
            "needs_background": "light"
          }
        }
      ],
      "source": [
        "plt.figure(figsize=(7, 7))\n",
        "plt.scatter(X[:, 0], X[:, 1]);"
      ]
    },
    {
      "cell_type": "code",
      "source": [
        "centroids, clusters = KMeans(X)"
      ],
      "metadata": {
        "colab": {
          "base_uri": "https://localhost:8080/"
        },
        "id": "53Ffe__47gIw",
        "outputId": "5428d9fa-f890-4e80-eabd-655ad5c00d1c"
      },
      "execution_count": null,
      "outputs": [
        {
          "output_type": "stream",
          "name": "stdout",
          "text": [
            "stopping at iter 3\n"
          ]
        }
      ]
    },
    {
      "cell_type": "code",
      "source": [
        "plt.figure(figsize=(7, 7))\n",
        "\n",
        "for i in clusters:\n",
        "    for x in clusters[i]:\n",
        "        plt.scatter(x[0], x[1], color=colors[i])\n",
        "\n",
        "for i, centr in enumerate(centroids):\n",
        "    plt.scatter(centr[0], centr[1], marker='*', s=500, c=colors[i])\n",
        "    plt.text(centr[0]-0.1, centr[1]-0.2, f'{i+1}', fontsize=20);"
      ],
      "metadata": {
        "colab": {
          "base_uri": "https://localhost:8080/",
          "height": 428
        },
        "id": "Gtbahcta7jfC",
        "outputId": "f18cd01b-5af6-44ff-8776-82f6e1d6b3f6"
      },
      "execution_count": null,
      "outputs": [
        {
          "output_type": "display_data",
          "data": {
            "text/plain": [
              "<Figure size 504x504 with 1 Axes>"
            ],
            "image/png": "[encoded data removed]"
          },
          "metadata": {
            "needs_background": "light"
          }
        }
      ]
    },
    {
      "cell_type": "markdown",
      "source": [
        "Сравним кластеры с настоящими метками классов"
      ],
      "metadata": {
        "id": "ZFVN46cC9LUy"
      }
    },
    {
      "cell_type": "code",
      "source": [
        "plt.figure(figsize=(7, 7))\n",
        "\n",
        "for i in range(k):\n",
        "    temp = X[y == i]\n",
        "    plt.scatter(temp[:,0], temp[:,1], color=colors[i])\n",
        "\n",
        "for i, centr in enumerate(centroids):\n",
        "    plt.scatter(centr[0], centr[1], marker='*', s=500, c=colors[i])\n",
        "    plt.text(centr[0]-0.1, centr[1]-0.2, f'{i+1}', fontsize=20);"
      ],
      "metadata": {
        "colab": {
          "base_uri": "https://localhost:8080/",
          "height": 428
        },
        "id": "DYOGGDLF8XIE",
        "outputId": "e2d8c732-3d29-49a2-91bc-f59e90e2d822"
      },
      "execution_count": null,
      "outputs": [
        {
          "output_type": "display_data",
          "data": {
            "text/plain": [
              "<Figure size 504x504 with 1 Axes>"
            ],
            "image/png": "[encoded data removed]"
          },
          "metadata": {
            "needs_background": "light"
          }
        }
      ]
    },
    {
      "cell_type": "markdown",
      "source": [
        "## Итоги:\n",
        "\n",
        "Вот мы и разобрались, как устроен KMeans++, а именно\n",
        "1. Поняли проблему случайной инициализации центроид\n",
        "2. Реализовали выбор стартовых центроид, как самых удаленных точек\n",
        "3. Попробовали KMeans++ из sklearn\n",
        "3. Сделали реализацию KMeans++ из статьи  "
      ],
      "metadata": {
        "id": "hYsHCnXSnoTG"
      }
    },
    {
      "cell_type": "markdown",
      "source": [
        "# Метод локтя"
      ],
      "metadata": {
        "id": "gxWv0TW-e8NU"
      }
    },
    {
      "cell_type": "markdown",
      "metadata": {
        "id": "YWNmpvsyoPoh"
      },
      "source": [
        "Вначале сгенерируем три облака точек с помощью `sklearn`."
      ]
    },
    {
      "cell_type": "code",
      "execution_count": null,
      "metadata": {
        "id": "FenWql0loPoh"
      },
      "outputs": [],
      "source": [
        "import matplotlib.pyplot as plt\n",
        "import numpy as np"
      ]
    },
    {
      "cell_type": "code",
      "execution_count": null,
      "metadata": {
        "id": "gUSR5B5RoPoi"
      },
      "outputs": [],
      "source": [
        "from sklearn.datasets import make_blobs\n",
        "\n",
        "X, y = make_blobs(n_samples=100, random_state=16)"
      ]
    },
    {
      "cell_type": "code",
      "execution_count": null,
      "metadata": {
        "outputId": "7f97bf56-84b3-4055-b26f-fe98efdddbdf",
        "colab": {
          "base_uri": "https://localhost:8080/",
          "height": 428
        },
        "id": "J8EZ27jboPoi"
      },
      "outputs": [
        {
          "output_type": "display_data",
          "data": {
            "text/plain": [
              "<Figure size 504x504 with 1 Axes>"
            ],
            "image/png": "[encoded data removed]"
          },
          "metadata": {
            "needs_background": "light"
          }
        }
      ],
      "source": [
        "plt.figure(figsize=(7, 7))\n",
        "plt.scatter(X[:, 0], X[:, 1]);"
      ]
    },
    {
      "cell_type": "markdown",
      "source": [
        "Посчитаем центроиду для одного кластера"
      ],
      "metadata": {
        "id": "DyHYkjtcXdbC"
      }
    },
    {
      "cell_type": "code",
      "source": [
        "centroid = np.mean(X, axis=0)\n",
        "centroid"
      ],
      "metadata": {
        "colab": {
          "base_uri": "https://localhost:8080/"
        },
        "id": "H7f-mdqTXU_P",
        "outputId": "ed3beda9-7058-4e1a-fe4d-1f684e790bde"
      },
      "execution_count": null,
      "outputs": [
        {
          "output_type": "execute_result",
          "data": {
            "text/plain": [
              "array([-2.29768256, -4.59342859])"
            ]
          },
          "metadata": {},
          "execution_count": 10
        }
      ]
    },
    {
      "cell_type": "code",
      "source": [
        "plt.figure(figsize=(7, 7))\n",
        "plt.scatter(X[:, 0], X[:, 1])\n",
        "plt.scatter(centroid[0], centroid[1], marker='*', s=200);"
      ],
      "metadata": {
        "colab": {
          "base_uri": "https://localhost:8080/",
          "height": 428
        },
        "id": "72s9A1rjXb9-",
        "outputId": "eabeb422-c203-4fec-9d7c-86bfdcead5ff"
      },
      "execution_count": null,
      "outputs": [
        {
          "output_type": "display_data",
          "data": {
            "text/plain": [
              "<Figure size 504x504 with 1 Axes>"
            ],
            "image/png": "[encoded data removed]"
          },
          "metadata": {
            "needs_background": "light"
          }
        }
      ]
    },
    {
      "cell_type": "markdown",
      "source": [
        "Посчитаем внутрикластерное расстояние\n",
        "\n",
        "\n",
        "$$\\sum\\rho^{2}(x_{i}, c)$$\n",
        "\n"
      ],
      "metadata": {
        "id": "QG_FbhpooPok"
      }
    },
    {
      "cell_type": "code",
      "source": [
        "dists = 0\n",
        "for x in X:\n",
        "    dists += np.linalg.norm(x - centroid) ** 2\n",
        "\n",
        "dists"
      ],
      "metadata": {
        "colab": {
          "base_uri": "https://localhost:8080/"
        },
        "id": "_A8Y-3S6Wxr5",
        "outputId": "87e70883-d3c9-452e-9b27-57e234d48e90"
      },
      "execution_count": null,
      "outputs": [
        {
          "output_type": "execute_result",
          "data": {
            "text/plain": [
              "2588.7486419573993"
            ]
          },
          "metadata": {},
          "execution_count": 12
        }
      ]
    },
    {
      "cell_type": "markdown",
      "source": [
        "inertia_ : float\n",
        "    Sum of squared distances of samples to their closest cluster center,\n",
        "weighted by the sample weights if provided."
      ],
      "metadata": {
        "id": "AFrVVD7iXTu-"
      }
    },
    {
      "cell_type": "code",
      "source": [
        "from sklearn.cluster import KMeans as sk_KMeans\n",
        "\n",
        "km = sk_KMeans(n_clusters=1).fit(X)\n",
        "km.inertia_"
      ],
      "metadata": {
        "colab": {
          "base_uri": "https://localhost:8080/"
        },
        "id": "22REhd0EWnHO",
        "outputId": "b1611093-8131-4a7b-ee97-c8e099572dd6"
      },
      "execution_count": null,
      "outputs": [
        {
          "output_type": "execute_result",
          "data": {
            "text/plain": [
              "2588.7486419573984"
            ]
          },
          "metadata": {},
          "execution_count": 14
        }
      ]
    },
    {
      "cell_type": "markdown",
      "source": [
        "Сделаем два кластера"
      ],
      "metadata": {
        "id": "-xvsl23OX5le"
      }
    },
    {
      "cell_type": "code",
      "source": [
        "def kmeanspp(X, k=3, seed=0):\n",
        "    centroids = []\n",
        "\n",
        "    np.random.seed(seed)\n",
        "    centroid_id = np.random.choice(X.shape[0])\n",
        "    centroids.append(X[centroid_id])\n",
        "\n",
        "    for _ in range(k-1):\n",
        "        dists = []\n",
        "        for x in X:\n",
        "            distances = np.linalg.norm(centroids - x, axis=1)\n",
        "            dists.append(distances.min())\n",
        "\n",
        "        obj_ind = np.array(dists).argmax()\n",
        "        next_centroid = X[obj_ind]\n",
        "        centroids.append(next_centroid)\n",
        "\n",
        "    return centroids"
      ],
      "metadata": {
        "id": "JBnNL88ZX7gA"
      },
      "execution_count": null,
      "outputs": []
    },
    {
      "cell_type": "code",
      "source": [
        "def KMeans(X, k=3, num_iter=10, min_distance=1e-4, seed=0, centroids=None):\n",
        "    if centroids is None:\n",
        "        centroids = kmeanspp(X, k=k, seed=seed)\n",
        "\n",
        "    for i in range(num_iter):\n",
        "        clusters = {i: [] for i in range(k)}\n",
        "\n",
        "        for x in X:\n",
        "            distances = np.linalg.norm(centroids - x, axis=1)\n",
        "            cluster_ind = distances.argmin()\n",
        "            clusters[cluster_ind].append(x)\n",
        "\n",
        "        new_centroids = {}\n",
        "        for cluster in clusters:\n",
        "            new_centroids[cluster] = np.mean(clusters[cluster], axis=0)\n",
        "\n",
        "        new_centroids = dict(sorted(new_centroids.items()))\n",
        "        new_centroids = np.array(list(new_centroids.values()))\n",
        "\n",
        "        is_stop = True\n",
        "        for clust in range(len(centroids)):\n",
        "            if np.linalg.norm(centroids[clust] - new_centroids[clust]) > min_distance:\n",
        "                is_stop = False\n",
        "                break\n",
        "        if is_stop:\n",
        "            print(f'stopping at iter {i}')\n",
        "            break\n",
        "\n",
        "        centroids = new_centroids.copy()\n",
        "\n",
        "    return centroids, clusters"
      ],
      "metadata": {
        "id": "6Qv4qUAXX7gA"
      },
      "execution_count": null,
      "outputs": []
    },
    {
      "cell_type": "code",
      "source": [
        "centroids, clusters = KMeans(X, k=2)"
      ],
      "metadata": {
        "colab": {
          "base_uri": "https://localhost:8080/"
        },
        "outputId": "5d8cde10-9e82-453f-b9a7-8969b3cccb1c",
        "id": "dg8yWeDZX7gB"
      },
      "execution_count": null,
      "outputs": [
        {
          "output_type": "stream",
          "name": "stdout",
          "text": [
            "stopping at iter 1\n"
          ]
        }
      ]
    },
    {
      "cell_type": "code",
      "source": [
        "colors = ['green', 'orange', 'red', 'navy', 'pink', 'yellow', 'black']"
      ],
      "metadata": {
        "id": "67_5zihooPol"
      },
      "execution_count": null,
      "outputs": []
    },
    {
      "cell_type": "code",
      "source": [
        "plt.figure(figsize=(7, 7))\n",
        "\n",
        "for i in clusters:\n",
        "    for x in clusters[i]:\n",
        "        plt.scatter(x[0], x[1], color=colors[i])\n",
        "\n",
        "for i, centr in enumerate(centroids):\n",
        "    plt.scatter(centr[0], centr[1], marker='*', s=500, c=colors[i])\n",
        "    plt.text(centr[0]-0.1, centr[1]-0.2, f'{i+1}', fontsize=20);"
      ],
      "metadata": {
        "colab": {
          "base_uri": "https://localhost:8080/",
          "height": 428
        },
        "outputId": "4184bd69-b809-4c1c-c18c-e7964686aced",
        "id": "WQjMSTYgX7gB"
      },
      "execution_count": null,
      "outputs": [
        {
          "output_type": "display_data",
          "data": {
            "text/plain": [
              "<Figure size 504x504 with 1 Axes>"
            ],
            "image/png": "[encoded data removed]"
          },
          "metadata": {
            "needs_background": "light"
          }
        }
      ]
    },
    {
      "cell_type": "markdown",
      "source": [
        "\n",
        "$$\\sum_{k=1}^{K}\\sum_{i=1}^{l}[a(x_{i})=k]\\rho^{2}(x_{i}, c_{k})$$\n",
        "\n",
        "\n",
        "\n",
        " $$\\sum_{k=1}^{K}\\frac{1}{|k|}\\sum_{i=1}^{l}[a(x_{i})=k]\\rho^{2}(x_{i}, c_{k})$$"
      ],
      "metadata": {
        "id": "hSue1Tx9_1W6"
      }
    },
    {
      "cell_type": "code",
      "source": [
        "dists = 0\n",
        "for i in clusters:\n",
        "    for x in clusters[i]:\n",
        "        dists += np.linalg.norm(x - centroids[i]) ** 2\n",
        "\n",
        "dists"
      ],
      "metadata": {
        "colab": {
          "base_uri": "https://localhost:8080/"
        },
        "id": "8VBG-YdOYEFj",
        "outputId": "9b6dc333-5895-498b-8bc0-1553a977bc0e"
      },
      "execution_count": null,
      "outputs": [
        {
          "output_type": "execute_result",
          "data": {
            "text/plain": [
              "649.4333696428022"
            ]
          },
          "metadata": {},
          "execution_count": 20
        }
      ]
    },
    {
      "cell_type": "code",
      "source": [
        "km = sk_KMeans(n_clusters=2).fit(X)\n",
        "km.inertia_"
      ],
      "metadata": {
        "colab": {
          "base_uri": "https://localhost:8080/"
        },
        "id": "mhHhjAyCYpW_",
        "outputId": "84e23bc9-c63e-430f-b16f-c5ef7dd268e7"
      },
      "execution_count": null,
      "outputs": [
        {
          "output_type": "execute_result",
          "data": {
            "text/plain": [
              "648.9673346244897"
            ]
          },
          "metadata": {},
          "execution_count": 21
        }
      ]
    },
    {
      "cell_type": "markdown",
      "source": [
        "Сделаем три кластера"
      ],
      "metadata": {
        "id": "PZEA-jGqYxdK"
      }
    },
    {
      "cell_type": "code",
      "source": [
        "centroids, clusters = KMeans(X, k=3)"
      ],
      "metadata": {
        "colab": {
          "base_uri": "https://localhost:8080/"
        },
        "id": "xWonfwftYy92",
        "outputId": "5e4b6494-09d6-4910-9878-8fef8fa8bc7d"
      },
      "execution_count": null,
      "outputs": [
        {
          "output_type": "stream",
          "name": "stdout",
          "text": [
            "stopping at iter 2\n"
          ]
        }
      ]
    },
    {
      "cell_type": "code",
      "source": [
        "plt.figure(figsize=(7, 7))\n",
        "\n",
        "for i in clusters:\n",
        "    for x in clusters[i]:\n",
        "        plt.scatter(x[0], x[1], color=colors[i])\n",
        "\n",
        "for i, centr in enumerate(centroids):\n",
        "    plt.scatter(centr[0], centr[1], marker='*', s=500, c=colors[i])\n",
        "    plt.text(centr[0]-0.1, centr[1]-0.2, f'{i+1}', fontsize=20);"
      ],
      "metadata": {
        "colab": {
          "base_uri": "https://localhost:8080/",
          "height": 428
        },
        "id": "02Sr1JrjY-TB",
        "outputId": "70cca7a6-4d4e-4efc-8ef9-6e4abfa01819"
      },
      "execution_count": null,
      "outputs": [
        {
          "output_type": "display_data",
          "data": {
            "text/plain": [
              "<Figure size 504x504 with 1 Axes>"
            ],
            "image/png": "[encoded data removed]"
          },
          "metadata": {
            "needs_background": "light"
          }
        }
      ]
    },
    {
      "cell_type": "code",
      "source": [
        "dists = 0\n",
        "for i in clusters:\n",
        "    for x in clusters[i]:\n",
        "        dists += np.linalg.norm(x - centroids[i]) ** 2\n",
        "\n",
        "dists"
      ],
      "metadata": {
        "colab": {
          "base_uri": "https://localhost:8080/"
        },
        "id": "xx3PxVTGZAcp",
        "outputId": "8297eeea-b0d5-43a7-c134-3ee28ea37e73"
      },
      "execution_count": null,
      "outputs": [
        {
          "output_type": "execute_result",
          "data": {
            "text/plain": [
              "182.88763537399484"
            ]
          },
          "metadata": {},
          "execution_count": 24
        }
      ]
    },
    {
      "cell_type": "code",
      "source": [
        "km = sk_KMeans(n_clusters=3).fit(X)\n",
        "km.inertia_"
      ],
      "metadata": {
        "colab": {
          "base_uri": "https://localhost:8080/"
        },
        "id": "Ikfbb0D1ZCGy",
        "outputId": "c991e898-afd8-4ace-fbee-28b76d3944ce"
      },
      "execution_count": null,
      "outputs": [
        {
          "output_type": "execute_result",
          "data": {
            "text/plain": [
              "182.88763537399484"
            ]
          },
          "metadata": {},
          "execution_count": 25
        }
      ]
    },
    {
      "cell_type": "markdown",
      "source": [
        "### Цикл для обучения на разном кол-ве кластеров"
      ],
      "metadata": {
        "id": "LY1bMckLZDjj"
      }
    },
    {
      "cell_type": "code",
      "source": [
        "inertias = []\n",
        "for i in range(1, 7):\n",
        "    centroids, clusters = KMeans(X, k=i)\n",
        "    dists = 0\n",
        "    for i in clusters:\n",
        "        for x in clusters[i]:\n",
        "            dists += np.linalg.norm(x - centroids[i]) ** 2\n",
        "\n",
        "    inertias.append(dists)"
      ],
      "metadata": {
        "colab": {
          "base_uri": "https://localhost:8080/"
        },
        "id": "35IQ8QbiZHKZ",
        "outputId": "e1c69d7a-734e-436a-e72c-eb15dad9bdc7"
      },
      "execution_count": null,
      "outputs": [
        {
          "output_type": "stream",
          "name": "stdout",
          "text": [
            "stopping at iter 1\n",
            "stopping at iter 1\n",
            "stopping at iter 2\n",
            "stopping at iter 8\n",
            "stopping at iter 2\n",
            "stopping at iter 2\n"
          ]
        }
      ]
    },
    {
      "cell_type": "code",
      "source": [
        "inertias"
      ],
      "metadata": {
        "colab": {
          "base_uri": "https://localhost:8080/"
        },
        "id": "UZSEuPyGZXk8",
        "outputId": "627c39f3-f2b8-4b9f-f2b4-a527ad995790"
      },
      "execution_count": null,
      "outputs": [
        {
          "output_type": "execute_result",
          "data": {
            "text/plain": [
              "[2588.7486419573993,\n",
              " 649.4333696428022,\n",
              " 182.88763537399484,\n",
              " 154.3118712536231,\n",
              " 140.48669823056807,\n",
              " 117.49339708989534]"
            ]
          },
          "metadata": {},
          "execution_count": 27
        }
      ]
    },
    {
      "cell_type": "code",
      "source": [
        "plt.figure(figsize=(7, 5))\n",
        "plt.plot(inertias)\n",
        "plt.xticks(np.arange(0, 6), np.arange(1, 7))\n",
        "plt.xlabel('n clusters')\n",
        "plt.ylabel('inertia');"
      ],
      "metadata": {
        "colab": {
          "base_uri": "https://localhost:8080/",
          "height": 334
        },
        "id": "p27Gq9M0ZWTV",
        "outputId": "d0906950-7357-4ad8-9baa-6022f0761d24"
      },
      "execution_count": null,
      "outputs": [
        {
          "output_type": "display_data",
          "data": {
            "text/plain": [
              "<Figure size 504x360 with 1 Axes>"
            ],
            "image/png": "[encoded data removed]"
          },
          "metadata": {
            "needs_background": "light"
          }
        }
      ]
    },
    {
      "cell_type": "code",
      "source": [
        "plt.figure(figsize=(7, 7))\n",
        "\n",
        "for i in clusters:\n",
        "    for x in clusters[i]:\n",
        "        plt.scatter(x[0], x[1], color=colors[i])\n",
        "\n",
        "for i, centr in enumerate(centroids):\n",
        "    plt.scatter(centr[0], centr[1], marker='*', s=500, c=colors[i])\n",
        "    plt.text(centr[0]-0.1, centr[1]-0.2, f'{i+1}', fontsize=20);"
      ],
      "metadata": {
        "colab": {
          "base_uri": "https://localhost:8080/",
          "height": 428
        },
        "id": "WEV6m3LrZj0R",
        "outputId": "9c608ef8-61c9-4e91-d540-579d36c26c27"
      },
      "execution_count": null,
      "outputs": [
        {
          "output_type": "display_data",
          "data": {
            "text/plain": [
              "<Figure size 504x504 with 1 Axes>"
            ],
            "image/png": "[encoded data removed]"
          },
          "metadata": {
            "needs_background": "light"
          }
        }
      ]
    },
    {
      "cell_type": "markdown",
      "metadata": {
        "id": "5q8zWulno3f8"
      },
      "source": [
        "#### Подбираем оптимальное количество\n",
        "\n",
        "Будем на каждом шаге смотреть изменение inertia, и в тот момент, когда оно резко замедлится (относительно предыдущего изменения) мы и остановимся"
      ]
    },
    {
      "cell_type": "markdown",
      "metadata": {
        "id": "ByQjOR-Vo3f8"
      },
      "source": [
        "Считаем изменения\n",
        "$${inertia_{k+1}-inertia_{k}}$$"
      ]
    },
    {
      "cell_type": "code",
      "metadata": {
        "collapsed": true,
        "id": "2dJn-d5Io3f-"
      },
      "source": [
        "diff = np.diff(inertias)"
      ],
      "execution_count": null,
      "outputs": []
    },
    {
      "cell_type": "code",
      "metadata": {
        "id": "TrvxhEzFo3f-",
        "outputId": "841ec950-95e1-4750-af82-3041fa2ba765",
        "colab": {
          "base_uri": "https://localhost:8080/",
          "height": 265
        }
      },
      "source": [
        "plt.plot(diff)\n",
        "plt.xticks(np.arange(0, 5), np.arange(2, 7));"
      ],
      "execution_count": null,
      "outputs": [
        {
          "output_type": "display_data",
          "data": {
            "text/plain": [
              "<Figure size 432x288 with 1 Axes>"
            ],
            "image/png": "[encoded data removed]"
          },
          "metadata": {
            "needs_background": "light"
          }
        }
      ]
    },
    {
      "cell_type": "markdown",
      "metadata": {
        "id": "vrEZ1Pu_o3f_"
      },
      "source": [
        "Теперь можно найти оптимальное число кластеров по этой формуле:\n",
        "$$k_{opt} = argmin(\\frac{inertia_{k+1}-inertia_{k}}{inertia_{k}-inertia_{k-1}})$$"
      ]
    },
    {
      "cell_type": "code",
      "source": [
        "diff[1:]"
      ],
      "metadata": {
        "colab": {
          "base_uri": "https://localhost:8080/"
        },
        "id": "fFYE6vDnbYxH",
        "outputId": "87b68c5b-7311-4a4f-a62c-f742b313b885"
      },
      "execution_count": null,
      "outputs": [
        {
          "output_type": "execute_result",
          "data": {
            "text/plain": [
              "array([-466.54573427,  -28.57576412,  -13.82517302,  -22.99330114])"
            ]
          },
          "metadata": {},
          "execution_count": 32
        }
      ]
    },
    {
      "cell_type": "code",
      "source": [
        "diff[:-1]"
      ],
      "metadata": {
        "colab": {
          "base_uri": "https://localhost:8080/"
        },
        "id": "_1GiR5stbZSP",
        "outputId": "5fe74369-1b88-4310-d813-56b5eccd5da0"
      },
      "execution_count": null,
      "outputs": [
        {
          "output_type": "execute_result",
          "data": {
            "text/plain": [
              "array([-1939.31527231,  -466.54573427,   -28.57576412,   -13.82517302])"
            ]
          },
          "metadata": {},
          "execution_count": 33
        }
      ]
    },
    {
      "cell_type": "code",
      "metadata": {
        "id": "VRMDgY3Io3f_"
      },
      "source": [
        "diff_r = diff[1:] / diff[:-1]"
      ],
      "execution_count": null,
      "outputs": []
    },
    {
      "cell_type": "code",
      "metadata": {
        "id": "cSbuQ5wOo3f_",
        "outputId": "f666ba60-a7b7-4e24-a90e-d9f0b0157e89",
        "colab": {
          "base_uri": "https://localhost:8080/",
          "height": 265
        }
      },
      "source": [
        "plt.plot(diff_r)\n",
        "plt.xticks(np.arange(0, 4), np.arange(2, 6));"
      ],
      "execution_count": null,
      "outputs": [
        {
          "output_type": "display_data",
          "data": {
            "text/plain": [
              "<Figure size 432x288 with 1 Axes>"
            ],
            "image/png": "[encoded data removed]"
          },
          "metadata": {
            "needs_background": "light"
          }
        }
      ]
    },
    {
      "cell_type": "code",
      "source": [
        "centroids, clusters = KMeans(X, k=3)"
      ],
      "metadata": {
        "colab": {
          "base_uri": "https://localhost:8080/"
        },
        "outputId": "6dcd3703-ad36-4638-d734-aaba8abe733f",
        "id": "WJDO-9tcaW-O"
      },
      "execution_count": null,
      "outputs": [
        {
          "output_type": "stream",
          "name": "stdout",
          "text": [
            "stopping at iter 2\n"
          ]
        }
      ]
    },
    {
      "cell_type": "code",
      "source": [
        "plt.figure(figsize=(7, 7))\n",
        "\n",
        "for i in clusters:\n",
        "    for x in clusters[i]:\n",
        "        plt.scatter(x[0], x[1], color=colors[i])\n",
        "\n",
        "for i, centr in enumerate(centroids):\n",
        "    plt.scatter(centr[0], centr[1], marker='*', s=500, c=colors[i])\n",
        "    plt.text(centr[0]-0.1, centr[1]-0.2, f'{i+1}', fontsize=20);"
      ],
      "metadata": {
        "colab": {
          "base_uri": "https://localhost:8080/",
          "height": 428
        },
        "outputId": "b9080d6a-12fa-475e-d483-7fa5482f2840",
        "id": "uwoTkJgxaW-P"
      },
      "execution_count": null,
      "outputs": [
        {
          "output_type": "display_data",
          "data": {
            "text/plain": [
              "<Figure size 504x504 with 1 Axes>"
            ],
            "image/png": "[encoded data removed]"
          },
          "metadata": {
            "needs_background": "light"
          }
        }
      ]
    },
    {
      "cell_type": "markdown",
      "source": [
        "### Посложнее данные"
      ],
      "metadata": {
        "id": "00vq-iceoPop"
      }
    },
    {
      "cell_type": "code",
      "source": [
        "from sklearn.datasets import make_classification\n",
        "X, y = make_classification(n_samples=300, random_state=10, n_informative=2, n_redundant=0)"
      ],
      "metadata": {
        "id": "ck0sg8UOayF1"
      },
      "execution_count": null,
      "outputs": []
    },
    {
      "cell_type": "code",
      "source": [
        "plt.figure(figsize=(7, 7))\n",
        "plt.scatter(X[:, 0], X[:, 1], c=y);"
      ],
      "metadata": {
        "colab": {
          "base_uri": "https://localhost:8080/",
          "height": 428
        },
        "id": "fTX1w_xna2f6",
        "outputId": "d3f1d8d3-dad8-4f3f-ecc1-bacf9d947325"
      },
      "execution_count": null,
      "outputs": [
        {
          "output_type": "display_data",
          "data": {
            "text/plain": [
              "<Figure size 504x504 with 1 Axes>"
            ],
            "image/png": "[encoded data removed]"
          },
          "metadata": {
            "needs_background": "light"
          }
        }
      ]
    },
    {
      "cell_type": "code",
      "source": [
        "inertias = []\n",
        "for i in range(1, 7):\n",
        "    centroids, clusters = KMeans(X, k=i)\n",
        "    dists = 0\n",
        "    for i in clusters:\n",
        "        for x in clusters[i]:\n",
        "            dists += np.linalg.norm(x - centroids[i]) ** 2\n",
        "\n",
        "    inertias.append(dists)"
      ],
      "metadata": {
        "colab": {
          "base_uri": "https://localhost:8080/"
        },
        "outputId": "d6c4cc43-e263-4b4d-b9ee-5c9acaf0a97b",
        "id": "1bIgCtS_bAhz"
      },
      "execution_count": null,
      "outputs": [
        {
          "output_type": "stream",
          "name": "stdout",
          "text": [
            "stopping at iter 1\n"
          ]
        }
      ]
    },
    {
      "cell_type": "code",
      "source": [
        "inertias"
      ],
      "metadata": {
        "colab": {
          "base_uri": "https://localhost:8080/"
        },
        "outputId": "1ce41630-12cb-49ff-a609-aa98c7244065",
        "id": "TNIoxDQLbAh0"
      },
      "execution_count": null,
      "outputs": [
        {
          "output_type": "execute_result",
          "data": {
            "text/plain": [
              "[6281.391177646002,\n",
              " 5925.287079888724,\n",
              " 5542.179623547259,\n",
              " 5386.471555837043,\n",
              " 5285.379165902779,\n",
              " 5179.179598195613]"
            ]
          },
          "metadata": {},
          "execution_count": 72
        }
      ]
    },
    {
      "cell_type": "code",
      "source": [
        "plt.figure(figsize=(7, 5))\n",
        "plt.plot(inertias)\n",
        "plt.xlabel('n clusters')\n",
        "plt.ylabel('inertia')\n",
        "plt.xticks(np.arange(0, 6), np.arange(1, 7));"
      ],
      "metadata": {
        "colab": {
          "base_uri": "https://localhost:8080/",
          "height": 334
        },
        "outputId": "db8ca555-5d16-4d06-8ce9-38fe05f62172",
        "id": "WD612rCNbAh0"
      },
      "execution_count": null,
      "outputs": [
        {
          "output_type": "display_data",
          "data": {
            "text/plain": [
              "<Figure size 504x360 with 1 Axes>"
            ],
            "image/png": "[encoded data removed]"
          },
          "metadata": {
            "needs_background": "light"
          }
        }
      ]
    },
    {
      "cell_type": "code",
      "metadata": {
        "outputId": "662c92d6-0d16-47ce-ee4e-e4531140e0fa",
        "colab": {
          "base_uri": "https://localhost:8080/",
          "height": 265
        },
        "id": "pnDdcVA5cACE"
      },
      "source": [
        "diff = np.diff(inertias)\n",
        "\n",
        "plt.plot(diff)\n",
        "plt.xticks(np.arange(0, 5), np.arange(2, 7));"
      ],
      "execution_count": null,
      "outputs": [
        {
          "output_type": "display_data",
          "data": {
            "text/plain": [
              "<Figure size 432x288 with 1 Axes>"
            ],
            "image/png": "[encoded data removed]"
          },
          "metadata": {
            "needs_background": "light"
          }
        }
      ]
    },
    {
      "cell_type": "code",
      "metadata": {
        "colab": {
          "base_uri": "https://localhost:8080/",
          "height": 267
        },
        "id": "wLtqKr04cACG",
        "outputId": "e4feec97-324a-46a4-c9e3-84738bf8571c"
      },
      "source": [
        "diff_r = diff[1:] / diff[:-1]\n",
        "\n",
        "plt.plot(diff_r)\n",
        "plt.xticks(np.arange(0, 4), np.arange(2, 6));"
      ],
      "execution_count": null,
      "outputs": [
        {
          "output_type": "display_data",
          "data": {
            "text/plain": [
              "<Figure size 432x288 with 1 Axes>"
            ],
            "image/png": "[encoded data removed]"
          },
          "metadata": {
            "needs_background": "light"
          }
        }
      ]
    },
    {
      "cell_type": "code",
      "source": [
        "centroids, clusters = KMeans(X, k=3, num_iter=20, seed=10)"
      ],
      "metadata": {
        "colab": {
          "base_uri": "https://localhost:8080/"
        },
        "outputId": "1477dacc-d6f6-4e32-9d5c-f4e702f4d3cf",
        "id": "UIFSCojGcG6V"
      },
      "execution_count": null,
      "outputs": [
        {
          "output_type": "stream",
          "name": "stdout",
          "text": [
            "stopping at iter 15\n"
          ]
        }
      ]
    },
    {
      "cell_type": "code",
      "source": [
        "plt.figure(figsize=(7, 7))\n",
        "\n",
        "for i in clusters:\n",
        "    for x in clusters[i]:\n",
        "        plt.scatter(x[0], x[1], color=colors[i])\n",
        "\n",
        "for i, centr in enumerate(centroids):\n",
        "    plt.scatter(centr[0], centr[1], marker='*', s=500, c=colors[i])\n",
        "    plt.text(centr[0]-0.1, centr[1]-0.2, f'{i+1}', fontsize=20);"
      ],
      "metadata": {
        "colab": {
          "base_uri": "https://localhost:8080/",
          "height": 428
        },
        "outputId": "6aed2850-0888-42d7-9b5a-c51d708e886e",
        "id": "DEegDPYwcG6W"
      },
      "execution_count": null,
      "outputs": [
        {
          "output_type": "display_data",
          "data": {
            "text/plain": [
              "<Figure size 504x504 with 1 Axes>"
            ],
            "image/png": "[encoded data removed]"
          },
          "metadata": {
            "needs_background": "light"
          }
        }
      ]
    },
    {
      "cell_type": "markdown",
      "source": [
        "## Итоги:\n",
        "\n",
        "Вот мы и разобрались, как устроен метод локтя, а именно\n",
        "1. Рассчитали внутрикластерную дисперсию\n",
        "2. Получили значения inertia из KMeans в sklearn\n",
        "3. Выбрали оптимальное количество кластеров с помощью метода локтя"
      ],
      "metadata": {
        "id": "uT-v1vaOoPor"
      }
    }
  ]
}