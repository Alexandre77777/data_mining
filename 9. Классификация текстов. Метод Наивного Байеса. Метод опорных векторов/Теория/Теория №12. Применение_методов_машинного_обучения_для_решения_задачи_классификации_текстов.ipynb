{
  "cells": [
    {
      "cell_type": "markdown",
      "metadata": {
        "id": "view-in-github",
        "colab_type": "text"
      },
      "source": [
        "<a href=\"https://colab.research.google.com/github/Alexandre77777/data_mining/blob/main/9.%20%D0%9A%D0%BB%D0%B0%D1%81%D1%81%D0%B8%D1%84%D0%B8%D0%BA%D0%B0%D1%86%D0%B8%D1%8F%20%D1%82%D0%B5%D0%BA%D1%81%D1%82%D0%BE%D0%B2.%20%D0%9C%D0%B5%D1%82%D0%BE%D0%B4%20%D0%9D%D0%B0%D0%B8%D0%B2%D0%BD%D0%BE%D0%B3%D0%BE%20%D0%91%D0%B0%D0%B9%D0%B5%D1%81%D0%B0.%20%D0%9C%D0%B5%D1%82%D0%BE%D0%B4%20%D0%BE%D0%BF%D0%BE%D1%80%D0%BD%D1%8B%D1%85%20%D0%B2%D0%B5%D0%BA%D1%82%D0%BE%D1%80%D0%BE%D0%B2/%D0%A2%D0%B5%D0%BE%D1%80%D0%B8%D1%8F/%D0%A2%D0%B5%D0%BE%D1%80%D0%B8%D1%8F%20%E2%84%9612.%20%D0%9F%D1%80%D0%B8%D0%BC%D0%B5%D0%BD%D0%B5%D0%BD%D0%B8%D0%B5_%D0%BC%D0%B5%D1%82%D0%BE%D0%B4%D0%BE%D0%B2_%D0%BC%D0%B0%D1%88%D0%B8%D0%BD%D0%BD%D0%BE%D0%B3%D0%BE_%D0%BE%D0%B1%D1%83%D1%87%D0%B5%D0%BD%D0%B8%D1%8F_%D0%B4%D0%BB%D1%8F_%D1%80%D0%B5%D1%88%D0%B5%D0%BD%D0%B8%D1%8F_%D0%B7%D0%B0%D0%B4%D0%B0%D1%87%D0%B8_%D0%BA%D0%BB%D0%B0%D1%81%D1%81%D0%B8%D1%84%D0%B8%D0%BA%D0%B0%D1%86%D0%B8%D0%B8_%D1%82%D0%B5%D0%BA%D1%81%D1%82%D0%BE%D0%B2.ipynb\" target=\"_parent\"><img src=\"https://colab.research.google.com/assets/colab-badge.svg\" alt=\"Open In Colab\"/></a>"
      ]
    },
    {
      "cell_type": "markdown",
      "id": "04e415fa",
      "metadata": {
        "papermill": {
          "duration": 0.069525,
          "end_time": "2021-08-10T10:25:30.689157",
          "exception": false,
          "start_time": "2021-08-10T10:25:30.619632",
          "status": "completed"
        },
        "tags": [],
        "id": "04e415fa"
      },
      "source": [
        "# Применение методов машинного обучения для решения задач классификации текстов\n",
        "\n",
        "Задача классификации текстов - это одна из задач машинного обучения, которая заключается в определении класса (категории), к которой относится заданный текст. В этой задаче используется алгоритм обучения на основе примеров, где модель обучается на основе предоставленных текстов и их соответствующих классов.\n",
        "\n",
        "Процесс классификации текстов включает в себя следующие шаги:\n",
        "\n",
        "1. Подготовка данных: тексты должны быть представлены в виде числовых векторов. Это может быть достигнуто с помощью таких методов, как Bag of Words (мешок слов), TF-IDF или нейронные сети, которые преобразуют тексты в численные значения.\n",
        "\n",
        "2. Определение классов: требуется определить, какие классы или категории текстов нужно классифицировать. Например, это может быть позитивный или негативный отзыв, спам или не спам, категории новостных статей и т. д.\n",
        "\n",
        "3. Выбор алгоритма классификации: следующий шаг - выбрать модель машинного обучения для классификации текстов. Некоторые из наиболее популярных алгоритмов: наивный Байесовский классификатор, метод опорных векторов (SVM), решающие деревья, нейронные сети.\n",
        "\n",
        "4. Обучение модели: на этом шаге модель обучается на обучающей выборке, которая состоит из текстов и их соответствующих классов. Модель настраивается на обучающих данных, чтобы наилучшим образом предсказывать классы текстов.\n",
        "\n",
        "5. Оценка модели: после обучения модели необходимо оценить ее производительность с помощью тестовой выборки, которая содержит тексты, которые модель еще не видела. Оценка производится с использованием метрик, таких как точность, полнота, F-мера или ROC-кривая.\n",
        "\n",
        "После завершения этих шагов модель классификации текстов готова к использованию для классификации новых непроанализированных текстов, не входящих в обучающую выборку."
      ]
    },
    {
      "cell_type": "markdown",
      "source": [
        "## Основные методы векторизации текста:"
      ],
      "metadata": {
        "id": "3Y8vVvUdXsqH"
      },
      "id": "3Y8vVvUdXsqH"
    },
    {
      "cell_type": "markdown",
      "source": [
        "\n",
        "\n",
        "1. [Bag of Words](https://habr.com/ru/companies/mlclass/articles/270591/) (BOW): Bag of Words представляет текст как вектор, где каждый элемент обозначает количество вхождений конкретного слова в тексте. Процесс включает в себя создание словаря всех уникальных слов в корпусе текстов и подсчет частоты встречаемости каждого слова в отдельных текстах.\n",
        "\n",
        "2. [TF-IDF](https://habr.com/ru/companies/otus/articles/755772/) (Term Frequency-Inverse Document Frequency): TF-IDF учитывает не только количество вхождений слова в текст, но и частоту его встречаемости в других текстах. Он вычисляет вес слова, умножая его частоту встречаемости (term frequency) на обратную частоту документа (inverse document frequency). Это позволяет снизить вес наиболее часто встречающихся слов, которые могут быть менее информативными.\n",
        "\n",
        "3. Word Embeddings (например, [Word2Vec](https://habr.com/ru/articles/446530/) и [GloVe](https://jonathan-hui.medium.com/nlp-word-embedding-glove-5e7f523999f6)): Word Embeddings используют нейронные сети для создания векторных представлений слов, которые учитывают семантическую близость между словами. Нейронные сети обучаются на больших текстовых корпусах и захватывают семантические отношения между словами, что позволяет представить слова в векторном пространстве.\n",
        "\n",
        "4. One-Hot Encoding: One-Hot Encoding преобразует каждое слово в уникальный вектор, где все элементы равны нулю, за исключением одного, который равен единице. Каждый вектор соответствует отдельному слову и используется для представления его в пространстве признаков.\n",
        "\n",
        "5. [Count Vectorizer](https://scikit-learn.org/stable/modules/generated/sklearn.feature_extraction.text.CountVectorizer.html): Count Vectorizer подсчитывает количество раз, которое каждое слово встречается в тексте. Он создает вектор, в котором каждый элемент соответствует количеству вхождений конкретного слова в текст.\n",
        "\n",
        "6. [Hashing Vectorizer](https://kavita-ganesan.com/hashingvectorizer-vs-countvectorizer/): Hashing Vectorizer преобразует каждое слово в уникальный числовой идентификатор с помощью хеширования. Он использует хеш-функцию для преобразования слова в числовое значение, которое затем используется в векторном представлении.\n",
        "\n",
        "7. [Doc2Vec](https://habr.com/ru/articles/599513/): Doc2Vec является расширением метода Word2Vec и позволяет получить векторное представление не только отдельных слов, но и целых документов или текстов. Алгоритм обучает нейронную сеть, которая учитывает контекст и порядок слов в предложении, чтобы получить векторное представление документа. Это позволяет сравнивать и измерять семантическую близость между целыми текстовыми документами."
      ],
      "metadata": {
        "id": "1kciC82KLZe3"
      },
      "id": "1kciC82KLZe3"
    },
    {
      "cell_type": "markdown",
      "id": "002fc403",
      "metadata": {
        "papermill": {
          "duration": 0.067519,
          "end_time": "2021-08-10T10:25:31.099905",
          "exception": false,
          "start_time": "2021-08-10T10:25:31.032386",
          "status": "completed"
        },
        "tags": [],
        "id": "002fc403"
      },
      "source": [
        "# Устанавка зависимостей\n"
      ]
    },
    {
      "cell_type": "code",
      "execution_count": null,
      "id": "15cd3b46",
      "metadata": {
        "execution": {
          "iopub.execute_input": "2021-08-10T10:25:31.245962Z",
          "iopub.status.busy": "2021-08-10T10:25:31.244747Z",
          "iopub.status.idle": "2021-08-10T10:25:32.667915Z",
          "shell.execute_reply": "2021-08-10T10:25:32.667101Z",
          "shell.execute_reply.started": "2021-08-10T10:24:25.234629Z"
        },
        "papermill": {
          "duration": 1.499957,
          "end_time": "2021-08-10T10:25:32.668085",
          "exception": false,
          "start_time": "2021-08-10T10:25:31.168128",
          "status": "completed"
        },
        "tags": [],
        "id": "15cd3b46"
      },
      "outputs": [],
      "source": [
        "import numpy as np\n",
        "import pandas as pd\n",
        "\n",
        "import seaborn as sns\n",
        "%matplotlib inline\n",
        "from matplotlib import pyplot as plt\n",
        "from matplotlib import style\n",
        "from sklearn.metrics import confusion_matrix\n",
        "\n",
        "from sklearn.tree import DecisionTreeClassifier\n",
        "from sklearn.ensemble import RandomForestClassifier\n",
        "from sklearn.naive_bayes import GaussianNB,MultinomialNB,BernoulliNB\n",
        "from sklearn.svm import SVC\n",
        "from sklearn.neighbors import KNeighborsClassifier\n",
        "from sklearn.tree import DecisionTreeClassifier\n",
        "from sklearn.metrics import accuracy_score\n",
        "from sklearn.model_selection import train_test_split\n",
        "from sklearn.feature_extraction.text import CountVectorizer\n",
        "from sklearn.pipeline import Pipeline\n"
      ]
    },
    {
      "cell_type": "markdown",
      "id": "45519952",
      "metadata": {
        "papermill": {
          "duration": 0.067203,
          "end_time": "2021-08-10T10:25:32.803562",
          "exception": false,
          "start_time": "2021-08-10T10:25:32.736359",
          "status": "completed"
        },
        "tags": [],
        "id": "45519952"
      },
      "source": [
        "# Загрузка исходных данных\n"
      ]
    },
    {
      "cell_type": "code",
      "source": [
        "!git clone https://github.com/tester170/Other.git"
      ],
      "metadata": {
        "colab": {
          "base_uri": "https://localhost:8080/"
        },
        "id": "hJVEXL-bcVRg",
        "outputId": "1b3f407a-6bb7-4b9f-86b3-f8de39fb9df1"
      },
      "id": "hJVEXL-bcVRg",
      "execution_count": null,
      "outputs": [
        {
          "output_type": "stream",
          "name": "stdout",
          "text": [
            "fatal: destination path 'Other' already exists and is not an empty directory.\n"
          ]
        }
      ]
    },
    {
      "cell_type": "code",
      "execution_count": null,
      "id": "51c7adab",
      "metadata": {
        "execution": {
          "iopub.execute_input": "2021-08-10T10:25:32.944543Z",
          "iopub.status.busy": "2021-08-10T10:25:32.943736Z",
          "iopub.status.idle": "2021-08-10T10:25:32.978442Z",
          "shell.execute_reply": "2021-08-10T10:25:32.977362Z",
          "shell.execute_reply.started": "2021-08-10T10:24:25.254549Z"
        },
        "papermill": {
          "duration": 0.107393,
          "end_time": "2021-08-10T10:25:32.978611",
          "exception": false,
          "start_time": "2021-08-10T10:25:32.871218",
          "status": "completed"
        },
        "tags": [],
        "id": "51c7adab"
      },
      "outputs": [],
      "source": [
        "df=pd.read_csv(\"/content/Other/email.csv\")"
      ]
    },
    {
      "cell_type": "code",
      "execution_count": null,
      "id": "914f20d5",
      "metadata": {
        "execution": {
          "iopub.execute_input": "2021-08-10T10:25:33.128030Z",
          "iopub.status.busy": "2021-08-10T10:25:33.127331Z",
          "iopub.status.idle": "2021-08-10T10:25:33.143831Z",
          "shell.execute_reply": "2021-08-10T10:25:33.143319Z",
          "shell.execute_reply.started": "2021-08-10T10:24:25.296832Z"
        },
        "papermill": {
          "duration": 0.095672,
          "end_time": "2021-08-10T10:25:33.143990",
          "exception": false,
          "start_time": "2021-08-10T10:25:33.048318",
          "status": "completed"
        },
        "tags": [],
        "colab": {
          "base_uri": "https://localhost:8080/",
          "height": 206
        },
        "id": "914f20d5",
        "outputId": "8a7331b3-664b-4b6e-c2bd-ae569150dd54"
      },
      "outputs": [
        {
          "output_type": "execute_result",
          "data": {
            "text/plain": [
              "  Category                                            Message\n",
              "0      ham  Go until jurong point, crazy.. Available only ...\n",
              "1      ham                      Ok lar... Joking wif u oni...\n",
              "2     spam  Free entry in 2 a wkly comp to win FA Cup fina...\n",
              "3      ham  U dun say so early hor... U c already then say...\n",
              "4      ham  Nah I don't think he goes to usf, he lives aro..."
            ],
            "text/html": [
              "\n",
              "  <div id=\"df-3308f906-b45f-414c-a549-6429440f50c8\" class=\"colab-df-container\">\n",
              "    <div>\n",
              "<style scoped>\n",
              "    .dataframe tbody tr th:only-of-type {\n",
              "        vertical-align: middle;\n",
              "    }\n",
              "\n",
              "    .dataframe tbody tr th {\n",
              "        vertical-align: top;\n",
              "    }\n",
              "\n",
              "    .dataframe thead th {\n",
              "        text-align: right;\n",
              "    }\n",
              "</style>\n",
              "<table border=\"1\" class=\"dataframe\">\n",
              "  <thead>\n",
              "    <tr style=\"text-align: right;\">\n",
              "      <th></th>\n",
              "      <th>Category</th>\n",
              "      <th>Message</th>\n",
              "    </tr>\n",
              "  </thead>\n",
              "  <tbody>\n",
              "    <tr>\n",
              "      <th>0</th>\n",
              "      <td>ham</td>\n",
              "      <td>Go until jurong point, crazy.. Available only ...</td>\n",
              "    </tr>\n",
              "    <tr>\n",
              "      <th>1</th>\n",
              "      <td>ham</td>\n",
              "      <td>Ok lar... Joking wif u oni...</td>\n",
              "    </tr>\n",
              "    <tr>\n",
              "      <th>2</th>\n",
              "      <td>spam</td>\n",
              "      <td>Free entry in 2 a wkly comp to win FA Cup fina...</td>\n",
              "    </tr>\n",
              "    <tr>\n",
              "      <th>3</th>\n",
              "      <td>ham</td>\n",
              "      <td>U dun say so early hor... U c already then say...</td>\n",
              "    </tr>\n",
              "    <tr>\n",
              "      <th>4</th>\n",
              "      <td>ham</td>\n",
              "      <td>Nah I don't think he goes to usf, he lives aro...</td>\n",
              "    </tr>\n",
              "  </tbody>\n",
              "</table>\n",
              "</div>\n",
              "    <div class=\"colab-df-buttons\">\n",
              "\n",
              "  <div class=\"colab-df-container\">\n",
              "    <button class=\"colab-df-convert\" onclick=\"convertToInteractive('df-3308f906-b45f-414c-a549-6429440f50c8')\"\n",
              "            title=\"Convert this dataframe to an interactive table.\"\n",
              "            style=\"display:none;\">\n",
              "\n",
              "  <svg xmlns=\"http://www.w3.org/2000/svg\" height=\"24px\" viewBox=\"0 -960 960 960\">\n",
              "    <path d=\"M120-120v-720h720v720H120Zm60-500h600v-160H180v160Zm220 220h160v-160H400v160Zm0 220h160v-160H400v160ZM180-400h160v-160H180v160Zm440 0h160v-160H620v160ZM180-180h160v-160H180v160Zm440 0h160v-160H620v160Z\"/>\n",
              "  </svg>\n",
              "    </button>\n",
              "\n",
              "  <style>\n",
              "    .colab-df-container {\n",
              "      display:flex;\n",
              "      gap: 12px;\n",
              "    }\n",
              "\n",
              "    .colab-df-convert {\n",
              "      background-color: #E8F0FE;\n",
              "      border: none;\n",
              "      border-radius: 50%;\n",
              "      cursor: pointer;\n",
              "      display: none;\n",
              "      fill: #1967D2;\n",
              "      height: 32px;\n",
              "      padding: 0 0 0 0;\n",
              "      width: 32px;\n",
              "    }\n",
              "\n",
              "    .colab-df-convert:hover {\n",
              "      background-color: #E2EBFA;\n",
              "      box-shadow: 0px 1px 2px rgba(60, 64, 67, 0.3), 0px 1px 3px 1px rgba(60, 64, 67, 0.15);\n",
              "      fill: #174EA6;\n",
              "    }\n",
              "\n",
              "    .colab-df-buttons div {\n",
              "      margin-bottom: 4px;\n",
              "    }\n",
              "\n",
              "    [theme=dark] .colab-df-convert {\n",
              "      background-color: #3B4455;\n",
              "      fill: #D2E3FC;\n",
              "    }\n",
              "\n",
              "    [theme=dark] .colab-df-convert:hover {\n",
              "      background-color: #434B5C;\n",
              "      box-shadow: 0px 1px 3px 1px rgba(0, 0, 0, 0.15);\n",
              "      filter: drop-shadow(0px 1px 2px rgba(0, 0, 0, 0.3));\n",
              "      fill: #FFFFFF;\n",
              "    }\n",
              "  </style>\n",
              "\n",
              "    <script>\n",
              "      const buttonEl =\n",
              "        document.querySelector('#df-3308f906-b45f-414c-a549-6429440f50c8 button.colab-df-convert');\n",
              "      buttonEl.style.display =\n",
              "        google.colab.kernel.accessAllowed ? 'block' : 'none';\n",
              "\n",
              "      async function convertToInteractive(key) {\n",
              "        const element = document.querySelector('#df-3308f906-b45f-414c-a549-6429440f50c8');\n",
              "        const dataTable =\n",
              "          await google.colab.kernel.invokeFunction('convertToInteractive',\n",
              "                                                    [key], {});\n",
              "        if (!dataTable) return;\n",
              "\n",
              "        const docLinkHtml = 'Like what you see? Visit the ' +\n",
              "          '<a target=\"_blank\" href=https://colab.research.google.com/notebooks/data_table.ipynb>data table notebook</a>'\n",
              "          + ' to learn more about interactive tables.';\n",
              "        element.innerHTML = '';\n",
              "        dataTable['output_type'] = 'display_data';\n",
              "        await google.colab.output.renderOutput(dataTable, element);\n",
              "        const docLink = document.createElement('div');\n",
              "        docLink.innerHTML = docLinkHtml;\n",
              "        element.appendChild(docLink);\n",
              "      }\n",
              "    </script>\n",
              "  </div>\n",
              "\n",
              "\n",
              "<div id=\"df-aea46214-4f04-4424-be3a-84b7e2d7f7d2\">\n",
              "  <button class=\"colab-df-quickchart\" onclick=\"quickchart('df-aea46214-4f04-4424-be3a-84b7e2d7f7d2')\"\n",
              "            title=\"Suggest charts\"\n",
              "            style=\"display:none;\">\n",
              "\n",
              "<svg xmlns=\"http://www.w3.org/2000/svg\" height=\"24px\"viewBox=\"0 0 24 24\"\n",
              "     width=\"24px\">\n",
              "    <g>\n",
              "        <path d=\"M19 3H5c-1.1 0-2 .9-2 2v14c0 1.1.9 2 2 2h14c1.1 0 2-.9 2-2V5c0-1.1-.9-2-2-2zM9 17H7v-7h2v7zm4 0h-2V7h2v10zm4 0h-2v-4h2v4z\"/>\n",
              "    </g>\n",
              "</svg>\n",
              "  </button>\n",
              "\n",
              "<style>\n",
              "  .colab-df-quickchart {\n",
              "      --bg-color: #E8F0FE;\n",
              "      --fill-color: #1967D2;\n",
              "      --hover-bg-color: #E2EBFA;\n",
              "      --hover-fill-color: #174EA6;\n",
              "      --disabled-fill-color: #AAA;\n",
              "      --disabled-bg-color: #DDD;\n",
              "  }\n",
              "\n",
              "  [theme=dark] .colab-df-quickchart {\n",
              "      --bg-color: #3B4455;\n",
              "      --fill-color: #D2E3FC;\n",
              "      --hover-bg-color: #434B5C;\n",
              "      --hover-fill-color: #FFFFFF;\n",
              "      --disabled-bg-color: #3B4455;\n",
              "      --disabled-fill-color: #666;\n",
              "  }\n",
              "\n",
              "  .colab-df-quickchart {\n",
              "    background-color: var(--bg-color);\n",
              "    border: none;\n",
              "    border-radius: 50%;\n",
              "    cursor: pointer;\n",
              "    display: none;\n",
              "    fill: var(--fill-color);\n",
              "    height: 32px;\n",
              "    padding: 0;\n",
              "    width: 32px;\n",
              "  }\n",
              "\n",
              "  .colab-df-quickchart:hover {\n",
              "    background-color: var(--hover-bg-color);\n",
              "    box-shadow: 0 1px 2px rgba(60, 64, 67, 0.3), 0 1px 3px 1px rgba(60, 64, 67, 0.15);\n",
              "    fill: var(--button-hover-fill-color);\n",
              "  }\n",
              "\n",
              "  .colab-df-quickchart-complete:disabled,\n",
              "  .colab-df-quickchart-complete:disabled:hover {\n",
              "    background-color: var(--disabled-bg-color);\n",
              "    fill: var(--disabled-fill-color);\n",
              "    box-shadow: none;\n",
              "  }\n",
              "\n",
              "  .colab-df-spinner {\n",
              "    border: 2px solid var(--fill-color);\n",
              "    border-color: transparent;\n",
              "    border-bottom-color: var(--fill-color);\n",
              "    animation:\n",
              "      spin 1s steps(1) infinite;\n",
              "  }\n",
              "\n",
              "  @keyframes spin {\n",
              "    0% {\n",
              "      border-color: transparent;\n",
              "      border-bottom-color: var(--fill-color);\n",
              "      border-left-color: var(--fill-color);\n",
              "    }\n",
              "    20% {\n",
              "      border-color: transparent;\n",
              "      border-left-color: var(--fill-color);\n",
              "      border-top-color: var(--fill-color);\n",
              "    }\n",
              "    30% {\n",
              "      border-color: transparent;\n",
              "      border-left-color: var(--fill-color);\n",
              "      border-top-color: var(--fill-color);\n",
              "      border-right-color: var(--fill-color);\n",
              "    }\n",
              "    40% {\n",
              "      border-color: transparent;\n",
              "      border-right-color: var(--fill-color);\n",
              "      border-top-color: var(--fill-color);\n",
              "    }\n",
              "    60% {\n",
              "      border-color: transparent;\n",
              "      border-right-color: var(--fill-color);\n",
              "    }\n",
              "    80% {\n",
              "      border-color: transparent;\n",
              "      border-right-color: var(--fill-color);\n",
              "      border-bottom-color: var(--fill-color);\n",
              "    }\n",
              "    90% {\n",
              "      border-color: transparent;\n",
              "      border-bottom-color: var(--fill-color);\n",
              "    }\n",
              "  }\n",
              "</style>\n",
              "\n",
              "  <script>\n",
              "    async function quickchart(key) {\n",
              "      const quickchartButtonEl =\n",
              "        document.querySelector('#' + key + ' button');\n",
              "      quickchartButtonEl.disabled = true;  // To prevent multiple clicks.\n",
              "      quickchartButtonEl.classList.add('colab-df-spinner');\n",
              "      try {\n",
              "        const charts = await google.colab.kernel.invokeFunction(\n",
              "            'suggestCharts', [key], {});\n",
              "      } catch (error) {\n",
              "        console.error('Error during call to suggestCharts:', error);\n",
              "      }\n",
              "      quickchartButtonEl.classList.remove('colab-df-spinner');\n",
              "      quickchartButtonEl.classList.add('colab-df-quickchart-complete');\n",
              "    }\n",
              "    (() => {\n",
              "      let quickchartButtonEl =\n",
              "        document.querySelector('#df-aea46214-4f04-4424-be3a-84b7e2d7f7d2 button');\n",
              "      quickchartButtonEl.style.display =\n",
              "        google.colab.kernel.accessAllowed ? 'block' : 'none';\n",
              "    })();\n",
              "  </script>\n",
              "</div>\n",
              "    </div>\n",
              "  </div>\n"
            ]
          },
          "metadata": {},
          "execution_count": 49
        }
      ],
      "source": [
        "df.head()"
      ]
    },
    {
      "cell_type": "code",
      "execution_count": null,
      "id": "c988622b",
      "metadata": {
        "execution": {
          "iopub.execute_input": "2021-08-10T10:25:33.291059Z",
          "iopub.status.busy": "2021-08-10T10:25:33.290377Z",
          "iopub.status.idle": "2021-08-10T10:25:33.309087Z",
          "shell.execute_reply": "2021-08-10T10:25:33.309939Z",
          "shell.execute_reply.started": "2021-08-10T10:24:25.311330Z"
        },
        "papermill": {
          "duration": 0.09807,
          "end_time": "2021-08-10T10:25:33.310245",
          "exception": false,
          "start_time": "2021-08-10T10:25:33.212175",
          "status": "completed"
        },
        "tags": [],
        "colab": {
          "base_uri": "https://localhost:8080/"
        },
        "id": "c988622b",
        "outputId": "826bfa96-51de-4986-cc85-c30509c3a85c"
      },
      "outputs": [
        {
          "output_type": "stream",
          "name": "stdout",
          "text": [
            "<class 'pandas.core.frame.DataFrame'>\n",
            "RangeIndex: 5573 entries, 0 to 5572\n",
            "Data columns (total 2 columns):\n",
            " #   Column    Non-Null Count  Dtype \n",
            "---  ------    --------------  ----- \n",
            " 0   Category  5573 non-null   object\n",
            " 1   Message   5573 non-null   object\n",
            "dtypes: object(2)\n",
            "memory usage: 87.2+ KB\n"
          ]
        }
      ],
      "source": [
        "df.info()"
      ]
    },
    {
      "cell_type": "markdown",
      "id": "a14d34a1",
      "metadata": {
        "papermill": {
          "duration": 0.071762,
          "end_time": "2021-08-10T10:25:33.474949",
          "exception": false,
          "start_time": "2021-08-10T10:25:33.403187",
          "status": "completed"
        },
        "tags": [],
        "id": "a14d34a1"
      },
      "source": [
        "# Добавление бинарной метки класса"
      ]
    },
    {
      "cell_type": "code",
      "execution_count": null,
      "id": "dc2e33d1",
      "metadata": {
        "execution": {
          "iopub.execute_input": "2021-08-10T10:25:33.618552Z",
          "iopub.status.busy": "2021-08-10T10:25:33.617909Z",
          "iopub.status.idle": "2021-08-10T10:25:33.635045Z",
          "shell.execute_reply": "2021-08-10T10:25:33.634369Z",
          "shell.execute_reply.started": "2021-08-10T10:24:25.327564Z"
        },
        "papermill": {
          "duration": 0.089848,
          "end_time": "2021-08-10T10:25:33.635212",
          "exception": false,
          "start_time": "2021-08-10T10:25:33.545364",
          "status": "completed"
        },
        "tags": [],
        "colab": {
          "base_uri": "https://localhost:8080/",
          "height": 206
        },
        "id": "dc2e33d1",
        "outputId": "2e53dab7-9b98-4fda-baaa-3500c6d747de"
      },
      "outputs": [
        {
          "output_type": "execute_result",
          "data": {
            "text/plain": [
              "  Category                                            Message  spam\n",
              "0      ham  Go until jurong point, crazy.. Available only ...     0\n",
              "1      ham                      Ok lar... Joking wif u oni...     0\n",
              "2     spam  Free entry in 2 a wkly comp to win FA Cup fina...     1\n",
              "3      ham  U dun say so early hor... U c already then say...     0\n",
              "4      ham  Nah I don't think he goes to usf, he lives aro...     0"
            ],
            "text/html": [
              "\n",
              "  <div id=\"df-03dd41b8-36dd-4245-b0da-e335d2cc3af9\" class=\"colab-df-container\">\n",
              "    <div>\n",
              "<style scoped>\n",
              "    .dataframe tbody tr th:only-of-type {\n",
              "        vertical-align: middle;\n",
              "    }\n",
              "\n",
              "    .dataframe tbody tr th {\n",
              "        vertical-align: top;\n",
              "    }\n",
              "\n",
              "    .dataframe thead th {\n",
              "        text-align: right;\n",
              "    }\n",
              "</style>\n",
              "<table border=\"1\" class=\"dataframe\">\n",
              "  <thead>\n",
              "    <tr style=\"text-align: right;\">\n",
              "      <th></th>\n",
              "      <th>Category</th>\n",
              "      <th>Message</th>\n",
              "      <th>spam</th>\n",
              "    </tr>\n",
              "  </thead>\n",
              "  <tbody>\n",
              "    <tr>\n",
              "      <th>0</th>\n",
              "      <td>ham</td>\n",
              "      <td>Go until jurong point, crazy.. Available only ...</td>\n",
              "      <td>0</td>\n",
              "    </tr>\n",
              "    <tr>\n",
              "      <th>1</th>\n",
              "      <td>ham</td>\n",
              "      <td>Ok lar... Joking wif u oni...</td>\n",
              "      <td>0</td>\n",
              "    </tr>\n",
              "    <tr>\n",
              "      <th>2</th>\n",
              "      <td>spam</td>\n",
              "      <td>Free entry in 2 a wkly comp to win FA Cup fina...</td>\n",
              "      <td>1</td>\n",
              "    </tr>\n",
              "    <tr>\n",
              "      <th>3</th>\n",
              "      <td>ham</td>\n",
              "      <td>U dun say so early hor... U c already then say...</td>\n",
              "      <td>0</td>\n",
              "    </tr>\n",
              "    <tr>\n",
              "      <th>4</th>\n",
              "      <td>ham</td>\n",
              "      <td>Nah I don't think he goes to usf, he lives aro...</td>\n",
              "      <td>0</td>\n",
              "    </tr>\n",
              "  </tbody>\n",
              "</table>\n",
              "</div>\n",
              "    <div class=\"colab-df-buttons\">\n",
              "\n",
              "  <div class=\"colab-df-container\">\n",
              "    <button class=\"colab-df-convert\" onclick=\"convertToInteractive('df-03dd41b8-36dd-4245-b0da-e335d2cc3af9')\"\n",
              "            title=\"Convert this dataframe to an interactive table.\"\n",
              "            style=\"display:none;\">\n",
              "\n",
              "  <svg xmlns=\"http://www.w3.org/2000/svg\" height=\"24px\" viewBox=\"0 -960 960 960\">\n",
              "    <path d=\"M120-120v-720h720v720H120Zm60-500h600v-160H180v160Zm220 220h160v-160H400v160Zm0 220h160v-160H400v160ZM180-400h160v-160H180v160Zm440 0h160v-160H620v160ZM180-180h160v-160H180v160Zm440 0h160v-160H620v160Z\"/>\n",
              "  </svg>\n",
              "    </button>\n",
              "\n",
              "  <style>\n",
              "    .colab-df-container {\n",
              "      display:flex;\n",
              "      gap: 12px;\n",
              "    }\n",
              "\n",
              "    .colab-df-convert {\n",
              "      background-color: #E8F0FE;\n",
              "      border: none;\n",
              "      border-radius: 50%;\n",
              "      cursor: pointer;\n",
              "      display: none;\n",
              "      fill: #1967D2;\n",
              "      height: 32px;\n",
              "      padding: 0 0 0 0;\n",
              "      width: 32px;\n",
              "    }\n",
              "\n",
              "    .colab-df-convert:hover {\n",
              "      background-color: #E2EBFA;\n",
              "      box-shadow: 0px 1px 2px rgba(60, 64, 67, 0.3), 0px 1px 3px 1px rgba(60, 64, 67, 0.15);\n",
              "      fill: #174EA6;\n",
              "    }\n",
              "\n",
              "    .colab-df-buttons div {\n",
              "      margin-bottom: 4px;\n",
              "    }\n",
              "\n",
              "    [theme=dark] .colab-df-convert {\n",
              "      background-color: #3B4455;\n",
              "      fill: #D2E3FC;\n",
              "    }\n",
              "\n",
              "    [theme=dark] .colab-df-convert:hover {\n",
              "      background-color: #434B5C;\n",
              "      box-shadow: 0px 1px 3px 1px rgba(0, 0, 0, 0.15);\n",
              "      filter: drop-shadow(0px 1px 2px rgba(0, 0, 0, 0.3));\n",
              "      fill: #FFFFFF;\n",
              "    }\n",
              "  </style>\n",
              "\n",
              "    <script>\n",
              "      const buttonEl =\n",
              "        document.querySelector('#df-03dd41b8-36dd-4245-b0da-e335d2cc3af9 button.colab-df-convert');\n",
              "      buttonEl.style.display =\n",
              "        google.colab.kernel.accessAllowed ? 'block' : 'none';\n",
              "\n",
              "      async function convertToInteractive(key) {\n",
              "        const element = document.querySelector('#df-03dd41b8-36dd-4245-b0da-e335d2cc3af9');\n",
              "        const dataTable =\n",
              "          await google.colab.kernel.invokeFunction('convertToInteractive',\n",
              "                                                    [key], {});\n",
              "        if (!dataTable) return;\n",
              "\n",
              "        const docLinkHtml = 'Like what you see? Visit the ' +\n",
              "          '<a target=\"_blank\" href=https://colab.research.google.com/notebooks/data_table.ipynb>data table notebook</a>'\n",
              "          + ' to learn more about interactive tables.';\n",
              "        element.innerHTML = '';\n",
              "        dataTable['output_type'] = 'display_data';\n",
              "        await google.colab.output.renderOutput(dataTable, element);\n",
              "        const docLink = document.createElement('div');\n",
              "        docLink.innerHTML = docLinkHtml;\n",
              "        element.appendChild(docLink);\n",
              "      }\n",
              "    </script>\n",
              "  </div>\n",
              "\n",
              "\n",
              "<div id=\"df-f0f52092-fd82-492f-9590-40f8d6e31242\">\n",
              "  <button class=\"colab-df-quickchart\" onclick=\"quickchart('df-f0f52092-fd82-492f-9590-40f8d6e31242')\"\n",
              "            title=\"Suggest charts\"\n",
              "            style=\"display:none;\">\n",
              "\n",
              "<svg xmlns=\"http://www.w3.org/2000/svg\" height=\"24px\"viewBox=\"0 0 24 24\"\n",
              "     width=\"24px\">\n",
              "    <g>\n",
              "        <path d=\"M19 3H5c-1.1 0-2 .9-2 2v14c0 1.1.9 2 2 2h14c1.1 0 2-.9 2-2V5c0-1.1-.9-2-2-2zM9 17H7v-7h2v7zm4 0h-2V7h2v10zm4 0h-2v-4h2v4z\"/>\n",
              "    </g>\n",
              "</svg>\n",
              "  </button>\n",
              "\n",
              "<style>\n",
              "  .colab-df-quickchart {\n",
              "      --bg-color: #E8F0FE;\n",
              "      --fill-color: #1967D2;\n",
              "      --hover-bg-color: #E2EBFA;\n",
              "      --hover-fill-color: #174EA6;\n",
              "      --disabled-fill-color: #AAA;\n",
              "      --disabled-bg-color: #DDD;\n",
              "  }\n",
              "\n",
              "  [theme=dark] .colab-df-quickchart {\n",
              "      --bg-color: #3B4455;\n",
              "      --fill-color: #D2E3FC;\n",
              "      --hover-bg-color: #434B5C;\n",
              "      --hover-fill-color: #FFFFFF;\n",
              "      --disabled-bg-color: #3B4455;\n",
              "      --disabled-fill-color: #666;\n",
              "  }\n",
              "\n",
              "  .colab-df-quickchart {\n",
              "    background-color: var(--bg-color);\n",
              "    border: none;\n",
              "    border-radius: 50%;\n",
              "    cursor: pointer;\n",
              "    display: none;\n",
              "    fill: var(--fill-color);\n",
              "    height: 32px;\n",
              "    padding: 0;\n",
              "    width: 32px;\n",
              "  }\n",
              "\n",
              "  .colab-df-quickchart:hover {\n",
              "    background-color: var(--hover-bg-color);\n",
              "    box-shadow: 0 1px 2px rgba(60, 64, 67, 0.3), 0 1px 3px 1px rgba(60, 64, 67, 0.15);\n",
              "    fill: var(--button-hover-fill-color);\n",
              "  }\n",
              "\n",
              "  .colab-df-quickchart-complete:disabled,\n",
              "  .colab-df-quickchart-complete:disabled:hover {\n",
              "    background-color: var(--disabled-bg-color);\n",
              "    fill: var(--disabled-fill-color);\n",
              "    box-shadow: none;\n",
              "  }\n",
              "\n",
              "  .colab-df-spinner {\n",
              "    border: 2px solid var(--fill-color);\n",
              "    border-color: transparent;\n",
              "    border-bottom-color: var(--fill-color);\n",
              "    animation:\n",
              "      spin 1s steps(1) infinite;\n",
              "  }\n",
              "\n",
              "  @keyframes spin {\n",
              "    0% {\n",
              "      border-color: transparent;\n",
              "      border-bottom-color: var(--fill-color);\n",
              "      border-left-color: var(--fill-color);\n",
              "    }\n",
              "    20% {\n",
              "      border-color: transparent;\n",
              "      border-left-color: var(--fill-color);\n",
              "      border-top-color: var(--fill-color);\n",
              "    }\n",
              "    30% {\n",
              "      border-color: transparent;\n",
              "      border-left-color: var(--fill-color);\n",
              "      border-top-color: var(--fill-color);\n",
              "      border-right-color: var(--fill-color);\n",
              "    }\n",
              "    40% {\n",
              "      border-color: transparent;\n",
              "      border-right-color: var(--fill-color);\n",
              "      border-top-color: var(--fill-color);\n",
              "    }\n",
              "    60% {\n",
              "      border-color: transparent;\n",
              "      border-right-color: var(--fill-color);\n",
              "    }\n",
              "    80% {\n",
              "      border-color: transparent;\n",
              "      border-right-color: var(--fill-color);\n",
              "      border-bottom-color: var(--fill-color);\n",
              "    }\n",
              "    90% {\n",
              "      border-color: transparent;\n",
              "      border-bottom-color: var(--fill-color);\n",
              "    }\n",
              "  }\n",
              "</style>\n",
              "\n",
              "  <script>\n",
              "    async function quickchart(key) {\n",
              "      const quickchartButtonEl =\n",
              "        document.querySelector('#' + key + ' button');\n",
              "      quickchartButtonEl.disabled = true;  // To prevent multiple clicks.\n",
              "      quickchartButtonEl.classList.add('colab-df-spinner');\n",
              "      try {\n",
              "        const charts = await google.colab.kernel.invokeFunction(\n",
              "            'suggestCharts', [key], {});\n",
              "      } catch (error) {\n",
              "        console.error('Error during call to suggestCharts:', error);\n",
              "      }\n",
              "      quickchartButtonEl.classList.remove('colab-df-spinner');\n",
              "      quickchartButtonEl.classList.add('colab-df-quickchart-complete');\n",
              "    }\n",
              "    (() => {\n",
              "      let quickchartButtonEl =\n",
              "        document.querySelector('#df-f0f52092-fd82-492f-9590-40f8d6e31242 button');\n",
              "      quickchartButtonEl.style.display =\n",
              "        google.colab.kernel.accessAllowed ? 'block' : 'none';\n",
              "    })();\n",
              "  </script>\n",
              "</div>\n",
              "    </div>\n",
              "  </div>\n"
            ]
          },
          "metadata": {},
          "execution_count": 51
        }
      ],
      "source": [
        "df['spam']=df['Category'].apply(lambda x: 1 if x=='spam' else 0)\n",
        "df.head()"
      ]
    },
    {
      "cell_type": "code",
      "execution_count": null,
      "id": "b6619758",
      "metadata": {
        "execution": {
          "iopub.execute_input": "2021-08-10T10:25:33.778418Z",
          "iopub.status.busy": "2021-08-10T10:25:33.777445Z",
          "iopub.status.idle": "2021-08-10T10:25:33.781697Z",
          "shell.execute_reply": "2021-08-10T10:25:33.782170Z",
          "shell.execute_reply.started": "2021-08-10T10:24:25.365331Z"
        },
        "papermill": {
          "duration": 0.077492,
          "end_time": "2021-08-10T10:25:33.782347",
          "exception": false,
          "start_time": "2021-08-10T10:25:33.704855",
          "status": "completed"
        },
        "tags": [],
        "id": "b6619758"
      },
      "outputs": [],
      "source": [
        "X=df['Message']\n",
        "Y=df['spam']"
      ]
    },
    {
      "cell_type": "markdown",
      "id": "0b8ee176",
      "metadata": {
        "papermill": {
          "duration": 0.06976,
          "end_time": "2021-08-10T10:25:33.922288",
          "exception": false,
          "start_time": "2021-08-10T10:25:33.852528",
          "status": "completed"
        },
        "tags": [],
        "id": "0b8ee176"
      },
      "source": [
        "# Разделение обучающих и тестовых данных\n"
      ]
    },
    {
      "cell_type": "code",
      "execution_count": null,
      "id": "f1ef7263",
      "metadata": {
        "execution": {
          "iopub.execute_input": "2021-08-10T10:25:34.068021Z",
          "iopub.status.busy": "2021-08-10T10:25:34.067349Z",
          "iopub.status.idle": "2021-08-10T10:25:34.073054Z",
          "shell.execute_reply": "2021-08-10T10:25:34.073637Z",
          "shell.execute_reply.started": "2021-08-10T10:24:25.390054Z"
        },
        "papermill": {
          "duration": 0.079836,
          "end_time": "2021-08-10T10:25:34.073815",
          "exception": false,
          "start_time": "2021-08-10T10:25:33.993979",
          "status": "completed"
        },
        "tags": [],
        "id": "f1ef7263"
      },
      "outputs": [],
      "source": [
        "X_train, X_test, y_train, y_test = train_test_split(X,Y)"
      ]
    },
    {
      "cell_type": "markdown",
      "source": [
        "# **Алгоритм Наивного Байеса**\n",
        "\n",
        "## <b>Что представляет собой алгоритм Naive Bayes (Наивный Байес)?</b><br>\n",
        "### Это метод классификации, основанный на теореме Байеса с предположением о независимости признаков между собой. Проще говоря, классификатор Naive Bayes предполагает, что наличие конкретного признака в классе не связано с наличием любого другого признака.\n",
        "## <b> Что такое классификатор Наивного Байеса?</b>\n",
        "### Наивный Байес - это метод статистической классификации, основанный на теореме Байеса. Это один из самых простых алгоритмов контролируемого обучения. Классификатор Naive Bayes является быстрым, точным и надежным алгоритмом. Классификаторы Naive Bayes обладают высокой точностью и скоростью работы на больших наборах данных.\n",
        "\n",
        "### Классификатор Naive Bayes предполагает, что влияние конкретного признака в классе не зависит от других признаков. Например, желательность или нежелательность кандидата на получение кредита зависит от его дохода, истории предыдущих кредитов и сделок, возраста и местоположения. Даже если эти признаки взаимозависимы, они все равно рассматриваются независимо. Это предположение упрощает вычисления, поэтому оно считается наивным. Такое предположение называется условной независимостью класса.\n",
        "\n",
        "<center>\n",
        "<img src=\"https://res.cloudinary.com/dyd911kmh/image/upload/f_auto,q_auto:best/v1543836882/image_3_ijznzs.png\">\n",
        "</center>\n",
        "<ul>\n",
        "<li>P(h): вероятность признака h.</li>\n",
        "<li>P(D): априорная вероятность класса D.</li>\n",
        "<li>P(h|D): условная вероятность признаков h при заданном классе D</li>\n",
        "<li>P(D|h): апостериорная вероятность класса D при условии признаков h.</li>\n",
        "</ul>\n",
        "\n",
        "\n",
        "\n",
        "<br>\n",
        "<br>"
      ],
      "metadata": {
        "id": "2YQHSW6F8Cf4"
      },
      "id": "2YQHSW6F8Cf4"
    },
    {
      "cell_type": "markdown",
      "source": [
        "## Пример\n",
        "\n",
        "Рассмотрим простой пример классификации электронных писем как спама или не спама с помощью метода наивного байеса.\n",
        "\n",
        "Предположим, у нас есть следующие признаки (слова) и классы (спам или не спам):\n",
        "\n",
        "Признаки (слова):\n",
        "1. \"купить\"\n",
        "2. \"скидка\"\n",
        "3. \"выиграть\"\n",
        "4. \"лидерство\"\n",
        "\n",
        "Классы:\n",
        "* A. Спам\n",
        "* B. Не спам\n",
        "\n",
        "Теперь предположим, что у нас есть новое письмо: \"Получите скидку на покупку лидерства!\"\n",
        "\n",
        "Давайте выразим вероятность того, что письмо является спамом, используя теорему Байеса:\n",
        "\n",
        "P(Спам|слова) = P(слова|Спам) * P(Спам) / P(слова),\n",
        "\n",
        "где:\n",
        "\n",
        "* P(Спам|слова) - вероятность того, что письмо является спамом при заданных словах,\n",
        "* P(слова|Спам) - вероятность появления слов в спам-письмах,\n",
        "* P(Спам) - априорная вероятность спама,\n",
        "* P(слова) - общая вероятность появления этих слов во всех письмах.\n",
        "\n",
        "Для использования метода наивного байеса мы допускаем, что вероятность появления слов в письме не зависит от других слов. Это означает, что мы можем выразить P(слова|Спам) как произведение индивидуальных вероятностей появления каждого слова в спам-письмах.\n",
        "\n",
        "Давайте предположим, что у нас есть следующие вероятности:\n",
        "* P(купить|Спам) = 0.8\n",
        "* P(скидка|Спам) = 0.7\n",
        "* P(выиграть|Спам) = 0.3\n",
        "* P(лидерство|Спам) = 0.5\n",
        "* P(Спам) = 0.4 (априорная вероятность спама)\n",
        "\n",
        "Теперь мы можем вычислить вероятность того, что письмо: \"Получите скидку на покупку лидерства!\" является спамом:\n",
        "\n",
        "P(Спам|слова) = 0.7 * 0.8 * 0.5 * 0.7 * 0.4 / P(слова)\n",
        "\n",
        "В данной ситуации стоит учесть, что P(слова) - это общая вероятность появления этих слов во всех письмах. Давайте примем значение P(слова) за 0.1 в качестве примера.\n",
        "\n",
        "Тогда:\n",
        "\n",
        "* P(Спам|слова) = (0.7 * 0.8 * 0.5 * 0.7 * 0.4) / 0.1\n",
        "* P(Спам|слова) = 0.784\n",
        "\n",
        "Таким образом, при данных значениях вероятностей, вероятность того, что письмо \"Получите скидку на покупку лидерства!\" является спамом составляет приблизительно 0.784 или 78.4%.\n",
        "\n"
      ],
      "metadata": {
        "id": "hrW3CWc68E6A"
      },
      "id": "hrW3CWc68E6A"
    },
    {
      "cell_type": "markdown",
      "source": [
        "## Некоторые виды Байесова классификатора:"
      ],
      "metadata": {
        "id": "C1K8b9BbQLmv"
      },
      "id": "C1K8b9BbQLmv"
    },
    {
      "cell_type": "markdown",
      "source": [
        "Основная разница между классификаторами заключается в предположениях, которые они делают о распределении вероятностей признаков:\n",
        "\n",
        "1. Наивный байесовский классификатор:\n",
        "Наивный байесовский классификатор предполагает, что все признаки являются независимыми друг от друга. Это наивное предположение делается для упрощения модели, чтобы снизить вычислительную сложность. Он использует теорему Байеса для оценки апостериорной вероятности класса для каждого объекта.\n",
        "\n",
        "2. Гауссовый байесовский классификатор:\n",
        "Гауссовый байесовский классификатор предполагает, что признаки объектов имеют нормальное распределение. Он использует параметры распределения (среднее и дисперсию) для каждого класса для оценки апостериорной вероятности класса для каждого объекта. Этот классификатор хорошо работает с непрерывными значениями признаков.\n",
        "\n",
        "3. Мультиномиальный байесовский классификатор:\n",
        "Мультиномиальный байесовский классификатор предполагает, что каждый класс данных имеет мультиномиальное распределение, и классифицирует новые точки данных на основе вероятностей, рассчитанных с использованием этого распределения. Этот классификатор обычно используется для работы с текстовыми данными или другими данными с дискретными значениями, такими как счетчики или категории.\n",
        "\n",
        "Выбор между этими классификаторами зависит от свойств данных и природы задачи классификации. Если признаки независимы, можно использовать наивный байесовский классификатор. Если признаки непрерывны и имеют нормальное распределение, гауссовый классификатор может быть более подходящим выбором. Если признаки дискретные, мультиномиальный классификатор может быть наиболее предпочтительным."
      ],
      "metadata": {
        "id": "LQWsoCT_PooN"
      },
      "id": "LQWsoCT_PooN"
    },
    {
      "cell_type": "markdown",
      "source": [
        "### Про гауссово и мультиноминальное распределение"
      ],
      "metadata": {
        "id": "0xX_DtDrQEJ6"
      },
      "id": "0xX_DtDrQEJ6"
    },
    {
      "cell_type": "markdown",
      "source": [
        "\n",
        "Гауссово и мультиномиальное распределения - это два различных типа вероятностных распределений, которые используются в статистике и машинном обучении.\n",
        "\n",
        "Гауссово (или нормальное) распределение представляет собой непрерывное распределение вероятностей, которое описывает случайные переменные, характеризующиеся непрерывной шкалой значений. Оно обладает следующими особенностями:\n",
        "\n",
        "1. Форма распределения: Гауссово распределение обычно имеет колоколообразную форму, где большинство значений сосредоточены около среднего значения (математического ожидания), и симметрично относительно этого значения.\n",
        "2. Один параметр: Гауссово распределение полностью описывается двумя параметрами - средним значением (математическим ожиданием) и дисперсией, которая определяет степень разброса значений от среднего значения.\n",
        "3. Центральная предельная теорема: Гауссово распределение часто используется в статистике благодаря свойству центральной предельной теоремы, которая утверждает, что сумма большого числа случайных независимых переменных будет приближаться к гауссову распределению.\n",
        "\n",
        "Мультиномиальное распределение, напротив, представляет собой дискретное распределение вероятностей, которое используется для описания случайных переменных, которые могут принимать одно из нескольких значений с определенными вероятностями. Оно обладает следующими особенностями:\n",
        "\n",
        "1. Категориальные переменные: Мультиномиальное распределение используется для моделирования ситуаций, где наблюдения относятся к категориальным переменным с несколькими категориями. Например, выбор цвета (красный, зеленый, синий) или выбор геометрической фигуры (круг, квадрат, треугольник).\n",
        "2. Набор вероятностей: Мультиномиальное распределение определяется набором вероятностей, которые описывают вероятность каждой возможной категории. Сумма вероятностей равна 1.\n",
        "3. Несколько параметров: Мультиномиальное распределение имеет несколько параметров, равных количеству категорий, которые можно выбрать. Каждый параметр отвечает за вероятность выбора соответствующей категории.\n",
        "\n",
        "Основная разница между гауссовым и мультиномиальным распределениями заключается в их форме, типе переменных, которые они моделируют, и количестве параметров, которые их описывают. Гауссово распределение используется для моделирования непрерывных переменных, тогда как мультиномиальное распределение применяется для моделирования дискретных переменных с несколькими категориями.\n",
        "\n"
      ],
      "metadata": {
        "id": "kTVTb-pnOFXS"
      },
      "id": "kTVTb-pnOFXS"
    },
    {
      "cell_type": "markdown",
      "id": "b4edde47",
      "metadata": {
        "papermill": {
          "duration": 0.069763,
          "end_time": "2021-08-10T10:25:34.356510",
          "exception": false,
          "start_time": "2021-08-10T10:25:34.286747",
          "status": "completed"
        },
        "tags": [],
        "id": "b4edde47"
      },
      "source": [
        "## Построение модели Байесовского классификатора\n"
      ]
    },
    {
      "cell_type": "markdown",
      "source": [
        "**Для удобства построения классификаторов будем использовать класс Pipeline из scikit-learn**\n",
        "\n",
        "Pipeline в scikit-learn является удобным инструментом для последовательного преобразования данных и применения модели. Он позволяет объединить несколько этапов обработки данных в единую конвейерную модель, что упрощает процесс преобразования данных и создания модели.\n",
        "\n",
        "Pipeline состоит из последовательности шагов, где каждый шаг имеет уникальное имя и действие. Каждый шаг может быть преобразованием данных, таким как масштабирование, селекция признаков или преобразование категориальных переменных, а также может быть моделью для обучения и прогнозирования.\n",
        "\n",
        "Преобразования данных в Pipeline применяются последовательно, в порядке, в котором они определены. Например, можно начать с масштабирования данных с помощью StandardScaler, затем применить PCA для сокращения размерности и, наконец, обучить модель, например, LogisticRegression.\n",
        "\n",
        "Пример создания Pipeline для классификации из документации:\n",
        "\n",
        "```python\n",
        "from sklearn.pipeline import Pipeline\n",
        "from sklearn.preprocessing import StandardScaler\n",
        "from sklearn.decomposition import PCA\n",
        "from sklearn.linear_model import LogisticRegression\n",
        "\n",
        "# Определение шагов конвейера\n",
        "steps = [\n",
        "    ('scaler', StandardScaler()),     # масштабирование данных\n",
        "    ('pca', PCA(n_components=2)),     # уменьшение размерности\n",
        "    ('classifier', LogisticRegression())    # классификатор\n",
        "]\n",
        "\n",
        "# Создание конвейера\n",
        "pipeline = Pipeline(steps)\n",
        "\n",
        "# Обучение модели\n",
        "pipeline.fit(X_train, y_train)\n",
        "\n",
        "# Прогнозирование\n",
        "y_pred = pipeline.predict(X_test)\n",
        "```\n",
        "\n",
        "В данном примере создается Pipeline с тремя шагами: масштабирование данных с помощью StandardScaler, уменьшение размерности до 2 с помощью PCA и классификация с использованием LogisticRegression. Обучение модели и прогнозирование осуществляются с помощью pipeline.\n",
        "\n",
        "* Pipeline также позволяет легко выполнять кросс-валидацию модели и подбор гиперпараметров. Он интегрируется с функцией GridSearchCV, что позволяет автоматически подбирать лучшие значения параметров для каждого этапа конвейера.\n",
        "\n",
        "* Pipeline в scikit-learn упрощает и улучшает процесс преобразования данных и создания модели, позволяя объединить все необходимые операции в одной удобной структуре.\n",
        "\n",
        "Документация: https://scikit-learn.org/stable/modules/generated/sklearn.pipeline.Pipeline.html"
      ],
      "metadata": {
        "id": "IUq1XnIiDxX3"
      },
      "id": "IUq1XnIiDxX3"
    },
    {
      "cell_type": "code",
      "execution_count": null,
      "id": "064d85c0",
      "metadata": {
        "execution": {
          "iopub.execute_input": "2021-08-10T10:25:34.499273Z",
          "iopub.status.busy": "2021-08-10T10:25:34.498631Z",
          "iopub.status.idle": "2021-08-10T10:25:34.504073Z",
          "shell.execute_reply": "2021-08-10T10:25:34.503536Z",
          "shell.execute_reply.started": "2021-08-10T10:24:25.409802Z"
        },
        "papermill": {
          "duration": 0.077076,
          "end_time": "2021-08-10T10:25:34.504232",
          "exception": false,
          "start_time": "2021-08-10T10:25:34.427156",
          "status": "completed"
        },
        "tags": [],
        "id": "064d85c0"
      },
      "outputs": [],
      "source": [
        "clf_NaiveBaised= Pipeline([\n",
        "    ('vectorizer', CountVectorizer()),\n",
        "    ('nd', MultinomialNB())\n",
        "])"
      ]
    },
    {
      "cell_type": "code",
      "execution_count": null,
      "id": "4daca60d",
      "metadata": {
        "execution": {
          "iopub.execute_input": "2021-08-10T10:25:34.672395Z",
          "iopub.status.busy": "2021-08-10T10:25:34.667095Z",
          "iopub.status.idle": "2021-08-10T10:25:34.774971Z",
          "shell.execute_reply": "2021-08-10T10:25:34.774410Z",
          "shell.execute_reply.started": "2021-08-10T10:24:25.434844Z"
        },
        "papermill": {
          "duration": 0.200592,
          "end_time": "2021-08-10T10:25:34.775119",
          "exception": false,
          "start_time": "2021-08-10T10:25:34.574527",
          "status": "completed"
        },
        "tags": [],
        "colab": {
          "base_uri": "https://localhost:8080/",
          "height": 126
        },
        "id": "4daca60d",
        "outputId": "5971a094-59a9-457d-b5cc-d3246f8d81e5"
      },
      "outputs": [
        {
          "output_type": "execute_result",
          "data": {
            "text/plain": [
              "Pipeline(steps=[('vectorizer', CountVectorizer()), ('nd', MultinomialNB())])"
            ],
            "text/html": [
              "<style>#sk-container-id-6 {color: black;background-color: white;}#sk-container-id-6 pre{padding: 0;}#sk-container-id-6 div.sk-toggleable {background-color: white;}#sk-container-id-6 label.sk-toggleable__label {cursor: pointer;display: block;width: 100%;margin-bottom: 0;padding: 0.3em;box-sizing: border-box;text-align: center;}#sk-container-id-6 label.sk-toggleable__label-arrow:before {content: \"▸\";float: left;margin-right: 0.25em;color: #696969;}#sk-container-id-6 label.sk-toggleable__label-arrow:hover:before {color: black;}#sk-container-id-6 div.sk-estimator:hover label.sk-toggleable__label-arrow:before {color: black;}#sk-container-id-6 div.sk-toggleable__content {max-height: 0;max-width: 0;overflow: hidden;text-align: left;background-color: #f0f8ff;}#sk-container-id-6 div.sk-toggleable__content pre {margin: 0.2em;color: black;border-radius: 0.25em;background-color: #f0f8ff;}#sk-container-id-6 input.sk-toggleable__control:checked~div.sk-toggleable__content {max-height: 200px;max-width: 100%;overflow: auto;}#sk-container-id-6 input.sk-toggleable__control:checked~label.sk-toggleable__label-arrow:before {content: \"▾\";}#sk-container-id-6 div.sk-estimator input.sk-toggleable__control:checked~label.sk-toggleable__label {background-color: #d4ebff;}#sk-container-id-6 div.sk-label input.sk-toggleable__control:checked~label.sk-toggleable__label {background-color: #d4ebff;}#sk-container-id-6 input.sk-hidden--visually {border: 0;clip: rect(1px 1px 1px 1px);clip: rect(1px, 1px, 1px, 1px);height: 1px;margin: -1px;overflow: hidden;padding: 0;position: absolute;width: 1px;}#sk-container-id-6 div.sk-estimator {font-family: monospace;background-color: #f0f8ff;border: 1px dotted black;border-radius: 0.25em;box-sizing: border-box;margin-bottom: 0.5em;}#sk-container-id-6 div.sk-estimator:hover {background-color: #d4ebff;}#sk-container-id-6 div.sk-parallel-item::after {content: \"\";width: 100%;border-bottom: 1px solid gray;flex-grow: 1;}#sk-container-id-6 div.sk-label:hover label.sk-toggleable__label {background-color: #d4ebff;}#sk-container-id-6 div.sk-serial::before {content: \"\";position: absolute;border-left: 1px solid gray;box-sizing: border-box;top: 0;bottom: 0;left: 50%;z-index: 0;}#sk-container-id-6 div.sk-serial {display: flex;flex-direction: column;align-items: center;background-color: white;padding-right: 0.2em;padding-left: 0.2em;position: relative;}#sk-container-id-6 div.sk-item {position: relative;z-index: 1;}#sk-container-id-6 div.sk-parallel {display: flex;align-items: stretch;justify-content: center;background-color: white;position: relative;}#sk-container-id-6 div.sk-item::before, #sk-container-id-6 div.sk-parallel-item::before {content: \"\";position: absolute;border-left: 1px solid gray;box-sizing: border-box;top: 0;bottom: 0;left: 50%;z-index: -1;}#sk-container-id-6 div.sk-parallel-item {display: flex;flex-direction: column;z-index: 1;position: relative;background-color: white;}#sk-container-id-6 div.sk-parallel-item:first-child::after {align-self: flex-end;width: 50%;}#sk-container-id-6 div.sk-parallel-item:last-child::after {align-self: flex-start;width: 50%;}#sk-container-id-6 div.sk-parallel-item:only-child::after {width: 0;}#sk-container-id-6 div.sk-dashed-wrapped {border: 1px dashed gray;margin: 0 0.4em 0.5em 0.4em;box-sizing: border-box;padding-bottom: 0.4em;background-color: white;}#sk-container-id-6 div.sk-label label {font-family: monospace;font-weight: bold;display: inline-block;line-height: 1.2em;}#sk-container-id-6 div.sk-label-container {text-align: center;}#sk-container-id-6 div.sk-container {/* jupyter's `normalize.less` sets `[hidden] { display: none; }` but bootstrap.min.css set `[hidden] { display: none !important; }` so we also need the `!important` here to be able to override the default hidden behavior on the sphinx rendered scikit-learn.org. See: https://github.com/scikit-learn/scikit-learn/issues/21755 */display: inline-block !important;position: relative;}#sk-container-id-6 div.sk-text-repr-fallback {display: none;}</style><div id=\"sk-container-id-6\" class=\"sk-top-container\"><div class=\"sk-text-repr-fallback\"><pre>Pipeline(steps=[(&#x27;vectorizer&#x27;, CountVectorizer()), (&#x27;nd&#x27;, MultinomialNB())])</pre><b>In a Jupyter environment, please rerun this cell to show the HTML representation or trust the notebook. <br />On GitHub, the HTML representation is unable to render, please try loading this page with nbviewer.org.</b></div><div class=\"sk-container\" hidden><div class=\"sk-item sk-dashed-wrapped\"><div class=\"sk-label-container\"><div class=\"sk-label sk-toggleable\"><input class=\"sk-toggleable__control sk-hidden--visually\" id=\"sk-estimator-id-16\" type=\"checkbox\" ><label for=\"sk-estimator-id-16\" class=\"sk-toggleable__label sk-toggleable__label-arrow\">Pipeline</label><div class=\"sk-toggleable__content\"><pre>Pipeline(steps=[(&#x27;vectorizer&#x27;, CountVectorizer()), (&#x27;nd&#x27;, MultinomialNB())])</pre></div></div></div><div class=\"sk-serial\"><div class=\"sk-item\"><div class=\"sk-estimator sk-toggleable\"><input class=\"sk-toggleable__control sk-hidden--visually\" id=\"sk-estimator-id-17\" type=\"checkbox\" ><label for=\"sk-estimator-id-17\" class=\"sk-toggleable__label sk-toggleable__label-arrow\">CountVectorizer</label><div class=\"sk-toggleable__content\"><pre>CountVectorizer()</pre></div></div></div><div class=\"sk-item\"><div class=\"sk-estimator sk-toggleable\"><input class=\"sk-toggleable__control sk-hidden--visually\" id=\"sk-estimator-id-18\" type=\"checkbox\" ><label for=\"sk-estimator-id-18\" class=\"sk-toggleable__label sk-toggleable__label-arrow\">MultinomialNB</label><div class=\"sk-toggleable__content\"><pre>MultinomialNB()</pre></div></div></div></div></div></div></div>"
            ]
          },
          "metadata": {},
          "execution_count": 55
        }
      ],
      "source": [
        "clf_NaiveBaised.fit(X_train,y_train)"
      ]
    },
    {
      "cell_type": "code",
      "execution_count": null,
      "id": "98f067ae",
      "metadata": {
        "execution": {
          "iopub.execute_input": "2021-08-10T10:25:34.934444Z",
          "iopub.status.busy": "2021-08-10T10:25:34.929053Z",
          "iopub.status.idle": "2021-08-10T10:25:34.956458Z",
          "shell.execute_reply": "2021-08-10T10:25:34.955708Z",
          "shell.execute_reply.started": "2021-08-10T10:24:25.563581Z"
        },
        "papermill": {
          "duration": 0.111347,
          "end_time": "2021-08-10T10:25:34.956624",
          "exception": false,
          "start_time": "2021-08-10T10:25:34.845277",
          "status": "completed"
        },
        "tags": [],
        "id": "98f067ae"
      },
      "outputs": [],
      "source": [
        "y_pred_NB=clf_NaiveBaised.predict(X_test)"
      ]
    },
    {
      "cell_type": "code",
      "execution_count": null,
      "id": "b6b955d7",
      "metadata": {
        "execution": {
          "iopub.execute_input": "2021-08-10T10:25:35.104504Z",
          "iopub.status.busy": "2021-08-10T10:25:35.103777Z",
          "iopub.status.idle": "2021-08-10T10:25:35.111723Z",
          "shell.execute_reply": "2021-08-10T10:25:35.111169Z",
          "shell.execute_reply.started": "2021-08-10T10:24:25.604178Z"
        },
        "papermill": {
          "duration": 0.084361,
          "end_time": "2021-08-10T10:25:35.111862",
          "exception": false,
          "start_time": "2021-08-10T10:25:35.027501",
          "status": "completed"
        },
        "tags": [],
        "id": "b6b955d7"
      },
      "outputs": [],
      "source": [
        "conf_mat_NB=confusion_matrix(y_test, y_pred_NB)"
      ]
    },
    {
      "cell_type": "markdown",
      "id": "e6b9f139",
      "metadata": {
        "papermill": {
          "duration": 0.069398,
          "end_time": "2021-08-10T10:25:35.252366",
          "exception": false,
          "start_time": "2021-08-10T10:25:35.182968",
          "status": "completed"
        },
        "tags": [],
        "id": "e6b9f139"
      },
      "source": [
        "## Построение матрицы ошибок:"
      ]
    },
    {
      "cell_type": "code",
      "execution_count": null,
      "id": "7281ced4",
      "metadata": {
        "execution": {
          "iopub.execute_input": "2021-08-10T10:25:35.400505Z",
          "iopub.status.busy": "2021-08-10T10:25:35.399416Z",
          "iopub.status.idle": "2021-08-10T10:25:35.676221Z",
          "shell.execute_reply": "2021-08-10T10:25:35.675469Z",
          "shell.execute_reply.started": "2021-08-10T10:24:25.614776Z"
        },
        "papermill": {
          "duration": 0.352215,
          "end_time": "2021-08-10T10:25:35.676370",
          "exception": false,
          "start_time": "2021-08-10T10:25:35.324155",
          "status": "completed"
        },
        "tags": [],
        "colab": {
          "base_uri": "https://localhost:8080/",
          "height": 694
        },
        "id": "7281ced4",
        "outputId": "d1d908a2-6e89-4acd-9ed8-9608226690b5"
      },
      "outputs": [
        {
          "output_type": "execute_result",
          "data": {
            "text/plain": [
              "<Axes: >"
            ]
          },
          "metadata": {},
          "execution_count": 58
        },
        {
          "output_type": "display_data",
          "data": {
            "text/plain": [
              "<Figure size 1000x800 with 2 Axes>"
            ],
            "image/png": "[encoded data removed]"
          },
          "metadata": {}
        }
      ],
      "source": [
        "plt.figure(figsize=(10,8))\n",
        "sns.heatmap(conf_mat_NB,annot=True,fmt='d')"
      ]
    },
    {
      "cell_type": "code",
      "execution_count": null,
      "id": "1a651a29",
      "metadata": {
        "execution": {
          "iopub.execute_input": "2021-08-10T10:25:35.870963Z",
          "iopub.status.busy": "2021-08-10T10:25:35.869560Z",
          "iopub.status.idle": "2021-08-10T10:25:35.877086Z",
          "shell.execute_reply": "2021-08-10T10:25:35.877729Z",
          "shell.execute_reply.started": "2021-08-10T10:24:25.851961Z"
        },
        "papermill": {
          "duration": 0.128579,
          "end_time": "2021-08-10T10:25:35.877929",
          "exception": false,
          "start_time": "2021-08-10T10:25:35.749350",
          "status": "completed"
        },
        "tags": [],
        "colab": {
          "base_uri": "https://localhost:8080/"
        },
        "id": "1a651a29",
        "outputId": "0c9b98ef-a931-4b87-e3de-5216fb288ba7"
      },
      "outputs": [
        {
          "output_type": "execute_result",
          "data": {
            "text/plain": [
              "0.9806312769010043"
            ]
          },
          "metadata": {},
          "execution_count": 59
        }
      ],
      "source": [
        "naive_acc=accuracy_score(y_test,y_pred_NB)\n",
        "naive_acc"
      ]
    },
    {
      "cell_type": "markdown",
      "source": [
        "# Метод опорных векторов (Support Vector Machine Classifier - SVM)"
      ],
      "metadata": {
        "id": "S6FNd2n0BQGR"
      },
      "id": "S6FNd2n0BQGR"
    },
    {
      "cell_type": "markdown",
      "id": "79e2fe7b",
      "metadata": {
        "papermill": {
          "duration": 0.071617,
          "end_time": "2021-08-10T10:25:36.021119",
          "exception": false,
          "start_time": "2021-08-10T10:25:35.949502",
          "status": "completed"
        },
        "tags": [],
        "id": "79e2fe7b"
      },
      "source": [
        "### Support Vector Machines\n",
        "В общем случае машины с опорными векторами считаются классификационным подходом, однако они могут применяться как для решения задач классификации, так и для решения задач регрессии.\n",
        "\n",
        "* SVM легко работать с несколькими непрерывными и категориальными переменными.\n",
        "* SVM строит гиперплоскость в многомерном пространстве для разделения различных классов.\n",
        "* SVM итеративно генерирует оптимальную гиперплоскость, которая используется для минимизации ошибки.\n",
        "\n",
        "Основная идея SVM заключается в поиске максимальной предельной гиперплоскости, которая наилучшим образом разделяет набор данных на классы.\n",
        "\n",
        "![image.png](data:image/png;base64,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)\n",
        "\n",
        "## Опорные векторы\n",
        "Опорные векторы (векторы поддержки) - это точки данных, ближайшие к максимальной или оптимальной гиперплоскости.\n",
        "\n",
        "## Гиперплоскость\n",
        "Гиперплоскость - это плоскость принятия решений, разделяющая множество объектов, принадлежащих к разным классам.\n",
        "\n",
        "## Отступ (Margin, маржа)\n",
        "Margin - это промежуток между двумя прямыми на ближайших точках класса. Она рассчитывается как расстояние по перпендикуляру от линии до опорных векторов или ближайших точек. Если Margin между классами большой, то это считается хорошим Margin, если меньше - плохим.\n",
        "\n",
        "## Как работает SVM?\n",
        "Основная задача состоит в том, чтобы наилучшим образом разделить заданный набор данных. Расстояние между двумя ближайшими точками называется отступом (маржой). Задача состоит в том, чтобы выбрать гиперплоскость с максимально возможной маржой между опорными векторами в заданном наборе данных. SVM ищет гиперплоскость с максимальным отступом на следующих шагах:\n",
        "\n",
        "1. Генерирование гиперплоскостей, которые наилучшим образом разделяют классы. На рисунке слева показаны три гиперплоскости - черная, синяя и оранжевая. Здесь синяя и оранжевая имеют большую ошибку классификации, но черная правильно разделяет два класса.\n",
        "\n",
        "2. Выбор гиперплоскости с максимальной сегрегацией между ближайшими пограничными точками, как показано на рисунке справа.<br>\n",
        "\n",
        "![image.png](data:image/png;base64,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)\n",
        "\n",
        "## SVM Kernels\n",
        "На практике алгоритм SVM реализуется с помощью ядра. Ядро преобразует пространство входных данных в требуемую форму. В SVM используется техника, называемая трюком ядра. Здесь ядро берет низкоразмерное входное пространство и преобразует его в пространство более высокой размерности. Другими словами, можно сказать, что оно преобразует несепарабельную задачу в сепарабельную путем добавления к ней большей размерности. Это наиболее полезно при решении нелинейных задач разделения. Трюк с ядром помогает построить более точный классификатор.\n",
        "\n",
        "* <b>Линейное ядро</b>  Линейное ядро может быть использовано как обычное точечное произведение любых двух заданных наблюдений. Произведение двух векторов представляет собой сумму перемножений каждой пары входных значений.\n",
        "> k(x,xi)=sum(x*xi)\n",
        "\n",
        "* <b>Ядро радиальной базисной функции (РБФ) </b>\n",
        "\n",
        "Ядро радиальной базисной функции - это популярная функция ядра, широко используемая в SVM. Ядро РБФ может отображать входное пространство в бесконечное пространство размерности.\n",
        "> K(x,xi) = exp(-gamma * sum((x – xi^2))"
      ]
    },
    {
      "cell_type": "markdown",
      "source": [
        "### Пример:\n",
        "\n",
        "![image.png](data:image/png;base64,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)"
      ],
      "metadata": {
        "id": "J-CHaKIW_q3W"
      },
      "id": "J-CHaKIW_q3W"
    },
    {
      "cell_type": "code",
      "source": [
        "from IPython.display import Image\n",
        "Image(url='https://images.squarespace-cdn.com/content/v1/51af568be4b0b9ab836e2474/1444336855902-ADDXYGDYK7AETAYN587O/image-asset.gif?format=2500w')"
      ],
      "metadata": {
        "colab": {
          "base_uri": "https://localhost:8080/",
          "height": 597
        },
        "id": "cWhy83aPAXo_",
        "outputId": "cd5e16af-827a-4847-a0e6-4a147436fda4"
      },
      "id": "cWhy83aPAXo_",
      "execution_count": null,
      "outputs": [
        {
          "output_type": "execute_result",
          "data": {
            "text/html": [
              "<img src=\"https://images.squarespace-cdn.com/content/v1/51af568be4b0b9ab836e2474/1444336855902-ADDXYGDYK7AETAYN587O/image-asset.gif?format=2500w\"/>"
            ],
            "text/plain": [
              "<IPython.core.display.Image object>"
            ]
          },
          "metadata": {},
          "execution_count": 15
        }
      ]
    },
    {
      "cell_type": "markdown",
      "id": "38b3afad",
      "metadata": {
        "papermill": {
          "duration": 0.071563,
          "end_time": "2021-08-10T10:25:36.164678",
          "exception": false,
          "start_time": "2021-08-10T10:25:36.093115",
          "status": "completed"
        },
        "tags": [],
        "id": "38b3afad"
      },
      "source": [
        "# Построение SVM-классификатора"
      ]
    },
    {
      "cell_type": "code",
      "execution_count": null,
      "id": "8a1b07f3",
      "metadata": {
        "execution": {
          "iopub.execute_input": "2021-08-10T10:25:36.312293Z",
          "iopub.status.busy": "2021-08-10T10:25:36.311595Z",
          "iopub.status.idle": "2021-08-10T10:25:36.315764Z",
          "shell.execute_reply": "2021-08-10T10:25:36.316313Z",
          "shell.execute_reply.started": "2021-08-10T10:24:25.863354Z"
        },
        "papermill": {
          "duration": 0.080043,
          "end_time": "2021-08-10T10:25:36.316479",
          "exception": false,
          "start_time": "2021-08-10T10:25:36.236436",
          "status": "completed"
        },
        "tags": [],
        "id": "8a1b07f3"
      },
      "outputs": [],
      "source": [
        "clf_svm= Pipeline([\n",
        "    ('vectorizer', CountVectorizer()),\n",
        "    ('svc', SVC(kernel=\"rbf\",C=1000,gamma=0.001))\n",
        "])"
      ]
    },
    {
      "cell_type": "code",
      "execution_count": null,
      "id": "8d6561a0",
      "metadata": {
        "execution": {
          "iopub.execute_input": "2021-08-10T10:25:36.461298Z",
          "iopub.status.busy": "2021-08-10T10:25:36.460626Z",
          "iopub.status.idle": "2021-08-10T10:25:37.143816Z",
          "shell.execute_reply": "2021-08-10T10:25:37.144592Z",
          "shell.execute_reply.started": "2021-08-10T10:24:25.873351Z"
        },
        "papermill": {
          "duration": 0.757173,
          "end_time": "2021-08-10T10:25:37.144776",
          "exception": false,
          "start_time": "2021-08-10T10:25:36.387603",
          "status": "completed"
        },
        "tags": [],
        "id": "8d6561a0",
        "outputId": "585ec874-151a-4087-f1dc-73aad4715700",
        "colab": {
          "base_uri": "https://localhost:8080/",
          "height": 126
        }
      },
      "outputs": [
        {
          "output_type": "execute_result",
          "data": {
            "text/plain": [
              "Pipeline(steps=[('vectorizer', CountVectorizer()),\n",
              "                ('svc', SVC(C=1000, gamma=0.001))])"
            ],
            "text/html": [
              "<style>#sk-container-id-7 {color: black;background-color: white;}#sk-container-id-7 pre{padding: 0;}#sk-container-id-7 div.sk-toggleable {background-color: white;}#sk-container-id-7 label.sk-toggleable__label {cursor: pointer;display: block;width: 100%;margin-bottom: 0;padding: 0.3em;box-sizing: border-box;text-align: center;}#sk-container-id-7 label.sk-toggleable__label-arrow:before {content: \"▸\";float: left;margin-right: 0.25em;color: #696969;}#sk-container-id-7 label.sk-toggleable__label-arrow:hover:before {color: black;}#sk-container-id-7 div.sk-estimator:hover label.sk-toggleable__label-arrow:before {color: black;}#sk-container-id-7 div.sk-toggleable__content {max-height: 0;max-width: 0;overflow: hidden;text-align: left;background-color: #f0f8ff;}#sk-container-id-7 div.sk-toggleable__content pre {margin: 0.2em;color: black;border-radius: 0.25em;background-color: #f0f8ff;}#sk-container-id-7 input.sk-toggleable__control:checked~div.sk-toggleable__content {max-height: 200px;max-width: 100%;overflow: auto;}#sk-container-id-7 input.sk-toggleable__control:checked~label.sk-toggleable__label-arrow:before {content: \"▾\";}#sk-container-id-7 div.sk-estimator input.sk-toggleable__control:checked~label.sk-toggleable__label {background-color: #d4ebff;}#sk-container-id-7 div.sk-label input.sk-toggleable__control:checked~label.sk-toggleable__label {background-color: #d4ebff;}#sk-container-id-7 input.sk-hidden--visually {border: 0;clip: rect(1px 1px 1px 1px);clip: rect(1px, 1px, 1px, 1px);height: 1px;margin: -1px;overflow: hidden;padding: 0;position: absolute;width: 1px;}#sk-container-id-7 div.sk-estimator {font-family: monospace;background-color: #f0f8ff;border: 1px dotted black;border-radius: 0.25em;box-sizing: border-box;margin-bottom: 0.5em;}#sk-container-id-7 div.sk-estimator:hover {background-color: #d4ebff;}#sk-container-id-7 div.sk-parallel-item::after {content: \"\";width: 100%;border-bottom: 1px solid gray;flex-grow: 1;}#sk-container-id-7 div.sk-label:hover label.sk-toggleable__label {background-color: #d4ebff;}#sk-container-id-7 div.sk-serial::before {content: \"\";position: absolute;border-left: 1px solid gray;box-sizing: border-box;top: 0;bottom: 0;left: 50%;z-index: 0;}#sk-container-id-7 div.sk-serial {display: flex;flex-direction: column;align-items: center;background-color: white;padding-right: 0.2em;padding-left: 0.2em;position: relative;}#sk-container-id-7 div.sk-item {position: relative;z-index: 1;}#sk-container-id-7 div.sk-parallel {display: flex;align-items: stretch;justify-content: center;background-color: white;position: relative;}#sk-container-id-7 div.sk-item::before, #sk-container-id-7 div.sk-parallel-item::before {content: \"\";position: absolute;border-left: 1px solid gray;box-sizing: border-box;top: 0;bottom: 0;left: 50%;z-index: -1;}#sk-container-id-7 div.sk-parallel-item {display: flex;flex-direction: column;z-index: 1;position: relative;background-color: white;}#sk-container-id-7 div.sk-parallel-item:first-child::after {align-self: flex-end;width: 50%;}#sk-container-id-7 div.sk-parallel-item:last-child::after {align-self: flex-start;width: 50%;}#sk-container-id-7 div.sk-parallel-item:only-child::after {width: 0;}#sk-container-id-7 div.sk-dashed-wrapped {border: 1px dashed gray;margin: 0 0.4em 0.5em 0.4em;box-sizing: border-box;padding-bottom: 0.4em;background-color: white;}#sk-container-id-7 div.sk-label label {font-family: monospace;font-weight: bold;display: inline-block;line-height: 1.2em;}#sk-container-id-7 div.sk-label-container {text-align: center;}#sk-container-id-7 div.sk-container {/* jupyter's `normalize.less` sets `[hidden] { display: none; }` but bootstrap.min.css set `[hidden] { display: none !important; }` so we also need the `!important` here to be able to override the default hidden behavior on the sphinx rendered scikit-learn.org. See: https://github.com/scikit-learn/scikit-learn/issues/21755 */display: inline-block !important;position: relative;}#sk-container-id-7 div.sk-text-repr-fallback {display: none;}</style><div id=\"sk-container-id-7\" class=\"sk-top-container\"><div class=\"sk-text-repr-fallback\"><pre>Pipeline(steps=[(&#x27;vectorizer&#x27;, CountVectorizer()),\n",
              "                (&#x27;svc&#x27;, SVC(C=1000, gamma=0.001))])</pre><b>In a Jupyter environment, please rerun this cell to show the HTML representation or trust the notebook. <br />On GitHub, the HTML representation is unable to render, please try loading this page with nbviewer.org.</b></div><div class=\"sk-container\" hidden><div class=\"sk-item sk-dashed-wrapped\"><div class=\"sk-label-container\"><div class=\"sk-label sk-toggleable\"><input class=\"sk-toggleable__control sk-hidden--visually\" id=\"sk-estimator-id-19\" type=\"checkbox\" ><label for=\"sk-estimator-id-19\" class=\"sk-toggleable__label sk-toggleable__label-arrow\">Pipeline</label><div class=\"sk-toggleable__content\"><pre>Pipeline(steps=[(&#x27;vectorizer&#x27;, CountVectorizer()),\n",
              "                (&#x27;svc&#x27;, SVC(C=1000, gamma=0.001))])</pre></div></div></div><div class=\"sk-serial\"><div class=\"sk-item\"><div class=\"sk-estimator sk-toggleable\"><input class=\"sk-toggleable__control sk-hidden--visually\" id=\"sk-estimator-id-20\" type=\"checkbox\" ><label for=\"sk-estimator-id-20\" class=\"sk-toggleable__label sk-toggleable__label-arrow\">CountVectorizer</label><div class=\"sk-toggleable__content\"><pre>CountVectorizer()</pre></div></div></div><div class=\"sk-item\"><div class=\"sk-estimator sk-toggleable\"><input class=\"sk-toggleable__control sk-hidden--visually\" id=\"sk-estimator-id-21\" type=\"checkbox\" ><label for=\"sk-estimator-id-21\" class=\"sk-toggleable__label sk-toggleable__label-arrow\">SVC</label><div class=\"sk-toggleable__content\"><pre>SVC(C=1000, gamma=0.001)</pre></div></div></div></div></div></div></div>"
            ]
          },
          "metadata": {},
          "execution_count": 62
        }
      ],
      "source": [
        "clf_svm.fit(X_train,y_train)"
      ]
    },
    {
      "cell_type": "code",
      "execution_count": null,
      "id": "2b2794b3",
      "metadata": {
        "execution": {
          "iopub.execute_input": "2021-08-10T10:25:37.313094Z",
          "iopub.status.busy": "2021-08-10T10:25:37.307892Z",
          "iopub.status.idle": "2021-08-10T10:25:37.480688Z",
          "shell.execute_reply": "2021-08-10T10:25:37.479949Z",
          "shell.execute_reply.started": "2021-08-10T10:24:26.526204Z"
        },
        "papermill": {
          "duration": 0.263028,
          "end_time": "2021-08-10T10:25:37.480835",
          "exception": false,
          "start_time": "2021-08-10T10:25:37.217807",
          "status": "completed"
        },
        "tags": [],
        "id": "2b2794b3"
      },
      "outputs": [],
      "source": [
        "y_pred_SVM=clf_svm.predict(X_test)"
      ]
    },
    {
      "cell_type": "markdown",
      "id": "9e1a069a",
      "metadata": {
        "papermill": {
          "duration": 0.071074,
          "end_time": "2021-08-10T10:25:37.623427",
          "exception": false,
          "start_time": "2021-08-10T10:25:37.552353",
          "status": "completed"
        },
        "tags": [],
        "id": "9e1a069a"
      },
      "source": [
        "## Построим матрицу ошибок"
      ]
    },
    {
      "cell_type": "code",
      "execution_count": null,
      "id": "c0fbc893",
      "metadata": {
        "execution": {
          "iopub.execute_input": "2021-08-10T10:25:37.770391Z",
          "iopub.status.busy": "2021-08-10T10:25:37.769700Z",
          "iopub.status.idle": "2021-08-10T10:25:37.776054Z",
          "shell.execute_reply": "2021-08-10T10:25:37.775534Z",
          "shell.execute_reply.started": "2021-08-10T10:24:26.710222Z"
        },
        "papermill": {
          "duration": 0.081733,
          "end_time": "2021-08-10T10:25:37.776233",
          "exception": false,
          "start_time": "2021-08-10T10:25:37.694500",
          "status": "completed"
        },
        "tags": [],
        "id": "c0fbc893"
      },
      "outputs": [],
      "source": [
        "conf_mat_SVM=confusion_matrix(y_test, y_pred_SVM)"
      ]
    },
    {
      "cell_type": "code",
      "execution_count": null,
      "id": "22e2ce2d",
      "metadata": {
        "execution": {
          "iopub.execute_input": "2021-08-10T10:25:37.942352Z",
          "iopub.status.busy": "2021-08-10T10:25:37.941682Z",
          "iopub.status.idle": "2021-08-10T10:25:38.163256Z",
          "shell.execute_reply": "2021-08-10T10:25:38.163794Z",
          "shell.execute_reply.started": "2021-08-10T10:24:26.717797Z"
        },
        "papermill": {
          "duration": 0.31645,
          "end_time": "2021-08-10T10:25:38.163985",
          "exception": false,
          "start_time": "2021-08-10T10:25:37.847535",
          "status": "completed"
        },
        "tags": [],
        "id": "22e2ce2d",
        "outputId": "5bb11e67-4710-4ed5-f8cc-3b384ccba696",
        "colab": {
          "base_uri": "https://localhost:8080/",
          "height": 699
        }
      },
      "outputs": [
        {
          "output_type": "execute_result",
          "data": {
            "text/plain": [
              "<Axes: >"
            ]
          },
          "metadata": {},
          "execution_count": 65
        },
        {
          "output_type": "display_data",
          "data": {
            "text/plain": [
              "<Figure size 1000x800 with 2 Axes>"
            ],
            "image/png": "[encoded data removed]"
          },
          "metadata": {}
        }
      ],
      "source": [
        "plt.figure(figsize=(10,8))\n",
        "sns.heatmap(conf_mat_SVM,annot=True,fmt='d')"
      ]
    },
    {
      "cell_type": "code",
      "execution_count": null,
      "id": "76f801f1",
      "metadata": {
        "execution": {
          "iopub.execute_input": "2021-08-10T10:25:38.311978Z",
          "iopub.status.busy": "2021-08-10T10:25:38.311330Z",
          "iopub.status.idle": "2021-08-10T10:25:38.318294Z",
          "shell.execute_reply": "2021-08-10T10:25:38.317746Z",
          "shell.execute_reply.started": "2021-08-10T10:24:26.982416Z"
        },
        "papermill": {
          "duration": 0.081949,
          "end_time": "2021-08-10T10:25:38.318440",
          "exception": false,
          "start_time": "2021-08-10T10:25:38.236491",
          "status": "completed"
        },
        "tags": [],
        "id": "76f801f1",
        "outputId": "2d3dd1c7-a2f6-4a28-f2fa-33a4bdf2777e",
        "colab": {
          "base_uri": "https://localhost:8080/"
        }
      },
      "outputs": [
        {
          "output_type": "execute_result",
          "data": {
            "text/plain": [
              "0.9835007173601148"
            ]
          },
          "metadata": {},
          "execution_count": 66
        }
      ],
      "source": [
        "svm_acc=accuracy_score(y_test,y_pred_SVM)\n",
        "svm_acc"
      ]
    },
    {
      "cell_type": "markdown",
      "source": [
        "# Метод K-Nearest Neighbors"
      ],
      "metadata": {
        "id": "YLgmhDxCJqug"
      },
      "id": "YLgmhDxCJqug"
    },
    {
      "cell_type": "markdown",
      "id": "5abb201b",
      "metadata": {
        "papermill": {
          "duration": 0.072458,
          "end_time": "2021-08-10T10:25:38.609478",
          "exception": false,
          "start_time": "2021-08-10T10:25:38.537020",
          "status": "completed"
        },
        "tags": [],
        "id": "5abb201b"
      },
      "source": [
        "## Классификация методом К-ближайших (KNeighborsClassifier)\n"
      ]
    },
    {
      "cell_type": "code",
      "execution_count": null,
      "id": "fecbbbe1",
      "metadata": {
        "execution": {
          "iopub.execute_input": "2021-08-10T10:25:38.760992Z",
          "iopub.status.busy": "2021-08-10T10:25:38.759923Z",
          "iopub.status.idle": "2021-08-10T10:25:38.763399Z",
          "shell.execute_reply": "2021-08-10T10:25:38.762705Z",
          "shell.execute_reply.started": "2021-08-10T10:24:26.989726Z"
        },
        "papermill": {
          "duration": 0.081705,
          "end_time": "2021-08-10T10:25:38.763541",
          "exception": false,
          "start_time": "2021-08-10T10:25:38.681836",
          "status": "completed"
        },
        "tags": [],
        "id": "fecbbbe1"
      },
      "outputs": [],
      "source": [
        "clf_knn= Pipeline([\n",
        "    ('vectorizer', CountVectorizer()),\n",
        "    ('knn', KNeighborsClassifier(n_neighbors=3))\n",
        "])"
      ]
    },
    {
      "cell_type": "code",
      "execution_count": null,
      "id": "5d5b3f9c",
      "metadata": {
        "execution": {
          "iopub.execute_input": "2021-08-10T10:25:38.932868Z",
          "iopub.status.busy": "2021-08-10T10:25:38.927491Z",
          "iopub.status.idle": "2021-08-10T10:25:39.147655Z",
          "shell.execute_reply": "2021-08-10T10:25:39.147097Z",
          "shell.execute_reply.started": "2021-08-10T10:24:27.002023Z"
        },
        "papermill": {
          "duration": 0.311416,
          "end_time": "2021-08-10T10:25:39.147790",
          "exception": false,
          "start_time": "2021-08-10T10:25:38.836374",
          "status": "completed"
        },
        "tags": [],
        "id": "5d5b3f9c",
        "outputId": "ef064a44-245f-4e8d-9357-b23b7e3bc450",
        "colab": {
          "base_uri": "https://localhost:8080/",
          "height": 126
        }
      },
      "outputs": [
        {
          "output_type": "execute_result",
          "data": {
            "text/plain": [
              "Pipeline(steps=[('vectorizer', CountVectorizer()),\n",
              "                ('knn', KNeighborsClassifier(n_neighbors=3))])"
            ],
            "text/html": [
              "<style>#sk-container-id-8 {color: black;background-color: white;}#sk-container-id-8 pre{padding: 0;}#sk-container-id-8 div.sk-toggleable {background-color: white;}#sk-container-id-8 label.sk-toggleable__label {cursor: pointer;display: block;width: 100%;margin-bottom: 0;padding: 0.3em;box-sizing: border-box;text-align: center;}#sk-container-id-8 label.sk-toggleable__label-arrow:before {content: \"▸\";float: left;margin-right: 0.25em;color: #696969;}#sk-container-id-8 label.sk-toggleable__label-arrow:hover:before {color: black;}#sk-container-id-8 div.sk-estimator:hover label.sk-toggleable__label-arrow:before {color: black;}#sk-container-id-8 div.sk-toggleable__content {max-height: 0;max-width: 0;overflow: hidden;text-align: left;background-color: #f0f8ff;}#sk-container-id-8 div.sk-toggleable__content pre {margin: 0.2em;color: black;border-radius: 0.25em;background-color: #f0f8ff;}#sk-container-id-8 input.sk-toggleable__control:checked~div.sk-toggleable__content {max-height: 200px;max-width: 100%;overflow: auto;}#sk-container-id-8 input.sk-toggleable__control:checked~label.sk-toggleable__label-arrow:before {content: \"▾\";}#sk-container-id-8 div.sk-estimator input.sk-toggleable__control:checked~label.sk-toggleable__label {background-color: #d4ebff;}#sk-container-id-8 div.sk-label input.sk-toggleable__control:checked~label.sk-toggleable__label {background-color: #d4ebff;}#sk-container-id-8 input.sk-hidden--visually {border: 0;clip: rect(1px 1px 1px 1px);clip: rect(1px, 1px, 1px, 1px);height: 1px;margin: -1px;overflow: hidden;padding: 0;position: absolute;width: 1px;}#sk-container-id-8 div.sk-estimator {font-family: monospace;background-color: #f0f8ff;border: 1px dotted black;border-radius: 0.25em;box-sizing: border-box;margin-bottom: 0.5em;}#sk-container-id-8 div.sk-estimator:hover {background-color: #d4ebff;}#sk-container-id-8 div.sk-parallel-item::after {content: \"\";width: 100%;border-bottom: 1px solid gray;flex-grow: 1;}#sk-container-id-8 div.sk-label:hover label.sk-toggleable__label {background-color: #d4ebff;}#sk-container-id-8 div.sk-serial::before {content: \"\";position: absolute;border-left: 1px solid gray;box-sizing: border-box;top: 0;bottom: 0;left: 50%;z-index: 0;}#sk-container-id-8 div.sk-serial {display: flex;flex-direction: column;align-items: center;background-color: white;padding-right: 0.2em;padding-left: 0.2em;position: relative;}#sk-container-id-8 div.sk-item {position: relative;z-index: 1;}#sk-container-id-8 div.sk-parallel {display: flex;align-items: stretch;justify-content: center;background-color: white;position: relative;}#sk-container-id-8 div.sk-item::before, #sk-container-id-8 div.sk-parallel-item::before {content: \"\";position: absolute;border-left: 1px solid gray;box-sizing: border-box;top: 0;bottom: 0;left: 50%;z-index: -1;}#sk-container-id-8 div.sk-parallel-item {display: flex;flex-direction: column;z-index: 1;position: relative;background-color: white;}#sk-container-id-8 div.sk-parallel-item:first-child::after {align-self: flex-end;width: 50%;}#sk-container-id-8 div.sk-parallel-item:last-child::after {align-self: flex-start;width: 50%;}#sk-container-id-8 div.sk-parallel-item:only-child::after {width: 0;}#sk-container-id-8 div.sk-dashed-wrapped {border: 1px dashed gray;margin: 0 0.4em 0.5em 0.4em;box-sizing: border-box;padding-bottom: 0.4em;background-color: white;}#sk-container-id-8 div.sk-label label {font-family: monospace;font-weight: bold;display: inline-block;line-height: 1.2em;}#sk-container-id-8 div.sk-label-container {text-align: center;}#sk-container-id-8 div.sk-container {/* jupyter's `normalize.less` sets `[hidden] { display: none; }` but bootstrap.min.css set `[hidden] { display: none !important; }` so we also need the `!important` here to be able to override the default hidden behavior on the sphinx rendered scikit-learn.org. See: https://github.com/scikit-learn/scikit-learn/issues/21755 */display: inline-block !important;position: relative;}#sk-container-id-8 div.sk-text-repr-fallback {display: none;}</style><div id=\"sk-container-id-8\" class=\"sk-top-container\"><div class=\"sk-text-repr-fallback\"><pre>Pipeline(steps=[(&#x27;vectorizer&#x27;, CountVectorizer()),\n",
              "                (&#x27;knn&#x27;, KNeighborsClassifier(n_neighbors=3))])</pre><b>In a Jupyter environment, please rerun this cell to show the HTML representation or trust the notebook. <br />On GitHub, the HTML representation is unable to render, please try loading this page with nbviewer.org.</b></div><div class=\"sk-container\" hidden><div class=\"sk-item sk-dashed-wrapped\"><div class=\"sk-label-container\"><div class=\"sk-label sk-toggleable\"><input class=\"sk-toggleable__control sk-hidden--visually\" id=\"sk-estimator-id-22\" type=\"checkbox\" ><label for=\"sk-estimator-id-22\" class=\"sk-toggleable__label sk-toggleable__label-arrow\">Pipeline</label><div class=\"sk-toggleable__content\"><pre>Pipeline(steps=[(&#x27;vectorizer&#x27;, CountVectorizer()),\n",
              "                (&#x27;knn&#x27;, KNeighborsClassifier(n_neighbors=3))])</pre></div></div></div><div class=\"sk-serial\"><div class=\"sk-item\"><div class=\"sk-estimator sk-toggleable\"><input class=\"sk-toggleable__control sk-hidden--visually\" id=\"sk-estimator-id-23\" type=\"checkbox\" ><label for=\"sk-estimator-id-23\" class=\"sk-toggleable__label sk-toggleable__label-arrow\">CountVectorizer</label><div class=\"sk-toggleable__content\"><pre>CountVectorizer()</pre></div></div></div><div class=\"sk-item\"><div class=\"sk-estimator sk-toggleable\"><input class=\"sk-toggleable__control sk-hidden--visually\" id=\"sk-estimator-id-24\" type=\"checkbox\" ><label for=\"sk-estimator-id-24\" class=\"sk-toggleable__label sk-toggleable__label-arrow\">KNeighborsClassifier</label><div class=\"sk-toggleable__content\"><pre>KNeighborsClassifier(n_neighbors=3)</pre></div></div></div></div></div></div></div>"
            ]
          },
          "metadata": {},
          "execution_count": 68
        }
      ],
      "source": [
        "clf_knn.fit(X_train,y_train)"
      ]
    },
    {
      "cell_type": "code",
      "execution_count": null,
      "id": "014db734",
      "metadata": {
        "execution": {
          "iopub.execute_input": "2021-08-10T10:25:39.328826Z",
          "iopub.status.busy": "2021-08-10T10:25:39.328154Z",
          "iopub.status.idle": "2021-08-10T10:25:39.594484Z",
          "shell.execute_reply": "2021-08-10T10:25:39.593905Z",
          "shell.execute_reply.started": "2021-08-10T10:24:27.130016Z"
        },
        "papermill": {
          "duration": 0.374106,
          "end_time": "2021-08-10T10:25:39.594644",
          "exception": false,
          "start_time": "2021-08-10T10:25:39.220538",
          "status": "completed"
        },
        "tags": [],
        "id": "014db734"
      },
      "outputs": [],
      "source": [
        "y_pred_KNN=clf_knn.predict(X_test)"
      ]
    },
    {
      "cell_type": "markdown",
      "id": "bc0de19d",
      "metadata": {
        "papermill": {
          "duration": 0.072792,
          "end_time": "2021-08-10T10:25:39.740771",
          "exception": false,
          "start_time": "2021-08-10T10:25:39.667979",
          "status": "completed"
        },
        "tags": [],
        "id": "bc0de19d"
      },
      "source": [
        "## Построим матрицу ошибок"
      ]
    },
    {
      "cell_type": "code",
      "execution_count": null,
      "id": "a34d696c",
      "metadata": {
        "execution": {
          "iopub.execute_input": "2021-08-10T10:25:39.892062Z",
          "iopub.status.busy": "2021-08-10T10:25:39.891379Z",
          "iopub.status.idle": "2021-08-10T10:25:39.896555Z",
          "shell.execute_reply": "2021-08-10T10:25:39.897163Z",
          "shell.execute_reply.started": "2021-08-10T10:24:27.421946Z"
        },
        "papermill": {
          "duration": 0.084009,
          "end_time": "2021-08-10T10:25:39.897371",
          "exception": false,
          "start_time": "2021-08-10T10:25:39.813362",
          "status": "completed"
        },
        "tags": [],
        "id": "a34d696c"
      },
      "outputs": [],
      "source": [
        "conf_mat_KNN=confusion_matrix(y_test, y_pred_KNN)"
      ]
    },
    {
      "cell_type": "code",
      "execution_count": null,
      "id": "6e5aa28a",
      "metadata": {
        "execution": {
          "iopub.execute_input": "2021-08-10T10:25:40.048814Z",
          "iopub.status.busy": "2021-08-10T10:25:40.048164Z",
          "iopub.status.idle": "2021-08-10T10:25:40.306162Z",
          "shell.execute_reply": "2021-08-10T10:25:40.306672Z",
          "shell.execute_reply.started": "2021-08-10T10:24:27.430861Z"
        },
        "papermill": {
          "duration": 0.33541,
          "end_time": "2021-08-10T10:25:40.306845",
          "exception": false,
          "start_time": "2021-08-10T10:25:39.971435",
          "status": "completed"
        },
        "tags": [],
        "id": "6e5aa28a",
        "outputId": "67fda41e-6650-436f-f5c5-22dc0cbd6bc5",
        "colab": {
          "base_uri": "https://localhost:8080/",
          "height": 698
        }
      },
      "outputs": [
        {
          "output_type": "execute_result",
          "data": {
            "text/plain": [
              "<Axes: >"
            ]
          },
          "metadata": {},
          "execution_count": 71
        },
        {
          "output_type": "display_data",
          "data": {
            "text/plain": [
              "<Figure size 1000x800 with 2 Axes>"
            ],
            "image/png": "[encoded data removed]"
          },
          "metadata": {}
        }
      ],
      "source": [
        "plt.figure(figsize=(10,8))\n",
        "sns.heatmap(conf_mat_KNN,annot=True,fmt='d')"
      ]
    },
    {
      "cell_type": "code",
      "execution_count": null,
      "id": "55825dd6",
      "metadata": {
        "execution": {
          "iopub.execute_input": "2021-08-10T10:25:40.459936Z",
          "iopub.status.busy": "2021-08-10T10:25:40.459274Z",
          "iopub.status.idle": "2021-08-10T10:25:40.463918Z",
          "shell.execute_reply": "2021-08-10T10:25:40.464416Z",
          "shell.execute_reply.started": "2021-08-10T10:24:27.712863Z"
        },
        "papermill": {
          "duration": 0.083753,
          "end_time": "2021-08-10T10:25:40.464586",
          "exception": false,
          "start_time": "2021-08-10T10:25:40.380833",
          "status": "completed"
        },
        "tags": [],
        "id": "55825dd6",
        "outputId": "eeb4e890-aa6c-4f5d-8ca4-5b89608c5d58",
        "colab": {
          "base_uri": "https://localhost:8080/"
        }
      },
      "outputs": [
        {
          "output_type": "execute_result",
          "data": {
            "text/plain": [
              "0.9340028694404591"
            ]
          },
          "metadata": {},
          "execution_count": 72
        }
      ],
      "source": [
        "knn_acc=accuracy_score(y_test,y_pred_KNN)\n",
        "knn_acc"
      ]
    },
    {
      "cell_type": "markdown",
      "source": [
        "# Decision Tree Classifier"
      ],
      "metadata": {
        "id": "KRMH6Hw8Jks0"
      },
      "id": "KRMH6Hw8Jks0"
    },
    {
      "cell_type": "markdown",
      "id": "1dd05141",
      "metadata": {
        "papermill": {
          "duration": 0.075059,
          "end_time": "2021-08-10T10:25:40.763486",
          "exception": false,
          "start_time": "2021-08-10T10:25:40.688427",
          "status": "completed"
        },
        "tags": [],
        "id": "1dd05141"
      },
      "source": [
        "## Класификация  DecisionTreeClassifier\n"
      ]
    },
    {
      "cell_type": "code",
      "execution_count": null,
      "id": "9ac2afd6",
      "metadata": {
        "execution": {
          "iopub.execute_input": "2021-08-10T10:25:40.953229Z",
          "iopub.status.busy": "2021-08-10T10:25:40.952493Z",
          "iopub.status.idle": "2021-08-10T10:25:40.956437Z",
          "shell.execute_reply": "2021-08-10T10:25:40.956983Z",
          "shell.execute_reply.started": "2021-08-10T10:24:27.721949Z"
        },
        "papermill": {
          "duration": 0.081707,
          "end_time": "2021-08-10T10:25:40.957167",
          "exception": false,
          "start_time": "2021-08-10T10:25:40.875460",
          "status": "completed"
        },
        "tags": [],
        "id": "9ac2afd6"
      },
      "outputs": [],
      "source": [
        "clf_DecisionTree= Pipeline([\n",
        "    ('vectorizer', CountVectorizer()),\n",
        "    ('dt',DecisionTreeClassifier())\n",
        "])"
      ]
    },
    {
      "cell_type": "code",
      "execution_count": null,
      "id": "f95a59f4",
      "metadata": {
        "execution": {
          "iopub.execute_input": "2021-08-10T10:25:41.109517Z",
          "iopub.status.busy": "2021-08-10T10:25:41.108792Z",
          "iopub.status.idle": "2021-08-10T10:25:41.360707Z",
          "shell.execute_reply": "2021-08-10T10:25:41.360026Z",
          "shell.execute_reply.started": "2021-08-10T10:24:27.732547Z"
        },
        "papermill": {
          "duration": 0.328927,
          "end_time": "2021-08-10T10:25:41.360846",
          "exception": false,
          "start_time": "2021-08-10T10:25:41.031919",
          "status": "completed"
        },
        "tags": [],
        "id": "f95a59f4",
        "outputId": "517b02e7-b370-4685-f2a0-898c68691b01",
        "colab": {
          "base_uri": "https://localhost:8080/",
          "height": 126
        }
      },
      "outputs": [
        {
          "output_type": "execute_result",
          "data": {
            "text/plain": [
              "Pipeline(steps=[('vectorizer', CountVectorizer()),\n",
              "                ('dt', DecisionTreeClassifier())])"
            ],
            "text/html": [
              "<style>#sk-container-id-9 {color: black;background-color: white;}#sk-container-id-9 pre{padding: 0;}#sk-container-id-9 div.sk-toggleable {background-color: white;}#sk-container-id-9 label.sk-toggleable__label {cursor: pointer;display: block;width: 100%;margin-bottom: 0;padding: 0.3em;box-sizing: border-box;text-align: center;}#sk-container-id-9 label.sk-toggleable__label-arrow:before {content: \"▸\";float: left;margin-right: 0.25em;color: #696969;}#sk-container-id-9 label.sk-toggleable__label-arrow:hover:before {color: black;}#sk-container-id-9 div.sk-estimator:hover label.sk-toggleable__label-arrow:before {color: black;}#sk-container-id-9 div.sk-toggleable__content {max-height: 0;max-width: 0;overflow: hidden;text-align: left;background-color: #f0f8ff;}#sk-container-id-9 div.sk-toggleable__content pre {margin: 0.2em;color: black;border-radius: 0.25em;background-color: #f0f8ff;}#sk-container-id-9 input.sk-toggleable__control:checked~div.sk-toggleable__content {max-height: 200px;max-width: 100%;overflow: auto;}#sk-container-id-9 input.sk-toggleable__control:checked~label.sk-toggleable__label-arrow:before {content: \"▾\";}#sk-container-id-9 div.sk-estimator input.sk-toggleable__control:checked~label.sk-toggleable__label {background-color: #d4ebff;}#sk-container-id-9 div.sk-label input.sk-toggleable__control:checked~label.sk-toggleable__label {background-color: #d4ebff;}#sk-container-id-9 input.sk-hidden--visually {border: 0;clip: rect(1px 1px 1px 1px);clip: rect(1px, 1px, 1px, 1px);height: 1px;margin: -1px;overflow: hidden;padding: 0;position: absolute;width: 1px;}#sk-container-id-9 div.sk-estimator {font-family: monospace;background-color: #f0f8ff;border: 1px dotted black;border-radius: 0.25em;box-sizing: border-box;margin-bottom: 0.5em;}#sk-container-id-9 div.sk-estimator:hover {background-color: #d4ebff;}#sk-container-id-9 div.sk-parallel-item::after {content: \"\";width: 100%;border-bottom: 1px solid gray;flex-grow: 1;}#sk-container-id-9 div.sk-label:hover label.sk-toggleable__label {background-color: #d4ebff;}#sk-container-id-9 div.sk-serial::before {content: \"\";position: absolute;border-left: 1px solid gray;box-sizing: border-box;top: 0;bottom: 0;left: 50%;z-index: 0;}#sk-container-id-9 div.sk-serial {display: flex;flex-direction: column;align-items: center;background-color: white;padding-right: 0.2em;padding-left: 0.2em;position: relative;}#sk-container-id-9 div.sk-item {position: relative;z-index: 1;}#sk-container-id-9 div.sk-parallel {display: flex;align-items: stretch;justify-content: center;background-color: white;position: relative;}#sk-container-id-9 div.sk-item::before, #sk-container-id-9 div.sk-parallel-item::before {content: \"\";position: absolute;border-left: 1px solid gray;box-sizing: border-box;top: 0;bottom: 0;left: 50%;z-index: -1;}#sk-container-id-9 div.sk-parallel-item {display: flex;flex-direction: column;z-index: 1;position: relative;background-color: white;}#sk-container-id-9 div.sk-parallel-item:first-child::after {align-self: flex-end;width: 50%;}#sk-container-id-9 div.sk-parallel-item:last-child::after {align-self: flex-start;width: 50%;}#sk-container-id-9 div.sk-parallel-item:only-child::after {width: 0;}#sk-container-id-9 div.sk-dashed-wrapped {border: 1px dashed gray;margin: 0 0.4em 0.5em 0.4em;box-sizing: border-box;padding-bottom: 0.4em;background-color: white;}#sk-container-id-9 div.sk-label label {font-family: monospace;font-weight: bold;display: inline-block;line-height: 1.2em;}#sk-container-id-9 div.sk-label-container {text-align: center;}#sk-container-id-9 div.sk-container {/* jupyter's `normalize.less` sets `[hidden] { display: none; }` but bootstrap.min.css set `[hidden] { display: none !important; }` so we also need the `!important` here to be able to override the default hidden behavior on the sphinx rendered scikit-learn.org. See: https://github.com/scikit-learn/scikit-learn/issues/21755 */display: inline-block !important;position: relative;}#sk-container-id-9 div.sk-text-repr-fallback {display: none;}</style><div id=\"sk-container-id-9\" class=\"sk-top-container\"><div class=\"sk-text-repr-fallback\"><pre>Pipeline(steps=[(&#x27;vectorizer&#x27;, CountVectorizer()),\n",
              "                (&#x27;dt&#x27;, DecisionTreeClassifier())])</pre><b>In a Jupyter environment, please rerun this cell to show the HTML representation or trust the notebook. <br />On GitHub, the HTML representation is unable to render, please try loading this page with nbviewer.org.</b></div><div class=\"sk-container\" hidden><div class=\"sk-item sk-dashed-wrapped\"><div class=\"sk-label-container\"><div class=\"sk-label sk-toggleable\"><input class=\"sk-toggleable__control sk-hidden--visually\" id=\"sk-estimator-id-25\" type=\"checkbox\" ><label for=\"sk-estimator-id-25\" class=\"sk-toggleable__label sk-toggleable__label-arrow\">Pipeline</label><div class=\"sk-toggleable__content\"><pre>Pipeline(steps=[(&#x27;vectorizer&#x27;, CountVectorizer()),\n",
              "                (&#x27;dt&#x27;, DecisionTreeClassifier())])</pre></div></div></div><div class=\"sk-serial\"><div class=\"sk-item\"><div class=\"sk-estimator sk-toggleable\"><input class=\"sk-toggleable__control sk-hidden--visually\" id=\"sk-estimator-id-26\" type=\"checkbox\" ><label for=\"sk-estimator-id-26\" class=\"sk-toggleable__label sk-toggleable__label-arrow\">CountVectorizer</label><div class=\"sk-toggleable__content\"><pre>CountVectorizer()</pre></div></div></div><div class=\"sk-item\"><div class=\"sk-estimator sk-toggleable\"><input class=\"sk-toggleable__control sk-hidden--visually\" id=\"sk-estimator-id-27\" type=\"checkbox\" ><label for=\"sk-estimator-id-27\" class=\"sk-toggleable__label sk-toggleable__label-arrow\">DecisionTreeClassifier</label><div class=\"sk-toggleable__content\"><pre>DecisionTreeClassifier()</pre></div></div></div></div></div></div></div>"
            ]
          },
          "metadata": {},
          "execution_count": 74
        }
      ],
      "source": [
        "clf_DecisionTree.fit(X_train,y_train)"
      ]
    },
    {
      "cell_type": "code",
      "execution_count": null,
      "id": "b51174bd",
      "metadata": {
        "execution": {
          "iopub.execute_input": "2021-08-10T10:25:41.549097Z",
          "iopub.status.busy": "2021-08-10T10:25:41.531719Z",
          "iopub.status.idle": "2021-08-10T10:25:41.554225Z",
          "shell.execute_reply": "2021-08-10T10:25:41.553543Z",
          "shell.execute_reply.started": "2021-08-10T10:24:27.979224Z"
        },
        "papermill": {
          "duration": 0.116501,
          "end_time": "2021-08-10T10:25:41.554370",
          "exception": false,
          "start_time": "2021-08-10T10:25:41.437869",
          "status": "completed"
        },
        "tags": [],
        "id": "b51174bd"
      },
      "outputs": [],
      "source": [
        "y_pred_DT=clf_DecisionTree.predict(X_test)"
      ]
    },
    {
      "cell_type": "markdown",
      "id": "26165814",
      "metadata": {
        "papermill": {
          "duration": 0.073781,
          "end_time": "2021-08-10T10:25:41.702652",
          "exception": false,
          "start_time": "2021-08-10T10:25:41.628871",
          "status": "completed"
        },
        "tags": [],
        "id": "26165814"
      },
      "source": [
        "## Построим матрицу ошибок"
      ]
    },
    {
      "cell_type": "code",
      "execution_count": null,
      "id": "52acad11",
      "metadata": {
        "execution": {
          "iopub.execute_input": "2021-08-10T10:25:41.855929Z",
          "iopub.status.busy": "2021-08-10T10:25:41.855233Z",
          "iopub.status.idle": "2021-08-10T10:25:41.860213Z",
          "shell.execute_reply": "2021-08-10T10:25:41.860692Z",
          "shell.execute_reply.started": "2021-08-10T10:24:28.018814Z"
        },
        "papermill": {
          "duration": 0.083626,
          "end_time": "2021-08-10T10:25:41.860871",
          "exception": false,
          "start_time": "2021-08-10T10:25:41.777245",
          "status": "completed"
        },
        "tags": [],
        "id": "52acad11"
      },
      "outputs": [],
      "source": [
        "conf_mat_DT=confusion_matrix(y_test, y_pred_DT)"
      ]
    },
    {
      "cell_type": "code",
      "execution_count": null,
      "id": "586bfefa",
      "metadata": {
        "execution": {
          "iopub.execute_input": "2021-08-10T10:25:42.014724Z",
          "iopub.status.busy": "2021-08-10T10:25:42.014080Z",
          "iopub.status.idle": "2021-08-10T10:25:42.238148Z",
          "shell.execute_reply": "2021-08-10T10:25:42.238601Z",
          "shell.execute_reply.started": "2021-08-10T10:24:28.027292Z"
        },
        "papermill": {
          "duration": 0.303127,
          "end_time": "2021-08-10T10:25:42.238771",
          "exception": false,
          "start_time": "2021-08-10T10:25:41.935644",
          "status": "completed"
        },
        "tags": [],
        "id": "586bfefa",
        "outputId": "a55579da-7f9d-46c3-dbbf-dcd1b08cf9c1",
        "colab": {
          "base_uri": "https://localhost:8080/",
          "height": 694
        }
      },
      "outputs": [
        {
          "output_type": "execute_result",
          "data": {
            "text/plain": [
              "<Axes: >"
            ]
          },
          "metadata": {},
          "execution_count": 79
        },
        {
          "output_type": "display_data",
          "data": {
            "text/plain": [
              "<Figure size 1000x800 with 2 Axes>"
            ],
            "image/png": "[encoded data removed]"
          },
          "metadata": {}
        }
      ],
      "source": [
        "plt.figure(figsize=(10,8))\n",
        "sns.heatmap(conf_mat_DT,annot=True,fmt='d')"
      ]
    },
    {
      "cell_type": "code",
      "execution_count": null,
      "id": "60c41353",
      "metadata": {
        "execution": {
          "iopub.execute_input": "2021-08-10T10:25:42.394471Z",
          "iopub.status.busy": "2021-08-10T10:25:42.393757Z",
          "iopub.status.idle": "2021-08-10T10:25:42.398965Z",
          "shell.execute_reply": "2021-08-10T10:25:42.399453Z",
          "shell.execute_reply.started": "2021-08-10T10:24:28.295235Z"
        },
        "papermill": {
          "duration": 0.084802,
          "end_time": "2021-08-10T10:25:42.399619",
          "exception": false,
          "start_time": "2021-08-10T10:25:42.314817",
          "status": "completed"
        },
        "tags": [],
        "id": "60c41353",
        "outputId": "84b48543-0a15-41d5-9539-513f5d306305",
        "colab": {
          "base_uri": "https://localhost:8080/"
        }
      },
      "outputs": [
        {
          "output_type": "execute_result",
          "data": {
            "text/plain": [
              "0.9670014347202296"
            ]
          },
          "metadata": {},
          "execution_count": 80
        }
      ],
      "source": [
        "dt_acc=accuracy_score(y_test,y_pred_DT)\n",
        "dt_acc"
      ]
    },
    {
      "cell_type": "markdown",
      "source": [
        "# Random Forest Classifier\n"
      ],
      "metadata": {
        "id": "oCvCLL1oJgPJ"
      },
      "id": "oCvCLL1oJgPJ"
    },
    {
      "cell_type": "markdown",
      "id": "6675db22",
      "metadata": {
        "papermill": {
          "duration": 0.075601,
          "end_time": "2021-08-10T10:25:42.703747",
          "exception": false,
          "start_time": "2021-08-10T10:25:42.628146",
          "status": "completed"
        },
        "tags": [],
        "id": "6675db22"
      },
      "source": [
        "## Построение классификатора Random Forest"
      ]
    },
    {
      "cell_type": "code",
      "execution_count": null,
      "id": "da220103",
      "metadata": {
        "execution": {
          "iopub.execute_input": "2021-08-10T10:25:42.869991Z",
          "iopub.status.busy": "2021-08-10T10:25:42.869310Z",
          "iopub.status.idle": "2021-08-10T10:25:42.872410Z",
          "shell.execute_reply": "2021-08-10T10:25:42.871858Z",
          "shell.execute_reply.started": "2021-08-10T10:24:28.302674Z"
        },
        "papermill": {
          "duration": 0.087245,
          "end_time": "2021-08-10T10:25:42.872545",
          "exception": false,
          "start_time": "2021-08-10T10:25:42.785300",
          "status": "completed"
        },
        "tags": [],
        "id": "da220103"
      },
      "outputs": [],
      "source": [
        "clf_rf= Pipeline([\n",
        "    ('vectorizer', CountVectorizer()),\n",
        "    ('rf', RandomForestClassifier(n_estimators=100))\n",
        "])"
      ]
    },
    {
      "cell_type": "code",
      "execution_count": null,
      "id": "f293c089",
      "metadata": {
        "execution": {
          "iopub.execute_input": "2021-08-10T10:25:43.069755Z",
          "iopub.status.busy": "2021-08-10T10:25:43.064508Z",
          "iopub.status.idle": "2021-08-10T10:25:44.131912Z",
          "shell.execute_reply": "2021-08-10T10:25:44.131334Z",
          "shell.execute_reply.started": "2021-08-10T10:24:28.314813Z"
        },
        "papermill": {
          "duration": 1.182945,
          "end_time": "2021-08-10T10:25:44.132053",
          "exception": false,
          "start_time": "2021-08-10T10:25:42.949108",
          "status": "completed"
        },
        "tags": [],
        "id": "f293c089",
        "outputId": "10ca06e1-ce46-41b0-8816-36e467a948d2",
        "colab": {
          "base_uri": "https://localhost:8080/",
          "height": 126
        }
      },
      "outputs": [
        {
          "output_type": "execute_result",
          "data": {
            "text/plain": [
              "Pipeline(steps=[('vectorizer', CountVectorizer()),\n",
              "                ('rf', RandomForestClassifier())])"
            ],
            "text/html": [
              "<style>#sk-container-id-10 {color: black;background-color: white;}#sk-container-id-10 pre{padding: 0;}#sk-container-id-10 div.sk-toggleable {background-color: white;}#sk-container-id-10 label.sk-toggleable__label {cursor: pointer;display: block;width: 100%;margin-bottom: 0;padding: 0.3em;box-sizing: border-box;text-align: center;}#sk-container-id-10 label.sk-toggleable__label-arrow:before {content: \"▸\";float: left;margin-right: 0.25em;color: #696969;}#sk-container-id-10 label.sk-toggleable__label-arrow:hover:before {color: black;}#sk-container-id-10 div.sk-estimator:hover label.sk-toggleable__label-arrow:before {color: black;}#sk-container-id-10 div.sk-toggleable__content {max-height: 0;max-width: 0;overflow: hidden;text-align: left;background-color: #f0f8ff;}#sk-container-id-10 div.sk-toggleable__content pre {margin: 0.2em;color: black;border-radius: 0.25em;background-color: #f0f8ff;}#sk-container-id-10 input.sk-toggleable__control:checked~div.sk-toggleable__content {max-height: 200px;max-width: 100%;overflow: auto;}#sk-container-id-10 input.sk-toggleable__control:checked~label.sk-toggleable__label-arrow:before {content: \"▾\";}#sk-container-id-10 div.sk-estimator input.sk-toggleable__control:checked~label.sk-toggleable__label {background-color: #d4ebff;}#sk-container-id-10 div.sk-label input.sk-toggleable__control:checked~label.sk-toggleable__label {background-color: #d4ebff;}#sk-container-id-10 input.sk-hidden--visually {border: 0;clip: rect(1px 1px 1px 1px);clip: rect(1px, 1px, 1px, 1px);height: 1px;margin: -1px;overflow: hidden;padding: 0;position: absolute;width: 1px;}#sk-container-id-10 div.sk-estimator {font-family: monospace;background-color: #f0f8ff;border: 1px dotted black;border-radius: 0.25em;box-sizing: border-box;margin-bottom: 0.5em;}#sk-container-id-10 div.sk-estimator:hover {background-color: #d4ebff;}#sk-container-id-10 div.sk-parallel-item::after {content: \"\";width: 100%;border-bottom: 1px solid gray;flex-grow: 1;}#sk-container-id-10 div.sk-label:hover label.sk-toggleable__label {background-color: #d4ebff;}#sk-container-id-10 div.sk-serial::before {content: \"\";position: absolute;border-left: 1px solid gray;box-sizing: border-box;top: 0;bottom: 0;left: 50%;z-index: 0;}#sk-container-id-10 div.sk-serial {display: flex;flex-direction: column;align-items: center;background-color: white;padding-right: 0.2em;padding-left: 0.2em;position: relative;}#sk-container-id-10 div.sk-item {position: relative;z-index: 1;}#sk-container-id-10 div.sk-parallel {display: flex;align-items: stretch;justify-content: center;background-color: white;position: relative;}#sk-container-id-10 div.sk-item::before, #sk-container-id-10 div.sk-parallel-item::before {content: \"\";position: absolute;border-left: 1px solid gray;box-sizing: border-box;top: 0;bottom: 0;left: 50%;z-index: -1;}#sk-container-id-10 div.sk-parallel-item {display: flex;flex-direction: column;z-index: 1;position: relative;background-color: white;}#sk-container-id-10 div.sk-parallel-item:first-child::after {align-self: flex-end;width: 50%;}#sk-container-id-10 div.sk-parallel-item:last-child::after {align-self: flex-start;width: 50%;}#sk-container-id-10 div.sk-parallel-item:only-child::after {width: 0;}#sk-container-id-10 div.sk-dashed-wrapped {border: 1px dashed gray;margin: 0 0.4em 0.5em 0.4em;box-sizing: border-box;padding-bottom: 0.4em;background-color: white;}#sk-container-id-10 div.sk-label label {font-family: monospace;font-weight: bold;display: inline-block;line-height: 1.2em;}#sk-container-id-10 div.sk-label-container {text-align: center;}#sk-container-id-10 div.sk-container {/* jupyter's `normalize.less` sets `[hidden] { display: none; }` but bootstrap.min.css set `[hidden] { display: none !important; }` so we also need the `!important` here to be able to override the default hidden behavior on the sphinx rendered scikit-learn.org. See: https://github.com/scikit-learn/scikit-learn/issues/21755 */display: inline-block !important;position: relative;}#sk-container-id-10 div.sk-text-repr-fallback {display: none;}</style><div id=\"sk-container-id-10\" class=\"sk-top-container\"><div class=\"sk-text-repr-fallback\"><pre>Pipeline(steps=[(&#x27;vectorizer&#x27;, CountVectorizer()),\n",
              "                (&#x27;rf&#x27;, RandomForestClassifier())])</pre><b>In a Jupyter environment, please rerun this cell to show the HTML representation or trust the notebook. <br />On GitHub, the HTML representation is unable to render, please try loading this page with nbviewer.org.</b></div><div class=\"sk-container\" hidden><div class=\"sk-item sk-dashed-wrapped\"><div class=\"sk-label-container\"><div class=\"sk-label sk-toggleable\"><input class=\"sk-toggleable__control sk-hidden--visually\" id=\"sk-estimator-id-28\" type=\"checkbox\" ><label for=\"sk-estimator-id-28\" class=\"sk-toggleable__label sk-toggleable__label-arrow\">Pipeline</label><div class=\"sk-toggleable__content\"><pre>Pipeline(steps=[(&#x27;vectorizer&#x27;, CountVectorizer()),\n",
              "                (&#x27;rf&#x27;, RandomForestClassifier())])</pre></div></div></div><div class=\"sk-serial\"><div class=\"sk-item\"><div class=\"sk-estimator sk-toggleable\"><input class=\"sk-toggleable__control sk-hidden--visually\" id=\"sk-estimator-id-29\" type=\"checkbox\" ><label for=\"sk-estimator-id-29\" class=\"sk-toggleable__label sk-toggleable__label-arrow\">CountVectorizer</label><div class=\"sk-toggleable__content\"><pre>CountVectorizer()</pre></div></div></div><div class=\"sk-item\"><div class=\"sk-estimator sk-toggleable\"><input class=\"sk-toggleable__control sk-hidden--visually\" id=\"sk-estimator-id-30\" type=\"checkbox\" ><label for=\"sk-estimator-id-30\" class=\"sk-toggleable__label sk-toggleable__label-arrow\">RandomForestClassifier</label><div class=\"sk-toggleable__content\"><pre>RandomForestClassifier()</pre></div></div></div></div></div></div></div>"
            ]
          },
          "metadata": {},
          "execution_count": 82
        }
      ],
      "source": [
        "clf_rf.fit(X_train,y_train)"
      ]
    },
    {
      "cell_type": "code",
      "execution_count": null,
      "id": "294b50f1",
      "metadata": {
        "execution": {
          "iopub.execute_input": "2021-08-10T10:25:44.298650Z",
          "iopub.status.busy": "2021-08-10T10:25:44.296566Z",
          "iopub.status.idle": "2021-08-10T10:25:44.404445Z",
          "shell.execute_reply": "2021-08-10T10:25:44.403729Z",
          "shell.execute_reply.started": "2021-08-10T10:24:29.387951Z"
        },
        "papermill": {
          "duration": 0.19539,
          "end_time": "2021-08-10T10:25:44.404588",
          "exception": false,
          "start_time": "2021-08-10T10:25:44.209198",
          "status": "completed"
        },
        "tags": [],
        "id": "294b50f1"
      },
      "outputs": [],
      "source": [
        "y_pred_RF=clf_rf.predict(X_test)"
      ]
    },
    {
      "cell_type": "markdown",
      "id": "bfd8ed0c",
      "metadata": {
        "papermill": {
          "duration": 0.075665,
          "end_time": "2021-08-10T10:25:44.563850",
          "exception": false,
          "start_time": "2021-08-10T10:25:44.488185",
          "status": "completed"
        },
        "tags": [],
        "id": "bfd8ed0c"
      },
      "source": [
        "## Построим матрицу ошибок"
      ]
    },
    {
      "cell_type": "code",
      "execution_count": null,
      "id": "0a472535",
      "metadata": {
        "execution": {
          "iopub.execute_input": "2021-08-10T10:25:44.720642Z",
          "iopub.status.busy": "2021-08-10T10:25:44.719927Z",
          "iopub.status.idle": "2021-08-10T10:25:44.726845Z",
          "shell.execute_reply": "2021-08-10T10:25:44.726290Z",
          "shell.execute_reply.started": "2021-08-10T10:24:29.485764Z"
        },
        "papermill": {
          "duration": 0.087267,
          "end_time": "2021-08-10T10:25:44.727024",
          "exception": false,
          "start_time": "2021-08-10T10:25:44.639757",
          "status": "completed"
        },
        "tags": [],
        "id": "0a472535"
      },
      "outputs": [],
      "source": [
        "conf_mat_RF=confusion_matrix(y_test, y_pred_RF)"
      ]
    },
    {
      "cell_type": "code",
      "execution_count": null,
      "id": "08799adb",
      "metadata": {
        "execution": {
          "iopub.execute_input": "2021-08-10T10:25:44.914865Z",
          "iopub.status.busy": "2021-08-10T10:25:44.902047Z",
          "iopub.status.idle": "2021-08-10T10:25:45.140106Z",
          "shell.execute_reply": "2021-08-10T10:25:45.140615Z",
          "shell.execute_reply.started": "2021-08-10T10:24:29.496259Z"
        },
        "papermill": {
          "duration": 0.337517,
          "end_time": "2021-08-10T10:25:45.140783",
          "exception": false,
          "start_time": "2021-08-10T10:25:44.803266",
          "status": "completed"
        },
        "tags": [],
        "id": "08799adb",
        "outputId": "2276841a-1a64-4492-ffe9-f33150ec9319",
        "colab": {
          "base_uri": "https://localhost:8080/",
          "height": 698
        }
      },
      "outputs": [
        {
          "output_type": "execute_result",
          "data": {
            "text/plain": [
              "<Axes: >"
            ]
          },
          "metadata": {},
          "execution_count": 85
        },
        {
          "output_type": "display_data",
          "data": {
            "text/plain": [
              "<Figure size 1000x800 with 2 Axes>"
            ],
            "image/png": "[encoded data removed]"
          },
          "metadata": {}
        }
      ],
      "source": [
        "plt.figure(figsize=(10,8))\n",
        "sns.heatmap(conf_mat_RF,annot=True,fmt='d')"
      ]
    },
    {
      "cell_type": "code",
      "execution_count": null,
      "id": "6cd5c12a",
      "metadata": {
        "execution": {
          "iopub.execute_input": "2021-08-10T10:25:45.298585Z",
          "iopub.status.busy": "2021-08-10T10:25:45.297551Z",
          "iopub.status.idle": "2021-08-10T10:25:45.303949Z",
          "shell.execute_reply": "2021-08-10T10:25:45.304444Z",
          "shell.execute_reply.started": "2021-08-10T10:24:29.741288Z"
        },
        "papermill": {
          "duration": 0.086512,
          "end_time": "2021-08-10T10:25:45.304617",
          "exception": false,
          "start_time": "2021-08-10T10:25:45.218105",
          "status": "completed"
        },
        "tags": [],
        "id": "6cd5c12a",
        "outputId": "96d57848-0e3c-4637-f2b1-dc4ac732d25e",
        "colab": {
          "base_uri": "https://localhost:8080/"
        }
      },
      "outputs": [
        {
          "output_type": "execute_result",
          "data": {
            "text/plain": [
              "0.9791965566714491"
            ]
          },
          "metadata": {},
          "execution_count": 86
        }
      ],
      "source": [
        "rf_acc=accuracy_score(y_test,y_pred_RF)\n",
        "rf_acc"
      ]
    },
    {
      "cell_type": "markdown",
      "id": "b36bb68e",
      "metadata": {
        "papermill": {
          "duration": 0.076798,
          "end_time": "2021-08-10T10:25:45.615339",
          "exception": false,
          "start_time": "2021-08-10T10:25:45.538541",
          "status": "completed"
        },
        "tags": [],
        "id": "b36bb68e"
      },
      "source": [
        "# Подведение итогов"
      ]
    },
    {
      "cell_type": "code",
      "execution_count": null,
      "id": "56dcb81f",
      "metadata": {
        "execution": {
          "iopub.execute_input": "2021-08-10T10:25:45.774444Z",
          "iopub.status.busy": "2021-08-10T10:25:45.773719Z",
          "iopub.status.idle": "2021-08-10T10:25:46.021856Z",
          "shell.execute_reply": "2021-08-10T10:25:46.022397Z",
          "shell.execute_reply.started": "2021-08-10T10:24:29.748674Z"
        },
        "papermill": {
          "duration": 0.329952,
          "end_time": "2021-08-10T10:25:46.022569",
          "exception": false,
          "start_time": "2021-08-10T10:25:45.692617",
          "status": "completed"
        },
        "tags": [],
        "id": "56dcb81f",
        "outputId": "eb3ab68a-f535-4150-8751-055c7dbe89fa",
        "colab": {
          "base_uri": "https://localhost:8080/",
          "height": 393
        }
      },
      "outputs": [
        {
          "output_type": "display_data",
          "data": {
            "text/plain": [
              "<Figure size 2000x800 with 1 Axes>"
            ],
            "image/png": "[encoded data removed]"
          },
          "metadata": {}
        }
      ],
      "source": [
        "menMeans = np.array([naive_acc,svm_acc,knn_acc,dt_acc,rf_acc])*100\n",
        "ind = ['Naive Bayes','SVM','KNN','DT','Random Forest']\n",
        "fig, ax = plt.subplots(figsize = (20,8))\n",
        "ax.bar(ind,menMeans,width=0.3,color ='red')\n",
        "for index,data in enumerate(menMeans):\n",
        "    plt.text(x=index , y =data+1 , s=\"{:.2f}\".format(data) , fontdict=dict(fontsize=20))\n",
        "plt.tight_layout()\n",
        "plt.show()"
      ]
    },
    {
      "cell_type": "markdown",
      "id": "147464fb",
      "metadata": {
        "papermill": {
          "duration": 0.078203,
          "end_time": "2021-08-10T10:25:46.179872",
          "exception": false,
          "start_time": "2021-08-10T10:25:46.101669",
          "status": "completed"
        },
        "tags": [],
        "id": "147464fb"
      },
      "source": [
        "# Используем обученную модель для классификации своего текста:"
      ]
    },
    {
      "cell_type": "code",
      "execution_count": null,
      "id": "71084ab2",
      "metadata": {
        "execution": {
          "iopub.execute_input": "2021-08-10T10:25:46.345376Z",
          "iopub.status.busy": "2021-08-10T10:25:46.344634Z",
          "iopub.status.idle": "2021-08-10T10:25:46.349006Z",
          "shell.execute_reply": "2021-08-10T10:25:46.349526Z",
          "shell.execute_reply.started": "2021-08-10T10:24:29.962489Z"
        },
        "papermill": {
          "duration": 0.089584,
          "end_time": "2021-08-10T10:25:46.349716",
          "exception": false,
          "start_time": "2021-08-10T10:25:46.260132",
          "status": "completed"
        },
        "tags": [],
        "id": "71084ab2"
      },
      "outputs": [],
      "source": [
        "def spam_dect(clf,txt):\n",
        "    a=clf.predict([txt])\n",
        "    if a==1:\n",
        "        print(\"This is a Spam email\")\n",
        "    else:\n",
        "        print(\"This is a Real email\")"
      ]
    },
    {
      "cell_type": "code",
      "execution_count": null,
      "id": "34c6265d",
      "metadata": {
        "execution": {
          "iopub.execute_input": "2021-08-10T10:25:46.511997Z",
          "iopub.status.busy": "2021-08-10T10:25:46.511299Z",
          "iopub.status.idle": "2021-08-10T10:25:46.516258Z",
          "shell.execute_reply": "2021-08-10T10:25:46.515497Z",
          "shell.execute_reply.started": "2021-08-10T10:24:29.970804Z"
        },
        "papermill": {
          "duration": 0.087059,
          "end_time": "2021-08-10T10:25:46.516410",
          "exception": false,
          "start_time": "2021-08-10T10:25:46.429351",
          "status": "completed"
        },
        "tags": [],
        "id": "34c6265d"
      },
      "outputs": [],
      "source": [
        "test_email_1=\"Upto 20% discount on parking, exclusive offer just for you. Dont miss this reward!\" #Spam\n",
        "test_email_2=\"Hey Ashfak, can we get together to watch footbal game tomorrow?\"   # Не спам"
      ]
    },
    {
      "cell_type": "code",
      "execution_count": null,
      "id": "6c5ddd3c",
      "metadata": {
        "execution": {
          "iopub.execute_input": "2021-08-10T10:25:46.680836Z",
          "iopub.status.busy": "2021-08-10T10:25:46.680027Z",
          "iopub.status.idle": "2021-08-10T10:25:46.685302Z",
          "shell.execute_reply": "2021-08-10T10:25:46.684608Z",
          "shell.execute_reply.started": "2021-08-10T10:24:29.983084Z"
        },
        "papermill": {
          "duration": 0.089199,
          "end_time": "2021-08-10T10:25:46.685487",
          "exception": false,
          "start_time": "2021-08-10T10:25:46.596288",
          "status": "completed"
        },
        "tags": [],
        "id": "6c5ddd3c",
        "outputId": "a5bf15a1-3e32-46cb-f186-5341ee34f457",
        "colab": {
          "base_uri": "https://localhost:8080/"
        }
      },
      "outputs": [
        {
          "output_type": "stream",
          "name": "stdout",
          "text": [
            "This is a Spam email\n"
          ]
        }
      ],
      "source": [
        "spam_dect(clf_NaiveBaised,test_email_1)"
      ]
    },
    {
      "cell_type": "code",
      "execution_count": null,
      "id": "d9c6a260",
      "metadata": {
        "execution": {
          "iopub.execute_input": "2021-08-10T10:25:46.850863Z",
          "iopub.status.busy": "2021-08-10T10:25:46.849954Z",
          "iopub.status.idle": "2021-08-10T10:25:46.855337Z",
          "shell.execute_reply": "2021-08-10T10:25:46.854648Z",
          "shell.execute_reply.started": "2021-08-10T10:24:29.997102Z"
        },
        "papermill": {
          "duration": 0.089529,
          "end_time": "2021-08-10T10:25:46.855489",
          "exception": false,
          "start_time": "2021-08-10T10:25:46.765960",
          "status": "completed"
        },
        "tags": [],
        "id": "d9c6a260",
        "outputId": "3eee852f-bee5-4b01-9629-bc2b7c0dbf00",
        "colab": {
          "base_uri": "https://localhost:8080/"
        }
      },
      "outputs": [
        {
          "output_type": "stream",
          "name": "stdout",
          "text": [
            "This is a Real email\n"
          ]
        }
      ],
      "source": [
        "spam_dect(clf_NaiveBaised,test_email_2)"
      ]
    }
  ],
  "metadata": {
    "kernelspec": {
      "display_name": "Python 3",
      "language": "python",
      "name": "python3"
    },
    "language_info": {
      "codemirror_mode": {
        "name": "ipython",
        "version": 3
      },
      "file_extension": ".py",
      "mimetype": "text/x-python",
      "name": "python",
      "nbconvert_exporter": "python",
      "pygments_lexer": "ipython3",
      "version": "3.7.10"
    },
    "papermill": {
      "default_parameters": {},
      "duration": 25.525976,
      "end_time": "2021-08-10T10:25:47.910739",
      "environment_variables": {},
      "exception": null,
      "input_path": "__notebook__.ipynb",
      "output_path": "__notebook__.ipynb",
      "parameters": {},
      "start_time": "2021-08-10T10:25:22.384763",
      "version": "2.3.3"
    },
    "colab": {
      "provenance": [],
      "collapsed_sections": [
        "0xX_DtDrQEJ6"
      ],
      "include_colab_link": true
    }
  },
  "nbformat": 4,
  "nbformat_minor": 5
}