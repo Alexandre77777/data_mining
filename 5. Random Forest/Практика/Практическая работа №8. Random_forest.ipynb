{
  "cells": [
    {
      "cell_type": "markdown",
      "metadata": {
        "id": "view-in-github",
        "colab_type": "text"
      },
      "source": [
        "<a href=\"https://colab.research.google.com/github/Alexandre77777/data_mining/blob/main/5.%20Random%20Forest/%D0%9F%D1%80%D0%B0%D0%BA%D1%82%D0%B8%D0%BA%D0%B0/%D0%9F%D1%80%D0%B0%D0%BA%D1%82%D0%B8%D1%87%D0%B5%D1%81%D0%BA%D0%B0%D1%8F%20%D1%80%D0%B0%D0%B1%D0%BE%D1%82%D0%B0%20%E2%84%968.%20Random_forest.ipynb\" target=\"_parent\"><img src=\"https://colab.research.google.com/assets/colab-badge.svg\" alt=\"Open In Colab\"/></a>"
      ]
    },
    {
      "cell_type": "markdown",
      "source": [
        "# **Практическая работа №8. Random forest**"
      ],
      "metadata": {
        "id": "0j_kTt7qVxeX"
      }
    },
    {
      "cell_type": "markdown",
      "metadata": {
        "id": "hwRT_4l_KybQ"
      },
      "source": [
        "# Задание 1. Обучите классификатор Random Forest для решения задачи бинарной классификации: для каждого человека научиться предсказывать, выживет ли он при крушении Титаника.\n",
        "\n",
        "Ссылка на датасет: https://www.kaggle.com/c/titanic/data"
      ]
    },
    {
      "cell_type": "markdown",
      "source": [
        "## 1. Устанавливаем зависимости"
      ],
      "metadata": {
        "id": "6-SQIKsyWzDK"
      }
    },
    {
      "cell_type": "code",
      "source": [
        "# Ваш код"
      ],
      "metadata": {
        "id": "rT_eTIY5W9_h"
      },
      "execution_count": null,
      "outputs": []
    },
    {
      "cell_type": "markdown",
      "source": [
        "## 2. Импортируем датасет"
      ],
      "metadata": {
        "id": "AedM9KndWzMB"
      }
    },
    {
      "cell_type": "code",
      "source": [
        "# Ваш код"
      ],
      "metadata": {
        "id": "CJ3mE4JpXGZE"
      },
      "execution_count": null,
      "outputs": []
    },
    {
      "cell_type": "markdown",
      "metadata": {
        "id": "h8LokBddKybd"
      },
      "source": [
        "## 3. Производим разведовательный анализ данных\n",
        "\n",
        "\n",
        "Получим представление о данных в датасете:"
      ]
    },
    {
      "cell_type": "code",
      "source": [
        "# Ваш код"
      ],
      "metadata": {
        "id": "yq0aqSApXhTf"
      },
      "execution_count": null,
      "outputs": []
    },
    {
      "cell_type": "markdown",
      "metadata": {
        "id": "-4VJEzN8Kybi"
      },
      "source": [
        "## 4. Сформируем обучающую и тестовую выборки:\n"
      ]
    },
    {
      "cell_type": "code",
      "source": [
        "# Ваш код"
      ],
      "metadata": {
        "id": "v40NR9NWXhy-"
      },
      "execution_count": null,
      "outputs": []
    },
    {
      "cell_type": "markdown",
      "metadata": {
        "id": "mY9E-4bBKybn"
      },
      "source": [
        "## 5. Feature Engineering\n",
        "\n",
        "Поработаем с признаками, выделим важные, изменим форму их представления (при надобности)"
      ]
    },
    {
      "cell_type": "code",
      "source": [
        "# Ваш код"
      ],
      "metadata": {
        "id": "HTK4tZTAYsQJ"
      },
      "execution_count": null,
      "outputs": []
    },
    {
      "cell_type": "markdown",
      "source": [
        "## 6. Построение базовой модели:"
      ],
      "metadata": {
        "id": "9Hpb-KlSZVMy"
      }
    },
    {
      "cell_type": "code",
      "source": [
        "# Ваш код"
      ],
      "metadata": {
        "id": "_6GkXyKGZiMy"
      },
      "execution_count": null,
      "outputs": []
    },
    {
      "cell_type": "markdown",
      "source": [
        "## 7. Оценка точности модели:"
      ],
      "metadata": {
        "id": "n-W1QwERZ8Gn"
      }
    },
    {
      "cell_type": "markdown",
      "source": [
        "### 7.1. Напишите функцию, принимающую на вход аргументы y_pred, y_test и выполняющую визуализацию матрицы ошибок и отчета классификации"
      ],
      "metadata": {
        "id": "uDy7Y4E4am69"
      }
    },
    {
      "cell_type": "code",
      "source": [
        "# Ваш код"
      ],
      "metadata": {
        "id": "O9h6cWIrZ9Le"
      },
      "execution_count": null,
      "outputs": []
    },
    {
      "cell_type": "markdown",
      "source": [
        "### 7.2. Оцените точность модели:"
      ],
      "metadata": {
        "id": "i41JeZ4jatU3"
      }
    },
    {
      "cell_type": "code",
      "source": [
        "# Ваш код"
      ],
      "metadata": {
        "id": "J6mnzmr-a55M"
      },
      "execution_count": null,
      "outputs": []
    },
    {
      "cell_type": "markdown",
      "source": [
        "## 8. Тюнинг гиперпараметров модели:"
      ],
      "metadata": {
        "id": "mGpNzrqKa-o-"
      }
    },
    {
      "cell_type": "markdown",
      "source": [
        "RandomSearchCV"
      ],
      "metadata": {
        "id": "ev_8vFTUbIQC"
      }
    },
    {
      "cell_type": "code",
      "source": [
        "# Ваш код"
      ],
      "metadata": {
        "id": "-KrLGqfEbFj6"
      },
      "execution_count": null,
      "outputs": []
    },
    {
      "cell_type": "markdown",
      "source": [
        "GridSearchCV"
      ],
      "metadata": {
        "id": "yfHfNr8mbJGg"
      }
    },
    {
      "cell_type": "code",
      "source": [
        "# Ваш код"
      ],
      "metadata": {
        "id": "LelJW7VdbKCu"
      },
      "execution_count": null,
      "outputs": []
    },
    {
      "cell_type": "markdown",
      "source": [
        "## 9. Оценка лучшей модели:"
      ],
      "metadata": {
        "id": "e8ilf308rPB8"
      }
    },
    {
      "cell_type": "code",
      "source": [
        "# Ваш код"
      ],
      "metadata": {
        "id": "Bg61rmBGrU94"
      },
      "execution_count": null,
      "outputs": []
    },
    {
      "cell_type": "markdown",
      "metadata": {
        "id": "6yaKkCFGrbcK"
      },
      "source": [
        "# Задание 2. Решите задачу из предыдущего пункта используя другие, ранее пройденные классификаторы. Сравните их точность предсказания с Random Forest"
      ]
    },
    {
      "cell_type": "code",
      "source": [
        "# Ваш код"
      ],
      "metadata": {
        "id": "L6NtNp3Pr7IT"
      },
      "execution_count": null,
      "outputs": []
    },
    {
      "cell_type": "markdown",
      "metadata": {
        "id": "Ok4UVapNuBEr"
      },
      "source": [
        "# Задание 2.1*. Реализуйте функцию, для взаимодействия с обученной Вами моделью\n",
        "\n",
        "* Функция должна принимать на вход обученную модель классификатора;\n",
        "\n",
        "* После вызова функции, у пользователя через консоль запрашиваются значения признаков. При запросе значений нужно вывести пояснения о типе и диапазоне возможных значений. Также реализуйте обработку исключений;\n",
        "\n",
        "* После ввода значений для всех признаков в консоль, выводится результат работы классификатора."
      ]
    },
    {
      "cell_type": "code",
      "source": [
        "# Ваш код\n",
        "\n",
        "\n"
      ],
      "metadata": {
        "id": "R45z2E1KwT0M"
      },
      "execution_count": null,
      "outputs": []
    },
    {
      "cell_type": "markdown",
      "metadata": {
        "id": "i2zOqwlts-2y"
      },
      "source": [
        "# Задание 3. Решите задачу регрессии, используя [RandomForestRegressor](https://scikit-learn.org/stable/modules/generated/sklearn.ensemble.RandomForestRegressor.html).\n",
        "\n",
        "* Для выполнения данного задания можете использовать **любой датасет**\n",
        "\n"
      ]
    },
    {
      "cell_type": "code",
      "source": [
        "# Ваш код"
      ],
      "metadata": {
        "id": "3fZ51f1rwUQI"
      },
      "execution_count": null,
      "outputs": []
    }
  ],
  "metadata": {
    "kernelspec": {
      "display_name": "Python 3",
      "language": "python",
      "name": "python3"
    },
    "language_info": {
      "codemirror_mode": {
        "name": "ipython",
        "version": 3
      },
      "file_extension": ".py",
      "mimetype": "text/x-python",
      "name": "python",
      "nbconvert_exporter": "python",
      "pygments_lexer": "ipython3",
      "version": "3.6.6"
    },
    "colab": {
      "provenance": [],
      "include_colab_link": true
    }
  },
  "nbformat": 4,
  "nbformat_minor": 0
}